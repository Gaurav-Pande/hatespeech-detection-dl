{
 "cells": [
  {
   "cell_type": "code",
   "execution_count": 1,
   "metadata": {
    "pycharm": {
     "is_executing": false
    }
   },
   "outputs": [
    {
     "name": "stderr",
     "output_type": "stream",
     "text": [
      "Using TensorFlow backend.\n"
     ]
    }
   ],
   "source": [
    "from keras.models import load_model\n",
    "import numpy as np\n",
    "import pickle\n",
    "import pandas as pd\n",
    "from sklearn.metrics import classification_report, confusion_matrix\n",
    "import matplotlib.pyplot as plt\n",
    "from west.load_data import read_file\n",
    "from IPython.core.display import display, HTML\n",
    "import html"
   ]
  },
  {
   "cell_type": "code",
   "execution_count": 2,
   "metadata": {},
   "outputs": [],
   "source": [
    "pd.set_option('display.max_colwidth', None)\n",
    "pd.set_option('display.max_rows', 100)"
   ]
  },
  {
   "cell_type": "code",
   "execution_count": 3,
   "metadata": {},
   "outputs": [],
   "source": [
    "def html_escape(text):\n",
    "    return html.escape(text)"
   ]
  },
  {
   "cell_type": "code",
   "execution_count": 4,
   "metadata": {},
   "outputs": [],
   "source": [
    "with open('rnn_docs_attn.pkl', 'rb') as f:\n",
    "    x, y, y_pred, y_dist, att_weights, vocabulary_inv_list = pickle.load(f)\n",
    "vocabulary = np.array(vocabulary_inv_list)"
   ]
  },
  {
   "cell_type": "code",
   "execution_count": 5,
   "metadata": {},
   "outputs": [],
   "source": [
    "sorted_indices = np.argsort(att_weights, axis=1)[:,::-1]"
   ]
  },
  {
   "cell_type": "code",
   "execution_count": 6,
   "metadata": {},
   "outputs": [],
   "source": [
    "x_idx = np.repeat(np.arange(len(x)).reshape(-1,1), sorted_indices.shape[1], axis=1)\n",
    "y_idx = sorted_indices"
   ]
  },
  {
   "cell_type": "code",
   "execution_count": 7,
   "metadata": {},
   "outputs": [],
   "source": [
    "top_words = vocabulary[x[x_idx, y_idx]]\n",
    "weights = att_weights[x_idx, y_idx]"
   ]
  },
  {
   "cell_type": "code",
   "execution_count": 8,
   "metadata": {},
   "outputs": [],
   "source": [
    "data = vocabulary[x]"
   ]
  },
  {
   "cell_type": "code",
   "execution_count": 9,
   "metadata": {},
   "outputs": [],
   "source": [
    "data_joined = []\n",
    "for i in range(data.shape[0]):\n",
    "    j = 0\n",
    "    while j < data.shape[1] and data[i][j] != '<PAD/>':\n",
    "        j += 1\n",
    "    doc = list(data[i][:j])\n",
    "    data_joined.append(\" \".join(doc))"
   ]
  },
  {
   "cell_type": "code",
   "execution_count": 10,
   "metadata": {},
   "outputs": [],
   "source": [
    "df = pd.DataFrame(columns=['data', 'y', 'y_pred'])\n",
    "# df_words = pd.DataFrame(top_words)\n",
    "# df_weights = pd.DataFrame(weights)"
   ]
  },
  {
   "cell_type": "code",
   "execution_count": 11,
   "metadata": {},
   "outputs": [],
   "source": [
    "df['data'] = data_joined\n",
    "df['y'] = y\n",
    "df['y_pred'] = y_pred"
   ]
  },
  {
   "cell_type": "code",
   "execution_count": 12,
   "metadata": {},
   "outputs": [
    {
     "name": "stdout",
     "output_type": "stream",
     "text": [
      "              precision    recall  f1-score   support\n",
      "\n",
      "           0       0.87      0.68      0.77     50287\n",
      "           1       0.43      0.73      0.54     13608\n",
      "           2       0.82      0.75      0.78     17089\n",
      "           3       0.20      0.43      0.28      2545\n",
      "\n",
      "    accuracy                           0.70     83529\n",
      "   macro avg       0.58      0.65      0.59     83529\n",
      "weighted avg       0.77      0.70      0.72     83529\n",
      "\n"
     ]
    }
   ],
   "source": [
    "print(classification_report(y, y_pred))"
   ]
  },
  {
   "cell_type": "code",
   "execution_count": 13,
   "metadata": {},
   "outputs": [
    {
     "data": {
      "image/png": "[encoded data removed]",
      "text/plain": [
       "<Figure size 360x288 with 2 Axes>"
      ]
     },
     "metadata": {
      "needs_background": "light"
     },
     "output_type": "display_data"
    }
   ],
   "source": [
    "import seaborn as sn\n",
    "cm = confusion_matrix(y, y_pred)\n",
    "cm = cm/cm.sum(axis=1, keepdims=True)\n",
    "df_cm = pd.DataFrame(cm, columns=['normal', 'spam', 'abusive', 'hateful'], index = ['normal', 'spam', 'abusive', 'hateful'])\n",
    "df_cm.index.name = 'Actual'\n",
    "df_cm.columns.name = 'Predicted'\n",
    "plt.figure(figsize = (5,4))\n",
    "sn.set(font_scale=1.4)#for label size\n",
    "sn.heatmap(df_cm, cmap=\"Blues\", annot=True,annot_kws={\"size\": 14})# font size\n",
    "plt.tight_layout()\n",
    "plt.savefig('cm.png')"
   ]
  },
  {
   "cell_type": "code",
   "execution_count": 14,
   "metadata": {},
   "outputs": [],
   "source": [
    "orig_df = pd.read_csv('/Users/sanjana/hatespeech_detection/data/hatespeech_text_label_vote_RESTRICTED_100K.csv', header=None, sep='\\t')\n",
    "orig_df.columns = ['text', 'label', 'votes']\n",
    "orig_df.drop_duplicates(subset =\"text\", keep = 'first', inplace = True) \n",
    "orig_df = orig_df[orig_df['votes'] >=3]\n",
    "orig_df = orig_df.reset_index(drop=True)\n",
    "# df['label'] = df['label'].apply(lambda x: assign_label(x))"
   ]
  },
  {
   "cell_type": "code",
   "execution_count": 15,
   "metadata": {},
   "outputs": [],
   "source": [
    "df['votes'] = orig_df['votes'].tolist()"
   ]
  },
  {
   "cell_type": "code",
   "execution_count": 16,
   "metadata": {
    "scrolled": false
   },
   "outputs": [],
   "source": [
    "ha = df[(df.y == 3) & (df.y_pred==2)].sort_values('votes', ascending=False).index.tolist()\n",
    "hh = df[(df.y == 3) & (df.y_pred==3)].sort_values('votes', ascending=False).index.tolist()\n",
    "ah = df[(df.y == 2) & (df.y_pred==3)].sort_values('votes', ascending=False).index.tolist()\n",
    "aa = df[(df.y == 2) & (df.y_pred==2)].sort_values('votes', ascending=False).index.tolist()\n",
    "hn = df[(df.y == 3) & (df.y_pred==0)].sort_values('votes', ascending=False).index.tolist()\n",
    "sn = df[(df.y == 1) & (df.y_pred==0)].sort_values('votes', ascending=False).index.tolist()\n",
    "ss = df[(df.y == 1) & (df.y_pred==1)].sort_values('votes', ascending=False).index.tolist()\n",
    "ns = df[(df.y == 0) & (df.y_pred==1)].sort_values('votes', ascending=False).index.tolist()\n",
    "nn = df[(df.y == 0) & (df.y_pred==0)].sort_values('votes', ascending=False).index.tolist()"
   ]
  },
  {
   "cell_type": "code",
   "execution_count": 17,
   "metadata": {},
   "outputs": [],
   "source": [
    "data, _ = read_file('../hatespeech', with_evaluation=True)"
   ]
  },
  {
   "cell_type": "code",
   "execution_count": 19,
   "metadata": {},
   "outputs": [],
   "source": [
    "# import pickle\n",
    "# with open('/Users/sanjana/Text-Attention-Heatmap-Visualization/attn.pkl', 'wb') as f:\n",
    "#     pickle.dump((data, df, att_weights), f)"
   ]
  },
  {
   "cell_type": "code",
   "execution_count": 37,
   "metadata": {
    "scrolled": false
   },
   "outputs": [
    {
     "data": {
      "text/html": [
       "<span style=\"background-color:rgba(255,0,0,0.0038849652628414333);\">you</span> <span style=\"background-color:rgba(255,0,0,0.0007835475844331086);\">bet</span> <span style=\"background-color:rgba(255,0,0,0.0008969420741777867);\">your</span> <span style=\"background-color:rgba(255,0,0,0.09059632197022438);\">fucking</span> <span style=\"background-color:rgba(255,0,0,0.6422089040279388);\">ass</span> <span style=\"background-color:rgba(255,0,0,0.39123039692640305);\">imma</span> <span style=\"background-color:rgba(255,0,0,0.035955829080194235);\">go</span> <span style=\"background-color:rgba(255,0,0,0.006424929015338421);\">to</span> <span style=\"background-color:rgba(255,0,0,0.0020265653438400477);\">nxt</span> <span style=\"background-color:rgba(255,0,0,0.0018873711815103889);\">takeover</span> <span style=\"background-color:rgba(255,0,0,0.0004534019171842374);\">chicago</span>"
      ],
      "text/plain": [
       "<IPython.core.display.HTML object>"
      ]
     },
     "metadata": {},
     "output_type": "display_data"
    },
    {
     "data": {
      "text/html": [
       "rt @isabelaseraffim: <span style=\"background-color:rgba(255,0,0,4.1128155316982884e-05);\">insomnia</span> ain't <span style=\"background-color:rgba(255,0,0,0.0258798454888165);\">a</span> <span style=\"background-color:rgba(255,0,0,0.027258098125457764);\">joke</span> <span style=\"background-color:rgba(255,0,0,0.326334685087204);\">bruh</span> i'm <span style=\"background-color:rgba(255,0,0,0.04162253346294165);\">really</span> <span style=\"background-color:rgba(255,0,0,0.0258798454888165);\">a</span> <span style=\"background-color:rgba(255,0,0,0.5193883180618286);\">fucking</span> <span style=\"background-color:rgba(255,0,0,0.1028177049010992);\">zombie</span> <span style=\"background-color:rgba(255,0,0,0.03787321737036109);\">at</span> <span style=\"background-color:rgba(255,0,0,0.010967951966449618);\">this</span> <span style=\"background-color:rgba(255,0,0,0.02318496350198984);\">point</span>"
      ],
      "text/plain": [
       "<IPython.core.display.HTML object>"
      ]
     },
     "metadata": {},
     "output_type": "display_data"
    },
    {
     "data": {
      "text/html": [
       "<span style=\"background-color:rgba(255,0,0,0.07736389525234699);\">damn</span> <span style=\"background-color:rgba(255,0,0,0.38834575563669205);\">niggas</span> <span style=\"background-color:rgba(255,0,0,0.03470184514299035);\">was</span> <span style=\"background-color:rgba(255,0,0,0.13644294813275337);\">comparing</span> <span style=\"background-color:rgba(255,0,0,0.02381562488153577);\">this</span> <span style=\"background-color:rgba(255,0,0,0.011707466328516603);\">season</span> <span style=\"background-color:rgba(255,0,0,0.003879798750858754);\">to</span> <span style=\"background-color:rgba(255,0,0,0.004699481942225248);\">the</span> <span style=\"background-color:rgba(255,0,0,0.005306552047841251);\">farm</span> <span style=\"background-color:rgba(255,0,0,0.002129411732312292);\">which</span> <span style=\"background-color:rgba(255,0,0,0.00979187898337841);\">is</span> <span style=\"background-color:rgba(255,0,0,0.05775810219347477);\">really</span> <span style=\"background-color:rgba(255,0,0,0.3688143193721771);\">bad</span> https://t.co/ovcberczdc"
      ],
      "text/plain": [
       "<IPython.core.display.HTML object>"
      ]
     },
     "metadata": {},
     "output_type": "display_data"
    },
    {
     "data": {
      "text/html": [
       "rt @lxgicai: hell, sweetie. <span style=\"background-color:rgba(255,0,0,0.04755302798002958);\">im</span> <span style=\"background-color:rgba(255,0,0,0.039491839706897736);\">so</span> sorry, <span style=\"background-color:rgba(255,0,0,0.04755302798002958);\">im</span> <span style=\"background-color:rgba(255,0,0,0.039491839706897736);\">so</span> <span style=\"background-color:rgba(255,0,0,0.07750540971755981);\">sorry</span> <span style=\"background-color:rgba(255,0,0,0.003513899282552302);\">that</span> <span style=\"background-color:rgba(255,0,0,0.002831656893249601);\">an</span> <span style=\"background-color:rgba(255,0,0,0.14711273834109306);\">ugly</span> <span style=\"background-color:rgba(255,0,0,0.2623922936618328);\">ass</span> <span style=\"background-color:rgba(255,0,0,0.38991909474134445);\">bitch</span> <span style=\"background-color:rgba(255,0,0,0.026696394197642803);\">like</span> <span style=\"background-color:rgba(255,0,0,0.0026382406940683722);\">this</span> <span style=\"background-color:rgba(255,0,0,0.001196685989270918);\">would</span> <span style=\"background-color:rgba(255,0,0,0.0021260247740428895);\">even</span> <span style=\"background-color:rgba(255,0,0,0.006322399713099003);\">say</span> that, <span style=\"background-color:rgba(255,0,0,0.009339023963548243);\">oh</span> <span style=\"background-color:rgba(255,0,0,0.004798997542820871);\">my</span> god. https://t.co/yw59uw6q…"
      ],
      "text/plain": [
       "<IPython.core.display.HTML object>"
      ]
     },
     "metadata": {},
     "output_type": "display_data"
    },
    {
     "data": {
      "text/html": [
       "@mish7r they're <span style=\"background-color:rgba(255,0,0,0.012283262331038713);\">lesbian</span> <span style=\"background-color:rgba(255,0,0,0.015756270149722695);\">because</span> <span style=\"background-color:rgba(255,0,0,0.004576995852403343);\">of</span> <span style=\"background-color:rgba(255,0,0,0.3581155464053154);\">ugly</span> <span style=\"background-color:rgba(255,0,0,0.7768504321575165);\">ass</span> <span style=\"background-color:rgba(255,0,0,0.0269424170255661);\">men</span> <span style=\"background-color:rgba(255,0,0,0.013167200377210975);\">like</span> you. https://t.co/om2tcsqmo3"
      ],
      "text/plain": [
       "<IPython.core.display.HTML object>"
      ]
     },
     "metadata": {},
     "output_type": "display_data"
    },
    {
     "data": {
      "text/html": [
       "rt @macktology101: <span style=\"background-color:rgba(255,0,0,0.0012677698396146297);\">you</span> <span style=\"background-color:rgba(255,0,0,0.043968651443719864);\">hoes</span> <span style=\"background-color:rgba(255,0,0,0.006845731404609978);\">getting</span> <span style=\"background-color:rgba(255,0,0,0.20013269037008286);\">mad</span> <span style=\"background-color:rgba(255,0,0,0.05289535503834486);\">at</span> me...i'm <span style=\"background-color:rgba(255,0,0,0.018276761984452605);\">just</span> tweeting...get <span style=\"background-color:rgba(255,0,0,0.20013269037008286);\">mad</span> <span style=\"background-color:rgba(255,0,0,0.05289535503834486);\">at</span> <span style=\"background-color:rgba(255,0,0,0.01746848109178245);\">the</span> <span style=\"background-color:rgba(255,0,0,0.39083369076251984);\">nigga</span> <span style=\"background-color:rgba(255,0,0,0.056482651270926);\">who</span> <span style=\"background-color:rgba(255,0,0,0.14597108587622643);\">cheated</span> <span style=\"background-color:rgba(255,0,0,0.015680938959121704);\">on</span> <span style=\"background-color:rgba(255,0,0,0.013030045665800571);\">u</span>"
      ],
      "text/plain": [
       "<IPython.core.display.HTML object>"
      ]
     },
     "metadata": {},
     "output_type": "display_data"
    },
    {
     "data": {
      "text/html": [
       "rt @whyarmahni: <span style=\"background-color:rgba(255,0,0,0.16990313306450844);\">y&#x27;all</span> <span style=\"background-color:rgba(255,0,0,0.05187075585126877);\">niggas</span> <span style=\"background-color:rgba(255,0,0,0.021275680046528578);\">so</span> <span style=\"background-color:rgba(255,0,0,0.12180337682366371);\">damn</span> <span style=\"background-color:rgba(255,0,0,0.5531952157616615);\">stupid</span> <span style=\"background-color:rgba(255,0,0,0.03077703295275569);\">i</span> <span style=\"background-color:rgba(255,0,0,0.27026910334825516);\">hate</span> <span style=\"background-color:rgba(255,0,0,0.16990313306450844);\">y&#x27;all</span>"
      ],
      "text/plain": [
       "<IPython.core.display.HTML object>"
      ]
     },
     "metadata": {},
     "output_type": "display_data"
    },
    {
     "data": {
      "text/html": [
       "rt @la21savage: <span style=\"background-color:rgba(255,0,0,0.0035955087514594197);\">how</span> <span style=\"background-color:rgba(255,0,0,0.004642542626243085);\">you</span> <span style=\"background-color:rgba(255,0,0,0.03530956571921706);\">gonna</span> <span style=\"background-color:rgba(255,0,0,0.01690863282419741);\">let</span> <span style=\"background-color:rgba(255,0,0,0.022918356116861105);\">a</span> <span style=\"background-color:rgba(255,0,0,0.8798148483037949);\">nigga</span> <span style=\"background-color:rgba(255,0,0,0.05808675196021795);\">with</span> <span style=\"background-color:rgba(255,0,0,0.02036533784121275);\">no</span> <span style=\"background-color:rgba(255,0,0,0.019191496539860964);\">car</span> <span style=\"background-color:rgba(255,0,0,0.012880869908258319);\">drive</span> <span style=\"background-color:rgba(255,0,0,0.004642542626243085);\">you</span> <span style=\"background-color:rgba(255,0,0,0.07727314252406359);\">crazy</span> &#129300;&#129300;"
      ],
      "text/plain": [
       "<IPython.core.display.HTML object>"
      ]
     },
     "metadata": {},
     "output_type": "display_data"
    },
    {
     "data": {
      "text/html": [
       "<span style=\"background-color:rgba(255,0,0,0.0003506712891976349);\">and</span> <span style=\"background-color:rgba(255,0,0,0.0004547078788164072);\">now</span> <span style=\"background-color:rgba(255,0,0,0.0011658418225124478);\">people</span> <span style=\"background-color:rgba(255,0,0,0.002405458508292213);\">are</span> <span style=\"background-color:rgba(255,0,0,0.0032248900970444083);\">threatening</span> <span style=\"background-color:rgba(255,0,0,0.0026162381982430816);\">the</span> <span style=\"background-color:rgba(255,0,0,0.0013573757314588875);\">gotham</span> twitter, i'm done. <span style=\"background-color:rgba(255,0,0,0.002064492437057197);\">this</span> <span style=\"background-color:rgba(255,0,0,0.006516974535770714);\">fandom</span> <span style=\"background-color:rgba(255,0,0,0.005682151531800628);\">is</span> <span style=\"background-color:rgba(255,0,0,0.01263638841919601);\">too</span> <span style=\"background-color:rgba(255,0,0,0.14209414832293987);\">goddamn</span> disgusting."
      ],
      "text/plain": [
       "<IPython.core.display.HTML object>"
      ]
     },
     "metadata": {},
     "output_type": "display_data"
    },
    {
     "data": {
      "text/html": [
       "rt @bukakewetdream: <span style=\"background-color:rgba(255,0,0,0.0012113070988561958);\">yous</span> <span style=\"background-color:rgba(255,0,0,0.0014881737297400832);\">a</span> <span style=\"background-color:rgba(255,0,0,0.04205654840916395);\">fuck</span> <span style=\"background-color:rgba(255,0,0,0.23198237642645836);\">nigga</span> <span style=\"background-color:rgba(255,0,0,0.1935909502208233);\">bitch</span> <span style=\"background-color:rgba(255,0,0,0.021715755574405193);\">i</span> <span style=\"background-color:rgba(255,0,0,0.2158648893237114);\">hate</span> <span style=\"background-color:rgba(255,0,0,0.007306514889933169);\">your</span> <span style=\"background-color:rgba(255,0,0,0.01678395550698042);\">guts</span> <span style=\"background-color:rgba(255,0,0,0.1935909502208233);\">bitch</span> https://t.co/vrfhb8fiyy"
      ],
      "text/plain": [
       "<IPython.core.display.HTML object>"
      ]
     },
     "metadata": {},
     "output_type": "display_data"
    },
    {
     "data": {
      "text/html": [
       "rt @gud_bwa_fon: <span style=\"background-color:rgba(255,0,0,0.1905173808336258);\">goat</span> <span style=\"background-color:rgba(255,0,0,0.8532053232192993);\">fucking</span> #muslims <span style=\"background-color:rgba(255,0,0,0.04504639655351639);\">need</span> <span style=\"background-color:rgba(255,0,0,0.0061591173289343715);\">to</span> <span style=\"background-color:rgba(255,0,0,0.0698591535910964);\">die</span> https://t.co/sbqru4dyqu"
      ],
      "text/plain": [
       "<IPython.core.display.HTML object>"
      ]
     },
     "metadata": {},
     "output_type": "display_data"
    },
    {
     "data": {
      "text/html": [
       "<span style=\"background-color:rgba(255,0,0,0.002516989188734442);\">sorry</span> <span style=\"background-color:rgba(255,0,0,0.002378520730417222);\">say</span> <span style=\"background-color:rgba(255,0,0,0.0007507326517952606);\">but</span> <span style=\"background-color:rgba(255,0,0,0.0010251007188344374);\">i</span> <span style=\"background-color:rgba(255,0,0,0.050120316445827484);\">hate</span> <span style=\"background-color:rgba(255,0,0,0.010135256452485919);\">a</span> <span style=\"background-color:rgba(255,0,0,0.18319154158234596);\">lying</span> <span style=\"background-color:rgba(255,0,0,0.3578687086701393);\">ass</span> <span style=\"background-color:rgba(255,0,0,0.2477775700390339);\">females</span> <span style=\"background-color:rgba(255,0,0,0.34877248108386993);\">bitch</span> <span style=\"background-color:rgba(255,0,0,0.024994600098580122);\">tell</span> <span style=\"background-color:rgba(255,0,0,0.0027562218019738793);\">the</span> <span style=\"background-color:rgba(255,0,0,0.00830870820209384);\">truth</span>"
      ],
      "text/plain": [
       "<IPython.core.display.HTML object>"
      ]
     },
     "metadata": {},
     "output_type": "display_data"
    },
    {
     "data": {
      "text/html": [
       "rt @lalocanaj: <span style=\"background-color:rgba(255,0,0,0.002131510409526527);\">now</span> <span style=\"background-color:rgba(255,0,0,0.008494301582686603);\">my</span> <span style=\"background-color:rgba(255,0,0,0.01110847108066082);\">heart</span> <span style=\"background-color:rgba(255,0,0,0.11480285786092281);\">cold</span> <span style=\"background-color:rgba(255,0,0,0.009505775524303317);\">and</span> i'm <span style=\"background-color:rgba(255,0,0,0.03423687536269426);\">looking</span> <span style=\"background-color:rgba(255,0,0,0.006009434582665563);\">for</span> <span style=\"background-color:rgba(255,0,0,0.008494301582686603);\">my</span> revenge, i'm <span style=\"background-color:rgba(255,0,0,0.2595795691013336);\">fucking</span> <span style=\"background-color:rgba(255,0,0,0.022238048259168863);\">with</span> <span style=\"background-color:rgba(255,0,0,0.3122781775891781);\">niggas</span> <span style=\"background-color:rgba(255,0,0,0.17189888283610344);\">heads</span> <span style=\"background-color:rgba(255,0,0,0.009505775524303317);\">and</span> <span style=\"background-color:rgba(255,0,0,0.00784537405706942);\">they</span> <span style=\"background-color:rgba(255,0,0,0.0139997573569417);\">paying</span> <span style=\"background-color:rgba(255,0,0,0.006009434582665563);\">for</span> <span style=\"background-color:rgba(255,0,0,0.009782256092876196);\">what</span> <span style=\"background-color:rgba(255,0,0,0.01749917631968856);\">he</span> did."
      ],
      "text/plain": [
       "<IPython.core.display.HTML object>"
      ]
     },
     "metadata": {},
     "output_type": "display_data"
    },
    {
     "data": {
      "text/html": [
       "<span style=\"background-color:rgba(255,0,0,0.010842734482139349);\">i</span> <span style=\"background-color:rgba(255,0,0,0.05199986509978771);\">fucking</span> <span style=\"background-color:rgba(255,0,0,0.46298887580633163);\">hate</span> bryce. <span style=\"background-color:rgba(255,0,0,0.032791115809232);\">that</span> <span style=\"background-color:rgba(255,0,0,0.005139451241120696);\">episode</span> <span style=\"background-color:rgba(255,0,0,0.0035425255191512406);\">was</span> <span style=\"background-color:rgba(255,0,0,0.016889958642423153);\">so</span> <span style=\"background-color:rgba(255,0,0,0.014286183286458254);\">triggering</span> <span style=\"background-color:rgba(255,0,0,0.010842734482139349);\">i</span> <span style=\"background-color:rgba(255,0,0,0.01264164224267006);\">almost</span> <span style=\"background-color:rgba(255,0,0,0.05044328048825264);\">cried</span>"
      ],
      "text/plain": [
       "<IPython.core.display.HTML object>"
      ]
     },
     "metadata": {},
     "output_type": "display_data"
    },
    {
     "data": {
      "text/html": [
       "rt @oliviaalliya: <span style=\"background-color:rgba(255,0,0,0.007847800734452903);\">i</span> <span style=\"background-color:rgba(255,0,0,0.1092818658798933);\">fucking</span> <span style=\"background-color:rgba(255,0,0,0.9730080515146255);\">hate</span> leo's...now <span style=\"background-color:rgba(255,0,0,0.007847800734452903);\">i</span> <span style=\"background-color:rgba(255,0,0,0.001663342263782397);\">get</span> <span style=\"background-color:rgba(255,0,0,0.002806810080073774);\">it</span>"
      ],
      "text/plain": [
       "<IPython.core.display.HTML object>"
      ]
     },
     "metadata": {},
     "output_type": "display_data"
    },
    {
     "data": {
      "text/html": [
       "@mr_jay021 @joethe5how @oreadebanjo <span style=\"background-color:rgba(255,0,0,0.3460867702960968);\">ugly</span> <span style=\"background-color:rgba(255,0,0,0.7894564419984818);\">niggas</span> <span style=\"background-color:rgba(255,0,0,0.012520345626398921);\">link</span> <span style=\"background-color:rgba(255,0,0,0.024535369593650103);\">up</span> #unlu"
      ],
      "text/plain": [
       "<IPython.core.display.HTML object>"
      ]
     },
     "metadata": {},
     "output_type": "display_data"
    },
    {
     "data": {
      "text/html": [
       "rt @arigmatica: <span style=\"background-color:rgba(255,0,0,0.0034667004365473986);\">i</span> <span style=\"background-color:rgba(255,0,0,0.10078362189233303);\">fucking</span> <span style=\"background-color:rgba(255,0,0,0.897342637181282);\">hate</span> <span style=\"background-color:rgba(255,0,0,0.17761055380105972);\">sean</span> https://t.co/xk5c8qorgd"
      ],
      "text/plain": [
       "<IPython.core.display.HTML object>"
      ]
     },
     "metadata": {},
     "output_type": "display_data"
    },
    {
     "data": {
      "text/html": [
       "rt @heaavenxo: <span style=\"background-color:rgba(255,0,0,0.0006531865074066445);\">if</span> <span style=\"background-color:rgba(255,0,0,0.0016054982552304864);\">a</span> <span style=\"background-color:rgba(255,0,0,0.08817478083074093);\">nigga</span> <span style=\"background-color:rgba(255,0,0,0.011874992633238435);\">go</span> <span style=\"background-color:rgba(255,0,0,0.0022647656442131847);\">to</span> <span style=\"background-color:rgba(255,0,0,0.007180481916293502);\">sleep</span> <span style=\"background-color:rgba(255,0,0,0.012476749252527952);\">knowing</span> <span style=\"background-color:rgba(255,0,0,0.005094932275824249);\">you</span> mad, <span style=\"background-color:rgba(255,0,0,0.6011552736163139);\">yea</span> <span style=\"background-color:rgba(255,0,0,0.098253283649683);\">he</span> don't <span style=\"background-color:rgba(255,0,0,0.0199351878836751);\">gaf</span> <span style=\"background-color:rgba(255,0,0,0.08185219019651413);\">bout</span> u&#128557;&#128569;"
      ],
      "text/plain": [
       "<IPython.core.display.HTML object>"
      ]
     },
     "metadata": {},
     "output_type": "display_data"
    },
    {
     "data": {
      "text/html": [
       "rt @avatarcmoney: me: <span style=\"background-color:rgba(255,0,0,0.005236660945229232);\">i</span> <span style=\"background-color:rgba(255,0,0,0.10695938020944595);\">hate</span> you. <span style=\"background-color:rgba(255,0,0,0.005236660945229232);\">i</span> can't <span style=\"background-color:rgba(255,0,0,0.01423455192707479);\">stand</span> you. <span style=\"background-color:rgba(255,0,0,0.06661346182227135);\">fuck</span> you. <span style=\"background-color:rgba(255,0,0,0.21772220730781555);\">ugly</span> <span style=\"background-color:rgba(255,0,0,0.3544100373983383);\">ass</span> nigga. <span style=\"background-color:rgba(255,0,0,0.00742624921258539);\">also</span> me: https://t.co/eieux2d4xy"
      ],
      "text/plain": [
       "<IPython.core.display.HTML object>"
      ]
     },
     "metadata": {},
     "output_type": "display_data"
    },
    {
     "data": {
      "text/html": [
       "<span style=\"background-color:rgba(255,0,0,0.019418966257944703);\">nails</span> <span style=\"background-color:rgba(255,0,0,0.01682483241893351);\">done</span> <span style=\"background-color:rgba(255,0,0,0.01049261656589806);\">hair</span> <span style=\"background-color:rgba(255,0,0,0.01682483241893351);\">done</span> <span style=\"background-color:rgba(255,0,0,0.03689917270094156);\">toes</span> <span style=\"background-color:rgba(255,0,0,0.01682483241893351);\">done</span> .. <span style=\"background-color:rgba(255,0,0,0.03177688689902425);\">why</span> <span style=\"background-color:rgba(255,0,0,0.010877352906391025);\">you</span> <span style=\"background-color:rgba(255,0,0,0.5592717230319977);\">mad</span> <span style=\"background-color:rgba(255,0,0,0.15280203893780708);\">at</span> <span style=\"background-color:rgba(255,0,0,0.08795592933893204);\">me</span> <span style=\"background-color:rgba(255,0,0,0.013909533154219389);\">for</span> <span style=\"background-color:rgba(255,0,0,0.002114894596161321);\">shopping</span> <span style=\"background-color:rgba(255,0,0,0.003357454261276871);\">my</span> <span style=\"background-color:rgba(255,0,0,0.1673869602382183);\">nigga</span>"
      ],
      "text/plain": [
       "<IPython.core.display.HTML object>"
      ]
     },
     "metadata": {},
     "output_type": "display_data"
    },
    {
     "data": {
      "text/html": [
       "rt @uberfactsniggas: 92% <span style=\"background-color:rgba(255,0,0,0.000938399025471881);\">of</span> <span style=\"background-color:rgba(255,0,0,0.17855318263173103);\">ugly</span> <span style=\"background-color:rgba(255,0,0,0.6838066875934601);\">niggas</span> <span style=\"background-color:rgba(255,0,0,0.1269118022173643);\">just</span> <span style=\"background-color:rgba(255,0,0,0.023320619948208332);\">want</span> <span style=\"background-color:rgba(255,0,0,0.01652218052186072);\">a</span> hug."
      ],
      "text/plain": [
       "<IPython.core.display.HTML object>"
      ]
     },
     "metadata": {},
     "output_type": "display_data"
    },
    {
     "data": {
      "text/html": [
       "\"two <span style=\"background-color:rgba(255,0,0,0.00046908662625355646);\">things</span> <span style=\"background-color:rgba(255,0,0,0.0007175377686508);\">that</span> <span style=\"background-color:rgba(255,0,0,0.0015236328181345016);\">i</span> <span style=\"background-color:rgba(255,0,0,0.004897839389741421);\">just</span> can't respect.... <span style=\"background-color:rgba(255,0,0,0.007023717043921351);\">a</span> <span style=\"background-color:rgba(255,0,0,0.10244239121675491);\">fuck</span> <span style=\"background-color:rgba(255,0,0,0.44969480484724045);\">nigga</span> <span style=\"background-color:rgba(255,0,0,0.012085635680705309);\">and</span> <span style=\"background-color:rgba(255,0,0,0.007023717043921351);\">a</span> <span style=\"background-color:rgba(255,0,0,0.02959428122267127);\">lyin</span> <span style=\"background-color:rgba(255,0,0,0.1830829679965973);\">ass</span> bitch\" @youngdolph dolphhhhh!!!"
      ],
      "text/plain": [
       "<IPython.core.display.HTML object>"
      ]
     },
     "metadata": {},
     "output_type": "display_data"
    },
    {
     "data": {
      "text/html": [
       "<span style=\"background-color:rgba(255,0,0,0.0019555217295419425);\">i</span> <span style=\"background-color:rgba(255,0,0,0.1108595822006464);\">hate</span> <span style=\"background-color:rgba(255,0,0,0.03358225803822279);\">a</span> <span style=\"background-color:rgba(255,0,0,0.035238293930888176);\">mice</span> <span style=\"background-color:rgba(255,0,0,0.04587750881910324);\">head</span> <span style=\"background-color:rgba(255,0,0,0.23848015815019608);\">nigga</span> <span style=\"background-color:rgba(255,0,0,0.014441900420933962);\">that</span> <span style=\"background-color:rgba(255,0,0,0.004853036953136325);\">want</span> <span style=\"background-color:rgba(255,0,0,0.03358225803822279);\">a</span> <span style=\"background-color:rgba(255,0,0,0.21504653617739677);\">bitch</span> <span style=\"background-color:rgba(255,0,0,0.032360346522182226);\">all</span> <span style=\"background-color:rgba(255,0,0,0.004867566749453545);\">to</span> <span style=\"background-color:rgba(255,0,0,0.0046812769141979516);\">they</span> <span style=\"background-color:rgba(255,0,0,0.003438697021920234);\">self</span> <span style=\"background-color:rgba(255,0,0,0.0038300748565234244);\">but</span> <span style=\"background-color:rgba(255,0,0,0.007251486531458795);\">be</span> <span style=\"background-color:rgba(255,0,0,0.05244952626526356);\">micen</span> <span style=\"background-color:rgba(255,0,0,0.058991359546780586);\">like</span> <span style=\"background-color:rgba(255,0,0,0.03358225803822279);\">a</span> <span style=\"background-color:rgba(255,0,0,0.2928798273205757);\">mf</span> &#128529;"
      ],
      "text/plain": [
       "<IPython.core.display.HTML object>"
      ]
     },
     "metadata": {},
     "output_type": "display_data"
    },
    {
     "data": {
      "text/html": [
       "@wez_khalifa99 <span style=\"background-color:rgba(255,0,0,0.009130843682214618);\">and</span> <span style=\"background-color:rgba(255,0,0,0.0007076661131577566);\">once</span> <span style=\"background-color:rgba(255,0,0,0.0018977491708938032);\">he</span> <span style=\"background-color:rgba(255,0,0,0.05078184884041548);\">called</span> <span style=\"background-color:rgba(255,0,0,0.02807850716635585);\">me</span> <span style=\"background-color:rgba(255,0,0,0.002576547849457711);\">an</span> <span style=\"background-color:rgba(255,0,0,0.05416970234364271);\">ungrateful</span> <span style=\"background-color:rgba(255,0,0,0.36476247012615204);\">bitch</span> <span style=\"background-color:rgba(255,0,0,0.009130843682214618);\">and</span> <span style=\"background-color:rgba(255,0,0,0.19881689921021461);\">retarded</span> <span style=\"background-color:rgba(255,0,0,0.4602409899234772);\">nigga</span> <span style=\"background-color:rgba(255,0,0,0.025511521380394697);\">in</span> <span style=\"background-color:rgba(255,0,0,0.002576547849457711);\">an</span> argument. it's <span style=\"background-color:rgba(255,0,0,0.002791680453810841);\">how</span> <span style=\"background-color:rgba(255,0,0,0.0030055426759645343);\">we</span> argued. now… https://t.co/wu2tgdphk6"
      ],
      "text/plain": [
       "<IPython.core.display.HTML object>"
      ]
     },
     "metadata": {},
     "output_type": "display_data"
    },
    {
     "data": {
      "text/html": [
       "@cernovich <span style=\"background-color:rgba(255,0,0,0.0038904996472410858);\">you</span> can't <span style=\"background-color:rgba(255,0,0,0.0015982860350050032);\">answer</span> <span style=\"background-color:rgba(255,0,0,0.0015071890084072948);\">the</span> <span style=\"background-color:rgba(255,0,0,0.0025151719455607235);\">question</span> <span style=\"background-color:rgba(255,0,0,0.008366972324438393);\">because</span> <span style=\"background-color:rgba(255,0,0,0.0038904996472410858);\">you</span> <span style=\"background-color:rgba(255,0,0,0.008809709106571972);\">already</span> <span style=\"background-color:rgba(255,0,0,0.005657218862324953);\">know</span> <span style=\"background-color:rgba(255,0,0,0.003948404919356108);\">that</span> <span style=\"background-color:rgba(255,0,0,0.002095303061651066);\">if</span> <span style=\"background-color:rgba(255,0,0,0.015449142083525658);\">assad</span> <span style=\"background-color:rgba(255,0,0,0.022699208930134773);\">did</span> <span style=\"background-color:rgba(255,0,0,0.20486259832978249);\">kill</span> <span style=\"background-color:rgba(255,0,0,0.015021372819319367);\">your</span> <span style=\"background-color:rgba(255,0,0,0.3819991275668144);\">ugly</span> <span style=\"background-color:rgba(255,0,0,0.48211678862571716);\">ass</span> <span style=\"background-color:rgba(255,0,0,0.0713284220546484);\">wife</span> &amp; baby… https://t.co/frbxnyc7ev"
      ],
      "text/plain": [
       "<IPython.core.display.HTML object>"
      ]
     },
     "metadata": {},
     "output_type": "display_data"
    },
    {
     "data": {
      "text/html": [
       "<span style=\"background-color:rgba(255,0,0,0.0018025028111878783);\">i</span> <span style=\"background-color:rgba(255,0,0,0.1021848525851965);\">hate</span> <span style=\"background-color:rgba(255,0,0,0.0010356023267377168);\">wen</span> <span style=\"background-color:rgba(255,0,0,0.0019893953867722303);\">a</span> <span style=\"background-color:rgba(255,0,0,0.3577883541584015);\">nigga</span> <span style=\"background-color:rgba(255,0,0,0.06654650904238224);\">wanna</span> <span style=\"background-color:rgba(255,0,0,0.005925776204094291);\">ig</span> <span style=\"background-color:rgba(255,0,0,0.00014334896150103305);\">pop</span> <span style=\"background-color:rgba(255,0,0,3.4492945815145504e-05);\">6ut</span> <span style=\"background-color:rgba(255,0,0,0.0010356023267377168);\">wen</span> <span style=\"background-color:rgba(255,0,0,0.0041118275839835405);\">u</span> <span style=\"background-color:rgba(255,0,0,0.0026494156918488443);\">ask</span> <span style=\"background-color:rgba(255,0,0,0.0008825887198327109);\">for</span> <span style=\"background-color:rgba(255,0,0,0.0019893953867722303);\">a</span> <span style=\"background-color:rgba(255,0,0,0.0014906760770827532);\">address</span> <span style=\"background-color:rgba(255,0,0,0.0026945708668790758);\">they</span> <span style=\"background-color:rgba(255,0,0,0.010036635212600231);\">still</span> <span style=\"background-color:rgba(255,0,0,0.009479323052801192);\">be</span> <span style=\"background-color:rgba(255,0,0,0.004409617686178535);\">igpoping</span> <span style=\"background-color:rgba(255,0,0,0.01652869745157659);\">like</span> <span style=\"background-color:rgba(255,0,0,0.31320806592702866);\">damn</span> <span style=\"background-color:rgba(255,0,0,0.0041118275839835405);\">u</span> <span style=\"background-color:rgba(255,0,0,0.001988058938877657);\">wasteing</span> <span style=\"background-color:rgba(255,0,0,0.0023865500406827778);\">my</span> <span style=\"background-color:rgba(255,0,0,0.0018605297373142093);\">time</span> <span style=\"background-color:rgba(255,0,0,0.0012640544446185231);\">if</span> <span style=\"background-color:rgba(255,0,0,0.0041118275839835405);\">u</span> <span style=\"background-color:rgba(255,0,0,0.009013236849568784);\">not</span> <span style=\"background-color:rgba(255,0,0,0.021502948366105556);\">trying</span> <span style=\"background-color:rgba(255,0,0,0.020746162626892328);\">hit</span> <span style=\"background-color:rgba(255,0,0,0.006354677607305348);\">or</span> <span style=\"background-color:rgba(255,0,0,0.012328700395300984);\">shoot</span>"
      ],
      "text/plain": [
       "<IPython.core.display.HTML object>"
      ]
     },
     "metadata": {},
     "output_type": "display_data"
    },
    {
     "data": {
      "text/html": [
       "@mrab0veaverage @ozziee19 @cbergs_ @fierymotive <span style=\"background-color:rgba(255,0,0,0.010693618096411228);\">you</span> <span style=\"background-color:rgba(255,0,0,0.4888731613755226);\">fucking</span> <span style=\"background-color:rgba(255,0,0,0.366155169904232);\">hindus</span>"
      ],
      "text/plain": [
       "<IPython.core.display.HTML object>"
      ]
     },
     "metadata": {},
     "output_type": "display_data"
    },
    {
     "data": {
      "text/html": [
       "<span style=\"background-color:rgba(255,0,0,0.0008680476457811892);\">this</span> <span style=\"background-color:rgba(255,0,0,0.17299434170126915);\">nigga</span> <span style=\"background-color:rgba(255,0,0,0.018210767302662134);\">was</span> <span style=\"background-color:rgba(255,0,0,0.017380679491907358);\">so</span> <span style=\"background-color:rgba(255,0,0,0.3287552669644356);\">mad</span> <span style=\"background-color:rgba(255,0,0,0.04012467339634895);\">i</span> <span style=\"background-color:rgba(255,0,0,0.006400327547453344);\">had</span> <span style=\"background-color:rgba(255,0,0,0.006428058841265738);\">a</span> <span style=\"background-color:rgba(255,0,0,0.17299434170126915);\">nigga</span> <span style=\"background-color:rgba(255,0,0,0.032366837840527296);\">he</span> <span style=\"background-color:rgba(255,0,0,0.0745590589940548);\">literally</span> <span style=\"background-color:rgba(255,0,0,0.018210767302662134);\">was</span> <span style=\"background-color:rgba(255,0,0,0.06802089978009462);\">telling</span> <span style=\"background-color:rgba(255,0,0,0.03826588857918978);\">me</span> <span style=\"background-color:rgba(255,0,0,0.025546117685735226);\">everything</span> <span style=\"background-color:rgba(255,0,0,0.010151703609153628);\">my</span> <span style=\"background-color:rgba(255,0,0,0.17299434170126915);\">nigga</span> <span style=\"background-color:rgba(255,0,0,0.00876212609000504);\">and</span> <span style=\"background-color:rgba(255,0,0,0.01126386341638863);\">his</span> <span style=\"background-color:rgba(255,0,0,0.052339741960167885);\">bm</span> <span style=\"background-color:rgba(255,0,0,0.018210767302662134);\">was</span> <span style=\"background-color:rgba(255,0,0,0.0403986731544137);\">talking</span> <span style=\"background-color:rgba(255,0,0,0.011181691661477089);\">about</span> &#129300;"
      ],
      "text/plain": [
       "<IPython.core.display.HTML object>"
      ]
     },
     "metadata": {},
     "output_type": "display_data"
    },
    {
     "data": {
      "text/html": [
       "rt @9osqueen: <span style=\"background-color:rgba(255,0,0,0.005167876370251179);\">i</span> <span style=\"background-color:rgba(255,0,0,0.010657449020072818);\">like</span> <span style=\"background-color:rgba(255,0,0,0.03970795776695013);\">hood</span> <span style=\"background-color:rgba(255,0,0,0.2429674006998539);\">niggas</span> <span style=\"background-color:rgba(255,0,0,0.47576289623975754);\">wit</span> <span style=\"background-color:rgba(255,0,0,0.04200084134936333);\">a</span> <span style=\"background-color:rgba(255,0,0,0.17045756801962852);\">bad</span> <span style=\"background-color:rgba(255,0,0,0.1872982457280159);\">attitude</span> &#129335;&#127997;‍♀️"
      ],
      "text/plain": [
       "<IPython.core.display.HTML object>"
      ]
     },
     "metadata": {},
     "output_type": "display_data"
    },
    {
     "data": {
      "text/html": [
       "@eggwhitefluffy gayyyyyyyyy!!!! <span style=\"background-color:rgba(255,0,0,0.010245752055197954);\">its</span> <span style=\"background-color:rgba(255,0,0,0.558951310813427);\">fucking</span> <span style=\"background-color:rgba(255,0,0,0.4266287758946419);\">gayyyyyyyyyyy</span>"
      ],
      "text/plain": [
       "<IPython.core.display.HTML object>"
      ]
     },
     "metadata": {},
     "output_type": "display_data"
    },
    {
     "data": {
      "text/html": [
       "<span style=\"background-color:rgba(255,0,0,0.047986446879804134);\">boi</span> <span style=\"background-color:rgba(255,0,0,0.2163010835647583);\">shut</span> <span style=\"background-color:rgba(255,0,0,0.023246339987963438);\">the</span> <span style=\"background-color:rgba(255,0,0,0.36346301436424255);\">hell</span> <span style=\"background-color:rgba(255,0,0,0.005928127211518586);\">upppppp</span> <span style=\"background-color:rgba(255,0,0,0.00891665753442794);\">i</span> <span style=\"background-color:rgba(255,0,0,0.47477174550294876);\">hate</span> <span style=\"background-color:rgba(255,0,0,0.03676011925563216);\">you</span> <span style=\"background-color:rgba(255,0,0,0.007171150646172464);\">for</span> <span style=\"background-color:rgba(255,0,0,0.0056926964316517115);\">this</span> https://t.co/udjrizrlth"
      ],
      "text/plain": [
       "<IPython.core.display.HTML object>"
      ]
     },
     "metadata": {},
     "output_type": "display_data"
    },
    {
     "data": {
      "text/html": [
       "@iamjtune i'm <span style=\"background-color:rgba(255,0,0,0.00935991876758635);\">not</span> <span style=\"background-color:rgba(255,0,0,0.034107102546840906);\">saying</span> <span style=\"background-color:rgba(255,0,0,0.017634249525144696);\">what</span> <span style=\"background-color:rgba(255,0,0,0.012207920663058758);\">she</span> <span style=\"background-color:rgba(255,0,0,0.020915069617331028);\">did</span> <span style=\"background-color:rgba(255,0,0,0.07482168264687061);\">was</span> <span style=\"background-color:rgba(255,0,0,0.0038316965219564736);\">bool</span> whatsoever, <span style=\"background-color:rgba(255,0,0,0.011119631817564368);\">but</span> <span style=\"background-color:rgba(255,0,0,0.007075264002196491);\">if</span> <span style=\"background-color:rgba(255,0,0,0.014609565259888768);\">a</span> <span style=\"background-color:rgba(255,0,0,0.5170115828514099);\">nigga</span> <span style=\"background-color:rgba(255,0,0,0.07482168264687061);\">was</span> <span style=\"background-color:rgba(255,0,0,0.022730370983481407);\">playing</span> <span style=\"background-color:rgba(255,0,0,0.0030572994728572667);\">two</span> <span style=\"background-color:rgba(255,0,0,0.06756167858839035);\">females</span> <span style=\"background-color:rgba(255,0,0,0.007032285211607814);\">and</span> <span style=\"background-color:rgba(255,0,0,0.013477534521371126);\">we</span> <span style=\"background-color:rgba(255,0,0,0.009053437388502061);\">showed</span> <span style=\"background-color:rgba(255,0,0,0.05036945454776287);\">up</span> <span style=\"background-color:rgba(255,0,0,0.01013195957057178);\">to</span> <span style=\"background-color:rgba(255,0,0,0.01837366260588169);\">his</span> <span style=\"background-color:rgba(255,0,0,0.023045276757329702);\">job</span> we'd <span style=\"background-color:rgba(255,0,0,0.012864272575825453);\">be</span> crazy?"
      ],
      "text/plain": [
       "<IPython.core.display.HTML object>"
      ]
     },
     "metadata": {},
     "output_type": "display_data"
    },
    {
     "data": {
      "text/html": [
       "rt @key_badazz: i'll <span style=\"background-color:rgba(255,0,0,0.0028947318787686527);\">never</span> <span style=\"background-color:rgba(255,0,0,0.011173366801813245);\">knock</span> <span style=\"background-color:rgba(255,0,0,0.008937516249716282);\">a</span> <span style=\"background-color:rgba(255,0,0,0.27458399534225464);\">nigga</span> <span style=\"background-color:rgba(255,0,0,0.013531754957512021);\">for</span> <span style=\"background-color:rgba(255,0,0,0.022380927111953497);\">trying</span> that's <span style=\"background-color:rgba(255,0,0,0.2045786753296852);\">insane</span> dawg!"
      ],
      "text/plain": [
       "<IPython.core.display.HTML object>"
      ]
     },
     "metadata": {},
     "output_type": "display_data"
    },
    {
     "data": {
      "text/html": [
       "<span style=\"background-color:rgba(255,0,0,0.00944698927924037);\">man</span> i'll <span style=\"background-color:rgba(255,0,0,0.0025687305605970323);\">do</span> <span style=\"background-color:rgba(255,0,0,0.0025587889831513166);\">the</span> <span style=\"background-color:rgba(255,0,0,0.002920144470408559);\">time</span> <span style=\"background-color:rgba(255,0,0,0.041580903343856335);\">ima</span> <span style=\"background-color:rgba(255,0,0,0.005167463677935302);\">have</span> <span style=\"background-color:rgba(255,0,0,0.002406381390755996);\">to</span> <span style=\"background-color:rgba(255,0,0,0.006680421065539122);\">murk</span> <span style=\"background-color:rgba(255,0,0,0.01712304074317217);\">that</span> <span style=\"background-color:rgba(255,0,0,0.3081085719168186);\">nigga</span> <span style=\"background-color:rgba(255,0,0,0.01855414710007608);\">and</span> <span style=\"background-color:rgba(255,0,0,0.07239785511046648);\">whoever</span> <span style=\"background-color:rgba(255,0,0,0.08420794270932674);\">else</span> <span style=\"background-color:rgba(255,0,0,0.02773729618638754);\">was</span> <span style=\"background-color:rgba(255,0,0,0.023231045342981815);\">in</span> <span style=\"background-color:rgba(255,0,0,0.01712304074317217);\">that</span> <span style=\"background-color:rgba(255,0,0,0.3889729082584381);\">fucking</span> house! https://t.co/fqxhemc0jz"
      ],
      "text/plain": [
       "<IPython.core.display.HTML object>"
      ]
     },
     "metadata": {},
     "output_type": "display_data"
    },
    {
     "data": {
      "text/html": [
       "rt @criminalcosta: <span style=\"background-color:rgba(255,0,0,0.5405190959572792);\">fucking</span> <span style=\"background-color:rgba(255,0,0,0.0821759644895792);\">south</span> <span style=\"background-color:rgba(255,0,0,0.09783956222236156);\">korean</span> <span style=\"background-color:rgba(255,0,0,0.01022295793518424);\">poof</span> <span style=\"background-color:rgba(255,0,0,0.007318919524550438);\">hope</span> <span style=\"background-color:rgba(255,0,0,0.006044971523806453);\">you</span> <span style=\"background-color:rgba(255,0,0,0.002781118091661483);\">get</span> <span style=\"background-color:rgba(255,0,0,0.15221590176224709);\">nuked</span>"
      ],
      "text/plain": [
       "<IPython.core.display.HTML object>"
      ]
     },
     "metadata": {},
     "output_type": "display_data"
    },
    {
     "data": {
      "text/html": [
       "rt @goota2timez: <span style=\"background-color:rgba(255,0,0,0.002551077923271805);\">i</span> <span style=\"background-color:rgba(255,0,0,0.14462199062108994);\">hate</span> <span style=\"background-color:rgba(255,0,0,0.015257012564688921);\">a</span> <span style=\"background-color:rgba(255,0,0,0.441097617149353);\">nigga</span> <span style=\"background-color:rgba(255,0,0,0.0346877914853394);\">that</span> <span style=\"background-color:rgba(255,0,0,0.0045072424109093845);\">run</span> <span style=\"background-color:rgba(255,0,0,0.007819062448106706);\">his</span> <span style=\"background-color:rgba(255,0,0,0.07693625520914793);\">mouth</span> <span style=\"background-color:rgba(255,0,0,0.033678459003567696);\">like</span> <span style=\"background-color:rgba(255,0,0,0.015257012564688921);\">a</span> <span style=\"background-color:rgba(255,0,0,0.38432199507951736);\">hoe</span>"
      ],
      "text/plain": [
       "<IPython.core.display.HTML object>"
      ]
     },
     "metadata": {},
     "output_type": "display_data"
    },
    {
     "data": {
      "text/html": [
       "rt @_callmezay_: <span style=\"background-color:rgba(255,0,0,0.008897982770577073);\">longwood</span> <span style=\"background-color:rgba(255,0,0,0.2256244234740734);\">nigga</span> <span style=\"background-color:rgba(255,0,0,0.04228557925671339);\">is</span> <span style=\"background-color:rgba(255,0,0,0.8253750205039978);\">sick</span> <span style=\"background-color:rgba(255,0,0,0.062252478674054146);\">about</span> <span style=\"background-color:rgba(255,0,0,0.020970685873180628);\">that</span> <span style=\"background-color:rgba(255,0,0,0.009059796575456858);\">l</span> &#128514;&#128514;&#128514; @rodriguez_nikko https://t.co/pqaagzatnt"
      ],
      "text/plain": [
       "<IPython.core.display.HTML object>"
      ]
     },
     "metadata": {},
     "output_type": "display_data"
    },
    {
     "data": {
      "text/html": [
       "it's <span style=\"background-color:rgba(255,0,0,0.004265379975549877);\">a</span> <span style=\"background-color:rgba(255,0,0,0.0027947788476012647);\">try</span> <span style=\"background-color:rgba(255,0,0,0.0017535478400532156);\">and</span> <span style=\"background-color:rgba(255,0,0,0.005454837228171527);\">keep</span> <span style=\"background-color:rgba(255,0,0,0.00998915289528668);\">america</span> <span style=\"background-color:rgba(255,0,0,0.00897425168659538);\">safe</span> <span style=\"background-color:rgba(255,0,0,0.008316743769682944);\">this</span> <span style=\"background-color:rgba(255,0,0,0.015221302164718509);\">is</span> <span style=\"background-color:rgba(255,0,0,0.03868505358695984);\">not</span> <span style=\"background-color:rgba(255,0,0,0.011863308027386665);\">an</span> <span style=\"background-color:rgba(255,0,0,0.054412027820944786);\">islamic</span> <span style=\"background-color:rgba(255,0,0,0.1410569529980421);\">mother</span> <span style=\"background-color:rgba(255,0,0,0.75527124106884);\">fucking</span> <span style=\"background-color:rgba(255,0,0,0.07503286935389042);\">nation</span> #extremevetting <span style=\"background-color:rgba(255,0,0,0.005396995693445206);\">pay</span> <span style=\"background-color:rgba(255,0,0,0.025706251617521048);\">attention</span> <span style=\"background-color:rgba(255,0,0,0.007420164183713496);\">to</span> th… https://t.co/puebtbgpsq"
      ],
      "text/plain": [
       "<IPython.core.display.HTML object>"
      ]
     },
     "metadata": {},
     "output_type": "display_data"
    },
    {
     "data": {
      "text/html": [
       "rt @tkvsh: i'm <span style=\"background-color:rgba(255,0,0,0.08734247647225857);\">sick</span> <span style=\"background-color:rgba(255,0,0,0.006573423161171377);\">of</span> <span style=\"background-color:rgba(255,0,0,0.0023774357396177948);\">you</span> <span style=\"background-color:rgba(255,0,0,0.14207576401531696);\">ugly</span> <span style=\"background-color:rgba(255,0,0,0.3080500662326813);\">bum</span> <span style=\"background-color:rgba(255,0,0,0.33366624265909195);\">ass</span> <span style=\"background-color:rgba(255,0,0,0.27059487998485565);\">niggas</span> <span style=\"background-color:rgba(255,0,0,0.03476194106042385);\">thinking</span> <span style=\"background-color:rgba(255,0,0,0.04282230976969004);\">y&#x27;all</span> slick."
      ],
      "text/plain": [
       "<IPython.core.display.HTML object>"
      ]
     },
     "metadata": {},
     "output_type": "display_data"
    },
    {
     "data": {
      "text/html": [
       "rt @poppinassmia_: <span style=\"background-color:rgba(255,0,0,0.0016493165458086878);\">i</span> <span style=\"background-color:rgba(255,0,0,0.09350065141916275);\">hate</span> <span style=\"background-color:rgba(255,0,0,0.013364320620894432);\">when</span> <span style=\"background-color:rgba(255,0,0,0.10769284330308437);\">females</span> <span style=\"background-color:rgba(255,0,0,0.006236204644665122);\">try</span> <span style=\"background-color:rgba(255,0,0,0.0015490232908632606);\">to</span> <span style=\"background-color:rgba(255,0,0,0.00040116745367413387);\">make</span> <span style=\"background-color:rgba(255,0,0,0.021902488078922033);\">a</span> <span style=\"background-color:rgba(255,0,0,0.00650078640319407);\">problem</span> <span style=\"background-color:rgba(255,0,0,0.005522010615095496);\">about</span> <span style=\"background-color:rgba(255,0,0,0.021902488078922033);\">a</span> <span style=\"background-color:rgba(255,0,0,0.5087140947580338);\">nigga</span> <span style=\"background-color:rgba(255,0,0,0.031511480920016766);\">my</span> <span style=\"background-color:rgba(255,0,0,0.02087410306558013);\">mood</span> <span style=\"background-color:rgba(255,0,0,0.003293829213362187);\">has</span> <span style=\"background-color:rgba(255,0,0,0.005126702017150819);\">always</span> <span style=\"background-color:rgba(255,0,0,0.0034394164686091244);\">been</span> \"it's <span style=\"background-color:rgba(255,0,0,0.02218602690845728);\">just</span> <span style=\"background-color:rgba(255,0,0,0.021902488078922033);\">a</span> nigga\"&#129335;&#127997;‍♀️"
      ],
      "text/plain": [
       "<IPython.core.display.HTML object>"
      ]
     },
     "metadata": {},
     "output_type": "display_data"
    },
    {
     "data": {
      "text/html": [
       "@_jackjones_ <span style=\"background-color:rgba(255,0,0,0.01307236379943788);\">even</span> <span style=\"background-color:rgba(255,0,0,0.004548676370177418);\">med</span> school. <span style=\"background-color:rgba(255,0,0,0.00834358623251319);\">i</span> <span style=\"background-color:rgba(255,0,0,0.0035982843837700784);\">have</span> <span style=\"background-color:rgba(255,0,0,0.004776972928084433);\">this</span> <span style=\"background-color:rgba(255,0,0,0.4669065400958061);\">disgusting</span> <span style=\"background-color:rgba(255,0,0,0.16432346776127815);\">lesbian</span> <span style=\"background-color:rgba(255,0,0,0.3921084851026535);\">feminist</span> <span style=\"background-color:rgba(255,0,0,0.0704397214576602);\">in</span> mine."
      ],
      "text/plain": [
       "<IPython.core.display.HTML object>"
      ]
     },
     "metadata": {},
     "output_type": "display_data"
    },
    {
     "data": {
      "text/html": [
       "rt @itsalfonso: <span style=\"background-color:rgba(255,0,0,0.0013019175094086677);\">if</span> <span style=\"background-color:rgba(255,0,0,0.0032000450300984085);\">a</span> <span style=\"background-color:rgba(255,0,0,0.17574811354279518);\">nigga</span> don't <span style=\"background-color:rgba(255,0,0,0.004919536295346916);\">work</span> <span style=\"background-color:rgba(255,0,0,0.005130366771481931);\">then</span> <span style=\"background-color:rgba(255,0,0,0.008897031075321138);\">he</span> don't <span style=\"background-color:rgba(255,0,0,0.0022752967197448015);\">get</span> paid. <span style=\"background-color:rgba(255,0,0,0.008415113552473485);\">why</span> <span style=\"background-color:rgba(255,0,0,0.12099044397473335);\">tf</span> <span style=\"background-color:rgba(255,0,0,0.034642110113054514);\">is</span> <span style=\"background-color:rgba(255,0,0,0.03415669081732631);\">u</span> <span style=\"background-color:rgba(255,0,0,0.6857917457818985);\">mad</span>"
      ],
      "text/plain": [
       "<IPython.core.display.HTML object>"
      ]
     },
     "metadata": {},
     "output_type": "display_data"
    },
    {
     "data": {
      "text/html": [
       "rt @lunagaristo: <span style=\"background-color:rgba(255,0,0,0.0016543107631150633);\">transphobic</span> asshole: <span style=\"background-color:rgba(255,0,0,0.12283781543374062);\">trans</span> <span style=\"background-color:rgba(255,0,0,0.02993107307702303);\">people</span> don't <span style=\"background-color:rgba(255,0,0,0.020927325822412968);\">exist</span> *me <span style=\"background-color:rgba(255,0,0,0.008459996315650642);\">disappearing</span> <span style=\"background-color:rgba(255,0,0,0.016191061586141586);\">into</span> <span style=\"background-color:rgba(255,0,0,0.00934499897994101);\">the</span> air*: <span style=\"background-color:rgba(255,0,0,0.02065628068521619);\">thank</span> <span style=\"background-color:rgba(255,0,0,0.2821454405784607);\">fucking</span> god, <span style=\"background-color:rgba(255,0,0,0.06257613655179739);\">i</span> don't <span style=\"background-color:rgba(255,0,0,0.008989812922663987);\">even</span> <span style=\"background-color:rgba(255,0,0,0.007362855249084532);\">want</span> to…"
      ],
      "text/plain": [
       "<IPython.core.display.HTML object>"
      ]
     },
     "metadata": {},
     "output_type": "display_data"
    },
    {
     "data": {
      "text/html": [
       "@junegrayy @_briaplease @schoolem_jonesy <span style=\"background-color:rgba(255,0,0,0.14996693469583988);\">stupid</span> <span style=\"background-color:rgba(255,0,0,0.009658951312303543);\">as</span> <span style=\"background-color:rgba(255,0,0,0.15796905383467674);\">fuck</span> <span style=\"background-color:rgba(255,0,0,0.011783814989030361);\">and</span> <span style=\"background-color:rgba(255,0,0,0.379435271024704);\">mad</span> <span style=\"background-color:rgba(255,0,0,0.41913844645023346);\">cuz</span> <span style=\"background-color:rgba(255,0,0,0.04807750694453716);\">she</span> couldn't <span style=\"background-color:rgba(255,0,0,0.0024015021335799247);\">read</span> &#128514;&#128514;&#128514;"
      ],
      "text/plain": [
       "<IPython.core.display.HTML object>"
      ]
     },
     "metadata": {},
     "output_type": "display_data"
    },
    {
     "data": {
      "text/html": [
       "rt @noelaniis: <span style=\"background-color:rgba(255,0,0,0.003308251907583326);\">i</span> <span style=\"background-color:rgba(255,0,0,0.18754657357931137);\">hate</span> <span style=\"background-color:rgba(255,0,0,0.0007800431194482371);\">hypebeast</span> <span style=\"background-color:rgba(255,0,0,0.006062947795726359);\">asians</span> <span style=\"background-color:rgba(255,0,0,0.0038437225157395005);\">that</span> <span style=\"background-color:rgba(255,0,0,0.01842771889641881);\">just</span> <span style=\"background-color:rgba(255,0,0,0.017742078052833676);\">chill</span> <span style=\"background-color:rgba(255,0,0,0.016987702110782266);\">around</span> <span style=\"background-color:rgba(255,0,0,0.0042491842759773135);\">and</span> <span style=\"background-color:rgba(255,0,0,0.012438298435881734);\">be</span> <span style=\"background-color:rgba(255,0,0,0.01906922203488648);\">obnoxious</span> <span style=\"background-color:rgba(255,0,0,0.03562616417184472);\">oh</span> <span style=\"background-color:rgba(255,0,0,0.01624339260160923);\">my</span> <span style=\"background-color:rgba(255,0,0,0.2728892117738724);\">fucking</span> <span style=\"background-color:rgba(255,0,0,0.4365044832229614);\">god</span> <span style=\"background-color:rgba(255,0,0,0.05341819487512112);\">do</span> <span style=\"background-color:rgba(255,0,0,0.00826333009172231);\">your</span> <span style=\"background-color:rgba(255,0,0,0.01657976652495563);\">hw</span> <span style=\"background-color:rgba(255,0,0,0.006442610756494105);\">or</span> <span style=\"background-color:rgba(255,0,0,0.021691322326660156);\">something</span> <span style=\"background-color:rgba(255,0,0,0.008876267820596695);\">pls</span> <span style=\"background-color:rgba(255,0,0,0.01842771889641881);\">just</span> <span style=\"background-color:rgba(255,0,0,0.012438298435881734);\">be</span> quiet…"
      ],
      "text/plain": [
       "<IPython.core.display.HTML object>"
      ]
     },
     "metadata": {},
     "output_type": "display_data"
    },
    {
     "data": {
      "text/html": [
       "rt @memesmahnegguh: <span style=\"background-color:rgba(255,0,0,0.01155401929281652);\">that</span> <span style=\"background-color:rgba(255,0,0,0.0030252482974901795);\">one</span> <span style=\"background-color:rgba(255,0,0,0.26045287027955055);\">nigga</span> <span style=\"background-color:rgba(255,0,0,0.06817376241087914);\">who</span> <span style=\"background-color:rgba(255,0,0,0.006519934977404773);\">get</span> <span style=\"background-color:rgba(255,0,0,0.41939403861761093);\">mad</span> <span style=\"background-color:rgba(255,0,0,0.12994641438126564);\">at</span> anything.... #memesmahnegguh https://t.co/jvl2uorzrq"
      ],
      "text/plain": [
       "<IPython.core.display.HTML object>"
      ]
     },
     "metadata": {},
     "output_type": "display_data"
    },
    {
     "data": {
      "text/html": [
       "rt @keondoee: #longlivedirty&#128519; \"cap <span style=\"background-color:rgba(255,0,0,0.012073515681549907);\">cuz</span> <span style=\"background-color:rgba(255,0,0,0.004640257393475622);\">got</span> hit&#128552; i'm <span style=\"background-color:rgba(255,0,0,0.008933497592806816);\">like</span> <span style=\"background-color:rgba(255,0,0,0.1892276108264923);\">nigga</span> huh&#128542; <span style=\"background-color:rgba(255,0,0,0.012566643999889493);\">my</span> <span style=\"background-color:rgba(255,0,0,0.019676918163895607);\">bodie</span> <span style=\"background-color:rgba(255,0,0,0.0041483016684651375);\">start</span> shaking&#128127; <span style=\"background-color:rgba(255,0,0,0.012566643999889493);\">my</span> <span style=\"background-color:rgba(255,0,0,0.006205967511050403);\">mind</span> <span style=\"background-color:rgba(255,0,0,0.014103510184213519);\">went</span> gone&#128545; <span style=\"background-color:rgba(255,0,0,0.012566643999889493);\">my</span> <span style=\"background-color:rgba(255,0,0,0.02972638700157404);\">heart</span> <span style=\"background-color:rgba(255,0,0,0.014103510184213519);\">went</span> numb&#128148; https://…"
      ],
      "text/plain": [
       "<IPython.core.display.HTML object>"
      ]
     },
     "metadata": {},
     "output_type": "display_data"
    },
    {
     "data": {
      "text/html": [
       "rt @kerwinalmazan: <span style=\"background-color:rgba(255,0,0,0.0076453411020338535);\">asking</span> <span style=\"background-color:rgba(255,0,0,0.0023806706303730607);\">if</span> i'm <span style=\"background-color:rgba(255,0,0,0.31611066311597824);\">mad</span> <span style=\"background-color:rgba(255,0,0,0.3969929367303848);\">pisses</span> <span style=\"background-color:rgba(255,0,0,0.009300500387325883);\">me</span> <span style=\"background-color:rgba(255,0,0,0.06748105399310589);\">off</span> <span style=\"background-color:rgba(255,0,0,0.047117206268012524);\">why</span> <span style=\"background-color:rgba(255,0,0,0.008975701057352126);\">you</span> <span style=\"background-color:rgba(255,0,0,0.005072735366411507);\">putting</span> <span style=\"background-color:rgba(255,0,0,0.009300500387325883);\">me</span> <span style=\"background-color:rgba(255,0,0,0.004709158965852112);\">on</span> <span style=\"background-color:rgba(255,0,0,0.0044173747301101685);\">the</span> <span style=\"background-color:rgba(255,0,0,0.01299290917813778);\">spot</span> <span style=\"background-color:rgba(255,0,0,0.2298806607723236);\">nigga</span>"
      ],
      "text/plain": [
       "<IPython.core.display.HTML object>"
      ]
     },
     "metadata": {},
     "output_type": "display_data"
    },
    {
     "data": {
      "text/html": [
       "<span style=\"background-color:rgba(255,0,0,0.09591163136065006);\">niggas</span> <span style=\"background-color:rgba(255,0,0,0.016344274627044797);\">be</span> <span style=\"background-color:rgba(255,0,0,0.03621115116402507);\">grown</span> <span style=\"background-color:rgba(255,0,0,0.005520730628632009);\">as</span> <span style=\"background-color:rgba(255,0,0,0.22975295782089233);\">hell</span> <span style=\"background-color:rgba(255,0,0,0.12584381736814976);\">still</span> <span style=\"background-color:rgba(255,0,0,0.012352254707366228);\">splitting</span> <span style=\"background-color:rgba(255,0,0,0.008892297046259046);\">bills</span> <span style=\"background-color:rgba(255,0,0,0.004197274683974683);\">with</span> <span style=\"background-color:rgba(255,0,0,0.006864942843094468);\">they</span> mans,but can't <span style=\"background-color:rgba(255,0,0,0.015256719198077917);\">even</span> <span style=\"background-color:rgba(255,0,0,0.022464962676167488);\">eat</span> <span style=\"background-color:rgba(255,0,0,0.024978721048682928);\">a</span> <span style=\"background-color:rgba(255,0,0,0.029952460899949074);\">steak</span> <span style=\"background-color:rgba(255,0,0,0.014331440906971693);\">without</span> <span style=\"background-color:rgba(255,0,0,0.3956174850463867);\">shaking</span> <span style=\"background-color:rgba(255,0,0,0.0788596086204052);\">the</span> table."
      ],
      "text/plain": [
       "<IPython.core.display.HTML object>"
      ]
     },
     "metadata": {},
     "output_type": "display_data"
    },
    {
     "data": {
      "text/html": [
       "<span style=\"background-color:rgba(255,0,0,0.0015252860612235963);\">how</span> <span style=\"background-color:rgba(255,0,0,0.0013962363300379366);\">you</span> <span style=\"background-color:rgba(255,0,0,0.013154079206287861);\">telling</span> <span style=\"background-color:rgba(255,0,0,0.2288653701543808);\">niggas</span> <span style=\"background-color:rgba(255,0,0,0.0662189582362771);\">not</span> <span style=\"background-color:rgba(255,0,0,0.021745015401393175);\">be</span> <span style=\"background-color:rgba(255,0,0,0.10594867169857025);\">boring</span> <span style=\"background-color:rgba(255,0,0,0.023190020583570004);\">but</span> <span style=\"background-color:rgba(255,0,0,0.019175377674400806);\">got</span> <span style=\"background-color:rgba(255,0,0,0.018265171675011516);\">a</span> <span style=\"background-color:rgba(255,0,0,0.030138890724629164);\">dull</span> <span style=\"background-color:rgba(255,0,0,0.38682233542203903);\">ass</span> personality?"
      ],
      "text/plain": [
       "<IPython.core.display.HTML object>"
      ]
     },
     "metadata": {},
     "output_type": "display_data"
    },
    {
     "data": {
      "text/html": [
       "rt @trapafasa: <span style=\"background-color:rgba(255,0,0,0.010004248470067978);\">why</span> <span style=\"background-color:rgba(255,0,0,0.003930276434402913);\">you</span> <span style=\"background-color:rgba(255,0,0,0.21672610193490982);\">mad</span> <span style=\"background-color:rgba(255,0,0,0.9342710673809052);\">nigga</span> can't <span style=\"background-color:rgba(255,0,0,0.00109820619400125);\">find</span> <span style=\"background-color:rgba(255,0,0,0.0008751390123507008);\">your</span> x-rays &#128514;&#128514;&#128514;&#128514;&#128514;&#128514;&#128514;&#128514; https://t.co/dxth4kym1e"
      ],
      "text/plain": [
       "<IPython.core.display.HTML object>"
      ]
     },
     "metadata": {},
     "output_type": "display_data"
    },
    {
     "data": {
      "text/html": [
       "rt @princessmamii_: <span style=\"background-color:rgba(255,0,0,0.008400873630307615);\">so</span> <span style=\"background-color:rgba(255,0,0,0.003047572390642017);\">you</span> <span style=\"background-color:rgba(255,0,0,0.08382479660212994);\">niggas</span> <span style=\"background-color:rgba(255,0,0,0.013709831982851028);\">be</span> <span style=\"background-color:rgba(255,0,0,0.010303339222446084);\">doing</span> <span style=\"background-color:rgba(255,0,0,0.049421293660998344);\">fraud</span> &amp; <span style=\"background-color:rgba(255,0,0,0.010916104074567556);\">risking</span> <span style=\"background-color:rgba(255,0,0,0.0021287324489094317);\">y&#x27;all</span> <span style=\"background-color:rgba(255,0,0,0.044537740759551525);\">freedom</span> <span style=\"background-color:rgba(255,0,0,0.04474364221096039);\">just</span> <span style=\"background-color:rgba(255,0,0,0.0073553097900003195);\">for</span> <span style=\"background-color:rgba(255,0,0,0.0020665934425778687);\">some</span> <span style=\"background-color:rgba(255,0,0,0.0006962465704418719);\">designer</span> &amp; <span style=\"background-color:rgba(255,0,0,6.366735306073679e-05);\">rentals</span> &#128553;&#128557;y'all <span style=\"background-color:rgba(255,0,0,0.0022696795349474996);\">is</span> <span style=\"background-color:rgba(255,0,0,0.08746638894081116);\">fucking</span> <span style=\"background-color:rgba(255,0,0,0.7545027136802673);\">stupid</span> <span style=\"background-color:rgba(255,0,0,0.02380594378337264);\">with</span> no…"
      ],
      "text/plain": [
       "<IPython.core.display.HTML object>"
      ]
     },
     "metadata": {},
     "output_type": "display_data"
    },
    {
     "data": {
      "text/html": [
       "<span style=\"background-color:rgba(255,0,0,0.0021285984257701784);\">i</span> <span style=\"background-color:rgba(255,0,0,0.0020710901299025863);\">must</span> <span style=\"background-color:rgba(255,0,0,0.0010810175444930792);\">have</span> <span style=\"background-color:rgba(255,0,0,0.002789899008348584);\">a</span> <span style=\"background-color:rgba(255,0,0,0.2816903591156006);\">ugly</span> <span style=\"background-color:rgba(255,0,0,0.8035891503095627);\">nigga</span> <span style=\"background-color:rgba(255,0,0,0.09080924093723297);\">magnet</span> <span style=\"background-color:rgba(255,0,0,0.03364829579368234);\">attached</span> <span style=\"background-color:rgba(255,0,0,0.002271742559969425);\">to</span> <span style=\"background-color:rgba(255,0,0,0.002700457989703864);\">me</span> <span style=\"background-color:rgba(255,0,0,0.004167316074017435);\">somewhere</span>"
      ],
      "text/plain": [
       "<IPython.core.display.HTML object>"
      ]
     },
     "metadata": {},
     "output_type": "display_data"
    },
    {
     "data": {
      "text/html": [
       "<span style=\"background-color:rgba(255,0,0,0.002568850468378514);\">i</span> <span style=\"background-color:rgba(255,0,0,0.019429371459409595);\">said</span> <span style=\"background-color:rgba(255,0,0,0.00820009270682931);\">that</span> <span style=\"background-color:rgba(255,0,0,0.25057947263121605);\">nigga</span> <span style=\"background-color:rgba(255,0,0,0.005249097594060004);\">tee</span> <span style=\"background-color:rgba(255,0,0,0.16261624172329903);\">ugly</span> <span style=\"background-color:rgba(255,0,0,0.011945845326408744);\">serena</span> <span style=\"background-color:rgba(255,0,0,0.019429371459409595);\">said</span> <span style=\"background-color:rgba(255,0,0,0.036272695288062096);\">yeah</span> <span style=\"background-color:rgba(255,0,0,0.020582303404808044);\">he</span> <span style=\"background-color:rgba(255,0,0,0.09430495090782642);\">look</span> <span style=\"background-color:rgba(255,0,0,0.07581741083413363);\">like</span> <span style=\"background-color:rgba(255,0,0,0.038351649418473244);\">a</span> <span style=\"background-color:rgba(255,0,0,0.029463672544807196);\">what</span> <span style=\"background-color:rgba(255,0,0,0.02026979811489582);\">the</span> <span style=\"background-color:rgba(255,0,0,0.3590703383088112);\">fuck</span>"
      ],
      "text/plain": [
       "<IPython.core.display.HTML object>"
      ]
     },
     "metadata": {},
     "output_type": "display_data"
    },
    {
     "data": {
      "text/html": [
       "rt @chapstickthvg: <span style=\"background-color:rgba(255,0,0,0.4409459978342056);\">nigga</span> <span style=\"background-color:rgba(255,0,0,0.18788883462548256);\">thats</span> <span style=\"background-color:rgba(255,0,0,0.07453420199453831);\">a</span> <span style=\"background-color:rgba(255,0,0,0.007312671514227986);\">dhicken</span> <span style=\"background-color:rgba(255,0,0,0.005426099523901939);\">wing</span> rt \"@nohoesjesse <span style=\"background-color:rgba(255,0,0,0.006588193355128169);\">these</span> <span style=\"background-color:rgba(255,0,0,0.06917095743119717);\">chicken</span> <span style=\"background-color:rgba(255,0,0,0.023686012718826532);\">wings</span> <span style=\"background-color:rgba(255,0,0,0.01315837143920362);\">were</span> <span style=\"background-color:rgba(255,0,0,0.09909133426845074);\">lit</span> <span style=\"background-color:rgba(255,0,0,0.12081881053745747);\">tho</span> &#128553;\" https://t.co/ivmzfgtclj"
      ],
      "text/plain": [
       "<IPython.core.display.HTML object>"
      ]
     },
     "metadata": {},
     "output_type": "display_data"
    },
    {
     "data": {
      "text/html": [
       "rt @hoess_swagg52: <span style=\"background-color:rgba(255,0,0,0.0015656711184419692);\">you</span> can't <span style=\"background-color:rgba(255,0,0,0.0006560376641573384);\">make</span> <span style=\"background-color:rgba(255,0,0,0.0027543932083062828);\">me</span> <span style=\"background-color:rgba(255,0,0,0.15361485071480274);\">mad</span> <span style=\"background-color:rgba(255,0,0,0.1525591965764761);\">over</span> <span style=\"background-color:rgba(255,0,0,0.04514370113611221);\">a</span> <span style=\"background-color:rgba(255,0,0,0.7163740694522858);\">nigga</span> <span style=\"background-color:rgba(255,0,0,0.07468150928616524);\">i</span> <span style=\"background-color:rgba(255,0,0,0.03995640203356743);\">already</span> <span style=\"background-color:rgba(255,0,0,0.009220489882864058);\">had</span> &#129318;&#127998;‍♀️"
      ],
      "text/plain": [
       "<IPython.core.display.HTML object>"
      ]
     },
     "metadata": {},
     "output_type": "display_data"
    },
    {
     "data": {
      "text/html": [
       "@annehelen <span style=\"background-color:rgba(255,0,0,0.010123816318809986);\">she</span> <span style=\"background-color:rgba(255,0,0,0.0022582111705560237);\">was</span> <span style=\"background-color:rgba(255,0,0,0.0046949624083936214);\">a</span> <span style=\"background-color:rgba(255,0,0,0.1721506379544735);\">fucking</span> <span style=\"background-color:rgba(255,0,0,0.36226585507392883);\">awful</span> <span style=\"background-color:rgba(255,0,0,0.07496784441173077);\">candidate</span> <span style=\"background-color:rgba(255,0,0,0.011775500606745481);\">and</span> <span style=\"background-color:rgba(255,0,0,0.010123816318809986);\">she</span> <span style=\"background-color:rgba(255,0,0,0.015695252222940326);\">should</span> <span style=\"background-color:rgba(255,0,0,0.0412061158567667);\">disappear</span> <span style=\"background-color:rgba(255,0,0,0.008529657498002052);\">from</span> politics. <span style=\"background-color:rgba(255,0,0,0.2292599342763424);\">fuck</span> <span style=\"background-color:rgba(255,0,0,0.023437978234142065);\">these</span> <span style=\"background-color:rgba(255,0,0,0.0463259918615222);\">profiteering</span> <span style=\"background-color:rgba(255,0,0,0.1772848516702652);\">liberals</span>"
      ],
      "text/plain": [
       "<IPython.core.display.HTML object>"
      ]
     },
     "metadata": {},
     "output_type": "display_data"
    },
    {
     "data": {
      "text/html": [
       "<span style=\"background-color:rgba(255,0,0,0.0019628708832897246);\">i</span> <span style=\"background-color:rgba(255,0,0,0.004292864468879998);\">feel</span> <span style=\"background-color:rgba(255,0,0,0.007055682362988591);\">like</span> @truthteller <span style=\"background-color:rgba(255,0,0,0.0071243575075641274);\">is</span> <span style=\"background-color:rgba(255,0,0,0.007159115630201995);\">the</span> <span style=\"background-color:rgba(255,0,0,0.005178352585062385);\">type</span> <span style=\"background-color:rgba(255,0,0,0.002730395062826574);\">of</span> <span style=\"background-color:rgba(255,0,0,0.09129361249506474);\">lame</span> <span style=\"background-color:rgba(255,0,0,0.02040791092440486);\">that</span> <span style=\"background-color:rgba(255,0,0,0.021988460794091225);\">smiles</span> <span style=\"background-color:rgba(255,0,0,0.020917109213769436);\">while</span> snitching! #gcode <span style=\"background-color:rgba(255,0,0,0.871192142367363);\">nigga</span>"
      ],
      "text/plain": [
       "<IPython.core.display.HTML object>"
      ]
     },
     "metadata": {},
     "output_type": "display_data"
    },
    {
     "data": {
      "text/html": [
       "rt @bigdaddylana: <span style=\"background-color:rgba(255,0,0,0.00947717169765383);\">why</span> <span style=\"background-color:rgba(255,0,0,0.005102786817587912);\">do</span> <span style=\"background-color:rgba(255,0,0,0.006075918208807707);\">people</span> <span style=\"background-color:rgba(255,0,0,0.01521084806881845);\">wanna</span> <span style=\"background-color:rgba(255,0,0,0.031330680940300226);\">say</span> <span style=\"background-color:rgba(255,0,0,0.28960252180695534);\">nigga</span> <span style=\"background-color:rgba(255,0,0,0.026633196976035833);\">that</span> bad?! <span style=\"background-color:rgba(255,0,0,0.05041137803345919);\">like</span> <span style=\"background-color:rgba(255,0,0,0.06544528529047966);\">so</span> <span style=\"background-color:rgba(255,0,0,0.2416408620774746);\">bad</span> <span style=\"background-color:rgba(255,0,0,0.07921265438199043);\">where</span> <span style=\"background-color:rgba(255,0,0,0.016166112618520856);\">now</span> <span style=\"background-color:rgba(255,0,0,0.005780427600257099);\">you</span> <span style=\"background-color:rgba(255,0,0,0.01521084806881845);\">wanna</span> <span style=\"background-color:rgba(255,0,0,0.006640183855779469);\">change</span> <span style=\"background-color:rgba(255,0,0,0.003259813820477575);\">your</span> <span style=\"background-color:rgba(255,0,0,0.0036799084045924246);\">race</span> <span style=\"background-color:rgba(255,0,0,0.019775691907852888);\">just</span> <span style=\"background-color:rgba(255,0,0,0.009265978587791324);\">to</span> <span style=\"background-color:rgba(255,0,0,0.031330680940300226);\">say</span> it. <span style=\"background-color:rgba(255,0,0,0.012902930611744523);\">non</span> <span style=\"background-color:rgba(255,0,0,0.034366731997579336);\">poc</span> a…"
      ],
      "text/plain": [
       "<IPython.core.display.HTML object>"
      ]
     },
     "metadata": {},
     "output_type": "display_data"
    },
    {
     "data": {
      "text/html": [
       "<span style=\"background-color:rgba(255,0,0,0.0037721125409007072);\">i</span> <span style=\"background-color:rgba(255,0,0,0.013452814891934395);\">felt</span> bad... can't <span style=\"background-color:rgba(255,0,0,0.021006858441978693);\">just</span> <span style=\"background-color:rgba(255,0,0,0.013086684048175812);\">be</span> <span style=\"background-color:rgba(255,0,0,0.0074275885708630085);\">out</span> <span style=\"background-color:rgba(255,0,0,0.0026816478930413723);\">here</span> <span style=\"background-color:rgba(255,0,0,0.1166949886828661);\">fucking</span> <span style=\"background-color:rgba(255,0,0,0.5596577376127243);\">niggas</span> <span style=\"background-color:rgba(255,0,0,0.18454201519489288);\">girlfriends</span> <span style=\"background-color:rgba(255,0,0,0.03438167041167617);\">like</span> <span style=\"background-color:rgba(255,0,0,0.011547404574230313);\">a</span> <span style=\"background-color:rgba(255,0,0,0.018627021927386522);\">heathen</span> <span style=\"background-color:rgba(255,0,0,0.006467557977885008);\">with</span> <span style=\"background-color:rgba(255,0,0,0.005183930625207722);\">no</span> <span style=\"background-color:rgba(255,0,0,0.00635043834336102);\">self</span> <span style=\"background-color:rgba(255,0,0,0.01245691324584186);\">control</span> <span style=\"background-color:rgba(255,0,0,0.03430536016821861);\">lls</span>"
      ],
      "text/plain": [
       "<IPython.core.display.HTML object>"
      ]
     },
     "metadata": {},
     "output_type": "display_data"
    },
    {
     "data": {
      "text/html": [
       "<span style=\"background-color:rgba(255,0,0,0.03146955510601401);\">i</span> ain't <span style=\"background-color:rgba(255,0,0,0.006614945596083999);\">never</span> <span style=\"background-color:rgba(255,0,0,0.004749150539282709);\">had</span> <span style=\"background-color:rgba(255,0,0,0.03722714027389884);\">soo</span> <span style=\"background-color:rgba(255,0,0,0.0177250849083066);\">much</span> <span style=\"background-color:rgba(255,0,0,0.10916072875261307);\">anger</span> <span style=\"background-color:rgba(255,0,0,0.021845947485417128);\">for</span> <span style=\"background-color:rgba(255,0,0,0.0662147207185626);\">just</span> <span style=\"background-color:rgba(255,0,0,0.007376613211818039);\">one</span> <span style=\"background-color:rgba(255,0,0,0.010577015345916152);\">person</span> . <span style=\"background-color:rgba(255,0,0,0.03317693714052439);\">like</span> <span style=\"background-color:rgba(255,0,0,0.03146955510601401);\">i</span> <span style=\"background-color:rgba(255,0,0,0.0662147207185626);\">just</span> <span style=\"background-color:rgba(255,0,0,0.0928313098847866);\">wanna</span> <span style=\"background-color:rgba(255,0,0,0.029352556448429823);\">beat</span> <span style=\"background-color:rgba(255,0,0,0.04184477496892214);\">yo</span> <span style=\"background-color:rgba(255,0,0,0.34723319113254547);\">ass</span> <span style=\"background-color:rgba(255,0,0,0.23509284481406212);\">bro</span>"
      ],
      "text/plain": [
       "<IPython.core.display.HTML object>"
      ]
     },
     "metadata": {},
     "output_type": "display_data"
    },
    {
     "data": {
      "text/html": [
       "rt @prodbyctrl: <span style=\"background-color:rgba(255,0,0,0.0007140330853872001);\">for</span> <span style=\"background-color:rgba(255,0,0,0.0016624052659608424);\">every</span> <span style=\"background-color:rgba(255,0,0,0.02717676106840372);\">bad</span> bitch... there's <span style=\"background-color:rgba(255,0,0,0.006433802773244679);\">a</span> <span style=\"background-color:rgba(255,0,0,0.2433791570365429);\">nigga</span> <span style=\"background-color:rgba(255,0,0,0.20185915753245354);\">tired</span> <span style=\"background-color:rgba(255,0,0,0.01610946492291987);\">of</span> <span style=\"background-color:rgba(255,0,0,0.27085762470960617);\">fucking</span> <span style=\"background-color:rgba(255,0,0,0.08421477861702442);\">her</span>"
      ],
      "text/plain": [
       "<IPython.core.display.HTML object>"
      ]
     },
     "metadata": {},
     "output_type": "display_data"
    },
    {
     "data": {
      "text/html": [
       "rt @adrianablunt_: seriously, <span style=\"background-color:rgba(255,0,0,0.012068874202668667);\">i</span> <span style=\"background-color:rgba(255,0,0,0.3477897122502327);\">hate</span> <span style=\"background-color:rgba(255,0,0,0.010368578368797898);\">illiterate</span> <span style=\"background-color:rgba(255,0,0,0.2274695597589016);\">ass</span> <span style=\"background-color:rgba(255,0,0,0.5744331330060959);\">bitches</span>"
      ],
      "text/plain": [
       "<IPython.core.display.HTML object>"
      ]
     },
     "metadata": {},
     "output_type": "display_data"
    },
    {
     "data": {
      "text/html": [
       "2. <span style=\"background-color:rgba(255,0,0,0.010763773461803794);\">stop</span> <span style=\"background-color:rgba(255,0,0,0.0004638263999368064);\">cuffing</span> <span style=\"background-color:rgba(255,0,0,0.002125923056155443);\">these</span> <span style=\"background-color:rgba(255,0,0,0.032272846437990665);\">dirty</span> <span style=\"background-color:rgba(255,0,0,0.18310703337192535);\">ass</span> <span style=\"background-color:rgba(255,0,0,0.27347633615136147);\">niggas</span> <span style=\"background-color:rgba(255,0,0,0.013406914658844471);\">that</span> <span style=\"background-color:rgba(255,0,0,0.006615194724872708);\">eat</span> <span style=\"background-color:rgba(255,0,0,0.035857316106557846);\">everybody</span> <span style=\"background-color:rgba(255,0,0,0.022847403306514025);\">pussy</span> <span style=\"background-color:rgba(255,0,0,0.005596272530965507);\">and</span> <span style=\"background-color:rgba(255,0,0,0.002125923056155443);\">these</span> <span style=\"background-color:rgba(255,0,0,0.00015804924260010011);\">bacterial</span> <span style=\"background-color:rgba(255,0,0,0.00017632995877647772);\">infested</span> <span style=\"background-color:rgba(255,0,0,0.022847403306514025);\">pussy</span> <span style=\"background-color:rgba(255,0,0,0.18310703337192535);\">ass</span> <span style=\"background-color:rgba(255,0,0,0.3186573088169098);\">hoes</span>"
      ],
      "text/plain": [
       "<IPython.core.display.HTML object>"
      ]
     },
     "metadata": {},
     "output_type": "display_data"
    },
    {
     "data": {
      "text/html": [
       "rt @cherisht_: <span style=\"background-color:rgba(255,0,0,0.010522378142923117);\">bend</span> <span style=\"background-color:rgba(255,0,0,0.04605928901582956);\">backwards</span> <span style=\"background-color:rgba(255,0,0,0.0067682459484785795);\">for</span> <span style=\"background-color:rgba(255,0,0,0.009708200232125819);\">a</span> <span style=\"background-color:rgba(255,0,0,0.4436272382736206);\">nigga</span> <span style=\"background-color:rgba(255,0,0,0.029208583291620016);\">and</span> <span style=\"background-color:rgba(255,0,0,0.030766979325562716);\">he</span> <span style=\"background-color:rgba(255,0,0,0.0828094594180584);\">still</span> <span style=\"background-color:rgba(255,0,0,0.04272207152098417);\">do</span> <span style=\"background-color:rgba(255,0,0,0.016321362927556038);\">you</span> <span style=\"background-color:rgba(255,0,0,0.38291633129119873);\">dirty</span>"
      ],
      "text/plain": [
       "<IPython.core.display.HTML object>"
      ]
     },
     "metadata": {},
     "output_type": "display_data"
    },
    {
     "data": {
      "text/html": [
       "<span style=\"background-color:rgba(255,0,0,0.10830708779394627);\">damn</span> <span style=\"background-color:rgba(255,0,0,0.17140960320830345);\">bro</span> <span style=\"background-color:rgba(255,0,0,0.026785151567310095);\">i</span> <span style=\"background-color:rgba(255,0,0,0.5161768570542336);\">hate</span> <span style=\"background-color:rgba(255,0,0,0.1364210620522499);\">watching</span> <span style=\"background-color:rgba(255,0,0,0.01385286683216691);\">cbs</span> <span style=\"background-color:rgba(255,0,0,0.005878659430891275);\">but</span> <span style=\"background-color:rgba(255,0,0,0.02529070945456624);\">tony</span> <span style=\"background-color:rgba(255,0,0,0.0733007350936532);\">gonna</span> <span style=\"background-color:rgba(255,0,0,0.028690786566585302);\">be</span> <span style=\"background-color:rgba(255,0,0,0.01485038548707962);\">on</span> <span style=\"background-color:rgba(255,0,0,0.007174072088673711);\">there</span> <span style=\"background-color:rgba(255,0,0,0.04327595233917236);\">so</span> <span style=\"background-color:rgba(255,0,0,0.005585930775851011);\">ffffff</span> it."
      ],
      "text/plain": [
       "<IPython.core.display.HTML object>"
      ]
     },
     "metadata": {},
     "output_type": "display_data"
    },
    {
     "data": {
      "text/html": [
       "rt @astoldbydessy: <span style=\"background-color:rgba(255,0,0,0.0013165955897420645);\">a</span> <span style=\"background-color:rgba(255,0,0,0.003053351247217506);\">real</span> <span style=\"background-color:rgba(255,0,0,0.043985615484416485);\">lame</span> <span style=\"background-color:rgba(255,0,0,0.18480809405446053);\">ass</span> nigga: \" <span style=\"background-color:rgba(255,0,0,0.006583807407878339);\">you</span> <span style=\"background-color:rgba(255,0,0,0.004768682993017137);\">still</span> <span style=\"background-color:rgba(255,0,0,0.06287185475230217);\">fucking</span> <span style=\"background-color:rgba(255,0,0,0.004334168916102499);\">with</span> <span style=\"background-color:rgba(255,0,0,0.002269420656375587);\">that</span> <span style=\"background-color:rgba(255,0,0,0.043985615484416485);\">lame</span> <span style=\"background-color:rgba(255,0,0,0.18480809405446053);\">ass</span> nigga?\" me: https://t.co/ddeb3q7bn5"
      ],
      "text/plain": [
       "<IPython.core.display.HTML object>"
      ]
     },
     "metadata": {},
     "output_type": "display_data"
    },
    {
     "data": {
      "text/html": [
       "rt @uhnikolinas: <span style=\"background-color:rgba(255,0,0,0.0003802387072937563);\">vampires</span> <span style=\"background-color:rgba(255,0,0,0.0017036467033904046);\">dont</span> <span style=\"background-color:rgba(255,0,0,0.0026299915043637156);\">even</span> <span style=\"background-color:rgba(255,0,0,0.0006678173667751253);\">get</span> <span style=\"background-color:rgba(255,0,0,0.02111365320160985);\">cold</span> ?? <span style=\"background-color:rgba(255,0,0,0.1534334011375904);\">bye</span> <span style=\"background-color:rgba(255,0,0,0.06299575790762901);\">theyre</span> <span style=\"background-color:rgba(255,0,0,0.5890091136097908);\">annoying</span> <span style=\"background-color:rgba(255,0,0,0.021294793114066124);\">as</span> <span style=\"background-color:rgba(255,0,0,0.3145403042435646);\">hell</span> https://t.co/fht4puqkeo"
      ],
      "text/plain": [
       "<IPython.core.display.HTML object>"
      ]
     },
     "metadata": {},
     "output_type": "display_data"
    },
    {
     "data": {
      "text/html": [
       "@fbgsavagedee <span style=\"background-color:rgba(255,0,0,0.027177557349205017);\">fuck</span> <span style=\"background-color:rgba(255,0,0,0.005108672776259482);\">that</span> <span style=\"background-color:rgba(255,0,0,0.09860808029770851);\">nigga</span> <span style=\"background-color:rgba(255,0,0,0.2116076648235321);\">wit</span> <span style=\"background-color:rgba(255,0,0,0.018926773918792605);\">a</span> <span style=\"background-color:rgba(255,0,0,0.32676439732313156);\">stupid</span> <span style=\"background-color:rgba(255,0,0,0.5173184722661972);\">ass</span> <span style=\"background-color:rgba(255,0,0,0.02472080523148179);\">name</span>"
      ],
      "text/plain": [
       "<IPython.core.display.HTML object>"
      ]
     },
     "metadata": {},
     "output_type": "display_data"
    },
    {
     "data": {
      "text/html": [
       "<span style=\"background-color:rgba(255,0,0,0.025035841390490532);\">so</span> <span style=\"background-color:rgba(255,0,0,0.020237171556800604);\">i</span> <span style=\"background-color:rgba(255,0,0,0.007449464756064117);\">joined</span> <span style=\"background-color:rgba(255,0,0,0.007156270439736545);\">the</span> <span style=\"background-color:rgba(255,0,0,0.00288492621621117);\">rush</span> <span style=\"background-color:rgba(255,0,0,0.0012670479191001505);\">comp</span> <span style=\"background-color:rgba(255,0,0,0.0007455670856870711);\">chat</span> <span style=\"background-color:rgba(255,0,0,0.002721258788369596);\">to</span> <span style=\"background-color:rgba(255,0,0,0.006111801485531032);\">say</span> <span style=\"background-color:rgba(255,0,0,0.0029070867458358407);\">ggs</span> <span style=\"background-color:rgba(255,0,0,0.002721258788369596);\">to</span> <span style=\"background-color:rgba(255,0,0,0.00016601470633759163);\">rexi</span> <span style=\"background-color:rgba(255,0,0,0.0006556965672643855);\">on</span> <span style=\"background-color:rgba(255,0,0,0.00208005090826191);\">that</span> <span style=\"background-color:rgba(255,0,0,0.0007397881563520059);\">4v4</span> <span style=\"background-color:rgba(255,0,0,0.001534481270937249);\">and</span> <span style=\"background-color:rgba(255,0,0,0.16136858612298965);\">niggas</span> <span style=\"background-color:rgba(255,0,0,0.03810137743130326);\">getting</span> <span style=\"background-color:rgba(255,0,0,0.7373054325580597);\">mad</span> <span style=\"background-color:rgba(255,0,0,0.03338968148455024);\">for</span> <span style=\"background-color:rgba(255,0,0,0.011447464348748326);\">no</span> reason&#127773;"
      ],
      "text/plain": [
       "<IPython.core.display.HTML object>"
      ]
     },
     "metadata": {},
     "output_type": "display_data"
    },
    {
     "data": {
      "text/html": [
       "<span style=\"background-color:rgba(255,0,0,0.004322737222537398);\">i</span> <span style=\"background-color:rgba(255,0,0,0.2450583130121231);\">hate</span> <span style=\"background-color:rgba(255,0,0,0.017261025495827198);\">how</span> <span style=\"background-color:rgba(255,0,0,0.00928918772842735);\">my</span> <span style=\"background-color:rgba(255,0,0,0.008997402037493885);\">generations</span> <span style=\"background-color:rgba(255,0,0,0.006028224597685039);\">thoughts</span> &amp; <span style=\"background-color:rgba(255,0,0,0.00045363398385234177);\">views</span> <span style=\"background-color:rgba(255,0,0,0.0006673642201349139);\">on</span> <span style=\"background-color:rgba(255,0,0,0.001961078669410199);\">things</span> <span style=\"background-color:rgba(255,0,0,0.006272785249166191);\">is</span> <span style=\"background-color:rgba(255,0,0,0.053238896653056145);\">so</span> <span style=\"background-color:rgba(255,0,0,0.4234246164560318);\">fucked</span> <span style=\"background-color:rgba(255,0,0,0.35170499235391617);\">up</span>"
      ],
      "text/plain": [
       "<IPython.core.display.HTML object>"
      ]
     },
     "metadata": {},
     "output_type": "display_data"
    },
    {
     "data": {
      "text/html": [
       "rt @xx_aysaaaa: <span style=\"background-color:rgba(255,0,0,0.0019555217295419425);\">i</span> <span style=\"background-color:rgba(255,0,0,0.1108595822006464);\">hate</span> <span style=\"background-color:rgba(255,0,0,0.03358225803822279);\">a</span> <span style=\"background-color:rgba(255,0,0,0.035238293930888176);\">mice</span> <span style=\"background-color:rgba(255,0,0,0.04587750881910324);\">head</span> <span style=\"background-color:rgba(255,0,0,0.23848015815019608);\">nigga</span> <span style=\"background-color:rgba(255,0,0,0.014441900420933962);\">that</span> <span style=\"background-color:rgba(255,0,0,0.004853036953136325);\">want</span> <span style=\"background-color:rgba(255,0,0,0.03358225803822279);\">a</span> <span style=\"background-color:rgba(255,0,0,0.21504653617739677);\">bitch</span> <span style=\"background-color:rgba(255,0,0,0.032360346522182226);\">all</span> <span style=\"background-color:rgba(255,0,0,0.004867566749453545);\">to</span> <span style=\"background-color:rgba(255,0,0,0.0046812769141979516);\">they</span> <span style=\"background-color:rgba(255,0,0,0.003438697021920234);\">self</span> <span style=\"background-color:rgba(255,0,0,0.0038300748565234244);\">but</span> <span style=\"background-color:rgba(255,0,0,0.007251486531458795);\">be</span> <span style=\"background-color:rgba(255,0,0,0.05244952626526356);\">micen</span> <span style=\"background-color:rgba(255,0,0,0.058991359546780586);\">like</span> <span style=\"background-color:rgba(255,0,0,0.03358225803822279);\">a</span> <span style=\"background-color:rgba(255,0,0,0.2928798273205757);\">mf</span> &#128529;"
      ],
      "text/plain": [
       "<IPython.core.display.HTML object>"
      ]
     },
     "metadata": {},
     "output_type": "display_data"
    },
    {
     "data": {
      "text/html": [
       "rt @yoooo_jay: <span style=\"background-color:rgba(255,0,0,0.2329150028526783);\">stupid</span> <span style=\"background-color:rgba(255,0,0,0.9129761159420013);\">nigga</span> &#128514; https://t.co/dl18typkrv"
      ],
      "text/plain": [
       "<IPython.core.display.HTML object>"
      ]
     },
     "metadata": {},
     "output_type": "display_data"
    },
    {
     "data": {
      "text/html": [
       "<span style=\"background-color:rgba(255,0,0,0.0018063766765408218);\">if</span> <span style=\"background-color:rgba(255,0,0,0.03701092675328255);\">a</span> <span style=\"background-color:rgba(255,0,0,0.24384593591094017);\">nigga</span> <span style=\"background-color:rgba(255,0,0,0.11337329633533955);\">texting</span> <span style=\"background-color:rgba(255,0,0,0.01596924616023898);\">you</span> <span style=\"background-color:rgba(255,0,0,0.0033463776344433427);\">and</span> <span style=\"background-color:rgba(255,0,0,0.01596924616023898);\">you</span> <span style=\"background-color:rgba(255,0,0,0.005151723162271082);\">know</span> <span style=\"background-color:rgba(255,0,0,0.03433030564337969);\">he</span> <span style=\"background-color:rgba(255,0,0,0.018856695387512445);\">in</span> <span style=\"background-color:rgba(255,0,0,0.03701092675328255);\">a</span> relationship, you're <span style=\"background-color:rgba(255,0,0,0.05960018839687109);\">just</span> <span style=\"background-color:rgba(255,0,0,0.014847889542579651);\">as</span> <span style=\"background-color:rgba(255,0,0,0.22257445380091667);\">bad</span> <span style=\"background-color:rgba(255,0,0,0.03281861776486039);\">of</span> <span style=\"background-color:rgba(255,0,0,0.03701092675328255);\">a</span> <span style=\"background-color:rgba(255,0,0,0.03217728342860937);\">person</span> <span style=\"background-color:rgba(255,0,0,0.014847889542579651);\">as</span> <span style=\"background-color:rgba(255,0,0,0.03433030564337969);\">he</span> <span style=\"background-color:rgba(255,0,0,0.07136421743780375);\">is</span> &#128514;✋&#127997;"
      ],
      "text/plain": [
       "<IPython.core.display.HTML object>"
      ]
     },
     "metadata": {},
     "output_type": "display_data"
    },
    {
     "data": {
      "text/html": [
       "<span style=\"background-color:rgba(255,0,0,0.024592787958681583);\">this</span> <span style=\"background-color:rgba(255,0,0,0.2710631862282753);\">ugly</span> <span style=\"background-color:rgba(255,0,0,0.013871747069060802);\">as</span> <span style=\"background-color:rgba(255,0,0,0.33708568662405014);\">hell</span> <span style=\"background-color:rgba(255,0,0,0.04058372229337692);\">shordy</span> <span style=\"background-color:rgba(255,0,0,0.017951146000996232);\">hope</span> <span style=\"background-color:rgba(255,0,0,0.027186342049390078);\">u</span> <span style=\"background-color:rgba(255,0,0,0.05969584919512272);\">realize</span> <span style=\"background-color:rgba(255,0,0,0.024592787958681583);\">this</span> <span style=\"background-color:rgba(255,0,0,0.29072895646095276);\">aint</span> <span style=\"background-color:rgba(255,0,0,0.0529501773416996);\">it</span> https://t.co/5ylwn5qtxv"
      ],
      "text/plain": [
       "<IPython.core.display.HTML object>"
      ]
     },
     "metadata": {},
     "output_type": "display_data"
    },
    {
     "data": {
      "text/html": [
       "rt @addisonsimmonse: don't <span style=\"background-color:rgba(255,0,0,0.0018002770957536995);\">give</span> <span style=\"background-color:rgba(255,0,0,0.004622140841092914);\">me</span> <span style=\"background-color:rgba(255,0,0,0.055493516847491264);\">crazy</span> <span style=\"background-color:rgba(255,0,0,0.058545470237731934);\">looks</span> <span style=\"background-color:rgba(255,0,0,0.007792821852490306);\">for</span> <span style=\"background-color:rgba(255,0,0,0.007136932690627873);\">taking</span> <span style=\"background-color:rgba(255,0,0,0.02769598737359047);\">selfies</span> <span style=\"background-color:rgba(255,0,0,0.01727901049889624);\">in</span> <span style=\"background-color:rgba(255,0,0,0.01247220323421061);\">my</span> <span style=\"background-color:rgba(255,0,0,0.008266818476840854);\">car</span> <span style=\"background-color:rgba(255,0,0,0.005537691758945584);\">when</span> you're <span style=\"background-color:rgba(255,0,0,0.07656398229300976);\">smoking</span> <span style=\"background-color:rgba(255,0,0,0.021725036203861237);\">on</span> <span style=\"background-color:rgba(255,0,0,0.019908237736672163);\">a</span> <span style=\"background-color:rgba(255,0,0,0.03984130918979645);\">cancer</span> <span style=\"background-color:rgba(255,0,0,0.023131798952817917);\">stick</span> <span style=\"background-color:rgba(255,0,0,0.01969238044694066);\">ya</span> <span style=\"background-color:rgba(255,0,0,0.25938257575035095);\">damn</span> <span style=\"background-color:rgba(255,0,0,0.09132302366197109);\">fool</span> <span style=\"background-color:rgba(255,0,0,0.39674464613199234);\">bye</span>"
      ],
      "text/plain": [
       "<IPython.core.display.HTML object>"
      ]
     },
     "metadata": {},
     "output_type": "display_data"
    },
    {
     "data": {
      "text/html": [
       "@sydneyparker4 @mariahhowe you're <span style=\"background-color:rgba(255,0,0,0.007260642014443874);\">the</span> <span style=\"background-color:rgba(255,0,0,0.09334721602499485);\">cutest</span> <span style=\"background-color:rgba(255,0,0,0.9500665962696075);\">fucking</span> <span style=\"background-color:rgba(255,0,0,0.08790884166955948);\">person</span>"
      ],
      "text/plain": [
       "<IPython.core.display.HTML object>"
      ]
     },
     "metadata": {},
     "output_type": "display_data"
    },
    {
     "data": {
      "text/html": [
       "<span style=\"background-color:rgba(255,0,0,0.0017268750525545329);\">i</span> <span style=\"background-color:rgba(255,0,0,0.005747152026742697);\">really</span> <span style=\"background-color:rgba(255,0,0,0.19945180043578148);\">hate</span> <span style=\"background-color:rgba(255,0,0,0.022509575355798006);\">it</span> <span style=\"background-color:rgba(255,0,0,0.09080016985535622);\">wen</span> <span style=\"background-color:rgba(255,0,0,0.0283403554931283);\">people</span> <span style=\"background-color:rgba(255,0,0,0.03464702516794205);\">trying</span> <span style=\"background-color:rgba(255,0,0,0.008340858039446175);\">to</span> <span style=\"background-color:rgba(255,0,0,0.001723304158076644);\">get</span> <span style=\"background-color:rgba(255,0,0,0.001954200124600902);\">on</span> <span style=\"background-color:rgba(255,0,0,0.0024036849208641797);\">my</span> <span style=\"background-color:rgba(255,0,0,0.02205804456025362);\">nerves</span> <span style=\"background-color:rgba(255,0,0,0.013284616870805621);\">like</span> <span style=\"background-color:rgba(255,0,0,0.1469063851982355);\">wtf</span> <span style=\"background-color:rgba(255,0,0,0.59078399091959);\">bitch</span> <span style=\"background-color:rgba(255,0,0,0.045859916135668755);\">are</span> <span style=\"background-color:rgba(255,0,0,0.0055321300169453025);\">you</span> <span style=\"background-color:rgba(255,0,0,0.0076532416278496385);\">looking</span> <span style=\"background-color:rgba(255,0,0,0.0019396327843423933);\">for</span>"
      ],
      "text/plain": [
       "<IPython.core.display.HTML object>"
      ]
     },
     "metadata": {},
     "output_type": "display_data"
    },
    {
     "data": {
      "text/html": [
       "<span style=\"background-color:rgba(255,0,0,0.004928736598230898);\">is</span> <span style=\"background-color:rgba(255,0,0,0.006552825798280537);\">the</span> <span style=\"background-color:rgba(255,0,0,0.02137098927050829);\">apc</span> <span style=\"background-color:rgba(255,0,0,0.013881870545446873);\">a</span> <span style=\"background-color:rgba(255,0,0,0.002766727120615542);\">bumbling</span> <span style=\"background-color:rgba(255,0,0,0.00182877090992406);\">eunuch</span> <span style=\"background-color:rgba(255,0,0,0.004583813133649528);\">or</span> <span style=\"background-color:rgba(255,0,0,0.013881870545446873);\">a</span> <span style=\"background-color:rgba(255,0,0,0.9908922016620636);\">retarded</span> infant? https://t.co/bvfbhmxgc3 https://t.co/gs8kbhczed"
      ],
      "text/plain": [
       "<IPython.core.display.HTML object>"
      ]
     },
     "metadata": {},
     "output_type": "display_data"
    },
    {
     "data": {
      "text/html": [
       "<span style=\"background-color:rgba(255,0,0,0.0830316822975874);\">fucked</span> <span style=\"background-color:rgba(255,0,0,0.10537974536418915);\">up</span> <span style=\"background-color:rgba(255,0,0,0.012652528239414096);\">you</span> <span style=\"background-color:rgba(255,0,0,0.013270473573356867);\">hit</span> <span style=\"background-color:rgba(255,0,0,0.011547333560883999);\">a</span> <span style=\"background-color:rgba(255,0,0,0.01574536203406751);\">lick</span> <span style=\"background-color:rgba(255,0,0,0.30394820496439934);\">nigga</span> <span style=\"background-color:rgba(255,0,0,0.394354946911335);\">god</span> <span style=\"background-color:rgba(255,0,0,0.11864143423736095);\">answered</span> <span style=\"background-color:rgba(255,0,0,0.015141763724386692);\">your</span> <span style=\"background-color:rgba(255,0,0,0.04882033448666334);\">prayers</span>"
      ],
      "text/plain": [
       "<IPython.core.display.HTML object>"
      ]
     },
     "metadata": {},
     "output_type": "display_data"
    },
    {
     "data": {
      "text/html": [
       "<span style=\"background-color:rgba(255,0,0,0.004723170131910592);\">payback</span> <span style=\"background-color:rgba(255,0,0,0.006255138432607055);\">is</span> <span style=\"background-color:rgba(255,0,0,0.014377640327438712);\">a</span> <span style=\"background-color:rgba(255,0,0,0.5954223498702049);\">bitch</span> <span style=\"background-color:rgba(255,0,0,0.031528223771601915);\">and</span> <span style=\"background-color:rgba(255,0,0,0.09182157926261425);\">looks</span> <span style=\"background-color:rgba(255,0,0,0.08252152241766453);\">like</span> #putin <span style=\"background-color:rgba(255,0,0,0.05534846801310778);\">gave</span> <span style=\"background-color:rgba(255,0,0,0.025042155757546425);\">the</span> #syrian <span style=\"background-color:rgba(255,0,0,0.03540918696671724);\">rebels</span> <span style=\"background-color:rgba(255,0,0,0.0052762823179364204);\">one</span> <span style=\"background-color:rgba(255,0,0,0.006723639089614153);\">helluva</span> <span style=\"background-color:rgba(255,0,0,0.014377640327438712);\">a</span> <span style=\"background-color:rgba(255,0,0,0.1562630571424961);\">beating</span> https://t.co/jbvq1cji37"
      ],
      "text/plain": [
       "<IPython.core.display.HTML object>"
      ]
     },
     "metadata": {},
     "output_type": "display_data"
    },
    {
     "data": {
      "text/html": [
       "rt @idntwearcondoms: <span style=\"background-color:rgba(255,0,0,0.0005631542080664076);\">read</span> <span style=\"background-color:rgba(255,0,0,0.0010559899237705395);\">that</span> <span style=\"background-color:rgba(255,0,0,0.07392415311187506);\">nigga</span> <span style=\"background-color:rgba(255,0,0,0.11183132417500019);\">sis</span> rt @long_legliteskn: <span style=\"background-color:rgba(255,0,0,0.002359076897846535);\">you</span> <span style=\"background-color:rgba(255,0,0,0.1122483890503645);\">niggas</span> <span style=\"background-color:rgba(255,0,0,0.0068164069671183825);\">and</span> <span style=\"background-color:rgba(255,0,0,0.13580537401139736);\">bitches</span> <span style=\"background-color:rgba(255,0,0,0.6415349990129471);\">annoying</span> <span style=\"background-color:rgba(255,0,0,0.07428045384585857);\">nobody</span> <span style=\"background-color:rgba(255,0,0,0.008532473584637046);\">gives</span> <span style=\"background-color:rgba(255,0,0,0.0011811508011305705);\">two</span> <span style=\"background-color:rgba(255,0,0,0.03774967277422547);\">fucks</span> <span style=\"background-color:rgba(255,0,0,0.006531557301059365);\">about</span> <span style=\"background-color:rgba(255,0,0,0.002359076897846535);\">you</span> <span style=\"background-color:rgba(255,0,0,0.001881023054011166);\">or</span> <span style=\"background-color:rgba(255,0,0,0.0013698496331926435);\">your</span> com…"
      ],
      "text/plain": [
       "<IPython.core.display.HTML object>"
      ]
     },
     "metadata": {},
     "output_type": "display_data"
    },
    {
     "data": {
      "text/html": [
       "rt @speakingofke_: <span style=\"background-color:rgba(255,0,0,0.0031649702577851713);\">if</span> <span style=\"background-color:rgba(255,0,0,0.007779331644997001);\">a</span> <span style=\"background-color:rgba(255,0,0,0.4272448644042015);\">nigga</span> <span style=\"background-color:rgba(255,0,0,0.05377386696636677);\">ever</span> <span style=\"background-color:rgba(255,0,0,0.0216718390583992);\">talk</span> <span style=\"background-color:rgba(255,0,0,0.12405632063746452);\">bad</span> <span style=\"background-color:rgba(255,0,0,0.021948276553303003);\">about</span> <span style=\"background-color:rgba(255,0,0,0.0239728856831789);\">me</span> <span style=\"background-color:rgba(255,0,0,0.03675564657896757);\">just</span> <span style=\"background-color:rgba(255,0,0,0.01998205203562975);\">know</span> <span style=\"background-color:rgba(255,0,0,0.018220135243609548);\">i</span> <span style=\"background-color:rgba(255,0,0,0.221334807574749);\">hurt</span> <span style=\"background-color:rgba(255,0,0,0.11576039716601372);\">them</span> &#128524;"
      ],
      "text/plain": [
       "<IPython.core.display.HTML object>"
      ]
     },
     "metadata": {},
     "output_type": "display_data"
    },
    {
     "data": {
      "text/html": [
       "rt @x_lovekay: <span style=\"background-color:rgba(255,0,0,0.0007695882231928408);\">all</span> <span style=\"background-color:rgba(255,0,0,0.0193398620467633);\">niggas</span> <span style=\"background-color:rgba(255,0,0,0.002206708595622331);\">do</span> <span style=\"background-color:rgba(255,0,0,0.0015669922868255526);\">is</span> <span style=\"background-color:rgba(255,0,0,0.0008507105667376891);\">fill</span> <span style=\"background-color:rgba(255,0,0,0.00037016652640886605);\">your</span> <span style=\"background-color:rgba(255,0,0,0.0034091819543391466);\">head</span> <span style=\"background-color:rgba(255,0,0,0.010192125337198377);\">up</span> <span style=\"background-color:rgba(255,0,0,0.0018261026707477868);\">with</span> <span style=\"background-color:rgba(255,0,0,0.015290430746972561);\">lies</span> &amp; <span style=\"background-color:rgba(255,0,0,0.04604154732078314);\">fw</span> <span style=\"background-color:rgba(255,0,0,0.4525469243526459);\">ugly</span> bitches&#129305;&#127997; bye.."
      ],
      "text/plain": [
       "<IPython.core.display.HTML object>"
      ]
     },
     "metadata": {},
     "output_type": "display_data"
    },
    {
     "data": {
      "text/html": [
       "<span style=\"background-color:rgba(255,0,0,0.0036891919444315135);\">i</span> <span style=\"background-color:rgba(255,0,0,0.14078643172979355);\">fucking</span> <span style=\"background-color:rgba(255,0,0,0.25725511834025383);\">hate</span> you, <span style=\"background-color:rgba(255,0,0,0.0036891919444315135);\">i</span> <span style=\"background-color:rgba(255,0,0,0.011887737782672048);\">literally</span> <span style=\"background-color:rgba(255,0,0,0.01017655129544437);\">wanna</span> <span style=\"background-color:rgba(255,0,0,0.05963212810456753);\">kill</span> <span style=\"background-color:rgba(255,0,0,0.008230603416450322);\">you</span> <span style=\"background-color:rgba(255,0,0,0.011533088982105255);\">so</span> <span style=\"background-color:rgba(255,0,0,0.14078643172979355);\">fucking</span> <span style=\"background-color:rgba(255,0,0,0.15720216557383537);\">bad</span> <span style=\"background-color:rgba(255,0,0,0.008230603416450322);\">you</span> <span style=\"background-color:rgba(255,0,0,0.01753487391397357);\">fat</span> <span style=\"background-color:rgba(255,0,0,0.16407381743192673);\">stupid</span> <span style=\"background-color:rgba(255,0,0,0.3410077467560768);\">bastard</span>"
      ],
      "text/plain": [
       "<IPython.core.display.HTML object>"
      ]
     },
     "metadata": {},
     "output_type": "display_data"
    },
    {
     "data": {
      "text/html": [
       "rt @prisonplanet: <span style=\"background-color:rgba(255,0,0,0.31400851905345917);\">fucking</span> <span style=\"background-color:rgba(255,0,0,0.32665278762578964);\">russians</span> again! &#128556; https://t.co/vfxhwtorr8"
      ],
      "text/plain": [
       "<IPython.core.display.HTML object>"
      ]
     },
     "metadata": {},
     "output_type": "display_data"
    },
    {
     "data": {
      "text/html": [
       "<span style=\"background-color:rgba(255,0,0,0.0605308823287487);\">niggas</span> <span style=\"background-color:rgba(255,0,0,0.08794916793704033);\">bout</span> <span style=\"background-color:rgba(255,0,0,0.005591140943579376);\">to</span> <span style=\"background-color:rgba(255,0,0,0.04454252775758505);\">die</span> <span style=\"background-color:rgba(255,0,0,0.014909993624314666);\">a</span> <span style=\"background-color:rgba(255,0,0,0.08132834918797016);\">virgin</span> <span style=\"background-color:rgba(255,0,0,0.48009835183620453);\">fucking</span> <span style=\"background-color:rgba(255,0,0,0.022150836884975433);\">with</span> <span style=\"background-color:rgba(255,0,0,0.2025097794830799);\">donald</span> <span style=\"background-color:rgba(255,0,0,0.1539433468133211);\">trump</span> https://t.co/2axaq0kraw"
      ],
      "text/plain": [
       "<IPython.core.display.HTML object>"
      ]
     },
     "metadata": {},
     "output_type": "display_data"
    },
    {
     "data": {
      "text/html": [
       "rt @thelordofgore: <span style=\"background-color:rgba(255,0,0,0.014492972986772656);\">i</span> <span style=\"background-color:rgba(255,0,0,0.2086072973906994);\">hate</span> <span style=\"background-color:rgba(255,0,0,0.0936270784586668);\">math</span> <span style=\"background-color:rgba(255,0,0,0.014492972986772656);\">i</span> <span style=\"background-color:rgba(255,0,0,0.022203198168426752);\">wish</span> <span style=\"background-color:rgba(255,0,0,0.014492972986772656);\">i</span> <span style=\"background-color:rgba(255,0,0,0.010417286539450288);\">could</span> <span style=\"background-color:rgba(255,0,0,0.010215528309345245);\">beat</span> <span style=\"background-color:rgba(255,0,0,0.010356396669521928);\">it</span> <span style=\"background-color:rgba(255,0,0,0.053511722944676876);\">up</span> <span style=\"background-color:rgba(255,0,0,0.016937622567638755);\">or</span> <span style=\"background-color:rgba(255,0,0,0.011681701289489865);\">traumatize</span> <span style=\"background-color:rgba(255,0,0,0.010356396669521928);\">it</span> <span style=\"background-color:rgba(255,0,0,0.00627893372438848);\">by</span> <span style=\"background-color:rgba(255,0,0,0.23848701268434525);\">fucking</span> <span style=\"background-color:rgba(255,0,0,0.040144980885088444);\">its</span> <span style=\"background-color:rgba(255,0,0,0.08505773730576038);\">wife</span> <span style=\"background-color:rgba(255,0,0,0.040028695948421955);\">in</span> <span style=\"background-color:rgba(255,0,0,0.038581290282309055);\">front</span> <span style=\"background-color:rgba(255,0,0,0.009072673274204135);\">of</span> <span style=\"background-color:rgba(255,0,0,0.010356396669521928);\">it</span> <span style=\"background-color:rgba(255,0,0,0.007089258870109916);\">and</span> <span style=\"background-color:rgba(255,0,0,0.1371101476252079);\">killing</span> <span style=\"background-color:rgba(255,0,0,0.040144980885088444);\">its</span> <span style=\"background-color:rgba(255,0,0,0.049177161417901516);\">kids</span>"
      ],
      "text/plain": [
       "<IPython.core.display.HTML object>"
      ]
     },
     "metadata": {},
     "output_type": "display_data"
    },
    {
     "data": {
      "text/html": [
       "rt @uriel12_: <span style=\"background-color:rgba(255,0,0,0.004827694792766124);\">why</span> <span style=\"background-color:rgba(255,0,0,0.005734804435633123);\">are</span> <span style=\"background-color:rgba(255,0,0,0.08911058306694031);\">females</span> <span style=\"background-color:rgba(255,0,0,0.07012372836470604);\">so</span> <span style=\"background-color:rgba(255,0,0,0.47101303935050964);\">damn</span> crazy???? &#128580;&#128580;"
      ],
      "text/plain": [
       "<IPython.core.display.HTML object>"
      ]
     },
     "metadata": {},
     "output_type": "display_data"
    },
    {
     "data": {
      "text/html": [
       "<span style=\"background-color:rgba(255,0,0,0.0008654224802739918);\">how</span> <span style=\"background-color:rgba(255,0,0,0.015371753834187984);\">y&#x27;all</span> <span style=\"background-color:rgba(255,0,0,0.10033738799393177);\">gon</span> <span style=\"background-color:rgba(255,0,0,0.0026261061429977417);\">get</span> <span style=\"background-color:rgba(255,0,0,0.08783682249486446);\">mad</span> <span style=\"background-color:rgba(255,0,0,0.020621733274310827);\">at</span> <span style=\"background-color:rgba(255,0,0,0.38867760449647903);\">ugly</span> <span style=\"background-color:rgba(255,0,0,0.5236679688096046);\">niggas</span> <span style=\"background-color:rgba(255,0,0,0.009757217485457659);\">for</span> <span style=\"background-color:rgba(255,0,0,0.04772686865180731);\">havin</span> confidence? <span style=\"background-color:rgba(255,0,0,0.0034239966771565378);\">we</span> <span style=\"background-color:rgba(255,0,0,0.0047801752225495875);\">all</span> <span style=\"background-color:rgba(255,0,0,0.0034239966771565378);\">we</span> got."
      ],
      "text/plain": [
       "<IPython.core.display.HTML object>"
      ]
     },
     "metadata": {},
     "output_type": "display_data"
    },
    {
     "data": {
      "text/html": [
       "rt @ddllfaith: cfts, sweetie, i'm <span style=\"background-color:rgba(255,0,0,0.013596811331808567);\">so</span> sorry. i'm <span style=\"background-color:rgba(255,0,0,0.013596811331808567);\">so</span> <span style=\"background-color:rgba(255,0,0,0.04349231254309416);\">sorry</span> <span style=\"background-color:rgba(255,0,0,0.00888843322172761);\">that</span> <span style=\"background-color:rgba(255,0,0,0.006879866123199463);\">a</span> <span style=\"background-color:rgba(255,0,0,0.25965195149183273);\">ugly</span> <span style=\"background-color:rgba(255,0,0,0.35675495862960815);\">ass</span> <span style=\"background-color:rgba(255,0,0,0.430094338953495);\">bitch</span> <span style=\"background-color:rgba(255,0,0,0.026543382555246353);\">like</span> <span style=\"background-color:rgba(255,0,0,0.0019847895600833);\">this</span> <span style=\"background-color:rgba(255,0,0,0.0009999972098739818);\">would</span> <span style=\"background-color:rgba(255,0,0,0.001683311420492828);\">even</span> <span style=\"background-color:rgba(255,0,0,0.00483140058349818);\">say</span> this, <span style=\"background-color:rgba(255,0,0,0.004947400302626193);\">oh</span> <span style=\"background-color:rgba(255,0,0,0.0025984487729147077);\">my</span> <span style=\"background-color:rgba(255,0,0,0.020692688412964344);\">god</span> https://t.co/svmiaj…"
      ],
      "text/plain": [
       "<IPython.core.display.HTML object>"
      ]
     },
     "metadata": {},
     "output_type": "display_data"
    },
    {
     "data": {
      "text/html": [
       "i'm <span style=\"background-color:rgba(255,0,0,0.024048699997365475);\">not</span> <span style=\"background-color:rgba(255,0,0,0.056847864761948586);\">trying</span> <span style=\"background-color:rgba(255,0,0,0.0210131099447608);\">to</span> <span style=\"background-color:rgba(255,0,0,0.043624998070299625);\">answer</span> <span style=\"background-color:rgba(255,0,0,0.030294968746602535);\">the</span> <span style=\"background-color:rgba(255,0,0,0.041595171205699444);\">question</span> <span style=\"background-color:rgba(255,0,0,0.0210131099447608);\">to</span> <span style=\"background-color:rgba(255,0,0,0.05713862366974354);\">pull</span> <span style=\"background-color:rgba(255,0,0,0.030294968746602535);\">the</span> <span style=\"background-color:rgba(255,0,0,0.012685761321336031);\">plug</span> <span style=\"background-color:rgba(255,0,0,0.007558880024589598);\">or</span> <span style=\"background-color:rgba(255,0,0,0.024048699997365475);\">not</span> <span style=\"background-color:rgba(255,0,0,0.01754990196786821);\">on</span> <span style=\"background-color:rgba(255,0,0,0.016479612095281482);\">my</span> <span style=\"background-color:rgba(255,0,0,0.42127281427383423);\">fucking</span> father."
      ],
      "text/plain": [
       "<IPython.core.display.HTML object>"
      ]
     },
     "metadata": {},
     "output_type": "display_data"
    },
    {
     "data": {
      "text/html": [
       "rt @thetruthrabb: <span style=\"background-color:rgba(255,0,0,0.39229247719049454);\">niggas</span> <span style=\"background-color:rgba(255,0,0,0.09735799394547939);\">doing</span> <span style=\"background-color:rgba(255,0,0,0.4561088979244232);\">bad</span> business. <span style=\"background-color:rgba(255,0,0,0.017283970955759287);\">i</span> can't <span style=\"background-color:rgba(255,0,0,0.004254514933563769);\">get</span> <span style=\"background-color:rgba(255,0,0,0.004591303586494178);\">money</span> <span style=\"background-color:rgba(255,0,0,0.005714511498808861);\">with</span> <span style=\"background-color:rgba(255,0,0,0.007895987946540117);\">you</span>"
      ],
      "text/plain": [
       "<IPython.core.display.HTML object>"
      ]
     },
     "metadata": {},
     "output_type": "display_data"
    },
    {
     "data": {
      "text/html": [
       "rt @ochentaz: \"i <span style=\"background-color:rgba(255,0,0,0.13632495887577534);\">hate</span> <span style=\"background-color:rgba(255,0,0,0.15835152938961983);\">broke</span> <span style=\"background-color:rgba(255,0,0,0.41678909212350845);\">ass</span> <span style=\"background-color:rgba(255,0,0,0.48962682485580444);\">niggas</span> \" https://t.co/mylrbozdiv"
      ],
      "text/plain": [
       "<IPython.core.display.HTML object>"
      ]
     },
     "metadata": {},
     "output_type": "display_data"
    },
    {
     "data": {
      "text/html": [
       "<span style=\"background-color:rgba(255,0,0,0.0006319265958154574);\">you</span> <span style=\"background-color:rgba(255,0,0,0.0009451800724491477);\">got</span> <span style=\"background-color:rgba(255,0,0,0.010593518381938338);\">to</span> <span style=\"background-color:rgba(255,0,0,0.0009544709610054269);\">be</span> <span style=\"background-color:rgba(255,0,0,0.0023481264361180365);\">a</span> <span style=\"background-color:rgba(255,0,0,0.14143992215394974);\">hoe</span> <span style=\"background-color:rgba(255,0,0,0.4287513718008995);\">ass</span> <span style=\"background-color:rgba(255,0,0,0.5788734555244446);\">nigga</span> <span style=\"background-color:rgba(255,0,0,0.010593518381938338);\">to</span> <span style=\"background-color:rgba(255,0,0,0.0007189336611190811);\">get</span> <span style=\"background-color:rgba(255,0,0,0.039345771074295044);\">mad</span> <span style=\"background-color:rgba(255,0,0,0.002890273171942681);\">for</span> <span style=\"background-color:rgba(255,0,0,0.002331655559828505);\">what</span> <span style=\"background-color:rgba(255,0,0,0.0033871212508529425);\">he</span> <span style=\"background-color:rgba(255,0,0,0.009198401239700615);\">did</span> https://t.co/ymsqjexzva"
      ],
      "text/plain": [
       "<IPython.core.display.HTML object>"
      ]
     },
     "metadata": {},
     "output_type": "display_data"
    },
    {
     "data": {
      "text/html": [
       "<span style=\"background-color:rgba(255,0,0,7.75829357735347e-05);\">aliyah</span> <span style=\"background-color:rgba(255,0,0,0.007891725981608033);\">swear</span> <span style=\"background-color:rgba(255,0,0,0.0019424808851908892);\">to</span> <span style=\"background-color:rgba(255,0,0,0.02565935719758272);\">god</span> <span style=\"background-color:rgba(255,0,0,0.10276930406689644);\">everybody</span> <span style=\"background-color:rgba(255,0,0,0.7873296737670898);\">stupid</span> <span style=\"background-color:rgba(255,0,0,0.019564111717045307);\">for</span> <span style=\"background-color:rgba(255,0,0,0.00943903170991689);\">a</span> <span style=\"background-color:rgba(255,0,0,0.21947292611002922);\">nigga</span> <span style=\"background-color:rgba(255,0,0,0.018768069567158818);\">but</span> <span style=\"background-color:rgba(255,0,0,0.023997363168746233);\">her</span>"
      ],
      "text/plain": [
       "<IPython.core.display.HTML object>"
      ]
     },
     "metadata": {},
     "output_type": "display_data"
    },
    {
     "data": {
      "text/html": [
       "<span style=\"background-color:rgba(255,0,0,0.07049343548715115);\">fucking</span> <span style=\"background-color:rgba(255,0,0,0.6117851287126541);\">stupid</span> nigger. <span style=\"background-color:rgba(255,0,0,0.027239532209932804);\">stick</span> <span style=\"background-color:rgba(255,0,0,0.0027110541122965515);\">to</span> <span style=\"background-color:rgba(255,0,0,0.00044187516323290765);\">selling</span> drugs. https://t.co/isp4qlm4mp"
      ],
      "text/plain": [
       "<IPython.core.display.HTML object>"
      ]
     },
     "metadata": {},
     "output_type": "display_data"
    },
    {
     "data": {
      "text/html": [
       "rt @jazyybabyy: <span style=\"background-color:rgba(255,0,0,0.0008229448576457798);\">i</span> <span style=\"background-color:rgba(255,0,0,0.04665318876504898);\">hate</span> <span style=\"background-color:rgba(255,0,0,0.01276313210837543);\">casey</span> anthony, <span style=\"background-color:rgba(255,0,0,0.001399405300617218);\">always</span> <span style=\"background-color:rgba(255,0,0,0.00046872548409737647);\">have</span> <span style=\"background-color:rgba(255,0,0,0.0005165834954823367);\">since</span> <span style=\"background-color:rgba(255,0,0,0.0007450136763509363);\">the</span> beginning. <span style=\"background-color:rgba(255,0,0,0.013392368564382195);\">uhh</span> <span style=\"background-color:rgba(255,0,0,0.00874027842655778);\">she</span> <span style=\"background-color:rgba(255,0,0,0.003686279524117708);\">makes</span> <span style=\"background-color:rgba(255,0,0,0.006687279092147946);\">me</span> <span style=\"background-color:rgba(255,0,0,0.016745247412472963);\">so</span> <span style=\"background-color:rgba(255,0,0,0.18241344019770622);\">damn</span> mad. <span style=\"background-color:rgba(255,0,0,0.03696498228237033);\">hope</span> <span style=\"background-color:rgba(255,0,0,0.00874027842655778);\">she</span> <span style=\"background-color:rgba(255,0,0,0.003130901313852519);\">rots</span> <span style=\"background-color:rgba(255,0,0,0.0025406156782992184);\">in</span> hell."
      ],
      "text/plain": [
       "<IPython.core.display.HTML object>"
      ]
     },
     "metadata": {},
     "output_type": "display_data"
    },
    {
     "data": {
      "text/html": [
       "<span style=\"background-color:rgba(255,0,0,0.014357148902490735);\">my</span> <span style=\"background-color:rgba(255,0,0,0.022681697737425566);\">mom</span> <span style=\"background-color:rgba(255,0,0,0.03082813462242484);\">irks</span> <span style=\"background-color:rgba(255,0,0,0.014357148902490735);\">my</span> <span style=\"background-color:rgba(255,0,0,0.35295411944389343);\">fucking</span> <span style=\"background-color:rgba(255,0,0,0.06703232880681753);\">soul</span> <span style=\"background-color:rgba(255,0,0,0.020390800200402737);\">but</span> <span style=\"background-color:rgba(255,0,0,0.028717732056975365);\">i</span> wouldn't <span style=\"background-color:rgba(255,0,0,0.007577060605399311);\">trade</span> <span style=\"background-color:rgba(255,0,0,0.05288132932037115);\">her</span> <span style=\"background-color:rgba(255,0,0,0.022396882995963097);\">for</span> <span style=\"background-color:rgba(255,0,0,0.03289062762632966);\">the</span> <span style=\"background-color:rgba(255,0,0,0.1070683915168047);\">world</span>"
      ],
      "text/plain": [
       "<IPython.core.display.HTML object>"
      ]
     },
     "metadata": {},
     "output_type": "display_data"
    },
    {
     "data": {
      "text/html": [
       "rt @xoxo_deshonda: <span style=\"background-color:rgba(255,0,0,0.001442637003492564);\">if</span> <span style=\"background-color:rgba(255,0,0,0.0029920856468379498);\">i</span> <span style=\"background-color:rgba(255,0,0,0.0014200179430190474);\">have</span> <span style=\"background-color:rgba(255,0,0,0.003694667248055339);\">a</span> <span style=\"background-color:rgba(255,0,0,0.014531683409586549);\">daughter</span> <span style=\"background-color:rgba(255,0,0,0.010608313605189323);\">she</span> can't <span style=\"background-color:rgba(255,0,0,0.20488739013671875);\">fuck</span> <span style=\"background-color:rgba(255,0,0,0.015461634611710906);\">with</span> <span style=\"background-color:rgba(255,0,0,0.20488739013671875);\">fuck</span> niggas!!!!"
      ],
      "text/plain": [
       "<IPython.core.display.HTML object>"
      ]
     },
     "metadata": {},
     "output_type": "display_data"
    },
    {
     "data": {
      "text/html": [
       "rt @keunteh: <span style=\"background-color:rgba(255,0,0,0.011926445877179503);\">my</span> <span style=\"background-color:rgba(255,0,0,0.09007480926811695);\">attitude</span> <span style=\"background-color:rgba(255,0,0,0.01232582377269864);\">wayyyy</span> <span style=\"background-color:rgba(255,0,0,0.002810940204653889);\">toooo</span> <span style=\"background-color:rgba(255,0,0,0.10642416775226593);\">horrible</span> <span style=\"background-color:rgba(255,0,0,0.024211581330746412);\">for</span> <span style=\"background-color:rgba(255,0,0,0.03827254520729184);\">a</span> <span style=\"background-color:rgba(255,0,0,0.011389680439606309);\">softttttt</span> <span style=\"background-color:rgba(255,0,0,0.5900102108716965);\">ass</span> niggggaaa!!!!!!!&#128483;&#128483;&#128483;&#128483;&#128483;&#128483;&#128483;&#128483;&#128483;&#128483;&#128483;"
      ],
      "text/plain": [
       "<IPython.core.display.HTML object>"
      ]
     },
     "metadata": {},
     "output_type": "display_data"
    },
    {
     "data": {
      "text/html": [
       "<span style=\"background-color:rgba(255,0,0,0.0021530476806219667);\">every</span> <span style=\"background-color:rgba(255,0,0,0.018816437805071473);\">chick</span> <span style=\"background-color:rgba(255,0,0,0.011607724009081721);\">wanna</span> <span style=\"background-color:rgba(255,0,0,0.0033983320463448763);\">be</span> <span style=\"background-color:rgba(255,0,0,0.007413532584905624);\">beyonce</span> <span style=\"background-color:rgba(255,0,0,0.0025003706105053425);\">but</span> don't <span style=\"background-color:rgba(255,0,0,0.0024690054124221206);\">want</span> <span style=\"background-color:rgba(255,0,0,0.003802613355219364);\">a</span> <span style=\"background-color:rgba(255,0,0,0.30874675139784813);\">ugly</span> <span style=\"background-color:rgba(255,0,0,0.8237217366695404);\">nigga</span> &#128530;"
      ],
      "text/plain": [
       "<IPython.core.display.HTML object>"
      ]
     },
     "metadata": {},
     "output_type": "display_data"
    },
    {
     "data": {
      "text/html": [
       "<span style=\"background-color:rgba(255,0,0,0.001949403522303328);\">it</span> <span style=\"background-color:rgba(255,0,0,0.0336647592484951);\">fucked</span> <span style=\"background-color:rgba(255,0,0,0.011956298258155584);\">me</span> <span style=\"background-color:rgba(255,0,0,0.026657800190150738);\">up</span> <span style=\"background-color:rgba(255,0,0,0.007515274919569492);\">when</span> <span style=\"background-color:rgba(255,0,0,0.012866134056821465);\">i</span> <span style=\"background-color:rgba(255,0,0,0.003302771074231714);\">seen</span> <span style=\"background-color:rgba(255,0,0,0.02907927380874753);\">you</span> <span style=\"background-color:rgba(255,0,0,0.045072552748024464);\">with</span> <span style=\"background-color:rgba(255,0,0,0.024725203402340412);\">the</span> <span style=\"background-color:rgba(255,0,0,0.1592770405113697);\">nigga</span> <span style=\"background-color:rgba(255,0,0,0.024725203402340412);\">the</span> <span style=\"background-color:rgba(255,0,0,0.009660633513703942);\">day</span> <span style=\"background-color:rgba(255,0,0,0.013257395476102829);\">after</span> <span style=\"background-color:rgba(255,0,0,0.012866134056821465);\">i</span> <span style=\"background-color:rgba(255,0,0,0.02502294722944498);\">was</span> <span style=\"background-color:rgba(255,0,0,0.10813716799020767);\">warned</span> <span style=\"background-color:rgba(255,0,0,0.02907927380874753);\">you</span> <span style=\"background-color:rgba(255,0,0,0.02502294722944498);\">was</span> <span style=\"background-color:rgba(255,0,0,0.5403381958603859);\">fucking</span> <span style=\"background-color:rgba(255,0,0,0.045072552748024464);\">with</span> him&#128530;"
      ],
      "text/plain": [
       "<IPython.core.display.HTML object>"
      ]
     },
     "metadata": {},
     "output_type": "display_data"
    },
    {
     "data": {
      "text/html": [
       "rt @witchycleo: <span style=\"background-color:rgba(255,0,0,0.017145784804597497);\">lmaoooooo</span> <span style=\"background-color:rgba(255,0,0,0.010533310705795884);\">atlanta</span> <span style=\"background-color:rgba(255,0,0,0.2594255283474922);\">niggas</span> <span style=\"background-color:rgba(255,0,0,0.05212429445236921);\">reading</span> <span style=\"background-color:rgba(255,0,0,0.01489186892285943);\">this</span> <span style=\"background-color:rgba(255,0,0,0.0070715975016355515);\">with</span> <span style=\"background-color:rgba(255,0,0,0.5635494738817215);\">mad</span> <span style=\"background-color:rgba(255,0,0,0.10828382335603237);\">ease</span> https://t.co/qd1aqutlmo"
      ],
      "text/plain": [
       "<IPython.core.display.HTML object>"
      ]
     },
     "metadata": {},
     "output_type": "display_data"
    },
    {
     "data": {
      "text/html": [
       "rt @b0wsaa: joon: <span style=\"background-color:rgba(255,0,0,0.004573979240376502);\">in</span> <span style=\"background-color:rgba(255,0,0,0.023048967123031616);\">him</span> <span style=\"background-color:rgba(255,0,0,0.04396751057356596);\">grave</span> pepol: <span style=\"background-color:rgba(255,0,0,0.043715257197618484);\">look</span> <span style=\"background-color:rgba(255,0,0,0.0218541850335896);\">at</span> <span style=\"background-color:rgba(255,0,0,0.006759149837307632);\">this</span> <span style=\"background-color:rgba(255,0,0,0.24126138538122177);\">ugly</span> <span style=\"background-color:rgba(255,0,0,0.3632717579603195);\">ass</span> nigga. <span style=\"background-color:rgba(255,0,0,0.006980908801779151);\">appropriating</span> <span style=\"background-color:rgba(255,0,0,0.058493753895163536);\">death</span> https://t.co/ctclnl3yk3"
      ],
      "text/plain": [
       "<IPython.core.display.HTML object>"
      ]
     },
     "metadata": {},
     "output_type": "display_data"
    },
    {
     "data": {
      "text/html": [
       "rt @hexgrrrl: <span style=\"background-color:rgba(255,0,0,0.00169205799465999);\">this</span> <span style=\"background-color:rgba(255,0,0,0.0022931763669475913);\">goes</span> <span style=\"background-color:rgba(255,0,0,0.0013081759971100837);\">for</span> <span style=\"background-color:rgba(255,0,0,0.003358984540682286);\">all</span> <span style=\"background-color:rgba(255,0,0,0.0023922621039673686);\">of</span> <span style=\"background-color:rgba(255,0,0,0.0027142337057739496);\">you</span> <span style=\"background-color:rgba(255,0,0,0.2867979183793068);\">ugly</span> <span style=\"background-color:rgba(255,0,0,0.7157961279153824);\">ass</span> <span style=\"background-color:rgba(255,0,0,0.17642369493842125);\">arabs</span> <span style=\"background-color:rgba(255,0,0,0.008167573832906783);\">and</span> <span style=\"background-color:rgba(255,0,0,0.008351895376108587);\">north</span> <span style=\"background-color:rgba(255,0,0,0.005772846634499729);\">africans</span> https://t.co/dw29s96spg"
      ],
      "text/plain": [
       "<IPython.core.display.HTML object>"
      ]
     },
     "metadata": {},
     "output_type": "display_data"
    },
    {
     "data": {
      "text/html": [
       "@24runner <span style=\"background-color:rgba(255,0,0,0.0012641162902582437);\">this</span> <span style=\"background-color:rgba(255,0,0,0.06599434185773134);\">evil</span> <span style=\"background-color:rgba(255,0,0,0.6433194130659103);\">bitch</span> <span style=\"background-color:rgba(255,0,0,0.3032332472503185);\">invented</span> <span style=\"background-color:rgba(255,0,0,0.14983552508056164);\">fact</span> contortion."
      ],
      "text/plain": [
       "<IPython.core.display.HTML object>"
      ]
     },
     "metadata": {},
     "output_type": "display_data"
    },
    {
     "data": {
      "text/html": [
       "rt @yonewt: <span style=\"background-color:rgba(255,0,0,0.0035120127722620964);\">please</span> <span style=\"background-color:rgba(255,0,0,0.0004375123171485029);\">list</span> <span style=\"background-color:rgba(255,0,0,0.0019646785221993923);\">everyone</span> &amp; <span style=\"background-color:rgba(255,0,0,0.0056699343258515);\">everything</span> <span style=\"background-color:rgba(255,0,0,0.014156069373711944);\">you</span> <span style=\"background-color:rgba(255,0,0,0.2732968330383301);\">hate</span> <span style=\"background-color:rgba(255,0,0,0.06315043196082115);\">in</span> <span style=\"background-color:rgba(255,0,0,0.012765631545335054);\">your</span> <span style=\"background-color:rgba(255,0,0,0.01015348476357758);\">bio</span> <span style=\"background-color:rgba(255,0,0,0.026867494452744722);\">so</span> <span style=\"background-color:rgba(255,0,0,0.01840117503888905);\">i</span> <span style=\"background-color:rgba(255,0,0,0.012913868995383382);\">know</span> <span style=\"background-color:rgba(255,0,0,0.012543766060844064);\">what</span> <span style=\"background-color:rgba(255,0,0,0.019006585935130715);\">a</span> <span style=\"background-color:rgba(255,0,0,0.6025806441903114);\">fucking</span> <span style=\"background-color:rgba(255,0,0,0.09091860614717007);\">delight</span> <span style=\"background-color:rgba(255,0,0,0.014156069373711944);\">you</span> <span style=\"background-color:rgba(255,0,0,0.01662906026467681);\">are</span>"
      ],
      "text/plain": [
       "<IPython.core.display.HTML object>"
      ]
     },
     "metadata": {},
     "output_type": "display_data"
    },
    {
     "data": {
      "text/html": [
       "rt @seefrvncis: <span style=\"background-color:rgba(255,0,0,0.007720465655438602);\">when</span> <span style=\"background-color:rgba(255,0,0,0.005574061069637537);\">a</span> <span style=\"background-color:rgba(255,0,0,0.2549230121076107);\">nigga</span> <span style=\"background-color:rgba(255,0,0,0.1423564925789833);\">sends</span> <span style=\"background-color:rgba(255,0,0,0.0355797098018229);\">me</span> <span style=\"background-color:rgba(255,0,0,0.4416920989751816);\">mad</span> <span style=\"background-color:rgba(255,0,0,0.024417652748525143);\">beats</span> <span style=\"background-color:rgba(255,0,0,0.003581054334063083);\">and</span> <span style=\"background-color:rgba(255,0,0,0.004908120026811957);\">they</span> <span style=\"background-color:rgba(255,0,0,0.008647263748571277);\">all</span> <span style=\"background-color:rgba(255,0,0,0.038206956814974546);\">fire</span> <span style=\"background-color:rgba(255,0,0,0.00951673835515976);\">i</span> <span style=\"background-color:rgba(255,0,0,0.011686667567119002);\">re</span> <span style=\"background-color:rgba(255,0,0,0.01094126608222723);\">listen</span> <span style=\"background-color:rgba(255,0,0,0.007720465655438602);\">when</span> i'm <span style=\"background-color:rgba(255,0,0,0.03488434478640556);\">not</span> <span style=\"background-color:rgba(255,0,0,0.07971769198775291);\">stoned</span>"
      ],
      "text/plain": [
       "<IPython.core.display.HTML object>"
      ]
     },
     "metadata": {},
     "output_type": "display_data"
    },
    {
     "data": {
      "text/html": [
       "<span style=\"background-color:rgba(255,0,0,0.001957759668584913);\">argh</span> <span style=\"background-color:rgba(255,0,0,0.004114484472665936);\">i</span> <span style=\"background-color:rgba(255,0,0,0.3448609635233879);\">hate</span> <span style=\"background-color:rgba(255,0,0,0.0871152151376009);\">people</span> <span style=\"background-color:rgba(255,0,0,0.048296740278601646);\">who</span> <span style=\"background-color:rgba(255,0,0,0.015288922004401684);\">always</span> <span style=\"background-color:rgba(255,0,0,0.14139018021523952);\">looks</span> <span style=\"background-color:rgba(255,0,0,0.03416080493479967);\">from</span> <span style=\"background-color:rgba(255,0,0,0.0016805072664283216);\">sousenkyo</span> <span style=\"background-color:rgba(255,0,0,0.015288922004401684);\">always</span> <span style=\"background-color:rgba(255,0,0,0.0016805072664283216);\">sousenkyo</span> <span style=\"background-color:rgba(255,0,0,0.0016805072664283216);\">sousenkyo</span> <span style=\"background-color:rgba(255,0,0,0.003795504162553698);\">and</span> <span style=\"background-color:rgba(255,0,0,0.0016805072664283216);\">sousenkyo</span> &#128544; <span style=\"background-color:rgba(255,0,0,0.2668053098022938);\">damn</span>"
      ],
      "text/plain": [
       "<IPython.core.display.HTML object>"
      ]
     },
     "metadata": {},
     "output_type": "display_data"
    },
    {
     "data": {
      "text/html": [
       "rt @justinoffe: <span style=\"background-color:rgba(255,0,0,0.004264618910383433);\">i</span> <span style=\"background-color:rgba(255,0,0,0.24176355451345444);\">hate</span> <span style=\"background-color:rgba(255,0,0,0.03455596975982189);\">when</span> <span style=\"background-color:rgba(255,0,0,0.08640824817121029);\">im</span> <span style=\"background-color:rgba(255,0,0,0.037872535176575184);\">singing</span> <span style=\"background-color:rgba(255,0,0,0.021986698266118765);\">a</span> <span style=\"background-color:rgba(255,0,0,0.008636904531158507);\">song</span> <span style=\"background-color:rgba(255,0,0,0.004461169301066548);\">and</span> <span style=\"background-color:rgba(255,0,0,0.054763578809797764);\">somebody</span> <span style=\"background-color:rgba(255,0,0,0.08457622490823269);\">else</span> <span style=\"background-color:rgba(255,0,0,0.01238801865838468);\">try</span> <span style=\"background-color:rgba(255,0,0,0.004461169301066548);\">and</span> <span style=\"background-color:rgba(255,0,0,0.001401450572302565);\">join</span> <span style=\"background-color:rgba(255,0,0,0.0041652878280729055);\">in</span> <span style=\"background-color:rgba(255,0,0,0.015501759480684996);\">like</span> <span style=\"background-color:rgba(255,0,0,0.012060950975865126);\">my</span> <span style=\"background-color:rgba(255,0,0,0.328323058784008);\">nigga</span> <span style=\"background-color:rgba(255,0,0,0.030170627869665623);\">this</span> <span style=\"background-color:rgba(255,0,0,0.18631482496857643);\">aint</span> <span style=\"background-color:rgba(255,0,0,0.019005737267434597);\">no</span> <span style=\"background-color:rgba(255,0,0,0.014744026120752096);\">duet</span>"
      ],
      "text/plain": [
       "<IPython.core.display.HTML object>"
      ]
     },
     "metadata": {},
     "output_type": "display_data"
    },
    {
     "data": {
      "text/html": [
       "<span style=\"background-color:rgba(255,0,0,0.004969022120349109);\">this</span> <span style=\"background-color:rgba(255,0,0,0.001584629062563181);\">aster</span> <span style=\"background-color:rgba(255,0,0,0.23495836183428764);\">bitch</span> <span style=\"background-color:rgba(255,0,0,0.05590635817497969);\">in</span> dexter. <span style=\"background-color:rgba(255,0,0,0.007123674149625003);\">i</span> don't <span style=\"background-color:rgba(255,0,0,0.020358047913759947);\">care</span> <span style=\"background-color:rgba(255,0,0,0.0094966113101691);\">if</span> <span style=\"background-color:rgba(255,0,0,0.08144587278366089);\">shes</span> <span style=\"background-color:rgba(255,0,0,0.003677927888929844);\">12</span> <span style=\"background-color:rgba(255,0,0,0.007123674149625003);\">i</span> <span style=\"background-color:rgba(255,0,0,0.007164704147726297);\">hope</span> <span style=\"background-color:rgba(255,0,0,0.010410374961793423);\">she</span> <span style=\"background-color:rgba(255,0,0,0.02444450045004487);\">gets</span> <span style=\"background-color:rgba(255,0,0,0.02017623046413064);\">the</span> <span style=\"background-color:rgba(255,0,0,0.21043658256530762);\">worst</span> <span style=\"background-color:rgba(255,0,0,0.07743047550320625);\">form</span> <span style=\"background-color:rgba(255,0,0,0.026340449694544077);\">of</span> <span style=\"background-color:rgba(255,0,0,0.06713274400681257);\">cancer</span>"
      ],
      "text/plain": [
       "<IPython.core.display.HTML object>"
      ]
     },
     "metadata": {},
     "output_type": "display_data"
    },
    {
     "data": {
      "text/html": [
       "rt @tatianaavalee: <span style=\"background-color:rgba(255,0,0,0.0022967888799030334);\">i</span> <span style=\"background-color:rgba(255,0,0,0.13020619750022888);\">hate</span> <span style=\"background-color:rgba(255,0,0,0.00838429608847946);\">an</span> \"idk\" <span style=\"background-color:rgba(255,0,0,0.16787191852927208);\">ass</span> <span style=\"background-color:rgba(255,0,0,0.5204132199287415);\">nigga</span> <span style=\"background-color:rgba(255,0,0,0.04805310629308224);\">like</span> <span style=\"background-color:rgba(255,0,0,0.008798610651865602);\">take</span> <span style=\"background-color:rgba(255,0,0,0.0018835009541362524);\">your</span> <span style=\"background-color:rgba(255,0,0,0.01816332689486444);\">boring</span> <span style=\"background-color:rgba(255,0,0,0.16787191852927208);\">ass</span> <span style=\"background-color:rgba(255,0,0,0.03249720437452197);\">somewhere</span> <span style=\"background-color:rgba(255,0,0,0.029202266596257687);\">else</span>"
      ],
      "text/plain": [
       "<IPython.core.display.HTML object>"
      ]
     },
     "metadata": {},
     "output_type": "display_data"
    },
    {
     "data": {
      "text/html": [
       "rt @cheilyn_luli: <span style=\"background-color:rgba(255,0,0,0.0067900377325713634);\">you</span> <span style=\"background-color:rgba(255,0,0,0.31041570007801056);\">fucking</span> bugging, <span style=\"background-color:rgba(255,0,0,0.005301432101987302);\">get</span> <span style=\"background-color:rgba(255,0,0,0.008282953058369458);\">this</span> <span style=\"background-color:rgba(255,0,0,0.4658764973282814);\">nigga</span> <span style=\"background-color:rgba(255,0,0,0.04577470012009144);\">out</span> <span style=\"background-color:rgba(255,0,0,0.02626843750476837);\">the</span> <span style=\"background-color:rgba(255,0,0,0.10728524997830391);\">office</span> <span style=\"background-color:rgba(255,0,0,0.05259040743112564);\">please</span> https://t.co/h50xvjdiaz"
      ],
      "text/plain": [
       "<IPython.core.display.HTML object>"
      ]
     },
     "metadata": {},
     "output_type": "display_data"
    },
    {
     "data": {
      "text/html": [
       "\" <span style=\"background-color:rgba(255,0,0,0.007487075636163354);\">animal</span> <span style=\"background-color:rgba(255,0,0,0.0029044694383628666);\">friend</span> <span style=\"background-color:rgba(255,0,0,0.005117696709930897);\">in</span> <span style=\"background-color:rgba(255,0,0,0.007749015931040049);\">my</span> ass\" <span style=\"background-color:rgba(255,0,0,0.02656758762896061);\">you</span> <span style=\"background-color:rgba(255,0,0,0.012164388317614794);\">need</span> <span style=\"background-color:rgba(255,0,0,0.0037291657645255327);\">some</span> <span style=\"background-color:rgba(255,0,0,0.0038447362021543086);\">help</span> @realdonaldtrump &#128548;&#128548;&#128548;&#128548; #savealaskanbear <span style=\"background-color:rgba(255,0,0,0.0033196262666024268);\">from</span> <span style=\"background-color:rgba(255,0,0,0.2529006265103817);\">fucking</span> trump. https://t.co/7adxkiilus"
      ],
      "text/plain": [
       "<IPython.core.display.HTML object>"
      ]
     },
     "metadata": {},
     "output_type": "display_data"
    },
    {
     "data": {
      "text/html": [
       "rt @gee__bsb: <span style=\"background-color:rgba(255,0,0,0.012971974210813642);\">everybody</span> <span style=\"background-color:rgba(255,0,0,0.006006017792969942);\">is</span> <span style=\"background-color:rgba(255,0,0,0.006378887919709086);\">a</span> <span style=\"background-color:rgba(255,0,0,0.17008181661367416);\">fucking</span> <span style=\"background-color:rgba(255,0,0,0.7485052943229675);\">liar</span> i'm <span style=\"background-color:rgba(255,0,0,0.1311248540878296);\">convinced</span>"
      ],
      "text/plain": [
       "<IPython.core.display.HTML object>"
      ]
     },
     "metadata": {},
     "output_type": "display_data"
    },
    {
     "data": {
      "text/html": [
       "rt @drillareese: <span style=\"background-color:rgba(255,0,0,0.002995346440002322);\">i</span> <span style=\"background-color:rgba(255,0,0,0.1698078028857708);\">hate</span> <span style=\"background-color:rgba(255,0,0,0.01705586793832481);\">fat</span> <span style=\"background-color:rgba(255,0,0,0.3667888790369034);\">bitches</span> <span style=\"background-color:rgba(255,0,0,0.0724979629740119);\">cause</span> <span style=\"background-color:rgba(255,0,0,0.006928952061571181);\">of</span> <span style=\"background-color:rgba(255,0,0,0.004247008764650673);\">this</span> <span style=\"background-color:rgba(255,0,0,0.0010589004523353651);\">oneeeeee</span> <span style=\"background-color:rgba(255,0,0,0.01705586793832481);\">fat</span> <span style=\"background-color:rgba(255,0,0,0.32977093011140823);\">bitch</span> <span style=\"background-color:rgba(255,0,0,0.025112845469266176);\">she</span> <span style=\"background-color:rgba(255,0,0,0.061636632308363914);\">ruined</span> it!!!! &#128557; https://t.co/kupcqmyhij"
      ],
      "text/plain": [
       "<IPython.core.display.HTML object>"
      ]
     },
     "metadata": {},
     "output_type": "display_data"
    },
    {
     "data": {
      "text/html": [
       "@gizmodo <span style=\"background-color:rgba(255,0,0,0.0019042883650399745);\">this</span> <span style=\"background-color:rgba(255,0,0,0.07198061794042587);\">moron</span> <span style=\"background-color:rgba(255,0,0,0.025986393447965384);\">is</span> <span style=\"background-color:rgba(255,0,0,0.06956186145544052);\">so</span> <span style=\"background-color:rgba(255,0,0,0.11374322697520256);\">paranoid</span> <span style=\"background-color:rgba(255,0,0,0.006625524838455021);\">that</span> <span style=\"background-color:rgba(255,0,0,0.021655471064150333);\">people</span> <span style=\"background-color:rgba(255,0,0,0.012726662680506706);\">will</span> <span style=\"background-color:rgba(255,0,0,0.0030936466646380723);\">find</span> <span style=\"background-color:rgba(255,0,0,0.0036500158603303134);\">out</span> <span style=\"background-color:rgba(255,0,0,0.006625524838455021);\">that</span> <span style=\"background-color:rgba(255,0,0,0.015351998154073954);\">he</span> hasn't <span style=\"background-color:rgba(255,0,0,0.021637233439832926);\">a</span> <span style=\"background-color:rgba(255,0,0,0.6010835617780685);\">damn</span> <span style=\"background-color:rgba(255,0,0,0.13374225236475468);\">clue</span> <span style=\"background-color:rgba(255,0,0,0.033283564262092113);\">about</span> <span style=\"background-color:rgba(255,0,0,0.009179842891171575);\">running</span> anything...es… https://t.co/tvpvpuzrz1"
      ],
      "text/plain": [
       "<IPython.core.display.HTML object>"
      ]
     },
     "metadata": {},
     "output_type": "display_data"
    },
    {
     "data": {
      "text/html": [
       "@housephon3 <span style=\"background-color:rgba(255,0,0,0.09306599386036396);\">nigga</span> <span style=\"background-color:rgba(255,0,0,0.1006229780614376);\">trynna</span> <span style=\"background-color:rgba(255,0,0,0.02370215719565749);\">pull</span> <span style=\"background-color:rgba(255,0,0,0.00267854833509773);\">of</span> <span style=\"background-color:rgba(255,0,0,0.002627427747938782);\">the</span> <span style=\"background-color:rgba(255,0,0,0.003439259890001267);\">daisy</span> <span style=\"background-color:rgba(255,0,0,0.008978244150057435);\">duke</span> <span style=\"background-color:rgba(255,0,0,0.030317693017423153);\">look</span> <span style=\"background-color:rgba(255,0,0,0.05513371434062719);\">so</span> <span style=\"background-color:rgba(255,0,0,0.2273043431341648);\">bad</span> <span style=\"background-color:rgba(255,0,0,0.6027103215456009);\">smfh</span>"
      ],
      "text/plain": [
       "<IPython.core.display.HTML object>"
      ]
     },
     "metadata": {},
     "output_type": "display_data"
    },
    {
     "data": {
      "text/html": [
       "rt @goddesslia4: <span style=\"background-color:rgba(255,0,0,0.007686730823479593);\">ugh</span> <span style=\"background-color:rgba(255,0,0,0.002303931541973725);\">what</span> <span style=\"background-color:rgba(255,0,0,0.002400844532530755);\">is</span> <span style=\"background-color:rgba(255,0,0,0.00546369468793273);\">it</span> <span style=\"background-color:rgba(255,0,0,0.0016677836538292468);\">with</span> <span style=\"background-color:rgba(255,0,0,0.0030269441776908934);\">you</span> <span style=\"background-color:rgba(255,0,0,0.06144343875348568);\">idiots</span> lately? <span style=\"background-color:rgba(255,0,0,0.032390980049967766);\">so</span> <span style=\"background-color:rgba(255,0,0,0.23447630926966667);\">fucking</span> <span style=\"background-color:rgba(255,0,0,0.7579480111598969);\">sick</span> <span style=\"background-color:rgba(255,0,0,0.020272459369152784);\">of</span> <span style=\"background-color:rgba(255,0,0,0.021578387822955847);\">repeating</span> myself. it's <span style=\"background-color:rgba(255,0,0,0.008495996007695794);\">like</span> <span style=\"background-color:rgba(255,0,0,0.0030269441776908934);\">you</span> <span style=\"background-color:rgba(255,0,0,0.0025928698596544564);\">want</span> <span style=\"background-color:rgba(255,0,0,0.0012086629430996254);\">to</span> <span style=\"background-color:rgba(255,0,0,0.0018311360327061266);\">be</span> blocked. &#128075;&#127995;…"
      ],
      "text/plain": [
       "<IPython.core.display.HTML object>"
      ]
     },
     "metadata": {},
     "output_type": "display_data"
    },
    {
     "data": {
      "text/html": [
       "<span style=\"background-color:rgba(255,0,0,0.0011803935922216624);\">the</span> <span style=\"background-color:rgba(255,0,0,0.01616512075997889);\">worst</span> <span style=\"background-color:rgba(255,0,0,0.025111478753387928);\">thing</span> <span style=\"background-color:rgba(255,0,0,0.007033411529846489);\">you</span> <span style=\"background-color:rgba(255,0,0,0.11347109451889992);\">females</span> <span style=\"background-color:rgba(255,0,0,0.018554197158664465);\">can</span> <span style=\"background-color:rgba(255,0,0,0.005983621231280267);\">do</span> <span style=\"background-color:rgba(255,0,0,0.006338870152831078);\">is</span> <span style=\"background-color:rgba(255,0,0,0.002659848832990974);\">have</span> <span style=\"background-color:rgba(255,0,0,0.0032709099468775094);\">a</span> <span style=\"background-color:rgba(255,0,0,0.009055373957380652);\">baby</span> <span style=\"background-color:rgba(255,0,0,0.001981567620532587);\">by</span> <span style=\"background-color:rgba(255,0,0,0.0032709099468775094);\">a</span> ain't <span style=\"background-color:rgba(255,0,0,0.06823756732046604);\">shit</span> <span style=\"background-color:rgba(255,0,0,0.2898487448692322);\">ass</span> <span style=\"background-color:rgba(255,0,0,0.49066081643104553);\">nigga</span> <span style=\"background-color:rgba(255,0,0,0.01020992873236537);\">to</span> <span style=\"background-color:rgba(255,0,0,0.0007080920477164909);\">make</span> <span style=\"background-color:rgba(255,0,0,0.007321404991671443);\">somebody</span> mad&#128514;&#128514;&#128514;&#128514;&#128514;&#128514;&#128514;&#128514;&#128514;&#128514;&#128514;&#128514;&#128514;&#128514;&#128514;"
      ],
      "text/plain": [
       "<IPython.core.display.HTML object>"
      ]
     },
     "metadata": {},
     "output_type": "display_data"
    },
    {
     "data": {
      "text/html": [
       "rt @_moonmotel: i'll <span style=\"background-color:rgba(255,0,0,0.0013978721108287573);\">pay</span> <span style=\"background-color:rgba(255,0,0,0.006335871294140816);\">someone</span> <span style=\"background-color:rgba(255,0,0,0.004343875625636429);\">to</span> <span style=\"background-color:rgba(255,0,0,0.006289007142186165);\">beat</span> <span style=\"background-color:rgba(255,0,0,0.005255767027847469);\">the</span> <span style=\"background-color:rgba(255,0,0,0.13370022177696228);\">shit</span> <span style=\"background-color:rgba(255,0,0,0.32858289778232574);\">outta</span> <span style=\"background-color:rgba(255,0,0,0.005590792861767113);\">my</span> <span style=\"background-color:rgba(255,0,0,0.04909432493150234);\">ex</span> <span style=\"background-color:rgba(255,0,0,0.0784828420728445);\">boyfriend</span> <span style=\"background-color:rgba(255,0,0,0.005474229110404849);\">and</span> <span style=\"background-color:rgba(255,0,0,0.008275696309283376);\">shove</span> <span style=\"background-color:rgba(255,0,0,0.005590792861767113);\">my</span> <span style=\"background-color:rgba(255,0,0,0.03894676687195897);\">panties</span> <span style=\"background-color:rgba(255,0,0,0.058554019778966904);\">down</span> <span style=\"background-color:rgba(255,0,0,0.04872869234532118);\">his</span> <span style=\"background-color:rgba(255,0,0,0.31317681074142456);\">throat</span> !!!!!!!!!!!"
      ],
      "text/plain": [
       "<IPython.core.display.HTML object>"
      ]
     },
     "metadata": {},
     "output_type": "display_data"
    },
    {
     "data": {
      "text/html": [
       "<span style=\"background-color:rgba(255,0,0,0.00531977042555809);\">my</span> <span style=\"background-color:rgba(255,0,0,0.004254985542502254);\">sister</span> <span style=\"background-color:rgba(255,0,0,0.0065964029636234045);\">pushed</span> <span style=\"background-color:rgba(255,0,0,0.00742042378988117);\">me</span> <span style=\"background-color:rgba(255,0,0,0.006006137118674815);\">in</span> <span style=\"background-color:rgba(255,0,0,0.00531977042555809);\">my</span> <span style=\"background-color:rgba(255,0,0,0.016330170910805464);\">arm</span> <span style=\"background-color:rgba(255,0,0,0.011095864465460181);\">hard</span> <span style=\"background-color:rgba(255,0,0,0.004425006336532533);\">as</span> <span style=\"background-color:rgba(255,0,0,0.24124011397361755);\">hell</span> <span style=\"background-color:rgba(255,0,0,0.011743318755179644);\">and</span> <span style=\"background-color:rgba(255,0,0,0.027506551705300808);\">i</span> <span style=\"background-color:rgba(255,0,0,0.4602571204304695);\">damn</span> <span style=\"background-color:rgba(255,0,0,0.09697179310023785);\">near</span> <span style=\"background-color:rgba(255,0,0,0.09541903622448444);\">wanted</span> <span style=\"background-color:rgba(255,0,0,0.016602586256340146);\">to</span> <span style=\"background-color:rgba(255,0,0,0.017500423127785325);\">turn</span> <span style=\"background-color:rgba(255,0,0,0.036236755549907684);\">around</span> <span style=\"background-color:rgba(255,0,0,0.011743318755179644);\">and</span> <span style=\"background-color:rgba(255,0,0,0.047070509754121304);\">knock</span> <span style=\"background-color:rgba(255,0,0,0.054360758513212204);\">her</span> <span style=\"background-color:rgba(255,0,0,0.011097027454525232);\">clean</span> out. &#128553;&#128553;"
      ],
      "text/plain": [
       "<IPython.core.display.HTML object>"
      ]
     },
     "metadata": {},
     "output_type": "display_data"
    },
    {
     "data": {
      "text/html": [
       "@hayleykiyoko <span style=\"background-color:rgba(255,0,0,0.005856493371538818);\">let</span> <span style=\"background-color:rgba(255,0,0,0.01572013017721474);\">ur</span> <span style=\"background-color:rgba(255,0,0,0.17148137092590332);\">gays</span> <span style=\"background-color:rgba(255,0,0,0.056726112961769104);\">in</span> we're <span style=\"background-color:rgba(255,0,0,0.6211152300238609);\">cold</span> #thawurgays"
      ],
      "text/plain": [
       "<IPython.core.display.HTML object>"
      ]
     },
     "metadata": {},
     "output_type": "display_data"
    },
    {
     "data": {
      "text/html": [
       "&#129318;&#127998;‍♀️ <span style=\"background-color:rgba(255,0,0,0.061817108653485775);\">lame</span> <span style=\"background-color:rgba(255,0,0,0.3121284954249859);\">ass</span> niggas!!! <span style=\"background-color:rgba(255,0,0,0.028867674991488457);\">i</span> <span style=\"background-color:rgba(255,0,0,0.006611043936572969);\">know</span> <span style=\"background-color:rgba(255,0,0,0.0056470552226528525);\">he</span> wasn't <span style=\"background-color:rgba(255,0,0,0.07059537339955568);\">calling</span> <span style=\"background-color:rgba(255,0,0,0.008533676154911518);\">her</span> <span style=\"background-color:rgba(255,0,0,0.040376950055360794);\">them</span> <span style=\"background-color:rgba(255,0,0,0.02979062730446458);\">names</span> <span style=\"background-color:rgba(255,0,0,0.0077709893230348825);\">to</span> <span style=\"background-color:rgba(255,0,0,0.0019258767133578658);\">get</span> <span style=\"background-color:rgba(255,0,0,0.008533676154911518);\">her</span> <span style=\"background-color:rgba(255,0,0,0.010223963763564825);\">in</span> <span style=\"background-color:rgba(255,0,0,0.010473142610862851);\">that</span> bed. https://t.co/wp3rapcsvs"
      ],
      "text/plain": [
       "<IPython.core.display.HTML object>"
      ]
     },
     "metadata": {},
     "output_type": "display_data"
    },
    {
     "data": {
      "text/html": [
       "rt @itsroseglo: <span style=\"background-color:rgba(255,0,0,0.11047805659472942);\">niggas</span> <span style=\"background-color:rgba(255,0,0,0.33770814538002014);\">lame</span> <span style=\"background-color:rgba(255,0,0,0.014544383157044649);\">and</span> <span style=\"background-color:rgba(255,0,0,0.3734726458787918);\">annoying</span> <span style=\"background-color:rgba(255,0,0,0.31319495290517807);\">bro</span> &#128128; <span style=\"background-color:rgba(255,0,0,0.034072152338922024);\">stfuuuuu</span>"
      ],
      "text/plain": [
       "<IPython.core.display.HTML object>"
      ]
     },
     "metadata": {},
     "output_type": "display_data"
    },
    {
     "data": {
      "text/html": [
       "rt @oscarthehokage: <span style=\"background-color:rgba(255,0,0,0.42412303388118744);\">niggas</span> <span style=\"background-color:rgba(255,0,0,0.16261275857686996);\">wanna</span> <span style=\"background-color:rgba(255,0,0,0.004294753598514944);\">date</span> <span style=\"background-color:rgba(255,0,0,0.0016697595128789544);\">isaiah</span> <span style=\"background-color:rgba(255,0,0,0.003322931588627398);\">thomas</span> <span style=\"background-color:rgba(255,0,0,0.02785288728773594);\">so</span> <span style=\"background-color:rgba(255,0,0,0.30965931713581085);\">bad</span> https://t.co/fyudfobwmx"
      ],
      "text/plain": [
       "<IPython.core.display.HTML object>"
      ]
     },
     "metadata": {},
     "output_type": "display_data"
    },
    {
     "data": {
      "text/html": [
       "rt @teemofresh: <span style=\"background-color:rgba(255,0,0,0.0012474486720748246);\">if</span> <span style=\"background-color:rgba(255,0,0,0.018156704027205706);\">you</span> <span style=\"background-color:rgba(255,0,0,0.00025976469260058366);\">date</span> <span style=\"background-color:rgba(255,0,0,0.0009382000280311331);\">a</span> <span style=\"background-color:rgba(255,0,0,0.1464942842721939);\">ugly</span> <span style=\"background-color:rgba(255,0,0,0.5715733394026756);\">nigga</span> <span style=\"background-color:rgba(255,0,0,0.11358103714883327);\">cause</span> <span style=\"background-color:rgba(255,0,0,0.018156704027205706);\">you</span> <span style=\"background-color:rgba(255,0,0,0.011216433485969901);\">think</span> <span style=\"background-color:rgba(255,0,0,0.012044950854033232);\">he</span> <span style=\"background-color:rgba(255,0,0,0.062081278301775455);\">gone</span> <span style=\"background-color:rgba(255,0,0,0.029566166922450066);\">be</span> <span style=\"background-color:rgba(255,0,0,0.07768284995108843);\">faithful</span> <span style=\"background-color:rgba(255,0,0,0.018156704027205706);\">you</span> <span style=\"background-color:rgba(255,0,0,0.10116910561919212);\">lost</span>"
      ],
      "text/plain": [
       "<IPython.core.display.HTML object>"
      ]
     },
     "metadata": {},
     "output_type": "display_data"
    },
    {
     "data": {
      "text/html": [
       "rt @tattosanroses: <span style=\"background-color:rgba(255,0,0,0.001270343636861071);\">i</span> <span style=\"background-color:rgba(255,0,0,0.07201646454632282);\">hate</span> <span style=\"background-color:rgba(255,0,0,0.41492760181427);\">bitch</span> <span style=\"background-color:rgba(255,0,0,0.40348198264837265);\">ass</span> <span style=\"background-color:rgba(255,0,0,0.320766381919384);\">niggas</span> <span style=\"background-color:rgba(255,0,0,0.006315806531347334);\">with</span> <span style=\"background-color:rgba(255,0,0,0.003036860143765807);\">a</span> passion."
      ],
      "text/plain": [
       "<IPython.core.display.HTML object>"
      ]
     },
     "metadata": {},
     "output_type": "display_data"
    },
    {
     "data": {
      "text/html": [
       "rt @samenthat: <span style=\"background-color:rgba(255,0,0,0.0067796994699165225);\">i</span> <span style=\"background-color:rgba(255,0,0,0.006154425209388137);\">want</span> <span style=\"background-color:rgba(255,0,0,0.21671751514077187);\">nigga</span> <span style=\"background-color:rgba(255,0,0,0.04084071610122919);\">who</span> <span style=\"background-color:rgba(255,0,0,0.0390332005918026);\">still</span> <span style=\"background-color:rgba(255,0,0,0.09159255772829056);\">kiss</span> <span style=\"background-color:rgba(255,0,0,0.0396203575655818);\">me</span> <span style=\"background-color:rgba(255,0,0,0.02764537464827299);\">while</span> <span style=\"background-color:rgba(255,0,0,0.6205806508660316);\">mad</span> #allover #allaboutme https://t.co/pbivrgpwjk"
      ],
      "text/plain": [
       "<IPython.core.display.HTML object>"
      ]
     },
     "metadata": {},
     "output_type": "display_data"
    },
    {
     "data": {
      "text/html": [
       "rt @dunkingonuts: <span style=\"background-color:rgba(255,0,0,0.0011973638902418315);\">my</span> <span style=\"background-color:rgba(255,0,0,0.0003183563967468217);\">homegirl</span> <span style=\"background-color:rgba(255,0,0,0.00403478043153882);\">said</span> <span style=\"background-color:rgba(255,0,0,0.003850567154586315);\">that</span> <span style=\"background-color:rgba(255,0,0,0.0035861969809047878);\">once</span> <span style=\"background-color:rgba(255,0,0,0.0026165018789470196);\">you</span> <span style=\"background-color:rgba(255,0,0,0.0023082675761543214);\">give</span> <span style=\"background-color:rgba(255,0,0,0.0014241976896300912);\">an</span> <span style=\"background-color:rgba(255,0,0,0.4834221303462982);\">ugly</span> <span style=\"background-color:rgba(255,0,0,0.4983114078640938);\">nigga</span> <span style=\"background-color:rgba(255,0,0,0.03635670756921172);\">a</span> chance, <span style=\"background-color:rgba(255,0,0,0.0038194929948076606);\">he</span> <span style=\"background-color:rgba(255,0,0,0.0020070670871064067);\">start</span> <span style=\"background-color:rgba(255,0,0,0.0013986339035909623);\">to</span> <span style=\"background-color:rgba(255,0,0,0.0038332754047587514);\">front</span> <span style=\"background-color:rgba(255,0,0,0.0015169699327088892);\">and</span> <span style=\"background-color:rgba(255,0,0,0.001445090601919219);\">forget</span> <span style=\"background-color:rgba(255,0,0,0.0038194929948076606);\">he</span> <span style=\"background-color:rgba(255,0,0,0.006318868836387992);\">the</span> <span style=\"background-color:rgba(255,0,0,0.4834221303462982);\">ugly</span> <span style=\"background-color:rgba(255,0,0,0.009679042850621045);\">one</span>"
      ],
      "text/plain": [
       "<IPython.core.display.HTML object>"
      ]
     },
     "metadata": {},
     "output_type": "display_data"
    },
    {
     "data": {
      "text/html": [
       "rt @confessmongeau: <span style=\"background-color:rgba(255,0,0,0.0018172366253565997);\">i</span> <span style=\"background-color:rgba(255,0,0,0.0045810750452801585);\">still</span> <span style=\"background-color:rgba(255,0,0,0.1967478170990944);\">hate</span> @iovingmct <span style=\"background-color:rgba(255,0,0,0.02340936567634344);\">my</span> <span style=\"background-color:rgba(255,0,0,0.028340863063931465);\">opinion</span> <span style=\"background-color:rgba(255,0,0,0.003066759090870619);\">has</span> <span style=\"background-color:rgba(255,0,0,0.008385535911656916);\">not</span> <span style=\"background-color:rgba(255,0,0,0.005522529245354235);\">changed</span> he's <span style=\"background-color:rgba(255,0,0,0.020834964234381914);\">a</span> <span style=\"background-color:rgba(255,0,0,0.8154258131980896);\">bitch</span>"
      ],
      "text/plain": [
       "<IPython.core.display.HTML object>"
      ]
     },
     "metadata": {},
     "output_type": "display_data"
    },
    {
     "data": {
      "text/html": [
       "<span style=\"background-color:rgba(255,0,0,0.011409677099436522);\">that</span> <span style=\"background-color:rgba(255,0,0,0.20856035873293877);\">nigga</span> <span style=\"background-color:rgba(255,0,0,0.7369373738765717);\">fucking</span> <span style=\"background-color:rgba(255,0,0,0.0060379900969564915);\">you</span> <span style=\"background-color:rgba(255,0,0,0.06829574704170227);\">over</span> — <span style=\"background-color:rgba(255,0,0,0.06592278834432364);\">why</span> <span style=\"background-color:rgba(255,0,0,0.018818648532032967);\">do</span> <span style=\"background-color:rgba(255,0,0,0.0060379900969564915);\">you</span> <span style=\"background-color:rgba(255,0,0,0.01841182354837656);\">say</span> <span style=\"background-color:rgba(255,0,0,0.011409677099436522);\">that</span> ? https://t.co/pproita4ma"
      ],
      "text/plain": [
       "<IPython.core.display.HTML object>"
      ]
     },
     "metadata": {},
     "output_type": "display_data"
    },
    {
     "data": {
      "text/html": [
       "<span style=\"background-color:rgba(255,0,0,0.0023583319853059947);\">any</span> <span style=\"background-color:rgba(255,0,0,0.210944265127182);\">nigga</span> <span style=\"background-color:rgba(255,0,0,0.05676835309714079);\">who</span> <span style=\"background-color:rgba(255,0,0,0.0873302761465311);\">tripping</span> <span style=\"background-color:rgba(255,0,0,0.03621219424530864);\">i</span> <span style=\"background-color:rgba(255,0,0,0.053536687046289444);\">betcha</span> <span style=\"background-color:rgba(255,0,0,0.057409885339438915);\">he</span> <span style=\"background-color:rgba(255,0,0,0.27886174619197845);\">gone</span> <span style=\"background-color:rgba(255,0,0,0.02600428182631731);\">get</span> <span style=\"background-color:rgba(255,0,0,0.29185738414525986);\">fucked</span> <span style=\"background-color:rgba(255,0,0,0.022089974954724312);\">offfff</span>"
      ],
      "text/plain": [
       "<IPython.core.display.HTML object>"
      ]
     },
     "metadata": {},
     "output_type": "display_data"
    },
    {
     "data": {
      "text/html": [
       "<span style=\"background-color:rgba(255,0,0,0.0014108092000242323);\">watch</span> <span style=\"background-color:rgba(255,0,0,0.0024304023827426136);\">a</span> <span style=\"background-color:rgba(255,0,0,0.13251464813947678);\">nigga</span> <span style=\"background-color:rgba(255,0,0,0.007860853802412748);\">snap</span> <span style=\"background-color:rgba(255,0,0,0.0008877043728716671);\">some</span> <span style=\"background-color:rgba(255,0,0,0.000928044319152832);\">hand</span> <span style=\"background-color:rgba(255,0,0,0.0002380111618549563);\">cuffs</span> on, <span style=\"background-color:rgba(255,0,0,0.012249834835529327);\">ima</span> <span style=\"background-color:rgba(255,0,0,0.006329320021905005);\">be</span> <span style=\"background-color:rgba(255,0,0,0.02831757301464677);\">so</span> mad, <span style=\"background-color:rgba(255,0,0,0.11108034290373325);\">i</span> <span style=\"background-color:rgba(255,0,0,0.07680265698581934);\">didnt</span> <span style=\"background-color:rgba(255,0,0,0.014197423588484526);\">plan</span> <span style=\"background-color:rgba(255,0,0,0.006589159602299333);\">ahead</span> https://t.co/mqz9wzand1"
      ],
      "text/plain": [
       "<IPython.core.display.HTML object>"
      ]
     },
     "metadata": {},
     "output_type": "display_data"
    },
    {
     "data": {
      "text/html": [
       "<span style=\"background-color:rgba(255,0,0,0.11877328157424927);\">nigga</span> <span style=\"background-color:rgba(255,0,0,0.027268107514828444);\">turned</span> <span style=\"background-color:rgba(255,0,0,0.026995022781193256);\">into</span> <span style=\"background-color:rgba(255,0,0,0.10425969958305359);\">captain</span> <span style=\"background-color:rgba(255,0,0,0.0059165601851418614);\">save</span> <span style=\"background-color:rgba(255,0,0,0.07413174491375685);\">a</span> <span style=\"background-color:rgba(255,0,0,0.3771203011274338);\">hoe</span> <span style=\"background-color:rgba(255,0,0,0.07413174491375685);\">a</span> <span style=\"background-color:rgba(255,0,0,0.0010003466013586149);\">broke1</span> <span style=\"background-color:rgba(255,0,0,0.00846368435304612);\">at</span> <span style=\"background-color:rgba(255,0,0,0.013662402052432299);\">that</span> &#128561;. <span style=\"background-color:rgba(255,0,0,0.028378027491271496);\">people</span> <span style=\"background-color:rgba(255,0,0,0.010323014575988054);\">souls</span> <span style=\"background-color:rgba(255,0,0,0.016685060691088438);\">are</span> <span style=\"background-color:rgba(255,0,0,0.014242660254240036);\">wicked</span> <span style=\"background-color:rgba(255,0,0,0.005755889578722417);\">and</span> <span style=\"background-color:rgba(255,0,0,0.00897573831025511);\">the</span> <span style=\"background-color:rgba(255,0,0,0.15675591304898262);\">bad</span> <span style=\"background-color:rgba(255,0,0,0.061402334831655025);\">vibes</span> don't <span style=\"background-color:rgba(255,0,0,0.012465142644941807);\">suit</span> <span style=\"background-color:rgba(255,0,0,0.011834641918540001);\">me</span> , <span style=\"background-color:rgba(255,0,0,0.008013760088942945);\">i</span> don't <span style=\"background-color:rgba(255,0,0,0.010445646476000547);\">like</span> <span style=\"background-color:rgba(255,0,0,0.0077077350579202175);\">it</span> around."
      ],
      "text/plain": [
       "<IPython.core.display.HTML object>"
      ]
     },
     "metadata": {},
     "output_type": "display_data"
    },
    {
     "data": {
      "text/html": [
       "rt @cherokeeroseee_: <span style=\"background-color:rgba(255,0,0,0.0010147890861844644);\">if</span> <span style=\"background-color:rgba(255,0,0,0.007308964850381017);\">ur</span> <span style=\"background-color:rgba(255,0,0,0.0006334789941320196);\">one</span> <span style=\"background-color:rgba(255,0,0,0.0007733281381661072);\">of</span> <span style=\"background-color:rgba(255,0,0,0.004134286136832088);\">those</span> <span style=\"background-color:rgba(255,0,0,0.010442282073199749);\">girls</span> <span style=\"background-color:rgba(255,0,0,0.004102284146938473);\">that</span> <span style=\"background-color:rgba(255,0,0,0.0020207863417454064);\">forget</span> <span style=\"background-color:rgba(255,0,0,0.002237721055280417);\">about</span> <span style=\"background-color:rgba(255,0,0,0.007308964850381017);\">ur</span> <span style=\"background-color:rgba(255,0,0,0.0022311216162052006);\">friend</span> <span style=\"background-color:rgba(255,0,0,0.009308918379247189);\">cause</span> <span style=\"background-color:rgba(255,0,0,0.013471476268023252);\">u</span> <span style=\"background-color:rgba(255,0,0,0.020611758809536695);\">wanna</span> <span style=\"background-color:rgba(255,0,0,0.0013575320190284401);\">be</span> <span style=\"background-color:rgba(255,0,0,0.048284768126904964);\">up</span> <span style=\"background-color:rgba(255,0,0,0.06615713238716125);\">under</span> <span style=\"background-color:rgba(255,0,0,0.04129900597035885);\">a</span> <span style=\"background-color:rgba(255,0,0,0.8072790503501892);\">nigga</span> 24/7, <span style=\"background-color:rgba(255,0,0,0.0013736328401137143);\">dnt</span> <span style=\"background-color:rgba(255,0,0,0.0013575320190284401);\">be</span> <span style=\"background-color:rgba(255,0,0,0.09521896950900555);\">mad</span> <span style=\"background-color:rgba(255,0,0,0.01701349508948624);\">when</span> <span style=\"background-color:rgba(255,0,0,0.0077618908835574985);\">it</span> doesn'…"
      ],
      "text/plain": [
       "<IPython.core.display.HTML object>"
      ]
     },
     "metadata": {},
     "output_type": "display_data"
    },
    {
     "data": {
      "text/html": [
       "rt @throughmykyes: <span style=\"background-color:rgba(255,0,0,0.0011161881411680952);\">between</span> <span style=\"background-color:rgba(255,0,0,0.005619754083454609);\">the</span> <span style=\"background-color:rgba(255,0,0,0.005725370137952268);\">flips</span> <span style=\"background-color:rgba(255,0,0,0.007392508559860289);\">all</span> <span style=\"background-color:rgba(255,0,0,0.005619754083454609);\">the</span> <span style=\"background-color:rgba(255,0,0,0.02204555319622159);\">time</span> <span style=\"background-color:rgba(255,0,0,0.0007877795724198222);\">and</span> <span style=\"background-color:rgba(255,0,0,0.018861994612962008);\">thinking</span> <span style=\"background-color:rgba(255,0,0,0.013605726417154074);\">they</span> <span style=\"background-color:rgba(255,0,0,0.09446695446968079);\">invented</span> <span style=\"background-color:rgba(255,0,0,0.02204555319622159);\">time</span> <span style=\"background-color:rgba(255,0,0,0.0007877795724198222);\">and</span> space, <span style=\"background-color:rgba(255,0,0,0.004049857670906931);\">i</span> <span style=\"background-color:rgba(255,0,0,0.11057086288928986);\">fucking</span> <span style=\"background-color:rgba(255,0,0,0.9225161373615265);\">hate</span> <span style=\"background-color:rgba(255,0,0,0.0017820429638959467);\">ospreay</span> <span style=\"background-color:rgba(255,0,0,0.0007877795724198222);\">and</span> ricochet."
      ],
      "text/plain": [
       "<IPython.core.display.HTML object>"
      ]
     },
     "metadata": {},
     "output_type": "display_data"
    },
    {
     "data": {
      "text/html": [
       "<span style=\"background-color:rgba(255,0,0,0.00344349246006459);\">too</span> <span style=\"background-color:rgba(255,0,0,0.0008583275484852493);\">many</span> <span style=\"background-color:rgba(255,0,0,0.040316726081073284);\">niggas</span> <span style=\"background-color:rgba(255,0,0,0.05180314648896456);\">act</span> <span style=\"background-color:rgba(255,0,0,0.022770913783460855);\">like</span> bitches, <span style=\"background-color:rgba(255,0,0,0.3615405037999153);\">damn</span> <span style=\"background-color:rgba(255,0,0,0.023796609602868557);\">that</span> <span style=\"background-color:rgba(255,0,0,0.13713063672184944);\">shit</span> <span style=\"background-color:rgba(255,0,0,0.07916353642940521);\">so</span> crazy, <span style=\"background-color:rgba(255,0,0,0.03238615579903126);\">dropped</span> <span style=\"background-color:rgba(255,0,0,0.06855855230242014);\">outta</span> <span style=\"background-color:rgba(255,0,0,0.009435946703888476);\">school</span> <span style=\"background-color:rgba(255,0,0,0.0034566628164611757);\">my</span> <span style=\"background-color:rgba(255,0,0,0.0010004562500398606);\">og</span> <span style=\"background-color:rgba(255,0,0,0.002506525779608637);\">tell</span> <span style=\"background-color:rgba(255,0,0,0.003291992179583758);\">me</span> <span style=\"background-color:rgba(255,0,0,0.0006974684220040217);\">everyday</span> <span style=\"background-color:rgba(255,0,0,0.000951869078562595);\">she</span> <span style=\"background-color:rgba(255,0,0,0.007496268372051418);\">praying</span> &#128591;&#127997;"
      ],
      "text/plain": [
       "<IPython.core.display.HTML object>"
      ]
     },
     "metadata": {},
     "output_type": "display_data"
    },
    {
     "data": {
      "text/html": [
       "<span style=\"background-color:rgba(255,0,0,0.003971278783865273);\">and</span> <span style=\"background-color:rgba(255,0,0,0.001839703181758523);\">get</span> <span style=\"background-color:rgba(255,0,0,0.0020161422435194254);\">your</span> <span style=\"background-color:rgba(255,0,0,0.13059747405350208);\">dirty</span> <span style=\"background-color:rgba(255,0,0,0.2976095490157604);\">filthy</span> <span style=\"background-color:rgba(255,0,0,0.35714685916900635);\">murdering</span> <span style=\"background-color:rgba(255,0,0,0.004754732071887702);\">frenchmen</span> <span style=\"background-color:rgba(255,0,0,0.0010343493340769783);\">lambert</span> <span style=\"background-color:rgba(255,0,0,0.005599433206953108);\">bomb</span> <span style=\"background-color:rgba(255,0,0,0.0030689695267938077);\">out</span> <span style=\"background-color:rgba(255,0,0,0.002637338184285909);\">of</span> <span style=\"background-color:rgba(255,0,0,0.005797065095975995);\">my</span> <span style=\"background-color:rgba(255,0,0,0.028999177739024162);\">garage</span> <span style=\"background-color:rgba(255,0,0,0.00820329471025616);\">you</span> <span style=\"background-color:rgba(255,0,0,0.00039580976590514183);\">traitorous</span> @rcmpnb <span style=\"background-color:rgba(255,0,0,0.09035584516823292);\">kissing</span> <span style=\"background-color:rgba(255,0,0,0.0030257689650170505);\">vichy</span> <span style=\"background-color:rgba(255,0,0,0.006049448857083917);\">francs</span> <span style=\"background-color:rgba(255,0,0,0.17043035477399826);\">ass</span> <span style=\"background-color:rgba(255,0,0,0.031753662042319775);\">in</span> <span style=\"background-color:rgba(255,0,0,0.007325003971345723);\">moncton</span>"
      ],
      "text/plain": [
       "<IPython.core.display.HTML object>"
      ]
     },
     "metadata": {},
     "output_type": "display_data"
    },
    {
     "data": {
      "text/html": [
       "rt @coleymick: <span style=\"background-color:rgba(255,0,0,0.001144597481470555);\">i</span> <span style=\"background-color:rgba(255,0,0,0.06488784682005644);\">hate</span> <span style=\"background-color:rgba(255,0,0,0.007000855985097587);\">this</span> <span style=\"background-color:rgba(255,0,0,0.038708539213985205);\">god</span> <span style=\"background-color:rgba(255,0,0,0.2785247750580311);\">damn</span> <span style=\"background-color:rgba(255,0,0,0.6104320287704468);\">meme</span> <span style=\"background-color:rgba(255,0,0,0.010645431466400623);\">it</span> doesn't <span style=\"background-color:rgba(255,0,0,0.0016678395331837237);\">make</span> <span style=\"background-color:rgba(255,0,0,0.0005479308674694039);\">any</span> <span style=\"background-color:rgba(255,0,0,0.0017239291628357023);\">sense</span> <span style=\"background-color:rgba(255,0,0,0.008434641640633345);\">the</span> <span style=\"background-color:rgba(255,0,0,0.0036546654882840812);\">warriors</span> <span style=\"background-color:rgba(255,0,0,0.03748234128579497);\">lost</span> <span style=\"background-color:rgba(255,0,0,0.01004481571726501);\">to</span> <span style=\"background-color:rgba(255,0,0,0.008434641640633345);\">the</span> cavs. <span style=\"background-color:rgba(255,0,0,0.010645431466400623);\">it</span> <span style=\"background-color:rgba(255,0,0,0.013373217079788446);\">was</span> <span style=\"background-color:rgba(255,0,0,0.01758124097250402);\">well</span> documented. <span style=\"background-color:rgba(255,0,0,0.00828527845442295);\">they</span> eve…"
      ],
      "text/plain": [
       "<IPython.core.display.HTML object>"
      ]
     },
     "metadata": {},
     "output_type": "display_data"
    },
    {
     "data": {
      "text/html": [
       "rt @elasticlove: <span style=\"background-color:rgba(255,0,0,0.018791728653013706);\">lana</span> doesn't <span style=\"background-color:rgba(255,0,0,0.00771116407122463);\">have</span> <span style=\"background-color:rgba(255,0,0,0.01673016929998994);\">a</span> <span style=\"background-color:rgba(255,0,0,0.3079652041196823);\">bad</span> <span style=\"background-color:rgba(255,0,0,0.05673271603882313);\">album</span> <span style=\"background-color:rgba(255,0,0,0.3365343064069748);\">gays</span> <span style=\"background-color:rgba(255,0,0,0.1805165782570839);\">just</span> <span style=\"background-color:rgba(255,0,0,0.1163435447961092);\">like</span> <span style=\"background-color:rgba(255,0,0,0.06546194199472666);\">upbeat</span> <span style=\"background-color:rgba(255,0,0,0.003940092283301055);\">songs</span>"
      ],
      "text/plain": [
       "<IPython.core.display.HTML object>"
      ]
     },
     "metadata": {},
     "output_type": "display_data"
    },
    {
     "data": {
      "text/html": [
       "<span style=\"background-color:rgba(255,0,0,0.8067109435796738);\">fucking</span> <span style=\"background-color:rgba(255,0,0,0.038516707718372345);\">puss</span> &#128530;&#128514; #teammakody https://t.co/6yxjxxrfh6"
      ],
      "text/plain": [
       "<IPython.core.display.HTML object>"
      ]
     },
     "metadata": {},
     "output_type": "display_data"
    },
    {
     "data": {
      "text/html": [
       "rt @slimbaeless: <span style=\"background-color:rgba(255,0,0,0.003952159604523331);\">i</span> <span style=\"background-color:rgba(255,0,0,0.11489685624837875);\">fucking</span> <span style=\"background-color:rgba(255,0,0,1.0230019688606262);\">hate</span> <span style=\"background-color:rgba(255,0,0,0.037032775580883026);\">you</span> <span style=\"background-color:rgba(255,0,0,0.016354278195649385);\">all</span> https://t.co/s788nmvm35"
      ],
      "text/plain": [
       "<IPython.core.display.HTML object>"
      ]
     },
     "metadata": {},
     "output_type": "display_data"
    },
    {
     "data": {
      "text/html": [
       "rt @hammerheadbat: <span style=\"background-color:rgba(255,0,0,0.002079747646348551);\">oh</span> god, <span style=\"background-color:rgba(255,0,0,0.013017021119594574);\">labmate</span> <span style=\"background-color:rgba(255,0,0,0.017421557568013668);\">just</span> <span style=\"background-color:rgba(255,0,0,0.01885741134174168);\">pointed</span> <span style=\"background-color:rgba(255,0,0,0.004511562583502382);\">out</span> <span style=\"background-color:rgba(255,0,0,0.0033926503965631127);\">that</span> <span style=\"background-color:rgba(255,0,0,0.0006817313987994567);\">one</span> <span style=\"background-color:rgba(255,0,0,0.0007216972880996764);\">of</span> <span style=\"background-color:rgba(255,0,0,0.001630609476706013);\">the</span> <span style=\"background-color:rgba(255,0,0,0.0035628487239591777);\">algorithms</span> <span style=\"background-color:rgba(255,0,0,0.003494239063002169);\">we</span> <span style=\"background-color:rgba(255,0,0,0.001282070588786155);\">use</span> <span style=\"background-color:rgba(255,0,0,0.0033236591843888164);\">is</span> <span style=\"background-color:rgba(255,0,0,0.07188377436250448);\">called</span> uparse. <span style=\"background-color:rgba(255,0,0,0.12541267089545727);\">up</span> arse. <span style=\"background-color:rgba(255,0,0,0.5470522865653038);\">fucking</span> nerds, man."
      ],
      "text/plain": [
       "<IPython.core.display.HTML object>"
      ]
     },
     "metadata": {},
     "output_type": "display_data"
    },
    {
     "data": {
      "text/html": [
       "@randpaul @deplorable4sure you're <span style=\"background-color:rgba(255,0,0,0.0018477941921446472);\">an</span> idiot! <span style=\"background-color:rgba(255,0,0,0.1345949899405241);\">worry</span> <span style=\"background-color:rgba(255,0,0,0.019171024905517697);\">about</span> <span style=\"background-color:rgba(255,0,0,0.006879625143483281);\">that</span> <span style=\"background-color:rgba(255,0,0,0.2947411499917507);\">hell</span> <span style=\"background-color:rgba(255,0,0,0.39261244237422943);\">hole</span> <span style=\"background-color:rgba(255,0,0,0.016599020455032587);\">kentucky</span> <span style=\"background-color:rgba(255,0,0,0.006879625143483281);\">that</span> <span style=\"background-color:rgba(255,0,0,0.0033420801628381014);\">you</span> <span style=\"background-color:rgba(255,0,0,0.006928082439117134);\">are</span> <span style=\"background-color:rgba(255,0,0,0.01883898861706257);\">letting</span> <span style=\"background-color:rgba(255,0,0,0.014926120638847351);\">slip</span> <span style=\"background-color:rgba(255,0,0,0.036610637325793505);\">down</span> the… https://t.co/a9kuoaaker"
      ],
      "text/plain": [
       "<IPython.core.display.HTML object>"
      ]
     },
     "metadata": {},
     "output_type": "display_data"
    },
    {
     "data": {
      "text/html": [
       "<span style=\"background-color:rgba(255,0,0,0.0049349438631907105);\">mark</span> <span style=\"background-color:rgba(255,0,0,0.006825283053331077);\">dice</span> <span style=\"background-color:rgba(255,0,0,0.004872238787356764);\">gets</span> <span style=\"background-color:rgba(255,0,0,0.02821637550368905);\">up</span> <span style=\"background-color:rgba(255,0,0,0.009015494724735618);\">on</span> stage, <span style=\"background-color:rgba(255,0,0,0.00499424000736326);\">and</span> <span style=\"background-color:rgba(255,0,0,0.004535509797278792);\">yells</span> <span style=\"background-color:rgba(255,0,0,0.02387810032814741);\">into</span> <span style=\"background-color:rgba(255,0,0,0.02278290456160903);\">the</span> <span style=\"background-color:rgba(255,0,0,0.015944860642775893);\">microphone</span> \"fuck niggers\" <span style=\"background-color:rgba(255,0,0,0.09340710006654263);\">crowd</span> <span style=\"background-color:rgba(255,0,0,0.0113754125777632);\">starts</span> <span style=\"background-color:rgba(255,0,0,0.009886001935228705);\">booing</span> him, <span style=\"background-color:rgba(255,0,0,0.0049349438631907105);\">mark</span> <span style=\"background-color:rgba(255,0,0,0.006825283053331077);\">dice</span> <span style=\"background-color:rgba(255,0,0,0.007731156074441969);\">responds</span> <span style=\"background-color:rgba(255,0,0,0.00462574913399294);\">with</span> \"take <span style=\"background-color:rgba(255,0,0,0.01571466331370175);\">a</span> joke\""
      ],
      "text/plain": [
       "<IPython.core.display.HTML object>"
      ]
     },
     "metadata": {},
     "output_type": "display_data"
    },
    {
     "data": {
      "text/html": [
       "rt @poppinassmia_: <span style=\"background-color:rgba(255,0,0,0.005446678842417896);\">i</span> <span style=\"background-color:rgba(255,0,0,0.005233600386418402);\">can</span> <span style=\"background-color:rgba(255,0,0,0.005817687488161027);\">go</span> <span style=\"background-color:rgba(255,0,0,0.00892627751454711);\">years</span> <span style=\"background-color:rgba(255,0,0,0.005134905222803354);\">without</span> <span style=\"background-color:rgba(255,0,0,0.017758584581315517);\">sex</span> . <span style=\"background-color:rgba(255,0,0,0.005497485399246216);\">these</span> <span style=\"background-color:rgba(255,0,0,0.1149086281657219);\">niggas</span> <span style=\"background-color:rgba(255,0,0,0.018979827873408794);\">be</span> <span style=\"background-color:rgba(255,0,0,0.17189744859933853);\">nasty</span> <span style=\"background-color:rgba(255,0,0,0.6624241918325424);\">af</span> <span style=\"background-color:rgba(255,0,0,0.14303021132946014);\">anyway</span>"
      ],
      "text/plain": [
       "<IPython.core.display.HTML object>"
      ]
     },
     "metadata": {},
     "output_type": "display_data"
    },
    {
     "data": {
      "text/html": [
       "rt @__senorguapo: <span style=\"background-color:rgba(255,0,0,0.0008248547237599269);\">any</span> <span style=\"background-color:rgba(255,0,0,0.13851492665708065);\">girl</span> <span style=\"background-color:rgba(255,0,0,0.0034292330383323133);\">that</span> <span style=\"background-color:rgba(255,0,0,0.006675358745269477);\">gets</span> <span style=\"background-color:rgba(255,0,0,0.2550881914794445);\">mad</span> <span style=\"background-color:rgba(255,0,0,0.01717766746878624);\">if</span> <span style=\"background-color:rgba(255,0,0,0.011274907737970352);\">they</span> <span style=\"background-color:rgba(255,0,0,0.3184044361114502);\">nigga</span> <span style=\"background-color:rgba(255,0,0,0.07630896288901567);\">like</span> <span style=\"background-color:rgba(255,0,0,0.03457921324297786);\">another</span> <span style=\"background-color:rgba(255,0,0,0.1273882109671831);\">chick</span> <span style=\"background-color:rgba(255,0,0,0.014119484694674611);\">picture</span> <span style=\"background-color:rgba(255,0,0,0.003401863796170801);\">on</span> twitter/insta <span style=\"background-color:rgba(255,0,0,0.0018016410467680544);\">is</span> <span style=\"background-color:rgba(255,0,0,0.0013648644380737096);\">beyond</span> insecure. <span style=\"background-color:rgba(255,0,0,0.048142834566533566);\">unless</span> it's <span style=\"background-color:rgba(255,0,0,0.0438784109428525);\">a</span> <span style=\"background-color:rgba(255,0,0,0.13851492665708065);\">girl</span> s…"
      ],
      "text/plain": [
       "<IPython.core.display.HTML object>"
      ]
     },
     "metadata": {},
     "output_type": "display_data"
    },
    {
     "data": {
      "text/html": [
       "@xo_jesuus <span style=\"background-color:rgba(255,0,0,0.004476603353396058);\">oh</span> <span style=\"background-color:rgba(255,0,0,0.01378873479552567);\">so</span> <span style=\"background-color:rgba(255,0,0,0.026098389644175768);\">because</span> <span style=\"background-color:rgba(255,0,0,0.012001078575849533);\">the</span> <span style=\"background-color:rgba(255,0,0,0.001272236549993977);\">color</span> <span style=\"background-color:rgba(255,0,0,0.0010139579535461962);\">of</span> <span style=\"background-color:rgba(255,0,0,0.012822897406294942);\">my</span> <span style=\"background-color:rgba(255,0,0,0.0017632561502978206);\">skin</span> <span style=\"background-color:rgba(255,0,0,0.013950287830084562);\">i</span> can't <span style=\"background-color:rgba(255,0,0,0.011633327230811119);\">say</span> <span style=\"background-color:rgba(255,0,0,0.006286600255407393);\">a</span> word?because <span style=\"background-color:rgba(255,0,0,0.018139618914574385);\">when</span> <span style=\"background-color:rgba(255,0,0,0.012822897406294942);\">my</span> <span style=\"background-color:rgba(255,0,0,0.013163709081709385);\">side</span> <span style=\"background-color:rgba(255,0,0,0.3026248887181282);\">nigga</span> <span style=\"background-color:rgba(255,0,0,0.6597962230443954);\">fucks</span> <span style=\"background-color:rgba(255,0,0,0.07102147210389376);\">me</span> <span style=\"background-color:rgba(255,0,0,0.013950287830084562);\">i</span> <span style=\"background-color:rgba(255,0,0,0.005891449400223792);\">def</span> <span style=\"background-color:rgba(255,0,0,0.011633327230811119);\">say</span> \"hit… https://t.co/dv7gqthsg8"
      ],
      "text/plain": [
       "<IPython.core.display.HTML object>"
      ]
     },
     "metadata": {},
     "output_type": "display_data"
    },
    {
     "data": {
      "text/html": [
       "rt @shotgunsuge103: <span style=\"background-color:rgba(255,0,0,0.00031116163881961256);\">ave</span> <span style=\"background-color:rgba(255,0,0,0.0016283364675473422);\">sitting</span> <span style=\"background-color:rgba(255,0,0,0.0016189175948966295);\">in</span> <span style=\"background-color:rgba(255,0,0,0.003663026145659387);\">his</span> <span style=\"background-color:rgba(255,0,0,0.006744225393049419);\">break</span> <span style=\"background-color:rgba(255,0,0,0.015618476318195462);\">room</span> <span style=\"background-color:rgba(255,0,0,0.009575752774253488);\">at</span> <span style=\"background-color:rgba(255,0,0,0.0012248904386069626);\">targets</span> <span style=\"background-color:rgba(255,0,0,0.08018519729375839);\">mad</span> <span style=\"background-color:rgba(255,0,0,0.006733402842655778);\">as</span> <span style=\"background-color:rgba(255,0,0,0.15903303399682045);\">hell</span> <span style=\"background-color:rgba(255,0,0,0.055770259350538254);\">like</span> <span style=\"background-color:rgba(255,0,0,0.11621031910181046);\">ima</span> <span style=\"background-color:rgba(255,0,0,0.25224439799785614);\">kill</span> <span style=\"background-color:rgba(255,0,0,0.01613534288480878);\">this</span> <span style=\"background-color:rgba(255,0,0,0.14192333444952965);\">bum</span> <span style=\"background-color:rgba(255,0,0,0.36076750606298447);\">nigga</span> <span style=\"background-color:rgba(255,0,0,0.008635850390419364);\">suge</span> &#129315;&#129315;&#129315;&#129315;"
      ],
      "text/plain": [
       "<IPython.core.display.HTML object>"
      ]
     },
     "metadata": {},
     "output_type": "display_data"
    },
    {
     "data": {
      "text/html": [
       "rt @trap_jesus: <span style=\"background-color:rgba(255,0,0,0.009129043319262564);\">kemba</span> <span style=\"background-color:rgba(255,0,0,0.06543941795825958);\">fucked</span> <span style=\"background-color:rgba(255,0,0,0.03456403035670519);\">this</span> <span style=\"background-color:rgba(255,0,0,0.3457663580775261);\">nigga</span> up. rt @dailyloud: <span style=\"background-color:rgba(255,0,0,0.05465887486934662);\">i</span> <span style=\"background-color:rgba(255,0,0,0.05814732518047094);\">still</span> can't <span style=\"background-color:rgba(255,0,0,0.07294701412320137);\">believe</span> <span style=\"background-color:rgba(255,0,0,0.009129043319262564);\">kemba</span> <span style=\"background-color:rgba(255,0,0,0.043990700505673885);\">did</span> <span style=\"background-color:rgba(255,0,0,0.03456403035670519);\">this</span> <span style=\"background-color:rgba(255,0,0,0.01940787653438747);\">to</span> <span style=\"background-color:rgba(255,0,0,0.05323815159499645);\">pitt</span> https://t.co/lzzoux5jlz"
      ],
      "text/plain": [
       "<IPython.core.display.HTML object>"
      ]
     },
     "metadata": {},
     "output_type": "display_data"
    },
    {
     "data": {
      "text/html": [
       "<span style=\"background-color:rgba(255,0,0,0.029145670123398304);\">i</span> <span style=\"background-color:rgba(255,0,0,0.005288331885822117);\">wonder</span> <span style=\"background-color:rgba(255,0,0,0.002298777108080685);\">if</span> i'm <span style=\"background-color:rgba(255,0,0,0.04166990518569946);\">looked</span> <span style=\"background-color:rgba(255,0,0,0.029609480407088995);\">at</span> <span style=\"background-color:rgba(255,0,0,0.007559145451523364);\">as</span> <span style=\"background-color:rgba(255,0,0,0.0103060866240412);\">the</span> <span style=\"background-color:rgba(255,0,0,0.135442977771163);\">bad</span> <span style=\"background-color:rgba(255,0,0,0.23511795327067375);\">guy</span> <span style=\"background-color:rgba(255,0,0,0.012020033318549395);\">here</span> <span style=\"background-color:rgba(255,0,0,0.06110300309956074);\">cuz</span> <span style=\"background-color:rgba(255,0,0,0.03226209199056029);\">like</span> <span style=\"background-color:rgba(255,0,0,0.14652257785201073);\">tf</span> <span style=\"background-color:rgba(255,0,0,0.4525551199913025);\">nigga</span> &#129300;? <span style=\"background-color:rgba(255,0,0,0.029145670123398304);\">i</span> ain't"
      ],
      "text/plain": [
       "<IPython.core.display.HTML object>"
      ]
     },
     "metadata": {},
     "output_type": "display_data"
    },
    {
     "data": {
      "text/html": [
       "<span style=\"background-color:rgba(255,0,0,0.0029045710107311606);\">my</span> <span style=\"background-color:rgba(255,0,0,0.019308265764266253);\">cousin</span> <span style=\"background-color:rgba(255,0,0,0.010117832571268082);\">is</span> <span style=\"background-color:rgba(255,0,0,0.01063907751813531);\">always</span> <span style=\"background-color:rgba(255,0,0,0.0013381517783273011);\">15</span> <span style=\"background-color:rgba(255,0,0,0.0013000408944208175);\">minutes</span> <span style=\"background-color:rgba(255,0,0,0.001361090107820928);\">late</span> <span style=\"background-color:rgba(255,0,0,0.0008906819130061194);\">for</span> <span style=\"background-color:rgba(255,0,0,0.004018268664367497);\">his</span> <span style=\"background-color:rgba(255,0,0,0.0025700160767883062);\">shift</span> <span style=\"background-color:rgba(255,0,0,0.005838856450282037);\">i</span> <span style=\"background-color:rgba(255,0,0,0.3905666619539261);\">hate</span> <span style=\"background-color:rgba(255,0,0,0.04841159097850323);\">this</span> <span style=\"background-color:rgba(255,0,0,0.6466059386730194);\">nigga</span> &#128514;&#128514;"
      ],
      "text/plain": [
       "<IPython.core.display.HTML object>"
      ]
     },
     "metadata": {},
     "output_type": "display_data"
    },
    {
     "data": {
      "text/html": [
       "<span style=\"background-color:rgba(255,0,0,0.011225496418774128);\">i</span> <span style=\"background-color:rgba(255,0,0,0.027082560118287802);\">wanna</span> <span style=\"background-color:rgba(255,0,0,0.06484619807451963);\">wake</span> <span style=\"background-color:rgba(255,0,0,0.16944533213973045);\">up</span> ,go <span style=\"background-color:rgba(255,0,0,0.014407747657969594);\">to</span> work, <span style=\"background-color:rgba(255,0,0,0.005811518640257418);\">come</span> <span style=\"background-color:rgba(255,0,0,0.00865691457875073);\">home</span> <span style=\"background-color:rgba(255,0,0,0.00804634124506265);\">help</span> <span style=\"background-color:rgba(255,0,0,0.01118046697229147);\">my</span> <span style=\"background-color:rgba(255,0,0,0.08173171430826187);\">son</span> w. <span style=\"background-color:rgba(255,0,0,0.021942586172372103);\">his</span> homework, <span style=\"background-color:rgba(255,0,0,0.008136369870044291);\">make</span> dinner, <span style=\"background-color:rgba(255,0,0,0.009524712222628295);\">and</span> <span style=\"background-color:rgba(255,0,0,0.0047960554366);\">get</span> <span style=\"background-color:rgba(255,0,0,0.13178139925003052);\">fucked</span> <span style=\"background-color:rgba(255,0,0,0.01429022871889174);\">by</span> <span style=\"background-color:rgba(255,0,0,0.01118046697229147);\">my</span> <span style=\"background-color:rgba(255,0,0,0.3673776611685753);\">nigga</span> #wishfulthinking &#128106;"
      ],
      "text/plain": [
       "<IPython.core.display.HTML object>"
      ]
     },
     "metadata": {},
     "output_type": "display_data"
    },
    {
     "data": {
      "text/html": [
       "i'm <span style=\"background-color:rgba(255,0,0,0.03455208847299218);\">bout</span> <span style=\"background-color:rgba(255,0,0,0.004796950670424849);\">to</span> <span style=\"background-color:rgba(255,0,0,0.000853410383570008);\">make</span> <span style=\"background-color:rgba(255,0,0,0.002428863226668909);\">a</span> <span style=\"background-color:rgba(255,0,0,0.0005625007179332897);\">list</span> <span style=\"background-color:rgba(255,0,0,0.0007642850687261671);\">of</span> <span style=\"background-color:rgba(255,0,0,0.12343182228505611);\">stupid</span> <span style=\"background-color:rgba(255,0,0,0.314740352332592);\">ass</span> <span style=\"background-color:rgba(255,0,0,0.1132509671151638);\">fake</span> <span style=\"background-color:rgba(255,0,0,0.314740352332592);\">ass</span> <span style=\"background-color:rgba(255,0,0,0.02439277246594429);\">people</span> <span style=\"background-color:rgba(255,0,0,0.008191228262148798);\">in</span> <span style=\"background-color:rgba(255,0,0,0.004919179482385516);\">the</span> community."
      ],
      "text/plain": [
       "<IPython.core.display.HTML object>"
      ]
     },
     "metadata": {},
     "output_type": "display_data"
    },
    {
     "data": {
      "text/html": [
       "rt @sarahksilverman: <span style=\"background-color:rgba(255,0,0,0.0018054501560982317);\">johnson</span> <span style=\"background-color:rgba(255,0,0,0.012894993415102363);\">bademosi</span> <span style=\"background-color:rgba(255,0,0,0.013845835346728563);\">is</span> <span style=\"background-color:rgba(255,0,0,0.1654970645904541);\">bad</span> <span style=\"background-color:rgba(255,0,0,0.9283557534217834);\">ass</span> https://t.co/oggtnglwot"
      ],
      "text/plain": [
       "<IPython.core.display.HTML object>"
      ]
     },
     "metadata": {},
     "output_type": "display_data"
    },
    {
     "data": {
      "text/html": [
       "<span style=\"background-color:rgba(255,0,0,0.00945786654483527);\">ew</span> <span style=\"background-color:rgba(255,0,0,0.0016504881205037236);\">this</span> <span style=\"background-color:rgba(255,0,0,0.001689383207121864);\">is</span> <span style=\"background-color:rgba(255,0,0,0.008498503593727946);\">so</span> ugly. <span style=\"background-color:rgba(255,0,0,0.37605270743370056);\">niggas</span> <span style=\"background-color:rgba(255,0,0,0.27196792885661125);\">lame</span> asf. https://t.co/4uokj3pasc"
      ],
      "text/plain": [
       "<IPython.core.display.HTML object>"
      ]
     },
     "metadata": {},
     "output_type": "display_data"
    },
    {
     "data": {
      "text/html": [
       "<span style=\"background-color:rgba(255,0,0,0.04309126175940037);\">the</span> <span style=\"background-color:rgba(255,0,0,0.0024170713732019067);\">nina</span> <span style=\"background-color:rgba(255,0,0,0.0042605772614479065);\">is</span> <span style=\"background-color:rgba(255,0,0,0.008845867705531418);\">my</span> <span style=\"background-color:rgba(255,0,0,0.22763174027204514);\">bitch</span> &amp; <span style=\"background-color:rgba(255,0,0,0.0027112491079606116);\">i</span> <span style=\"background-color:rgba(255,0,0,0.0028669062885455787);\">might</span> <span style=\"background-color:rgba(255,0,0,0.0019878736929968);\">have</span> <span style=\"background-color:rgba(255,0,0,0.001971899764612317);\">to</span> <span style=\"background-color:rgba(255,0,0,0.023451449815183878);\">rape</span> <span style=\"background-color:rgba(255,0,0,0.006041499436832964);\">a</span> <span style=\"background-color:rgba(255,0,0,0.25623032823204994);\">nigga</span> , <span style=\"background-color:rgba(255,0,0,0.04309126175940037);\">the</span> <span style=\"background-color:rgba(255,0,0,0.055497149005532265);\">heater</span> <span style=\"background-color:rgba(255,0,0,0.015615718439221382);\">on</span> <span style=\"background-color:rgba(255,0,0,0.008845867705531418);\">my</span> <span style=\"background-color:rgba(255,0,0,0.0020481835235841572);\">waist</span> <span style=\"background-color:rgba(255,0,0,0.0010523155651753768);\">and</span> <span style=\"background-color:rgba(255,0,0,0.0027112491079606116);\">i</span> <span style=\"background-color:rgba(255,0,0,0.0028669062885455787);\">might</span> <span style=\"background-color:rgba(255,0,0,0.0019878736929968);\">have</span> <span style=\"background-color:rgba(255,0,0,0.001971899764612317);\">to</span> <span style=\"background-color:rgba(255,0,0,0.003587887913454324);\">bake</span> <span style=\"background-color:rgba(255,0,0,0.006041499436832964);\">a</span> nigga!"
      ],
      "text/plain": [
       "<IPython.core.display.HTML object>"
      ]
     },
     "metadata": {},
     "output_type": "display_data"
    },
    {
     "data": {
      "text/html": [
       "<span style=\"background-color:rgba(255,0,0,0.15943458303809166);\">hate</span> <span style=\"background-color:rgba(255,0,0,0.0230074068531394);\">when</span> <span style=\"background-color:rgba(255,0,0,0.0030342795071192086);\">some</span> <span style=\"background-color:rgba(255,0,0,0.00039012989873299375);\">1</span> <span style=\"background-color:rgba(255,0,0,0.00040076465666061267);\">starts</span> <span style=\"background-color:rgba(255,0,0,0.0007066570105962455);\">to</span> <span style=\"background-color:rgba(255,0,0,0.03672707360237837);\">tell</span> <span style=\"background-color:rgba(255,0,0,0.021780075039714575);\">me</span> <span style=\"background-color:rgba(255,0,0,0.02283730311319232);\">something</span> <span style=\"background-color:rgba(255,0,0,0.013220563996583223);\">then</span> <span style=\"background-color:rgba(255,0,0,0.023141184356063604);\">says</span> <span style=\"background-color:rgba(255,0,0,0.13311484828591347);\">nvm</span> <span style=\"background-color:rgba(255,0,0,0.08758565410971642);\">like</span> <span style=\"background-color:rgba(255,0,0,0.060742669738829136);\">na</span> <span style=\"background-color:rgba(255,0,0,0.5237109959125519);\">nigga</span> <span style=\"background-color:rgba(255,0,0,0.02307277638465166);\">you</span> <span style=\"background-color:rgba(255,0,0,0.0623439671471715);\">gotta</span> <span style=\"background-color:rgba(255,0,0,0.03672707360237837);\">tell</span> <span style=\"background-color:rgba(255,0,0,0.021780075039714575);\">me</span> <span style=\"background-color:rgba(255,0,0,0.005920351832173765);\">now</span> &#128514;"
      ],
      "text/plain": [
       "<IPython.core.display.HTML object>"
      ]
     },
     "metadata": {},
     "output_type": "display_data"
    },
    {
     "data": {
      "text/html": [
       "rt @niggavideos: i'm <span style=\"background-color:rgba(255,0,0,0.00668600550852716);\">like</span> <span style=\"background-color:rgba(255,0,0,0.09854433126747608);\">gawd</span> <span style=\"background-color:rgba(255,0,0,0.39725352078676224);\">damn</span> <span style=\"background-color:rgba(255,0,0,0.02055466640740633);\">you</span> <span style=\"background-color:rgba(255,0,0,0.152923371642828);\">dirty</span> <span style=\"background-color:rgba(255,0,0,0.5255985632538795);\">bitch</span> https://t.co/glhbolmx2i"
      ],
      "text/plain": [
       "<IPython.core.display.HTML object>"
      ]
     },
     "metadata": {},
     "output_type": "display_data"
    },
    {
     "data": {
      "text/html": [
       "rt @drew_magic_: <span style=\"background-color:rgba(255,0,0,0.03519399790093303);\">y&#x27;all</span> <span style=\"background-color:rgba(255,0,0,0.020818996708840132);\">be</span> 14-16 drinking, smoking, fucking, <span style=\"background-color:rgba(255,0,0,0.03915256820619106);\">partying</span> <span style=\"background-color:rgba(255,0,0,0.014789232518523932);\">every</span> weekend. <span style=\"background-color:rgba(255,0,0,0.003974541614297777);\">my</span> <span style=\"background-color:rgba(255,0,0,0.13140191324055195);\">nigga</span> <span style=\"background-color:rgba(255,0,0,0.020818996708840132);\">be</span> <span style=\"background-color:rgba(255,0,0,0.01516611548140645);\">a</span> <span style=\"background-color:rgba(255,0,0,0.3834269568324089);\">fucking</span> kid."
      ],
      "text/plain": [
       "<IPython.core.display.HTML object>"
      ]
     },
     "metadata": {},
     "output_type": "display_data"
    },
    {
     "data": {
      "text/html": [
       "<span style=\"background-color:rgba(255,0,0,0.0021924753673374653);\">never</span> <span style=\"background-color:rgba(255,0,0,0.00253277801675722);\">confuse</span> <span style=\"background-color:rgba(255,0,0,0.015391220804303885);\">libya</span> <span style=\"background-color:rgba(255,0,0,0.005809595459140837);\">with</span> syria...you'll <span style=\"background-color:rgba(255,0,0,0.001954948966158554);\">get</span> blocked...mankind <span style=\"background-color:rgba(255,0,0,0.013525488320738077);\">is</span> <span style=\"background-color:rgba(255,0,0,0.008503608405590057);\">now</span> <span style=\"background-color:rgba(255,0,0,0.24390943348407745);\">fucking</span> insane...same <span style=\"background-color:rgba(255,0,0,0.09528974071145058);\">again</span> <span style=\"background-color:rgba(255,0,0,0.0050058565102517605);\">barman</span> !."
      ],
      "text/plain": [
       "<IPython.core.display.HTML object>"
      ]
     },
     "metadata": {},
     "output_type": "display_data"
    },
    {
     "data": {
      "text/html": [
       "<span style=\"background-color:rgba(255,0,0,0.12861297465860844);\">niggas</span> <span style=\"background-color:rgba(255,0,0,0.012728377478197217);\">had</span> <span style=\"background-color:rgba(255,0,0,0.013346760533750057);\">me</span> <span style=\"background-color:rgba(255,0,0,0.011825961992144585);\">doing</span> <span style=\"background-color:rgba(255,0,0,0.04094555974006653);\">fire</span> <span style=\"background-color:rgba(255,0,0,0.020798619370907545);\">guard</span> <span style=\"background-color:rgba(255,0,0,0.015694055473431945);\">all</span> <span style=\"background-color:rgba(255,0,0,0.008563765441067517);\">day</span> <span style=\"background-color:rgba(255,0,0,0.009556098957546055);\">that</span> <span style=\"background-color:rgba(255,0,0,0.245912317186594);\">shit</span> <span style=\"background-color:rgba(255,0,0,0.10834071785211563);\">is</span> <span style=\"background-color:rgba(255,0,0,0.43383944779634476);\">boring</span>"
      ],
      "text/plain": [
       "<IPython.core.display.HTML object>"
      ]
     },
     "metadata": {},
     "output_type": "display_data"
    },
    {
     "data": {
      "text/html": [
       "rt @imdontai: <span style=\"background-color:rgba(255,0,0,0.003725104033946991);\">why</span> <span style=\"background-color:rgba(255,0,0,0.0008304449147544801);\">damien</span> <span style=\"background-color:rgba(255,0,0,0.004040597705170512);\">so</span> <span style=\"background-color:rgba(255,0,0,0.04445060156285763);\">scared</span> <span style=\"background-color:rgba(255,0,0,0.0051345996325835586);\">to</span> <span style=\"background-color:rgba(255,0,0,0.006545247742906213);\">call</span> <span style=\"background-color:rgba(255,0,0,0.006811598432250321);\">me</span> <span style=\"background-color:rgba(255,0,0,0.0021622497297357768);\">out</span> <span style=\"background-color:rgba(255,0,0,0.0008563519804738462);\">by</span> name? i'm disappointed. i'll <span style=\"background-color:rgba(255,0,0,0.004938255297020078);\">do</span> <span style=\"background-color:rgba(255,0,0,0.004005338414572179);\">it</span> <span style=\"background-color:rgba(255,0,0,0.002162016025977209);\">for</span> you. \"dontai <span style=\"background-color:rgba(255,0,0,0.006332626799121499);\">a</span> <span style=\"background-color:rgba(255,0,0,0.17150476574897766);\">fuck</span> nigga. i'll <span style=\"background-color:rgba(255,0,0,0.0038819375913590193);\">beat</span> <span style=\"background-color:rgba(255,0,0,0.004192178312223405);\">his</span> ass.…"
      ],
      "text/plain": [
       "<IPython.core.display.HTML object>"
      ]
     },
     "metadata": {},
     "output_type": "display_data"
    },
    {
     "data": {
      "text/html": [
       "rt @favela12700: <span style=\"background-color:rgba(255,0,0,0.0009637923358241096);\">that</span> <span style=\"background-color:rgba(255,0,0,0.04536259453743696);\">nigga</span> <span style=\"background-color:rgba(255,0,0,0.013414999702945352);\">frank</span> <span style=\"background-color:rgba(255,0,0,0.02878278261050582);\">gallagher</span> <span style=\"background-color:rgba(255,0,0,0.008010835153982043);\">a</span> <span style=\"background-color:rgba(255,0,0,0.12361789122223854);\">fucking</span> <span style=\"background-color:rgba(255,0,0,0.9757187217473984);\">asshole</span>"
      ],
      "text/plain": [
       "<IPython.core.display.HTML object>"
      ]
     },
     "metadata": {},
     "output_type": "display_data"
    },
    {
     "data": {
      "text/html": [
       "<span style=\"background-color:rgba(255,0,0,0.0046942211338318884);\">anybody</span> <span style=\"background-color:rgba(255,0,0,0.004533871833700687);\">who</span> <span style=\"background-color:rgba(255,0,0,0.009501554886810482);\">is</span> <span style=\"background-color:rgba(255,0,0,0.027489480562508106);\">rooting</span> <span style=\"background-color:rgba(255,0,0,0.005696191219612956);\">for</span> #worldwar3 <span style=\"background-color:rgba(255,0,0,0.009501554886810482);\">is</span> <span style=\"background-color:rgba(255,0,0,0.01725517911836505);\">a</span> <span style=\"background-color:rgba(255,0,0,0.5080041289329529);\">fucking</span> imbecile."
      ],
      "text/plain": [
       "<IPython.core.display.HTML object>"
      ]
     },
     "metadata": {},
     "output_type": "display_data"
    },
    {
     "data": {
      "text/html": [
       "i'm <span style=\"background-color:rgba(255,0,0,0.014458706136792898);\">so</span> <span style=\"background-color:rgba(255,0,0,0.21908216178417206);\">fucking</span> <span style=\"background-color:rgba(255,0,0,0.6832730770111084);\">angry</span> <span style=\"background-color:rgba(255,0,0,0.03088141791522503);\">and</span> <span style=\"background-color:rgba(255,0,0,0.05732419900596142);\">sad</span> <span style=\"background-color:rgba(255,0,0,0.028160593938082457);\">n</span> <span style=\"background-color:rgba(255,0,0,0.01804901985451579);\">people</span> <span style=\"background-color:rgba(255,0,0,0.01697416533716023);\">are</span> <span style=\"background-color:rgba(255,0,0,0.010683159343898296);\">the</span> worst."
      ],
      "text/plain": [
       "<IPython.core.display.HTML object>"
      ]
     },
     "metadata": {},
     "output_type": "display_data"
    },
    {
     "data": {
      "text/html": [
       "@miguelg1984 @cjdeuce_ @obj_3 <span style=\"background-color:rgba(255,0,0,0.0022700615227222443);\">you</span> <span style=\"background-color:rgba(255,0,0,0.1921519637107849);\">stupid</span> <span style=\"background-color:rgba(255,0,0,0.014567422913387418);\">as</span> <span style=\"background-color:rgba(255,0,0,0.39108309894800186);\">hell</span> <span style=\"background-color:rgba(255,0,0,0.19588256254792213);\">boy</span> <span style=\"background-color:rgba(255,0,0,0.07137401960790157);\">he</span> <span style=\"background-color:rgba(255,0,0,0.12458981014788151);\">said</span> <span style=\"background-color:rgba(255,0,0,0.07137401960790157);\">he</span> <span style=\"background-color:rgba(255,0,0,0.05274411290884018);\">went</span> <span style=\"background-color:rgba(255,0,0,0.02095444593578577);\">to</span> <span style=\"background-color:rgba(255,0,0,0.03686200128868222);\">lsu</span>"
      ],
      "text/plain": [
       "<IPython.core.display.HTML object>"
      ]
     },
     "metadata": {},
     "output_type": "display_data"
    },
    {
     "data": {
      "text/html": [
       "rt @benjinumba9: <span style=\"background-color:rgba(255,0,0,0.003915328125003725);\">these</span> <span style=\"background-color:rgba(255,0,0,0.11188944801688194);\">niggas</span> <span style=\"background-color:rgba(255,0,0,0.0480941217392683);\">wanna</span> <span style=\"background-color:rgba(255,0,0,0.012641447829082608);\">be</span> \"street <span style=\"background-color:rgba(255,0,0,0.12031075544655323);\">bad</span> <span style=\"background-color:rgba(255,0,0,0.015931749949231744);\">as</span> hell\" <span style=\"background-color:rgba(255,0,0,0.09481814689934254);\">but</span> <span style=\"background-color:rgba(255,0,0,0.05982100963592529);\">when</span> <span style=\"background-color:rgba(255,0,0,0.0422007916495204);\">the</span> <span style=\"background-color:rgba(255,0,0,0.029177211690694094);\">pressure</span> <span style=\"background-color:rgba(255,0,0,0.021054246462881565);\">on</span> <span style=\"background-color:rgba(255,0,0,0.02413541777059436);\">they</span> <span style=\"background-color:rgba(255,0,0,0.0008398545469390228);\">snitchin</span> &#128514;&#128514;&#128528;"
      ],
      "text/plain": [
       "<IPython.core.display.HTML object>"
      ]
     },
     "metadata": {},
     "output_type": "display_data"
    },
    {
     "data": {
      "text/html": [
       "rt @davioadrienne: #imnotabot <span style=\"background-color:rgba(255,0,0,0.030335721094161272);\">i</span> <span style=\"background-color:rgba(255,0,0,0.005295567098073661);\">am</span> <span style=\"background-color:rgba(255,0,0,0.2630934305489063);\">mad</span> <span style=\"background-color:rgba(255,0,0,0.01952502178028226);\">as</span> <span style=\"background-color:rgba(255,0,0,0.4529138654470444);\">hell</span> <span style=\"background-color:rgba(255,0,0,0.03927525132894516);\">and</span> i'm <span style=\"background-color:rgba(255,0,0,0.05444225389510393);\">not</span> <span style=\"background-color:rgba(255,0,0,0.057788738049566746);\">going</span> <span style=\"background-color:rgba(255,0,0,0.02035082085058093);\">to</span> <span style=\"background-color:rgba(255,0,0,0.023978340905159712);\">take</span> <span style=\"background-color:rgba(255,0,0,0.0211940030567348);\">it</span> anymore!!!"
      ],
      "text/plain": [
       "<IPython.core.display.HTML object>"
      ]
     },
     "metadata": {},
     "output_type": "display_data"
    },
    {
     "data": {
      "text/html": [
       "rt @asiatheboss_: <span style=\"background-color:rgba(255,0,0,0.004336198617238551);\">i</span> <span style=\"background-color:rgba(255,0,0,0.24582143872976303);\">hate</span> <span style=\"background-color:rgba(255,0,0,0.02090261783450842);\">having</span> <span style=\"background-color:rgba(255,0,0,0.025391513481736183);\">sex</span> <span style=\"background-color:rgba(255,0,0,0.06301124580204487);\">bro</span> <span style=\"background-color:rgba(255,0,0,0.04139339551329613);\">cause</span> <span style=\"background-color:rgba(255,0,0,0.004594172351062298);\">as</span> <span style=\"background-color:rgba(255,0,0,0.0073135149432346225);\">soon</span> <span style=\"background-color:rgba(255,0,0,0.004594172351062298);\">as</span> <span style=\"background-color:rgba(255,0,0,0.005830919253639877);\">you</span> <span style=\"background-color:rgba(255,0,0,0.006362778367474675);\">give</span> <span style=\"background-color:rgba(255,0,0,0.01413876423612237);\">a</span> <span style=\"background-color:rgba(255,0,0,0.6187539920210838);\">nigga</span> <span style=\"background-color:rgba(255,0,0,0.02623855136334896);\">some</span> <span style=\"background-color:rgba(255,0,0,0.0076109886867925525);\">of</span> <span style=\"background-color:rgba(255,0,0,0.009703545947559178);\">that</span> <span style=\"background-color:rgba(255,0,0,0.027182630728930235);\">stuff</span> <span style=\"background-color:rgba(255,0,0,0.022580591030418873);\">they</span> <span style=\"background-color:rgba(255,0,0,0.004737686249427497);\">get</span> <span style=\"background-color:rgba(255,0,0,0.0037911924300715327);\">to</span> <span style=\"background-color:rgba(255,0,0,0.02464446472004056);\">tripping</span>"
      ],
      "text/plain": [
       "<IPython.core.display.HTML object>"
      ]
     },
     "metadata": {},
     "output_type": "display_data"
    },
    {
     "data": {
      "text/html": [
       "<span style=\"background-color:rgba(255,0,0,0.005856432835571468);\">i</span> <span style=\"background-color:rgba(255,0,0,0.020558550022542477);\">swear</span> <span style=\"background-color:rgba(255,0,0,0.005856432835571468);\">i</span> <span style=\"background-color:rgba(255,0,0,0.1442964095622301);\">hate</span> #lwatl <span style=\"background-color:rgba(255,0,0,0.008359957719221711);\">with</span> <span style=\"background-color:rgba(255,0,0,0.004836588050238788);\">a</span> passion. <span style=\"background-color:rgba(255,0,0,0.0352111691609025);\">juicy</span> <span style=\"background-color:rgba(255,0,0,0.00999615527689457);\">is</span> <span style=\"background-color:rgba(255,0,0,0.006836167303845286);\">always</span> <span style=\"background-color:rgba(255,0,0,0.017422994133085012);\">talking</span> <span style=\"background-color:rgba(255,0,0,0.02981018740683794);\">abt</span> <span style=\"background-color:rgba(255,0,0,0.008171151275746524);\">being</span> <span style=\"background-color:rgba(255,0,0,0.004947269335389137);\">the</span> <span style=\"background-color:rgba(255,0,0,0.009663938544690609);\">queen</span> <span style=\"background-color:rgba(255,0,0,0.0027031288482248783);\">of</span> <span style=\"background-color:rgba(255,0,0,0.00382421218091622);\">atl</span> <span style=\"background-color:rgba(255,0,0,0.0022501165221910924);\">but</span> <span style=\"background-color:rgba(255,0,0,0.003045520861633122);\">she</span> <span style=\"background-color:rgba(255,0,0,0.030505091417580843);\">nosey</span> <span style=\"background-color:rgba(255,0,0,0.004519736103247851);\">as</span> hell.that <span style=\"background-color:rgba(255,0,0,0.36475203931331635);\">hoe</span> <span style=\"background-color:rgba(255,0,0,0.09121041744947433);\">needs</span> <span style=\"background-color:rgba(255,0,0,0.22200249135494232);\">dick</span> <span style=\"background-color:rgba(255,0,0,0.009645255049690604);\">or</span> <span style=\"background-color:rgba(255,0,0,0.004836588050238788);\">a</span> <span style=\"background-color:rgba(255,0,0,0.00902998959645629);\">seat</span>"
      ],
      "text/plain": [
       "<IPython.core.display.HTML object>"
      ]
     },
     "metadata": {},
     "output_type": "display_data"
    },
    {
     "data": {
      "text/html": [
       "rt @psssssstdamiraa: <span style=\"background-color:rgba(255,0,0,0.029296735301613808);\">dont</span> <span style=\"background-color:rgba(255,0,0,0.01230777008458972);\">let</span> <span style=\"background-color:rgba(255,0,0,0.009092100663110614);\">no</span> <span style=\"background-color:rgba(255,0,0,0.6270308792591095);\">nigga</span> <span style=\"background-color:rgba(255,0,0,0.10029109194874763);\">drive</span> <span style=\"background-color:rgba(255,0,0,0.017681756289675832);\">you</span> <span style=\"background-color:rgba(255,0,0,0.21130794659256935);\">crazy</span>"
      ],
      "text/plain": [
       "<IPython.core.display.HTML object>"
      ]
     },
     "metadata": {},
     "output_type": "display_data"
    },
    {
     "data": {
      "text/html": [
       "rt @dopechubbychick: <span style=\"background-color:rgba(255,0,0,0.0018369928875472397);\">how</span> <span style=\"background-color:rgba(255,0,0,0.03262892132624984);\">y&#x27;all</span> <span style=\"background-color:rgba(255,0,0,0.011550317285582423);\">be</span> <span style=\"background-color:rgba(255,0,0,0.10312913917005062);\">caught</span> <span style=\"background-color:rgba(255,0,0,0.5103596299886703);\">fucking</span> <span style=\"background-color:rgba(255,0,0,0.015646348474547267);\">lil</span> <span style=\"background-color:rgba(255,0,0,0.13099891133606434);\">dick</span> <span style=\"background-color:rgba(255,0,0,0.22046618163585663);\">niggas</span> <span style=\"background-color:rgba(255,0,0,0.004630126350093633);\">you</span> ain't <span style=\"background-color:rgba(255,0,0,0.0021442477009259164);\">know</span> <span style=\"background-color:rgba(255,0,0,0.0023762424825690687);\">it</span> <span style=\"background-color:rgba(255,0,0,0.005314350128173828);\">was</span> <span style=\"background-color:rgba(255,0,0,0.015646348474547267);\">lil</span> <span style=\"background-color:rgba(255,0,0,0.015386793529614806);\">before</span> <span style=\"background-color:rgba(255,0,0,0.004630126350093633);\">you</span> <span style=\"background-color:rgba(255,0,0,0.03668810939416289);\">pulled</span> <span style=\"background-color:rgba(255,0,0,0.021578946616500616);\">ya</span> <span style=\"background-color:rgba(255,0,0,0.011764658847823739);\">coochie</span> out?!"
      ],
      "text/plain": [
       "<IPython.core.display.HTML object>"
      ]
     },
     "metadata": {},
     "output_type": "display_data"
    },
    {
     "data": {
      "text/html": [
       "<span style=\"background-color:rgba(255,0,0,0.048102596774697304);\">bitches</span> <span style=\"background-color:rgba(255,0,0,0.007455371669493616);\">be</span> <span style=\"background-color:rgba(255,0,0,0.14740947633981705);\">miserable</span> <span style=\"background-color:rgba(255,0,0,0.5176715925335884);\">asf</span> <span style=\"background-color:rgba(255,0,0,0.09875145740807056);\">just</span> <span style=\"background-color:rgba(255,0,0,0.008895816863514483);\">to</span> <span style=\"background-color:rgba(255,0,0,0.015337791992351413);\">say</span> <span style=\"background-color:rgba(255,0,0,0.008030171738937497);\">they</span> <span style=\"background-color:rgba(255,0,0,0.006534970016218722);\">got</span> <span style=\"background-color:rgba(255,0,0,0.006803936557844281);\">a</span> <span style=\"background-color:rgba(255,0,0,0.2367819845676422);\">nigga</span> , it's <span style=\"background-color:rgba(255,0,0,0.02408259315416217);\">not</span> <span style=\"background-color:rgba(255,0,0,0.01628620899282396);\">that</span> <span style=\"background-color:rgba(255,0,0,0.022496143355965614);\">serious</span> <span style=\"background-color:rgba(255,0,0,0.007590335444547236);\">sus</span> &#129318;&#127997;‍♀️"
      ],
      "text/plain": [
       "<IPython.core.display.HTML object>"
      ]
     },
     "metadata": {},
     "output_type": "display_data"
    },
    {
     "data": {
      "text/html": [
       "rt @bobbionne: <span style=\"background-color:rgba(255,0,0,0.18780505284667015);\">stupid</span> <span style=\"background-color:rgba(255,0,0,0.7361549884080887);\">nigga</span> <span style=\"background-color:rgba(255,0,0,0.06566849071532488);\">think</span> <span style=\"background-color:rgba(255,0,0,0.021932998206466436);\">he</span> <span style=\"background-color:rgba(255,0,0,0.0694384053349495);\">gone</span> <span style=\"background-color:rgba(255,0,0,0.015607482055202127);\">stress</span> <span style=\"background-color:rgba(255,0,0,0.019162334501743317);\">me</span> <span style=\"background-color:rgba(255,0,0,0.030171005055308342);\">boy</span> <span style=\"background-color:rgba(255,0,0,0.005431488971225917);\">you</span> <span style=\"background-color:rgba(255,0,0,0.037544306833297014);\">silly</span> &#128514;✋&#127998;"
      ],
      "text/plain": [
       "<IPython.core.display.HTML object>"
      ]
     },
     "metadata": {},
     "output_type": "display_data"
    },
    {
     "data": {
      "text/html": [
       "@maxwingate_ <span style=\"background-color:rgba(255,0,0,0.24309102445840836);\">hell</span> <span style=\"background-color:rgba(255,0,0,0.23648088797926903);\">nah</span> <span style=\"background-color:rgba(255,0,0,0.02872606972232461);\">that</span> <span style=\"background-color:rgba(255,0,0,0.03701790235936642);\">boy</span> <span style=\"background-color:rgba(255,0,0,0.5422793328762054);\">ugly</span> <span style=\"background-color:rgba(255,0,0,0.014805261744186282);\">as</span> <span style=\"background-color:rgba(255,0,0,0.24309102445840836);\">hell</span> <span style=\"background-color:rgba(255,0,0,0.021253747399896383);\">with</span> <span style=\"background-color:rgba(255,0,0,0.0010996975470334291);\">dreads</span> &#128581;&#127998;‍♂️"
      ],
      "text/plain": [
       "<IPython.core.display.HTML object>"
      ]
     },
     "metadata": {},
     "output_type": "display_data"
    },
    {
     "data": {
      "text/html": [
       "rt @ehjovan: <span style=\"background-color:rgba(255,0,0,0.008920204709284008);\">why</span> <span style=\"background-color:rgba(255,0,0,0.010596285574138165);\">are</span> <span style=\"background-color:rgba(255,0,0,0.011437246575951576);\">all</span> <span style=\"background-color:rgba(255,0,0,0.005492590717040002);\">these</span> <span style=\"background-color:rgba(255,0,0,0.0013649743050336838);\">companies</span> <span style=\"background-color:rgba(255,0,0,0.000814672966953367);\">sponsoring</span> <span style=\"background-color:rgba(255,0,0,0.0011261129839112982);\">this</span> <span style=\"background-color:rgba(255,0,0,0.0007129892037482932);\">hideous</span> <span style=\"background-color:rgba(255,0,0,0.00774211366660893);\">boy</span> <span style=\"background-color:rgba(255,0,0,0.0029744539642706513);\">and</span> <span style=\"background-color:rgba(255,0,0,0.010707966284826398);\">his</span> <span style=\"background-color:rgba(255,0,0,0.09722299873828888);\">chicken</span> <span style=\"background-color:rgba(255,0,0,0.2769535779953003);\">nuggets</span> they're <span style=\"background-color:rgba(255,0,0,0.030846858862787485);\">like</span> <span style=\"background-color:rgba(255,0,0,0.020427829585969448);\">a</span> <span style=\"background-color:rgba(255,0,0,0.4542556032538414);\">fucking</span> <span style=\"background-color:rgba(255,0,0,0.024854058865457773);\">dollar</span> <span style=\"background-color:rgba(255,0,0,0.017718635499477386);\">he</span> <span style=\"background-color:rgba(255,0,0,0.04474611487239599);\">needs</span> <span style=\"background-color:rgba(255,0,0,0.007840382750146091);\">some</span> fa…"
      ],
      "text/plain": [
       "<IPython.core.display.HTML object>"
      ]
     },
     "metadata": {},
     "output_type": "display_data"
    },
    {
     "data": {
      "text/html": [
       "@moekamerow @foxnews <span style=\"background-color:rgba(255,0,0,0.009385147714056075);\">dont</span> <span style=\"background-color:rgba(255,0,0,0.003416849358472973);\">give</span> <span style=\"background-color:rgba(255,0,0,0.005972455837763846);\">a</span> <span style=\"background-color:rgba(255,0,0,0.08981345221400261);\">rats</span> <span style=\"background-color:rgba(255,0,0,0.7623866945505142);\">ass</span> <span style=\"background-color:rgba(255,0,0,0.028665924910455942);\">if</span> <span style=\"background-color:rgba(255,0,0,0.016600813250988722);\">reporters</span> <span style=\"background-color:rgba(255,0,0,0.02850846853107214);\">like</span> <span style=\"background-color:rgba(255,0,0,0.0030686886748299003);\">our</span> <span style=\"background-color:rgba(255,0,0,0.02177400514483452);\">potus</span> <span style=\"background-color:rgba(255,0,0,0.017357436008751392);\">we</span> <span style=\"background-color:rgba(255,0,0,0.020981694106012583);\">can</span> <span style=\"background-color:rgba(255,0,0,0.06197819020599127);\">just</span> <span style=\"background-color:rgba(255,0,0,0.01931810169480741);\">flip</span> <span style=\"background-color:rgba(255,0,0,0.021054930984973907);\">them</span> <span style=\"background-color:rgba(255,0,0,0.0637688860297203);\">off</span> <span style=\"background-color:rgba(255,0,0,0.014137850375846028);\">with</span> <span style=\"background-color:rgba(255,0,0,0.0030686886748299003);\">our</span> remotes. t… https://t.co/ntg34pyv3t"
      ],
      "text/plain": [
       "<IPython.core.display.HTML object>"
      ]
     },
     "metadata": {},
     "output_type": "display_data"
    },
    {
     "data": {
      "text/html": [
       "rt @___destinyjadai: <span style=\"background-color:rgba(255,0,0,0.0005365409742807969);\">never</span> <span style=\"background-color:rgba(255,0,0,0.003430828219279647);\">argue</span> <span style=\"background-color:rgba(255,0,0,0.0010809561354108155);\">with</span> <span style=\"background-color:rgba(255,0,0,0.00178923161001876);\">a</span> <span style=\"background-color:rgba(255,0,0,0.18241440877318382);\">bitch</span> <span style=\"background-color:rgba(255,0,0,0.006135188159532845);\">you</span> <span style=\"background-color:rgba(255,0,0,0.0024885530001483858);\">can</span> <span style=\"background-color:rgba(255,0,0,0.034234318882226944);\">kill</span> <span style=\"background-color:rgba(255,0,0,0.0023843783128540963);\">by</span> <span style=\"background-color:rgba(255,0,0,0.004249061457812786);\">just</span> <span style=\"background-color:rgba(255,0,0,0.003953612758778036);\">stepping</span> <span style=\"background-color:rgba(255,0,0,0.0016261037671938539);\">out</span> <span style=\"background-color:rgba(255,0,0,0.0013741619477514178);\">on</span> <span style=\"background-color:rgba(255,0,0,0.0006972186383791268);\">your</span> <span style=\"background-color:rgba(255,0,0,0.01116755767725408);\">worst</span> <span style=\"background-color:rgba(255,0,0,0.004304965841583908);\">day</span> &#128514; <span style=\"background-color:rgba(255,0,0,0.0025506102247163653);\">we</span> <span style=\"background-color:rgba(255,0,0,0.0031774790841154754);\">both</span> <span style=\"background-color:rgba(255,0,0,0.0031854186090640724);\">know</span> <span style=\"background-color:rgba(255,0,0,0.008515608496963978);\">why</span> <span style=\"background-color:rgba(255,0,0,0.005171396187506616);\">that</span> <span style=\"background-color:rgba(255,0,0,0.18241440877318382);\">bitch</span> <span style=\"background-color:rgba(255,0,0,0.611782930791378);\">mad</span> <span style=\"background-color:rgba(255,0,0,0.23241596296429634);\">sis</span> &#129335;&#127998;‍…"
      ],
      "text/plain": [
       "<IPython.core.display.HTML object>"
      ]
     },
     "metadata": {},
     "output_type": "display_data"
    },
    {
     "data": {
      "text/html": [
       "rt @liljaboo: @kwag64 <span style=\"background-color:rgba(255,0,0,0.012952071847394109);\">why</span> <span style=\"background-color:rgba(255,0,0,0.005046327132731676);\">you</span> <span style=\"background-color:rgba(255,0,0,0.02280518878251314);\">stealing</span> <span style=\"background-color:rgba(255,0,0,0.021426884923130274);\">pizza</span> <span style=\"background-color:rgba(255,0,0,0.005046327132731676);\">you</span> <span style=\"background-color:rgba(255,0,0,0.1516599953174591);\">fuckin</span> <span style=\"background-color:rgba(255,0,0,0.48577193170785904);\">dirty</span> nigger? https://t.co/bgiszu27xf"
      ],
      "text/plain": [
       "<IPython.core.display.HTML object>"
      ]
     },
     "metadata": {},
     "output_type": "display_data"
    },
    {
     "data": {
      "text/html": [
       "<span style=\"background-color:rgba(255,0,0,0.09934375062584877);\">niggas</span> <span style=\"background-color:rgba(255,0,0,0.017224648036062717);\">r</span> <span style=\"background-color:rgba(255,0,0,0.03709557233378291);\">so</span> <span style=\"background-color:rgba(255,0,0,0.6724145263433456);\">annoying</span> <span style=\"background-color:rgba(255,0,0,0.03303500358015299);\">to</span> <span style=\"background-color:rgba(255,0,0,0.008373610908165574);\">me</span> &#128580; <span style=\"background-color:rgba(255,0,0,0.014084826689213514);\">i</span> don't <span style=\"background-color:rgba(255,0,0,0.015481762820854783);\">wanna</span> <span style=\"background-color:rgba(255,0,0,0.06548615172505379);\">fw</span> <span style=\"background-color:rgba(255,0,0,0.03945091273635626);\">nobody</span> <span style=\"background-color:rgba(255,0,0,0.003425254544708878);\">leaaaaaave</span> <span style=\"background-color:rgba(255,0,0,0.008373610908165574);\">me</span> <span style=\"background-color:rgba(255,0,0,0.09284866973757744);\">tf</span> aloneee!"
      ],
      "text/plain": [
       "<IPython.core.display.HTML object>"
      ]
     },
     "metadata": {},
     "output_type": "display_data"
    },
    {
     "data": {
      "text/html": [
       "rt @red_kclark: <span style=\"background-color:rgba(255,0,0,0.000856627884786576);\">on</span> <span style=\"background-color:rgba(255,0,0,0.012990593677386642);\">god</span> <span style=\"background-color:rgba(255,0,0,0.15235021710395813);\">niggas</span> <span style=\"background-color:rgba(255,0,0,0.016938310582190752);\">be</span> <span style=\"background-color:rgba(255,0,0,0.2853410877287388);\">mad</span> <span style=\"background-color:rgba(255,0,0,0.7163475453853607);\">af</span> ... &#128569; https://t.co/ufpl2efr1v"
      ],
      "text/plain": [
       "<IPython.core.display.HTML object>"
      ]
     },
     "metadata": {},
     "output_type": "display_data"
    },
    {
     "data": {
      "text/html": [
       "@wordtoreece <span style=\"background-color:rgba(255,0,0,0.004151617467869073);\">this</span> <span style=\"background-color:rgba(255,0,0,0.1812068372964859);\">nigga</span> <span style=\"background-color:rgba(255,0,0,0.6735938042402267);\">fucking</span> <span style=\"background-color:rgba(255,0,0,0.11102787218987942);\">everything</span> <span style=\"background-color:rgba(255,0,0,0.16167957335710526);\">up</span> https://t.co/t0fzgq1h8t"
      ],
      "text/plain": [
       "<IPython.core.display.HTML object>"
      ]
     },
     "metadata": {},
     "output_type": "display_data"
    },
    {
     "data": {
      "text/html": [
       "<span style=\"background-color:rgba(255,0,0,0.006674554897472262);\">he</span> <span style=\"background-color:rgba(255,0,0,0.004576778155751526);\">think</span> <span style=\"background-color:rgba(255,0,0,0.006674554897472262);\">he</span> <span style=\"background-color:rgba(255,0,0,0.20898738875985146);\">fucking</span> <span style=\"background-color:rgba(255,0,0,0.030771782621741295);\">my</span> nigga. <span style=\"background-color:rgba(255,0,0,0.17057502642273903);\">nigga</span> <span style=\"background-color:rgba(255,0,0,0.021392481867223978);\">that</span> <span style=\"background-color:rgba(255,0,0,0.17057502642273903);\">nigga</span> <span style=\"background-color:rgba(255,0,0,0.0052604894153773785);\">for</span> rent. &#128514;&#128541;"
      ],
      "text/plain": [
       "<IPython.core.display.HTML object>"
      ]
     },
     "metadata": {},
     "output_type": "display_data"
    },
    {
     "data": {
      "text/html": [
       "<span style=\"background-color:rgba(255,0,0,0.0076193088898435235);\">i</span> <span style=\"background-color:rgba(255,0,0,0.43194275349378586);\">hate</span> <span style=\"background-color:rgba(255,0,0,0.0466030091047287);\">this</span> <span style=\"background-color:rgba(255,0,0,0.5942314863204956);\">fucking</span> <span style=\"background-color:rgba(255,0,0,0.060663712210953236);\">family</span> https://t.co/9fl2xhqfti"
      ],
      "text/plain": [
       "<IPython.core.display.HTML object>"
      ]
     },
     "metadata": {},
     "output_type": "display_data"
    },
    {
     "data": {
      "text/html": [
       "rt @ksjaaaa: <span style=\"background-color:rgba(255,0,0,0.002754714514594525);\">a</span> <span style=\"background-color:rgba(255,0,0,0.05131836049258709);\">nigga</span> <span style=\"background-color:rgba(255,0,0,0.005860477103851736);\">will</span> <span style=\"background-color:rgba(255,0,0,0.023106643930077553);\">sin</span> <span style=\"background-color:rgba(255,0,0,0.004749438958242536);\">you</span> &amp; <span style=\"background-color:rgba(255,0,0,0.0008746880484977737);\">play</span> <span style=\"background-color:rgba(255,0,0,0.004749438958242536);\">you</span> <span style=\"background-color:rgba(255,0,0,0.019638375379145145);\">like</span> <span style=\"background-color:rgba(255,0,0,0.002754714514594525);\">a</span> <span style=\"background-color:rgba(255,0,0,0.06341416388750076);\">lame</span> <span style=\"background-color:rgba(255,0,0,0.00972260138951242);\">but</span> <span style=\"background-color:rgba(255,0,0,0.0060673663392663);\">the</span> <span style=\"background-color:rgba(255,0,0,0.03667660057544708);\">moment</span> <span style=\"background-color:rgba(255,0,0,0.014593221712857485);\">they</span> <span style=\"background-color:rgba(255,0,0,0.01887482008896768);\">feel</span> <span style=\"background-color:rgba(255,0,0,0.019638375379145145);\">like</span> <span style=\"background-color:rgba(255,0,0,0.004749438958242536);\">you</span> <span style=\"background-color:rgba(255,0,0,0.028542117215692997);\">fw</span> <span style=\"background-color:rgba(255,0,0,0.016218384262174368);\">someone</span> <span style=\"background-color:rgba(255,0,0,0.027472060173749924);\">else</span> <span style=\"background-color:rgba(255,0,0,0.009399825939908624);\">be</span> <span style=\"background-color:rgba(255,0,0,0.23800386115908623);\">mad</span> <span style=\"background-color:rgba(255,0,0,0.5946588516235352);\">asf</span> &#129300;&#128514; <span style=\"background-color:rgba(255,0,0,0.04777037538588047);\">i</span> don't <span style=\"background-color:rgba(255,0,0,0.0005216414137976244);\">get</span> <span style=\"background-color:rgba(255,0,0,0.0007932959124445915);\">it</span>"
      ],
      "text/plain": [
       "<IPython.core.display.HTML object>"
      ]
     },
     "metadata": {},
     "output_type": "display_data"
    },
    {
     "data": {
      "text/html": [
       "<span style=\"background-color:rgba(255,0,0,0.0015246156544890255);\">this</span> <span style=\"background-color:rgba(255,0,0,0.0665453402325511);\">nigga</span> <span style=\"background-color:rgba(255,0,0,0.032538087107241154);\">really</span> <span style=\"background-color:rgba(255,0,0,0.4698105901479721);\">ugly</span> <span style=\"background-color:rgba(255,0,0,0.6161989271640778);\">asf</span> &#128514;&#128514;&#128514; https://t.co/z4zajba5az"
      ],
      "text/plain": [
       "<IPython.core.display.HTML object>"
      ]
     },
     "metadata": {},
     "output_type": "display_data"
    },
    {
     "data": {
      "text/html": [
       "rt @vibesgawd: <span style=\"background-color:rgba(255,0,0,0.0012461436563171446);\">i</span> <span style=\"background-color:rgba(255,0,0,0.07064455654472113);\">hate</span> <span style=\"background-color:rgba(255,0,0,0.010097433114424348);\">when</span> <span style=\"background-color:rgba(255,0,0,0.008195079863071442);\">someone</span> <span style=\"background-color:rgba(255,0,0,0.009336202638223767);\">pass</span> <span style=\"background-color:rgba(255,0,0,0.027845983859151602);\">away</span> <span style=\"background-color:rgba(255,0,0,0.010792202083393931);\">and</span> <span style=\"background-color:rgba(255,0,0,0.005389332654885948);\">then</span> <span style=\"background-color:rgba(255,0,0,0.05100790411233902);\">everybody</span> <span style=\"background-color:rgba(255,0,0,0.07983311079442501);\">act</span> <span style=\"background-color:rgba(255,0,0,0.03533755661919713);\">like</span> <span style=\"background-color:rgba(255,0,0,0.011089559411630034);\">they</span> <span style=\"background-color:rgba(255,0,0,0.006225317483767867);\">were</span> <span style=\"background-color:rgba(255,0,0,0.02392634516581893);\">so</span> <span style=\"background-color:rgba(255,0,0,0.013428735546767712);\">close</span> <span style=\"background-color:rgba(255,0,0,0.004944371758028865);\">to</span> <span style=\"background-color:rgba(255,0,0,0.009184999507851899);\">them</span> &#128580; <span style=\"background-color:rgba(255,0,0,0.25348274037241936);\">bitch</span> <span style=\"background-color:rgba(255,0,0,0.42004432529211044);\">shut</span> <span style=\"background-color:rgba(255,0,0,0.1740088313817978);\">up</span> <span style=\"background-color:rgba(255,0,0,0.010792202083393931);\">and</span> <span style=\"background-color:rgba(255,0,0,0.004632509662769735);\">let</span> <span style=\"background-color:rgba(255,0,0,0.002367226261412725);\">these</span> <span style=\"background-color:rgba(255,0,0,0.00316147314151749);\">people</span> gr…"
      ],
      "text/plain": [
       "<IPython.core.display.HTML object>"
      ]
     },
     "metadata": {},
     "output_type": "display_data"
    },
    {
     "data": {
      "text/html": [
       "@anthonyyharris <span style=\"background-color:rgba(255,0,0,0.04156550858169794);\">yea</span> <span style=\"background-color:rgba(255,0,0,0.015616605523973703);\">i</span> <span style=\"background-color:rgba(255,0,0,0.01850274158641696);\">still</span> can't <span style=\"background-color:rgba(255,0,0,0.0010562821989879012);\">get</span> <span style=\"background-color:rgba(255,0,0,0.010910091223195195);\">over</span> <span style=\"background-color:rgba(255,0,0,0.0035794934956356883);\">how</span> <span style=\"background-color:rgba(255,0,0,0.08165969513356686);\">crap</span> <span style=\"background-color:rgba(255,0,0,0.020099033135920763);\">the</span> <span style=\"background-color:rgba(255,0,0,0.05075659602880478);\">witch</span> <span style=\"background-color:rgba(255,0,0,0.018670897698029876);\">was</span> &#128529; <span style=\"background-color:rgba(255,0,0,0.010604785056784749);\">but</span> it's <span style=\"background-color:rgba(255,0,0,0.036650344263762236);\">not</span> <span style=\"background-color:rgba(255,0,0,0.013016944285482168);\">your</span> <span style=\"background-color:rgba(255,0,0,0.12986158952116966);\">fault</span> <span style=\"background-color:rgba(255,0,0,0.04838482476770878);\">my</span> <span style=\"background-color:rgba(255,0,0,0.6227006390690804);\">nigga</span>"
      ],
      "text/plain": [
       "<IPython.core.display.HTML object>"
      ]
     },
     "metadata": {},
     "output_type": "display_data"
    },
    {
     "data": {
      "text/html": [
       "rt @annnalynmaee: <span style=\"background-color:rgba(255,0,0,0.006374098593369126);\">dont</span> <span style=\"background-color:rgba(255,0,0,0.0008878463268047199);\">get</span> <span style=\"background-color:rgba(255,0,0,0.08622477762401104);\">stupid</span> <span style=\"background-color:rgba(255,0,0,0.09828697890043259);\">over</span> <span style=\"background-color:rgba(255,0,0,0.006495160632766783);\">a</span> <span style=\"background-color:rgba(255,0,0,0.6045777350664139);\">nigga</span> <span style=\"background-color:rgba(255,0,0,0.0719416094943881);\">who</span> don't <span style=\"background-color:rgba(255,0,0,0.003533191920723766);\">give</span> <span style=\"background-color:rgba(255,0,0,0.006495160632766783);\">a</span> <span style=\"background-color:rgba(255,0,0,0.2171979658305645);\">fuck</span> <span style=\"background-color:rgba(255,0,0,0.033906297758221626);\">about</span> <span style=\"background-color:rgba(255,0,0,0.009651450673118234);\">you</span>"
      ],
      "text/plain": [
       "<IPython.core.display.HTML object>"
      ]
     },
     "metadata": {},
     "output_type": "display_data"
    },
    {
     "data": {
      "text/html": [
       "rt @_begreatjb: <span style=\"background-color:rgba(255,0,0,0.0031157699413597584);\">if</span> <span style=\"background-color:rgba(255,0,0,0.00765839999075979);\">a</span> <span style=\"background-color:rgba(255,0,0,0.06895695347338915);\">hood</span> <span style=\"background-color:rgba(255,0,0,0.662250816822052);\">nigga</span> <span style=\"background-color:rgba(255,0,0,0.010640572290867567);\">get</span> <span style=\"background-color:rgba(255,0,0,0.07687543984502554);\">crazy</span> <span style=\"background-color:rgba(255,0,0,0.01044565811753273);\">about</span> <span style=\"background-color:rgba(255,0,0,0.027672266587615013);\">you</span> it's <span style=\"background-color:rgba(255,0,0,0.07919534109532833);\">over</span> &#128175; <span style=\"background-color:rgba(255,0,0,0.027672266587615013);\">you</span> <span style=\"background-color:rgba(255,0,0,0.05365796387195587);\">his</span> 4everrrrrrrr!"
      ],
      "text/plain": [
       "<IPython.core.display.HTML object>"
      ]
     },
     "metadata": {},
     "output_type": "display_data"
    },
    {
     "data": {
      "text/html": [
       "<span style=\"background-color:rgba(255,0,0,0.005289066466502845);\">i</span> <span style=\"background-color:rgba(255,0,0,0.00253917183727026);\">really</span> <span style=\"background-color:rgba(255,0,0,0.08812058717012405);\">hate</span> <span style=\"background-color:rgba(255,0,0,0.014213873073458672);\">giving</span> <span style=\"background-color:rgba(255,0,0,0.002461358963046223);\">advice</span> <span style=\"background-color:rgba(255,0,0,0.005389483412727714);\">bc</span> <span style=\"background-color:rgba(255,0,0,0.029755330178886652);\">mfs</span> <span style=\"background-color:rgba(255,0,0,0.0066571502247825265);\">be</span> <span style=\"background-color:rgba(255,0,0,0.013819708256050944);\">like</span> \" <span style=\"background-color:rgba(255,0,0,0.008682537009008229);\">u</span> <span style=\"background-color:rgba(255,0,0,0.020961915142834187);\">act</span> <span style=\"background-color:rgba(255,0,0,0.013819708256050944);\">like</span> <span style=\"background-color:rgba(255,0,0,0.008682537009008229);\">u</span> wasn't <span style=\"background-color:rgba(255,0,0,0.0760143669322133);\">dumb</span> <span style=\"background-color:rgba(255,0,0,0.06531678605824709);\">over</span> <span style=\"background-color:rgba(255,0,0,0.01743914559483528);\">a</span> nigga\" <span style=\"background-color:rgba(255,0,0,0.599757619202137);\">bitch</span> <span style=\"background-color:rgba(255,0,0,0.022195472847670317);\">when</span> <span style=\"background-color:rgba(255,0,0,0.005289066466502845);\">i</span> <span style=\"background-color:rgba(255,0,0,0.0027859630063176155);\">was</span> <span style=\"background-color:rgba(255,0,0,0.000619212951278314);\">14</span> <span style=\"background-color:rgba(255,0,0,0.001952515885932371);\">not</span> 24. that's <span style=\"background-color:rgba(255,0,0,3.835505140159512e-05);\">10</span> <span style=\"background-color:rgba(255,0,0,8.328162948600948e-05);\">yr</span> <span style=\"background-color:rgba(255,0,0,0.0003160518463118933);\">difference</span>"
      ],
      "text/plain": [
       "<IPython.core.display.HTML object>"
      ]
     },
     "metadata": {},
     "output_type": "display_data"
    },
    {
     "data": {
      "text/html": [
       "@danionthewing <span style=\"background-color:rgba(255,0,0,0.0007239274418679997);\">and</span> <span style=\"background-color:rgba(255,0,0,0.02226045122370124);\">jesus</span> <span style=\"background-color:rgba(255,0,0,0.25764739140868187);\">fucking</span> <span style=\"background-color:rgba(255,0,0,0.5726300179958344);\">christ</span> <span style=\"background-color:rgba(255,0,0,0.034749764017760754);\">do</span> <span style=\"background-color:rgba(255,0,0,0.010255067609250546);\">i</span> <span style=\"background-color:rgba(255,0,0,0.2571135200560093);\">hate</span> <span style=\"background-color:rgba(255,0,0,0.04039993043988943);\">their</span> <span style=\"background-color:rgba(255,0,0,0.02387950662523508);\">grampa</span>"
      ],
      "text/plain": [
       "<IPython.core.display.HTML object>"
      ]
     },
     "metadata": {},
     "output_type": "display_data"
    },
    {
     "data": {
      "text/html": [
       "rt @brriitt_: <span style=\"background-color:rgba(255,0,0,0.00195233165868558);\">i</span> <span style=\"background-color:rgba(255,0,0,0.11067873798310757);\">hate</span> <span style=\"background-color:rgba(255,0,0,0.015819635009393096);\">when</span> <span style=\"background-color:rgba(255,0,0,0.1638410985469818);\">bitches</span> <span style=\"background-color:rgba(255,0,0,0.026538961101323366);\">think</span> <span style=\"background-color:rgba(255,0,0,0.0046219295472837985);\">you</span> <span style=\"background-color:rgba(255,0,0,0.0032525640563108027);\">want</span> <span style=\"background-color:rgba(255,0,0,0.003304758865851909);\">they</span> <span style=\"background-color:rgba(255,0,0,0.048887296579778194);\">dusty</span> <span style=\"background-color:rgba(255,0,0,0.2873059920966625);\">ass</span> <span style=\"background-color:rgba(255,0,0,0.5422351136803627);\">nigga</span> &#128514;&#128553;"
      ],
      "text/plain": [
       "<IPython.core.display.HTML object>"
      ]
     },
     "metadata": {},
     "output_type": "display_data"
    },
    {
     "data": {
      "text/html": [
       "<span style=\"background-color:rgba(255,0,0,0.007664309232495725);\">i</span> <span style=\"background-color:rgba(255,0,0,0.07576771546155214);\">fucked</span> <span style=\"background-color:rgba(255,0,0,0.3562476858496666);\">niggas</span> <span style=\"background-color:rgba(255,0,0,0.6556837260723114);\">bitches</span> <span style=\"background-color:rgba(255,0,0,0.015327929286286235);\">how</span> <span style=\"background-color:rgba(255,0,0,0.006408377084881067);\">could</span> <span style=\"background-color:rgba(255,0,0,0.007664309232495725);\">i</span> <span style=\"background-color:rgba(255,0,0,0.008304011425934732);\">trust</span> <span style=\"background-color:rgba(255,0,0,0.028990069404244423);\">mines</span> &#129335;&#127999;‍♂️"
      ],
      "text/plain": [
       "<IPython.core.display.HTML object>"
      ]
     },
     "metadata": {},
     "output_type": "display_data"
    },
    {
     "data": {
      "text/html": [
       "<span style=\"background-color:rgba(255,0,0,0.005731775891035795);\">me</span> <span style=\"background-color:rgba(255,0,0,0.0039911712519824505);\">when</span> <span style=\"background-color:rgba(255,0,0,0.0039192428812384605);\">that</span> <span style=\"background-color:rgba(255,0,0,0.33875059336423874);\">ugly</span> <span style=\"background-color:rgba(255,0,0,0.7861600816249847);\">ass</span> <span style=\"background-color:rgba(255,0,0,0.04725365899503231);\">furry</span> <span style=\"background-color:rgba(255,0,0,0.010219699470326304);\">abnormal</span> <span style=\"background-color:rgba(255,0,0,0.003371482598595321);\">titan</span> <span style=\"background-color:rgba(255,0,0,0.003500452439766377);\">started</span> <span style=\"background-color:rgba(255,0,0,0.002841818204615265);\">speaking</span> @brandonsidney https://t.co/hnzn3oezgz"
      ],
      "text/plain": [
       "<IPython.core.display.HTML object>"
      ]
     },
     "metadata": {},
     "output_type": "display_data"
    },
    {
     "data": {
      "text/html": [
       "<span style=\"background-color:rgba(255,0,0,0.0029166322201490402);\">nbs</span> <span style=\"background-color:rgba(255,0,0,0.035443895030766726);\">yo</span> <span style=\"background-color:rgba(255,0,0,0.07154359016567469);\">too</span> <span style=\"background-color:rgba(255,0,0,0.5220239609479904);\">bad</span> <span style=\"background-color:rgba(255,0,0,0.023642631713300943);\">our</span> <span style=\"background-color:rgba(255,0,0,0.048708352260291576);\">couches</span> <span style=\"background-color:rgba(255,0,0,0.023523520212620497);\">folded</span> <span style=\"background-color:rgba(255,0,0,0.011552374344319105);\">on</span> <span style=\"background-color:rgba(255,0,0,0.3041883371770382);\">niggas</span> https://t.co/ia7jfxfent"
      ],
      "text/plain": [
       "<IPython.core.display.HTML object>"
      ]
     },
     "metadata": {},
     "output_type": "display_data"
    },
    {
     "data": {
      "text/html": [
       "<span style=\"background-color:rgba(255,0,0,0.0005920758121646941);\">if</span> <span style=\"background-color:rgba(255,0,0,0.0034498106106184423);\">yo</span> <span style=\"background-color:rgba(255,0,0,0.010769282234832644);\">bestfriend</span> <span style=\"background-color:rgba(255,0,0,0.0034527393290773034);\">dont</span> call/act <span style=\"background-color:rgba(255,0,0,0.008277349988929927);\">like</span> <span style=\"background-color:rgba(255,0,0,0.008067935123108327);\">ur</span> <span style=\"background-color:rgba(255,0,0,0.012745107524096966);\">girlfriend</span> <span style=\"background-color:rgba(255,0,0,0.0031218570074997842);\">when</span> <span style=\"background-color:rgba(255,0,0,0.0020903832046315074);\">she</span> <span style=\"background-color:rgba(255,0,0,0.0011185066250618547);\">see</span> <span style=\"background-color:rgba(255,0,0,0.0022808933863416314);\">a</span> <span style=\"background-color:rgba(255,0,0,0.21736426278948784);\">ugly</span> <span style=\"background-color:rgba(255,0,0,0.6075415015220642);\">nigga</span> <span style=\"background-color:rgba(255,0,0,0.2186746709048748);\">trynna</span> <span style=\"background-color:rgba(255,0,0,0.01874827081337571);\">yike</span> <span style=\"background-color:rgba(255,0,0,0.0008951414201874286);\">w</span> <span style=\"background-color:rgba(255,0,0,0.0012375303776934743);\">u</span> <span style=\"background-color:rgba(255,0,0,0.0016808893997222185);\">at</span> <span style=\"background-color:rgba(255,0,0,0.0022808933863416314);\">a</span> <span style=\"background-color:rgba(255,0,0,0.010556256165727973);\">party</span> <span style=\"background-color:rgba(255,0,0,0.005279422621242702);\">they</span> <span style=\"background-color:rgba(255,0,0,0.06056356243789196);\">aint</span> <span style=\"background-color:rgba(255,0,0,0.005010382155887783);\">your</span> bestfriend, period."
      ],
      "text/plain": [
       "<IPython.core.display.HTML object>"
      ]
     },
     "metadata": {},
     "output_type": "display_data"
    },
    {
     "data": {
      "text/html": [
       "<span style=\"background-color:rgba(255,0,0,0.006381596904247999);\">i</span> <span style=\"background-color:rgba(255,0,0,0.01960338093340397);\">asked</span> <span style=\"background-color:rgba(255,0,0,0.011557360412552953);\">my</span> <span style=\"background-color:rgba(255,0,0,0.03618046175688505);\">father</span> <span style=\"background-color:rgba(255,0,0,0.011097632814198732);\">to</span> <span style=\"background-color:rgba(255,0,0,0.009311670437455177);\">let</span> <span style=\"background-color:rgba(255,0,0,0.019487987738102674);\">me</span> <span style=\"background-color:rgba(255,0,0,0.06467199884355068);\">hold</span> $5 <span style=\"background-color:rgba(255,0,0,0.001814270217437297);\">and</span> <span style=\"background-color:rgba(255,0,0,0.003603183140512556);\">this</span> <span style=\"background-color:rgba(255,0,0,0.24080470204353333);\">nigga</span> <span style=\"background-color:rgba(255,0,0,0.10204841382801533);\">pulls</span> <span style=\"background-color:rgba(255,0,0,0.01694452133961022);\">out</span> <span style=\"background-color:rgba(255,0,0,0.01800801372155547);\">a</span> <span style=\"background-color:rgba(255,0,0,0.5466591566801071);\">fucking</span> <span style=\"background-color:rgba(255,0,0,0.06102801766246557);\">stack</span> &#129318;&#127998;"
      ],
      "text/plain": [
       "<IPython.core.display.HTML object>"
      ]
     },
     "metadata": {},
     "output_type": "display_data"
    },
    {
     "data": {
      "text/html": [
       "rt @_jadanoele: \"na <span style=\"background-color:rgba(255,0,0,0.018728384748101234);\">boo</span> <span style=\"background-color:rgba(255,0,0,0.002571716613601893);\">you</span> <span style=\"background-color:rgba(255,0,0,0.005992242367938161);\">just</span> <span style=\"background-color:rgba(255,0,0,0.004607689625117928);\">be</span> <span style=\"background-color:rgba(255,0,0,0.14795172959566116);\">fucking</span> <span style=\"background-color:rgba(255,0,0,0.014062253758311272);\">with</span> <span style=\"background-color:rgba(255,0,0,0.008164888713508844);\">the</span> <span style=\"background-color:rgba(255,0,0,0.03106034593656659);\">wrong</span> niggas\" - <span style=\"background-color:rgba(255,0,0,0.07016039453446865);\">a</span> <span style=\"background-color:rgba(255,0,0,0.016881230985745788);\">wronger</span> <span style=\"background-color:rgba(255,0,0,0.3979432210326195);\">nigga</span>"
      ],
      "text/plain": [
       "<IPython.core.display.HTML object>"
      ]
     },
     "metadata": {},
     "output_type": "display_data"
    },
    {
     "data": {
      "text/html": [
       "rt @superiorcoon: <span style=\"background-color:rgba(255,0,0,0.0018247019033879042);\">this</span> <span style=\"background-color:rgba(255,0,0,0.07964328862726688);\">nigga</span> <span style=\"background-color:rgba(255,0,0,0.05368140526115894);\">so</span> <span style=\"background-color:rgba(255,0,0,0.751621425151825);\">ugly</span> <span style=\"background-color:rgba(255,0,0,0.059692030772566795);\">he</span> ain't <span style=\"background-color:rgba(255,0,0,0.010441623162478209);\">even</span> <span style=\"background-color:rgba(255,0,0,0.005278188036754727);\">give</span> <span style=\"background-color:rgba(255,0,0,0.15719061717391014);\">niggas</span> <span style=\"background-color:rgba(255,0,0,0.022911126725375652);\">the</span> <span style=\"background-color:rgba(255,0,0,0.013538444181904197);\">option</span> <span style=\"background-color:rgba(255,0,0,0.006211302243173122);\">to</span> <span style=\"background-color:rgba(255,0,0,0.009043019963428378);\">comment</span> https://t.co/ilesjrrrtx"
      ],
      "text/plain": [
       "<IPython.core.display.HTML object>"
      ]
     },
     "metadata": {},
     "output_type": "display_data"
    },
    {
     "data": {
      "text/html": [
       "<span style=\"background-color:rgba(255,0,0,0.15640191733837128);\">niggas</span> <span style=\"background-color:rgba(255,0,0,0.026652407832443714);\">be</span> <span style=\"background-color:rgba(255,0,0,0.4023885354399681);\">fucking</span> <span style=\"background-color:rgba(255,0,0,0.08552588522434235);\">me</span> <span style=\"background-color:rgba(255,0,0,0.1249050535261631);\">over</span> <span style=\"background-color:rgba(255,0,0,0.07566121872514486);\">not</span> <span style=\"background-color:rgba(255,0,0,0.09500188753008842);\">knowing</span> <span style=\"background-color:rgba(255,0,0,0.06413573399186134);\">what</span> <span style=\"background-color:rgba(255,0,0,0.05230200011283159);\">they</span> <span style=\"background-color:rgba(255,0,0,0.045229787938296795);\">got</span> &#129315; <span style=\"background-color:rgba(255,0,0,0.01895833294838667);\">bettttttttttt</span>"
      ],
      "text/plain": [
       "<IPython.core.display.HTML object>"
      ]
     },
     "metadata": {},
     "output_type": "display_data"
    },
    {
     "data": {
      "text/html": [
       "<span style=\"background-color:rgba(255,0,0,0.023827357217669487);\">yoooo</span> <span style=\"background-color:rgba(255,0,0,0.0142024050001055);\">i</span> <span style=\"background-color:rgba(255,0,0,0.030897087417542934);\">really</span> <span style=\"background-color:rgba(255,0,0,0.3167388215661049);\">hated</span> <span style=\"background-color:rgba(255,0,0,0.04549740348011255);\">this</span> <span style=\"background-color:rgba(255,0,0,0.6841760873794556);\">nigga</span> &#128557; https://t.co/22nuqzv1o0"
      ],
      "text/plain": [
       "<IPython.core.display.HTML object>"
      ]
     },
     "metadata": {},
     "output_type": "display_data"
    },
    {
     "data": {
      "text/html": [
       "@iamakademiks @xxxtentacion <span style=\"background-color:rgba(255,0,0,0.007099074427969754);\">this</span> <span style=\"background-color:rgba(255,0,0,0.3098553419113159);\">nigga</span> <span style=\"background-color:rgba(255,0,0,0.12338968925178051);\">just</span> <span style=\"background-color:rgba(255,0,0,0.030512120574712753);\">getting</span> <span style=\"background-color:rgba(255,0,0,0.5948970094323158);\">annoying</span> <span style=\"background-color:rgba(255,0,0,0.0432487390935421);\">now</span> https://t.co/hsyfdxpnab"
      ],
      "text/plain": [
       "<IPython.core.display.HTML object>"
      ]
     },
     "metadata": {},
     "output_type": "display_data"
    },
    {
     "data": {
      "text/html": [
       "rt @badgirlsclb: can't <span style=\"background-color:rgba(255,0,0,0.0007203244604170322);\">no</span> <span style=\"background-color:rgba(255,0,0,0.06470034830272198);\">bitch</span> <span style=\"background-color:rgba(255,0,0,0.0018840130360331386);\">make</span> <span style=\"background-color:rgba(255,0,0,0.014338348992168903);\">me</span> <span style=\"background-color:rgba(255,0,0,0.0804284680634737);\">mad</span> <span style=\"background-color:rgba(255,0,0,0.06085293833166361);\">over</span> <span style=\"background-color:rgba(255,0,0,0.01587134669534862);\">a</span> <span style=\"background-color:rgba(255,0,0,0.23797715082764626);\">nigga</span> <span style=\"background-color:rgba(255,0,0,0.019420274766162038);\">that</span> wouldn't <span style=\"background-color:rgba(255,0,0,0.025717804674059153);\">leave</span> <span style=\"background-color:rgba(255,0,0,0.014338348992168903);\">me</span> <span style=\"background-color:rgba(255,0,0,0.04146990366280079);\">alone</span> <span style=\"background-color:rgba(255,0,0,0.016336546977981925);\">even</span> <span style=\"background-color:rgba(255,0,0,0.004296402912586927);\">if</span> <span style=\"background-color:rgba(255,0,0,0.049285441637039185);\">god</span> <span style=\"background-color:rgba(255,0,0,0.05414618644863367);\">asked</span> <span style=\"background-color:rgba(255,0,0,0.0882261898368597);\">him</span> <span style=\"background-color:rgba(255,0,0,0.06014051381498575);\">too</span> &#128514;&#128514;&#128514; <span style=\"background-color:rgba(255,0,0,0.15227094292640686);\">sorry</span> <span style=\"background-color:rgba(255,0,0,0.20445799455046654);\">sis</span> &#128536;"
      ],
      "text/plain": [
       "<IPython.core.display.HTML object>"
      ]
     },
     "metadata": {},
     "output_type": "display_data"
    },
    {
     "data": {
      "text/html": [
       "rt @lichoo_: <span style=\"background-color:rgba(255,0,0,0.003779515391215682);\">i</span> <span style=\"background-color:rgba(255,0,0,0.10987775400280952);\">fucking</span> <span style=\"background-color:rgba(255,0,0,0.978313684463501);\">hate</span> <span style=\"background-color:rgba(255,0,0,0.08875722996890545);\">people</span> https://t.co/uavwls7yvx"
      ],
      "text/plain": [
       "<IPython.core.display.HTML object>"
      ]
     },
     "metadata": {},
     "output_type": "display_data"
    },
    {
     "data": {
      "text/html": [
       "rt @worthamilli2_: &#128514;&#128514;&#128514;&#128514; dawg. <span style=\"background-color:rgba(255,0,0,0.45553337782621384);\">stupid</span> <span style=\"background-color:rgba(255,0,0,0.688389390707016);\">ass</span> <span style=\"background-color:rgba(255,0,0,0.026259361766278744);\">got</span> <span style=\"background-color:rgba(255,0,0,0.007316411356441677);\">a</span> cat. https://t.co/3eq1tijyq2"
      ],
      "text/plain": [
       "<IPython.core.display.HTML object>"
      ]
     },
     "metadata": {},
     "output_type": "display_data"
    },
    {
     "data": {
      "text/html": [
       "<span style=\"background-color:rgba(255,0,0,0.05220364313572645);\">niggas</span> <span style=\"background-color:rgba(255,0,0,0.010411872062832117);\">cheat</span> <span style=\"background-color:rgba(255,0,0,0.001963153190445155);\">and</span> <span style=\"background-color:rgba(255,0,0,0.002131369838025421);\">then</span> <span style=\"background-color:rgba(255,0,0,0.0006070747622288764);\">get</span> <span style=\"background-color:rgba(255,0,0,0.12584147043526173);\">mad</span> <span style=\"background-color:rgba(255,0,0,0.032588758040219545);\">at</span> <span style=\"background-color:rgba(255,0,0,0.010427283123135567);\">you</span> <span style=\"background-color:rgba(255,0,0,0.002031968324445188);\">for</span> <span style=\"background-color:rgba(255,0,0,0.0026708224322646856);\">getting</span> <span style=\"background-color:rgba(255,0,0,0.12584147043526173);\">mad</span> <span style=\"background-color:rgba(255,0,0,0.042060501873493195);\">like</span> &#128557;&#128557;&#128557;&#128557;&#128557;&#128557;&#128557;&#128557;&#128557;&#128557;&#128557; <span style=\"background-color:rgba(255,0,0,0.02364686457440257);\">nobody</span> <span style=\"background-color:rgba(255,0,0,0.06411821581423283);\">told</span> <span style=\"background-color:rgba(255,0,0,0.010427283123135567);\">you</span> <span style=\"background-color:rgba(255,0,0,0.0038389326073229313);\">to</span> <span style=\"background-color:rgba(255,0,0,0.010411872062832117);\">cheat</span> <span style=\"background-color:rgba(255,0,0,0.0014519922842737287);\">w</span> <span style=\"background-color:rgba(255,0,0,0.011828780407086015);\">the</span> <span style=\"background-color:rgba(255,0,0,0.12850419618189335);\">bitch</span> <span style=\"background-color:rgba(255,0,0,0.032588758040219545);\">at</span> <span style=\"background-color:rgba(255,0,0,0.011828780407086015);\">the</span> <span style=\"background-color:rgba(255,0,0,0.009544452768750489);\">drive</span> <span style=\"background-color:rgba(255,0,0,0.005647784564644098);\">thru</span> <span style=\"background-color:rgba(255,0,0,0.025065424852073193);\">homie</span> <span style=\"background-color:rgba(255,0,0,0.25030264630913734);\">lmfao</span> <span style=\"background-color:rgba(255,0,0,0.29746562242507935);\">tf</span>"
      ],
      "text/plain": [
       "<IPython.core.display.HTML object>"
      ]
     },
     "metadata": {},
     "output_type": "display_data"
    },
    {
     "data": {
      "text/html": [
       "rt @xzhine: <span style=\"background-color:rgba(255,0,0,0.0017385141109116375);\">i</span> <span style=\"background-color:rgba(255,0,0,0.09855729527771473);\">hate</span> <span style=\"background-color:rgba(255,0,0,0.02102175261825323);\">a</span> <span style=\"background-color:rgba(255,0,0,0.008676499128341675);\">beat</span> <span style=\"background-color:rgba(255,0,0,0.009569061221554875);\">around</span> <span style=\"background-color:rgba(255,0,0,0.004656717064790428);\">the</span> <span style=\"background-color:rgba(255,0,0,0.02041613683104515);\">bush</span> <span style=\"background-color:rgba(255,0,0,0.2941214479506016);\">ass</span> nigga."
      ],
      "text/plain": [
       "<IPython.core.display.HTML object>"
      ]
     },
     "metadata": {},
     "output_type": "display_data"
    },
    {
     "data": {
      "text/html": [
       "&gt;when <span style=\"background-color:rgba(255,0,0,0.00034395801776554435);\">your</span> <span style=\"background-color:rgba(255,0,0,0.01636854954995215);\">parents</span> <span style=\"background-color:rgba(255,0,0,0.002016006619669497);\">think</span> <span style=\"background-color:rgba(255,0,0,0.011264703935012221);\">you</span> <span style=\"background-color:rgba(255,0,0,0.014867563731968403);\">are</span> <span style=\"background-color:rgba(255,0,0,0.0535745220258832);\">depressed</span> <span style=\"background-color:rgba(255,0,0,0.0485191261395812);\">because</span> <span style=\"background-color:rgba(255,0,0,0.011264703935012221);\">you</span> <span style=\"background-color:rgba(255,0,0,0.014867563731968403);\">are</span> <span style=\"background-color:rgba(255,0,0,0.032491725869476795);\">in</span> <span style=\"background-color:rgba(255,0,0,0.015171446138992906);\">a</span> <span style=\"background-color:rgba(255,0,0,0.14921344816684723);\">bad</span> <span style=\"background-color:rgba(255,0,0,0.0676337443292141);\">mood</span> <span style=\"background-color:rgba(255,0,0,0.01127993455156684);\">and</span> <span style=\"background-color:rgba(255,0,0,0.0209844671189785);\">fall</span> <span style=\"background-color:rgba(255,0,0,0.07786580361425877);\">asleep</span> <span style=\"background-color:rgba(255,0,0,0.032491725869476795);\">in</span> <span style=\"background-color:rgba(255,0,0,0.030479496344923973);\">church</span> <span style=\"background-color:rgba(255,0,0,0.01638504210859537);\">my</span> <span style=\"background-color:rgba(255,0,0,0.01636854954995215);\">parents</span> <span style=\"background-color:rgba(255,0,0,0.014867563731968403);\">are</span> <span style=\"background-color:rgba(255,0,0,0.25851817801594734);\">fucking</span> <span style=\"background-color:rgba(255,0,0,0.34603122621774673);\">retards</span>"
      ],
      "text/plain": [
       "<IPython.core.display.HTML object>"
      ]
     },
     "metadata": {},
     "output_type": "display_data"
    },
    {
     "data": {
      "text/html": [
       "<span style=\"background-color:rgba(255,0,0,0.01586112892255187);\">that</span> <span style=\"background-color:rgba(255,0,0,0.1580849103629589);\">nigga</span> <span style=\"background-color:rgba(255,0,0,0.028062299825251102);\">was</span> <span style=\"background-color:rgba(255,0,0,0.017228680662810802);\">digging</span> <span style=\"background-color:rgba(255,0,0,0.11929853819310665);\">me</span> <span style=\"background-color:rgba(255,0,0,0.0055786228040233254);\">out</span> <span style=\"background-color:rgba(255,0,0,0.05595971830189228);\">like</span> <span style=\"background-color:rgba(255,0,0,0.01295063178986311);\">he</span> <span style=\"background-color:rgba(255,0,0,0.28287744149565697);\">hated</span> me. <span style=\"background-color:rgba(255,0,0,0.1569059118628502);\">idk</span> <span style=\"background-color:rgba(255,0,0,0.018691718578338623);\">if</span> <span style=\"background-color:rgba(255,0,0,0.016866330988705158);\">i</span> <span style=\"background-color:rgba(255,0,0,0.012583712814375758);\">can</span> <span style=\"background-color:rgba(255,0,0,0.010763709433376789);\">ever</span> <span style=\"background-color:rgba(255,0,0,0.011542236898094416);\">take</span> <span style=\"background-color:rgba(255,0,0,0.1745033822953701);\">dick</span> <span style=\"background-color:rgba(255,0,0,0.05595971830189228);\">like</span> <span style=\"background-color:rgba(255,0,0,0.01586112892255187);\">that</span> again."
      ],
      "text/plain": [
       "<IPython.core.display.HTML object>"
      ]
     },
     "metadata": {},
     "output_type": "display_data"
    },
    {
     "data": {
      "text/html": [
       "<span style=\"background-color:rgba(255,0,0,0.016151996096596122);\">tout</span> <span style=\"background-color:rgba(255,0,0,0.009425328462384641);\">juste</span> <span style=\"background-color:rgba(255,0,0,0.0009476034028921276);\">sorti</span> <span style=\"background-color:rgba(255,0,0,0.009482291643507779);\">de</span> <span style=\"background-color:rgba(255,0,0,0.02761580515652895);\">prison</span> <span style=\"background-color:rgba(255,0,0,0.0038262989255599678);\">black</span> <span style=\"background-color:rgba(255,0,0,0.03108000149950385);\">man</span> <span style=\"background-color:rgba(255,0,0,0.46242576092481613);\">fucks</span> <span style=\"background-color:rgba(255,0,0,0.017407225677743554);\">chienne</span> <span style=\"background-color:rgba(255,0,0,0.2925739251077175);\">nasty</span> <span style=\"background-color:rgba(255,0,0,0.16972467303276062);\">freak</span> https://t.co/akjdswrvch"
      ],
      "text/plain": [
       "<IPython.core.display.HTML object>"
      ]
     },
     "metadata": {},
     "output_type": "display_data"
    },
    {
     "data": {
      "text/html": [
       "<span style=\"background-color:rgba(255,0,0,0.020750949624925852);\">i</span> <span style=\"background-color:rgba(255,0,0,0.33759333193302155);\">hate</span> <span style=\"background-color:rgba(255,0,0,0.00548714364413172);\">auto</span> <span style=\"background-color:rgba(255,0,0,0.012496472336351871);\">correct</span> <span style=\"background-color:rgba(255,0,0,0.013565513072535396);\">sometimes</span> <span style=\"background-color:rgba(255,0,0,0.02246492076665163);\">like</span> <span style=\"background-color:rgba(255,0,0,0.398065522313118);\">damn</span> <span style=\"background-color:rgba(255,0,0,0.020750949624925852);\">i</span> <span style=\"background-color:rgba(255,0,0,0.02847692696377635);\">know</span> <span style=\"background-color:rgba(255,0,0,0.019248223397880793);\">what</span> <span style=\"background-color:rgba(255,0,0,0.020750949624925852);\">i</span> <span style=\"background-color:rgba(255,0,0,0.018745382549241185);\">be</span> <span style=\"background-color:rgba(255,0,0,0.09377283975481987);\">saying</span> <span style=\"background-color:rgba(255,0,0,0.09753159247338772);\">chill</span> out."
      ],
      "text/plain": [
       "<IPython.core.display.HTML object>"
      ]
     },
     "metadata": {},
     "output_type": "display_data"
    },
    {
     "data": {
      "text/html": [
       "<span style=\"background-color:rgba(255,0,0,0.06750653497874737);\">niggas</span> <span style=\"background-color:rgba(255,0,0,0.009512187098152936);\">will</span> <span style=\"background-color:rgba(255,0,0,0.015260307118296623);\">speak</span> <span style=\"background-color:rgba(255,0,0,0.044709471985697746);\">so</span> <span style=\"background-color:rgba(255,0,0,0.2335447259247303);\">bad</span> <span style=\"background-color:rgba(255,0,0,0.03016629721969366);\">on</span> you, <span style=\"background-color:rgba(255,0,0,0.03401169320568442);\">despise</span> <span style=\"background-color:rgba(255,0,0,0.034093854483217);\">everything</span> <span style=\"background-color:rgba(255,0,0,0.010073144221678376);\">you</span> do. <span style=\"background-color:rgba(255,0,0,0.005247609224170446);\">but</span> <span style=\"background-color:rgba(255,0,0,0.009164037182927132);\">be</span> <span style=\"background-color:rgba(255,0,0,0.017095203511416912);\">all</span> <span style=\"background-color:rgba(255,0,0,0.021064684260636568);\">in</span> <span style=\"background-color:rgba(255,0,0,0.06613647565245628);\">yo</span> <span style=\"background-color:rgba(255,0,0,0.5556502938270569);\">ass</span>"
      ],
      "text/plain": [
       "<IPython.core.display.HTML object>"
      ]
     },
     "metadata": {},
     "output_type": "display_data"
    },
    {
     "data": {
      "text/html": [
       "@davyhive <span style=\"background-color:rgba(255,0,0,0.003595103626139462);\">i</span> <span style=\"background-color:rgba(255,0,0,0.05477204918861389);\">refused</span> <span style=\"background-color:rgba(255,0,0,0.009368319297209382);\">to</span> <span style=\"background-color:rgba(255,0,0,0.008840120863169432);\">be</span> <span style=\"background-color:rgba(255,0,0,0.04560965113341808);\">curved</span> <span style=\"background-color:rgba(255,0,0,0.005804677493870258);\">by</span> you, <span style=\"background-color:rgba(255,0,0,0.2527046203613281);\">ugly</span> <span style=\"background-color:rgba(255,0,0,0.7880520820617676);\">nigga</span>"
      ],
      "text/plain": [
       "<IPython.core.display.HTML object>"
      ]
     },
     "metadata": {},
     "output_type": "display_data"
    },
    {
     "data": {
      "text/html": [
       "rt @uberfactsniggas: <span style=\"background-color:rgba(255,0,0,0.00880997336935252);\">in</span> america, <span style=\"background-color:rgba(255,0,0,0.0028194073820486665);\">1</span> <span style=\"background-color:rgba(255,0,0,0.00880997336935252);\">in</span> <span style=\"background-color:rgba(255,0,0,0.001355215790681541);\">3</span> <span style=\"background-color:rgba(255,0,0,0.1021008100360632);\">niggas</span> <span style=\"background-color:rgba(255,0,0,0.03544441889971495);\">suffer</span> <span style=\"background-color:rgba(255,0,0,0.009562050108797848);\">from</span> <span style=\"background-color:rgba(255,0,0,0.017906554276123643);\">a</span> <span style=\"background-color:rgba(255,0,0,0.2986329607665539);\">fucked</span> <span style=\"background-color:rgba(255,0,0,0.3524278849363327);\">up</span> hairline."
      ],
      "text/plain": [
       "<IPython.core.display.HTML object>"
      ]
     },
     "metadata": {},
     "output_type": "display_data"
    },
    {
     "data": {
      "text/html": [
       "<span style=\"background-color:rgba(255,0,0,0.005330367712303996);\">passing</span> thought: what's <span style=\"background-color:rgba(255,0,0,0.10517073795199394);\">wrong</span> <span style=\"background-color:rgba(255,0,0,0.041648950427770615);\">with</span> <span style=\"background-color:rgba(255,0,0,0.02659949939697981);\">these</span> <span style=\"background-color:rgba(255,0,0,0.7267077267169952);\">damn</span> <span style=\"background-color:rgba(255,0,0,0.1770067773759365);\">kids</span> today!!?"
      ],
      "text/plain": [
       "<IPython.core.display.HTML object>"
      ]
     },
     "metadata": {},
     "output_type": "display_data"
    },
    {
     "data": {
      "text/html": [
       "rt @ant2clean: <span style=\"background-color:rgba(255,0,0,0.05029300693422556);\">nigga</span> <span style=\"background-color:rgba(255,0,0,0.29014667496085167);\">mad</span> <span style=\"background-color:rgba(255,0,0,0.5145896598696709);\">af</span> <span style=\"background-color:rgba(255,0,0,0.09899784810841084);\">cause</span> <span style=\"background-color:rgba(255,0,0,0.01876715454272926);\">i</span> <span style=\"background-color:rgba(255,0,0,0.02032886492088437);\">asked</span> <span style=\"background-color:rgba(255,0,0,0.040618935599923134);\">him</span> <span style=\"background-color:rgba(255,0,0,0.01769020571373403);\">was</span> <span style=\"background-color:rgba(255,0,0,0.018000861164182425);\">he</span> <span style=\"background-color:rgba(255,0,0,0.01199112506583333);\">the</span> <span style=\"background-color:rgba(255,0,0,0.08265050128102303);\">man</span> <span style=\"background-color:rgba(255,0,0,0.02243948169052601);\">on</span> <span style=\"background-color:rgba(255,0,0,0.01199112506583333);\">the</span> <span style=\"background-color:rgba(255,0,0,0.017504317220300436);\">phone</span> &#128514;&#128514; https://t.co/e1gm1kxyom"
      ],
      "text/plain": [
       "<IPython.core.display.HTML object>"
      ]
     },
     "metadata": {},
     "output_type": "display_data"
    },
    {
     "data": {
      "text/html": [
       "<span style=\"background-color:rgba(255,0,0,0.004541557282209396);\">i</span> <span style=\"background-color:rgba(255,0,0,0.25746332481503487);\">hate</span> <span style=\"background-color:rgba(255,0,0,0.03679998451843858);\">when</span> <span style=\"background-color:rgba(255,0,0,0.021803679410368204);\">people</span> <span style=\"background-color:rgba(255,0,0,0.00318630482070148);\">get</span> <span style=\"background-color:rgba(255,0,0,0.1850838027894497);\">up</span> <span style=\"background-color:rgba(255,0,0,0.004290100187063217);\">here</span> <span style=\"background-color:rgba(255,0,0,0.0022265067673288286);\">and</span> <span style=\"background-color:rgba(255,0,0,0.011759151238948107);\">tell</span> <span style=\"background-color:rgba(255,0,0,0.013056087773293257);\">what</span> <span style=\"background-color:rgba(255,0,0,0.028963834047317505);\">happening</span> <span style=\"background-color:rgba(255,0,0,0.01824734266847372);\">on</span> <span style=\"background-color:rgba(255,0,0,0.023308293893933296);\">a</span> <span style=\"background-color:rgba(255,0,0,0.0030105176847428083);\">tv</span> <span style=\"background-color:rgba(255,0,0,0.0029631087090820074);\">show</span> <span style=\"background-color:rgba(255,0,0,0.0028330693021416664);\">or</span> movie... <span style=\"background-color:rgba(255,0,0,0.07701737806200981);\">shut</span> <span style=\"background-color:rgba(255,0,0,0.06772610824555159);\">yo</span> <span style=\"background-color:rgba(255,0,0,0.3871332108974457);\">ass</span> <span style=\"background-color:rgba(255,0,0,0.1850838027894497);\">up</span> &#128514;"
      ],
      "text/plain": [
       "<IPython.core.display.HTML object>"
      ]
     },
     "metadata": {},
     "output_type": "display_data"
    },
    {
     "data": {
      "text/html": [
       "rt @princessnahjaa: <span style=\"background-color:rgba(255,0,0,0.05190377123653889);\">niggas</span> <span style=\"background-color:rgba(255,0,0,0.038563027046620846);\">so</span> <span style=\"background-color:rgba(255,0,0,0.2770061045885086);\">fucking</span> <span style=\"background-color:rgba(255,0,0,0.6371304392814636);\">disrespectful</span> man‼️"
      ],
      "text/plain": [
       "<IPython.core.display.HTML object>"
      ]
     },
     "metadata": {},
     "output_type": "display_data"
    },
    {
     "data": {
      "text/html": [
       "rt @chimpsinsocks: stupid, stupid, stupid, mother-fucking, <span style=\"background-color:rgba(255,0,0,0.003576719609554857);\">piece</span> <span style=\"background-color:rgba(255,0,0,0.000670926965540275);\">of</span> <span style=\"background-color:rgba(255,0,0,0.01515283714979887);\">shit</span> ass-clown. https://t.co/3as7tajfz2"
      ],
      "text/plain": [
       "<IPython.core.display.HTML object>"
      ]
     },
     "metadata": {},
     "output_type": "display_data"
    },
    {
     "data": {
      "text/html": [
       "rt @femmeslayer: buffy, sweetie. i'm <span style=\"background-color:rgba(255,0,0,0.012940451269969344);\">so</span> sorry. i'm <span style=\"background-color:rgba(255,0,0,0.012940451269969344);\">so</span> <span style=\"background-color:rgba(255,0,0,0.042164307087659836);\">sorry</span> <span style=\"background-color:rgba(255,0,0,0.002626512141432613);\">that</span> <span style=\"background-color:rgba(255,0,0,0.006781310075893998);\">a</span> <span style=\"background-color:rgba(255,0,0,0.25751544162631035);\">ugly</span> <span style=\"background-color:rgba(255,0,0,0.35483524203300476);\">ass</span> <span style=\"background-color:rgba(255,0,0,0.4285001754760742);\">bitch</span> <span style=\"background-color:rgba(255,0,0,0.026460776571184397);\">like</span> <span style=\"background-color:rgba(255,0,0,0.0023733320995233953);\">this</span> <span style=\"background-color:rgba(255,0,0,0.0009978382149711251);\">would</span> <span style=\"background-color:rgba(255,0,0,0.001680218701949343);\">even</span> <span style=\"background-color:rgba(255,0,0,0.004823556519113481);\">say</span> that, <span style=\"background-color:rgba(255,0,0,0.00687412335537374);\">oh</span> <span style=\"background-color:rgba(255,0,0,0.0035044093965552747);\">my</span> god. https://t.co/8m…"
      ],
      "text/plain": [
       "<IPython.core.display.HTML object>"
      ]
     },
     "metadata": {},
     "output_type": "display_data"
    },
    {
     "data": {
      "text/html": [
       "<span style=\"background-color:rgba(255,0,0,0.0055432174121961);\">all</span> <span style=\"background-color:rgba(255,0,0,0.004022604844067246);\">this</span> <span style=\"background-color:rgba(255,0,0,0.16699563711881638);\">nigga</span> <span style=\"background-color:rgba(255,0,0,0.03066836390644312);\">do</span> <span style=\"background-color:rgba(255,0,0,0.012177100870758295);\">is</span> <span style=\"background-color:rgba(255,0,0,0.005104230949655175);\">try</span> <span style=\"background-color:rgba(255,0,0,0.0031965813832357526);\">to</span> <span style=\"background-color:rgba(255,0,0,0.0012677695485763252);\">get</span> <span style=\"background-color:rgba(255,0,0,0.02910912735387683);\">me</span> <span style=\"background-color:rgba(255,0,0,0.028895107097923756);\">pregnant</span> <span style=\"background-color:rgba(255,0,0,0.015963268233463168);\">then</span> <span style=\"background-color:rgba(255,0,0,0.03294222289696336);\">tell</span> <span style=\"background-color:rgba(255,0,0,0.041568041779100895);\">his</span> <span style=\"background-color:rgba(255,0,0,0.12271411716938019);\">ex</span> <span style=\"background-color:rgba(255,0,0,0.057041398249566555);\">he</span> don't <span style=\"background-color:rgba(255,0,0,0.344882607460022);\">fuck</span> <span style=\"background-color:rgba(255,0,0,0.029454997275024652);\">with</span> <span style=\"background-color:rgba(255,0,0,0.02910912735387683);\">me</span> <span style=\"background-color:rgba(255,0,0,0.002531726786401123);\">nomo</span> &#128557;&#128557;&#128557;&#128557; <span style=\"background-color:rgba(255,0,0,0.0023225846234709024);\">you</span> <span style=\"background-color:rgba(255,0,0,0.11263052932918072);\">niggas</span> <span style=\"background-color:rgba(255,0,0,0.09596812538802624);\">weird</span>"
      ],
      "text/plain": [
       "<IPython.core.display.HTML object>"
      ]
     },
     "metadata": {},
     "output_type": "display_data"
    },
    {
     "data": {
      "text/html": [
       "rt @bonnieknowsbest: <span style=\"background-color:rgba(255,0,0,0.00262492336332798);\">i</span> <span style=\"background-color:rgba(255,0,0,0.14880833216011524);\">hate</span> <span style=\"background-color:rgba(255,0,0,0.03174003213644028);\">a</span> \"it's <span style=\"background-color:rgba(255,0,0,0.0779931666329503);\">up</span> <span style=\"background-color:rgba(255,0,0,0.016152559546753764);\">to</span> you\" <span style=\"background-color:rgba(255,0,0,0.1900084689259529);\">ass</span> <span style=\"background-color:rgba(255,0,0,0.6838889420032501);\">nigga</span> &#128580;"
      ],
      "text/plain": [
       "<IPython.core.display.HTML object>"
      ]
     },
     "metadata": {},
     "output_type": "display_data"
    },
    {
     "data": {
      "text/html": [
       "rt @johnnyswaaygo: <span style=\"background-color:rgba(255,0,0,0.0018480716971680522);\">this</span> <span style=\"background-color:rgba(255,0,0,0.08066331967711449);\">nigga</span> <span style=\"background-color:rgba(255,0,0,0.5129242688417435);\">mad</span> <span style=\"background-color:rgba(255,0,0,0.31184274703264236);\">cus</span> <span style=\"background-color:rgba(255,0,0,0.03994228318333626);\">drake</span> <span style=\"background-color:rgba(255,0,0,0.11665531434118748);\">aint</span> <span style=\"background-color:rgba(255,0,0,0.10395180433988571);\">steal</span> <span style=\"background-color:rgba(255,0,0,0.02612628974020481);\">his</span> <span style=\"background-color:rgba(255,0,0,0.012397756800055504);\">flow</span> <span style=\"background-color:rgba(255,0,0,0.0035967069561593235);\">lbr</span>"
      ],
      "text/plain": [
       "<IPython.core.display.HTML object>"
      ]
     },
     "metadata": {},
     "output_type": "display_data"
    },
    {
     "data": {
      "text/html": [
       "rt @_ljanee: i'm <span style=\"background-color:rgba(255,0,0,0.009393871878273785);\">all</span> <span style=\"background-color:rgba(255,0,0,0.003415964893065393);\">for</span> <span style=\"background-color:rgba(255,0,0,0.12688886374235153);\">niggas</span> <span style=\"background-color:rgba(255,0,0,0.30760347843170166);\">havin</span> <span style=\"background-color:rgba(255,0,0,0.032950087916105986);\">shower</span> sex..but <span style=\"background-color:rgba(255,0,0,0.00561521970666945);\">when</span> <span style=\"background-color:rgba(255,0,0,0.01139000989496708);\">i</span> <span style=\"background-color:rgba(255,0,0,0.0027114656404592097);\">have</span> <span style=\"background-color:rgba(255,0,0,0.002206563949584961);\">to</span> <span style=\"background-color:rgba(255,0,0,0.001032980508171022);\">get</span> <span style=\"background-color:rgba(255,0,0,0.003487511712592095);\">in</span> <span style=\"background-color:rgba(255,0,0,0.032966171856969595);\">the</span> <span style=\"background-color:rgba(255,0,0,0.032950087916105986);\">shower</span> <span style=\"background-color:rgba(255,0,0,0.00745562429074198);\">and</span> <span style=\"background-color:rgba(255,0,0,0.01139000989496708);\">i</span> <span style=\"background-color:rgba(255,0,0,0.01090311212465167);\">can</span> <span style=\"background-color:rgba(255,0,0,0.0008004350092960522);\">barley</span> <span style=\"background-color:rgba(255,0,0,0.002766667166724801);\">wash</span> <span style=\"background-color:rgba(255,0,0,0.0032064210972748697);\">my</span> <span style=\"background-color:rgba(255,0,0,0.09502376429736614);\">ass</span> <span style=\"background-color:rgba(255,0,0,0.14967585913836956);\">cuz</span> <span style=\"background-color:rgba(255,0,0,0.032966171856969595);\">the</span> <span style=\"background-color:rgba(255,0,0,0.015392653876915574);\">water</span> cold. the…"
      ],
      "text/plain": [
       "<IPython.core.display.HTML object>"
      ]
     },
     "metadata": {},
     "output_type": "display_data"
    },
    {
     "data": {
      "text/html": [
       "rt @xo_sierraaaaa: don't <span style=\"background-color:rgba(255,0,0,0.007635977235622704);\">let</span> <span style=\"background-color:rgba(255,0,0,0.015082961181178689);\">a</span> <span style=\"background-color:rgba(255,0,0,0.8059266209602356);\">nigga</span> <span style=\"background-color:rgba(255,0,0,0.06205415353178978);\">with</span> <span style=\"background-color:rgba(255,0,0,0.024767620489001274);\">no</span> <span style=\"background-color:rgba(255,0,0,0.025317934341728687);\">car</span> <span style=\"background-color:rgba(255,0,0,0.017918928060680628);\">drive</span> <span style=\"background-color:rgba(255,0,0,0.006682522944174707);\">you</span> <span style=\"background-color:rgba(255,0,0,0.11411109007894993);\">crazy</span> &#128514;"
      ],
      "text/plain": [
       "<IPython.core.display.HTML object>"
      ]
     },
     "metadata": {},
     "output_type": "display_data"
    },
    {
     "data": {
      "text/html": [
       "rt @lilprinsus: <span style=\"background-color:rgba(255,0,0,0.002013130288105458);\">men</span> <span style=\"background-color:rgba(255,0,0,0.003729427990037948);\">are</span> <span style=\"background-color:rgba(255,0,0,0.018348165322095156);\">so</span> <span style=\"background-color:rgba(255,0,0,0.695217102766037);\">ugly</span> <span style=\"background-color:rgba(255,0,0,0.10415717959403992);\">like</span> <span style=\"background-color:rgba(255,0,0,0.059297000989317894);\">ill</span> <span style=\"background-color:rgba(255,0,0,0.01910817576572299);\">put</span> <span style=\"background-color:rgba(255,0,0,0.0052709964802488685);\">money</span> <span style=\"background-color:rgba(255,0,0,0.0029793463181704283);\">on</span> <span style=\"background-color:rgba(255,0,0,0.010147900320589542);\">his</span> <span style=\"background-color:rgba(255,0,0,0.2009696513414383);\">dick</span> <span style=\"background-color:rgba(255,0,0,0.02657442819327116);\">being</span> <span style=\"background-color:rgba(255,0,0,0.04437766969203949);\">under</span> <span style=\"background-color:rgba(255,0,0,0.0019357529527042061);\">6</span> <span style=\"background-color:rgba(255,0,0,0.00044632488425122574);\">inches</span> <span style=\"background-color:rgba(255,0,0,0.0017795531312003732);\">dont</span> <span style=\"background-color:rgba(255,0,0,0.00425343430833891);\">speak</span> <span style=\"background-color:rgba(255,0,0,0.0029793463181704283);\">on</span> <span style=\"background-color:rgba(255,0,0,0.00045097156544215977);\">womens</span> <span style=\"background-color:rgba(255,0,0,0.0060443521942943335);\">tits</span> <span style=\"background-color:rgba(255,0,0,0.002819230721797794);\">when</span> <span style=\"background-color:rgba(255,0,0,0.004583818954415619);\">u</span> <span style=\"background-color:rgba(255,0,0,0.007449436234310269);\">probably</span> <span style=\"background-color:rgba(255,0,0,0.0010182114783674479);\">2</span> sma…"
      ],
      "text/plain": [
       "<IPython.core.display.HTML object>"
      ]
     },
     "metadata": {},
     "output_type": "display_data"
    },
    {
     "data": {
      "text/html": [
       "<span style=\"background-color:rgba(255,0,0,0.011089267209172249);\">so</span> i'm <span style=\"background-color:rgba(255,0,0,0.01599596464075148);\">at</span> mcdonald's <span style=\"background-color:rgba(255,0,0,0.015639413613826036);\">in</span> florida, <span style=\"background-color:rgba(255,0,0,0.006640516221523285);\">and</span> like... there's <span style=\"background-color:rgba(255,0,0,0.34285038709640503);\">fuckin&#x27;</span> <span style=\"background-color:rgba(255,0,0,0.040339911356568336);\">pasta</span> <span style=\"background-color:rgba(255,0,0,0.006640516221523285);\">and</span> <span style=\"background-color:rgba(255,0,0,0.12709703296422958);\">shit</span> here, nigga! <span style=\"background-color:rgba(255,0,0,0.030919129494577646);\">real</span> <span style=\"background-color:rgba(255,0,0,0.26912689208984375);\">fucking</span> food, <span style=\"background-color:rgba(255,0,0,0.05905277095735073);\">holy</span> sh… https://t.co/igt19rprnq"
      ],
      "text/plain": [
       "<IPython.core.display.HTML object>"
      ]
     },
     "metadata": {},
     "output_type": "display_data"
    },
    {
     "data": {
      "text/html": [
       "rt @fucktherapgame: <span style=\"background-color:rgba(255,0,0,0.011126197641715407);\">i</span> can't <span style=\"background-color:rgba(255,0,0,0.06074878852814436);\">stand</span> <span style=\"background-color:rgba(255,0,0,0.011299756588414311);\">women</span> <span style=\"background-color:rgba(255,0,0,0.014467663131654263);\">who</span> <span style=\"background-color:rgba(255,0,0,0.02198280766606331);\">are</span> <span style=\"background-color:rgba(255,0,0,0.028338406700640917);\">all</span> <span style=\"background-color:rgba(255,0,0,0.014139650156721473);\">about</span> <span style=\"background-color:rgba(255,0,0,0.10323818773031235);\">feminism</span> <span style=\"background-color:rgba(255,0,0,0.011020447127521038);\">one</span> <span style=\"background-color:rgba(255,0,0,0.0029664498288184404);\">minute</span> <span style=\"background-color:rgba(255,0,0,0.006711339228786528);\">then</span> they're <span style=\"background-color:rgba(255,0,0,0.009562075138092041);\">fantasizing</span> <span style=\"background-color:rgba(255,0,0,0.014139650156721473);\">about</span> <span style=\"background-color:rgba(255,0,0,0.6610384583473206);\">fucking</span> <span style=\"background-color:rgba(255,0,0,0.030480262357741594);\">misogynist</span> celebrities…"
      ],
      "text/plain": [
       "<IPython.core.display.HTML object>"
      ]
     },
     "metadata": {},
     "output_type": "display_data"
    },
    {
     "data": {
      "text/html": [
       "<span style=\"background-color:rgba(255,0,0,0.12328370474278927);\">niggas</span> <span style=\"background-color:rgba(255,0,0,0.009968569502234459);\">will</span> <span style=\"background-color:rgba(255,0,0,0.02992017427459359);\">tell</span> <span style=\"background-color:rgba(255,0,0,0.01492857001721859);\">you</span> <span style=\"background-color:rgba(255,0,0,0.00022577194613404572);\">str8</span> <span style=\"background-color:rgba(255,0,0,0.006263385876081884);\">up</span> <span style=\"background-color:rgba(255,0,0,0.007123574614524841);\">they</span> don't <span style=\"background-color:rgba(255,0,0,0.007762147579342127);\">want</span> <span style=\"background-color:rgba(255,0,0,0.012066597118973732);\">a</span> <span style=\"background-color:rgba(255,0,0,0.025018202140927315);\">relationship</span> <span style=\"background-color:rgba(255,0,0,0.011162455193698406);\">yet</span> <span style=\"background-color:rgba(255,0,0,0.009968569502234459);\">will</span> <span style=\"background-color:rgba(255,0,0,0.00760016031563282);\">flip</span> <span style=\"background-color:rgba(255,0,0,0.007533784373663366);\">the</span> <span style=\"background-color:rgba(255,0,0,0.006657374324277043);\">second</span> <span style=\"background-color:rgba(255,0,0,0.01492857001721859);\">you</span> <span style=\"background-color:rgba(255,0,0,0.03547691507264972);\">say</span> <span style=\"background-color:rgba(255,0,0,0.01492857001721859);\">you</span> <span style=\"background-color:rgba(255,0,0,0.030397509690374136);\">going</span> <span style=\"background-color:rgba(255,0,0,0.015577060403302312);\">to</span> <span style=\"background-color:rgba(255,0,0,0.15287257730960846);\">smoke</span> w/ <span style=\"background-color:rgba(255,0,0,0.017182801384478807);\">ya</span> <span style=\"background-color:rgba(255,0,0,0.06490865256637335);\">homie</span> <span style=\"background-color:rgba(255,0,0,0.032316865399479866);\">lol</span> <span style=\"background-color:rgba(255,0,0,0.08082673884928226);\">foh</span> <span style=\"background-color:rgba(255,0,0,0.4108059033751488);\">bruh</span> &#128514;&#128514;&#128514;"
      ],
      "text/plain": [
       "<IPython.core.display.HTML object>"
      ]
     },
     "metadata": {},
     "output_type": "display_data"
    },
    {
     "data": {
      "text/html": [
       "can't <span style=\"background-color:rgba(255,0,0,0.0015613451250828803);\">be</span> <span style=\"background-color:rgba(255,0,0,0.0016123989189509302);\">a</span> <span style=\"background-color:rgba(255,0,0,0.03550746710970998);\">insecure</span> <span style=\"background-color:rgba(255,0,0,0.4191702976822853);\">nigga</span> <span style=\"background-color:rgba(255,0,0,0.017313894350081682);\">with</span> <span style=\"background-color:rgba(255,0,0,0.0016123989189509302);\">a</span> <span style=\"background-color:rgba(255,0,0,0.08220532909035683);\">bad</span> bitch... <span style=\"background-color:rgba(255,0,0,0.030982636380940676);\">go</span> <span style=\"background-color:rgba(255,0,0,0.0015801831614226103);\">get</span> <span style=\"background-color:rgba(255,0,0,0.0007754966645734385);\">you</span> <span style=\"background-color:rgba(255,0,0,0.0016123989189509302);\">a</span> <span style=\"background-color:rgba(255,0,0,0.004067673580721021);\">miss</span> <span style=\"background-color:rgba(255,0,0,0.0017634629330132157);\">potatoe</span> <span style=\"background-color:rgba(255,0,0,0.0031935505103319883);\">then</span>"
      ],
      "text/plain": [
       "<IPython.core.display.HTML object>"
      ]
     },
     "metadata": {},
     "output_type": "display_data"
    },
    {
     "data": {
      "text/html": [
       "rt @blakk_papi: <span style=\"background-color:rgba(255,0,0,0.03919871989637613);\">so</span> <span style=\"background-color:rgba(255,0,0,0.0316854240372777);\">i</span> <span style=\"background-color:rgba(255,0,0,0.013764059403911233);\">give</span> <span style=\"background-color:rgba(255,0,0,0.0035521353129297495);\">the</span> <span style=\"background-color:rgba(255,0,0,0.06452858448028564);\">boy</span> <span style=\"background-color:rgba(255,0,0,0.028849185910075903);\">my</span> <span style=\"background-color:rgba(255,0,0,0.0070066581247374415);\">number</span> <span style=\"background-color:rgba(255,0,0,0.004588229930959642);\">and</span> <span style=\"background-color:rgba(255,0,0,0.006849096389487386);\">learned</span> <span style=\"background-color:rgba(255,0,0,0.01940408837981522);\">in</span> <span style=\"background-color:rgba(255,0,0,0.06329447496682405);\">like</span> .5 <span style=\"background-color:rgba(255,0,0,0.0018576403090264648);\">seconds</span> <span style=\"background-color:rgba(255,0,0,0.0035521353129297495);\">the</span> <span style=\"background-color:rgba(255,0,0,0.26503922417759895);\">nigga</span> <span style=\"background-color:rgba(255,0,0,0.06570637226104736);\">was</span> <span style=\"background-color:rgba(255,0,0,0.05175498779863119);\">batshit</span> <span style=\"background-color:rgba(255,0,0,0.4082002490758896);\">crazy</span> https://t.co/e8mjimpxz6"
      ],
      "text/plain": [
       "<IPython.core.display.HTML object>"
      ]
     },
     "metadata": {},
     "output_type": "display_data"
    },
    {
     "data": {
      "text/html": [
       "rt @thcmoonman: \"how <span style=\"background-color:rgba(255,0,0,0.031811187509447336);\">is</span> <span style=\"background-color:rgba(255,0,0,0.024233877193182707);\">your</span> <span style=\"background-color:rgba(255,0,0,0.013842836488038301);\">body</span> <span style=\"background-color:rgba(255,0,0,0.012725343694910407);\">count</span> <span style=\"background-color:rgba(255,0,0,0.003499599697533995);\">2</span> <span style=\"background-color:rgba(255,0,0,0.008542048744857311);\">when</span> <span style=\"background-color:rgba(255,0,0,0.009449832141399384);\">you</span> <span style=\"background-color:rgba(255,0,0,0.2403227612376213);\">fucked</span> <span style=\"background-color:rgba(255,0,0,0.005811891169287264);\">3</span> <span style=\"background-color:rgba(255,0,0,0.004419191973283887);\">of</span> <span style=\"background-color:rgba(255,0,0,0.010737571865320206);\">my</span> <span style=\"background-color:rgba(255,0,0,0.5004742741584778);\">niggas</span> &#128514;&#128514;&#128514;&#128514;&#128514;&#128514;\" https://t.co/rtmhdpweji"
      ],
      "text/plain": [
       "<IPython.core.display.HTML object>"
      ]
     },
     "metadata": {},
     "output_type": "display_data"
    },
    {
     "data": {
      "text/html": [
       "@nytimes @realdonaldtrump hey.....i <span style=\"background-color:rgba(255,0,0,0.0008635668928036466);\">think</span> <span style=\"background-color:rgba(255,0,0,0.0025883177295327187);\">isis</span> <span style=\"background-color:rgba(255,0,0,0.0039207361987791955);\">is</span> correct!!! trump...you <span style=\"background-color:rgba(255,0,0,0.00532798410858959);\">are</span> <span style=\"background-color:rgba(255,0,0,0.018747784197330475);\">ruining</span> <span style=\"background-color:rgba(255,0,0,0.0015983481716830283);\">our</span> <span style=\"background-color:rgba(255,0,0,0.005854949704371393);\">reputation</span> <span style=\"background-color:rgba(255,0,0,0.004030865675304085);\">in</span> <span style=\"background-color:rgba(255,0,0,0.002954468654934317);\">the</span> world! <span style=\"background-color:rgba(255,0,0,0.0031118415063247085);\">you</span> <span style=\"background-color:rgba(255,0,0,0.00532798410858959);\">are</span> <span style=\"background-color:rgba(255,0,0,0.006347534945234656);\">a</span> <span style=\"background-color:rgba(255,0,0,0.1528027467429638);\">fucking</span> idiot!"
      ],
      "text/plain": [
       "<IPython.core.display.HTML object>"
      ]
     },
     "metadata": {},
     "output_type": "display_data"
    },
    {
     "data": {
      "text/html": [
       "<span style=\"background-color:rgba(255,0,0,0.0008823625830700621);\">i</span> <span style=\"background-color:rgba(255,0,0,0.01727480092085898);\">swear</span> <span style=\"background-color:rgba(255,0,0,0.0012713366595562547);\">some</span> <span style=\"background-color:rgba(255,0,0,0.0005876728755538352);\">of</span> <span style=\"background-color:rgba(255,0,0,0.00781636219471693);\">u</span> <span style=\"background-color:rgba(255,0,0,0.04512571729719639);\">niggas</span> <span style=\"background-color:rgba(255,0,0,0.02941577462479472);\">so</span> <span style=\"background-color:rgba(255,0,0,0.09021592326462269);\">fucking</span> wack. <span style=\"background-color:rgba(255,0,0,0.20222125574946404);\">exposing</span> <span style=\"background-color:rgba(255,0,0,0.021438554394990206);\">a</span> <span style=\"background-color:rgba(255,0,0,0.005386564298532903);\">woman</span> <span style=\"background-color:rgba(255,0,0,0.0021136185387149453);\">on</span> <span style=\"background-color:rgba(255,0,0,0.0015754466585349292);\">the</span> <span style=\"background-color:rgba(255,0,0,0.00944748055189848);\">tl</span> <span style=\"background-color:rgba(255,0,0,0.010826255893334746);\">because</span> <span style=\"background-color:rgba(255,0,0,0.005535500822588801);\">she</span> <span style=\"background-color:rgba(255,0,0,0.005408934666775167);\">takes</span> <span style=\"background-color:rgba(255,0,0,0.002022915141424164);\">an</span> <span style=\"background-color:rgba(255,0,0,0.0014759997429791838);\">interest</span> <span style=\"background-color:rgba(255,0,0,0.003388733312021941);\">in</span> u?? <span style=\"background-color:rgba(255,0,0,0.0027816713554784656);\">how</span> <span style=\"background-color:rgba(255,0,0,0.09021592326462269);\">fucking</span> <span style=\"background-color:rgba(255,0,0,0.25267619639635086);\">lame</span>"
      ],
      "text/plain": [
       "<IPython.core.display.HTML object>"
      ]
     },
     "metadata": {},
     "output_type": "display_data"
    },
    {
     "data": {
      "text/html": [
       "@s18_blade <span style=\"background-color:rgba(255,0,0,0.001791413378668949);\">without</span> <span style=\"background-color:rgba(255,0,0,0.0038045074325054884);\">a</span> <span style=\"background-color:rgba(255,0,0,0.0038581504486501217);\">shadow</span> <span style=\"background-color:rgba(255,0,0,0.002761953801382333);\">of</span> <span style=\"background-color:rgba(255,0,0,0.007322714081965387);\">doubt</span> <span style=\"background-color:rgba(255,0,0,0.03102319547906518);\">burn</span> <span style=\"background-color:rgba(255,0,0,0.12915804982185364);\">him</span> <span style=\"background-color:rgba(255,0,0,0.0960005633533001);\">at</span> <span style=\"background-color:rgba(255,0,0,0.04490306135267019);\">the</span> <span style=\"background-color:rgba(255,0,0,0.8346894383430481);\">fucking</span> <span style=\"background-color:rgba(255,0,0,0.03401797031983733);\">stake</span> &#128514;&#128514;"
      ],
      "text/plain": [
       "<IPython.core.display.HTML object>"
      ]
     },
     "metadata": {},
     "output_type": "display_data"
    },
    {
     "data": {
      "text/html": [
       "<span style=\"background-color:rgba(255,0,0,0.06775302812457085);\">damn</span> <span style=\"background-color:rgba(255,0,0,0.017670011147856712);\">i</span> <span style=\"background-color:rgba(255,0,0,0.3893253952264786);\">hate</span> \"boy twitter\" they're <span style=\"background-color:rgba(255,0,0,0.006733273039571941);\">all</span> <span style=\"background-color:rgba(255,0,0,0.0279651815071702);\">so</span> <span style=\"background-color:rgba(255,0,0,0.06891027092933655);\">weird</span> <span style=\"background-color:rgba(255,0,0,0.012000445276498795);\">and</span> <span style=\"background-color:rgba(255,0,0,0.4374067112803459);\">annoying</span> &#128548;"
      ],
      "text/plain": [
       "<IPython.core.display.HTML object>"
      ]
     },
     "metadata": {},
     "output_type": "display_data"
    },
    {
     "data": {
      "text/html": [
       "@woosweejh76 <span style=\"background-color:rgba(255,0,0,0.004724547907244414);\">and</span> <span style=\"background-color:rgba(255,0,0,0.0008407870336668566);\">an&#x27;</span> <span style=\"background-color:rgba(255,0,0,0.001061869625118561);\">orrible</span> <span style=\"background-color:rgba(255,0,0,0.0883331149816513);\">dirty</span> <span style=\"background-color:rgba(255,0,0,0.9384319186210632);\">bastard</span> <span style=\"background-color:rgba(255,0,0,0.04207287449389696);\">with</span> <span style=\"background-color:rgba(255,0,0,0.01937343622557819);\">it</span>"
      ],
      "text/plain": [
       "<IPython.core.display.HTML object>"
      ]
     },
     "metadata": {},
     "output_type": "display_data"
    },
    {
     "data": {
      "text/html": [
       "rt @tianimalave: <span style=\"background-color:rgba(255,0,0,0.007030637352727354);\">every</span> <span style=\"background-color:rgba(255,0,0,0.005679848254658282);\">time</span> <span style=\"background-color:rgba(255,0,0,0.004012246208731085);\">you</span> rt <span style=\"background-color:rgba(255,0,0,0.004747111524920911);\">this</span> you'll <span style=\"background-color:rgba(255,0,0,0.14011510647833347);\">piss</span> <span style=\"background-color:rgba(255,0,0,0.15725258737802505);\">off</span> <span style=\"background-color:rgba(255,0,0,0.01644213334657252);\">an</span> <span style=\"background-color:rgba(255,0,0,0.7715453207492828);\">ugly</span> <span style=\"background-color:rgba(255,0,0,0.03626621328294277);\">homophobe</span> https://t.co/rphpkdssr4"
      ],
      "text/plain": [
       "<IPython.core.display.HTML object>"
      ]
     },
     "metadata": {},
     "output_type": "display_data"
    },
    {
     "data": {
      "text/html": [
       "rt @dialnfornicole: <span style=\"background-color:rgba(255,0,0,0.00406341248890385);\">i</span> <span style=\"background-color:rgba(255,0,0,0.11813118122518063);\">fucking</span> <span style=\"background-color:rgba(255,0,0,1.0517993569374084);\">hate</span> @windows 10. <span style=\"background-color:rgba(255,0,0,0.001517633645562455);\">that</span> <span style=\"background-color:rgba(255,0,0,0.0036046234890818596);\">is</span> all."
      ],
      "text/plain": [
       "<IPython.core.display.HTML object>"
      ]
     },
     "metadata": {},
     "output_type": "display_data"
    },
    {
     "data": {
      "text/html": [
       "@joshuakaufman18 @itizbiz @erictrump @donaldjtrumpjr <span style=\"background-color:rgba(255,0,0,0.02343650907278061);\">so</span> <span style=\"background-color:rgba(255,0,0,0.8017006516456604);\">disgusting</span> <span style=\"background-color:rgba(255,0,0,0.08516372181475163);\">it</span> <span style=\"background-color:rgba(255,0,0,0.11823074892163277);\">turns</span> <span style=\"background-color:rgba(255,0,0,0.038727717474102974);\">my</span> <span style=\"background-color:rgba(255,0,0,0.044025396928191185);\">stomach</span> <span style=\"background-color:rgba(255,0,0,0.011311410926282406);\">and</span> <span style=\"background-color:rgba(255,0,0,0.0032926120911724865);\">any</span> <span style=\"background-color:rgba(255,0,0,0.021293472964316607);\">redneck</span> <span style=\"background-color:rgba(255,0,0,0.015328025911003351);\">that</span> <span style=\"background-color:rgba(255,0,0,0.010643855202943087);\">finds</span> t… https://t.co/aoywudwq5n"
      ],
      "text/plain": [
       "<IPython.core.display.HTML object>"
      ]
     },
     "metadata": {},
     "output_type": "display_data"
    },
    {
     "data": {
      "text/html": [
       "<span style=\"background-color:rgba(255,0,0,0.006704492843709886);\">idek</span> <span style=\"background-color:rgba(255,0,0,0.012968725059181452);\">why</span> <span style=\"background-color:rgba(255,0,0,0.0038525962736457586);\">i</span> <span style=\"background-color:rgba(255,0,0,0.002584505418781191);\">watch</span> <span style=\"background-color:rgba(255,0,0,0.002932505158241838);\">parenthood</span> <span style=\"background-color:rgba(255,0,0,0.0038525962736457586);\">i</span> <span style=\"background-color:rgba(255,0,0,0.21798338741064072);\">hate</span> it. <span style=\"background-color:rgba(255,0,0,0.008545033051632345);\">and</span> <span style=\"background-color:rgba(255,0,0,0.0013738307461608201);\">camille</span> you're <span style=\"background-color:rgba(255,0,0,0.022015220019966364);\">a</span> <span style=\"background-color:rgba(255,0,0,0.787615180015564);\">cunt</span>"
      ],
      "text/plain": [
       "<IPython.core.display.HTML object>"
      ]
     },
     "metadata": {},
     "output_type": "display_data"
    },
    {
     "data": {
      "text/html": [
       "<span style=\"background-color:rgba(255,0,0,0.02977105788886547);\">i</span> <span style=\"background-color:rgba(255,0,0,0.0043643167009577155);\">stalked</span> <span style=\"background-color:rgba(255,0,0,0.011112189386039972);\">a</span> <span style=\"background-color:rgba(255,0,0,0.516708493232727);\">nigga</span> <span style=\"background-color:rgba(255,0,0,0.09811071678996086);\">n</span> <span style=\"background-color:rgba(255,0,0,0.0773858604952693);\">snitch</span> <span style=\"background-color:rgba(255,0,0,0.017215902917087078);\">on</span> <span style=\"background-color:rgba(255,0,0,0.05739058833569288);\">him</span> b4... #aprilfools. <span style=\"background-color:rgba(255,0,0,0.01966940937563777);\">got</span> <span style=\"background-color:rgba(255,0,0,0.020381410140544176);\">me</span> <span style=\"background-color:rgba(255,0,0,0.12453843839466572);\">fucked</span> <span style=\"background-color:rgba(255,0,0,0.12074942700564861);\">up</span> <span style=\"background-color:rgba(255,0,0,0.02977105788886547);\">i</span> ain't <span style=\"background-color:rgba(255,0,0,0.011112189386039972);\">a</span> #fuckboy #fucknigga #pussynigga #clown #faggot #chin"
      ],
      "text/plain": [
       "<IPython.core.display.HTML object>"
      ]
     },
     "metadata": {},
     "output_type": "display_data"
    },
    {
     "data": {
      "text/html": [
       "rt @sevans1k: <span style=\"background-color:rgba(255,0,0,0.0036834977800026536);\">i</span> <span style=\"background-color:rgba(255,0,0,0.20881948992609978);\">hate</span> <span style=\"background-color:rgba(255,0,0,0.03149311291053891);\">school</span> <span style=\"background-color:rgba(255,0,0,0.006608855910599232);\">with</span> <span style=\"background-color:rgba(255,0,0,0.023399032652378082);\">a</span> <span style=\"background-color:rgba(255,0,0,0.046449354849755764);\">passion</span> , <span style=\"background-color:rgba(255,0,0,0.015978363808244467);\">but</span> <span style=\"background-color:rgba(255,0,0,0.023399032652378082);\">a</span> <span style=\"background-color:rgba(255,0,0,0.7550515979528427);\">nigga</span> <span style=\"background-color:rgba(255,0,0,0.08023886941373348);\">got</span> <span style=\"background-color:rgba(255,0,0,0.01776123885065317);\">goals</span> .."
      ],
      "text/plain": [
       "<IPython.core.display.HTML object>"
      ]
     },
     "metadata": {},
     "output_type": "display_data"
    },
    {
     "data": {
      "text/html": [
       "rt @_therealclay4: <span style=\"background-color:rgba(255,0,0,0.0036834977800026536);\">i</span> <span style=\"background-color:rgba(255,0,0,0.20881948992609978);\">hate</span> <span style=\"background-color:rgba(255,0,0,0.03149311291053891);\">school</span> <span style=\"background-color:rgba(255,0,0,0.006608855910599232);\">with</span> <span style=\"background-color:rgba(255,0,0,0.023399032652378082);\">a</span> <span style=\"background-color:rgba(255,0,0,0.046449354849755764);\">passion</span> , <span style=\"background-color:rgba(255,0,0,0.015978363808244467);\">but</span> <span style=\"background-color:rgba(255,0,0,0.023399032652378082);\">a</span> <span style=\"background-color:rgba(255,0,0,0.7550515979528427);\">nigga</span> <span style=\"background-color:rgba(255,0,0,0.08023886941373348);\">got</span> <span style=\"background-color:rgba(255,0,0,0.01776123885065317);\">goals</span> .."
      ],
      "text/plain": [
       "<IPython.core.display.HTML object>"
      ]
     },
     "metadata": {},
     "output_type": "display_data"
    },
    {
     "data": {
      "text/html": [
       "rt @thesuperman_dan: <span style=\"background-color:rgba(255,0,0,0.05769597366452217);\">niggas</span> <span style=\"background-color:rgba(255,0,0,0.008129804045893252);\">will</span> <span style=\"background-color:rgba(255,0,0,0.06507556885480881);\">pretend</span> <span style=\"background-color:rgba(255,0,0,0.0026679434813559055);\">to</span> <span style=\"background-color:rgba(255,0,0,0.016080569475889206);\">like</span> <span style=\"background-color:rgba(255,0,0,0.004231771163176745);\">your</span> <span style=\"background-color:rgba(255,0,0,0.3145073726773262);\">ugly</span> <span style=\"background-color:rgba(255,0,0,0.680694505572319);\">ass</span> <span style=\"background-color:rgba(255,0,0,0.04199251066893339);\">kids</span> <span style=\"background-color:rgba(255,0,0,0.016680012922734022);\">just</span> <span style=\"background-color:rgba(255,0,0,0.0026679434813559055);\">to</span> <span style=\"background-color:rgba(255,0,0,0.000614546297583729);\">get</span> <span style=\"background-color:rgba(255,0,0,0.001173775817733258);\">the</span> <span style=\"background-color:rgba(255,0,0,0.0025530767743475735);\">draws</span>"
      ],
      "text/plain": [
       "<IPython.core.display.HTML object>"
      ]
     },
     "metadata": {},
     "output_type": "display_data"
    },
    {
     "data": {
      "text/html": [
       "rt @themurdermami: \"what <span style=\"background-color:rgba(255,0,0,0.001438726030755788);\">i</span> <span style=\"background-color:rgba(255,0,0,0.009974421700462699);\">gotta</span> <span style=\"background-color:rgba(255,0,0,0.030570367816835642);\">lie</span> for?\" - <span style=\"background-color:rgba(255,0,0,0.003588219406083226);\">a</span> <span style=\"background-color:rgba(255,0,0,0.12288524769246578);\">nigga</span> <span style=\"background-color:rgba(255,0,0,0.014444891130551696);\">that</span> <span style=\"background-color:rgba(255,0,0,0.015612649731338024);\">still</span> <span style=\"background-color:rgba(255,0,0,0.007657873793505132);\">be</span> <span style=\"background-color:rgba(255,0,0,0.14583892188966274);\">fucking</span> lying."
      ],
      "text/plain": [
       "<IPython.core.display.HTML object>"
      ]
     },
     "metadata": {},
     "output_type": "display_data"
    },
    {
     "data": {
      "text/html": [
       "<span style=\"background-color:rgba(255,0,0,0.0012530823005363345);\">i</span> <span style=\"background-color:rgba(255,0,0,0.004170339088886976);\">really</span> <span style=\"background-color:rgba(255,0,0,0.1447293721139431);\">hate</span> <span style=\"background-color:rgba(255,0,0,0.02484807511791587);\">a</span> \"come over\" <span style=\"background-color:rgba(255,0,0,0.17505157738924026);\">ass</span> <span style=\"background-color:rgba(255,0,0,0.42152944952249527);\">nigga</span> <span style=\"background-color:rgba(255,0,0,0.03823616309091449);\">like</span> <span style=\"background-color:rgba(255,0,0,0.1560550183057785);\">wtf</span> <span style=\"background-color:rgba(255,0,0,0.015356200747191906);\">every</span> <span style=\"background-color:rgba(255,0,0,0.0033714028540998697);\">time</span> <span style=\"background-color:rgba(255,0,0,0.0017362988728564233);\">we</span> <span style=\"background-color:rgba(255,0,0,0.002678567252587527);\">communicate</span> <span style=\"background-color:rgba(255,0,0,0.004323588218539953);\">dont</span> <span style=\"background-color:rgba(255,0,0,0.006242257077246904);\">tell</span> <span style=\"background-color:rgba(255,0,0,0.00829643860924989);\">me</span> <span style=\"background-color:rgba(255,0,0,0.001712865341687575);\">to</span> <span style=\"background-color:rgba(255,0,0,0.0005155121107236482);\">come</span> <span style=\"background-color:rgba(255,0,0,0.0065191322937607765);\">over</span> <span style=\"background-color:rgba(255,0,0,0.06737233605235815);\">tf</span> <span style=\"background-color:rgba(255,0,0,0.011790344724431634);\">take</span> <span style=\"background-color:rgba(255,0,0,0.00829643860924989);\">me</span> <span style=\"background-color:rgba(255,0,0,0.002166869235225022);\">out</span> <span style=\"background-color:rgba(255,0,0,0.001444570516468957);\">or</span> <span style=\"background-color:rgba(255,0,0,0.006345516885630786);\">something</span> <span style=\"background-color:rgba(255,0,0,0.09333235211670399);\">fuck</span>"
      ],
      "text/plain": [
       "<IPython.core.display.HTML object>"
      ]
     },
     "metadata": {},
     "output_type": "display_data"
    },
    {
     "data": {
      "text/html": [
       "<span style=\"background-color:rgba(255,0,0,0.24381238967180252);\">nigga</span> <span style=\"background-color:rgba(255,0,0,0.15054171904921532);\">gone</span> <span style=\"background-color:rgba(255,0,0,0.052240584045648575);\">ask</span> <span style=\"background-color:rgba(255,0,0,0.02337617101147771);\">me</span> \"you <span style=\"background-color:rgba(255,0,0,0.0049244106048718095);\">made</span> that? <span style=\"background-color:rgba(255,0,0,0.004774118715431541);\">bought</span> <span style=\"background-color:rgba(255,0,0,0.02690755296498537);\">the</span> <span style=\"background-color:rgba(255,0,0,0.02372206887230277);\">potatoes</span> <span style=\"background-color:rgba(255,0,0,0.009902952006086707);\">and</span> everything? <span style=\"background-color:rgba(255,0,0,0.020060227252542973);\">you</span> <span style=\"background-color:rgba(255,0,0,0.05640534684062004);\">baked</span> <span style=\"background-color:rgba(255,0,0,0.02690755296498537);\">the</span> <span style=\"background-color:rgba(255,0,0,0.1782059296965599);\">chicken</span> yourself?\" <span style=\"background-color:rgba(255,0,0,0.005813353345729411);\">get</span> <span style=\"background-color:rgba(255,0,0,0.10614756494760513);\">tf</span> <span style=\"background-color:rgba(255,0,0,0.12630192562937737);\">away</span> <span style=\"background-color:rgba(255,0,0,0.015701031079515815);\">from</span> me, <span style=\"background-color:rgba(255,0,0,0.0033120220177806914);\">chef</span> <span style=\"background-color:rgba(255,0,0,0.0003512737021083012);\">ramsey</span>"
      ],
      "text/plain": [
       "<IPython.core.display.HTML object>"
      ]
     },
     "metadata": {},
     "output_type": "display_data"
    },
    {
     "data": {
      "text/html": [
       "@youbxstards \"ha! <span style=\"background-color:rgba(255,0,0,0.0024268822744488716);\">doubt</span> <span style=\"background-color:rgba(255,0,0,0.0030754852923564613);\">you</span> <span style=\"background-color:rgba(255,0,0,0.0021196520538069308);\">could</span> <span style=\"background-color:rgba(255,0,0,0.0024865681189112365);\">do</span> anything, <span style=\"background-color:rgba(255,0,0,0.0030754852923564613);\">you</span> <span style=\"background-color:rgba(255,0,0,0.20030885934829712);\">stupid</span> <span style=\"background-color:rgba(255,0,0,0.6928849220275879);\">fucking</span> jew!\" <span style=\"background-color:rgba(255,0,0,0.031143142841756344);\">he</span> smirked, <span style=\"background-color:rgba(255,0,0,0.008162576705217361);\">but</span> <span style=\"background-color:rgba(255,0,0,0.03782661631703377);\">stayed</span> put."
      ],
      "text/plain": [
       "<IPython.core.display.HTML object>"
      ]
     },
     "metadata": {},
     "output_type": "display_data"
    },
    {
     "data": {
      "text/html": [
       "\"@reason: <span style=\"background-color:rgba(255,0,0,0.0012741718092001975);\">trump</span> <span style=\"background-color:rgba(255,0,0,0.0010900776396738365);\">declares</span> <span style=\"background-color:rgba(255,0,0,0.007843324565328658);\">war</span> <span style=\"background-color:rgba(255,0,0,0.0028013531118631363);\">on</span> <span style=\"background-color:rgba(255,0,0,0.0016127398703247309);\">the</span> <span style=\"background-color:rgba(255,0,0,0.004645909066312015);\">freedom</span> <span style=\"background-color:rgba(255,0,0,0.010883943177759647);\">caucus</span> https://t.co/0f9e3v1jjy\" <span style=\"background-color:rgba(255,0,0,0.007764864130876958);\">proving</span> he's <span style=\"background-color:rgba(255,0,0,0.008078106911852956);\">a</span> <span style=\"background-color:rgba(255,0,0,0.16295511275529861);\">damn</span> idiot!!"
      ],
      "text/plain": [
       "<IPython.core.display.HTML object>"
      ]
     },
     "metadata": {},
     "output_type": "display_data"
    },
    {
     "data": {
      "text/html": [
       "<span style=\"background-color:rgba(255,0,0,0.11525560170412064);\">niggas</span> <span style=\"background-color:rgba(255,0,0,0.16719656065106392);\">worst</span> <span style=\"background-color:rgba(255,0,0,0.007243441068567336);\">than</span> <span style=\"background-color:rgba(255,0,0,0.0033093985985033214);\">your</span> <span style=\"background-color:rgba(255,0,0,0.008074237266555429);\">side</span> <span style=\"background-color:rgba(255,0,0,0.46670500189065933);\">bitch</span> <span style=\"background-color:rgba(255,0,0,0.07315998431295156);\">always</span> <span style=\"background-color:rgba(255,0,0,0.1430645864456892);\">questioning</span> <span style=\"background-color:rgba(255,0,0,0.047088335268199444);\">they</span> <span style=\"background-color:rgba(255,0,0,0.09347698651254177);\">position</span>"
      ],
      "text/plain": [
       "<IPython.core.display.HTML object>"
      ]
     },
     "metadata": {},
     "output_type": "display_data"
    },
    {
     "data": {
      "text/html": [
       "rt @johnnyp_gld: <span style=\"background-color:rgba(255,0,0,0.010200614342465997);\">homophobia</span> <span style=\"background-color:rgba(255,0,0,0.012717682402580976);\">is</span> <span style=\"background-color:rgba(255,0,0,0.020946343429386616);\">a</span> <span style=\"background-color:rgba(255,0,0,0.03602690063416958);\">disease</span> <span style=\"background-color:rgba(255,0,0,0.015048016794025898);\">you</span> <span style=\"background-color:rgba(255,0,0,0.4353410378098488);\">fucking</span> <span style=\"background-color:rgba(255,0,0,0.5576493218541145);\">queer</span>"
      ],
      "text/plain": [
       "<IPython.core.display.HTML object>"
      ]
     },
     "metadata": {},
     "output_type": "display_data"
    },
    {
     "data": {
      "text/html": [
       "rt @now_thats_fresh: <span style=\"background-color:rgba(255,0,0,0.004878548497799784);\">this</span> <span style=\"background-color:rgba(255,0,0,0.2129354141652584);\">nigga</span> <span style=\"background-color:rgba(255,0,0,0.0517440028488636);\">is</span> <span style=\"background-color:rgba(255,0,0,0.040336051024496555);\">a</span> <span style=\"background-color:rgba(255,0,0,0.009149210527539253);\">predator</span> <span style=\"background-color:rgba(255,0,0,0.009881689911708236);\">that</span> <span style=\"background-color:rgba(255,0,0,0.01168142189271748);\">makes</span> <span style=\"background-color:rgba(255,0,0,0.1574837788939476);\">terrible</span> <span style=\"background-color:rgba(255,0,0,0.01937819761224091);\">music</span> <span style=\"background-color:rgba(255,0,0,0.05265992600470781);\">lock</span> <span style=\"background-color:rgba(255,0,0,0.10935586877167225);\">him</span> <span style=\"background-color:rgba(255,0,0,0.2570381388068199);\">up</span> <span style=\"background-color:rgba(255,0,0,0.164561215788126);\">forever</span> https://t.co/9na6napvxr"
      ],
      "text/plain": [
       "<IPython.core.display.HTML object>"
      ]
     },
     "metadata": {},
     "output_type": "display_data"
    },
    {
     "data": {
      "text/html": [
       "nyc_kicks_collector's <span style=\"background-color:rgba(255,0,0,0.0013058351760264486);\">photo</span> https://t.co/r08syyjzpr <span style=\"background-color:rgba(255,0,0,0.001463789667468518);\">this</span> <span style=\"background-color:rgba(255,0,0,0.09419803507626057);\">nigga</span> <span style=\"background-color:rgba(255,0,0,0.9890328347682953);\">retarded</span>"
      ],
      "text/plain": [
       "<IPython.core.display.HTML object>"
      ]
     },
     "metadata": {},
     "output_type": "display_data"
    },
    {
     "data": {
      "text/html": [
       "<span style=\"background-color:rgba(255,0,0,0.0016485909873154014);\">might</span> <span style=\"background-color:rgba(255,0,0,0.0057339470367878675);\">pull</span> <span style=\"background-color:rgba(255,0,0,0.02547481097280979);\">up</span> <span style=\"background-color:rgba(255,0,0,0.21057212725281715);\">wit</span> <span style=\"background-color:rgba(255,0,0,0.07084784097969532);\">yo</span> <span style=\"background-color:rgba(255,0,0,0.4314093291759491);\">bitch</span> <span style=\"background-color:rgba(255,0,0,0.06448404397815466);\">just</span> <span style=\"background-color:rgba(255,0,0,0.0057146488688886166);\">to</span> <span style=\"background-color:rgba(255,0,0,0.0008431384048890322);\">make</span> <span style=\"background-color:rgba(255,0,0,0.0009650825086282566);\">these</span> <span style=\"background-color:rgba(255,0,0,0.038875697646290064);\">niggas</span> <span style=\"background-color:rgba(255,0,0,0.3403293341398239);\">sick</span>"
      ],
      "text/plain": [
       "<IPython.core.display.HTML object>"
      ]
     },
     "metadata": {},
     "output_type": "display_data"
    },
    {
     "data": {
      "text/html": [
       "<span style=\"background-color:rgba(255,0,0,0.053119976073503494);\">nigga</span> <span style=\"background-color:rgba(255,0,0,0.011550897033885121);\">i</span> <span style=\"background-color:rgba(255,0,0,0.00588546390645206);\">wish</span> <span style=\"background-color:rgba(255,0,0,0.0030623568454757333);\">the</span> <span style=\"background-color:rgba(255,0,0,0.07241533137857914);\">fuck</span> <span style=\"background-color:rgba(255,0,0,0.008046625298447907);\">you</span> <span style=\"background-color:rgba(255,0,0,0.004399387980811298);\">would</span> <span style=\"background-color:rgba(255,0,0,0.006843782030045986);\">hit</span> <span style=\"background-color:rgba(255,0,0,0.007334655383601785);\">me</span> <span style=\"background-color:rgba(255,0,0,0.018659962806850672);\">so</span> <span style=\"background-color:rgba(255,0,0,0.011550897033885121);\">i</span> <span style=\"background-color:rgba(255,0,0,0.0072453683242201805);\">could</span> <span style=\"background-color:rgba(255,0,0,0.03555246163159609);\">sue</span> <span style=\"background-color:rgba(255,0,0,0.020316559821367264);\">ya</span> <span style=\"background-color:rgba(255,0,0,0.4084857925772667);\">ugly</span> <span style=\"background-color:rgba(255,0,0,0.5371439084410667);\">ass</span> &#128405;&#127996;"
      ],
      "text/plain": [
       "<IPython.core.display.HTML object>"
      ]
     },
     "metadata": {},
     "output_type": "display_data"
    },
    {
     "data": {
      "text/html": [
       "rt @_eastsidepeezy: <span style=\"background-color:rgba(255,0,0,0.01456952653825283);\">a</span> <span style=\"background-color:rgba(255,0,0,0.2591830864548683);\">bitch</span> <span style=\"background-color:rgba(255,0,0,0.02924981527030468);\">know</span> <span style=\"background-color:rgba(255,0,0,0.009868066990748048);\">she</span> <span style=\"background-color:rgba(255,0,0,0.39632465690374374);\">ugly</span> <span style=\"background-color:rgba(255,0,0,0.01655350672081113);\">if</span> <span style=\"background-color:rgba(255,0,0,0.01456952653825283);\">a</span> <span style=\"background-color:rgba(255,0,0,0.3333212062716484);\">nigga</span> <span style=\"background-color:rgba(255,0,0,0.03586088074371219);\">got</span> <span style=\"background-color:rgba(255,0,0,0.01456952653825283);\">a</span> <span style=\"background-color:rgba(255,0,0,0.0033398537198081613);\">rubber</span> <span style=\"background-color:rgba(255,0,0,0.0023732731642667204);\">on</span> <span style=\"background-color:rgba(255,0,0,0.0013677336391992867);\">and</span> <span style=\"background-color:rgba(255,0,0,0.004606577567756176);\">he</span> <span style=\"background-color:rgba(255,0,0,0.022662398405373096);\">still</span> <span style=\"background-color:rgba(255,0,0,0.04415000323206186);\">pull</span> <span style=\"background-color:rgba(255,0,0,0.011742498027160764);\">out</span> &#128557;&#128557;"
      ],
      "text/plain": [
       "<IPython.core.display.HTML object>"
      ]
     },
     "metadata": {},
     "output_type": "display_data"
    },
    {
     "data": {
      "text/html": [
       "rt @mvrss: <span style=\"background-color:rgba(255,0,0,0.6474560499191284);\">bitch</span> <span style=\"background-color:rgba(255,0,0,0.13294652104377747);\">caught</span> <span style=\"background-color:rgba(255,0,0,0.005219555459916592);\">an</span> <span style=\"background-color:rgba(255,0,0,0.019628682639449835);\">attitude</span> w/ <span style=\"background-color:rgba(255,0,0,0.0016590759332757443);\">me</span> <span style=\"background-color:rgba(255,0,0,0.005119548295624554);\">cause</span> <span style=\"background-color:rgba(255,0,0,0.0047970490413717926);\">i</span> <span style=\"background-color:rgba(255,0,0,0.016266987659037113);\">almost</span> <span style=\"background-color:rgba(255,0,0,0.021794522181153297);\">ran</span> <span style=\"background-color:rgba(255,0,0,0.027388117741793394);\">her</span> over, <span style=\"background-color:rgba(255,0,0,0.04901063162833452);\">like</span> <span style=\"background-color:rgba(255,0,0,0.6474560499191284);\">bitch</span> <span style=\"background-color:rgba(255,0,0,0.026504690758883953);\">you</span> <span style=\"background-color:rgba(255,0,0,0.016266987659037113);\">almost</span> <span style=\"background-color:rgba(255,0,0,0.009377481765113771);\">got</span> <span style=\"background-color:rgba(255,0,0,0.005192466778680682);\">my</span> <span style=\"background-color:rgba(255,0,0,0.003275360504630953);\">car</span> <span style=\"background-color:rgba(255,0,0,0.04668534267693758);\">dirty</span> <span style=\"background-color:rgba(255,0,0,0.003909327206201851);\">with</span> <span style=\"background-color:rgba(255,0,0,0.0012243236415088177);\">your</span> blood, self-centere…"
      ],
      "text/plain": [
       "<IPython.core.display.HTML object>"
      ]
     },
     "metadata": {},
     "output_type": "display_data"
    },
    {
     "data": {
      "text/html": [
       "@blamekii @j_mend @don_athon @footlocker <span style=\"background-color:rgba(255,0,0,0.05965101532638073);\">bruh</span> <span style=\"background-color:rgba(255,0,0,0.005572132649831474);\">you</span> <span style=\"background-color:rgba(255,0,0,0.0033288259874098003);\">must</span> <span style=\"background-color:rgba(255,0,0,0.003897039277944714);\">be</span> <span style=\"background-color:rgba(255,0,0,0.0047522434033453465);\">the</span> <span style=\"background-color:rgba(255,0,0,0.00419063784647733);\">type</span> <span style=\"background-color:rgba(255,0,0,0.002599707222543657);\">of</span> <span style=\"background-color:rgba(255,0,0,0.16172731295228004);\">nigga</span> <span style=\"background-color:rgba(255,0,0,0.025026751682162285);\">that</span> <span style=\"background-color:rgba(255,0,0,0.025658365339040756);\">everyone</span> <span style=\"background-color:rgba(255,0,0,0.022263084538280964);\">walks</span> <span style=\"background-color:rgba(255,0,0,0.012343409471213818);\">all</span> <span style=\"background-color:rgba(255,0,0,0.04488073289394379);\">over</span> huh... <span style=\"background-color:rgba(255,0,0,0.04786733537912369);\">youre</span> <span style=\"background-color:rgba(255,0,0,0.028433159459382296);\">a</span> <span style=\"background-color:rgba(255,0,0,0.5317962914705276);\">fucking</span> <span style=\"background-color:rgba(255,0,0,0.05445295013487339);\">peasant</span>"
      ],
      "text/plain": [
       "<IPython.core.display.HTML object>"
      ]
     },
     "metadata": {},
     "output_type": "display_data"
    },
    {
     "data": {
      "text/html": [
       "rt @bluntofloud: <span style=\"background-color:rgba(255,0,0,0.005095262895338237);\">a</span> <span style=\"background-color:rgba(255,0,0,0.202815942466259);\">bitch</span> <span style=\"background-color:rgba(255,0,0,0.022533927112817764);\">can</span> <span style=\"background-color:rgba(255,0,0,0.024650287814438343);\">do</span> <span style=\"background-color:rgba(255,0,0,0.0008679781603859738);\">any</span> &amp; <span style=\"background-color:rgba(255,0,0,0.00407724262913689);\">everything</span> <span style=\"background-color:rgba(255,0,0,0.002093976072501391);\">for</span> <span style=\"background-color:rgba(255,0,0,0.005095262895338237);\">a</span> <span style=\"background-color:rgba(255,0,0,0.2623654156923294);\">nigga</span> .. <span style=\"background-color:rgba(255,0,0,0.021946406923234463);\">give</span> <span style=\"background-color:rgba(255,0,0,0.05439719185233116);\">him</span> <span style=\"background-color:rgba(255,0,0,0.04025775473564863);\">her</span> <span style=\"background-color:rgba(255,0,0,0.024697910994291306);\">all</span> &amp; <span style=\"background-color:rgba(255,0,0,0.018727182177826762);\">he</span> <span style=\"background-color:rgba(255,0,0,0.014610637445002794);\">will</span> <span style=\"background-color:rgba(255,0,0,0.04607277922332287);\">still</span> <span style=\"background-color:rgba(255,0,0,0.024650287814438343);\">do</span> <span style=\"background-color:rgba(255,0,0,0.04025775473564863);\">her</span> dirty&#128175;"
      ],
      "text/plain": [
       "<IPython.core.display.HTML object>"
      ]
     },
     "metadata": {},
     "output_type": "display_data"
    },
    {
     "data": {
      "text/html": [
       "rt @hermstaa_: <span style=\"background-color:rgba(255,0,0,0.0012990483082830906);\">you</span> <span style=\"background-color:rgba(255,0,0,0.0015529112715739757);\">need</span> <span style=\"background-color:rgba(255,0,0,0.008698452147655189);\">to</span> <span style=\"background-color:rgba(255,0,0,0.0023975802469067276);\">take</span> <span style=\"background-color:rgba(255,0,0,0.0016902510833460838);\">your</span> <span style=\"background-color:rgba(255,0,0,0.1882394216954708);\">ass</span> <span style=\"background-color:rgba(255,0,0,0.008698452147655189);\">to</span> <span style=\"background-color:rgba(255,0,0,0.0038528480217792094);\">the</span> <span style=\"background-color:rgba(255,0,0,0.00788546574767679);\">gym</span> <span style=\"background-color:rgba(255,0,0,0.029971404001116753);\">fat</span> <span style=\"background-color:rgba(255,0,0,0.1882394216954708);\">ass</span> <span style=\"background-color:rgba(255,0,0,0.43226078152656555);\">nigga</span> <span style=\"background-color:rgba(255,0,0,0.0012990483082830906);\">you</span> <span style=\"background-color:rgba(255,0,0,0.0038528480217792094);\">the</span> <span style=\"background-color:rgba(255,0,0,0.03517467528581619);\">worst</span> <span style=\"background-color:rgba(255,0,0,0.01626981538720429);\">work</span> <span style=\"background-color:rgba(255,0,0,0.007449786644428968);\">out</span> <span style=\"background-color:rgba(255,0,0,0.0013727751502301544);\">partner</span> <span style=\"background-color:rgba(255,0,0,0.001054687745636329);\">how</span> <span style=\"background-color:rgba(255,0,0,0.0012990483082830906);\">you</span> <span style=\"background-color:rgba(255,0,0,0.016428601229563355);\">gonna</span> <span style=\"background-color:rgba(255,0,0,0.18803497776389122);\">stop</span> <span style=\"background-color:rgba(255,0,0,0.08885500952601433);\">going</span> <span style=\"background-color:rgba(255,0,0,0.021553703118115664);\">with</span> <span style=\"background-color:rgba(255,0,0,0.03070483449846506);\">me</span> https://t…"
      ],
      "text/plain": [
       "<IPython.core.display.HTML object>"
      ]
     },
     "metadata": {},
     "output_type": "display_data"
    },
    {
     "data": {
      "text/html": [
       "<span style=\"background-color:rgba(255,0,0,0.04737239796668291);\">damn</span> <span style=\"background-color:rgba(255,0,0,0.38452792912721634);\">bitch</span> he's <span style=\"background-color:rgba(255,0,0,0.007471507997252047);\">messaging</span> <span style=\"background-color:rgba(255,0,0,0.009500017040409148);\">me</span> <span style=\"background-color:rgba(255,0,0,0.002528885379433632);\">and</span> <span style=\"background-color:rgba(255,0,0,0.0011733215069398284);\">has</span> <span style=\"background-color:rgba(255,0,0,0.0014548702165484428);\">you</span> <span style=\"background-color:rgba(255,0,0,0.003680588852148503);\">who</span> <span style=\"background-color:rgba(255,0,0,0.01759213162586093);\">else</span> <span style=\"background-color:rgba(255,0,0,0.013081250945106149);\">he</span> <span style=\"background-color:rgba(255,0,0,0.29260512441396713);\">fucking</span> <span style=\"background-color:rgba(255,0,0,0.02344107488170266);\">with</span> , <span style=\"background-color:rgba(255,0,0,0.054147662594914436);\">looks</span> <span style=\"background-color:rgba(255,0,0,0.04264086950570345);\">like</span> <span style=\"background-color:rgba(255,0,0,0.006869307835586369);\">your</span> <span style=\"background-color:rgba(255,0,0,0.18525728955864906);\">nigga</span> <span style=\"background-color:rgba(255,0,0,0.02038779202848673);\">got</span> <span style=\"background-color:rgba(255,0,0,0.005688377423211932);\">that</span> <span style=\"background-color:rgba(255,0,0,0.0018265677499584854);\">community</span> <span style=\"background-color:rgba(255,0,0,0.0331607018597424);\">dick</span> <span style=\"background-color:rgba(255,0,0,0.036889619659632444);\">boo</span> &#128132;&#128133;&#127998;"
      ],
      "text/plain": [
       "<IPython.core.display.HTML object>"
      ]
     },
     "metadata": {},
     "output_type": "display_data"
    },
    {
     "data": {
      "text/html": [
       "@michael12cox <span style=\"background-color:rgba(255,0,0,0.01881441450677812);\">is</span> <span style=\"background-color:rgba(255,0,0,0.004141408717259765);\">a</span> <span style=\"background-color:rgba(255,0,0,0.03713964717462659);\">bad</span> <span style=\"background-color:rgba(255,0,0,0.20138448104262352);\">ass</span> dude. <span style=\"background-color:rgba(255,0,0,0.019880929030478);\">he</span> <span style=\"background-color:rgba(255,0,0,0.006616079481318593);\">got</span> <span style=\"background-color:rgba(255,0,0,0.004141408717259765);\">a</span> <span style=\"background-color:rgba(255,0,0,0.3816976770758629);\">goat</span> <span style=\"background-color:rgba(255,0,0,0.05456225015223026);\">because</span> <span style=\"background-color:rgba(255,0,0,0.019880929030478);\">he</span> <span style=\"background-color:rgba(255,0,0,0.01881441450677812);\">is</span> <span style=\"background-color:rgba(255,0,0,0.013959499774500728);\">the</span> <span style=\"background-color:rgba(255,0,0,0.3816976770758629);\">goat</span>"
      ],
      "text/plain": [
       "<IPython.core.display.HTML object>"
      ]
     },
     "metadata": {},
     "output_type": "display_data"
    },
    {
     "data": {
      "text/html": [
       "rt @ynaoivw: <span style=\"background-color:rgba(255,0,0,0.04113699309527874);\">nah</span> <span style=\"background-color:rgba(255,0,0,0.4832594096660614);\">bitch</span> <span style=\"background-color:rgba(255,0,0,0.03949998412281275);\">i</span> <span style=\"background-color:rgba(255,0,0,0.5406365171074867);\">hate</span> <span style=\"background-color:rgba(255,0,0,0.08264984004199505);\">u</span> https://t.co/fhx8y7esmh"
      ],
      "text/plain": [
       "<IPython.core.display.HTML object>"
      ]
     },
     "metadata": {},
     "output_type": "display_data"
    },
    {
     "data": {
      "text/html": [
       "rt @bcmoneyman86: <span style=\"background-color:rgba(255,0,0,0.094435540959239);\">niggas</span> <span style=\"background-color:rgba(255,0,0,0.08867388591170311);\">hatin</span> <span style=\"background-color:rgba(255,0,0,0.018911780789494514);\">n</span> <span style=\"background-color:rgba(255,0,0,0.006725139683112502);\">that</span> <span style=\"background-color:rgba(255,0,0,0.11928293853998184);\">shit</span> <span style=\"background-color:rgba(255,0,0,0.7885859161615372);\">pathetic</span> https://t.co/5h6q1qr7e3"
      ],
      "text/plain": [
       "<IPython.core.display.HTML object>"
      ]
     },
     "metadata": {},
     "output_type": "display_data"
    },
    {
     "data": {
      "text/html": [
       "rt @desiraye_: it's <span style=\"background-color:rgba(255,0,0,0.023993144277483225);\">merched</span> <span style=\"background-color:rgba(255,0,0,0.41955389082431793);\">niggas</span> <span style=\"background-color:rgba(255,0,0,0.052769025787711143);\">be</span> <span style=\"background-color:rgba(255,0,0,0.055425651371479034);\">just</span> <span style=\"background-color:rgba(255,0,0,0.016792656388133764);\">as</span> <span style=\"background-color:rgba(255,0,0,0.1840311475098133);\">crazy</span> <span style=\"background-color:rgba(255,0,0,0.016792656388133764);\">as</span> bitches&#128553;&#128557;"
      ],
      "text/plain": [
       "<IPython.core.display.HTML object>"
      ]
     },
     "metadata": {},
     "output_type": "display_data"
    },
    {
     "data": {
      "text/html": [
       "@kelvin_derkins @mystways <span style=\"background-color:rgba(255,0,0,0.003298629599157721);\">carl</span> <span style=\"background-color:rgba(255,0,0,0.004045682435389608);\">is</span> <span style=\"background-color:rgba(255,0,0,0.0072148110484704375);\">a</span> <span style=\"background-color:rgba(255,0,0,0.263683944940567);\">fucking</span> <span style=\"background-color:rgba(255,0,0,0.6548187881708145);\">loser</span> <span style=\"background-color:rgba(255,0,0,0.07237384095788002);\">who</span> <span style=\"background-color:rgba(255,0,0,0.027906775940209627);\">should</span> <span style=\"background-color:rgba(255,0,0,0.16442440450191498);\">die</span> <span style=\"background-color:rgba(255,0,0,0.016397254075855017);\">with</span> <span style=\"background-color:rgba(255,0,0,0.0005709200922865421);\">gimple</span>"
      ],
      "text/plain": [
       "<IPython.core.display.HTML object>"
      ]
     },
     "metadata": {},
     "output_type": "display_data"
    },
    {
     "data": {
      "text/html": [
       "rt @_trillsap_: @slayclamps <span style=\"background-color:rgba(255,0,0,0.006118258461356163);\">i</span> <span style=\"background-color:rgba(255,0,0,0.004705838218796998);\">hope</span> <span style=\"background-color:rgba(255,0,0,0.008900673710741103);\">a</span> <span style=\"background-color:rgba(255,0,0,0.008525651646777987);\">tornado</span> <span style=\"background-color:rgba(255,0,0,0.005855770432390273);\">destroys</span> <span style=\"background-color:rgba(255,0,0,0.017463997937738895);\">ur</span> <span style=\"background-color:rgba(255,0,0,0.03822027472779155);\">house</span> <span style=\"background-color:rgba(255,0,0,0.04325966350734234);\">u</span> <span style=\"background-color:rgba(255,0,0,0.6550208479166031);\">fucking</span> <span style=\"background-color:rgba(255,0,0,0.3246501460671425);\">jew</span>"
      ],
      "text/plain": [
       "<IPython.core.display.HTML object>"
      ]
     },
     "metadata": {},
     "output_type": "display_data"
    },
    {
     "data": {
      "text/html": [
       "<span style=\"background-color:rgba(255,0,0,0.007985047996044159);\">rebecca</span> <span style=\"background-color:rgba(255,0,0,0.004365200875326991);\">please</span> <span style=\"background-color:rgba(255,0,0,0.04423389211297035);\">just</span> <span style=\"background-color:rgba(255,0,0,0.1366251613944769);\">fuck</span> off, <span style=\"background-color:rgba(255,0,0,0.01589461346156895);\">do</span> one, <span style=\"background-color:rgba(255,0,0,0.04423389211297035);\">just</span> <span style=\"background-color:rgba(255,0,0,0.0015350179455708712);\">get</span> lost! <span style=\"background-color:rgba(255,0,0,0.017427512211725116);\">take</span> <span style=\"background-color:rgba(255,0,0,0.007948060519993305);\">you</span> <span style=\"background-color:rgba(255,0,0,0.004638296086341143);\">and</span> <span style=\"background-color:rgba(255,0,0,0.0040412883390672505);\">your</span> <span style=\"background-color:rgba(255,0,0,0.007901765638962388);\">unborn</span> <span style=\"background-color:rgba(255,0,0,0.009813448414206505);\">baby</span> &amp; <span style=\"background-color:rgba(255,0,0,0.006230379804037511);\">go</span> away; <span style=\"background-color:rgba(255,0,0,0.04423389211297035);\">just</span> <span style=\"background-color:rgba(255,0,0,0.04326888360083103);\">hanging</span> <span style=\"background-color:rgba(255,0,0,0.0015264566172845662);\">round</span> <span style=\"background-color:rgba(255,0,0,0.002220858441432938);\">the</span> <span style=\"background-color:rgba(255,0,0,0.022227505687624216);\">dales</span> <span style=\"background-color:rgba(255,0,0,0.029577871318906546);\">like</span> <span style=\"background-color:rgba(255,0,0,0.02205190248787403);\">a</span> <span style=\"background-color:rgba(255,0,0,0.21676866337656975);\">bad</span> <span style=\"background-color:rgba(255,0,0,0.36781154572963715);\">smell</span>"
      ],
      "text/plain": [
       "<IPython.core.display.HTML object>"
      ]
     },
     "metadata": {},
     "output_type": "display_data"
    },
    {
     "data": {
      "text/html": [
       "<span style=\"background-color:rgba(255,0,0,0.010964348912239075);\">my</span> <span style=\"background-color:rgba(255,0,0,0.38900870829820633);\">nigga</span> <span style=\"background-color:rgba(255,0,0,0.03277927404269576);\">simba</span> <span style=\"background-color:rgba(255,0,0,0.019540602806955576);\">went</span> <span style=\"background-color:rgba(255,0,0,0.007840550970286131);\">from</span> <span style=\"background-color:rgba(255,0,0,0.1449714321643114);\">bad</span> <span style=\"background-color:rgba(255,0,0,0.005626210477203131);\">mon</span> <span style=\"background-color:rgba(255,0,0,0.0036291228025220335);\">to</span> battybwoy. <span style=\"background-color:rgba(255,0,0,0.012760453391820192);\">what</span> <span style=\"background-color:rgba(255,0,0,0.05713285878300667);\">world</span> <span style=\"background-color:rgba(255,0,0,0.11007224209606647);\">is</span> this??"
      ],
      "text/plain": [
       "<IPython.core.display.HTML object>"
      ]
     },
     "metadata": {},
     "output_type": "display_data"
    },
    {
     "data": {
      "text/html": [
       "rt @_taylorjordane: <span style=\"background-color:rgba(255,0,0,0.09121755138039589);\">niggas</span> <span style=\"background-color:rgba(255,0,0,0.005951811908744276);\">got</span> <span style=\"background-color:rgba(255,0,0,0.0075689388904720545);\">me</span> <span style=\"background-color:rgba(255,0,0,0.05641278810799122);\">fucked</span> up. <span style=\"background-color:rgba(255,0,0,0.24293672293424606);\">bitches</span> <span style=\"background-color:rgba(255,0,0,0.005951811908744276);\">got</span> <span style=\"background-color:rgba(255,0,0,0.0075689388904720545);\">me</span> <span style=\"background-color:rgba(255,0,0,0.05641278810799122);\">fucked</span> up. <span style=\"background-color:rgba(255,0,0,0.009128091624006629);\">school</span> <span style=\"background-color:rgba(255,0,0,0.005951811908744276);\">got</span> <span style=\"background-color:rgba(255,0,0,0.0075689388904720545);\">me</span> <span style=\"background-color:rgba(255,0,0,0.05641278810799122);\">fucked</span> up. <span style=\"background-color:rgba(255,0,0,0.008584320894442499);\">life</span> <span style=\"background-color:rgba(255,0,0,0.005951811908744276);\">got</span> <span style=\"background-color:rgba(255,0,0,0.0075689388904720545);\">me</span> <span style=\"background-color:rgba(255,0,0,0.05641278810799122);\">fucked</span> <span style=\"background-color:rgba(255,0,0,0.06446067243814468);\">up</span> <span style=\"background-color:rgba(255,0,0,0.06369364447891712);\">so</span> <span style=\"background-color:rgba(255,0,0,0.19581250846385956);\">ima</span> <span style=\"background-color:rgba(255,0,0,0.006933262338861823);\">get</span> <span style=\"background-color:rgba(255,0,0,0.05641278810799122);\">fucked</span> up…"
      ],
      "text/plain": [
       "<IPython.core.display.HTML object>"
      ]
     },
     "metadata": {},
     "output_type": "display_data"
    },
    {
     "data": {
      "text/html": [
       "@eyadmu90 @imuhgames @easportsfifa @sonealuko @darealakinfenwa <span style=\"background-color:rgba(255,0,0,0.00967759289778769);\">where</span> <span style=\"background-color:rgba(255,0,0,0.014083550777286291);\">are</span> <span style=\"background-color:rgba(255,0,0,0.011765474919229746);\">the</span> <span style=\"background-color:rgba(255,0,0,0.17719874158501625);\">fucking</span> <span style=\"background-color:rgba(255,0,0,0.031550026033073664);\">gifts</span> <span style=\"background-color:rgba(255,0,0,0.006500988965854049);\">you</span> <span style=\"background-color:rgba(255,0,0,0.17719874158501625);\">fucking</span> <span style=\"background-color:rgba(255,0,0,0.463411845266819);\">dickhead</span>"
      ],
      "text/plain": [
       "<IPython.core.display.HTML object>"
      ]
     },
     "metadata": {},
     "output_type": "display_data"
    },
    {
     "data": {
      "text/html": [
       "rt @deaconlunchbox: <span style=\"background-color:rgba(255,0,0,0.0034397904528304935);\">pull</span> <span style=\"background-color:rgba(255,0,0,0.004957822384312749);\">her</span> <span style=\"background-color:rgba(255,0,0,0.1788889244198799);\">fucking</span> <span style=\"background-color:rgba(255,0,0,0.03719041356816888);\">license</span> <span style=\"background-color:rgba(255,0,0,0.012520874151960015);\">like</span> <span style=\"background-color:rgba(255,0,0,0.0037409915239550173);\">the</span> <span style=\"background-color:rgba(255,0,0,0.0017953508358914405);\">clintons</span> <span style=\"background-color:rgba(255,0,0,0.0010902887879638001);\">and</span> obamas! <span style=\"background-color:rgba(255,0,0,0.1788889244198799);\">fucking</span> cunt! https://t.co/2eetutlebo"
      ],
      "text/plain": [
       "<IPython.core.display.HTML object>"
      ]
     },
     "metadata": {},
     "output_type": "display_data"
    },
    {
     "data": {
      "text/html": [
       "<span style=\"background-color:rgba(255,0,0,0.00048522364522796124);\">have</span> <span style=\"background-color:rgba(255,0,0,0.0047598849050700665);\">i</span> <span style=\"background-color:rgba(255,0,0,0.0012064887414453551);\">ever</span> <span style=\"background-color:rgba(255,0,0,0.009586570668034256);\">mentioned</span> <span style=\"background-color:rgba(255,0,0,0.0031715576187707484);\">how</span> <span style=\"background-color:rgba(255,0,0,0.002780223439913243);\">much</span> <span style=\"background-color:rgba(255,0,0,0.0047598849050700665);\">i</span> <span style=\"background-color:rgba(255,0,0,0.12858170084655285);\">fucking</span> <span style=\"background-color:rgba(255,0,0,0.998915359377861);\">hate</span> <span style=\"background-color:rgba(255,0,0,0.05777403246611357);\">my</span> <span style=\"background-color:rgba(255,0,0,0.01954637235030532);\">sister</span>"
      ],
      "text/plain": [
       "<IPython.core.display.HTML object>"
      ]
     },
     "metadata": {},
     "output_type": "display_data"
    },
    {
     "data": {
      "text/html": [
       "[dude]: well, <span style=\"background-color:rgba(255,0,0,0.007403712370432913);\">i</span> <span style=\"background-color:rgba(255,0,0,0.009430507780052722);\">guess</span> <span style=\"background-color:rgba(255,0,0,0.007137879729270935);\">the</span> <span style=\"background-color:rgba(255,0,0,0.1944262720644474);\">fucking</span> <span style=\"background-color:rgba(255,0,0,0.007035305607132614);\">nihilist</span> <span style=\"background-color:rgba(255,0,0,0.027479392010718584);\">knew</span> <span style=\"background-color:rgba(255,0,0,0.02222853945568204);\">where</span> <span style=\"background-color:rgba(255,0,0,0.048729851841926575);\">she</span> was. [walter]: jesus, dude! <span style=\"background-color:rgba(255,0,0,0.048729851841926575);\">she</span> <span style=\"background-color:rgba(255,0,0,0.014108802424743772);\">never</span> <span style=\"background-color:rgba(255,0,0,0.01321540679782629);\">even</span> <span style=\"background-color:rgba(255,0,0,0.02116266405209899);\">kidnapped</span> hers… https://t.co/oiycds8y25"
      ],
      "text/plain": [
       "<IPython.core.display.HTML object>"
      ]
     },
     "metadata": {},
     "output_type": "display_data"
    },
    {
     "data": {
      "text/html": [
       "<span style=\"background-color:rgba(255,0,0,0.004420145123731345);\">i</span> <span style=\"background-color:rgba(255,0,0,0.005165672628208995);\">put</span> <span style=\"background-color:rgba(255,0,0,0.001966352720046416);\">my</span> <span style=\"background-color:rgba(255,0,0,0.0008801972580840811);\">iphone</span> <span style=\"background-color:rgba(255,0,0,0.001344610209343955);\">in</span> <span style=\"background-color:rgba(255,0,0,0.001966352720046416);\">my</span> <span style=\"background-color:rgba(255,0,0,0.0008825779514154419);\">pocket</span> <span style=\"background-color:rgba(255,0,0,0.0006851264333818108);\">with</span> <span style=\"background-color:rgba(255,0,0,0.005138401756994426);\">scratchy</span> <span style=\"background-color:rgba(255,0,0,0.009489779477007687);\">things</span> <span style=\"background-color:rgba(255,0,0,0.00571638869587332);\">and</span> <span style=\"background-color:rgba(255,0,0,0.00705088721588254);\">now</span> <span style=\"background-color:rgba(255,0,0,0.006984969950281084);\">its</span> <span style=\"background-color:rgba(255,0,0,0.019686054438352585);\">all</span> <span style=\"background-color:rgba(255,0,0,0.016355280531570315);\">scratched</span> <span style=\"background-color:rgba(255,0,0,0.01068107201717794);\">on</span> <span style=\"background-color:rgba(255,0,0,0.010469499975442886);\">the</span> <span style=\"background-color:rgba(255,0,0,0.005325331585481763);\">screen</span> <span style=\"background-color:rgba(255,0,0,0.13053515926003456);\">fucking</span> <span style=\"background-color:rgba(255,0,0,0.614594891667366);\">moron</span> <span style=\"background-color:rgba(255,0,0,0.33415835350751877);\">over</span> <span style=\"background-color:rgba(255,0,0,0.013950620777904987);\">here</span>"
      ],
      "text/plain": [
       "<IPython.core.display.HTML object>"
      ]
     },
     "metadata": {},
     "output_type": "display_data"
    },
    {
     "data": {
      "text/html": [
       "<span style=\"background-color:rgba(255,0,0,0.3880784288048744);\">niggas</span> <span style=\"background-color:rgba(255,0,0,0.07565819658339024);\">always</span> <span style=\"background-color:rgba(255,0,0,0.026025061961263418);\">playing</span> <span style=\"background-color:rgba(255,0,0,0.006228092825040221);\">madden</span> <span style=\"background-color:rgba(255,0,0,0.007537955534644425);\">that</span> <span style=\"background-color:rgba(255,0,0,0.2552785165607929);\">shit</span> <span style=\"background-color:rgba(255,0,0,0.04717353265732527);\">type</span> <span style=\"background-color:rgba(255,0,0,0.19846804440021515);\">boring</span> &#128580;"
      ],
      "text/plain": [
       "<IPython.core.display.HTML object>"
      ]
     },
     "metadata": {},
     "output_type": "display_data"
    },
    {
     "data": {
      "text/html": [
       "rt @paulnotringo: <span style=\"background-color:rgba(255,0,0,0.0173198280390352);\">who</span> <span style=\"background-color:rgba(255,0,0,0.010788646759465337);\">sculpted</span> <span style=\"background-color:rgba(255,0,0,0.023469517473131418);\">that</span> - <span style=\"background-color:rgba(255,0,0,0.020555125083774328);\">lionel</span> <span style=\"background-color:rgba(255,0,0,0.7916617393493652);\">fucking</span> <span style=\"background-color:rgba(255,0,0,0.15726465731859207);\">messi</span> ?? https://t.co/tlx43f5vyg"
      ],
      "text/plain": [
       "<IPython.core.display.HTML object>"
      ]
     },
     "metadata": {},
     "output_type": "display_data"
    },
    {
     "data": {
      "text/html": [
       "rt @03252003d: <span style=\"background-color:rgba(255,0,0,0.4708104208111763);\">niggas</span> <span style=\"background-color:rgba(255,0,0,0.014097809325903654);\">camping</span> <span style=\"background-color:rgba(255,0,0,0.00386875617550686);\">for</span> <span style=\"background-color:rgba(255,0,0,0.005918675451539457);\">the</span> royals? <span style=\"background-color:rgba(255,0,0,0.0032442627707496285);\">get</span> <span style=\"background-color:rgba(255,0,0,0.013043389189988375);\">me</span> <span style=\"background-color:rgba(255,0,0,0.18155211582779884);\">fucked</span> <span style=\"background-color:rgba(255,0,0,0.2617358975112438);\">up</span>"
      ],
      "text/plain": [
       "<IPython.core.display.HTML object>"
      ]
     },
     "metadata": {},
     "output_type": "display_data"
    },
    {
     "data": {
      "text/html": [
       "@kristy20pennn <span style=\"background-color:rgba(255,0,0,0.0003407568874536082);\">damnnnnnnn</span> girl!! <span style=\"background-color:rgba(255,0,0,0.0005634711851598695);\">as</span> <span style=\"background-color:rgba(255,0,0,0.0014357019972521812);\">in</span> <span style=\"background-color:rgba(255,0,0,0.0671576103195548);\">damn</span> <span style=\"background-color:rgba(255,0,0,0.008735802839510143);\">you</span> <span style=\"background-color:rgba(255,0,0,0.008574348175898194);\">are</span> <span style=\"background-color:rgba(255,0,0,0.3375062346458435);\">ugly</span> hoe!!"
      ],
      "text/plain": [
       "<IPython.core.display.HTML object>"
      ]
     },
     "metadata": {},
     "output_type": "display_data"
    },
    {
     "data": {
      "text/html": [
       "rt @ombbloodbath: <span style=\"background-color:rgba(255,0,0,0.0010687048779800534);\">you</span> <span style=\"background-color:rgba(255,0,0,0.03706470597535372);\">hoes</span> <span style=\"background-color:rgba(255,0,0,0.007247336907312274);\">be</span> <span style=\"background-color:rgba(255,0,0,0.06468101404607296);\">sooooo</span> <span style=\"background-color:rgba(255,0,0,0.5452185869216919);\">ugly</span> <span style=\"background-color:rgba(255,0,0,0.3128446638584137);\">dawg</span> <span style=\"background-color:rgba(255,0,0,0.23870911449193954);\">uglasss</span>"
      ],
      "text/plain": [
       "<IPython.core.display.HTML object>"
      ]
     },
     "metadata": {},
     "output_type": "display_data"
    },
    {
     "data": {
      "text/html": [
       "rt @__itsdot: <span style=\"background-color:rgba(255,0,0,0.02436616225168109);\">niggas</span> <span style=\"background-color:rgba(255,0,0,0.006876724073663354);\">think</span> <span style=\"background-color:rgba(255,0,0,0.027452437207102776);\">weed</span> &amp; <span style=\"background-color:rgba(255,0,0,0.0009440776921110228);\">henny</span> <span style=\"background-color:rgba(255,0,0,0.000938575976761058);\">is</span> <span style=\"background-color:rgba(255,0,0,0.0008837878704071045);\">life</span> <span style=\"background-color:rgba(255,0,0,0.0012863783922512084);\">then</span> <span style=\"background-color:rgba(255,0,0,0.004112649185117334);\">wonder</span> <span style=\"background-color:rgba(255,0,0,0.012216742616146803);\">why</span> <span style=\"background-color:rgba(255,0,0,0.008538736146874726);\">they</span> miserable. <span style=\"background-color:rgba(255,0,0,0.17241189256310463);\">moms</span> don't <span style=\"background-color:rgba(255,0,0,0.05183795001357794);\">fuck</span> w/ them, <span style=\"background-color:rgba(255,0,0,0.01076856511645019);\">cant</span> <span style=\"background-color:rgba(255,0,0,0.006804855074733496);\">keep</span> <span style=\"background-color:rgba(255,0,0,0.00537073181476444);\">a</span> bitch, <span style=\"background-color:rgba(255,0,0,0.1558937318623066);\">broke</span> &amp; dirty.…"
      ],
      "text/plain": [
       "<IPython.core.display.HTML object>"
      ]
     },
     "metadata": {},
     "output_type": "display_data"
    },
    {
     "data": {
      "text/html": [
       "<span style=\"background-color:rgba(255,0,0,0.006459355936385691);\">idk</span> <span style=\"background-color:rgba(255,0,0,0.009935033740475774);\">why</span> <span style=\"background-color:rgba(255,0,0,0.11881114915013313);\">niggas</span> <span style=\"background-color:rgba(255,0,0,0.011571438517421484);\">feel</span> <span style=\"background-color:rgba(255,0,0,0.017721395706757903);\">like</span> <span style=\"background-color:rgba(255,0,0,0.004663654253818095);\">they</span> <span style=\"background-color:rgba(255,0,0,0.0038106853025965393);\">can</span> <span style=\"background-color:rgba(255,0,0,0.0008583904127590358);\">come</span> <span style=\"background-color:rgba(255,0,0,0.004916169564239681);\">into</span> <span style=\"background-color:rgba(255,0,0,0.004865858645644039);\">my</span> <span style=\"background-color:rgba(255,0,0,0.003437502309679985);\">life</span> <span style=\"background-color:rgba(255,0,0,0.004002622154075652);\">when</span> <span style=\"background-color:rgba(255,0,0,0.004250155761837959);\">ever</span> <span style=\"background-color:rgba(255,0,0,0.004663654253818095);\">they</span> <span style=\"background-color:rgba(255,0,0,0.011571438517421484);\">feel</span> <span style=\"background-color:rgba(255,0,0,0.017721395706757903);\">like</span> it. <span style=\"background-color:rgba(255,0,0,0.21208781749010086);\">fucking</span> <span style=\"background-color:rgba(255,0,0,0.6969550997018814);\">clowns</span>"
      ],
      "text/plain": [
       "<IPython.core.display.HTML object>"
      ]
     },
     "metadata": {},
     "output_type": "display_data"
    },
    {
     "data": {
      "text/html": [
       "rt @famoustyier: <span style=\"background-color:rgba(255,0,0,0.10569019243121147);\">damn</span> <span style=\"background-color:rgba(255,0,0,0.03817399963736534);\">westbrook</span> <span style=\"background-color:rgba(255,0,0,0.0937541201710701);\">beating</span> <span style=\"background-color:rgba(255,0,0,0.10569374077022076);\">him</span> <span style=\"background-color:rgba(255,0,0,0.11908764019608498);\">so</span> <span style=\"background-color:rgba(255,0,0,0.3781944513320923);\">bad</span> <span style=\"background-color:rgba(255,0,0,0.07257767021656036);\">in</span> <span style=\"background-color:rgba(255,0,0,0.02717677503824234);\">the</span> <span style=\"background-color:rgba(255,0,0,0.06005668547004461);\">mvp</span> <span style=\"background-color:rgba(255,0,0,0.02307882998138666);\">race</span> <span style=\"background-color:rgba(255,0,0,0.03330009523779154);\">he</span> <span style=\"background-color:rgba(255,0,0,0.024937617126852274);\">had</span> <span style=\"background-color:rgba(255,0,0,0.01623863587155938);\">to</span> <span style=\"background-color:rgba(255,0,0,0.014598659472540021);\">start</span> <span style=\"background-color:rgba(255,0,0,0.04536927677690983);\">drinking</span> <span style=\"background-color:rgba(255,0,0,0.049280524253845215);\">before</span> <span style=\"background-color:rgba(255,0,0,0.00300700863590464);\">games</span> https://t.co/aeu8m3pgqx"
      ],
      "text/plain": [
       "<IPython.core.display.HTML object>"
      ]
     },
     "metadata": {},
     "output_type": "display_data"
    },
    {
     "data": {
      "text/html": [
       "<span style=\"background-color:rgba(255,0,0,0.006704365951009095);\">oh</span> <span style=\"background-color:rgba(255,0,0,0.0019465987861622125);\">you</span> <span style=\"background-color:rgba(255,0,0,0.002795028849504888);\">must</span> <span style=\"background-color:rgba(255,0,0,0.0043000359437428415);\">be</span> <span style=\"background-color:rgba(255,0,0,0.2764371782541275);\">mad</span> <span style=\"background-color:rgba(255,0,0,0.0430880906060338);\">that</span> <span style=\"background-color:rgba(255,0,0,0.009105541976168752);\">your</span> <span style=\"background-color:rgba(255,0,0,0.28275180608034134);\">nigga</span> <span style=\"background-color:rgba(255,0,0,0.03174967598170042);\">got</span> <span style=\"background-color:rgba(255,0,0,0.10264839977025986);\">caught</span> <span style=\"background-color:rgba(255,0,0,0.10793225839734077);\">sucking</span> <span style=\"background-color:rgba(255,0,0,0.13152646832168102);\">dick</span> <span style=\"background-color:rgba(255,0,0,0.003240060177631676);\">for</span> <span style=\"background-color:rgba(255,0,0,0.0008084191358648241);\">money</span> <span style=\"background-color:rgba(255,0,0,0.02544622402638197);\">lmfaooo</span> <span style=\"background-color:rgba(255,0,0,0.003227323468308896);\">and</span> <span style=\"background-color:rgba(255,0,0,0.0019465987861622125);\">you</span> <span style=\"background-color:rgba(255,0,0,0.007423498318530619);\">still</span> <span style=\"background-color:rgba(255,0,0,0.05313620436936617);\">fw</span> <span style=\"background-color:rgba(255,0,0,0.08900453336536884);\">him</span>"
      ],
      "text/plain": [
       "<IPython.core.display.HTML object>"
      ]
     },
     "metadata": {},
     "output_type": "display_data"
    },
    {
     "data": {
      "text/html": [
       "rt @3galyssa: <span style=\"background-color:rgba(255,0,0,0.0041815388249233365);\">i</span> <span style=\"background-color:rgba(255,0,0,0.23705368861556053);\">hate</span> <span style=\"background-color:rgba(255,0,0,0.0505623035132885);\">a</span> <span style=\"background-color:rgba(255,0,0,0.0681367190554738);\">girl</span> <span style=\"background-color:rgba(255,0,0,0.04513596650213003);\">thats</span> <span style=\"background-color:rgba(255,0,0,0.018403063295409083);\">always</span> <span style=\"background-color:rgba(255,0,0,0.023906673304736614);\">sippin</span> <span style=\"background-color:rgba(255,0,0,0.10076604783535004);\">somebody</span> <span style=\"background-color:rgba(255,0,0,0.0039158694562502205);\">elses</span> tea, <span style=\"background-color:rgba(255,0,0,0.004480915958993137);\">skrt</span> <span style=\"background-color:rgba(255,0,0,0.002723947982303798);\">your</span> <span style=\"background-color:rgba(255,0,0,0.04562540911138058);\">nosey</span> <span style=\"background-color:rgba(255,0,0,0.42939331382513046);\">ass</span> <span style=\"background-color:rgba(255,0,0,0.07828665897250175);\">somewhere</span> else."
      ],
      "text/plain": [
       "<IPython.core.display.HTML object>"
      ]
     },
     "metadata": {},
     "output_type": "display_data"
    },
    {
     "data": {
      "text/html": [
       "<span style=\"background-color:rgba(255,0,0,0.19671136513352394);\">stupid</span> #neocons <span style=\"background-color:rgba(255,0,0,0.7947874069213867);\">pissed</span> <span style=\"background-color:rgba(255,0,0,0.053280522115528584);\">that</span> #trump won’t <span style=\"background-color:rgba(255,0,0,0.01701958943158388);\">take</span> <span style=\"background-color:rgba(255,0,0,0.012092049000784755);\">the</span> <span style=\"background-color:rgba(255,0,0,0.01449897070415318);\">bait</span> <span style=\"background-color:rgba(255,0,0,0.00495362444780767);\">and</span> <span style=\"background-color:rgba(255,0,0,0.04215816501528025);\">fight</span> <span style=\"background-color:rgba(255,0,0,0.0131115538533777);\">with</span> #russia https://t.co/lbdxinqdnb"
      ],
      "text/plain": [
       "<IPython.core.display.HTML object>"
      ]
     },
     "metadata": {},
     "output_type": "display_data"
    },
    {
     "data": {
      "text/html": [
       "<span style=\"background-color:rgba(255,0,0,0.1320384070277214);\">niggas</span> <span style=\"background-color:rgba(255,0,0,0.03459160681813955);\">are</span> <span style=\"background-color:rgba(255,0,0,0.06783275865018368);\">so</span> nasty, <span style=\"background-color:rgba(255,0,0,0.04205922596156597);\">wash</span> <span style=\"background-color:rgba(255,0,0,0.003946236101910472);\">your</span> <span style=\"background-color:rgba(255,0,0,0.11857589706778526);\">damn</span> <span style=\"background-color:rgba(255,0,0,0.05557440686970949);\">hands</span> <span style=\"background-color:rgba(255,0,0,0.02782178344205022);\">after</span> <span style=\"background-color:rgba(255,0,0,0.01270334585569799);\">using</span> <span style=\"background-color:rgba(255,0,0,0.008813562453724444);\">the</span> bathroom."
      ],
      "text/plain": [
       "<IPython.core.display.HTML object>"
      ]
     },
     "metadata": {},
     "output_type": "display_data"
    },
    {
     "data": {
      "text/html": [
       "<span style=\"background-color:rgba(255,0,0,0.003340751864016056);\">my</span> <span style=\"background-color:rgba(255,0,0,0.0060403329553082585);\">sister</span> <span style=\"background-color:rgba(255,0,0,0.006718909717164934);\">is</span> <span style=\"background-color:rgba(255,0,0,0.37576906383037567);\">mad</span> <span style=\"background-color:rgba(255,0,0,0.028212883044034243);\">as</span> <span style=\"background-color:rgba(255,0,0,0.6196475028991699);\">hell</span> <span style=\"background-color:rgba(255,0,0,0.07486138958483934);\">we</span> <span style=\"background-color:rgba(255,0,0,0.005673858104273677);\">haf</span> <span style=\"background-color:rgba(255,0,0,0.003486736968625337);\">to</span> <span style=\"background-color:rgba(255,0,0,0.002535529783926904);\">watch</span> <span style=\"background-color:rgba(255,0,0,0.0002581874650786631);\">huck</span> <span style=\"background-color:rgba(255,0,0,0.0012528576189652085);\">getting</span> <span style=\"background-color:rgba(255,0,0,0.006475031841546297);\">shot</span> twice!!! <span style=\"background-color:rgba(255,0,0,0.009453542297706008);\">who</span> <span style=\"background-color:rgba(255,0,0,0.01084104529581964);\">does</span> that?? #scandal"
      ],
      "text/plain": [
       "<IPython.core.display.HTML object>"
      ]
     },
     "metadata": {},
     "output_type": "display_data"
    },
    {
     "data": {
      "text/html": [
       "<span style=\"background-color:rgba(255,0,0,0.0024049030616879463);\">this</span> <span style=\"background-color:rgba(255,0,0,0.1812993548810482);\">stupid</span> <span style=\"background-color:rgba(255,0,0,0.6772532314062119);\">fucking</span> <span style=\"background-color:rgba(255,0,0,0.25867175310850143);\">bus</span> <span style=\"background-color:rgba(255,0,0,0.052552721463143826);\">driver</span> <span style=\"background-color:rgba(255,0,0,0.004229054611641914);\">has</span> <span style=\"background-color:rgba(255,0,0,0.0027685397071763873);\">been</span> <span style=\"background-color:rgba(255,0,0,0.019482773495838046);\">gone</span> <span style=\"background-color:rgba(255,0,0,0.0047987300786189735);\">for</span> <span style=\"background-color:rgba(255,0,0,0.000182649109774502);\">10</span> <span style=\"background-color:rgba(255,0,0,0.00042716997995739803);\">minutes</span> <span style=\"background-color:rgba(255,0,0,0.008399891667068005);\">omg</span>"
      ],
      "text/plain": [
       "<IPython.core.display.HTML object>"
      ]
     },
     "metadata": {},
     "output_type": "display_data"
    },
    {
     "data": {
      "text/html": [
       "rt @yoboiteddy: <span style=\"background-color:rgba(255,0,0,0.2098470740020275);\">damn</span> <span style=\"background-color:rgba(255,0,0,0.35726074129343033);\">smell</span> <span style=\"background-color:rgba(255,0,0,0.06128987297415733);\">stays</span> <span style=\"background-color:rgba(255,0,0,0.02311167074367404);\">in</span> <span style=\"background-color:rgba(255,0,0,0.008304460789076984);\">there</span> <span style=\"background-color:rgba(255,0,0,0.004423628270160407);\">for</span> days, <span style=\"background-color:rgba(255,0,0,0.365632064640522);\">hate</span> it!!"
      ],
      "text/plain": [
       "<IPython.core.display.HTML object>"
      ]
     },
     "metadata": {},
     "output_type": "display_data"
    },
    {
     "data": {
      "text/html": [
       "wasn't <span style=\"background-color:rgba(255,0,0,0.00724132580216974);\">flynn</span> <span style=\"background-color:rgba(255,0,0,0.018090092344209552);\">bellowing</span> <span style=\"background-color:rgba(255,0,0,0.11123738251626492);\">like</span> <span style=\"background-color:rgba(255,0,0,0.04807630553841591);\">a</span> <span style=\"background-color:rgba(255,0,0,0.0705018313601613);\">bull</span> <span style=\"background-color:rgba(255,0,0,0.011979149421676993);\">to</span> \"lock <span style=\"background-color:rgba(255,0,0,0.025338295381516218);\">her</span> up\" <span style=\"background-color:rgba(255,0,0,0.008614553953520954);\">and</span> <span style=\"background-color:rgba(255,0,0,0.005473131313920021);\">now</span> he's <span style=\"background-color:rgba(255,0,0,0.18015407025814056);\">whining</span> <span style=\"background-color:rgba(255,0,0,0.11123738251626492);\">like</span> <span style=\"background-color:rgba(255,0,0,0.04807630553841591);\">a</span> <span style=\"background-color:rgba(255,0,0,0.012604531366378069);\">little</span> <span style=\"background-color:rgba(255,0,0,0.4167591407895088);\">bitch</span> \"please don't <span style=\"background-color:rgba(255,0,0,0.013825474306941032);\">lock</span> <span style=\"background-color:rgba(255,0,0,0.009035493712872267);\">me</span> up!\""
      ],
      "text/plain": [
       "<IPython.core.display.HTML object>"
      ]
     },
     "metadata": {},
     "output_type": "display_data"
    },
    {
     "data": {
      "text/html": [
       "<span style=\"background-color:rgba(255,0,0,0.0020053460320923477);\">when</span> <span style=\"background-color:rgba(255,0,0,0.004576819483190775);\">someone</span> <span style=\"background-color:rgba(255,0,0,0.018435786478221416);\">calls</span> <span style=\"background-color:rgba(255,0,0,0.002988555934280157);\">you</span> <span style=\"background-color:rgba(255,0,0,0.003288551524747163);\">out</span> <span style=\"background-color:rgba(255,0,0,0.0017907352594193071);\">for</span> <span style=\"background-color:rgba(255,0,0,0.05698488559573889);\">shit</span> <span style=\"background-color:rgba(255,0,0,0.002988555934280157);\">you</span> <span style=\"background-color:rgba(255,0,0,0.0329506048001349);\">said</span> <span style=\"background-color:rgba(255,0,0,0.013312817318364978);\">ages</span> <span style=\"background-color:rgba(255,0,0,0.009653880260884762);\">ago</span> <span style=\"background-color:rgba(255,0,0,0.004244355077389628);\">and</span> you're <span style=\"background-color:rgba(255,0,0,0.027614994905889034);\">just</span> <span style=\"background-color:rgba(255,0,0,0.03543744329363108);\">like</span> <span style=\"background-color:rgba(255,0,0,0.1263634767383337);\">excuse</span> <span style=\"background-color:rgba(255,0,0,0.011221404420211911);\">me</span> <span style=\"background-color:rgba(255,0,0,0.006387766916304827);\">that</span> <span style=\"background-color:rgba(255,0,0,0.01476208446547389);\">was</span> <span style=\"background-color:rgba(255,0,0,0.004428137035574764);\">past</span> <span style=\"background-color:rgba(255,0,0,0.011221404420211911);\">me</span> <span style=\"background-color:rgba(255,0,0,0.004244355077389628);\">and</span> <span style=\"background-color:rgba(255,0,0,0.006387766916304827);\">that</span> <span style=\"background-color:rgba(255,0,0,0.36835677921772003);\">bitch</span> <span style=\"background-color:rgba(255,0,0,0.07385028060525656);\">is</span> <span style=\"background-color:rgba(255,0,0,0.08179384283721447);\">dead</span> <span style=\"background-color:rgba(255,0,0,0.03763846820220351);\">i</span> <span style=\"background-color:rgba(255,0,0,0.10122135281562805);\">killed</span> <span style=\"background-color:rgba(255,0,0,0.058697680942714214);\">them</span>"
      ],
      "text/plain": [
       "<IPython.core.display.HTML object>"
      ]
     },
     "metadata": {},
     "output_type": "display_data"
    },
    {
     "data": {
      "text/html": [
       "<span style=\"background-color:rgba(255,0,0,0.03651365404948592);\">tryna</span> <span style=\"background-color:rgba(255,0,0,0.07289934903383255);\">look</span> <span style=\"background-color:rgba(255,0,0,0.01385845709592104);\">out</span> <span style=\"background-color:rgba(255,0,0,0.004709507629740983);\">for</span> <span style=\"background-color:rgba(255,0,0,0.009392707142978907);\">a</span> <span style=\"background-color:rgba(255,0,0,0.4526767134666443);\">nigga</span> <span style=\"background-color:rgba(255,0,0,0.0588421942666173);\">got</span> <span style=\"background-color:rgba(255,0,0,0.02935371594503522);\">me</span> <span style=\"background-color:rgba(255,0,0,0.12567749246954918);\">fucked</span> <span style=\"background-color:rgba(255,0,0,0.10241820476949215);\">over</span> <span style=\"background-color:rgba(255,0,0,0.018306468846276402);\">but</span> <span style=\"background-color:rgba(255,0,0,0.01814914750866592);\">i</span> <span style=\"background-color:rgba(255,0,0,0.04467091057449579);\">promise</span> <span style=\"background-color:rgba(255,0,0,0.03928299527615309);\">u</span> <span style=\"background-color:rgba(255,0,0,0.015138620510697365);\">this</span> <span style=\"background-color:rgba(255,0,0,0.03707653842866421);\">just</span> <span style=\"background-color:rgba(255,0,0,0.02256866078823805);\">the</span> <span style=\"background-color:rgba(255,0,0,0.04152233712375164);\">beginning</span>"
      ],
      "text/plain": [
       "<IPython.core.display.HTML object>"
      ]
     },
     "metadata": {},
     "output_type": "display_data"
    },
    {
     "data": {
      "text/html": [
       "<span style=\"background-color:rgba(255,0,0,0.5535286292433739);\">dirty</span> <span style=\"background-color:rgba(255,0,0,0.0156355241779238);\">cam</span> <span style=\"background-color:rgba(255,0,0,0.061865304596722126);\">chick</span> <span style=\"background-color:rgba(255,0,0,0.013568507274612784);\">toys</span> <span style=\"background-color:rgba(255,0,0,0.0029646806069649756);\">with</span> <span style=\"background-color:rgba(255,0,0,0.010234402725473046);\">her</span> <span style=\"background-color:rgba(255,0,0,0.27664558961987495);\">ass</span> https://t.co/ddqv42rhis"
      ],
      "text/plain": [
       "<IPython.core.display.HTML object>"
      ]
     },
     "metadata": {},
     "output_type": "display_data"
    },
    {
     "data": {
      "text/html": [
       "<span style=\"background-color:rgba(255,0,0,0.0010768405627459288);\">i</span> <span style=\"background-color:rgba(255,0,0,0.11744251474738121);\">fucking</span> <span style=\"background-color:rgba(255,0,0,0.2787362225353718);\">hate</span> <span style=\"background-color:rgba(255,0,0,0.009544062777422369);\">my</span> <span style=\"background-color:rgba(255,0,0,0.0011632331006694585);\">body</span> <span style=\"background-color:rgba(255,0,0,0.0385361397638917);\">im</span> <span style=\"background-color:rgba(255,0,0,0.11744251474738121);\">fucking</span> <span style=\"background-color:rgba(255,0,0,0.34235361963510513);\">ugly</span> <span style=\"background-color:rgba(255,0,0,0.0065645272843539715);\">and</span> <span style=\"background-color:rgba(255,0,0,0.13913451693952084);\">disgusting</span> <span style=\"background-color:rgba(255,0,0,0.0065645272843539715);\">and</span> <span style=\"background-color:rgba(255,0,0,0.007454450824297965);\">nobody</span> <span style=\"background-color:rgba(255,0,0,0.006114220595918596);\">is</span> <span style=\"background-color:rgba(255,0,0,0.011081406846642494);\">helping</span> <span style=\"background-color:rgba(255,0,0,0.0385361397638917);\">im</span> <span style=\"background-color:rgba(255,0,0,0.019733484368771315);\">turning</span> <span style=\"background-color:rgba(255,0,0,0.03618251532316208);\">off</span> <span style=\"background-color:rgba(255,0,0,0.009544062777422369);\">my</span> <span style=\"background-color:rgba(255,0,0,0.11744251474738121);\">fucking</span> <span style=\"background-color:rgba(255,0,0,0.025033948477357626);\">phone</span> <span style=\"background-color:rgba(255,0,0,0.07381591480225325);\">bye</span>"
      ],
      "text/plain": [
       "<IPython.core.display.HTML object>"
      ]
     },
     "metadata": {},
     "output_type": "display_data"
    },
    {
     "data": {
      "text/html": [
       "rt @kuwtinyt: it's <span style=\"background-color:rgba(255,0,0,0.1153816469013691);\">fucked</span> <span style=\"background-color:rgba(255,0,0,0.15856720507144928);\">up</span> <span style=\"background-color:rgba(255,0,0,0.016659554094076157);\">how</span> <span style=\"background-color:rgba(255,0,0,0.30126553028821945);\">niggas</span> <span style=\"background-color:rgba(255,0,0,0.09589985944330692);\">still</span> <span style=\"background-color:rgba(255,0,0,0.01140932785347104);\">try</span> <span style=\"background-color:rgba(255,0,0,0.0031651201425120234);\">to</span> <span style=\"background-color:rgba(255,0,0,0.006043593748472631);\">talk</span> <span style=\"background-color:rgba(255,0,0,0.0031651201425120234);\">to</span> <span style=\"background-color:rgba(255,0,0,0.0029698997968807817);\">you</span> <span style=\"background-color:rgba(255,0,0,0.0030805813730694354);\">with</span> <span style=\"background-color:rgba(255,0,0,0.009348694002255797);\">a</span> <span style=\"background-color:rgba(255,0,0,0.020704022608697414);\">baby</span> <span style=\"background-color:rgba(255,0,0,0.011227329960092902);\">on</span> <span style=\"background-color:rgba(255,0,0,0.010224331635981798);\">the</span> way... <span style=\"background-color:rgba(255,0,0,0.29905781149864197);\">smh</span>"
      ],
      "text/plain": [
       "<IPython.core.display.HTML object>"
      ]
     },
     "metadata": {},
     "output_type": "display_data"
    },
    {
     "data": {
      "text/html": [
       "rt @casualgoddess: <span style=\"background-color:rgba(255,0,0,0.00223844064748846);\">literally</span> <span style=\"background-color:rgba(255,0,0,0.003364797739777714);\">why</span> <span style=\"background-color:rgba(255,0,0,0.0014897773507982492);\">the</span> <span style=\"background-color:rgba(255,0,0,0.028154500760138035);\">fuck</span> <span style=\"background-color:rgba(255,0,0,0.009376475354656577);\">did</span> <span style=\"background-color:rgba(255,0,0,0.03181586740538478);\">yall</span> <span style=\"background-color:rgba(255,0,0,0.00907682639081031);\">vote</span> <span style=\"background-color:rgba(255,0,0,0.0009886539919534698);\">for</span> <span style=\"background-color:rgba(255,0,0,0.003532476257532835);\">trump</span> <span style=\"background-color:rgba(255,0,0,0.03181586740538478);\">yall</span> <span style=\"background-color:rgba(255,0,0,0.008859559311531484);\">are</span> <span style=\"background-color:rgba(255,0,0,0.02204060321673751);\">so</span> <span style=\"background-color:rgba(255,0,0,0.13985591009259224);\">fucking</span> <span style=\"background-color:rgba(255,0,0,0.5561940744519234);\">stupid</span> <span style=\"background-color:rgba(255,0,0,0.034094746224582195);\">he</span> <span style=\"background-color:rgba(255,0,0,0.030344114638864994);\">hasnt</span> <span style=\"background-color:rgba(255,0,0,0.009227891569025815);\">done</span> <span style=\"background-color:rgba(255,0,0,0.00020203488020342775);\">anytbing</span> <span style=\"background-color:rgba(255,0,0,0.002334286837140098);\">rigtj</span> <span style=\"background-color:rgba(255,0,0,0.013519319472834468);\">im</span> <span style=\"background-color:rgba(255,0,0,0.02204060321673751);\">so</span> <span style=\"background-color:rgba(255,0,0,0.2641705237329006);\">mad</span> <span style=\"background-color:rgba(255,0,0,0.01207609660923481);\">how</span> cul…"
      ],
      "text/plain": [
       "<IPython.core.display.HTML object>"
      ]
     },
     "metadata": {},
     "output_type": "display_data"
    },
    {
     "data": {
      "text/html": [
       "<span style=\"background-color:rgba(255,0,0,0.0008807167614577338);\">get</span> <span style=\"background-color:rgba(255,0,0,0.0178508332464844);\">murdered</span> <span style=\"background-color:rgba(255,0,0,0.005622052121907473);\">you</span> <span style=\"background-color:rgba(255,0,0,0.1758355088531971);\">fucking</span> <span style=\"background-color:rgba(255,0,0,0.9456533193588257);\">cunt</span> https://t.co/jlgmonxjpo"
      ],
      "text/plain": [
       "<IPython.core.display.HTML object>"
      ]
     },
     "metadata": {},
     "output_type": "display_data"
    },
    {
     "data": {
      "text/html": [
       "rt @lickmyv0dka: <span style=\"background-color:rgba(255,0,0,0.21507713943719864);\">hate</span> <span style=\"background-color:rgba(255,0,0,0.033277689944952726);\">taking</span> <span style=\"background-color:rgba(255,0,0,0.08281678892672062);\">bus</span> <span style=\"background-color:rgba(255,0,0,0.03536866046488285);\">at</span> <span style=\"background-color:rgba(255,0,0,0.012025588657706976);\">this</span> <span style=\"background-color:rgba(255,0,0,0.006420076242648065);\">timing</span> <span style=\"background-color:rgba(255,0,0,0.004369157541077584);\">its</span> <span style=\"background-color:rgba(255,0,0,0.036536846309900284);\">so</span> <span style=\"background-color:rgba(255,0,0,0.7223055511713028);\">fucking</span> <span style=\"background-color:rgba(255,0,0,0.028814345132559538);\">brimming</span>"
      ],
      "text/plain": [
       "<IPython.core.display.HTML object>"
      ]
     },
     "metadata": {},
     "output_type": "display_data"
    },
    {
     "data": {
      "text/html": [
       "@thaliaporque <span style=\"background-color:rgba(255,0,0,0.0011367569823050871);\">no</span> <span style=\"background-color:rgba(255,0,0,0.01319602713920176);\">im</span> <span style=\"background-color:rgba(255,0,0,0.02824123715981841);\">talking</span> <span style=\"background-color:rgba(255,0,0,0.008077502134256065);\">about</span> <span style=\"background-color:rgba(255,0,0,0.003225378750357777);\">you</span> <span style=\"background-color:rgba(255,0,0,0.11502454988658428);\">nigga</span> <span style=\"background-color:rgba(255,0,0,0.29894033446907997);\">stfu</span> &#128530; <span style=\"background-color:rgba(255,0,0,0.7264212518930435);\">annoying</span>"
      ],
      "text/plain": [
       "<IPython.core.display.HTML object>"
      ]
     },
     "metadata": {},
     "output_type": "display_data"
    },
    {
     "data": {
      "text/html": [
       "rt @_liljay300: @__tinnamarie <span style=\"background-color:rgba(255,0,0,0.1556868478655815);\">bitch</span> <span style=\"background-color:rgba(255,0,0,0.022653485648334026);\">i</span> <span style=\"background-color:rgba(255,0,0,0.0034874863922595978);\">b</span> <span style=\"background-color:rgba(255,0,0,0.090803112834692);\">dumb</span> <span style=\"background-color:rgba(255,0,0,0.8714914321899414);\">stupid</span> &#128514;&#128514;"
      ],
      "text/plain": [
       "<IPython.core.display.HTML object>"
      ]
     },
     "metadata": {},
     "output_type": "display_data"
    },
    {
     "data": {
      "text/html": [
       "rt @keeetaughtyou: <span style=\"background-color:rgba(255,0,0,0.003303046978544444);\">why</span> <span style=\"background-color:rgba(255,0,0,0.19147777929902077);\">niggas</span> <span style=\"background-color:rgba(255,0,0,0.009756286744959652);\">who</span> <span style=\"background-color:rgba(255,0,0,0.010667921742424369);\">really</span> <span style=\"background-color:rgba(255,0,0,0.0017673609545454383);\">b</span> <span style=\"background-color:rgba(255,0,0,0.08642441593110561);\">crazy</span> <span style=\"background-color:rgba(255,0,0,0.025306630413979292);\">over</span> <span style=\"background-color:rgba(255,0,0,0.007274621748365462);\">they</span> <span style=\"background-color:rgba(255,0,0,0.022076398599892855);\">ex</span> <span style=\"background-color:rgba(255,0,0,0.0016815490380395204);\">try</span> <span style=\"background-color:rgba(255,0,0,0.000664570543449372);\">to</span> <span style=\"background-color:rgba(255,0,0,0.00022275271476246417);\">make</span> <span style=\"background-color:rgba(255,0,0,0.0006097860386944376);\">it</span> <span style=\"background-color:rgba(255,0,0,0.002598861465230584);\">seem</span> <span style=\"background-color:rgba(255,0,0,0.00881364569067955);\">like</span> <span style=\"background-color:rgba(255,0,0,0.007274621748365462);\">they</span> <span style=\"background-color:rgba(255,0,0,0.022076398599892855);\">ex</span> <span style=\"background-color:rgba(255,0,0,0.009645677637308836);\">was</span> <span style=\"background-color:rgba(255,0,0,0.006832647486589849);\">the</span> <span style=\"background-color:rgba(255,0,0,0.08642441593110561);\">crazy</span> bitch? <span style=\"background-color:rgba(255,0,0,0.050929621793329716);\">u</span> <span style=\"background-color:rgba(255,0,0,0.19147777929902077);\">niggas</span> <span style=\"background-color:rgba(255,0,0,0.021571172401309013);\">is</span> pussies."
      ],
      "text/plain": [
       "<IPython.core.display.HTML object>"
      ]
     },
     "metadata": {},
     "output_type": "display_data"
    },
    {
     "data": {
      "text/html": [
       "rt @pusha_teewat: <span style=\"background-color:rgba(255,0,0,0.0007000626646913588);\">lmaooooooooooo</span> <span style=\"background-color:rgba(255,0,0,0.0013992686581332237);\">this</span> <span style=\"background-color:rgba(255,0,0,0.10598673485219479);\">nigga</span> <span style=\"background-color:rgba(255,0,0,0.918516144156456);\">mad</span> <span style=\"background-color:rgba(255,0,0,0.08330455049872398);\">puny</span> https://t.co/4biil5fp0f"
      ],
      "text/plain": [
       "<IPython.core.display.HTML object>"
      ]
     },
     "metadata": {},
     "output_type": "display_data"
    },
    {
     "data": {
      "text/html": [
       "@jeffhardydtf <span style=\"background-color:rgba(255,0,0,0.01739674247801304);\">you</span> don't <span style=\"background-color:rgba(255,0,0,0.016073028091341257);\">deserve</span> <span style=\"background-color:rgba(255,0,0,0.007487119291909039);\">to</span> <span style=\"background-color:rgba(255,0,0,0.006081981700845063);\">rp</span> <span style=\"background-color:rgba(255,0,0,0.026471992023289204);\">jeff</span> <span style=\"background-color:rgba(255,0,0,0.16143891960382462);\">hardy</span> <span style=\"background-color:rgba(255,0,0,0.01739674247801304);\">you</span> <span style=\"background-color:rgba(255,0,0,0.016022385098040104);\">are</span> <span style=\"background-color:rgba(255,0,0,0.015941119054332376);\">a</span> <span style=\"background-color:rgba(255,0,0,0.2619634009897709);\">nasty</span> <span style=\"background-color:rgba(255,0,0,0.17932742834091187);\">son</span> <span style=\"background-color:rgba(255,0,0,0.012678677449002862);\">of</span> <span style=\"background-color:rgba(255,0,0,0.36002781242132187);\">bitch</span> <span style=\"background-color:rgba(255,0,0,0.04583491012454033);\">who</span> <span style=\"background-color:rgba(255,0,0,0.03839375218376517);\">needs</span> <span style=\"background-color:rgba(255,0,0,0.007487119291909039);\">to</span> <span style=\"background-color:rgba(255,0,0,0.007352520478889346);\">be</span> <span style=\"background-color:rgba(255,0,0,0.022491179406642914);\">deleted</span>"
      ],
      "text/plain": [
       "<IPython.core.display.HTML object>"
      ]
     },
     "metadata": {},
     "output_type": "display_data"
    },
    {
     "data": {
      "text/html": [
       "rt @1threeonethree: <span style=\"background-color:rgba(255,0,0,0.006495359702967107);\">lil</span> <span style=\"background-color:rgba(255,0,0,0.18825795501470566);\">ugly</span> <span style=\"background-color:rgba(255,0,0,0.28796903789043427);\">dirty</span> <span style=\"background-color:rgba(255,0,0,0.45131195336580276);\">nigga</span> <span style=\"background-color:rgba(255,0,0,0.01556494738906622);\">but</span> i'm <span style=\"background-color:rgba(255,0,0,0.021959978621453047);\">still</span> <span style=\"background-color:rgba(255,0,0,0.02188188722357154);\">a</span> <span style=\"background-color:rgba(255,0,0,0.05848022177815437);\">sex</span> <span style=\"background-color:rgba(255,0,0,0.10040774010121822);\">symbol</span>"
      ],
      "text/plain": [
       "<IPython.core.display.HTML object>"
      ]
     },
     "metadata": {},
     "output_type": "display_data"
    },
    {
     "data": {
      "text/html": [
       "rt @courtneehendrix: \"giiiirl <span style=\"background-color:rgba(255,0,0,0.187379140406847);\">fuck</span> <span style=\"background-color:rgba(255,0,0,0.04098610021173954);\">that</span> <span style=\"background-color:rgba(255,0,0,0.7587672770023346);\">nigga</span> <span style=\"background-color:rgba(255,0,0,0.05152577068656683);\">we</span> <span style=\"background-color:rgba(255,0,0,0.015909677604213357);\">on</span> vacation! he'd <span style=\"background-color:rgba(255,0,0,0.011888088192790747);\">do</span> <span style=\"background-color:rgba(255,0,0,0.013113473542034626);\">it</span> <span style=\"background-color:rgba(255,0,0,0.010360711021348834);\">to</span> you!\" https://t.co/oj4j0jpj1z"
      ],
      "text/plain": [
       "<IPython.core.display.HTML object>"
      ]
     },
     "metadata": {},
     "output_type": "display_data"
    },
    {
     "data": {
      "text/html": [
       "rt @nikougly: <span style=\"background-color:rgba(255,0,0,0.13090252876281738);\">stupid</span> <span style=\"background-color:rgba(255,0,0,0.41165657341480255);\">ass</span> nigga, <span style=\"background-color:rgba(255,0,0,0.021865882445126772);\">the</span> <span style=\"background-color:rgba(255,0,0,0.05176763515919447);\">smoke</span> <span style=\"background-color:rgba(255,0,0,0.001752073731040582);\">shop</span> <span style=\"background-color:rgba(255,0,0,0.0004154193084104918);\">got&#x27;em</span> <span style=\"background-color:rgba(255,0,0,0.0004946505214320496);\">for</span> $5 https://t.co/wjusluuxlu"
      ],
      "text/plain": [
       "<IPython.core.display.HTML object>"
      ]
     },
     "metadata": {},
     "output_type": "display_data"
    },
    {
     "data": {
      "text/html": [
       "ladies..trying <span style=\"background-color:rgba(255,0,0,0.00019138973584631458);\">figure</span> <span style=\"background-color:rgba(255,0,0,0.00022013851776137017);\">out</span> ...who <span style=\"background-color:rgba(255,0,0,0.0008109884947771206);\">the</span> <span style=\"background-color:rgba(255,0,0,0.04341032821685076);\">hell</span> <span style=\"background-color:rgba(255,0,0,0.009683612152002752);\">would</span> <span style=\"background-color:rgba(255,0,0,0.0021467397164087743);\">have</span> <span style=\"background-color:rgba(255,0,0,0.005931163905188441);\">sex</span> <span style=\"background-color:rgba(255,0,0,0.0013606817810796201);\">with</span> trump..look <span style=\"background-color:rgba(255,0,0,0.01681918278336525);\">at</span> him...and <span style=\"background-color:rgba(255,0,0,0.00865563575644046);\">he</span> <span style=\"background-color:rgba(255,0,0,0.014535872032865882);\">is</span> <span style=\"background-color:rgba(255,0,0,0.006703078979626298);\">also</span> <span style=\"background-color:rgba(255,0,0,0.011269587557762861);\">a</span> <span style=\"background-color:rgba(255,0,0,0.5336373671889305);\">ugly</span> <span style=\"background-color:rgba(255,0,0,0.47410301864147186);\">pig</span> soul..… https://t.co/dstvr0wjal"
      ],
      "text/plain": [
       "<IPython.core.display.HTML object>"
      ]
     },
     "metadata": {},
     "output_type": "display_data"
    },
    {
     "data": {
      "text/html": [
       "<span style=\"background-color:rgba(255,0,0,0.0627629179507494);\">fucking</span> asshole! <span style=\"background-color:rgba(255,0,0,0.021486040204763412);\">there</span> <span style=\"background-color:rgba(255,0,0,0.011118639959022403);\">is</span> <span style=\"background-color:rgba(255,0,0,0.026507126167416573);\">something</span> <span style=\"background-color:rgba(255,0,0,0.05526830442249775);\">really</span> <span style=\"background-color:rgba(255,0,0,0.05526830442249775);\">really</span> <span style=\"background-color:rgba(255,0,0,0.07311284076422453);\">wrong</span> <span style=\"background-color:rgba(255,0,0,0.01540581346489489);\">with</span> <span style=\"background-color:rgba(255,0,0,0.009332793415524065);\">this</span> man!!! https://t.co/oweuqpcehz"
      ],
      "text/plain": [
       "<IPython.core.display.HTML object>"
      ]
     },
     "metadata": {},
     "output_type": "display_data"
    },
    {
     "data": {
      "text/html": [
       "<span style=\"background-color:rgba(255,0,0,0.0005657156725646928);\">you</span> <span style=\"background-color:rgba(255,0,0,0.00754767213948071);\">say</span> <span style=\"background-color:rgba(255,0,0,0.0005657156725646928);\">you</span> <span style=\"background-color:rgba(255,0,0,0.0028978384216316044);\">on</span> <span style=\"background-color:rgba(255,0,0,0.0035102831316180527);\">my</span> head, <span style=\"background-color:rgba(255,0,0,0.02995520830154419);\">why</span> <span style=\"background-color:rgba(255,0,0,0.0005657156725646928);\">you</span> <span style=\"background-color:rgba(255,0,0,0.028343237936496735);\">talking</span> nigga? <span style=\"background-color:rgba(255,0,0,0.02822700422257185);\">no</span> <span style=\"background-color:rgba(255,0,0,0.004134271293878555);\">bite</span> <span style=\"background-color:rgba(255,0,0,0.0054948905017226934);\">all</span> <span style=\"background-color:rgba(255,0,0,0.006407204200513661);\">i</span> <span style=\"background-color:rgba(255,0,0,0.006059455336071551);\">hear</span> <span style=\"background-color:rgba(255,0,0,0.009090281673707068);\">is</span> <span style=\"background-color:rgba(255,0,0,0.012300219386816025);\">that</span> <span style=\"background-color:rgba(255,0,0,0.007213263306766748);\">barking</span> <span style=\"background-color:rgba(255,0,0,0.18815252929925919);\">nigga</span> <span style=\"background-color:rgba(255,0,0,0.0005657156725646928);\">you</span> <span style=\"background-color:rgba(255,0,0,0.06909831892699003);\">hella</span> <span style=\"background-color:rgba(255,0,0,0.008969493792392313);\">soft</span> <span style=\"background-color:rgba(255,0,0,0.010009411489591002);\">like</span> <span style=\"background-color:rgba(255,0,0,0.0007210904004750773);\">cotton</span> <span style=\"background-color:rgba(255,0,0,0.0005657156725646928);\">you</span> ain't <span style=\"background-color:rgba(255,0,0,0.013945660321041942);\">rocking</span> <span style=\"background-color:rgba(255,0,0,0.18815252929925919);\">nigga</span>"
      ],
      "text/plain": [
       "<IPython.core.display.HTML object>"
      ]
     },
     "metadata": {},
     "output_type": "display_data"
    },
    {
     "data": {
      "text/html": [
       "@bethcomans @jeanjeannie20 @mimae1013 @amprog <span style=\"background-color:rgba(255,0,0,0.0007171860488597304);\">your</span> <span style=\"background-color:rgba(255,0,0,0.0018812209600582719);\">a</span> <span style=\"background-color:rgba(255,0,0,0.12685232795774937);\">miserable</span> <span style=\"background-color:rgba(255,0,0,0.9384182095527649);\">bitch</span> <span style=\"background-color:rgba(255,0,0,0.05838151089847088);\">i</span> <span style=\"background-color:rgba(255,0,0,0.02448190003633499);\">feel</span> <span style=\"background-color:rgba(255,0,0,0.06536028813570738);\">sorry</span> <span style=\"background-color:rgba(255,0,0,0.005736780003644526);\">for</span> <span style=\"background-color:rgba(255,0,0,0.0023601467546541244);\">you</span>"
      ],
      "text/plain": [
       "<IPython.core.display.HTML object>"
      ]
     },
     "metadata": {},
     "output_type": "display_data"
    },
    {
     "data": {
      "text/html": [
       "<span style=\"background-color:rgba(255,0,0,0.02602836349979043);\">idgaf</span> <span style=\"background-color:rgba(255,0,0,0.0037543242797255516);\">if</span> i'm annoying, <span style=\"background-color:rgba(255,0,0,0.00777888169977814);\">you</span> ain't <span style=\"background-color:rgba(255,0,0,0.004201438860036433);\">my</span> <span style=\"background-color:rgba(255,0,0,0.12059604749083519);\">nigga</span> <span style=\"background-color:rgba(255,0,0,0.07036341354250908);\">so</span> i'll <span style=\"background-color:rgba(255,0,0,0.033752548042684793);\">purposely</span> <span style=\"background-color:rgba(255,0,0,0.016017646994441748);\">be</span> <span style=\"background-color:rgba(255,0,0,0.45840512961149216);\">annoying</span> <span style=\"background-color:rgba(255,0,0,0.028972504660487175);\">to</span> <span style=\"background-color:rgba(255,0,0,0.00777888169977814);\">you</span> <span style=\"background-color:rgba(255,0,0,0.09788063354790211);\">tf</span>"
      ],
      "text/plain": [
       "<IPython.core.display.HTML object>"
      ]
     },
     "metadata": {},
     "output_type": "display_data"
    },
    {
     "data": {
      "text/html": [
       "rt @_ohhkiaraaa: &amp; <span style=\"background-color:rgba(255,0,0,0.0011033836926799268);\">some</span> <span style=\"background-color:rgba(255,0,0,0.001104689945350401);\">of</span> <span style=\"background-color:rgba(255,0,0,0.0305784004740417);\">y&#x27;all</span> <span style=\"background-color:rgba(255,0,0,0.2989801950752735);\">niggas</span> <span style=\"background-color:rgba(255,0,0,0.0503468606621027);\">dont</span> <span style=\"background-color:rgba(255,0,0,0.01739884726703167);\">understand</span> <span style=\"background-color:rgba(255,0,0,0.04446233157068491);\">that</span> <span style=\"background-color:rgba(255,0,0,0.007289686473086476);\">a</span> <span style=\"background-color:rgba(255,0,0,0.04392762202769518);\">girl</span> don't <span style=\"background-color:rgba(255,0,0,0.0050432473653927445);\">want</span> <span style=\"background-color:rgba(255,0,0,0.007289686473086476);\">a</span> <span style=\"background-color:rgba(255,0,0,0.33283546566963196);\">nigga</span> <span style=\"background-color:rgba(255,0,0,0.04446233157068491);\">that</span> <span style=\"background-color:rgba(255,0,0,0.22408155724406242);\">fucked</span> <span style=\"background-color:rgba(255,0,0,0.02031615935266018);\">on</span> <span style=\"background-color:rgba(255,0,0,0.08240193128585815);\">everybody</span> &#128175;&#128175; https://t.co/xq6f4198ma"
      ],
      "text/plain": [
       "<IPython.core.display.HTML object>"
      ]
     },
     "metadata": {},
     "output_type": "display_data"
    },
    {
     "data": {
      "text/html": [
       "rt @treyylb_: <span style=\"background-color:rgba(255,0,0,0.06213753018528223);\">son</span> <span style=\"background-color:rgba(255,0,0,0.01866249251179397);\">this</span> <span style=\"background-color:rgba(255,0,0,0.5201445892453194);\">nigga</span> <span style=\"background-color:rgba(255,0,0,0.06763876415789127);\">fan</span> <span style=\"background-color:rgba(255,0,0,0.08454978466033936);\">base</span> <span style=\"background-color:rgba(255,0,0,0.2023756504058838);\">ridiculous</span> https://t.co/tdzlrglf6x"
      ],
      "text/plain": [
       "<IPython.core.display.HTML object>"
      ]
     },
     "metadata": {},
     "output_type": "display_data"
    },
    {
     "data": {
      "text/html": [
       "rt @jdm_isaiah: <span style=\"background-color:rgba(255,0,0,0.02948469016700983);\">all</span> <span style=\"background-color:rgba(255,0,0,0.017596331890672445);\">these</span> <span style=\"background-color:rgba(255,0,0,0.04567601718008518);\">wanna</span> <span style=\"background-color:rgba(255,0,0,0.02899353625252843);\">be</span> <span style=\"background-color:rgba(255,0,0,0.005778990453109145);\">gangster</span> <span style=\"background-color:rgba(255,0,0,0.024935163091868162);\">kids</span> <span style=\"background-color:rgba(255,0,0,0.010288739576935768);\">have</span> <span style=\"background-color:rgba(255,0,0,0.028948073741048574);\">me</span> <span style=\"background-color:rgba(255,0,0,0.31769435852766037);\">fucked</span> <span style=\"background-color:rgba(255,0,0,0.3932160511612892);\">up</span>"
      ],
      "text/plain": [
       "<IPython.core.display.HTML object>"
      ]
     },
     "metadata": {},
     "output_type": "display_data"
    },
    {
     "data": {
      "text/html": [
       "rt @darrperalta: <span style=\"background-color:rgba(255,0,0,0.049074278213083744);\">niggas</span> <span style=\"background-color:rgba(255,0,0,0.011280531762167811);\">miss</span> <span style=\"background-color:rgba(255,0,0,0.002083615545416251);\">out</span> <span style=\"background-color:rgba(255,0,0,0.0014874943008180708);\">on</span> <span style=\"background-color:rgba(255,0,0,0.0017662926984485239);\">the</span> <span style=\"background-color:rgba(255,0,0,0.005299623007886112);\">blessing</span> <span style=\"background-color:rgba(255,0,0,0.11855066753923893);\">fucking</span> <span style=\"background-color:rgba(255,0,0,0.40627215057611465);\">wit</span> hoes&#129318;&#127995;‍♀️"
      ],
      "text/plain": [
       "<IPython.core.display.HTML object>"
      ]
     },
     "metadata": {},
     "output_type": "display_data"
    },
    {
     "data": {
      "text/html": [
       "<span style=\"background-color:rgba(255,0,0,0.02853197045624256);\">im</span> <span style=\"background-color:rgba(255,0,0,0.010826613288372755);\">really</span> <span style=\"background-color:rgba(255,0,0,0.043728980235755444);\">crying</span> <span style=\"background-color:rgba(255,0,0,0.08699842728674412);\">rn</span> <span style=\"background-color:rgba(255,0,0,0.02853197045624256);\">im</span> <span style=\"background-color:rgba(255,0,0,0.046331221237778664);\">rl</span> <span style=\"background-color:rgba(255,0,0,0.12199851684272289);\">hungry</span> <span style=\"background-color:rgba(255,0,0,0.03032421926036477);\">i</span> <span style=\"background-color:rgba(255,0,0,0.297582782804966);\">hate</span> <span style=\"background-color:rgba(255,0,0,0.0846592616289854);\">carrying</span> <span style=\"background-color:rgba(255,0,0,0.006842748261988163);\">with</span> <span style=\"background-color:rgba(255,0,0,0.005499953404068947);\">all</span> <span style=\"background-color:rgba(255,0,0,0.0035318886511959136);\">my</span> <span style=\"background-color:rgba(255,0,0,0.009987810626626015);\">heart</span> <span style=\"background-color:rgba(255,0,0,0.00428567553171888);\">but</span> <span style=\"background-color:rgba(255,0,0,0.02853197045624256);\">im</span> <span style=\"background-color:rgba(255,0,0,0.12199851684272289);\">hungry</span> <span style=\"background-color:rgba(255,0,0,0.03032421926036477);\">i</span> <span style=\"background-color:rgba(255,0,0,0.028653230983763933);\">tried</span> <span style=\"background-color:rgba(255,0,0,0.06432786118239164);\">calling</span> <span style=\"background-color:rgba(255,0,0,0.00958659511525184);\">these</span> <span style=\"background-color:rgba(255,0,0,0.11611523106694221);\">bitches</span> <span style=\"background-color:rgba(255,0,0,0.013121673837304115);\">they</span> didn't <span style=\"background-color:rgba(255,0,0,0.006555872387252748);\">even</span> answer!"
      ],
      "text/plain": [
       "<IPython.core.display.HTML object>"
      ]
     },
     "metadata": {},
     "output_type": "display_data"
    },
    {
     "data": {
      "text/html": [
       "<span style=\"background-color:rgba(255,0,0,0.0023380240600090474);\">sometimes</span> <span style=\"background-color:rgba(255,0,0,0.0027831990155391395);\">i</span> <span style=\"background-color:rgba(255,0,0,0.006250216392800212);\">wanna</span> <span style=\"background-color:rgba(255,0,0,0.035304734483361244);\">choke</span> <span style=\"background-color:rgba(255,0,0,0.02581499284133315);\">bri</span> <span style=\"background-color:rgba(255,0,0,0.003234774630982429);\">to</span> <span style=\"background-color:rgba(255,0,0,0.0790481735020876);\">fucking</span> <span style=\"background-color:rgba(255,0,0,0.2589509077370167);\">death</span> she's <span style=\"background-color:rgba(255,0,0,0.038800197653472424);\">so</span> <span style=\"background-color:rgba(255,0,0,0.6570285558700562);\">annoying</span>"
      ],
      "text/plain": [
       "<IPython.core.display.HTML object>"
      ]
     },
     "metadata": {},
     "output_type": "display_data"
    },
    {
     "data": {
      "text/html": [
       "<span style=\"background-color:rgba(255,0,0,0.002101095160469413);\">i</span> <span style=\"background-color:rgba(255,0,0,0.0069925806019455194);\">really</span> <span style=\"background-color:rgba(255,0,0,0.12737983837723732);\">fucking</span> <span style=\"background-color:rgba(255,0,0,0.860535278916359);\">hate</span> <span style=\"background-color:rgba(255,0,0,0.09100289084017277);\">u</span> <span style=\"background-color:rgba(255,0,0,0.1311215665191412);\">omg</span> d':&lt;!!!! https://t.co/ezjd4xv9p3"
      ],
      "text/plain": [
       "<IPython.core.display.HTML object>"
      ]
     },
     "metadata": {},
     "output_type": "display_data"
    },
    {
     "data": {
      "text/html": [
       "@leagueoflegends <span style=\"background-color:rgba(255,0,0,0.014026195276528597);\">can</span> <span style=\"background-color:rgba(255,0,0,0.009003928280435503);\">you</span> <span style=\"background-color:rgba(255,0,0,0.22488005459308624);\">stop</span> <span style=\"background-color:rgba(255,0,0,0.05424458533525467);\">making</span> <span style=\"background-color:rgba(255,0,0,0.011508326278999448);\">skins</span> <span style=\"background-color:rgba(255,0,0,0.006447525229305029);\">for</span> <span style=\"background-color:rgba(255,0,0,0.012110034003853798);\">that</span> <span style=\"background-color:rgba(255,0,0,0.6835862249135971);\">fucking</span> <span style=\"background-color:rgba(255,0,0,0.003327658341731876);\">cancerous</span> <span style=\"background-color:rgba(255,0,0,0.006779917748644948);\">champion</span> (master yi)"
      ],
      "text/plain": [
       "<IPython.core.display.HTML object>"
      ]
     },
     "metadata": {},
     "output_type": "display_data"
    },
    {
     "data": {
      "text/html": [
       "rt @taemakeitnasty: <span style=\"background-color:rgba(255,0,0,0.004111308371648192);\">once</span> <span style=\"background-color:rgba(255,0,0,0.01044449396431446);\">u</span> <span style=\"background-color:rgba(255,0,0,0.020139131229370832);\">shoot</span> <span style=\"background-color:rgba(255,0,0,0.0004844580325880088);\">100</span> <span style=\"background-color:rgba(255,0,0,0.0016023556236177683);\">shots</span> <span style=\"background-color:rgba(255,0,0,0.0031522373319603503);\">at</span> <span style=\"background-color:rgba(255,0,0,0.011946158483624458);\">a</span> <span style=\"background-color:rgba(255,0,0,0.28985539451241493);\">nigga</span> <span style=\"background-color:rgba(255,0,0,0.020543169230222702);\">and</span> <span style=\"background-color:rgba(255,0,0,0.02274192636832595);\">miss</span> <span style=\"background-color:rgba(255,0,0,0.0073985569179058075);\">you</span> <span style=\"background-color:rgba(255,0,0,0.011946158483624458);\">a</span> <span style=\"background-color:rgba(255,0,0,0.2718149311840534);\">cold</span> gump! <span style=\"background-color:rgba(255,0,0,0.09540313854813576);\">dolph</span> <span style=\"background-color:rgba(255,0,0,0.01076890155673027);\">the</span> <span style=\"background-color:rgba(255,0,0,0.0151413818821311);\">king</span> <span style=\"background-color:rgba(255,0,0,0.01076890155673027);\">the</span> <span style=\"background-color:rgba(255,0,0,0.02220192924141884);\">memphis</span> @youngdolph"
      ],
      "text/plain": [
       "<IPython.core.display.HTML object>"
      ]
     },
     "metadata": {},
     "output_type": "display_data"
    },
    {
     "data": {
      "text/html": [
       "rt @lilpoteete: <span style=\"background-color:rgba(255,0,0,0.07088649086654186);\">fucking</span> <span style=\"background-color:rgba(255,0,0,0.5188420042395592);\">sick</span> <span style=\"background-color:rgba(255,0,0,0.04295669496059418);\">i</span> <span style=\"background-color:rgba(255,0,0,0.5124318972229958);\">hate</span> <span style=\"background-color:rgba(255,0,0,0.053625223226845264);\">people</span> https://t.co/2dn2k2yse2"
      ],
      "text/plain": [
       "<IPython.core.display.HTML object>"
      ]
     },
     "metadata": {},
     "output_type": "display_data"
    },
    {
     "data": {
      "text/html": [
       "@dufourjw <span style=\"background-color:rgba(255,0,0,0.001069452555384487);\">the</span> <span style=\"background-color:rgba(255,0,0,0.0007668683974770829);\">seats</span> <span style=\"background-color:rgba(255,0,0,0.0022606999846175313);\">dont</span> <span style=\"background-color:rgba(255,0,0,0.0011287027882644907);\">match</span> <span style=\"background-color:rgba(255,0,0,0.010363757610321045);\">up</span> <span style=\"background-color:rgba(255,0,0,0.0017026693967636675);\">theres</span> <span style=\"background-color:rgba(255,0,0,0.0018102745525538921);\">no</span> bleachers!!!! <span style=\"background-color:rgba(255,0,0,0.09364896453917027);\">fucking</span> <span style=\"background-color:rgba(255,0,0,1.0754962265491486);\">hate</span> <span style=\"background-color:rgba(255,0,0,0.03621938172727823);\">nyc</span>"
      ],
      "text/plain": [
       "<IPython.core.display.HTML object>"
      ]
     },
     "metadata": {},
     "output_type": "display_data"
    },
    {
     "data": {
      "text/html": [
       "rt @kellydash2_0: <span style=\"background-color:rgba(255,0,0,0.004754364199470729);\">probably</span> not. <span style=\"background-color:rgba(255,0,0,0.007204775465652347);\">but</span> <span style=\"background-color:rgba(255,0,0,0.012386643793433905);\">i</span> <span style=\"background-color:rgba(255,0,0,0.0046692180330865085);\">have</span> <span style=\"background-color:rgba(255,0,0,0.02993270056322217);\">a</span> <span style=\"background-color:rgba(255,0,0,0.3917287290096283);\">nigga</span> <span style=\"background-color:rgba(255,0,0,0.16271768137812614);\">desperately</span> <span style=\"background-color:rgba(255,0,0,0.10106172412633896);\">trying</span> <span style=\"background-color:rgba(255,0,0,0.01674792729318142);\">to</span> <span style=\"background-color:rgba(255,0,0,0.008750588167458773);\">climb</span> <span style=\"background-color:rgba(255,0,0,0.017091266345232725);\">his</span> <span style=\"background-color:rgba(255,0,0,0.01821639947593212);\">way</span> <span style=\"background-color:rgba(255,0,0,0.011739445617422462);\">out</span> <span style=\"background-color:rgba(255,0,0,0.013981120428070426);\">the</span> <span style=\"background-color:rgba(255,0,0,0.006834679516032338);\">friend</span> zone. he'll <span style=\"background-color:rgba(255,0,0,0.019954065792262554);\">be</span> <span style=\"background-color:rgba(255,0,0,0.011557405814528465);\">there</span> <span style=\"background-color:rgba(255,0,0,0.01997249899432063);\">in</span> <span style=\"background-color:rgba(255,0,0,0.02993270056322217);\">a</span> <span style=\"background-color:rgba(255,0,0,0.004025964008178562);\">jiffy</span> https…"
      ],
      "text/plain": [
       "<IPython.core.display.HTML object>"
      ]
     },
     "metadata": {},
     "output_type": "display_data"
    },
    {
     "data": {
      "text/html": [
       "rt @anthony__m4: <span style=\"background-color:rgba(255,0,0,0.006348288734443486);\">i</span> <span style=\"background-color:rgba(255,0,0,0.3598879277706146);\">hate</span> <span style=\"background-color:rgba(255,0,0,0.17721828073263168);\">yo</span> <span style=\"background-color:rgba(255,0,0,0.5820465087890625);\">dumbass</span> https://t.co/gl8ngfgabp"
      ],
      "text/plain": [
       "<IPython.core.display.HTML object>"
      ]
     },
     "metadata": {},
     "output_type": "display_data"
    },
    {
     "data": {
      "text/html": [
       "rt @barbiiwoah: <span style=\"background-color:rgba(255,0,0,0.001821824989747256);\">no</span> <span style=\"background-color:rgba(255,0,0,0.0038438665797002614);\">matter</span> <span style=\"background-color:rgba(255,0,0,0.0030928038177080452);\">how</span> <span style=\"background-color:rgba(255,0,0,0.25870829820632935);\">mad</span> <span style=\"background-color:rgba(255,0,0,0.052982806228101254);\">i</span> <span style=\"background-color:rgba(255,0,0,0.024966099299490452);\">am</span> <span style=\"background-color:rgba(255,0,0,0.024643356446176767);\">at</span> <span style=\"background-color:rgba(255,0,0,0.014371287543326616);\">my</span> <span style=\"background-color:rgba(255,0,0,0.3164052963256836);\">nigga</span> <span style=\"background-color:rgba(255,0,0,0.31661536544561386);\">ima</span> <span style=\"background-color:rgba(255,0,0,0.07493590004742146);\">still</span> <span style=\"background-color:rgba(255,0,0,0.058236224576830864);\">sleep</span> <span style=\"background-color:rgba(255,0,0,0.02244260860607028);\">in</span> <span style=\"background-color:rgba(255,0,0,0.02885388908907771);\">his</span> <span style=\"background-color:rgba(255,0,0,0.011093944776803255);\">jacket</span> &#129335;‍♀️"
      ],
      "text/plain": [
       "<IPython.core.display.HTML object>"
      ]
     },
     "metadata": {},
     "output_type": "display_data"
    },
    {
     "data": {
      "text/html": [
       "<span style=\"background-color:rgba(255,0,0,0.008735624724067748);\">when</span> <span style=\"background-color:rgba(255,0,0,0.01483977772295475);\">a</span> <span style=\"background-color:rgba(255,0,0,0.678679496049881);\">nigga</span> <span style=\"background-color:rgba(255,0,0,0.0854626577347517);\">got</span> <span style=\"background-color:rgba(255,0,0,0.014041988179087639);\">you</span> <span style=\"background-color:rgba(255,0,0,0.13834345154464245);\">fucked</span> <span style=\"background-color:rgba(255,0,0,0.16096867620944977);\">up</span> &#128514;&#128514;&#128514;&#129296;&#128579; https://t.co/y6nyz21eg7"
      ],
      "text/plain": [
       "<IPython.core.display.HTML object>"
      ]
     },
     "metadata": {},
     "output_type": "display_data"
    },
    {
     "data": {
      "text/html": [
       "rt @jayymoneyyy_: nah. <span style=\"background-color:rgba(255,0,0,0.2052156627178192);\">y&#x27;all</span> <span style=\"background-color:rgba(255,0,0,0.6882267445325851);\">niggas</span> <span style=\"background-color:rgba(255,0,0,0.04294367507100105);\">got</span> <span style=\"background-color:rgba(255,0,0,0.01715103746391833);\">me</span> <span style=\"background-color:rgba(255,0,0,0.07753927260637283);\">fucked</span> <span style=\"background-color:rgba(255,0,0,0.07107142359018326);\">up</span> @netflix https://t.co/lyermlnggs"
      ],
      "text/plain": [
       "<IPython.core.display.HTML object>"
      ]
     },
     "metadata": {},
     "output_type": "display_data"
    },
    {
     "data": {
      "text/html": [
       "rt @__clararose: <span style=\"background-color:rgba(255,0,0,0.0036164093762636185);\">i</span> <span style=\"background-color:rgba(255,0,0,0.20501621067523956);\">hate</span> <span style=\"background-color:rgba(255,0,0,0.028343144804239273);\">the</span> <span style=\"background-color:rgba(255,0,0,0.06137368734925985);\">feeling</span> <span style=\"background-color:rgba(255,0,0,0.016972318990156054);\">of</span> <span style=\"background-color:rgba(255,0,0,0.05617781076580286);\">knowing</span> there's <span style=\"background-color:rgba(255,0,0,0.07308603264391422);\">nothing</span> <span style=\"background-color:rgba(255,0,0,0.0161974155344069);\">you</span> <span style=\"background-color:rgba(255,0,0,0.032812843564897776);\">can</span> <span style=\"background-color:rgba(255,0,0,0.021476573310792446);\">do</span> <span style=\"background-color:rgba(255,0,0,0.008847862482070923);\">to</span> <span style=\"background-color:rgba(255,0,0,0.04638840910047293);\">change</span> <span style=\"background-color:rgba(255,0,0,0.040887813083827496);\">something</span> <span style=\"background-color:rgba(255,0,0,0.0161974155344069);\">you</span> <span style=\"background-color:rgba(255,0,0,0.0380130298435688);\">wanna</span> <span style=\"background-color:rgba(255,0,0,0.44176194816827774);\">fucking</span> <span style=\"background-color:rgba(255,0,0,0.04638840910047293);\">change</span>"
      ],
      "text/plain": [
       "<IPython.core.display.HTML object>"
      ]
     },
     "metadata": {},
     "output_type": "display_data"
    },
    {
     "data": {
      "text/html": [
       "rt @jrdabest1: <span style=\"background-color:rgba(255,0,0,0.15071846544742584);\">stupid</span> <span style=\"background-color:rgba(255,0,0,0.4739728569984436);\">ass</span> <span style=\"background-color:rgba(255,0,0,0.5666564404964447);\">niggas</span> https://t.co/xvrethtfif"
      ],
      "text/plain": [
       "<IPython.core.display.HTML object>"
      ]
     },
     "metadata": {},
     "output_type": "display_data"
    },
    {
     "data": {
      "text/html": [
       "<span style=\"background-color:rgba(255,0,0,0.006907192291691899);\">im</span> <span style=\"background-color:rgba(255,0,0,0.015420414274558425);\">so</span> <span style=\"background-color:rgba(255,0,0,0.1713818870484829);\">fucking</span> pissed!!! <span style=\"background-color:rgba(255,0,0,0.012806336162611842);\">i</span> <span style=\"background-color:rgba(255,0,0,0.4126002639532089);\">hate</span> <span style=\"background-color:rgba(255,0,0,0.017099835677072406);\">you</span> trump, <span style=\"background-color:rgba(255,0,0,0.012806336162611842);\">i</span> <span style=\"background-color:rgba(255,0,0,0.018671518191695213);\">wanted</span> <span style=\"background-color:rgba(255,0,0,0.0040827569318935275);\">to</span> <span style=\"background-color:rgba(255,0,0,0.002568582131061703);\">start</span> <span style=\"background-color:rgba(255,0,0,0.00884492532350123);\">ww3</span>"
      ],
      "text/plain": [
       "<IPython.core.display.HTML object>"
      ]
     },
     "metadata": {},
     "output_type": "display_data"
    },
    {
     "data": {
      "text/html": [
       "<span style=\"background-color:rgba(255,0,0,0.0007548498979303986);\">i</span> <span style=\"background-color:rgba(255,0,0,0.08892996236681938);\">fucking</span> <span style=\"background-color:rgba(255,0,0,0.19539011642336845);\">hate</span> <span style=\"background-color:rgba(255,0,0,0.011797297047451138);\">my</span> <span style=\"background-color:rgba(255,0,0,0.0023560936097055674);\">family</span> they're <span style=\"background-color:rgba(255,0,0,0.010492427973076701);\">so</span> <span style=\"background-color:rgba(255,0,0,0.08892996236681938);\">fucking</span> annoying. <span style=\"background-color:rgba(255,0,0,0.1467843446880579);\">im</span> <span style=\"background-color:rgba(255,0,0,0.014031709870323539);\">never</span> <span style=\"background-color:rgba(255,0,0,0.005808859132230282);\">in</span> <span style=\"background-color:rgba(255,0,0,0.08892996236681938);\">fucking</span> <span style=\"background-color:rgba(255,0,0,0.03630519611760974);\">peace</span>"
      ],
      "text/plain": [
       "<IPython.core.display.HTML object>"
      ]
     },
     "metadata": {},
     "output_type": "display_data"
    },
    {
     "data": {
      "text/html": [
       "rt @kadadadin: <span style=\"background-color:rgba(255,0,0,0.001457161270081997);\">my</span> <span style=\"background-color:rgba(255,0,0,0.0026251663803122938);\">mom</span> <span style=\"background-color:rgba(255,0,0,0.001011183558148332);\">made</span> <span style=\"background-color:rgba(255,0,0,0.0020091296755708754);\">me</span> <span style=\"background-color:rgba(255,0,0,0.00038839905755594373);\">get</span> <span style=\"background-color:rgba(255,0,0,0.0010206146544078365);\">a</span> <span style=\"background-color:rgba(255,0,0,0.015201729256659746);\">haircut</span> <span style=\"background-color:rgba(255,0,0,0.0032898870995268226);\">and</span> <span style=\"background-color:rgba(255,0,0,0.004829902900382876);\">i</span> <span style=\"background-color:rgba(255,0,0,0.1279472466558218);\">fucking</span> <span style=\"background-color:rgba(255,0,0,0.9883900731801987);\">hate</span> it."
      ],
      "text/plain": [
       "<IPython.core.display.HTML object>"
      ]
     },
     "metadata": {},
     "output_type": "display_data"
    },
    {
     "data": {
      "text/html": [
       "rt @famous_asf: <span style=\"background-color:rgba(255,0,0,0.11678257957100868);\">niggas</span> <span style=\"background-color:rgba(255,0,0,0.0164555583614856);\">will</span> <span style=\"background-color:rgba(255,0,0,0.026500027161091566);\">not</span> <span style=\"background-color:rgba(255,0,0,0.019553792662918568);\">be</span> <span style=\"background-color:rgba(255,0,0,0.5331185832619667);\">fucking</span> <span style=\"background-color:rgba(255,0,0,0.13796966522932053);\">me</span> <span style=\"background-color:rgba(255,0,0,0.19458798691630363);\">over</span> <span style=\"background-color:rgba(255,0,0,0.061566256918013096);\">all</span> <span style=\"background-color:rgba(255,0,0,0.006406298489309847);\">2017</span> <span style=\"background-color:rgba(255,0,0,0.06061472464352846);\">bih</span> &#128064;&#128064;&#128064;&#128557;&#128557;&#128557;&#128530;&#128530;&#128530;&#128405;&#127998;&#128405;&#127998;&#128405;&#127998;&#128517;&#128517; https://t.co/bobfacqxzp"
      ],
      "text/plain": [
       "<IPython.core.display.HTML object>"
      ]
     },
     "metadata": {},
     "output_type": "display_data"
    },
    {
     "data": {
      "text/html": [
       "rt @301von_: <span style=\"background-color:rgba(255,0,0,0.0754791172221303);\">nigga</span> <span style=\"background-color:rgba(255,0,0,0.28155170381069183);\">damn</span> <span style=\"background-color:rgba(255,0,0,0.24041863158345222);\">y&#x27;all</span> <span style=\"background-color:rgba(255,0,0,0.3655616566538811);\">females</span> <span style=\"background-color:rgba(255,0,0,0.058337016962468624);\">too</span> <span style=\"background-color:rgba(255,0,0,0.11967599391937256);\">ruthless</span> <span style=\"background-color:rgba(255,0,0,0.06604854483157396);\">rl</span> https://t.co/nqgv8ul1ge"
      ],
      "text/plain": [
       "<IPython.core.display.HTML object>"
      ]
     },
     "metadata": {},
     "output_type": "display_data"
    },
    {
     "data": {
      "text/html": [
       "@wweromanreigns <span style=\"background-color:rgba(255,0,0,0.002388996654190123);\">you</span> don't <span style=\"background-color:rgba(255,0,0,0.028423459734767675);\">deserve</span> <span style=\"background-color:rgba(255,0,0,0.01093625440262258);\">this</span> shit!! it's <span style=\"background-color:rgba(255,0,0,0.01166276982985437);\">your</span> <span style=\"background-color:rgba(255,0,0,0.013914572773501277);\">yard</span> <span style=\"background-color:rgba(255,0,0,0.2846802957355976);\">fuck</span> <span style=\"background-color:rgba(255,0,0,0.0956397969275713);\">those</span> haters!!!!"
      ],
      "text/plain": [
       "<IPython.core.display.HTML object>"
      ]
     },
     "metadata": {},
     "output_type": "display_data"
    },
    {
     "data": {
      "text/html": [
       "<span style=\"background-color:rgba(255,0,0,0.04274510778486729);\">ignorant</span> <span style=\"background-color:rgba(255,0,0,0.22428670898079872);\">ass</span> <span style=\"background-color:rgba(255,0,0,0.5504135414958);\">bitch</span> <span style=\"background-color:rgba(255,0,0,0.02511214232072234);\">i</span> <span style=\"background-color:rgba(255,0,0,0.26900021359324455);\">hate</span> <span style=\"background-color:rgba(255,0,0,0.0066321383928880095);\">you</span> <span style=\"background-color:rgba(255,0,0,0.09699270129203796);\">fuck</span> <span style=\"background-color:rgba(255,0,0,0.0066321383928880095);\">you</span> https://t.co/yygi8j49t4"
      ],
      "text/plain": [
       "<IPython.core.display.HTML object>"
      ]
     },
     "metadata": {},
     "output_type": "display_data"
    },
    {
     "data": {
      "text/html": [
       "rt @starryseptics: <span style=\"background-color:rgba(255,0,0,0.005872863112017512);\">literally</span> <span style=\"background-color:rgba(255,0,0,0.006986411171965301);\">these</span> <span style=\"background-color:rgba(255,0,0,0.0694324029609561);\">stupid</span> <span style=\"background-color:rgba(255,0,0,0.04355889279395342);\">fucking</span> <span style=\"background-color:rgba(255,0,0,0.019897781312465668);\">people</span> <span style=\"background-color:rgba(255,0,0,0.007720972644165158);\">are</span> <span style=\"background-color:rgba(255,0,0,0.008108570473268628);\">already</span> <span style=\"background-color:rgba(255,0,0,0.04355889279395342);\">fucking</span> caught, <span style=\"background-color:rgba(255,0,0,0.006986411171965301);\">these</span> <span style=\"background-color:rgba(255,0,0,0.05464520305395126);\">dumb</span> <span style=\"background-color:rgba(255,0,0,0.14257785864174366);\">ass</span> <span style=\"background-color:rgba(255,0,0,0.04355889279395342);\">fucking</span> <span style=\"background-color:rgba(255,0,0,0.1992635615170002);\">bitches</span> <span style=\"background-color:rgba(255,0,0,0.02587990602478385);\">trying</span> <span style=\"background-color:rgba(255,0,0,0.0021406469750218093);\">to</span> <span style=\"background-color:rgba(255,0,0,0.04355889279395342);\">fucking</span> attac…"
      ],
      "text/plain": [
       "<IPython.core.display.HTML object>"
      ]
     },
     "metadata": {},
     "output_type": "display_data"
    },
    {
     "data": {
      "text/html": [
       "rt @rodimusprime: <span style=\"background-color:rgba(255,0,0,0.004129521839786321);\">this</span> <span style=\"background-color:rgba(255,0,0,0.18024243414402008);\">nigga</span> <span style=\"background-color:rgba(255,0,0,0.04379949998110533);\">is</span> crazy. <span style=\"background-color:rgba(255,0,0,0.1101241260766983);\">just</span> <span style=\"background-color:rgba(255,0,0,0.07851614616811275);\">leave</span> sonny. <span style=\"background-color:rgba(255,0,0,0.00972636800725013);\">and</span> <span style=\"background-color:rgba(255,0,0,0.07851614616811275);\">leave</span> <span style=\"background-color:rgba(255,0,0,0.015064406907185912);\">your</span> <span style=\"background-color:rgba(255,0,0,0.047107660211622715);\">boy</span> <span style=\"background-color:rgba(255,0,0,0.011101195123046637);\">there</span> <span style=\"background-color:rgba(255,0,0,0.006433086819015443);\">with</span> him. #intothebadlands"
      ],
      "text/plain": [
       "<IPython.core.display.HTML object>"
      ]
     },
     "metadata": {},
     "output_type": "display_data"
    },
    {
     "data": {
      "text/html": [
       "honey: <span style=\"background-color:rgba(255,0,0,0.0027139135636389256);\">what</span> <span style=\"background-color:rgba(255,0,0,0.0032482724054716527);\">are</span> <span style=\"background-color:rgba(255,0,0,0.0015117990551516414);\">you</span> <span style=\"background-color:rgba(255,0,0,0.0031038650195114315);\">even</span> <span style=\"background-color:rgba(255,0,0,0.006633197772316635);\">upset</span> w/me about? me: <span style=\"background-color:rgba(255,0,0,0.0062231626361608505);\">i</span> don't <span style=\"background-color:rgba(255,0,0,0.6800207495689392);\">fucking</span> <span style=\"background-color:rgba(255,0,0,0.008980632992461324);\">know</span> <span style=\"background-color:rgba(255,0,0,0.017719962634146214);\">tbh</span> <span style=\"background-color:rgba(255,0,0,0.005209165974520147);\">but</span> i'm <span style=\"background-color:rgba(255,0,0,0.2792999893426895);\">mad</span> &#128557; <span style=\"background-color:rgba(255,0,0,0.6800207495689392);\">fucking</span> <span style=\"background-color:rgba(255,0,0,0.141209801658988);\">pregnancy</span> <span style=\"background-color:rgba(255,0,0,0.0015970846288837492);\">101</span>"
      ],
      "text/plain": [
       "<IPython.core.display.HTML object>"
      ]
     },
     "metadata": {},
     "output_type": "display_data"
    },
    {
     "data": {
      "text/html": [
       "@changa @redreserve <span style=\"background-color:rgba(255,0,0,0.001075764448614791);\">if</span> it's <span style=\"background-color:rgba(255,0,0,0.012901724549010396);\">not</span> <span style=\"background-color:rgba(255,0,0,0.005546606844291091);\">for</span> <span style=\"background-color:rgba(255,0,0,0.004175962822046131);\">april</span> <span style=\"background-color:rgba(255,0,0,0.016017688903957605);\">fools</span> <span style=\"background-color:rgba(255,0,0,0.07003640756011009);\">imma</span> <span style=\"background-color:rgba(255,0,0,0.4042176157236099);\">fucking</span> <span style=\"background-color:rgba(255,0,0,0.664418488740921);\">kill</span> <span style=\"background-color:rgba(255,0,0,0.028180351946502924);\">you</span>"
      ],
      "text/plain": [
       "<IPython.core.display.HTML object>"
      ]
     },
     "metadata": {},
     "output_type": "display_data"
    },
    {
     "data": {
      "text/html": [
       "rt @memesmahnegguh: <span style=\"background-color:rgba(255,0,0,0.01381059642881155);\">that</span> <span style=\"background-color:rgba(255,0,0,0.0036160994204692543);\">one</span> <span style=\"background-color:rgba(255,0,0,0.31132105737924576);\">nigga</span> <span style=\"background-color:rgba(255,0,0,0.08148855529725552);\">who</span> <span style=\"background-color:rgba(255,0,0,0.04321083892136812);\">always</span> <span style=\"background-color:rgba(255,0,0,0.01737974933348596);\">wear</span> <span style=\"background-color:rgba(255,0,0,0.04616623278707266);\">just</span> <span style=\"background-color:rgba(255,0,0,0.04721762612462044);\">a</span> <span style=\"background-color:rgba(255,0,0,0.016016988083720207);\">hoodie</span> <span style=\"background-color:rgba(255,0,0,0.019421346951276064);\">in</span> <span style=\"background-color:rgba(255,0,0,0.36599691957235336);\">cold</span> weather.... #memesmahnegguh https://t.co/vduqklzthf"
      ],
      "text/plain": [
       "<IPython.core.display.HTML object>"
      ]
     },
     "metadata": {},
     "output_type": "display_data"
    },
    {
     "data": {
      "text/html": [
       "rt @astoldbybrina: <span style=\"background-color:rgba(255,0,0,0.0028074716101400554);\">let</span> <span style=\"background-color:rgba(255,0,0,0.0014852837193757296);\">an</span> <span style=\"background-color:rgba(255,0,0,0.18866775557398796);\">ugly</span> <span style=\"background-color:rgba(255,0,0,0.7095570117235184);\">nigga</span> <span style=\"background-color:rgba(255,0,0,0.2637824974954128);\">bless</span> <span style=\"background-color:rgba(255,0,0,0.013148969737812877);\">your</span> <span style=\"background-color:rgba(255,0,0,0.006091189570724964);\">life</span>"
      ],
      "text/plain": [
       "<IPython.core.display.HTML object>"
      ]
     },
     "metadata": {},
     "output_type": "display_data"
    },
    {
     "data": {
      "text/html": [
       "@a_bit_too_much @localheroin <span style=\"background-color:rgba(255,0,0,0.003006177139468491);\">date</span> intellectuals, <span style=\"background-color:rgba(255,0,0,0.006614903104491532);\">reach</span> 30, <span style=\"background-color:rgba(255,0,0,0.009557186858728528);\">then</span> <span style=\"background-color:rgba(255,0,0,0.03722492139786482);\">throw</span> advices. <span style=\"background-color:rgba(255,0,0,0.619850680232048);\">fucking</span> kids."
      ],
      "text/plain": [
       "<IPython.core.display.HTML object>"
      ]
     },
     "metadata": {},
     "output_type": "display_data"
    },
    {
     "data": {
      "text/html": [
       "<span style=\"background-color:rgba(255,0,0,0.6577622890472412);\">fucking</span> <span style=\"background-color:rgba(255,0,0,0.10750753805041313);\">prostitutes</span> <span style=\"background-color:rgba(255,0,0,0.08180241100490093);\">in</span> <span style=\"background-color:rgba(255,0,0,0.0977552030235529);\">a</span> <span style=\"background-color:rgba(255,0,0,0.012597530148923397);\">cab</span> https://t.co/cv5vuxgmsw"
      ],
      "text/plain": [
       "<IPython.core.display.HTML object>"
      ]
     },
     "metadata": {},
     "output_type": "display_data"
    },
    {
     "data": {
      "text/html": [
       "rt @mishaleckisses: <span style=\"background-color:rgba(255,0,0,0.003957062435802072);\">the</span> \"angry\" <span style=\"background-color:rgba(255,0,0,0.013720453716814518);\">mutual</span> - <span style=\"background-color:rgba(255,0,0,0.00701748882420361);\">always</span> <span style=\"background-color:rgba(255,0,0,0.19908513873815536);\">mad</span> - \"i'm <span style=\"background-color:rgba(255,0,0,0.03186025656759739);\">so</span> <span style=\"background-color:rgba(255,0,0,0.29413800686597824);\">fucking</span> pressed\" - <span style=\"background-color:rgba(255,0,0,0.011614132672548294);\">you</span> <span style=\"background-color:rgba(255,0,0,0.01310429535806179);\">just</span> <span style=\"background-color:rgba(255,0,0,0.005051402258686721);\">want</span> <span style=\"background-color:rgba(255,0,0,0.0016172538744285703);\">to</span> <span style=\"background-color:rgba(255,0,0,0.009844211162999272);\">hug</span> <span style=\"background-color:rgba(255,0,0,0.0064056896371766925);\">all</span> <span style=\"background-color:rgba(255,0,0,0.003957062435802072);\">the</span> <span style=\"background-color:rgba(255,0,0,0.20622385665774345);\">hate</span> <span style=\"background-color:rgba(255,0,0,0.15012092888355255);\">away</span> https://t.co/c9dju…"
      ],
      "text/plain": [
       "<IPython.core.display.HTML object>"
      ]
     },
     "metadata": {},
     "output_type": "display_data"
    },
    {
     "data": {
      "text/html": [
       "#hairy <span style=\"background-color:rgba(255,0,0,0.010807841317728162);\">tarts</span> <span style=\"background-color:rgba(255,0,0,0.6449905782938004);\">fucking</span> <span style=\"background-color:rgba(255,0,0,0.13905017636716366);\">arabfreesex</span> https://t.co/ximv95phm6"
      ],
      "text/plain": [
       "<IPython.core.display.HTML object>"
      ]
     },
     "metadata": {},
     "output_type": "display_data"
    },
    {
     "data": {
      "text/html": [
       "rt @rennsheila: @nathandwilsonfl @david52stone <span style=\"background-color:rgba(255,0,0,0.0004900791100226343);\">save</span> <span style=\"background-color:rgba(255,0,0,0.0009426155884284526);\">the</span> <span style=\"background-color:rgba(255,0,0,0.0007661464769626036);\">tax</span> <span style=\"background-color:rgba(255,0,0,0.0008875833736965433);\">payers</span> money. <span style=\"background-color:rgba(255,0,0,0.0025710093905217946);\">go</span> <span style=\"background-color:rgba(255,0,0,0.0017144184675998986);\">ahead</span> <span style=\"background-color:rgba(255,0,0,0.04133821465075016);\">and</span> <span style=\"background-color:rgba(255,0,0,0.0008852165046846494);\">electrocute</span> <span style=\"background-color:rgba(255,0,0,0.008468951564282179);\">his</span> <span style=\"background-color:rgba(255,0,0,0.13132269494235516);\">sorry</span> <span style=\"background-color:rgba(255,0,0,0.9959176182746887);\">ass</span> <span style=\"background-color:rgba(255,0,0,0.04133821465075016);\">and</span> <span style=\"background-color:rgba(255,0,0,0.0044147364678792655);\">get</span> <span style=\"background-color:rgba(255,0,0,0.004924803506582975);\">it</span> done!!!"
      ],
      "text/plain": [
       "<IPython.core.display.HTML object>"
      ]
     },
     "metadata": {},
     "output_type": "display_data"
    },
    {
     "data": {
      "text/html": [
       "<span style=\"background-color:rgba(255,0,0,0.004111308371648192);\">once</span> <span style=\"background-color:rgba(255,0,0,0.01044449396431446);\">u</span> <span style=\"background-color:rgba(255,0,0,0.020139131229370832);\">shoot</span> <span style=\"background-color:rgba(255,0,0,0.0004844580325880088);\">100</span> <span style=\"background-color:rgba(255,0,0,0.0016023556236177683);\">shots</span> <span style=\"background-color:rgba(255,0,0,0.0031522373319603503);\">at</span> <span style=\"background-color:rgba(255,0,0,0.011946158483624458);\">a</span> <span style=\"background-color:rgba(255,0,0,0.28985539451241493);\">nigga</span> <span style=\"background-color:rgba(255,0,0,0.020543169230222702);\">and</span> <span style=\"background-color:rgba(255,0,0,0.02274192636832595);\">miss</span> <span style=\"background-color:rgba(255,0,0,0.0073985569179058075);\">you</span> <span style=\"background-color:rgba(255,0,0,0.011946158483624458);\">a</span> <span style=\"background-color:rgba(255,0,0,0.2718149311840534);\">cold</span> gump! <span style=\"background-color:rgba(255,0,0,0.09540313854813576);\">dolph</span> <span style=\"background-color:rgba(255,0,0,0.01076890155673027);\">the</span> <span style=\"background-color:rgba(255,0,0,0.0151413818821311);\">king</span> <span style=\"background-color:rgba(255,0,0,0.01076890155673027);\">the</span> <span style=\"background-color:rgba(255,0,0,0.02220192924141884);\">memphis</span> @youngdolph"
      ],
      "text/plain": [
       "<IPython.core.display.HTML object>"
      ]
     },
     "metadata": {},
     "output_type": "display_data"
    },
    {
     "data": {
      "text/html": [
       "rt @greener_kd: <span style=\"background-color:rgba(255,0,0,0.0018569017993286252);\">i</span> <span style=\"background-color:rgba(255,0,0,0.011146279284730554);\">literally</span> <span style=\"background-color:rgba(255,0,0,0.14459487050771713);\">fucking</span> <span style=\"background-color:rgba(255,0,0,0.8408432453870773);\">hate</span> <span style=\"background-color:rgba(255,0,0,0.20669233053922653);\">waiting</span> <span style=\"background-color:rgba(255,0,0,0.012968690134584904);\">on</span> <span style=\"background-color:rgba(255,0,0,0.006397085962817073);\">people</span>"
      ],
      "text/plain": [
       "<IPython.core.display.HTML object>"
      ]
     },
     "metadata": {},
     "output_type": "display_data"
    },
    {
     "data": {
      "text/html": [
       "rt @mydickbroke: <span style=\"background-color:rgba(255,0,0,0.5441953986883163);\">fucking</span> <span style=\"background-color:rgba(255,0,0,0.04208398051559925);\">your</span> <span style=\"background-color:rgba(255,0,0,0.26821237057447433);\">homies</span> <span style=\"background-color:rgba(255,0,0,0.04943467676639557);\">on</span> <span style=\"background-color:rgba(255,0,0,0.01655884669162333);\">april</span> <span style=\"background-color:rgba(255,0,0,0.05343252792954445);\">fools</span> &gt;&gt;&gt;"
      ],
      "text/plain": [
       "<IPython.core.display.HTML object>"
      ]
     },
     "metadata": {},
     "output_type": "display_data"
    },
    {
     "data": {
      "text/html": [
       "@leithfadel @ali_kourani <span style=\"background-color:rgba(255,0,0,0.007727926131337881);\">then</span> <span style=\"background-color:rgba(255,0,0,0.0021255506726447493);\">get</span> <span style=\"background-color:rgba(255,0,0,0.0026077200891450047);\">out</span> <span style=\"background-color:rgba(255,0,0,0.0026708008954301476);\">from</span> <span style=\"background-color:rgba(255,0,0,0.041021560318768024);\">syria</span> <span style=\"background-color:rgba(255,0,0,0.9234348684549332);\">fucking</span> <span style=\"background-color:rgba(255,0,0,0.13277367688715458);\">shia</span>"
      ],
      "text/plain": [
       "<IPython.core.display.HTML object>"
      ]
     },
     "metadata": {},
     "output_type": "display_data"
    },
    {
     "data": {
      "text/html": [
       "<span style=\"background-color:rgba(255,0,0,0.00018521766833146103);\">florida</span> <span style=\"background-color:rgba(255,0,0,0.0001721681110211648);\">ohio</span> <span style=\"background-color:rgba(255,0,0,4.312029432185227e-05);\">pennsylvania</span> <span style=\"background-color:rgba(255,0,0,0.00015167490346357226);\">people</span> <span style=\"background-color:rgba(255,0,0,0.0004771517342305742);\">upset</span> <span style=\"background-color:rgba(255,0,0,0.000981629709713161);\">are</span> <span style=\"background-color:rgba(255,0,0,0.004517117922659963);\">so</span> <span style=\"background-color:rgba(255,0,0,0.029318856541067362);\">god</span> <span style=\"background-color:rgba(255,0,0,0.1884922757744789);\">damn</span> <span style=\"background-color:rgba(255,0,0,0.7248363643884659);\">stupid</span> <span style=\"background-color:rgba(255,0,0,0.029817777685821056);\">it</span> hurts, <span style=\"background-color:rgba(255,0,0,0.049948953092098236);\">im</span> <span style=\"background-color:rgba(255,0,0,0.021140105091035366);\">not</span> <span style=\"background-color:rgba(255,0,0,0.00927035347558558);\">a</span> <span style=\"background-color:rgba(255,0,0,0.005690326797775924);\">fan</span> <span style=\"background-color:rgba(255,0,0,0.0017618619312997907);\">of</span> <span style=\"background-color:rgba(255,0,0,0.0019940067431889474);\">the</span> <span style=\"background-color:rgba(255,0,0,0.007486789836548269);\">strike</span> <span style=\"background-color:rgba(255,0,0,0.004188605817034841);\">but</span> <span style=\"background-color:rgba(255,0,0,0.08628900162875652);\">christ</span> <span style=\"background-color:rgba(255,0,0,0.01419198582880199);\">do</span> at… https://t.co/kzd4ydgsug"
      ],
      "text/plain": [
       "<IPython.core.display.HTML object>"
      ]
     },
     "metadata": {},
     "output_type": "display_data"
    },
    {
     "data": {
      "text/html": [
       "<span style=\"background-color:rgba(255,0,0,0.0262687006033957);\">all</span> <span style=\"background-color:rgba(255,0,0,0.010852584382519126);\">my</span> <span style=\"background-color:rgba(255,0,0,0.17708495259284973);\">niggas</span> <span style=\"background-color:rgba(255,0,0,0.006861236761324108);\">wear</span> crowns, <span style=\"background-color:rgba(255,0,0,0.0262687006033957);\">all</span> <span style=\"background-color:rgba(255,0,0,0.010852584382519126);\">my</span> <span style=\"background-color:rgba(255,0,0,0.17708495259284973);\">niggas</span> <span style=\"background-color:rgba(255,0,0,0.024814747739583254);\">bossed</span> up, <span style=\"background-color:rgba(255,0,0,0.0262687006033957);\">all</span> <span style=\"background-color:rgba(255,0,0,0.010852584382519126);\">my</span> <span style=\"background-color:rgba(255,0,0,0.17708495259284973);\">niggas</span> <span style=\"background-color:rgba(255,0,0,0.021227491088211536);\">got</span> <span style=\"background-color:rgba(255,0,0,0.07214501034468412);\">bad</span> <span style=\"background-color:rgba(255,0,0,0.3014337457716465);\">bitches</span> don't <span style=\"background-color:rgba(255,0,0,0.007148480508476496);\">none</span> <span style=\"background-color:rgba(255,0,0,0.0022399943554773927);\">of</span> <span style=\"background-color:rgba(255,0,0,0.003488911606837064);\">us</span> <span style=\"background-color:rgba(255,0,0,0.002854520862456411);\">give</span> <span style=\"background-color:rgba(255,0,0,0.006364905857481062);\">a</span> fuck."
      ],
      "text/plain": [
       "<IPython.core.display.HTML object>"
      ]
     },
     "metadata": {},
     "output_type": "display_data"
    },
    {
     "data": {
      "text/html": [
       "<span style=\"background-color:rgba(255,0,0,0.0015101062308531255);\">the</span> <span style=\"background-color:rgba(255,0,0,0.0005565875471802428);\">first</span> <span style=\"background-color:rgba(255,0,0,0.0008528283797204494);\">picture</span> <span style=\"background-color:rgba(255,0,0,0.0007609205931657925);\">fxdvk</span> <span style=\"background-color:rgba(255,0,0,0.0017572833166923374);\">i</span> <span style=\"background-color:rgba(255,0,0,0.0022683404677081853);\">loved</span> <span style=\"background-color:rgba(255,0,0,0.004966334090568125);\">them</span> <span style=\"background-color:rgba(255,0,0,0.01937551307491958);\">so</span> <span style=\"background-color:rgba(255,0,0,0.00885104585904628);\">much</span> <span style=\"background-color:rgba(255,0,0,0.33552136272192);\">bitch</span> <span style=\"background-color:rgba(255,0,0,0.11246373876929283);\">why</span> <span style=\"background-color:rgba(255,0,0,0.022551438305526972);\">would</span> <span style=\"background-color:rgba(255,0,0,0.012678250204771757);\">she</span> <span style=\"background-color:rgba(255,0,0,0.016308632912114263);\">break</span> <span style=\"background-color:rgba(255,0,0,0.055676745250821114);\">up</span> <span style=\"background-color:rgba(255,0,0,0.01027615973725915);\">with</span> <span style=\"background-color:rgba(255,0,0,0.041558616794645786);\">him</span> <span style=\"background-color:rgba(255,0,0,0.47210466116666794);\">wtf</span> he's <span style=\"background-color:rgba(255,0,0,0.006637145997956395);\">perfect</span> https://t.co/tjv6s2fwxe"
      ],
      "text/plain": [
       "<IPython.core.display.HTML object>"
      ]
     },
     "metadata": {},
     "output_type": "display_data"
    },
    {
     "data": {
      "text/html": [
       "@dondadaaa <span style=\"background-color:rgba(255,0,0,0.0248115137219429);\">y&#x27;all</span> <span style=\"background-color:rgba(255,0,0,0.16329677775502205);\">niggas</span> <span style=\"background-color:rgba(255,0,0,0.016258519608527422);\">was</span> <span style=\"background-color:rgba(255,0,0,0.00864849949721247);\">toasting</span> <span style=\"background-color:rgba(255,0,0,0.00770523096434772);\">my</span> <span style=\"background-color:rgba(255,0,0,0.11720628477633);\">shit</span> <span style=\"background-color:rgba(255,0,0,0.017679677112028003);\">on</span> <span style=\"background-color:rgba(255,0,0,0.00770523096434772);\">my</span> <span style=\"background-color:rgba(255,0,0,0.0133137172088027);\">park</span> <span style=\"background-color:rgba(255,0,0,0.008045061840675771);\">the</span> <span style=\"background-color:rgba(255,0,0,0.004114449548069388);\">other</span> <span style=\"background-color:rgba(255,0,0,0.0027694410528056324);\">week</span> <span style=\"background-color:rgba(255,0,0,0.07985631935298443);\">lmaoooo</span> <span style=\"background-color:rgba(255,0,0,0.008990130154415965);\">i</span> <span style=\"background-color:rgba(255,0,0,0.016258519608527422);\">was</span> <span style=\"background-color:rgba(255,0,0,0.029570625629276037);\">like</span> <span style=\"background-color:rgba(255,0,0,0.4225398972630501);\">damn</span> <span style=\"background-color:rgba(255,0,0,0.17292248085141182);\">just</span> <span style=\"background-color:rgba(255,0,0,0.0508845504373312);\">wait</span> <span style=\"background-color:rgba(255,0,0,0.012889339122921228);\">till</span> <span style=\"background-color:rgba(255,0,0,0.008990130154415965);\">i</span> <span style=\"background-color:rgba(255,0,0,0.0015332011389546096);\">get</span> <span style=\"background-color:rgba(255,0,0,0.003462065360508859);\">a</span> <span style=\"background-color:rgba(255,0,0,0.005027492297813296);\">mic</span>"
      ],
      "text/plain": [
       "<IPython.core.display.HTML object>"
      ]
     },
     "metadata": {},
     "output_type": "display_data"
    },
    {
     "data": {
      "text/html": [
       "<span style=\"background-color:rgba(255,0,0,0.004390665853861719);\">i</span> <span style=\"background-color:rgba(255,0,0,0.24890922009944916);\">hate</span> <span style=\"background-color:rgba(255,0,0,0.03441127948462963);\">the</span> <span style=\"background-color:rgba(255,0,0,0.7501569390296936);\">bitch</span> <span style=\"background-color:rgba(255,0,0,0.03366059856489301);\">with</span> <span style=\"background-color:rgba(255,0,0,0.0214115297421813);\">a</span> <span style=\"background-color:rgba(255,0,0,0.07260579150170088);\">passion</span> https://t.co/rofd8iat3h"
      ],
      "text/plain": [
       "<IPython.core.display.HTML object>"
      ]
     },
     "metadata": {},
     "output_type": "display_data"
    },
    {
     "data": {
      "text/html": [
       "@coptheworld @_cool_breeze85 @amiller_79 @amseif19 @deadlaced @scoop208 @cosmicsneaker @sneakerchief23 <span style=\"background-color:rgba(255,0,0,0.003084001364186406);\">this</span> <span style=\"background-color:rgba(255,0,0,0.1346083078533411);\">nigga</span> <span style=\"background-color:rgba(255,0,0,0.9936472773551941);\">retarded</span>"
      ],
      "text/plain": [
       "<IPython.core.display.HTML object>"
      ]
     },
     "metadata": {},
     "output_type": "display_data"
    },
    {
     "data": {
      "text/html": [
       "@itsghetti <span style=\"background-color:rgba(255,0,0,0.0008755827002460137);\">but</span> <span style=\"background-color:rgba(255,0,0,0.0011092564091086388);\">ligit</span> <span style=\"background-color:rgba(255,0,0,0.008973435033112764);\">tho</span> don't <span style=\"background-color:rgba(255,0,0,0.010208360617980361);\">hmu</span> brigette... <span style=\"background-color:rgba(255,0,0,0.0281033618375659);\">dis</span> <span style=\"background-color:rgba(255,0,0,0.35264357924461365);\">bitch</span> <span style=\"background-color:rgba(255,0,0,0.258992537856102);\">crazy</span> af, <span style=\"background-color:rgba(255,0,0,0.004399212775751948);\">any</span> <span style=\"background-color:rgba(255,0,0,0.016440562903881073);\">guy</span> <span style=\"background-color:rgba(255,0,0,0.03173926146700978);\">wanting</span> <span style=\"background-color:rgba(255,0,0,0.01886693062260747);\">her</span> <span style=\"background-color:rgba(255,0,0,0.005842495593242347);\">must</span> <span style=\"background-color:rgba(255,0,0,0.004533913743216544);\">be</span> <span style=\"background-color:rgba(255,0,0,0.04923497326672077);\">fucked</span> <span style=\"background-color:rgba(255,0,0,0.011032652109861374);\">in</span> <span style=\"background-color:rgba(255,0,0,0.005002996767871082);\">the</span> head..."
      ],
      "text/plain": [
       "<IPython.core.display.HTML object>"
      ]
     },
     "metadata": {},
     "output_type": "display_data"
    },
    {
     "data": {
      "text/html": [
       "<span style=\"background-color:rgba(255,0,0,0.0014403430395759642);\">i</span> <span style=\"background-color:rgba(255,0,0,0.0012711796443909407);\">will</span> <span style=\"background-color:rgba(255,0,0,0.0019678196986205876);\">never</span> <span style=\"background-color:rgba(255,0,0,0.0052994751604273915);\">forgive</span> <span style=\"background-color:rgba(255,0,0,0.004399815516080707);\">the</span> <span style=\"background-color:rgba(255,0,0,0.004716629337053746);\">rihanna</span> <span style=\"background-color:rgba(255,0,0,0.00046978428144939244);\">navi</span> <span style=\"background-color:rgba(255,0,0,0.0009362594573758543);\">for</span> <span style=\"background-color:rgba(255,0,0,0.0076800520764663815);\">letting</span> <span style=\"background-color:rgba(255,0,0,0.00143925950396806);\">kib</span> <span style=\"background-color:rgba(255,0,0,0.008845602278597653);\">flop</span> <span style=\"background-color:rgba(255,0,0,0.005098896799609065);\">but</span> <span style=\"background-color:rgba(255,0,0,0.006511484971269965);\">that</span> <span style=\"background-color:rgba(255,0,0,0.2178754098713398);\">trash</span> <span style=\"background-color:rgba(255,0,0,0.7923974096775055);\">ass</span> <span style=\"background-color:rgba(255,0,0,0.038729445077478886);\">needed</span> <span style=\"background-color:rgba(255,0,0,0.01597402850165963);\">me</span> <span style=\"background-color:rgba(255,0,0,0.002675915602594614);\">and</span> <span style=\"background-color:rgba(255,0,0,0.01670417026616633);\">equally</span> <span style=\"background-color:rgba(255,0,0,0.09255019016563892);\">bad</span> <span style=\"background-color:rgba(255,0,0,0.0015928766515571624);\">lotb</span> <span style=\"background-color:rgba(255,0,0,0.0044586078729480505);\">are</span> <span style=\"background-color:rgba(255,0,0,0.001012949287542142);\">legitimate</span> hits!!"
      ],
      "text/plain": [
       "<IPython.core.display.HTML object>"
      ]
     },
     "metadata": {},
     "output_type": "display_data"
    },
    {
     "data": {
      "text/html": [
       "rt @louisfeola3: @on_gawwdd <span style=\"background-color:rgba(255,0,0,0.013815563870593905);\">kris</span> <span style=\"background-color:rgba(255,0,0,0.016316550318151712);\">is</span> <span style=\"background-color:rgba(255,0,0,0.018065545009449124);\">the</span> <span style=\"background-color:rgba(255,0,0,0.03988956566900015);\">mom</span> <span style=\"background-color:rgba(255,0,0,0.012767368461936712);\">you</span> <span style=\"background-color:rgba(255,0,0,0.9030704945325851);\">idiot</span>"
      ],
      "text/plain": [
       "<IPython.core.display.HTML object>"
      ]
     },
     "metadata": {},
     "output_type": "display_data"
    },
    {
     "data": {
      "text/html": [
       "<span style=\"background-color:rgba(255,0,0,0.000721018950571306);\">i</span> don't <span style=\"background-color:rgba(255,0,0,0.0012578627502080053);\">understand</span> <span style=\"background-color:rgba(255,0,0,0.0006843987648608163);\">how</span> <span style=\"background-color:rgba(255,0,0,0.002201659372076392);\">someone</span> <span style=\"background-color:rgba(255,0,0,0.002074407966574654);\">can</span> <span style=\"background-color:rgba(255,0,0,0.002206847711931914);\">be</span> <span style=\"background-color:rgba(255,0,0,0.011082225246354938);\">so</span> <span style=\"background-color:rgba(255,0,0,0.16905495896935463);\">damn</span> <span style=\"background-color:rgba(255,0,0,0.9916765242815018);\">stupid</span> &#129318;&#127997;‍♂️"
      ],
      "text/plain": [
       "<IPython.core.display.HTML object>"
      ]
     },
     "metadata": {},
     "output_type": "display_data"
    },
    {
     "data": {
      "text/html": [
       "@realdonaldtrump <span style=\"background-color:rgba(255,0,0,0.07220976520329714);\">bro</span> <span style=\"background-color:rgba(255,0,0,0.011295966105535626);\">you</span> <span style=\"background-color:rgba(255,0,0,0.04802676383405924);\">messed</span> <span style=\"background-color:rgba(255,0,0,0.010016453452408314);\">with</span> <span style=\"background-color:rgba(255,0,0,0.31636323779821396);\">fucking</span> <span style=\"background-color:rgba(255,0,0,0.38656163960695267);\">russia</span> <span style=\"background-color:rgba(255,0,0,0.061076218262314796);\">we</span> <span style=\"background-color:rgba(255,0,0,0.04909495823085308);\">all</span> <span style=\"background-color:rgba(255,0,0,0.12357858940958977);\">ded</span>"
      ],
      "text/plain": [
       "<IPython.core.display.HTML object>"
      ]
     },
     "metadata": {},
     "output_type": "display_data"
    },
    {
     "data": {
      "text/html": [
       "rt @mfinizza: @gop <span style=\"background-color:rgba(255,0,0,0.0008646468631923199);\">either</span> <span style=\"background-color:rgba(255,0,0,0.000831330253276974);\">the</span> <span style=\"background-color:rgba(255,0,0,0.0031919602770358324);\">republican</span> <span style=\"background-color:rgba(255,0,0,0.00897562422323972);\">party</span> <span style=\"background-color:rgba(255,0,0,0.005176374688744545);\">is</span> <span style=\"background-color:rgba(255,0,0,0.14940861612558365);\">fucking</span> <span style=\"background-color:rgba(255,0,0,0.14698519371449947);\">guilty</span> <span style=\"background-color:rgba(255,0,0,0.015731690218672156);\">or</span> they're <span style=\"background-color:rgba(255,0,0,0.013295169919729233);\">just</span> <span style=\"background-color:rgba(255,0,0,0.14940861612558365);\">fucking</span> stupid! <span style=\"background-color:rgba(255,0,0,0.08410371840000153);\">why</span> <span style=\"background-color:rgba(255,0,0,0.011067423038184643);\">r</span> <span style=\"background-color:rgba(255,0,0,0.006957743316888809);\">u</span> <span style=\"background-color:rgba(255,0,0,0.006864516180939972);\">letting</span> <span style=\"background-color:rgba(255,0,0,0.011044071288779378);\">trump</span> <span style=\"background-color:rgba(255,0,0,0.006081414176151156);\">take</span> <span style=\"background-color:rgba(255,0,0,0.006957743316888809);\">u</span> dow…"
      ],
      "text/plain": [
       "<IPython.core.display.HTML object>"
      ]
     },
     "metadata": {},
     "output_type": "display_data"
    },
    {
     "data": {
      "text/html": [
       "<span style=\"background-color:rgba(255,0,0,0.016351962694898248);\">i</span> <span style=\"background-color:rgba(255,0,0,0.31884703785181046);\">hate</span> <span style=\"background-color:rgba(255,0,0,0.04557373933494091);\">when</span> <span style=\"background-color:rgba(255,0,0,0.027002054266631603);\">people</span> <span style=\"background-color:rgba(255,0,0,0.06534597836434841);\">sneeze</span> <span style=\"background-color:rgba(255,0,0,0.010152931790798903);\">and</span> <span style=\"background-color:rgba(255,0,0,0.014659452717751265);\">dont</span> <span style=\"background-color:rgba(255,0,0,0.007811526884324849);\">cover</span> <span style=\"background-color:rgba(255,0,0,0.0028080845368094742);\">there</span> <span style=\"background-color:rgba(255,0,0,0.12262226082384586);\">fucking</span> <span style=\"background-color:rgba(255,0,0,0.2321583591401577);\">mouth</span> &#128534;like <span style=\"background-color:rgba(255,0,0,0.016351962694898248);\">i</span> <span style=\"background-color:rgba(255,0,0,0.014659452717751265);\">dont</span> <span style=\"background-color:rgba(255,0,0,0.006146039813756943);\">want</span> <span style=\"background-color:rgba(255,0,0,0.0022946737590245903);\">your</span> <span style=\"background-color:rgba(255,0,0,0.0724767055362463);\">nasty</span> <span style=\"background-color:rgba(255,0,0,0.06242912728339434);\">germs</span> https://t.co/egap5fq7uy"
      ],
      "text/plain": [
       "<IPython.core.display.HTML object>"
      ]
     },
     "metadata": {},
     "output_type": "display_data"
    },
    {
     "data": {
      "text/html": [
       "@ranitbyyou @washingtonpost ... <span style=\"background-color:rgba(255,0,0,0.005207216017879546);\">oh</span> wait, no! that's <span style=\"background-color:rgba(255,0,0,0.009725401178002357);\">all</span> <span style=\"background-color:rgba(255,0,0,0.0090880534844473);\">the</span> <span style=\"background-color:rgba(255,0,0,0.1304687187075615);\">crazy</span> <span style=\"background-color:rgba(255,0,0,0.5274621769785881);\">ass</span> <span style=\"background-color:rgba(255,0,0,0.45576073229312897);\">liberals</span> <span style=\"background-color:rgba(255,0,0,0.04580446518957615);\">who</span> can't <span style=\"background-color:rgba(255,0,0,0.006733077461831272);\">tolerate</span> <span style=\"background-color:rgba(255,0,0,0.006258282228372991);\">people</span> disagreein… https://t.co/ixr3qqrhob"
      ],
      "text/plain": [
       "<IPython.core.display.HTML object>"
      ]
     },
     "metadata": {},
     "output_type": "display_data"
    },
    {
     "data": {
      "text/html": [
       "<span style=\"background-color:rgba(255,0,0,0.009598108008503914);\">im</span> <span style=\"background-color:rgba(255,0,0,0.008830350707285106);\">going</span> <span style=\"background-color:rgba(255,0,0,0.0030413357308134437);\">to</span> <span style=\"background-color:rgba(255,0,0,0.032933629117906094);\">slap</span> <span style=\"background-color:rgba(255,0,0,0.013640484539791942);\">a</span> <span style=\"background-color:rgba(255,0,0,0.34565921872854233);\">bitch</span> <span style=\"background-color:rgba(255,0,0,0.015904397005215287);\">if</span> <span style=\"background-color:rgba(255,0,0,0.013318996643647552);\">another</span> <span style=\"background-color:rgba(255,0,0,0.0033167738001793623);\">trick</span> <span style=\"background-color:rgba(255,0,0,0.07133708335459232);\">ass</span> <span style=\"background-color:rgba(255,0,0,0.34565921872854233);\">bitch</span> <span style=\"background-color:rgba(255,0,0,0.02092530019581318);\">talks</span> <span style=\"background-color:rgba(255,0,0,0.026379693299531937);\">abt</span> <span style=\"background-color:rgba(255,0,0,0.005389881553128362);\">jackson</span> <span style=\"background-color:rgba(255,0,0,0.001910584105644375);\">and</span> <span style=\"background-color:rgba(255,0,0,0.017601066501811147);\">whatever</span> <span style=\"background-color:rgba(255,0,0,0.010549204889684916);\">the</span> <span style=\"background-color:rgba(255,0,0,0.1738019846379757);\">crap</span> happened. https://t.co/gmy0lr0kzj"
      ],
      "text/plain": [
       "<IPython.core.display.HTML object>"
      ]
     },
     "metadata": {},
     "output_type": "display_data"
    },
    {
     "data": {
      "text/html": [
       "rt @taaj_nomahal: <span style=\"background-color:rgba(255,0,0,0.0007503798406105489);\">or</span> <span style=\"background-color:rgba(255,0,0,0.0011951386113651097);\">be</span> <span style=\"background-color:rgba(255,0,0,0.013577803038060665);\">boring</span> <span style=\"background-color:rgba(255,0,0,0.002568300988059491);\">as</span> <span style=\"background-color:rgba(255,0,0,0.10154619812965393);\">hell</span> <span style=\"background-color:rgba(255,0,0,0.06125417072325945);\">nd</span> <span style=\"background-color:rgba(255,0,0,0.6237458810210228);\">mad</span> <span style=\"background-color:rgba(255,0,0,0.0659041665494442);\">all</span> <span style=\"background-color:rgba(255,0,0,0.014004919212311506);\">the</span> <span style=\"background-color:rgba(255,0,0,0.2447461150586605);\">nigga</span> <span style=\"background-color:rgba(255,0,0,0.056382096372544765);\">wanna</span> <span style=\"background-color:rgba(255,0,0,0.003097100998274982);\">do</span> <span style=\"background-color:rgba(255,0,0,0.004872351128142327);\">is</span> <span style=\"background-color:rgba(255,0,0,0.006984780775383115);\">hit</span> &#129335;&#127998;‍♂️ <span style=\"background-color:rgba(255,0,0,0.004734665562864393);\">what</span> <span style=\"background-color:rgba(255,0,0,0.01686644507572055);\">else</span> <span style=\"background-color:rgba(255,0,0,0.004119991208426654);\">to</span> <span style=\"background-color:rgba(255,0,0,0.003097100998274982);\">do</span> ? &#128514; https://t.co/b4c4v5xioc"
      ],
      "text/plain": [
       "<IPython.core.display.HTML object>"
      ]
     },
     "metadata": {},
     "output_type": "display_data"
    },
    {
     "data": {
      "text/html": [
       "rt @albosilynd: <span style=\"background-color:rgba(255,0,0,0.002316860045539215);\">this</span> <span style=\"background-color:rgba(255,0,0,0.10112466290593147);\">nigga</span> <span style=\"background-color:rgba(255,0,0,0.1468382030725479);\">memes</span> <span style=\"background-color:rgba(255,0,0,0.02708578947931528);\">are</span> <span style=\"background-color:rgba(255,0,0,0.04568261094391346);\">so</span> <span style=\"background-color:rgba(255,0,0,0.5011225119233131);\">fucking</span> <span style=\"background-color:rgba(255,0,0,0.3473641350865364);\">lit</span> &#128514;&#128514;&#128514;&#128514;&#128514;&#128514;&#128514;&#128514;&#128514;&#128514;&#128514;&#128514;&#128514;&#128514;&#128514;&#128514;&#128514;&#128514;&#128514;&#128514;&#128514; https://t.co/wphf7ln0ui"
      ],
      "text/plain": [
       "<IPython.core.display.HTML object>"
      ]
     },
     "metadata": {},
     "output_type": "display_data"
    },
    {
     "data": {
      "text/html": [
       "rt @thelifeofmalij: <span style=\"background-color:rgba(255,0,0,0.012472037924453616);\">girl</span> <span style=\"background-color:rgba(255,0,0,0.0010895675222855061);\">come</span> <span style=\"background-color:rgba(255,0,0,0.0003641700095613487);\">get</span> <span style=\"background-color:rgba(255,0,0,0.00041951683670049533);\">your</span> <span style=\"background-color:rgba(255,0,0,0.00735288776922971);\">man</span> <span style=\"background-color:rgba(255,0,0,0.06726466584950686);\">cuz</span> <span style=\"background-color:rgba(255,0,0,0.02119205892086029);\">that</span> <span style=\"background-color:rgba(255,0,0,0.49430739134550095);\">nigga</span> <span style=\"background-color:rgba(255,0,0,0.1481008157134056);\">kinda</span> <span style=\"background-color:rgba(255,0,0,0.4017231985926628);\">crazy</span> &#128533;"
      ],
      "text/plain": [
       "<IPython.core.display.HTML object>"
      ]
     },
     "metadata": {},
     "output_type": "display_data"
    },
    {
     "data": {
      "text/html": [
       "<span style=\"background-color:rgba(255,0,0,0.0005963097282801755);\">the</span> <span style=\"background-color:rgba(255,0,0,0.008166275219991803);\">worst</span> <span style=\"background-color:rgba(255,0,0,0.012685784604400396);\">thing</span> <span style=\"background-color:rgba(255,0,0,0.008810546132735908);\">a</span> <span style=\"background-color:rgba(255,0,0,0.19549660384655);\">nigga</span> <span style=\"background-color:rgba(255,0,0,0.018477499252185225);\">can</span> <span style=\"background-color:rgba(255,0,0,0.004173103079665452);\">do</span> <span style=\"background-color:rgba(255,0,0,0.0036154213012196124);\">is</span> <span style=\"background-color:rgba(255,0,0,0.0007492837175959721);\">make</span> <span style=\"background-color:rgba(255,0,0,0.002828956348821521);\">his</span> <span style=\"background-color:rgba(255,0,0,0.15751158818602562);\">bitch</span> <span style=\"background-color:rgba(255,0,0,0.09972892701625824);\">look</span> <span style=\"background-color:rgba(255,0,0,0.6861365586519241);\">stupid</span>"
      ],
      "text/plain": [
       "<IPython.core.display.HTML object>"
      ]
     },
     "metadata": {},
     "output_type": "display_data"
    },
    {
     "data": {
      "text/html": [
       "<span style=\"background-color:rgba(255,0,0,8.150264875439461e-05);\">ewww</span> <span style=\"background-color:rgba(255,0,0,0.00048520687414566055);\">ii</span> <span style=\"background-color:rgba(255,0,0,0.013760243309661746);\">hate</span> <span style=\"background-color:rgba(255,0,0,0.005530038615688682);\">when</span> <span style=\"background-color:rgba(255,0,0,0.00048520687414566055);\">ii</span> <span style=\"background-color:rgba(255,0,0,0.0005316262468113564);\">see</span> <span style=\"background-color:rgba(255,0,0,0.0019793625688180327);\">aa</span> <span style=\"background-color:rgba(255,0,0,0.11918679811060429);\">bitch</span> <span style=\"background-color:rgba(255,0,0,0.37424027919769287);\">ass</span> <span style=\"background-color:rgba(255,0,0,0.6409730017185211);\">nigga</span> <span style=\"background-color:rgba(255,0,0,0.042422753758728504);\">bluffing</span> &#128529;"
      ],
      "text/plain": [
       "<IPython.core.display.HTML object>"
      ]
     },
     "metadata": {},
     "output_type": "display_data"
    },
    {
     "data": {
      "text/html": [
       "rt @winnerwilliams_: <span style=\"background-color:rgba(255,0,0,0.01903277006931603);\">niggas</span> <span style=\"background-color:rgba(255,0,0,0.005045545985922217);\">is</span> <span style=\"background-color:rgba(255,0,0,0.08169123902916908);\">deadass</span> <span style=\"background-color:rgba(255,0,0,0.2880101092159748);\">pathetic</span> <span style=\"background-color:rgba(255,0,0,0.4445827752351761);\">asf</span> <span style=\"background-color:rgba(255,0,0,0.04615034442394972);\">like</span> <span style=\"background-color:rgba(255,0,0,0.0031869884696789086);\">if</span> <span style=\"background-color:rgba(255,0,0,0.0010824904893524945);\">you</span> don't <span style=\"background-color:rgba(255,0,0,0.002742441138252616);\">wanna</span> <span style=\"background-color:rgba(255,0,0,0.0022632199397776276);\">be</span> <span style=\"background-color:rgba(255,0,0,0.006879670545458794);\">faithful</span> <span style=\"background-color:rgba(255,0,0,0.003999684704467654);\">then</span> don't <span style=\"background-color:rgba(255,0,0,0.0022632199397776276);\">be</span> <span style=\"background-color:rgba(255,0,0,0.003382351715117693);\">in</span> <span style=\"background-color:rgba(255,0,0,0.00558623461984098);\">a</span> <span style=\"background-color:rgba(255,0,0,0.009484555339440703);\">relationship</span> <span style=\"background-color:rgba(255,0,0,0.0026975767104886472);\">and</span> <span style=\"background-color:rgba(255,0,0,0.023195473477244377);\">leave</span> <span style=\"background-color:rgba(255,0,0,0.2595866098999977);\">nigga</span>"
      ],
      "text/plain": [
       "<IPython.core.display.HTML object>"
      ]
     },
     "metadata": {},
     "output_type": "display_data"
    },
    {
     "data": {
      "text/html": [
       "<span style=\"background-color:rgba(255,0,0,0.07748143281787634);\">hell</span> naw, <span style=\"background-color:rgba(255,0,0,0.09943991899490356);\">why</span> <span style=\"background-color:rgba(255,0,0,0.030220921617001295);\">does</span> <span style=\"background-color:rgba(255,0,0,0.012361615663394332);\">this</span> <span style=\"background-color:rgba(255,0,0,0.29795143753290176);\">nigga</span> <span style=\"background-color:rgba(255,0,0,0.20286574959754944);\">gotta</span> <span style=\"background-color:rgba(255,0,0,0.011714933207258582);\">to</span> <span style=\"background-color:rgba(255,0,0,0.0016183630214072764);\">dm</span> <span style=\"background-color:rgba(255,0,0,0.002622487081680447);\">me</span> <span style=\"background-color:rgba(255,0,0,0.004524861869867891);\">his</span> <span style=\"background-color:rgba(255,0,0,0.08550324477255344);\">dick</span> picture, wtf! &#129318;&#127998;‍♀️"
      ],
      "text/plain": [
       "<IPython.core.display.HTML object>"
      ]
     },
     "metadata": {},
     "output_type": "display_data"
    },
    {
     "data": {
      "text/html": [
       "<span style=\"background-color:rgba(255,0,0,0.003994560975115746);\">he</span> can't <span style=\"background-color:rgba(255,0,0,0.0007088584243319929);\">see</span> <span style=\"background-color:rgba(255,0,0,0.0008871950558386743);\">but</span> <span style=\"background-color:rgba(255,0,0,0.006980014150030911);\">i</span> <span style=\"background-color:rgba(255,0,0,0.0027730411966331303);\">know</span> <span style=\"background-color:rgba(255,0,0,0.003994560975115746);\">he</span> <span style=\"background-color:rgba(255,0,0,0.0049381679855287075);\">can</span> <span style=\"background-color:rgba(255,0,0,0.010955168399959803);\">feel</span> <span style=\"background-color:rgba(255,0,0,0.00700275762937963);\">that</span> <span style=\"background-color:rgba(255,0,0,0.1575681008398533);\">damn</span> <span style=\"background-color:rgba(255,0,0,0.35442814230918884);\">cold</span> <span style=\"background-color:rgba(255,0,0,0.05524290259927511);\">air</span> <span style=\"background-color:rgba(255,0,0,0.07142588496208191);\">atop</span> <span style=\"background-color:rgba(255,0,0,0.043125213123857975);\">his</span> <span style=\"background-color:rgba(255,0,0,0.09343733079731464);\">head</span> <span style=\"background-color:rgba(255,0,0,0.06966909393668175);\">so</span> <span style=\"background-color:rgba(255,0,0,0.011363428784534335);\">now</span> i'm <span style=\"background-color:rgba(255,0,0,0.19834643229842186);\">mad</span> <span style=\"background-color:rgba(255,0,0,0.03926543518900871);\">at</span> <span style=\"background-color:rgba(255,0,0,0.0117126211989671);\">both</span> <span style=\"background-color:rgba(255,0,0,0.003104521310888231);\">of</span> <span style=\"background-color:rgba(255,0,0,0.03622236428782344);\">y&#x27;all</span> <span style=\"background-color:rgba(255,0,0,0.032615496311336756);\">bc</span> <span style=\"background-color:rgba(255,0,0,0.007446587551385164);\">this</span> <span style=\"background-color:rgba(255,0,0,0.001466681860620156);\">has</span> go… https://t.co/ijvupuqpf4"
      ],
      "text/plain": [
       "<IPython.core.display.HTML object>"
      ]
     },
     "metadata": {},
     "output_type": "display_data"
    },
    {
     "data": {
      "text/html": [
       "rt @vexedmentals: it's <span style=\"background-color:rgba(255,0,0,0.007907958934083581);\">not</span> <span style=\"background-color:rgba(255,0,0,0.00904907938092947);\">because</span> you're <span style=\"background-color:rgba(255,0,0,0.007907958934083581);\">not</span> <span style=\"background-color:rgba(255,0,0,0.019870034884661436);\">saying</span> some, it's <span style=\"background-color:rgba(255,0,0,0.00904907938092947);\">because</span> <span style=\"background-color:rgba(255,0,0,0.007801020401529968);\">what</span> you're <span style=\"background-color:rgba(255,0,0,0.019870034884661436);\">saying</span> <span style=\"background-color:rgba(255,0,0,0.012521904427558184);\">is</span> <span style=\"background-color:rgba(255,0,0,0.18600638955831528);\">fucking</span> <span style=\"background-color:rgba(255,0,0,0.8559240400791168);\">stupid</span> &amp;/or sexist."
      ],
      "text/plain": [
       "<IPython.core.display.HTML object>"
      ]
     },
     "metadata": {},
     "output_type": "display_data"
    },
    {
     "data": {
      "text/html": [
       "rt @whokneeoh: <span style=\"background-color:rgba(255,0,0,0.033129353541880846);\">like</span> <span style=\"background-color:rgba(255,0,0,0.6994758546352386);\">fucking</span> <span style=\"background-color:rgba(255,0,0,0.1435078401118517);\">all</span> <span style=\"background-color:rgba(255,0,0,0.02778909867629409);\">of</span> <span style=\"background-color:rgba(255,0,0,0.05560433492064476);\">them</span> https://t.co/rjmhaqhs9r"
      ],
      "text/plain": [
       "<IPython.core.display.HTML object>"
      ]
     },
     "metadata": {},
     "output_type": "display_data"
    },
    {
     "data": {
      "text/html": [
       "here's <span style=\"background-color:rgba(255,0,0,0.0155958766117692);\">a</span> <span style=\"background-color:rgba(255,0,0,0.003574063302949071);\">not</span> <span style=\"background-color:rgba(255,0,0,0.015062920283526182);\">so</span> <span style=\"background-color:rgba(255,0,0,0.02294300589710474);\">unpopular</span> <span style=\"background-color:rgba(255,0,0,0.033213417045772076);\">opinion</span> @mmflint <span style=\"background-color:rgba(255,0,0,0.016767438501119614);\">is</span> <span style=\"background-color:rgba(255,0,0,0.0155958766117692);\">a</span> <span style=\"background-color:rgba(255,0,0,0.293324813246727);\">fucking</span> <span style=\"background-color:rgba(255,0,0,0.7794059813022614);\">moron</span>"
      ],
      "text/plain": [
       "<IPython.core.display.HTML object>"
      ]
     },
     "metadata": {},
     "output_type": "display_data"
    },
    {
     "data": {
      "text/html": [
       "<span style=\"background-color:rgba(255,0,0,0.0006259654765017331);\">you</span> <span style=\"background-color:rgba(255,0,0,0.024645905941724777);\">bitches</span> <span style=\"background-color:rgba(255,0,0,0.0036958284908905625);\">will</span> <span style=\"background-color:rgba(255,0,0,0.002047457091975957);\">do</span> <span style=\"background-color:rgba(255,0,0,0.004050337302032858);\">anything</span> <span style=\"background-color:rgba(255,0,0,0.0015693494060542434);\">to</span> <span style=\"background-color:rgba(255,0,0,0.003440086729824543);\">keep</span> <span style=\"background-color:rgba(255,0,0,0.0047198752872645855);\">a</span> nigga. <span style=\"background-color:rgba(255,0,0,0.21798236295580864);\">desperate</span> <span style=\"background-color:rgba(255,0,0,0.41483886539936066);\">ass</span> hoes."
      ],
      "text/plain": [
       "<IPython.core.display.HTML object>"
      ]
     },
     "metadata": {},
     "output_type": "display_data"
    },
    {
     "data": {
      "text/html": [
       "@tdtbaa <span style=\"background-color:rgba(255,0,0,0.005838832585141063);\">this</span> <span style=\"background-color:rgba(255,0,0,0.0025124853709712625);\">has</span> <span style=\"background-color:rgba(255,0,0,0.003743305860552937);\">been</span> <span style=\"background-color:rgba(255,0,0,0.007948500569909811);\">the</span> <span style=\"background-color:rgba(255,0,0,0.14049552381038666);\">worst</span> <span style=\"background-color:rgba(255,0,0,0.02953970804810524);\">week</span> <span style=\"background-color:rgba(255,0,0,0.03407350042834878);\">in</span> <span style=\"background-color:rgba(255,0,0,0.03127346746623516);\">my</span> <span style=\"background-color:rgba(255,0,0,0.7391080260276794);\">fucking</span> <span style=\"background-color:rgba(255,0,0,0.09030851535499096);\">life</span>"
      ],
      "text/plain": [
       "<IPython.core.display.HTML object>"
      ]
     },
     "metadata": {},
     "output_type": "display_data"
    },
    {
     "data": {
      "text/html": [
       "<span style=\"background-color:rgba(255,0,0,0.03560393815860152);\">bitches</span> <span style=\"background-color:rgba(255,0,0,0.0055182172218337655);\">be</span> <span style=\"background-color:rgba(255,0,0,0.009170137345790863);\">blocking</span> <span style=\"background-color:rgba(255,0,0,0.005321319913491607);\">me</span> <span style=\"background-color:rgba(255,0,0,0.001653001963859424);\">on</span> <span style=\"background-color:rgba(255,0,0,0.0016242834681179374);\">they</span> <span style=\"background-color:rgba(255,0,0,0.4546589031815529);\">nigga</span> page, <span style=\"background-color:rgba(255,0,0,0.0026672915555536747);\">i</span> <span style=\"background-color:rgba(255,0,0,0.0032569514587521553);\">promise</span> <span style=\"background-color:rgba(255,0,0,0.0026672915555536747);\">i</span> don't <span style=\"background-color:rgba(255,0,0,0.0020925122953485698);\">want</span> <span style=\"background-color:rgba(255,0,0,0.007981837261468172);\">yo</span> <span style=\"background-color:rgba(255,0,0,0.24031050503253937);\">ugly</span> <span style=\"background-color:rgba(255,0,0,0.3788303956389427);\">ass</span> nigga."
      ],
      "text/plain": [
       "<IPython.core.display.HTML object>"
      ]
     },
     "metadata": {},
     "output_type": "display_data"
    },
    {
     "data": {
      "text/html": [
       "<span style=\"background-color:rgba(255,0,0,0.25536593049764633);\">dirty</span> <span style=\"background-color:rgba(255,0,0,0.20136840641498566);\">lesbians</span> <span style=\"background-color:rgba(255,0,0,0.27583250775933266);\">fucked</span> <span style=\"background-color:rgba(255,0,0,0.02951196627691388);\">in</span> <span style=\"background-color:rgba(255,0,0,0.3165782615542412);\">ass</span> <span style=\"background-color:rgba(255,0,0,0.011642235331237316);\">by</span> <span style=\"background-color:rgba(255,0,0,0.03180344356223941);\">strapon</span> https://t.co/j5lfgkxgzm"
      ],
      "text/plain": [
       "<IPython.core.display.HTML object>"
      ]
     },
     "metadata": {},
     "output_type": "display_data"
    },
    {
     "data": {
      "text/html": [
       "<span style=\"background-color:rgba(255,0,0,0.005462317494675517);\">billy</span> <span style=\"background-color:rgba(255,0,0,0.006778728566132486);\">mister</span> <span style=\"background-color:rgba(255,0,0,0.007270839414559305);\">is</span> <span style=\"background-color:rgba(255,0,0,0.04212970845401287);\">a</span> <span style=\"background-color:rgba(255,0,0,0.2800220064818859);\">fucking</span> fag! <span style=\"background-color:rgba(255,0,0,0.04212970845401287);\">a</span> <span style=\"background-color:rgba(255,0,0,0.10010537691414356);\">sorry</span> <span style=\"background-color:rgba(255,0,0,0.2837757393717766);\">fuck</span> <span style=\"background-color:rgba(255,0,0,0.13026145286858082);\">up</span> @mrbillymister"
      ],
      "text/plain": [
       "<IPython.core.display.HTML object>"
      ]
     },
     "metadata": {},
     "output_type": "display_data"
    },
    {
     "data": {
      "text/html": [
       "rt @fobdhbot: <span style=\"background-color:rgba(255,0,0,0.020304149948060513);\">pete</span> <span style=\"background-color:rgba(255,0,0,0.014240086311474442);\">was</span> <span style=\"background-color:rgba(255,0,0,0.03285323502495885);\">like</span> \"yo, <span style=\"background-color:rgba(255,0,0,0.6406555324792862);\">fuck</span> you! <span style=\"background-color:rgba(255,0,0,0.057777706533670425);\">i</span> <span style=\"background-color:rgba(255,0,0,0.018445684108883142);\">can</span> <span style=\"background-color:rgba(255,0,0,0.013676669914275408);\">do</span> <span style=\"background-color:rgba(255,0,0,0.08246410638093948);\">whatever</span> <span style=\"background-color:rgba(255,0,0,0.057777706533670425);\">i</span> want!\""
      ],
      "text/plain": [
       "<IPython.core.display.HTML object>"
      ]
     },
     "metadata": {},
     "output_type": "display_data"
    },
    {
     "data": {
      "text/html": [
       "@doublethatcup <span style=\"background-color:rgba(255,0,0,0.0010514391760807484);\">maaaaan</span> <span style=\"background-color:rgba(255,0,0,0.002291215059813112);\">my</span> <span style=\"background-color:rgba(255,0,0,0.1193115022033453);\">nigga</span> <span style=\"background-color:rgba(255,0,0,0.00534853374119848);\">x</span> <span style=\"background-color:rgba(255,0,0,0.004108831635676324);\">is</span> <span style=\"background-color:rgba(255,0,0,0.033970552030950785);\">lit</span> <span style=\"background-color:rgba(255,0,0,0.017136576352640986);\">folks</span> <span style=\"background-color:rgba(255,0,0,0.025993401650339365);\">just</span> <span style=\"background-color:rgba(255,0,0,0.651579350233078);\">mad</span> <span style=\"background-color:rgba(255,0,0,0.22565411403775215);\">thats</span> <span style=\"background-color:rgba(255,0,0,0.06670722272247076);\">all</span>"
      ],
      "text/plain": [
       "<IPython.core.display.HTML object>"
      ]
     },
     "metadata": {},
     "output_type": "display_data"
    },
    {
     "data": {
      "text/html": [
       "don't <span style=\"background-color:rgba(255,0,0,0.0016081950161606073);\">be</span> <span style=\"background-color:rgba(255,0,0,0.01947239739820361);\">that</span> <span style=\"background-color:rgba(255,0,0,0.15404537320137024);\">bitch</span> that's <span style=\"background-color:rgba(255,0,0,0.3277919441461563);\">mad</span> <span style=\"background-color:rgba(255,0,0,0.10105839930474758);\">forever</span> <span style=\"background-color:rgba(255,0,0,0.06513205822557211);\">cause</span> <span style=\"background-color:rgba(255,0,0,0.018052259692922235);\">the</span> <span style=\"background-color:rgba(255,0,0,0.3459888696670532);\">nigga</span> <span style=\"background-color:rgba(255,0,0,0.012167292879894376);\">has</span> <span style=\"background-color:rgba(255,0,0,0.010529765859246254);\">a</span> <span style=\"background-color:rgba(255,0,0,0.016668527387082577);\">place</span> <span style=\"background-color:rgba(255,0,0,0.006569423712790012);\">for</span> <span style=\"background-color:rgba(255,0,0,0.013057186733931303);\">me</span> <span style=\"background-color:rgba(255,0,0,0.01130298594944179);\">in</span> <span style=\"background-color:rgba(255,0,0,0.019451723201200366);\">his</span> heart!"
      ],
      "text/plain": [
       "<IPython.core.display.HTML object>"
      ]
     },
     "metadata": {},
     "output_type": "display_data"
    },
    {
     "data": {
      "text/html": [
       "@_shabeer_ <span style=\"background-color:rgba(255,0,0,0.008671964169479907);\">now</span> <span style=\"background-color:rgba(255,0,0,0.01130263670347631);\">the</span> <span style=\"background-color:rgba(255,0,0,0.5630562826991081);\">fucking</span> <span style=\"background-color:rgba(255,0,0,0.04596163984388113);\">indian</span> <span style=\"background-color:rgba(255,0,0,0.009803746361285448);\">media</span> <span style=\"background-color:rgba(255,0,0,0.010637718951329589);\">will</span> <span style=\"background-color:rgba(255,0,0,0.012012104270979762);\">show</span> <span style=\"background-color:rgba(255,0,0,0.01310987863689661);\">we</span> <span style=\"background-color:rgba(255,0,0,0.06929692812263966);\">arrested</span> <span style=\"background-color:rgba(255,0,0,0.07070120424032211);\">a</span> <span style=\"background-color:rgba(255,0,0,0.04384302068501711);\">militant</span> <span style=\"background-color:rgba(255,0,0,0.023024175316095352);\">with</span> arms... #shame"
      ],
      "text/plain": [
       "<IPython.core.display.HTML object>"
      ]
     },
     "metadata": {},
     "output_type": "display_data"
    },
    {
     "data": {
      "text/html": [
       "@tobiias @easportsfifa <span style=\"background-color:rgba(255,0,0,0.10619253851473331);\">shut</span> <span style=\"background-color:rgba(255,0,0,0.15062084421515465);\">up</span> <span style=\"background-color:rgba(255,0,0,0.017121258424595);\">you</span> <span style=\"background-color:rgba(255,0,0,0.12038104236125946);\">bad</span> <span style=\"background-color:rgba(255,0,0,0.668618232011795);\">fucking</span> <span style=\"background-color:rgba(255,0,0,0.11248770169913769);\">goth</span>"
      ],
      "text/plain": [
       "<IPython.core.display.HTML object>"
      ]
     },
     "metadata": {},
     "output_type": "display_data"
    },
    {
     "data": {
      "text/html": [
       "@webz_ @darefrosts <span style=\"background-color:rgba(255,0,0,0.0024091410159599036);\">i</span> <span style=\"background-color:rgba(255,0,0,0.04716590978205204);\">swear</span> <span style=\"background-color:rgba(255,0,0,0.050940471701323986);\">kid</span> <span style=\"background-color:rgba(255,0,0,0.01937538618221879);\">is</span> <span style=\"background-color:rgba(255,0,0,0.05401060450822115);\">so</span> <span style=\"background-color:rgba(255,0,0,0.5640881881117821);\">fucking</span> <span style=\"background-color:rgba(255,0,0,0.43672099709510803);\">broke</span>"
      ],
      "text/plain": [
       "<IPython.core.display.HTML object>"
      ]
     },
     "metadata": {},
     "output_type": "display_data"
    },
    {
     "data": {
      "text/html": [
       "remember, kids! don't swear, <span style=\"background-color:rgba(255,0,0,0.011055873474106193);\">or</span> i'll <span style=\"background-color:rgba(255,0,0,0.24615930393338203);\">fucking</span> <span style=\"background-color:rgba(255,0,0,0.7769785821437836);\">kill</span> you!"
      ],
      "text/plain": [
       "<IPython.core.display.HTML object>"
      ]
     },
     "metadata": {},
     "output_type": "display_data"
    },
    {
     "data": {
      "text/html": [
       "rt @femalebreezyyyy: <span style=\"background-color:rgba(255,0,0,0.0038856538594700396);\">i</span> <span style=\"background-color:rgba(255,0,0,0.11296340264379978);\">fucking</span> <span style=\"background-color:rgba(255,0,0,1.0057872533798218);\">hate</span> <span style=\"background-color:rgba(255,0,0,0.06072759162634611);\">my</span> <span style=\"background-color:rgba(255,0,0,0.00419739109929651);\">body</span> <span style=\"background-color:rgba(255,0,0,0.0014512267080135643);\">and</span> myself."
      ],
      "text/plain": [
       "<IPython.core.display.HTML object>"
      ]
     },
     "metadata": {},
     "output_type": "display_data"
    },
    {
     "data": {
      "text/html": [
       "rt @lee_stacksss: <span style=\"background-color:rgba(255,0,0,0.008811958250589669);\">that</span> <span style=\"background-color:rgba(255,0,0,0.41475042700767517);\">nigga</span> ain't <span style=\"background-color:rgba(255,0,0,0.03555629635229707);\">nothing</span> <span style=\"background-color:rgba(255,0,0,0.014964540023356676);\">to</span> <span style=\"background-color:rgba(255,0,0,0.03378029679879546);\">me</span> <span style=\"background-color:rgba(255,0,0,0.15997042879462242);\">nomore</span> <span style=\"background-color:rgba(255,0,0,0.0442627863958478);\">but</span> <span style=\"background-color:rgba(255,0,0,0.06109953857958317);\">a</span> <span style=\"background-color:rgba(255,0,0,0.1248160470277071);\">disappointment</span> &#128686;"
      ],
      "text/plain": [
       "<IPython.core.display.HTML object>"
      ]
     },
     "metadata": {},
     "output_type": "display_data"
    },
    {
     "data": {
      "text/html": [
       "rt @__unkah: <span style=\"background-color:rgba(255,0,0,0.015295454068109393);\">this</span> <span style=\"background-color:rgba(255,0,0,0.2873341739177704);\">nigga</span> <span style=\"background-color:rgba(255,0,0,0.06982313934713602);\">is</span> <span style=\"background-color:rgba(255,0,0,0.4804830625653267);\">crazy</span> <span style=\"background-color:rgba(255,0,0,0.027549040969461203);\">for</span> <span style=\"background-color:rgba(255,0,0,0.02536853775382042);\">doing</span> <span style=\"background-color:rgba(255,0,0,0.015295454068109393);\">this</span> <span style=\"background-color:rgba(255,0,0,0.00909414084162563);\">to</span> <span style=\"background-color:rgba(255,0,0,0.031044133938848972);\">his</span> <span style=\"background-color:rgba(255,0,0,0.12436164543032646);\">girl</span> &#128514;&#128514; https://t.co/dsc1pokje9"
      ],
      "text/plain": [
       "<IPython.core.display.HTML object>"
      ]
     },
     "metadata": {},
     "output_type": "display_data"
    },
    {
     "data": {
      "text/html": [
       "rt @iucysharding: <span style=\"background-color:rgba(255,0,0,0.0005381955270422623);\">aria</span> <span style=\"background-color:rgba(255,0,0,0.0025677340454421937);\">sweetie</span> i'm <span style=\"background-color:rgba(255,0,0,0.006100797327235341);\">so</span> <span style=\"background-color:rgba(255,0,0,0.026642754673957825);\">sorry</span> <span style=\"background-color:rgba(255,0,0,0.0032744911732152104);\">that</span> <span style=\"background-color:rgba(255,0,0,0.005556267569772899);\">a</span> <span style=\"background-color:rgba(255,0,0,0.2500704862177372);\">ugly</span> <span style=\"background-color:rgba(255,0,0,0.374005027115345);\">ass</span> <span style=\"background-color:rgba(255,0,0,0.4792053624987602);\">bitch</span> <span style=\"background-color:rgba(255,0,0,0.014080413384363055);\">would</span> <span style=\"background-color:rgba(255,0,0,0.005349921993911266);\">even</span> <span style=\"background-color:rgba(255,0,0,0.007873084396123886);\">say</span> <span style=\"background-color:rgba(255,0,0,0.0032744911732152104);\">that</span> <span style=\"background-color:rgba(255,0,0,0.007870860281400383);\">oh</span> <span style=\"background-color:rgba(255,0,0,0.00395181734347716);\">my</span> <span style=\"background-color:rgba(255,0,0,0.029878534842282534);\">god</span> https://t.co/xetf2ioflv"
      ],
      "text/plain": [
       "<IPython.core.display.HTML object>"
      ]
     },
     "metadata": {},
     "output_type": "display_data"
    },
    {
     "data": {
      "text/html": [
       "<span style=\"background-color:rgba(255,0,0,0.01798894489184022);\">another</span> <span style=\"background-color:rgba(255,0,0,0.5117228254675865);\">fucking</span> <span style=\"background-color:rgba(255,0,0,0.262912567704916);\">muslim</span> <span style=\"background-color:rgba(255,0,0,0.23749243468046188);\">terrorist</span> ... <span style=\"background-color:rgba(255,0,0,0.06853772792965174);\">go</span> <span style=\"background-color:rgba(255,0,0,0.011655088746920228);\">figure</span> ... https://t.co/mvnn61gjtr"
      ],
      "text/plain": [
       "<IPython.core.display.HTML object>"
      ]
     },
     "metadata": {},
     "output_type": "display_data"
    },
    {
     "data": {
      "text/html": [
       "rt @illesttam: <span style=\"background-color:rgba(255,0,0,0.004601310356520116);\">i</span> <span style=\"background-color:rgba(255,0,0,0.0013675114314537495);\">need</span> <span style=\"background-color:rgba(255,0,0,0.0025235372595489025);\">me</span> <span style=\"background-color:rgba(255,0,0,0.002841472451109439);\">a</span> <span style=\"background-color:rgba(255,0,0,0.00598865794017911);\">lil</span> <span style=\"background-color:rgba(255,0,0,0.0033404017449356616);\">baby</span> <span style=\"background-color:rgba(255,0,0,0.0021756187197752297);\">who</span> <span style=\"background-color:rgba(255,0,0,0.004951253649778664);\">goin&#x27;</span> listennn, <span style=\"background-color:rgba(255,0,0,0.004349450464360416);\">because</span> <span style=\"background-color:rgba(255,0,0,0.004601310356520116);\">i</span> <span style=\"background-color:rgba(255,0,0,0.110531160607934);\">fucking</span> <span style=\"background-color:rgba(255,0,0,0.8390984684228897);\">hate</span> <span style=\"background-color:rgba(255,0,0,0.16644585877656937);\">repeating</span> <span style=\"background-color:rgba(255,0,0,0.06346964277327061);\">myself</span>"
      ],
      "text/plain": [
       "<IPython.core.display.HTML object>"
      ]
     },
     "metadata": {},
     "output_type": "display_data"
    },
    {
     "data": {
      "text/html": [
       "@kenddalllll <span style=\"background-color:rgba(255,0,0,0.019716336391866207);\">kendall</span> <span style=\"background-color:rgba(255,0,0,0.026941143441945314);\">why</span> <span style=\"background-color:rgba(255,0,0,0.017429613508284092);\">are</span> <span style=\"background-color:rgba(255,0,0,0.012560778995975852);\">all</span> <span style=\"background-color:rgba(255,0,0,0.0035191024653613567);\">your</span> <span style=\"background-color:rgba(255,0,0,0.010871232952922583);\">tweets</span> <span style=\"background-color:rgba(255,0,0,0.15855193138122559);\">fucking</span> <span style=\"background-color:rgba(255,0,0,0.9273629635572433);\">stupid</span>"
      ],
      "text/plain": [
       "<IPython.core.display.HTML object>"
      ]
     },
     "metadata": {},
     "output_type": "display_data"
    },
    {
     "data": {
      "text/html": [
       "rt @paolalove_: <span style=\"background-color:rgba(255,0,0,0.011718819150701165);\">ya</span> <span style=\"background-color:rgba(255,0,0,0.2711124159395695);\">nigga</span> <span style=\"background-color:rgba(255,0,0,0.6410973519086838);\">dirty</span> <span style=\"background-color:rgba(255,0,0,0.08340985514223576);\">like</span> <span style=\"background-color:rgba(255,0,0,0.012505644699558616);\">this</span> <span style=\"background-color:rgba(255,0,0,0.10593049228191376);\">mirror</span> https://t.co/hyx2fjp6uc"
      ],
      "text/plain": [
       "<IPython.core.display.HTML object>"
      ]
     },
     "metadata": {},
     "output_type": "display_data"
    },
    {
     "data": {
      "text/html": [
       "@rajdattani2 <span style=\"background-color:rgba(255,0,0,0.000911383904167451);\">i</span> <span style=\"background-color:rgba(255,0,0,0.007540941587649286);\">knew</span> <span style=\"background-color:rgba(255,0,0,0.0020792435680050403);\">you</span> couldn't <span style=\"background-color:rgba(255,0,0,0.004911903524771333);\">prove</span> <span style=\"background-color:rgba(255,0,0,0.08046846836805344);\">shit</span> <span style=\"background-color:rgba(255,0,0,0.06719480268657207);\">so</span> <span style=\"background-color:rgba(255,0,0,0.011109299957752228);\">pls</span> <span style=\"background-color:rgba(255,0,0,0.005466469447128475);\">take</span> <span style=\"background-color:rgba(255,0,0,0.00542526482604444);\">a</span> <span style=\"background-color:rgba(255,0,0,0.012764756102114916);\">seat</span> <span style=\"background-color:rgba(255,0,0,0.0038422757643274963);\">and</span> <span style=\"background-color:rgba(255,0,0,0.07309718523174524);\">shut</span> <span style=\"background-color:rgba(255,0,0,0.001251243520528078);\">your</span> <span style=\"background-color:rgba(255,0,0,0.24583140388131142);\">ugly</span> <span style=\"background-color:rgba(255,0,0,0.2777734771370888);\">faggot</span> <span style=\"background-color:rgba(255,0,0,0.3388255462050438);\">ass</span> <span style=\"background-color:rgba(255,0,0,0.07733495905995369);\">up</span> <span style=\"background-color:rgba(255,0,0,0.0038422757643274963);\">and</span> <span style=\"background-color:rgba(255,0,0,0.0020703201880678535);\">but</span> <span style=\"background-color:rgba(255,0,0,0.001251243520528078);\">your</span> faves… https://t.co/0zpdjfgxx9"
      ],
      "text/plain": [
       "<IPython.core.display.HTML object>"
      ]
     },
     "metadata": {},
     "output_type": "display_data"
    },
    {
     "data": {
      "text/html": [
       "rt @thebloodshow: <span style=\"background-color:rgba(255,0,0,0.023128127213567495);\">bitches</span> <span style=\"background-color:rgba(255,0,0,0.016853142296895385);\">fuk</span> <span style=\"background-color:rgba(255,0,0,0.06078781560063362);\">wit</span> <span style=\"background-color:rgba(255,0,0,0.0509050115942955);\">lame</span> <span style=\"background-color:rgba(255,0,0,0.11270096525549889);\">wack</span> <span style=\"background-color:rgba(255,0,0,0.23924335837364197);\">nigga</span> <span style=\"background-color:rgba(255,0,0,0.013431728584691882);\">after</span> <span style=\"background-color:rgba(255,0,0,0.0509050115942955);\">lame</span> <span style=\"background-color:rgba(255,0,0,0.11270096525549889);\">wack</span> <span style=\"background-color:rgba(255,0,0,0.23924335837364197);\">nigga</span> &amp; <span style=\"background-color:rgba(255,0,0,0.004309101786930114);\">try</span> <span style=\"background-color:rgba(255,0,0,0.000616252000327222);\">to</span> <span style=\"background-color:rgba(255,0,0,0.00014629757970396895);\">get</span> <span style=\"background-color:rgba(255,0,0,0.00023307715309783816);\">on</span> <span style=\"background-color:rgba(255,0,0,0.00013239359759609215);\">here</span> <span style=\"background-color:rgba(255,0,0,0.0014067222946323454);\">generalizing</span> men. <span style=\"background-color:rgba(255,0,0,0.058286250568926334);\">bitch</span> <span style=\"background-color:rgba(255,0,0,0.124009745195508);\">shut</span> <span style=\"background-color:rgba(255,0,0,0.03146413015201688);\">yo</span> <span style=\"background-color:rgba(255,0,0,0.0461440347135067);\">bad</span> <span style=\"background-color:rgba(255,0,0,0.007679940899834037);\">taste</span> havi…"
      ],
      "text/plain": [
       "<IPython.core.display.HTML object>"
      ]
     },
     "metadata": {},
     "output_type": "display_data"
    },
    {
     "data": {
      "text/html": [
       "rt @thebloodshow: <span style=\"background-color:rgba(255,0,0,0.003926930367015302);\">so</span> <span style=\"background-color:rgba(255,0,0,0.004678131663240492);\">u</span> <span style=\"background-color:rgba(255,0,0,0.003258605720475316);\">was</span> <span style=\"background-color:rgba(255,0,0,0.0015640552737750113);\">cheatin</span> <span style=\"background-color:rgba(255,0,0,0.0012386833259370178);\">on</span> <span style=\"background-color:rgba(255,0,0,0.016278320690616965);\">a</span> <span style=\"background-color:rgba(255,0,0,0.21597348153591156);\">nigga</span> <span style=\"background-color:rgba(255,0,0,0.0008733163849683478);\">with</span> <span style=\"background-color:rgba(255,0,0,0.0016459207108709961);\">money</span> <span style=\"background-color:rgba(255,0,0,0.0008733163849683478);\">with</span> <span style=\"background-color:rgba(255,0,0,0.016278320690616965);\">a</span> <span style=\"background-color:rgba(255,0,0,0.024114714469760656);\">broke</span> <span style=\"background-color:rgba(255,0,0,0.21597348153591156);\">nigga</span> ?? <span style=\"background-color:rgba(255,0,0,0.12607247568666935);\">wat</span> <span style=\"background-color:rgba(255,0,0,0.016278320690616965);\">a</span> <span style=\"background-color:rgba(255,0,0,0.011023663682863116);\">real</span> <span style=\"background-color:rgba(255,0,0,0.1405699923634529);\">dumb</span> <span style=\"background-color:rgba(255,0,0,0.5700474232435226);\">bitch</span> &#128514;&#128514;&#128514;&#128514;&#128514;&#128514;&#128514;&#128514; https://t.co/hvfrwbpoef"
      ],
      "text/plain": [
       "<IPython.core.display.HTML object>"
      ]
     },
     "metadata": {},
     "output_type": "display_data"
    },
    {
     "data": {
      "text/html": [
       "@cecilerichards @latinos4pp <span style=\"background-color:rgba(255,0,0,0.16604788601398468);\">stupid</span> <span style=\"background-color:rgba(255,0,0,0.567898228764534);\">fucking</span> <span style=\"background-color:rgba(255,0,0,0.09516207501292229);\">leftists</span> can't <span style=\"background-color:rgba(255,0,0,0.008578790002502501);\">understand</span> <span style=\"background-color:rgba(255,0,0,0.022675336804240942);\">why</span> <span style=\"background-color:rgba(255,0,0,0.02142055658623576);\">a</span> <span style=\"background-color:rgba(255,0,0,0.00806647993158549);\">labor</span> <span style=\"background-color:rgba(255,0,0,0.0013640229008160532);\">organizer</span> <span style=\"background-color:rgba(255,0,0,0.003763939894270152);\">is</span> <span style=\"background-color:rgba(255,0,0,0.007722203154116869);\">opposed</span> <span style=\"background-color:rgba(255,0,0,0.00470982602564618);\">to</span> <span style=\"background-color:rgba(255,0,0,0.043507907539606094);\">illegal</span> im… https://t.co/pglgmeyd0l"
      ],
      "text/plain": [
       "<IPython.core.display.HTML object>"
      ]
     },
     "metadata": {},
     "output_type": "display_data"
    },
    {
     "data": {
      "text/html": [
       "<span style=\"background-color:rgba(255,0,0,0.01845878316089511);\">yo</span> you're <span style=\"background-color:rgba(255,0,0,0.061305020935833454);\">literally</span> <span style=\"background-color:rgba(255,0,0,0.1083142589777708);\">stealing</span> <span style=\"background-color:rgba(255,0,0,0.26091236621141434);\">hella</span> <span style=\"background-color:rgba(255,0,0,0.026005308609455824);\">of</span> <span style=\"background-color:rgba(255,0,0,0.018901699222624302);\">my</span> tweets. <span style=\"background-color:rgba(255,0,0,0.01867228071205318);\">could</span> <span style=\"background-color:rgba(255,0,0,0.009814375080168247);\">you</span> <span style=\"background-color:rgba(255,0,0,0.3632862865924835);\">fucking</span> not? https://t.co/eae7nxjlfl"
      ],
      "text/plain": [
       "<IPython.core.display.HTML object>"
      ]
     },
     "metadata": {},
     "output_type": "display_data"
    },
    {
     "data": {
      "text/html": [
       "<span style=\"background-color:rgba(255,0,0,0.0144049315713346);\">god</span> <span style=\"background-color:rgba(255,0,0,0.015083682956174016);\">i</span> <span style=\"background-color:rgba(255,0,0,0.01415500184521079);\">really</span> <span style=\"background-color:rgba(255,0,0,0.17212225124239922);\">fucking</span> <span style=\"background-color:rgba(255,0,0,0.9255050122737885);\">hate</span> <span style=\"background-color:rgba(255,0,0,0.04809992387890816);\">that</span> <span style=\"background-color:rgba(255,0,0,0.015083682956174016);\">i</span> <span style=\"background-color:rgba(255,0,0,0.016365566989406943);\">still</span> <span style=\"background-color:rgba(255,0,0,0.008785304962657392);\">care</span> <span style=\"background-color:rgba(255,0,0,0.004618845414370298);\">about</span> you."
      ],
      "text/plain": [
       "<IPython.core.display.HTML object>"
      ]
     },
     "metadata": {},
     "output_type": "display_data"
    },
    {
     "data": {
      "text/html": [
       "rt @thevirginaixa: <span style=\"background-color:rgba(255,0,0,0.032745685894042253);\">stop</span> <span style=\"background-color:rgba(255,0,0,0.2979930303990841);\">fucking</span> <span style=\"background-color:rgba(255,0,0,0.0022860572789795697);\">littering</span> <span style=\"background-color:rgba(255,0,0,0.004588482552208006);\">u</span> <span style=\"background-color:rgba(255,0,0,0.15069506131112576);\">bitch</span> <span style=\"background-color:rgba(255,0,0,0.3271390497684479);\">ass</span> <span style=\"background-color:rgba(255,0,0,0.39356227964162827);\">niggas</span> https://t.co/ibai0316nj"
      ],
      "text/plain": [
       "<IPython.core.display.HTML object>"
      ]
     },
     "metadata": {},
     "output_type": "display_data"
    },
    {
     "data": {
      "text/html": [
       "<span style=\"background-color:rgba(255,0,0,0.0006188949919305742);\">i</span> <span style=\"background-color:rgba(255,0,0,0.02374673029407859);\">really</span> <span style=\"background-color:rgba(255,0,0,0.02374673029407859);\">really</span> <span style=\"background-color:rgba(255,0,0,0.02374673029407859);\">really</span> <span style=\"background-color:rgba(255,0,0,0.02374673029407859);\">really</span> <span style=\"background-color:rgba(255,0,0,0.02374673029407859);\">really</span> <span style=\"background-color:rgba(255,0,0,0.02374673029407859);\">really</span> <span style=\"background-color:rgba(255,0,0,0.02374673029407859);\">really</span> <span style=\"background-color:rgba(255,0,0,0.02374673029407859);\">really</span> <span style=\"background-color:rgba(255,0,0,0.02374673029407859);\">really</span> <span style=\"background-color:rgba(255,0,0,0.02374673029407859);\">really</span> <span style=\"background-color:rgba(255,0,0,0.02374673029407859);\">really</span> <span style=\"background-color:rgba(255,0,0,0.02374673029407859);\">really</span> <span style=\"background-color:rgba(255,0,0,0.02374673029407859);\">really</span> <span style=\"background-color:rgba(255,0,0,0.18452800810337067);\">fucking</span> <span style=\"background-color:rgba(255,0,0,0.7607046514749527);\">hate</span> <span style=\"background-color:rgba(255,0,0,0.08691339753568172);\">her</span>"
      ],
      "text/plain": [
       "<IPython.core.display.HTML object>"
      ]
     },
     "metadata": {},
     "output_type": "display_data"
    },
    {
     "data": {
      "text/html": [
       "@queenchoutzuyu i'm <span style=\"background-color:rgba(255,0,0,0.008038226515054703);\">so</span> <span style=\"background-color:rgba(255,0,0,0.19722675904631615);\">sick</span> <span style=\"background-color:rgba(255,0,0,0.011800919892266393);\">of</span> <span style=\"background-color:rgba(255,0,0,0.013553686439990997);\">ur</span> <span style=\"background-color:rgba(255,0,0,0.0006147698877612129);\">unappreciative</span> <span style=\"background-color:rgba(255,0,0,0.029814280569553375);\">rude</span> ass‼️ <span style=\"background-color:rgba(255,0,0,0.025434056296944618);\">i</span> <span style=\"background-color:rgba(255,0,0,0.3106038086116314);\">hate</span> <span style=\"background-color:rgba(255,0,0,0.014216400450095534);\">tzuzyu</span> <span style=\"background-color:rgba(255,0,0,0.002995844988618046);\">or</span> <span style=\"background-color:rgba(255,0,0,0.01383959548547864);\">whatever</span> <span style=\"background-color:rgba(255,0,0,0.006204958190210164);\">the</span> <span style=\"background-color:rgba(255,0,0,0.10207808576524258);\">fuck</span> <span style=\"background-color:rgba(255,0,0,0.03899711882695556);\">her</span> <span style=\"background-color:rgba(255,0,0,0.15817491337656975);\">dumbass</span> <span style=\"background-color:rgba(255,0,0,0.01800751779228449);\">name</span> is!"
      ],
      "text/plain": [
       "<IPython.core.display.HTML object>"
      ]
     },
     "metadata": {},
     "output_type": "display_data"
    },
    {
     "data": {
      "text/html": [
       "rt @backwoodbhris: <span style=\"background-color:rgba(255,0,0,0.006369456532411277);\">this</span> <span style=\"background-color:rgba(255,0,0,0.2780095115303993);\">nigga</span> <span style=\"background-color:rgba(255,0,0,0.03212291747331619);\">jah</span> <span style=\"background-color:rgba(255,0,0,0.0008146581967594102);\">gained</span> 50k+ <span style=\"background-color:rgba(255,0,0,0.00016621999748167582);\">followers</span> <span style=\"background-color:rgba(255,0,0,0.0005071532359579578);\">yesterday</span> i'm <span style=\"background-color:rgba(255,0,0,0.6499630212783813);\">sick</span> &#129314;"
      ],
      "text/plain": [
       "<IPython.core.display.HTML object>"
      ]
     },
     "metadata": {},
     "output_type": "display_data"
    },
    {
     "data": {
      "text/html": [
       "<span style=\"background-color:rgba(255,0,0,0.000704959238646552);\">emiras</span> <span style=\"background-color:rgba(255,0,0,0.006420642603188753);\">dog</span> <span style=\"background-color:rgba(255,0,0,0.2738652378320694);\">fucking</span> <span style=\"background-color:rgba(255,0,0,0.26491448283195496);\">stinks</span> min, <span style=\"background-color:rgba(255,0,0,0.0006871469668112695);\">farts</span> <span style=\"background-color:rgba(255,0,0,0.002883889537770301);\">all</span> <span style=\"background-color:rgba(255,0,0,0.0051272951532155275);\">the</span> <span style=\"background-color:rgba(255,0,0,0.2738652378320694);\">fucking</span> time, <span style=\"background-color:rgba(255,0,0,0.30103273689746857);\">horrible</span> <span style=\"background-color:rgba(255,0,0,0.03043724223971367);\">little</span> <span style=\"background-color:rgba(255,0,0,0.018075036350637674);\">fart</span> <span style=\"background-color:rgba(255,0,0,0.005719407927244902);\">machine</span>"
      ],
      "text/plain": [
       "<IPython.core.display.HTML object>"
      ]
     },
     "metadata": {},
     "output_type": "display_data"
    },
    {
     "data": {
      "text/html": [
       "rt @____houston: <span style=\"background-color:rgba(255,0,0,0.017877096543088555);\">yo</span> <span style=\"background-color:rgba(255,0,0,0.28188006952404976);\">nigga</span> <span style=\"background-color:rgba(255,0,0,0.030049635097384453);\">talk</span> <span style=\"background-color:rgba(255,0,0,0.00420390599174425);\">to</span> <span style=\"background-color:rgba(255,0,0,0.01186563284136355);\">you</span> <span style=\"background-color:rgba(255,0,0,0.04916267469525337);\">crazy</span> <span style=\"background-color:rgba(255,0,0,0.049623032100498676);\">cause</span> <span style=\"background-color:rgba(255,0,0,0.01186563284136355);\">you</span> <span style=\"background-color:rgba(255,0,0,0.02733095781877637);\">living</span> <span style=\"background-color:rgba(255,0,0,0.03929426893591881);\">like</span> <span style=\"background-color:rgba(255,0,0,0.01186563284136355);\">you</span> <span style=\"background-color:rgba(255,0,0,0.008309089462272823);\">need</span> <span style=\"background-color:rgba(255,0,0,0.01809869660064578);\">his</span> <span style=\"background-color:rgba(255,0,0,0.5474704131484032);\">ass</span> &#128580;"
      ],
      "text/plain": [
       "<IPython.core.display.HTML object>"
      ]
     },
     "metadata": {},
     "output_type": "display_data"
    },
    {
     "data": {
      "text/html": [
       "rt @_jazsyb: <span style=\"background-color:rgba(255,0,0,0.006350806215777993);\">a</span> <span style=\"background-color:rgba(255,0,0,0.28000636026263237);\">nigga</span> <span style=\"background-color:rgba(255,0,0,0.04554596729576588);\">that</span> <span style=\"background-color:rgba(255,0,0,0.00044738088035956025);\">dicksuck</span> <span style=\"background-color:rgba(255,0,0,0.0033355705090798438);\">every</span> <span style=\"background-color:rgba(255,0,0,0.3252936527132988);\">bitch</span> <span style=\"background-color:rgba(255,0,0,0.04554596729576588);\">that</span> <span style=\"background-color:rgba(255,0,0,0.005115168751217425);\">come</span> <span style=\"background-color:rgba(255,0,0,0.008676648722030222);\">across</span> <span style=\"background-color:rgba(255,0,0,0.014381380751729012);\">is</span> <span style=\"background-color:rgba(255,0,0,0.3666074201464653);\">lame</span> <span style=\"background-color:rgba(255,0,0,0.03836343763396144);\">to</span> me!!!"
      ],
      "text/plain": [
       "<IPython.core.display.HTML object>"
      ]
     },
     "metadata": {},
     "output_type": "display_data"
    },
    {
     "data": {
      "text/html": [
       "<span style=\"background-color:rgba(255,0,0,0.028006744105368853);\">justin</span> <span style=\"background-color:rgba(255,0,0,0.0008133656956488267);\">seagull</span> <span style=\"background-color:rgba(255,0,0,0.002051196206593886);\">i</span> <span style=\"background-color:rgba(255,0,0,0.18614914268255234);\">hate</span> <span style=\"background-color:rgba(255,0,0,0.0751338992267847);\">his</span> <span style=\"background-color:rgba(255,0,0,0.8693103492259979);\">ass</span> <span style=\"background-color:rgba(255,0,0,0.015191688435152173);\">jfofndkdn</span> https://t.co/ftncvcgq7n"
      ],
      "text/plain": [
       "<IPython.core.display.HTML object>"
      ]
     },
     "metadata": {},
     "output_type": "display_data"
    },
    {
     "data": {
      "text/html": [
       "<span style=\"background-color:rgba(255,0,0,0.04050907678902149);\">niggas</span> <span style=\"background-color:rgba(255,0,0,0.006903141038492322);\">be</span> <span style=\"background-color:rgba(255,0,0,0.00046200679207686335);\">weedmen</span> <span style=\"background-color:rgba(255,0,0,0.0005210045128478669);\">but</span> don't <span style=\"background-color:rgba(255,0,0,0.0045076810056343675);\">wanna</span> <span style=\"background-color:rgba(255,0,0,0.0004030095806228928);\">sell</span> <span style=\"background-color:rgba(255,0,0,0.000525768191437237);\">no</span> <span style=\"background-color:rgba(255,0,0,0.1893208548426628);\">weed</span> <span style=\"background-color:rgba(255,0,0,0.25167038664221764);\">bitch</span> <span style=\"background-color:rgba(255,0,0,0.008567344048060477);\">y&#x27;all</span> <span style=\"background-color:rgba(255,0,0,0.009594947332516313);\">need</span> <span style=\"background-color:rgba(255,0,0,0.0506553566083312);\">stop</span> <span style=\"background-color:rgba(255,0,0,0.03194070653989911);\">sending</span> <span style=\"background-color:rgba(255,0,0,0.013085000682622194);\">me</span> <span style=\"background-color:rgba(255,0,0,0.0027600370231084526);\">pics</span> <span style=\"background-color:rgba(255,0,0,0.0007007963722571731);\">and</span> <span style=\"background-color:rgba(255,0,0,0.0004937082121614367);\">videos</span> <span style=\"background-color:rgba(255,0,0,0.00031108334951568395);\">of</span> <span style=\"background-color:rgba(255,0,0,0.008567344048060477);\">y&#x27;all</span> <span style=\"background-color:rgba(255,0,0,0.07513543125241995);\">crap</span> <span style=\"background-color:rgba(255,0,0,0.3360498324036598);\">ass</span> <span style=\"background-color:rgba(255,0,0,0.1893208548426628);\">weed</span> <span style=\"background-color:rgba(255,0,0,0.013252875069156289);\">then</span>"
      ],
      "text/plain": [
       "<IPython.core.display.HTML object>"
      ]
     },
     "metadata": {},
     "output_type": "display_data"
    },
    {
     "data": {
      "text/html": [
       "rt @sely_cxox: <span style=\"background-color:rgba(255,0,0,0.06782973185181618);\">yall</span> <span style=\"background-color:rgba(255,0,0,0.005833556060679257);\">have</span> <span style=\"background-color:rgba(255,0,0,0.3056991472840309);\">ugly</span> <span style=\"background-color:rgba(255,0,0,0.6652137637138367);\">ass</span> <span style=\"background-color:rgba(255,0,0,0.012810499174520373);\">souls</span> <span style=\"background-color:rgba(255,0,0,0.0020763617067132145);\">and</span> <span style=\"background-color:rgba(255,0,0,0.0029660144355148077);\">it</span> <span style=\"background-color:rgba(255,0,0,0.000998502437141724);\">shows</span> <span style=\"background-color:rgba(255,0,0,0.0022222688130568713);\">on</span> <span style=\"background-color:rgba(255,0,0,0.0020748632960021496);\">your</span> <span style=\"background-color:rgba(255,0,0,0.0724441884085536);\">face</span>"
      ],
      "text/plain": [
       "<IPython.core.display.HTML object>"
      ]
     },
     "metadata": {},
     "output_type": "display_data"
    },
    {
     "data": {
      "text/html": [
       "<span style=\"background-color:rgba(255,0,0,0.04689751658588648);\">jap</span> <span style=\"background-color:rgba(255,0,0,0.10556782595813274);\">battle</span> (explicit) - \"crazy ex-girlfriend\" https://t.co/65vwi3ool4 <span style=\"background-color:rgba(255,0,0,0.028529211413115263);\">awe</span> snap, scarsdale!!! https://t.co/65vwi3ool4"
      ],
      "text/plain": [
       "<IPython.core.display.HTML object>"
      ]
     },
     "metadata": {},
     "output_type": "display_data"
    },
    {
     "data": {
      "text/html": [
       "rt @piastlx: <span style=\"background-color:rgba(255,0,0,0.005334715824574232);\">because</span> <span style=\"background-color:rgba(255,0,0,0.02383445855230093);\">fags</span> <span style=\"background-color:rgba(255,0,0,0.012993196723982692);\">are</span> <span style=\"background-color:rgba(255,0,0,0.2853386290371418);\">annoying</span> <span style=\"background-color:rgba(255,0,0,0.8396913111209869);\">af</span> https://t.co/3z2cq14d1g"
      ],
      "text/plain": [
       "<IPython.core.display.HTML object>"
      ]
     },
     "metadata": {},
     "output_type": "display_data"
    },
    {
     "data": {
      "text/html": [
       "@myleslive_ i'm <span style=\"background-color:rgba(255,0,0,0.02063670428469777);\">convinced</span> <span style=\"background-color:rgba(255,0,0,0.015243177767843008);\">everyone</span> <span style=\"background-color:rgba(255,0,0,0.009871723596006632);\">is</span> <span style=\"background-color:rgba(255,0,0,0.18417607992887497);\">fucking</span> <span style=\"background-color:rgba(255,0,0,0.9529954940080643);\">retarded</span>"
      ],
      "text/plain": [
       "<IPython.core.display.HTML object>"
      ]
     },
     "metadata": {},
     "output_type": "display_data"
    },
    {
     "data": {
      "text/html": [
       "<span style=\"background-color:rgba(255,0,0,0.17044022679328918);\">nigga</span> <span style=\"background-color:rgba(255,0,0,0.015217463951557875);\">you</span> <span style=\"background-color:rgba(255,0,0,0.05634384695440531);\">broke</span> <span style=\"background-color:rgba(255,0,0,0.015217463951557875);\">you</span> buggin, <span style=\"background-color:rgba(255,0,0,0.12385202571749687);\">fuck</span> <span style=\"background-color:rgba(255,0,0,0.015217463951557875);\">you</span> <span style=\"background-color:rgba(255,0,0,0.021255973260849714);\">lil</span> <span style=\"background-color:rgba(255,0,0,0.2944285050034523);\">hoe</span> <span style=\"background-color:rgba(255,0,0,0.015217463951557875);\">you</span> <span style=\"background-color:rgba(255,0,0,0.43891627341508865);\">ugly</span> &#128405;&#127997;"
      ],
      "text/plain": [
       "<IPython.core.display.HTML object>"
      ]
     },
     "metadata": {},
     "output_type": "display_data"
    },
    {
     "data": {
      "text/html": [
       "<span style=\"background-color:rgba(255,0,0,0.009247211855836213);\">this</span> <span style=\"background-color:rgba(255,0,0,0.1755547896027565);\">mf</span> <span style=\"background-color:rgba(255,0,0,0.012468347558751702);\">made</span> <span style=\"background-color:rgba(255,0,0,0.025426936335861683);\">me</span> <span style=\"background-color:rgba(255,0,0,0.06512095686048269);\">cum</span> <span style=\"background-color:rgba(255,0,0,0.0350626977160573);\">not</span> 1,2,3, <span style=\"background-color:rgba(255,0,0,0.0009546506771584973);\">but</span> <span style=\"background-color:rgba(255,0,0,0.0010641269182087854);\">4</span> <span style=\"background-color:rgba(255,0,0,0.004817382141482085);\">times</span> tonight. <span style=\"background-color:rgba(255,0,0,0.017415122129023075);\">i</span> <span style=\"background-color:rgba(255,0,0,0.012468347558751702);\">made</span> <span style=\"background-color:rgba(255,0,0,0.09326853789389133);\">him</span> <span style=\"background-color:rgba(255,0,0,0.08812109939754009);\">bust</span> 3. <span style=\"background-color:rgba(255,0,0,0.34702613949775696);\">nigga</span> <span style=\"background-color:rgba(255,0,0,0.03741134190931916);\">had</span> <span style=\"background-color:rgba(255,0,0,0.012119145831093192);\">stamina</span> <span style=\"background-color:rgba(255,0,0,0.0010641269182087854);\">4</span> <span style=\"background-color:rgba(255,0,0,0.005718960310332477);\">sho</span> <span style=\"background-color:rgba(255,0,0,0.14964986592531204);\">damn</span> ...."
      ],
      "text/plain": [
       "<IPython.core.display.HTML object>"
      ]
     },
     "metadata": {},
     "output_type": "display_data"
    },
    {
     "data": {
      "text/html": [
       "<span style=\"background-color:rgba(255,0,0,0.004409078392200172);\">we</span> <span style=\"background-color:rgba(255,0,0,0.07763089146465063);\">fucked</span> <span style=\"background-color:rgba(255,0,0,0.016754177631810308);\">that</span> <span style=\"background-color:rgba(255,0,0,0.5125460773706436);\">bitch</span> <span style=\"background-color:rgba(255,0,0,0.3103402443230152);\">up</span> #lastnight #dambamway #〽️&#127345;️&#127344;️〽️g&#127344;️&#127382; #josephinelounge <span style=\"background-color:rgba(255,0,0,0.05578493233770132);\">lastnight</span> <span style=\"background-color:rgba(255,0,0,0.0179036904592067);\">was</span> lit… https://t.co/7ckwpuu3nv"
      ],
      "text/plain": [
       "<IPython.core.display.HTML object>"
      ]
     },
     "metadata": {},
     "output_type": "display_data"
    },
    {
     "data": {
      "text/html": [
       "#selfieforseb <span style=\"background-color:rgba(255,0,0,0.0035011896397918463);\">these</span> <span style=\"background-color:rgba(255,0,0,0.004210566112305969);\">r</span> <span style=\"background-color:rgba(255,0,0,0.3485194966197014);\">ugly</span> <span style=\"background-color:rgba(255,0,0,0.03143540816381574);\">but</span> <span style=\"background-color:rgba(255,0,0,0.009551867842674255);\">see</span> <span style=\"background-color:rgba(255,0,0,0.015715558547526598);\">ya</span> <span style=\"background-color:rgba(255,0,0,0.014903894625604153);\">in</span> <span style=\"background-color:rgba(255,0,0,0.022272299975156784);\">a</span> <span style=\"background-color:rgba(255,0,0,0.010995531920343637);\">week</span> <span style=\"background-color:rgba(255,0,0,0.08069544099271297);\">fat</span> <span style=\"background-color:rgba(255,0,0,0.5913922190666199);\">ass</span> &#127752; https://t.co/hutkxdlrcw"
      ],
      "text/plain": [
       "<IPython.core.display.HTML object>"
      ]
     },
     "metadata": {},
     "output_type": "display_data"
    },
    {
     "data": {
      "text/html": [
       "<span style=\"background-color:rgba(255,0,0,0.0018660836212802678);\">this</span> <span style=\"background-color:rgba(255,0,0,0.03043752396479249);\">damned</span> hat! <span style=\"background-color:rgba(255,0,0,0.005697262240573764);\">all</span> <span style=\"background-color:rgba(255,0,0,0.0023238440917339176);\">these</span> <span style=\"background-color:rgba(255,0,0,0.7422267645597458);\">fucking</span> <span style=\"background-color:rgba(255,0,0,0.015154578723013401);\">kids</span> <span style=\"background-color:rgba(255,0,0,0.0020459009101614356);\">and</span> <span style=\"background-color:rgba(255,0,0,0.0012837021495215595);\">teachers</span> <span style=\"background-color:rgba(255,0,0,0.003306060971226543);\">looking</span> <span style=\"background-color:rgba(255,0,0,0.005073900101706386);\">at</span> <span style=\"background-color:rgba(255,0,0,0.024882974103093147);\">him</span> <span style=\"background-color:rgba(255,0,0,0.029062514659017324);\">like</span> he's <span style=\"background-color:rgba(255,0,0,0.027242368087172508);\">a</span> <span style=\"background-color:rgba(255,0,0,0.7422267645597458);\">fucking</span> television!"
      ],
      "text/plain": [
       "<IPython.core.display.HTML object>"
      ]
     },
     "metadata": {},
     "output_type": "display_data"
    },
    {
     "data": {
      "text/html": [
       "@gavinbray500 @__king__angel__ &#128514;&#128514; <span style=\"background-color:rgba(255,0,0,0.001949807774508372);\">you</span> <span style=\"background-color:rgba(255,0,0,0.0006310641765594482);\">gmfu</span> <span style=\"background-color:rgba(255,0,0,0.002501225972082466);\">i</span> ain't <span style=\"background-color:rgba(255,0,0,0.022776725236326456);\">makin</span> <span style=\"background-color:rgba(255,0,0,0.007816852885298431);\">no</span> <span style=\"background-color:rgba(255,0,0,0.002311113494215533);\">mission</span> <span style=\"background-color:rgba(255,0,0,0.002018514060182497);\">to</span> <span style=\"background-color:rgba(255,0,0,0.0035920747905038297);\">beat</span> <span style=\"background-color:rgba(255,0,0,0.005313747678883374);\">a</span> <span style=\"background-color:rgba(255,0,0,0.19879497587680817);\">niggas</span> ass, <span style=\"background-color:rgba(255,0,0,0.14546123333275318);\">aight</span> <span style=\"background-color:rgba(255,0,0,0.01757975318469107);\">lets</span> <span style=\"background-color:rgba(255,0,0,0.0004959792204317637);\">set</span> <span style=\"background-color:rgba(255,0,0,0.000533535385329742);\">this</span> shit… https://t.co/eyic8bde2y"
      ],
      "text/plain": [
       "<IPython.core.display.HTML object>"
      ]
     },
     "metadata": {},
     "output_type": "display_data"
    },
    {
     "data": {
      "text/html": [
       "<span style=\"background-color:rgba(255,0,0,0.0044644277659244835);\">this</span> <span style=\"background-color:rgba(255,0,0,0.19486017525196075);\">nigga</span> <span style=\"background-color:rgba(255,0,0,0.03571894019842148);\">was</span> <span style=\"background-color:rgba(255,0,0,0.08939001709222794);\">so</span> <span style=\"background-color:rgba(255,0,0,0.6156368926167488);\">cold</span> <span style=\"background-color:rgba(255,0,0,0.14209463261067867);\">in</span> <span style=\"background-color:rgba(255,0,0,0.042716311290860176);\">college</span> https://t.co/6bhorno5oh"
      ],
      "text/plain": [
       "<IPython.core.display.HTML object>"
      ]
     },
     "metadata": {},
     "output_type": "display_data"
    },
    {
     "data": {
      "text/html": [
       "<span style=\"background-color:rgba(255,0,0,0.0025305437156930566);\">i</span> <span style=\"background-color:rgba(255,0,0,0.0046296860091388226);\">understand</span> <span style=\"background-color:rgba(255,0,0,0.014272128464654088);\">why</span> <span style=\"background-color:rgba(255,0,0,0.23542961105704308);\">niggas</span> <span style=\"background-color:rgba(255,0,0,0.046722893603146076);\">dont</span> <span style=\"background-color:rgba(255,0,0,0.021696414332836866);\">wanna</span> <span style=\"background-color:rgba(255,0,0,0.005954427178949118);\">be</span> <span style=\"background-color:rgba(255,0,0,0.005707296077162027);\">in</span> relationships&#128557;&#128514;&#128557;&#128514; <span style=\"background-color:rgba(255,0,0,0.012775628129020333);\">girls</span> <span style=\"background-color:rgba(255,0,0,0.21123390644788742);\">annoying</span> <span style=\"background-color:rgba(255,0,0,0.6167888268828392);\">af</span>"
      ],
      "text/plain": [
       "<IPython.core.display.HTML object>"
      ]
     },
     "metadata": {},
     "output_type": "display_data"
    },
    {
     "data": {
      "text/html": [
       "&#128514;&#128514;&#128514; <span style=\"background-color:rgba(255,0,0,0.38380831480026245);\">nigga</span> <span style=\"background-color:rgba(255,0,0,0.06395530421286821);\">was</span> <span style=\"background-color:rgba(255,0,0,0.029137202072888613);\">getting</span> <span style=\"background-color:rgba(255,0,0,0.16895433887839317);\">filthy</span> <span style=\"background-color:rgba(255,0,0,0.02156120492145419);\">on</span> <span style=\"background-color:rgba(255,0,0,0.013812638353556395);\">they</span> <span style=\"background-color:rgba(255,0,0,0.370611771941185);\">ass</span> https://t.co/s3t9rlyimd"
      ],
      "text/plain": [
       "<IPython.core.display.HTML object>"
      ]
     },
     "metadata": {},
     "output_type": "display_data"
    },
    {
     "data": {
      "text/html": [
       "<span style=\"background-color:rgba(255,0,0,0.003538417222443968);\">i</span> <span style=\"background-color:rgba(255,0,0,0.20059477537870407);\">hate</span> <span style=\"background-color:rgba(255,0,0,0.040709530003368855);\">people</span> <span style=\"background-color:rgba(255,0,0,0.0196872279047966);\">who</span> <span style=\"background-color:rgba(255,0,0,0.3510203957557678);\">fucking</span> <span style=\"background-color:rgba(255,0,0,0.017540553817525506);\">walk</span> <span style=\"background-color:rgba(255,0,0,0.009027200867421925);\">slow</span> <span style=\"background-color:rgba(255,0,0,0.012149177491664886);\">like</span> <span style=\"background-color:rgba(255,0,0,0.020935852080583572);\">oh</span> <span style=\"background-color:rgba(255,0,0,0.009929781081154943);\">my</span> <span style=\"background-color:rgba(255,0,0,0.08462128229439259);\">god</span> <span style=\"background-color:rgba(255,0,0,0.0074908643728122115);\">get</span> <span style=\"background-color:rgba(255,0,0,0.0046872379607521);\">out</span> <span style=\"background-color:rgba(255,0,0,0.003782787825912237);\">of</span> <span style=\"background-color:rgba(255,0,0,0.007564589031971991);\">the</span> <span style=\"background-color:rgba(255,0,0,0.3510203957557678);\">fucking</span> <span style=\"background-color:rgba(255,0,0,0.06741527002304792);\">way</span>"
      ],
      "text/plain": [
       "<IPython.core.display.HTML object>"
      ]
     },
     "metadata": {},
     "output_type": "display_data"
    },
    {
     "data": {
      "text/html": [
       "@harioffl madarchod, <span style=\"background-color:rgba(255,0,0,0.014421152882277966);\">fuck</span> <span style=\"background-color:rgba(255,0,0,0.022519195917993784);\">off</span> <span style=\"background-color:rgba(255,0,0,0.011186515912413597);\">u</span> <span style=\"background-color:rgba(255,0,0,0.04527893848717213);\">bloody</span> <span style=\"background-color:rgba(255,0,0,0.027891076169908047);\">sambar</span> <span style=\"background-color:rgba(255,0,0,1.0192866623401642);\">asshole</span>"
      ],
      "text/plain": [
       "<IPython.core.display.HTML object>"
      ]
     },
     "metadata": {},
     "output_type": "display_data"
    },
    {
     "data": {
      "text/html": [
       "<span style=\"background-color:rgba(255,0,0,0.1132353488355875);\">niggas</span> can't <span style=\"background-color:rgba(255,0,0,0.03693642094731331);\">leave</span> <span style=\"background-color:rgba(255,0,0,0.01018703100271523);\">this</span> \"fat <span style=\"background-color:rgba(255,0,0,0.14920526184141636);\">bad</span> <span style=\"background-color:rgba(255,0,0,0.03497949102893472);\">bodied</span> bitch\" <span style=\"background-color:rgba(255,0,0,0.2648232877254486);\">alone</span> &#129315;"
      ],
      "text/plain": [
       "<IPython.core.display.HTML object>"
      ]
     },
     "metadata": {},
     "output_type": "display_data"
    },
    {
     "data": {
      "text/html": [
       "@ivory446633 <span style=\"background-color:rgba(255,0,0,0.0012559322931338102);\">well</span> he's <span style=\"background-color:rgba(255,0,0,0.016375770792365074);\">really</span> <span style=\"background-color:rgba(255,0,0,0.3163454309105873);\">fucking</span> <span style=\"background-color:rgba(255,0,0,0.2746943570673466);\">bad</span> <span style=\"background-color:rgba(255,0,0,0.0413324823603034);\">at</span> it. <span style=\"background-color:rgba(255,0,0,0.10105992667376995);\">dumbass</span> <span style=\"background-color:rgba(255,0,0,0.3163454309105873);\">fucking</span> bird. that's <span style=\"background-color:rgba(255,0,0,0.00925459258724004);\">why</span> <span style=\"background-color:rgba(255,0,0,0.005717223393730819);\">the</span> <span style=\"background-color:rgba(255,0,0,0.018837538082152605);\">insult</span> \"bird brain\" <span style=\"background-color:rgba(255,0,0,0.014390060678124428);\">is</span> <span style=\"background-color:rgba(255,0,0,0.014002197422087193);\">a</span> thing."
      ],
      "text/plain": [
       "<IPython.core.display.HTML object>"
      ]
     },
     "metadata": {},
     "output_type": "display_data"
    },
    {
     "data": {
      "text/html": [
       "rt @sofiarichie: <span style=\"background-color:rgba(255,0,0,0.009653600282035768);\">these</span> <span style=\"background-color:rgba(255,0,0,0.16939835622906685);\">fucking</span> <span style=\"background-color:rgba(255,0,0,0.00820040120743215);\">paps</span> <span style=\"background-color:rgba(255,0,0,0.023661393206566572);\">think</span> <span style=\"background-color:rgba(255,0,0,0.029435744509100914);\">they</span> <span style=\"background-color:rgba(255,0,0,0.030469298362731934);\">can</span> <span style=\"background-color:rgba(255,0,0,0.007542666862718761);\">come</span> <span style=\"background-color:rgba(255,0,0,0.0871104933321476);\">up</span> <span style=\"background-color:rgba(255,0,0,0.02526581985875964);\">to</span> <span style=\"background-color:rgba(255,0,0,0.021581416949629784);\">my</span> <span style=\"background-color:rgba(255,0,0,0.06633821874856949);\">house</span> <span style=\"background-color:rgba(255,0,0,0.02296091988682747);\">and</span> <span style=\"background-color:rgba(255,0,0,0.07295231334865093);\">shoot</span> <span style=\"background-color:rgba(255,0,0,0.0598683999851346);\">me</span> <span style=\"background-color:rgba(255,0,0,0.031074327416718006);\">through</span> <span style=\"background-color:rgba(255,0,0,0.021581416949629784);\">my</span> gate. <span style=\"background-color:rgba(255,0,0,0.009653600282035768);\">these</span> <span style=\"background-color:rgba(255,0,0,0.2544180303812027);\">ass</span> <span style=\"background-color:rgba(255,0,0,0.14413184486329556);\">holes</span> <span style=\"background-color:rgba(255,0,0,0.008988401386886835);\">have</span> <span style=\"background-color:rgba(255,0,0,0.004848188546020538);\">no</span> <span style=\"background-color:rgba(255,0,0,0.015151916304603219);\">respect</span>"
      ],
      "text/plain": [
       "<IPython.core.display.HTML object>"
      ]
     },
     "metadata": {},
     "output_type": "display_data"
    },
    {
     "data": {
      "text/html": [
       "@kurteichenwald <span style=\"background-color:rgba(255,0,0,0.0024228059919551015);\">get</span> <span style=\"background-color:rgba(255,0,0,0.14318627305328846);\">fucking</span> <span style=\"background-color:rgba(255,0,0,0.06810387596487999);\">cancer</span> <span style=\"background-color:rgba(255,0,0,0.013922867365181446);\">you</span> <span style=\"background-color:rgba(255,0,0,0.5027817562222481);\">bald</span> <span style=\"background-color:rgba(255,0,0,0.06280762143433094);\">headed</span> <span style=\"background-color:rgba(255,0,0,0.005963949952274561);\">kike</span> <span style=\"background-color:rgba(255,0,0,0.22875608876347542);\">faggot</span>"
      ],
      "text/plain": [
       "<IPython.core.display.HTML object>"
      ]
     },
     "metadata": {},
     "output_type": "display_data"
    },
    {
     "data": {
      "text/html": [
       "<span style=\"background-color:rgba(255,0,0,0.025489425752311945);\">hurt</span> <span style=\"background-color:rgba(255,0,0,0.003349024336785078);\">for</span> <span style=\"background-color:rgba(255,0,0,0.002755911264102906);\">my</span> <span style=\"background-color:rgba(255,0,0,0.0042036487138830125);\">mans</span> wayne, <span style=\"background-color:rgba(255,0,0,0.0002465995930833742);\">one</span> <span style=\"background-color:rgba(255,0,0,0.00031224768463289365);\">of</span> <span style=\"background-color:rgba(255,0,0,0.0010041391215054318);\">the</span> <span style=\"background-color:rgba(255,0,0,0.0005541555947274901);\">greatest</span> <span style=\"background-color:rgba(255,0,0,0.010383520275354385);\">screwed</span> <span style=\"background-color:rgba(255,0,0,0.00288451585220173);\">by</span> <span style=\"background-color:rgba(255,0,0,0.005290254484862089);\">a</span> <span style=\"background-color:rgba(255,0,0,0.23166947066783905);\">nigga</span> <span style=\"background-color:rgba(255,0,0,0.044431290589272976);\">he</span> <span style=\"background-color:rgba(255,0,0,0.2873339131474495);\">called</span> <span style=\"background-color:rgba(255,0,0,0.1458947081118822);\">pops</span> <span style=\"background-color:rgba(255,0,0,0.415075346827507);\">smh</span> &#128567;&#128567;&#128567; https://t.co/4voiiskiam"
      ],
      "text/plain": [
       "<IPython.core.display.HTML object>"
      ]
     },
     "metadata": {},
     "output_type": "display_data"
    },
    {
     "data": {
      "text/html": [
       "@shibooinu <span style=\"background-color:rgba(255,0,0,0.005512729985639453);\">or</span> <span style=\"background-color:rgba(255,0,0,0.0036545481998473406);\">your</span> <span style=\"background-color:rgba(255,0,0,0.0002883360502892174);\">600</span> <span style=\"background-color:rgba(255,0,0,0.0002602509266580455);\">pound</span> <span style=\"background-color:rgba(255,0,0,0.024820032995194197);\">ass</span> <span style=\"background-color:rgba(255,0,0,0.007284570601768792);\">can</span> <span style=\"background-color:rgba(255,0,0,0.005494211218319833);\">go</span> <span style=\"background-color:rgba(255,0,0,0.0030986659112386405);\">to</span> <span style=\"background-color:rgba(255,0,0,0.0010410491086076945);\">tumblr</span> <span style=\"background-color:rgba(255,0,0,0.004970982554368675);\">where</span> <span style=\"background-color:rgba(255,0,0,0.00740943243727088);\">the</span> <span style=\"background-color:rgba(255,0,0,0.02342076739296317);\">rest</span> <span style=\"background-color:rgba(255,0,0,0.014563928125426173);\">of</span> <span style=\"background-color:rgba(255,0,0,0.015353135531768203);\">you</span> <span style=\"background-color:rgba(255,0,0,0.7156862318515778);\">fucking</span> <span style=\"background-color:rgba(255,0,0,0.20381242036819458);\">dyed</span> <span style=\"background-color:rgba(255,0,0,0.0027107330970466137);\">pubic</span> <span style=\"background-color:rgba(255,0,0,0.004618742095772177);\">hair</span> <span style=\"background-color:rgba(255,0,0,0.05456486251205206);\">retards</span> <span style=\"background-color:rgba(255,0,0,0.02542469883337617);\">are</span> <span style=\"background-color:rgba(255,0,0,0.025338269770145416);\">at</span>"
      ],
      "text/plain": [
       "<IPython.core.display.HTML object>"
      ]
     },
     "metadata": {},
     "output_type": "display_data"
    },
    {
     "data": {
      "text/html": [
       "@crownkingvic @honchonothuncho <span style=\"background-color:rgba(255,0,0,0.006511701503768563);\">i</span> <span style=\"background-color:rgba(255,0,0,0.020455361809581518);\">remember</span> <span style=\"background-color:rgba(255,0,0,0.006821557180956006);\">how</span> <span style=\"background-color:rgba(255,0,0,0.006523633492179215);\">much</span> <span style=\"background-color:rgba(255,0,0,0.005816930206492543);\">you</span> <span style=\"background-color:rgba(255,0,0,0.009093396365642548);\">used</span> <span style=\"background-color:rgba(255,0,0,0.006932712276466191);\">to</span> <span style=\"background-color:rgba(255,0,0,0.012595244916155934);\">be</span> <span style=\"background-color:rgba(255,0,0,0.02659688936546445);\">a</span> <span style=\"background-color:rgba(255,0,0,0.06858307402580976);\">biggie</span> <span style=\"background-color:rgba(255,0,0,0.05265710409730673);\">fan</span> &#128514;&#128514;this <span style=\"background-color:rgba(255,0,0,0.6129433214664459);\">nigga</span> <span style=\"background-color:rgba(255,0,0,0.09023506194353104);\">was</span> <span style=\"background-color:rgba(255,0,0,0.061114816926419735);\">serious</span> <span style=\"background-color:rgba(255,0,0,0.02915085293352604);\">about</span> <span style=\"background-color:rgba(255,0,0,0.06858307402580976);\">biggie</span>"
      ],
      "text/plain": [
       "<IPython.core.display.HTML object>"
      ]
     },
     "metadata": {},
     "output_type": "display_data"
    },
    {
     "data": {
      "text/html": [
       "rt @lilseat: <span style=\"background-color:rgba(255,0,0,0.004776956338901073);\">i</span> <span style=\"background-color:rgba(255,0,0,0.27080824598670006);\">hate</span> <span style=\"background-color:rgba(255,0,0,0.03875486785545945);\">that</span> <span style=\"background-color:rgba(255,0,0,0.8079729974269867);\">bitch</span> https://t.co/a1fhjmqjgw"
      ],
      "text/plain": [
       "<IPython.core.display.HTML object>"
      ]
     },
     "metadata": {},
     "output_type": "display_data"
    },
    {
     "data": {
      "text/html": [
       "rt @marcusgotit__: @darealchoppo &#128514;&#128514; <span style=\"background-color:rgba(255,0,0,0.044590369798243046);\">crazy</span> <span style=\"background-color:rgba(255,0,0,0.004421825287863612);\">as</span> <span style=\"background-color:rgba(255,0,0,0.15699895098805428);\">hell</span> <span style=\"background-color:rgba(255,0,0,0.934598445892334);\">nigga</span>"
      ],
      "text/plain": [
       "<IPython.core.display.HTML object>"
      ]
     },
     "metadata": {},
     "output_type": "display_data"
    },
    {
     "data": {
      "text/html": [
       "rt @rojasss_dianaaa: <span style=\"background-color:rgba(255,0,0,0.04557880572974682);\">fuckin</span> <span style=\"background-color:rgba(255,0,0,0.18588585779070854);\">bum</span> <span style=\"background-color:rgba(255,0,0,0.2797243371605873);\">ass</span> nigga. <span style=\"background-color:rgba(255,0,0,0.014266783837229013);\">i</span> <span style=\"background-color:rgba(255,0,0,0.04138906020671129);\">cant</span> <span style=\"background-color:rgba(255,0,0,0.023998452816158533);\">stand</span> <span style=\"background-color:rgba(255,0,0,0.00785698532126844);\">a</span> <span style=\"background-color:rgba(255,0,0,0.1669575460255146);\">nigga</span> <span style=\"background-color:rgba(255,0,0,0.0216123485006392);\">who</span> <span style=\"background-color:rgba(255,0,0,0.04138906020671129);\">cant</span> <span style=\"background-color:rgba(255,0,0,0.010695360833778977);\">take</span> <span style=\"background-color:rgba(255,0,0,0.0017855454643722624);\">some</span> <span style=\"background-color:rgba(255,0,0,0.06582709960639477);\">fucking</span> responsibility."
      ],
      "text/plain": [
       "<IPython.core.display.HTML object>"
      ]
     },
     "metadata": {},
     "output_type": "display_data"
    },
    {
     "data": {
      "text/html": [
       "her: <span style=\"background-color:rgba(255,0,0,0.07029804401099682);\">shut</span> <span style=\"background-color:rgba(255,0,0,0.08005107752978802);\">up</span> <span style=\"background-color:rgba(255,0,0,0.7495509833097458);\">ugly</span> me: <span style=\"background-color:rgba(255,0,0,0.00976552371867001);\">what</span> i'll <span style=\"background-color:rgba(255,0,0,0.0035064457915723324);\">beat</span> <span style=\"background-color:rgba(255,0,0,0.00834094942547381);\">yo</span> <span style=\"background-color:rgba(255,0,0,0.09177102707326412);\">ass</span> her: <span style=\"background-color:rgba(255,0,0,0.0168338802177459);\">oh</span> <span style=\"background-color:rgba(255,0,0,0.009898195276036859);\">mah</span> gawd.. https://t.co/q991u88s0p"
      ],
      "text/plain": [
       "<IPython.core.display.HTML object>"
      ]
     },
     "metadata": {},
     "output_type": "display_data"
    },
    {
     "data": {
      "text/html": [
       "hater: <span style=\"background-color:rgba(255,0,0,0.030471377540379763);\">namjoon</span> <span style=\"background-color:rgba(255,0,0,0.04190881736576557);\">is</span> <span style=\"background-color:rgba(255,0,0,0.5360375717282295);\">ugly</span> asyura: <span style=\"background-color:rgba(255,0,0,0.11673470959067345);\">bitch</span> where? <span style=\"background-color:rgba(255,0,0,0.06848360877484083);\">fight</span> me. <span style=\"background-color:rgba(255,0,0,0.03057364607229829);\">oh</span> <span style=\"background-color:rgba(255,0,0,0.010679622646421194);\">my</span> <span style=\"background-color:rgba(255,0,0,0.0757124787196517);\">god</span> <span style=\"background-color:rgba(255,0,0,0.04190881736576557);\">is</span> <span style=\"background-color:rgba(255,0,0,0.051211072131991386);\">u</span> <span style=\"background-color:rgba(255,0,0,0.12330504134297371);\">blind</span> ?! <span style=\"background-color:rgba(255,0,0,0.020781641360372305);\">how</span>"
      ],
      "text/plain": [
       "<IPython.core.display.HTML object>"
      ]
     },
     "metadata": {},
     "output_type": "display_data"
    },
    {
     "data": {
      "text/html": [
       "@foxfire2112 @anonintelgroup @support @jack <span style=\"background-color:rgba(255,0,0,0.022691329941153526);\">u</span> <span style=\"background-color:rgba(255,0,0,0.05997959990054369);\">kno</span> <span style=\"background-color:rgba(255,0,0,0.011132600484415889);\">we</span> <span style=\"background-color:rgba(255,0,0,0.008037700899876654);\">can</span> <span style=\"background-color:rgba(255,0,0,0.0035526748979464173);\">b</span> <span style=\"background-color:rgba(255,0,0,0.0015130492101889104);\">annoyingly</span> <span style=\"background-color:rgba(255,0,0,0.009373307111673057);\">aggressive</span> <span style=\"background-color:rgba(255,0,0,0.0055140547920018435);\">this</span> <span style=\"background-color:rgba(255,0,0,0.010178417433053255);\">is</span> <span style=\"background-color:rgba(255,0,0,0.05323862191289663);\">family</span> <span style=\"background-color:rgba(255,0,0,0.022691329941153526);\">u</span> don't <span style=\"background-color:rgba(255,0,0,0.2035747468471527);\">fuck</span> <span style=\"background-color:rgba(255,0,0,0.7782871276140213);\">wit</span> family..tisktisk"
      ],
      "text/plain": [
       "<IPython.core.display.HTML object>"
      ]
     },
     "metadata": {},
     "output_type": "display_data"
    },
    {
     "data": {
      "text/html": [
       "rt @steviehemmings: @laboureoin @iainmcnicol <span style=\"background-color:rgba(255,0,0,0.0031758385011926293);\">if</span> <span style=\"background-color:rgba(255,0,0,0.0040246095159091055);\">this</span> <span style=\"background-color:rgba(255,0,0,0.015575323486700654);\">not</span> <span style=\"background-color:rgba(255,0,0,0.009750135941430926);\">bringing</span> <span style=\"background-color:rgba(255,0,0,0.01027669059112668);\">lab</span> <span style=\"background-color:rgba(255,0,0,0.038771298713982105);\">into</span> disrepute,don't <span style=\"background-color:rgba(255,0,0,0.02630234695971012);\">know</span> <span style=\"background-color:rgba(255,0,0,0.026469677686691284);\">what</span> is.do <span style=\"background-color:rgba(255,0,0,0.017108788015320897);\">your</span> <span style=\"background-color:rgba(255,0,0,0.6570947170257568);\">fucking</span> job.any <span style=\"background-color:rgba(255,0,0,0.001603411219548434);\">mp</span> who…"
      ],
      "text/plain": [
       "<IPython.core.display.HTML object>"
      ]
     },
     "metadata": {},
     "output_type": "display_data"
    },
    {
     "data": {
      "text/html": [
       "rt @emily_saenz: <span style=\"background-color:rgba(255,0,0,0.08615796454250813);\">fucking</span> <span style=\"background-color:rgba(255,0,0,0.7810471206903458);\">hate</span> <span style=\"background-color:rgba(255,0,0,0.04941095598042011);\">when</span> <span style=\"background-color:rgba(255,0,0,0.01844530343078077);\">people</span> <span style=\"background-color:rgba(255,0,0,0.06567643489688635);\">leave</span> <span style=\"background-color:rgba(255,0,0,0.017054012278094888);\">my</span> <span style=\"background-color:rgba(255,0,0,0.0068755378015339375);\">car</span> <span style=\"background-color:rgba(255,0,0,0.08122285827994347);\">dirty</span> <span style=\"background-color:rgba(255,0,0,0.09931454434990883);\">omg</span>"
      ],
      "text/plain": [
       "<IPython.core.display.HTML object>"
      ]
     },
     "metadata": {},
     "output_type": "display_data"
    },
    {
     "data": {
      "text/html": [
       "<span style=\"background-color:rgba(255,0,0,0.0008136108226608485);\">watch</span> <span style=\"background-color:rgba(255,0,0,0.0011160100257257);\">what</span> <span style=\"background-color:rgba(255,0,0,0.0021194462897256017);\">you</span> <span style=\"background-color:rgba(255,0,0,0.004229021433275193);\">say</span> <span style=\"background-color:rgba(255,0,0,0.0017762009520083666);\">to</span> <span style=\"background-color:rgba(255,0,0,0.004342494939919561);\">me</span> <span style=\"background-color:rgba(255,0,0,0.0035851766006089747);\">when</span> you're <span style=\"background-color:rgba(255,0,0,0.29549526050686836);\">mad</span> <span style=\"background-color:rgba(255,0,0,0.3822692856192589);\">cuz</span> <span style=\"background-color:rgba(255,0,0,0.057596731930971146);\">i</span> don't <span style=\"background-color:rgba(255,0,0,0.002893162309192121);\">forget</span> <span style=\"background-color:rgba(255,0,0,0.00532120349816978);\">a</span> <span style=\"background-color:rgba(255,0,0,0.22672217339277267);\">damn</span> <span style=\"background-color:rgba(255,0,0,0.14385334216058254);\">thing</span>"
      ],
      "text/plain": [
       "<IPython.core.display.HTML object>"
      ]
     },
     "metadata": {},
     "output_type": "display_data"
    },
    {
     "data": {
      "text/html": [
       "<span style=\"background-color:rgba(255,0,0,0.003992679412476718);\">he</span> <span style=\"background-color:rgba(255,0,0,0.0011418101348681375);\">dishing</span> <span style=\"background-color:rgba(255,0,0,0.002820660884026438);\">that</span> <span style=\"background-color:rgba(255,0,0,0.21567970514297485);\">hoe</span> <span style=\"background-color:rgba(255,0,0,0.020972073543816805);\">these</span> <span style=\"background-color:rgba(255,0,0,0.1999322697520256);\">niggas</span> <span style=\"background-color:rgba(255,0,0,0.5344945192337036);\">fucking</span> <span style=\"background-color:rgba(255,0,0,0.210435651242733);\">up</span> https://t.co/pguurhqez5"
      ],
      "text/plain": [
       "<IPython.core.display.HTML object>"
      ]
     },
     "metadata": {},
     "output_type": "display_data"
    },
    {
     "data": {
      "text/html": [
       "@jem_lucy <span style=\"background-color:rgba(255,0,0,0.0013358263822738081);\">what</span> <span style=\"background-color:rgba(255,0,0,0.0015254291065502912);\">the</span> <span style=\"background-color:rgba(255,0,0,0.04907169844955206);\">fuck</span> <span style=\"background-color:rgba(255,0,0,0.016970059368759394);\">is</span> <span style=\"background-color:rgba(255,0,0,0.035469052381813526);\">wrong</span> <span style=\"background-color:rgba(255,0,0,0.008313827565871179);\">with</span> <span style=\"background-color:rgba(255,0,0,0.005126064061187208);\">this</span> girl. <span style=\"background-color:rgba(255,0,0,0.007956154295243323);\">laura</span> <span style=\"background-color:rgba(255,0,0,0.001285178295802325);\">your</span> <span style=\"background-color:rgba(255,0,0,0.002931118942797184);\">a</span> <span style=\"background-color:rgba(255,0,0,0.08590505458414555);\">fucking</span> idiot! <span style=\"background-color:rgba(255,0,0,0.11109749786555767);\">just</span> <span style=\"background-color:rgba(255,0,0,0.005060765543021262);\">signed</span> <span style=\"background-color:rgba(255,0,0,0.002931118942797184);\">a</span> <span style=\"background-color:rgba(255,0,0,0.003496500721666962);\">petition</span> <span style=\"background-color:rgba(255,0,0,0.0012886372860521078);\">to</span> <span style=\"background-color:rgba(255,0,0,0.026643674355000257);\">stop</span> <span style=\"background-color:rgba(255,0,0,0.013596108183264732);\">people</span> <span style=\"background-color:rgba(255,0,0,0.015581984771415591);\">like</span> <span style=\"background-color:rgba(255,0,0,0.004000299668405205);\">you</span> #troll #bully"
      ],
      "text/plain": [
       "<IPython.core.display.HTML object>"
      ]
     },
     "metadata": {},
     "output_type": "display_data"
    },
    {
     "data": {
      "text/html": [
       "rt @blizzgetsbizz: <span style=\"background-color:rgba(255,0,0,0.017580371350049973);\">thank</span> <span style=\"background-color:rgba(255,0,0,0.02323242835700512);\">them</span> <span style=\"background-color:rgba(255,0,0,0.006755375652574003);\">for</span> what? <span style=\"background-color:rgba(255,0,0,0.00954802380874753);\">making</span> <span style=\"background-color:rgba(255,0,0,0.008670773822814226);\">these</span> <span style=\"background-color:rgba(255,0,0,0.18948907032608986);\">nasty</span> <span style=\"background-color:rgba(255,0,0,0.8130271732807159);\">ass</span> cookies. https://t.co/ymxntmoq7f"
      ],
      "text/plain": [
       "<IPython.core.display.HTML object>"
      ]
     },
     "metadata": {},
     "output_type": "display_data"
    },
    {
     "data": {
      "text/html": [
       "<span style=\"background-color:rgba(255,0,0,0.0014561090210918337);\">ever</span> <span style=\"background-color:rgba(255,0,0,0.0006305904389591888);\">catch</span> <span style=\"background-color:rgba(255,0,0,0.0012375807273201644);\">a</span> <span style=\"background-color:rgba(255,0,0,0.05715406034141779);\">niggas</span> <span style=\"background-color:rgba(255,0,0,0.03612156258895993);\">creeping</span> <span style=\"background-color:rgba(255,0,0,0.021571507677435875);\">and</span> <span style=\"background-color:rgba(255,0,0,0.004591902543324977);\">you</span> <span style=\"background-color:rgba(255,0,0,0.12371211312711239);\">mad</span> <span style=\"background-color:rgba(255,0,0,0.5714545026421547);\">af</span> <span style=\"background-color:rgba(255,0,0,0.021571507677435875);\">and</span> <span style=\"background-color:rgba(255,0,0,0.01468525268137455);\">he</span> <span style=\"background-color:rgba(255,0,0,0.032747676596045494);\">just</span> <span style=\"background-color:rgba(255,0,0,0.03577932249754667);\">looking</span> <span style=\"background-color:rgba(255,0,0,0.025676218792796135);\">at</span> <span style=\"background-color:rgba(255,0,0,0.004591902543324977);\">you</span> <span style=\"background-color:rgba(255,0,0,0.013973329914733768);\">like</span> <span style=\"background-color:rgba(255,0,0,0.004591902543324977);\">you</span> stupid?"
      ],
      "text/plain": [
       "<IPython.core.display.HTML object>"
      ]
     },
     "metadata": {},
     "output_type": "display_data"
    },
    {
     "data": {
      "text/html": [
       "rt @czechraw: <span style=\"background-color:rgba(255,0,0,0.017003779066726565);\">horny</span> <span style=\"background-color:rgba(255,0,0,0.0004736713526654057);\">construction</span> <span style=\"background-color:rgba(255,0,0,0.00022487140086013824);\">workers</span> <span style=\"background-color:rgba(255,0,0,0.0007263546285685152);\">take</span> <span style=\"background-color:rgba(255,0,0,0.002227491931989789);\">a</span> <span style=\"background-color:rgba(255,0,0,0.007393663399852812);\">break</span> <span style=\"background-color:rgba(255,0,0,0.0030712364241480827);\">from</span> <span style=\"background-color:rgba(255,0,0,0.004793223924934864);\">work</span> <span style=\"background-color:rgba(255,0,0,0.18284069374203682);\">fucking</span> eachother, <span style=\"background-color:rgba(255,0,0,0.045231813564896584);\">in</span> <span style=\"background-color:rgba(255,0,0,0.02969682915136218);\">czech</span> <span style=\"background-color:rgba(255,0,0,0.20757421851158142);\">everone</span> <span style=\"background-color:rgba(255,0,0,0.02707140753045678);\">want</span> <span style=\"background-color:rgba(255,0,0,0.2532801777124405);\">ass</span> fucked! https://t.co/vncjlcjgnj"
      ],
      "text/plain": [
       "<IPython.core.display.HTML object>"
      ]
     },
     "metadata": {},
     "output_type": "display_data"
    },
    {
     "data": {
      "text/html": [
       "rt @winnahagwabi: <span style=\"background-color:rgba(255,0,0,0.0003760116669582203);\">some</span> <span style=\"background-color:rgba(255,0,0,0.00037645681004505605);\">of</span> <span style=\"background-color:rgba(255,0,0,0.0011171849473612383);\">y&#x27;alls</span> <span style=\"background-color:rgba(255,0,0,0.003152586577925831);\">parents</span> <span style=\"background-color:rgba(255,0,0,0.0031086281524039805);\">be</span> <span style=\"background-color:rgba(255,0,0,0.16706883907318115);\">racist</span> <span style=\"background-color:rgba(255,0,0,0.014815806644037366);\">as</span> <span style=\"background-color:rgba(255,0,0,0.2055751159787178);\">fuck</span> that's <span style=\"background-color:rgba(255,0,0,0.024822307750582695);\">why</span> they're <span style=\"background-color:rgba(255,0,0,0.6497752666473389);\">ugly</span> &amp; <span style=\"background-color:rgba(255,0,0,0.0839249137789011);\">wrinkled</span>"
      ],
      "text/plain": [
       "<IPython.core.display.HTML object>"
      ]
     },
     "metadata": {},
     "output_type": "display_data"
    },
    {
     "data": {
      "text/html": [
       "<span style=\"background-color:rgba(255,0,0,0.006248110439628363);\">i</span> <span style=\"background-color:rgba(255,0,0,0.00016230183973675594);\">s2g</span> <span style=\"background-color:rgba(255,0,0,0.00029923636247985996);\">this</span> <span style=\"background-color:rgba(255,0,0,0.00174213811988011);\">girl</span> <span style=\"background-color:rgba(255,0,0,0.006248110439628363);\">i</span> <span style=\"background-color:rgba(255,0,0,0.0008348588744411245);\">work</span> <span style=\"background-color:rgba(255,0,0,0.0072413659654557705);\">with</span> <span style=\"background-color:rgba(255,0,0,0.0015411204367410392);\">is</span> <span style=\"background-color:rgba(255,0,0,0.015623794170096517);\">so</span> <span style=\"background-color:rgba(255,0,0,0.1769518479704857);\">fucking</span> <span style=\"background-color:rgba(255,0,0,0.8928152918815613);\">stupid</span> <span style=\"background-color:rgba(255,0,0,0.022284165024757385);\">and</span> <span style=\"background-color:rgba(255,0,0,0.006306382128968835);\">lacks</span> <span style=\"background-color:rgba(255,0,0,0.015623794170096517);\">so</span> <span style=\"background-color:rgba(255,0,0,0.0049394904635846615);\">much</span> <span style=\"background-color:rgba(255,0,0,0.0016275988309644163);\">common</span> <span style=\"background-color:rgba(255,0,0,0.0032490049488842487);\">sense</span> <span style=\"background-color:rgba(255,0,0,0.006248110439628363);\">i</span> <span style=\"background-color:rgba(255,0,0,0.035317977890372276);\">cant</span> <span style=\"background-color:rgba(255,0,0,0.0072413659654557705);\">with</span> <span style=\"background-color:rgba(255,0,0,0.01318316557444632);\">her</span> <span style=\"background-color:rgba(255,0,0,0.026070892345160246);\">anymore</span>"
      ],
      "text/plain": [
       "<IPython.core.display.HTML object>"
      ]
     },
     "metadata": {},
     "output_type": "display_data"
    },
    {
     "data": {
      "text/html": [
       "<span style=\"background-color:rgba(255,0,0,0.07846688851714134);\">wtf</span> <span style=\"background-color:rgba(255,0,0,0.008730441331863403);\">its</span> <span style=\"background-color:rgba(255,0,0,0.016844989731907845);\">not</span> <span style=\"background-color:rgba(255,0,0,0.03172636730596423);\">just</span> <span style=\"background-color:rgba(255,0,0,0.024497320409864187);\">a</span> <span style=\"background-color:rgba(255,0,0,0.2614861726760864);\">crazy</span> <span style=\"background-color:rgba(255,0,0,0.01667696051299572);\">old</span> <span style=\"background-color:rgba(255,0,0,0.036250383127480745);\">man</span> <span style=\"background-color:rgba(255,0,0,0.022384473122656345);\">like</span> <span style=\"background-color:rgba(255,0,0,0.014765565283596516);\">me</span> <span style=\"background-color:rgba(255,0,0,0.008714949944987893);\">who</span> <span style=\"background-color:rgba(255,0,0,0.0016254608635790646);\">thks</span> <span style=\"background-color:rgba(255,0,0,0.00225627125473693);\">we</span> <span style=\"background-color:rgba(255,0,0,0.006943013286218047);\">are</span> <span style=\"background-color:rgba(255,0,0,0.007081794319674373);\">being</span> <span style=\"background-color:rgba(255,0,0,0.0007892252324381843);\">islamized</span> <span style=\"background-color:rgba(255,0,0,0.001149341551354155);\">by</span> <span style=\"background-color:rgba(255,0,0,0.002286621747771278);\">this</span> <span style=\"background-color:rgba(255,0,0,0.0017308095993939787);\">najashi</span> <span style=\"background-color:rgba(255,0,0,0.006668137502856553);\">king</span> <span style=\"background-color:rgba(255,0,0,0.004765190533362329);\">and</span> <span style=\"background-color:rgba(255,0,0,0.019217488588765264);\">his</span> <span style=\"background-color:rgba(255,0,0,0.6330592930316925);\">fucking</span> musli… https://t.co/kvf4o4oz1i"
      ],
      "text/plain": [
       "<IPython.core.display.HTML object>"
      ]
     },
     "metadata": {},
     "output_type": "display_data"
    },
    {
     "data": {
      "text/html": [
       "@jetpacksmithy <span style=\"background-color:rgba(255,0,0,0.04085955675691366);\">holy</span> <span style=\"background-color:rgba(255,0,0,0.2678188495337963);\">fuck</span> <span style=\"background-color:rgba(255,0,0,0.023514595814049244);\">mate</span> <span style=\"background-color:rgba(255,0,0,0.003651499282568693);\">you</span> <span style=\"background-color:rgba(255,0,0,0.005003602127544582);\">are</span> <span style=\"background-color:rgba(255,0,0,0.001538303476991132);\">some</span> <span style=\"background-color:rgba(255,0,0,0.1665663719177246);\">ugly</span> <span style=\"background-color:rgba(255,0,0,0.658433735370636);\">cunt</span> <span style=\"background-color:rgba(255,0,0,0.009932819521054626);\">use</span> <span style=\"background-color:rgba(255,0,0,0.003886803169734776);\">that</span> £1 <span style=\"background-color:rgba(255,0,0,0.0006039615254849195);\">to</span> <span style=\"background-color:rgba(255,0,0,0.00037916139262961224);\">get</span> <span style=\"background-color:rgba(255,0,0,0.0016699069237802178);\">a</span> <span style=\"background-color:rgba(255,0,0,0.0008655869896756485);\">make</span> <span style=\"background-color:rgba(255,0,0,0.016144518740475178);\">over</span>"
      ],
      "text/plain": [
       "<IPython.core.display.HTML object>"
      ]
     },
     "metadata": {},
     "output_type": "display_data"
    },
    {
     "data": {
      "text/html": [
       "<span style=\"background-color:rgba(255,0,0,0.0015224894741550088);\">all</span> <span style=\"background-color:rgba(255,0,0,0.007058865739963949);\">i</span> <span style=\"background-color:rgba(255,0,0,0.000822107758722268);\">found</span> <span style=\"background-color:rgba(255,0,0,0.018753905314952135);\">out</span> <span style=\"background-color:rgba(255,0,0,0.0010935468890238553);\">yesterday</span> <span style=\"background-color:rgba(255,0,0,0.002478351234458387);\">was</span> <span style=\"background-color:rgba(255,0,0,0.004036719328723848);\">that</span> i'm <span style=\"background-color:rgba(255,0,0,0.009064931655302644);\">the</span> <span style=\"background-color:rgba(255,0,0,0.014783062506467104);\">prettiest</span> <span style=\"background-color:rgba(255,0,0,0.4159809648990631);\">ugly</span> <span style=\"background-color:rgba(255,0,0,0.7365096360445023);\">nigga</span> <span style=\"background-color:rgba(255,0,0,0.018753905314952135);\">out</span> <span style=\"background-color:rgba(255,0,0,0.004301162261981517);\">hurrrrrr</span>"
      ],
      "text/plain": [
       "<IPython.core.display.HTML object>"
      ]
     },
     "metadata": {},
     "output_type": "display_data"
    },
    {
     "data": {
      "text/html": [
       "<span style=\"background-color:rgba(255,0,0,0.004804414347745478);\">i</span> <span style=\"background-color:rgba(255,0,0,0.2723648399114609);\">hate</span> <span style=\"background-color:rgba(255,0,0,0.057112849317491055);\">anime</span> [continues <span style=\"background-color:rgba(255,0,0,0.025784114841371775);\">watching</span> <span style=\"background-color:rgba(255,0,0,0.013688986655324697);\">it</span> <span style=\"background-color:rgba(255,0,0,0.007166605209931731);\">and</span> <span style=\"background-color:rgba(255,0,0,0.015528083313256502);\">buying</span> <span style=\"background-color:rgba(255,0,0,0.0259635248221457);\">merch</span> anyways] <span style=\"background-color:rgba(255,0,0,0.6210463121533394);\">fuck</span> <span style=\"background-color:rgba(255,0,0,0.057112849317491055);\">anime</span>"
      ],
      "text/plain": [
       "<IPython.core.display.HTML object>"
      ]
     },
     "metadata": {},
     "output_type": "display_data"
    },
    {
     "data": {
      "text/html": [
       "rt @fxlxfel: <span style=\"background-color:rgba(255,0,0,0.00316738267429173);\">i</span> <span style=\"background-color:rgba(255,0,0,0.09208188392221928);\">fucking</span> <span style=\"background-color:rgba(255,0,0,0.8198653906583786);\">hate</span> humans. https://t.co/bmhlbizdvm"
      ],
      "text/plain": [
       "<IPython.core.display.HTML object>"
      ]
     },
     "metadata": {},
     "output_type": "display_data"
    },
    {
     "data": {
      "text/html": [
       "rt @darkazcera2k17: <span style=\"background-color:rgba(255,0,0,0.008608519565314054);\">i</span> <span style=\"background-color:rgba(255,0,0,0.0010392489639343694);\">want</span> <span style=\"background-color:rgba(255,0,0,0.000568163231946528);\">to</span> <span style=\"background-color:rgba(255,0,0,0.1493368949741125);\">fucking</span> <span style=\"background-color:rgba(255,0,0,0.0015149498358368874);\">get</span> <span style=\"background-color:rgba(255,0,0,0.0007707690383540466);\">out</span> <span style=\"background-color:rgba(255,0,0,0.0006079961531213485);\">of</span> <span style=\"background-color:rgba(255,0,0,0.0009982513438444585);\">this</span> <span style=\"background-color:rgba(255,0,0,0.02044920576736331);\">god</span> <span style=\"background-color:rgba(255,0,0,0.0004950841685058549);\">forsaken</span> <span style=\"background-color:rgba(255,0,0,0.003966186486650258);\">house</span> already. <span style=\"background-color:rgba(255,0,0,0.008608519565314054);\">i</span> <span style=\"background-color:rgba(255,0,0,0.1493368949741125);\">fucking</span> <span style=\"background-color:rgba(255,0,0,0.9504401683807373);\">hate</span> <span style=\"background-color:rgba(255,0,0,0.05212613381445408);\">it</span> <span style=\"background-color:rgba(255,0,0,0.004114448092877865);\">here</span>"
      ],
      "text/plain": [
       "<IPython.core.display.HTML object>"
      ]
     },
     "metadata": {},
     "output_type": "display_data"
    },
    {
     "data": {
      "text/html": [
       "rt @zandersanz: <span style=\"background-color:rgba(255,0,0,0.00022201656975084916);\">you</span> <span style=\"background-color:rgba(255,0,0,0.0008942605199990794);\">lil&#x27;</span> <span style=\"background-color:rgba(255,0,0,0.08137235417962074);\">stupid</span> <span style=\"background-color:rgba(255,0,0,0.16058942303061485);\">bitch</span> , <span style=\"background-color:rgba(255,0,0,0.34608062356710434);\">dumb</span> <span style=\"background-color:rgba(255,0,0,0.03543723840266466);\">teacher</span> bitch, 2+2 <span style=\"background-color:rgba(255,0,0,0.0002762048097793013);\">not</span> <span style=\"background-color:rgba(255,0,0,0.0011359578638803214);\">knowing</span> <span style=\"background-color:rgba(255,0,0,0.036461830604821444);\">wtf</span> <span style=\"background-color:rgba(255,0,0,0.006058738799765706);\">it</span> <span style=\"background-color:rgba(255,0,0,0.00538791879080236);\">is</span> <span style=\"background-color:rgba(255,0,0,0.16058942303061485);\">bitch</span> https://t.co/xqa0r5odng"
      ],
      "text/plain": [
       "<IPython.core.display.HTML object>"
      ]
     },
     "metadata": {},
     "output_type": "display_data"
    },
    {
     "data": {
      "text/html": [
       "@w1f1mami @bangmycouture coon? <span style=\"background-color:rgba(255,0,0,0.0003977790038334206);\">your</span> <span style=\"background-color:rgba(255,0,0,0.0015912829258013517);\">a</span> <span style=\"background-color:rgba(255,0,0,0.10649319738149643);\">fucking</span> racist."
      ],
      "text/plain": [
       "<IPython.core.display.HTML object>"
      ]
     },
     "metadata": {},
     "output_type": "display_data"
    },
    {
     "data": {
      "text/html": [
       "i'm <span style=\"background-color:rgba(255,0,0,0.3364425152540207);\">sick</span> <span style=\"background-color:rgba(255,0,0,0.025320772547274828);\">of</span> <span style=\"background-color:rgba(255,0,0,0.04443544428795576);\">waking</span> <span style=\"background-color:rgba(255,0,0,0.17197215929627419);\">up</span> <span style=\"background-color:rgba(255,0,0,0.018550552194938064);\">to</span> <span style=\"background-color:rgba(255,0,0,0.00874044606462121);\">news</span> <span style=\"background-color:rgba(255,0,0,0.006306249997578561);\">about</span> <span style=\"background-color:rgba(255,0,0,0.034192418679594994);\">trump</span> <span style=\"background-color:rgba(255,0,0,0.01387899392284453);\">and</span> co. <span style=\"background-color:rgba(255,0,0,0.2718934416770935);\">fucking</span> <span style=\"background-color:rgba(255,0,0,0.06549551617354155);\">things</span> <span style=\"background-color:rgba(255,0,0,0.17197215929627419);\">up</span> https://t.co/bgrlzjghli"
      ],
      "text/plain": [
       "<IPython.core.display.HTML object>"
      ]
     },
     "metadata": {},
     "output_type": "display_data"
    },
    {
     "data": {
      "text/html": [
       "rt @sdawga97: <span style=\"background-color:rgba(255,0,0,0.0012218787742312998);\">i</span> <span style=\"background-color:rgba(255,0,0,0.06926896050572395);\">hate</span> <span style=\"background-color:rgba(255,0,0,0.014774705050513148);\">a</span> \"girls <span style=\"background-color:rgba(255,0,0,0.003644211101345718);\">that</span> <span style=\"background-color:rgba(255,0,0,0.01941781025379896);\">smoke</span> <span style=\"background-color:rgba(255,0,0,0.00926186388824135);\">are</span> ugly\" <span style=\"background-color:rgba(255,0,0,0.39574988186359406);\">ass</span> <span style=\"background-color:rgba(255,0,0,0.41990216821432114);\">nigga</span>"
      ],
      "text/plain": [
       "<IPython.core.display.HTML object>"
      ]
     },
     "metadata": {},
     "output_type": "display_data"
    },
    {
     "data": {
      "text/html": [
       "@yesennniaa_ <span style=\"background-color:rgba(255,0,0,0.01596985151991248);\">oh</span> <span style=\"background-color:rgba(255,0,0,0.3471337631344795);\">hell</span> no! <span style=\"background-color:rgba(255,0,0,0.02061557024717331);\">always</span> <span style=\"background-color:rgba(255,0,0,0.5208559334278107);\">hated</span> <span style=\"background-color:rgba(255,0,0,0.10434172116219997);\">that</span> <span style=\"background-color:rgba(255,0,0,0.02772947307676077);\">movie</span> <span style=\"background-color:rgba(255,0,0,0.02061557024717331);\">always</span> <span style=\"background-color:rgba(255,0,0,0.014998879050835967);\">will</span> !"
      ],
      "text/plain": [
       "<IPython.core.display.HTML object>"
      ]
     },
     "metadata": {},
     "output_type": "display_data"
    },
    {
     "data": {
      "text/html": [
       "<span style=\"background-color:rgba(255,0,0,0.001802521146601066);\">i</span> <span style=\"background-color:rgba(255,0,0,0.10218589566648006);\">hate</span> <span style=\"background-color:rgba(255,0,0,0.01747623085975647);\">listening</span> <span style=\"background-color:rgba(255,0,0,0.002943460422102362);\">to</span> <span style=\"background-color:rgba(255,0,0,0.012004465097561479);\">trump</span> speak. he's <span style=\"background-color:rgba(255,0,0,0.41458748281002045);\">fucking</span> <span style=\"background-color:rgba(255,0,0,0.5052730068564415);\">mentally</span> slow."
      ],
      "text/plain": [
       "<IPython.core.display.HTML object>"
      ]
     },
     "metadata": {},
     "output_type": "display_data"
    },
    {
     "data": {
      "text/html": [
       "rt @noheartfound: <span style=\"background-color:rgba(255,0,0,0.005800856743007898);\">someone</span> <span style=\"background-color:rgba(255,0,0,0.004347362846601754);\">will</span> <span style=\"background-color:rgba(255,0,0,0.009256585035473108);\">appreciate</span> <span style=\"background-color:rgba(255,0,0,0.007142454851418734);\">my</span> <span style=\"background-color:rgba(255,0,0,0.3825145587325096);\">ugly</span> <span style=\"background-color:rgba(255,0,0,0.7873454689979553);\">ass</span> <span style=\"background-color:rgba(255,0,0,0.007891539135016501);\">one</span> <span style=\"background-color:rgba(255,0,0,0.00311730575049296);\">day</span>"
      ],
      "text/plain": [
       "<IPython.core.display.HTML object>"
      ]
     },
     "metadata": {},
     "output_type": "display_data"
    },
    {
     "data": {
      "text/html": [
       "<span style=\"background-color:rgba(255,0,0,0.021913694217801094);\">i</span> <span style=\"background-color:rgba(255,0,0,0.005382630042731762);\">could</span> <span style=\"background-color:rgba(255,0,0,0.0041149326716549695);\">of</span> <span style=\"background-color:rgba(255,0,0,0.01140182139351964);\">sworn</span> <span style=\"background-color:rgba(255,0,0,0.009065610356628895);\">this</span> <span style=\"background-color:rgba(255,0,0,0.34797146916389465);\">nigga</span> <span style=\"background-color:rgba(255,0,0,0.10002304799854755);\">already</span> <span style=\"background-color:rgba(255,0,0,0.03661890048533678);\">started</span> <span style=\"background-color:rgba(255,0,0,0.013331336667761207);\">baking</span> <span style=\"background-color:rgba(255,0,0,0.0074181403033435345);\">the</span> <span style=\"background-color:rgba(255,0,0,0.05753049161285162);\">chicken</span> &#128530; i'm <span style=\"background-color:rgba(255,0,0,0.4634443297982216);\">pissed</span>"
      ],
      "text/plain": [
       "<IPython.core.display.HTML object>"
      ]
     },
     "metadata": {},
     "output_type": "display_data"
    },
    {
     "data": {
      "text/html": [
       "<span style=\"background-color:rgba(255,0,0,0.06234097760170698);\">bitches</span> <span style=\"background-color:rgba(255,0,0,0.009662162628956139);\">be</span> <span style=\"background-color:rgba(255,0,0,0.16841527074575424);\">so</span> <span style=\"background-color:rgba(255,0,0,0.00365748128388077);\">press</span> <span style=\"background-color:rgba(255,0,0,0.001650904887355864);\">for</span> <span style=\"background-color:rgba(255,0,0,0.0014709269453305751);\">friends</span> it's embarrassing, <span style=\"background-color:rgba(255,0,0,0.1583324745297432);\">dat</span> <span style=\"background-color:rgba(255,0,0,0.18381835892796516);\">look</span> <span style=\"background-color:rgba(255,0,0,0.16841527074575424);\">so</span> bad&#128514;"
      ],
      "text/plain": [
       "<IPython.core.display.HTML object>"
      ]
     },
     "metadata": {},
     "output_type": "display_data"
    },
    {
     "data": {
      "text/html": [
       "i'm <span style=\"background-color:rgba(255,0,0,0.006488028448075056);\">at</span> <span style=\"background-color:rgba(255,0,0,0.005284554208628833);\">that</span> <span style=\"background-color:rgba(255,0,0,0.017754521686583757);\">point</span> <span style=\"background-color:rgba(255,0,0,0.029274029657244682);\">where</span> <span style=\"background-color:rgba(255,0,0,0.0256203836761415);\">i</span> <span style=\"background-color:rgba(255,0,0,0.013260905398055911);\">can</span> <span style=\"background-color:rgba(255,0,0,0.004046285466756672);\">have</span> <span style=\"background-color:rgba(255,0,0,0.0049948092782869935);\">the</span> <span style=\"background-color:rgba(255,0,0,0.006805724697187543);\">exact</span> <span style=\"background-color:rgba(255,0,0,0.008107188623398542);\">woman</span> <span style=\"background-color:rgba(255,0,0,0.0256203836761415);\">i</span> <span style=\"background-color:rgba(255,0,0,0.009826126042753458);\">want</span> <span style=\"background-color:rgba(255,0,0,0.03648475045338273);\">so</span> <span style=\"background-color:rgba(255,0,0,0.0256203836761415);\">i</span> ain't <span style=\"background-color:rgba(255,0,0,0.037171037402004004);\">losing</span> <span style=\"background-color:rgba(255,0,0,0.013134508626535535);\">no</span> <span style=\"background-color:rgba(255,0,0,0.04363741725683212);\">sleep</span> <span style=\"background-color:rgba(255,0,0,0.010710261994972825);\">over</span> <span style=\"background-color:rgba(255,0,0,0.056166346184909344);\">a</span> <span style=\"background-color:rgba(255,0,0,0.23533236235380173);\">chick</span> <span style=\"background-color:rgba(255,0,0,0.049633788876235485);\">who</span> can't <span style=\"background-color:rgba(255,0,0,0.0010878803004743531);\">get</span> <span style=\"background-color:rgba(255,0,0,0.010710261994972825);\">over</span> <span style=\"background-color:rgba(255,0,0,0.017188010970130563);\">her</span> <span style=\"background-color:rgba(255,0,0,0.0068435282446444035);\">dealings</span> <span style=\"background-color:rgba(255,0,0,0.0900867860764265);\">wit</span> <span style=\"background-color:rgba(255,0,0,0.2746577002108097);\">niggas</span>"
      ],
      "text/plain": [
       "<IPython.core.display.HTML object>"
      ]
     },
     "metadata": {},
     "output_type": "display_data"
    },
    {
     "data": {
      "text/html": [
       "@miminellli <span style=\"background-color:rgba(255,0,0,0.04315209109336138);\">stfu</span> <span style=\"background-color:rgba(255,0,0,0.0006724071863573045);\">you</span> <span style=\"background-color:rgba(255,0,0,0.11361847631633282);\">annoying</span> <span style=\"background-color:rgba(255,0,0,0.3221490606665611);\">ass</span> <span style=\"background-color:rgba(255,0,0,0.6321577727794647);\">bitch</span> <span style=\"background-color:rgba(255,0,0,0.03816200187429786);\">before</span> <span style=\"background-color:rgba(255,0,0,0.007488186820410192);\">i</span> <span style=\"background-color:rgba(255,0,0,0.00071728638431523);\">make</span> <span style=\"background-color:rgba(255,0,0,0.0006724071863573045);\">you</span> <span style=\"background-color:rgba(255,0,0,0.05199945531785488);\">hoe</span>"
      ],
      "text/plain": [
       "<IPython.core.display.HTML object>"
      ]
     },
     "metadata": {},
     "output_type": "display_data"
    },
    {
     "data": {
      "text/html": [
       "<span style=\"background-color:rgba(255,0,0,0.0018635496962815523);\">when</span> <span style=\"background-color:rgba(255,0,0,0.007408702513203025);\">you</span> <span style=\"background-color:rgba(255,0,0,0.003359043039381504);\">think</span> <span style=\"background-color:rgba(255,0,0,0.007408702513203025);\">you</span> <span style=\"background-color:rgba(255,0,0,0.0025461343466304243);\">might</span> <span style=\"background-color:rgba(255,0,0,0.0029216238181106746);\">start</span> <span style=\"background-color:rgba(255,0,0,0.03348367754369974);\">fw</span> <span style=\"background-color:rgba(255,0,0,0.019554595928639174);\">a</span> <span style=\"background-color:rgba(255,0,0,0.4423464462161064);\">nigga</span> <span style=\"background-color:rgba(255,0,0,0.023083128035068512);\">and</span> <span style=\"background-color:rgba(255,0,0,0.011918199015781283);\">then</span> <span style=\"background-color:rgba(255,0,0,0.013201652327552438);\">he</span> <span style=\"background-color:rgba(255,0,0,0.037280330434441566);\">say</span> <span style=\"background-color:rgba(255,0,0,0.006286074058152735);\">some</span> <span style=\"background-color:rgba(255,0,0,0.03097078762948513);\">off</span> <span style=\"background-color:rgba(255,0,0,0.013345066690817475);\">the</span> <span style=\"background-color:rgba(255,0,0,0.10469092056155205);\">wall</span> <span style=\"background-color:rgba(255,0,0,0.39255745708942413);\">shit</span> <span style=\"background-color:rgba(255,0,0,0.023083128035068512);\">and</span> <span style=\"background-color:rgba(255,0,0,0.007408702513203025);\">you</span> <span style=\"background-color:rgba(255,0,0,0.018721651285886765);\">just</span> <span style=\"background-color:rgba(255,0,0,0.023714774288237095);\">like</span> &#129318;&#127998;‍♀️&#129318;&#127998;‍♀️"
      ],
      "text/plain": [
       "<IPython.core.display.HTML object>"
      ]
     },
     "metadata": {},
     "output_type": "display_data"
    },
    {
     "data": {
      "text/html": [
       "rt @joyeuxn0el: <span style=\"background-color:rgba(255,0,0,0.09711140766739845);\">somebody</span> <span style=\"background-color:rgba(255,0,0,0.8397047221660614);\">fucking</span> <span style=\"background-color:rgba(255,0,0,0.03858725540339947);\">assassinate</span> <span style=\"background-color:rgba(255,0,0,0.014250200474634767);\">this</span> <span style=\"background-color:rgba(255,0,0,0.06645079236477613);\">man</span> https://t.co/7pqfuf0x6i"
      ],
      "text/plain": [
       "<IPython.core.display.HTML object>"
      ]
     },
     "metadata": {},
     "output_type": "display_data"
    },
    {
     "data": {
      "text/html": [
       "@playaniiii @_shayyy___ @lilrutrev @luh_brioooo @theyloveenayy_ <span style=\"background-color:rgba(255,0,0,0.0011240276944590732);\">get</span> <span style=\"background-color:rgba(255,0,0,0.0013039994519203901);\">out</span> <span style=\"background-color:rgba(255,0,0,0.0026274588890373707);\">my</span> <span style=\"background-color:rgba(255,0,0,0.020594254601746798);\">mentions</span> <span style=\"background-color:rgba(255,0,0,0.220854040235281);\">fuck</span> <span style=\"background-color:rgba(255,0,0,0.03944729454815388);\">i</span> <span style=\"background-color:rgba(255,0,0,0.8082926273345947);\">hate</span> <span style=\"background-color:rgba(255,0,0,0.04448216874152422);\">you</span> <span style=\"background-color:rgba(255,0,0,0.025656914804130793);\">all</span>"
      ],
      "text/plain": [
       "<IPython.core.display.HTML object>"
      ]
     },
     "metadata": {},
     "output_type": "display_data"
    },
    {
     "data": {
      "text/html": [
       "rt @bestcoast: he's <span style=\"background-color:rgba(255,0,0,0.035454954486340284);\">garbage</span> <span style=\"background-color:rgba(255,0,0,0.027759387157857418);\">because</span> he's <span style=\"background-color:rgba(255,0,0,0.011838185600936413);\">a</span> <span style=\"background-color:rgba(255,0,0,0.27700498700141907);\">fucking</span> <span style=\"background-color:rgba(255,0,0,0.5136056244373322);\">hypocrite</span> <span style=\"background-color:rgba(255,0,0,0.0443178741261363);\">who</span> <span style=\"background-color:rgba(255,0,0,0.09080098010599613);\">dragged</span> hillary/obama <span style=\"background-color:rgba(255,0,0,0.005645414348691702);\">for</span> <span style=\"background-color:rgba(255,0,0,0.006227500853128731);\">their</span> <span style=\"background-color:rgba(255,0,0,0.004361723258625716);\">involvement</span> <span style=\"background-color:rgba(255,0,0,0.0018022842414211482);\">with</span> syria+ <span style=\"background-color:rgba(255,0,0,0.015158300520852208);\">preached</span> \"stay out…"
      ],
      "text/plain": [
       "<IPython.core.display.HTML object>"
      ]
     },
     "metadata": {},
     "output_type": "display_data"
    },
    {
     "data": {
      "text/html": [
       "<span style=\"background-color:rgba(255,0,0,0.00807133736088872);\">i</span> <span style=\"background-color:rgba(255,0,0,0.19542420282959938);\">hate</span> <span style=\"background-color:rgba(255,0,0,0.015503580216318369);\">april</span> fool's day, <span style=\"background-color:rgba(255,0,0,0.00807133736088872);\">i</span> <span style=\"background-color:rgba(255,0,0,0.006745017017237842);\">hope</span> <span style=\"background-color:rgba(255,0,0,0.005825487896800041);\">no</span> <span style=\"background-color:rgba(255,0,0,0.002186570200137794);\">one</span> <span style=\"background-color:rgba(255,0,0,0.013028979301452637);\">pulls</span> <span style=\"background-color:rgba(255,0,0,0.01691893208771944);\">a</span> <span style=\"background-color:rgba(255,0,0,0.4679509624838829);\">fucking</span> <span style=\"background-color:rgba(255,0,0,0.3804260119795799);\">joke</span> <span style=\"background-color:rgba(255,0,0,0.04030495882034302);\">on</span> me."
      ],
      "text/plain": [
       "<IPython.core.display.HTML object>"
      ]
     },
     "metadata": {},
     "output_type": "display_data"
    },
    {
     "data": {
      "text/html": [
       "<span style=\"background-color:rgba(255,0,0,0.0033666472882032394);\">let</span> <span style=\"background-color:rgba(255,0,0,0.018008319893851876);\">me</span> <span style=\"background-color:rgba(255,0,0,0.005343909142538905);\">go</span> <span style=\"background-color:rgba(255,0,0,0.0061027181800454855);\">take</span> <span style=\"background-color:rgba(255,0,0,0.016345117473974824);\">a</span> <span style=\"background-color:rgba(255,0,0,0.004438967444002628);\">showers</span> <span style=\"background-color:rgba(255,0,0,0.005548829212784767);\">the</span> <span style=\"background-color:rgba(255,0,0,0.0014174649550113827);\">projects</span> <span style=\"background-color:rgba(255,0,0,0.013005370274186134);\">makin</span> <span style=\"background-color:rgba(255,0,0,0.018008319893851876);\">me</span> <span style=\"background-color:rgba(255,0,0,0.016345117473974824);\">a</span> <span style=\"background-color:rgba(255,0,0,0.029844704549759626);\">lil</span> <span style=\"background-color:rgba(255,0,0,0.2584333159029484);\">dirty</span> <span style=\"background-color:rgba(255,0,0,0.7825781404972076);\">nigga</span>"
      ],
      "text/plain": [
       "<IPython.core.display.HTML object>"
      ]
     },
     "metadata": {},
     "output_type": "display_data"
    },
    {
     "data": {
      "text/html": [
       "<span style=\"background-color:rgba(255,0,0,0.012203273363411427);\">i</span> <span style=\"background-color:rgba(255,0,0,0.004220121190883219);\">wish</span> <span style=\"background-color:rgba(255,0,0,0.012203273363411427);\">i</span> <span style=\"background-color:rgba(255,0,0,0.009566065855324268);\">still</span> <span style=\"background-color:rgba(255,0,0,0.00471243605716154);\">had</span> emily's <span style=\"background-color:rgba(255,0,0,0.0019593039178289473);\">number</span> <span style=\"background-color:rgba(255,0,0,0.01398503896780312);\">so</span> <span style=\"background-color:rgba(255,0,0,0.012203273363411427);\">i</span> <span style=\"background-color:rgba(255,0,0,0.011096826056018472);\">could</span> <span style=\"background-color:rgba(255,0,0,0.008100851555354893);\">text</span> <span style=\"background-color:rgba(255,0,0,0.0938267819583416);\">her</span> <span style=\"background-color:rgba(255,0,0,0.002648437803145498);\">std</span> <span style=\"background-color:rgba(255,0,0,0.0009342461999040097);\">infested</span> <span style=\"background-color:rgba(255,0,0,0.10916486382484436);\">hoe</span> <span style=\"background-color:rgba(255,0,0,0.4771418496966362);\">ass</span> <span style=\"background-color:rgba(255,0,0,0.0016142592357937247);\">that</span> <span style=\"background-color:rgba(255,0,0,0.012203273363411427);\">i</span> <span style=\"background-color:rgba(255,0,0,0.3459782898426056);\">hate</span> <span style=\"background-color:rgba(255,0,0,0.0938267819583416);\">her</span> <span style=\"background-color:rgba(255,0,0,0.025099273771047592);\">every</span> <span style=\"background-color:rgba(255,0,0,0.012615426676347852);\">morning</span> <span style=\"background-color:rgba(255,0,0,0.012002697912976146);\">at</span> 8:00 am. <span style=\"background-color:rgba(255,0,0,0.0009613866859581321);\">id</span> <span style=\"background-color:rgba(255,0,0,0.0011601332516875118);\">do</span> <span style=\"background-color:rgba(255,0,0,0.0016142592357937247);\">that</span> <span style=\"background-color:rgba(255,0,0,0.0012142005289206281);\">for</span> <span style=\"background-color:rgba(255,0,0,0.001965413975995034);\">life</span>"
      ],
      "text/plain": [
       "<IPython.core.display.HTML object>"
      ]
     },
     "metadata": {},
     "output_type": "display_data"
    },
    {
     "data": {
      "text/html": [
       "rt @ghatdamn: <span style=\"background-color:rgba(255,0,0,0.002393969625700265);\">this</span> <span style=\"background-color:rgba(255,0,0,0.10449028573930264);\">nigga</span> <span style=\"background-color:rgba(255,0,0,0.056835380382835865);\">lip</span> <span style=\"background-color:rgba(255,0,0,0.4130631312727928);\">annoying</span> <span style=\"background-color:rgba(255,0,0,0.013716879766434431);\">as</span> <span style=\"background-color:rgba(255,0,0,0.1679651066660881);\">fuck</span> <span style=\"background-color:rgba(255,0,0,0.40950655937194824);\">lmaoooo</span> https://t.co/zdlbyxzsoc"
      ],
      "text/plain": [
       "<IPython.core.display.HTML object>"
      ]
     },
     "metadata": {},
     "output_type": "display_data"
    },
    {
     "data": {
      "text/html": [
       "rt @vibesgawd: <span style=\"background-color:rgba(255,0,0,0.0008774461457505822);\">if</span> <span style=\"background-color:rgba(255,0,0,0.0008153910312103108);\">you</span> <span style=\"background-color:rgba(255,0,0,0.001468391710659489);\">block</span> <span style=\"background-color:rgba(255,0,0,0.0026256596902385354);\">a</span> <span style=\"background-color:rgba(255,0,0,0.17585283145308495);\">bitch</span> &amp; <span style=\"background-color:rgba(255,0,0,0.002375683543505147);\">she</span> <span style=\"background-color:rgba(255,0,0,0.020751894917339087);\">still</span> <span style=\"background-color:rgba(255,0,0,0.009660259238444269);\">know</span> what's <span style=\"background-color:rgba(255,0,0,0.005746718379668891);\">on</span> <span style=\"background-color:rgba(255,0,0,0.0029794505098834634);\">your</span> <span style=\"background-color:rgba(255,0,0,0.0008316450112033635);\">page</span> <span style=\"background-color:rgba(255,0,0,0.0014257933071348816);\">then</span> <span style=\"background-color:rgba(255,0,0,0.002375683543505147);\">she</span> <span style=\"background-color:rgba(255,0,0,0.1297798752784729);\">miserable</span> <span style=\"background-color:rgba(255,0,0,0.7593992352485657);\">af</span> &#129300;"
      ],
      "text/plain": [
       "<IPython.core.display.HTML object>"
      ]
     },
     "metadata": {},
     "output_type": "display_data"
    },
    {
     "data": {
      "text/html": [
       "@boujeenee you're <span style=\"background-color:rgba(255,0,0,0.0030154205160215497);\">the</span> <span style=\"background-color:rgba(255,0,0,0.02240740694105625);\">pregnant</span> <span style=\"background-color:rgba(255,0,0,0.485500805079937);\">bitch</span> that's don't <span style=\"background-color:rgba(255,0,0,0.005774882738478482);\">hear</span> <span style=\"background-color:rgba(255,0,0,0.0032114569330587983);\">men</span> <span style=\"background-color:rgba(255,0,0,0.00881397514604032);\">say</span> <span style=\"background-color:rgba(255,0,0,0.005954336957074702);\">they</span> <span style=\"background-color:rgba(255,0,0,0.005037960363551974);\">want</span> <span style=\"background-color:rgba(255,0,0,0.006923450855538249);\">a</span> daughter.....nutrag <span style=\"background-color:rgba(255,0,0,0.10499821975827217);\">ass</span> <span style=\"background-color:rgba(255,0,0,0.4617752134799957);\">hoe</span>"
      ],
      "text/plain": [
       "<IPython.core.display.HTML object>"
      ]
     },
     "metadata": {},
     "output_type": "display_data"
    },
    {
     "data": {
      "text/html": [
       "@crankthatfrank <span style=\"background-color:rgba(255,0,0,0.0013324899191502482);\">no</span> <span style=\"background-color:rgba(255,0,0,0.001849111431511119);\">this</span> <span style=\"background-color:rgba(255,0,0,0.0012954758130945265);\">song</span> <span style=\"background-color:rgba(255,0,0,0.002862921974156052);\">is</span> <span style=\"background-color:rgba(255,0,0,0.13100996613502502);\">fucking</span> <span style=\"background-color:rgba(255,0,0,0.311566274613142);\">horrible</span> <span style=\"background-color:rgba(255,0,0,0.010184666607528925);\">come</span> <span style=\"background-color:rgba(255,0,0,0.004356360004749149);\">on</span> he's <span style=\"background-color:rgba(255,0,0,0.004429324471857399);\">from</span> <span style=\"background-color:rgba(255,0,0,0.0014497408119495958);\">one</span> <span style=\"background-color:rgba(255,0,0,0.0018685421673581004);\">direction</span> <span style=\"background-color:rgba(255,0,0,0.004617053200490773);\">what</span> <span style=\"background-color:rgba(255,0,0,0.0066912389593198895);\">the</span> <span style=\"background-color:rgba(255,0,0,0.2804616652429104);\">hell</span> <span style=\"background-color:rgba(255,0,0,0.1365889608860016);\">frank</span> i'm <span style=\"background-color:rgba(255,0,0,0.158003568649292);\">disappointed</span> <span style=\"background-color:rgba(255,0,0,0.0485258549451828);\">in</span> <span style=\"background-color:rgba(255,0,0,0.013349403161555529);\">you</span>"
      ],
      "text/plain": [
       "<IPython.core.display.HTML object>"
      ]
     },
     "metadata": {},
     "output_type": "display_data"
    },
    {
     "data": {
      "text/html": [
       "rt @dewaynefiive: <span style=\"background-color:rgba(255,0,0,0.003069796657655388);\">when</span> <span style=\"background-color:rgba(255,0,0,0.01637216890230775);\">i</span> <span style=\"background-color:rgba(255,0,0,0.005717776366509497);\">was</span> <span style=\"background-color:rgba(255,0,0,0.08932705037295818);\">fucked</span> <span style=\"background-color:rgba(255,0,0,0.11188589036464691);\">up</span> <span style=\"background-color:rgba(255,0,0,0.032439997885376215);\">all</span> <span style=\"background-color:rgba(255,0,0,0.01637216890230775);\">i</span> <span style=\"background-color:rgba(255,0,0,0.008322600042447448);\">heard</span> <span style=\"background-color:rgba(255,0,0,0.002806122647598386);\">from</span> <span style=\"background-color:rgba(255,0,0,0.013375694397836924);\">niggaz</span> <span style=\"background-color:rgba(255,0,0,0.013749840436503291);\">is</span> \"damn that's crazy\""
      ],
      "text/plain": [
       "<IPython.core.display.HTML object>"
      ]
     },
     "metadata": {},
     "output_type": "display_data"
    },
    {
     "data": {
      "text/html": [
       "<span style=\"background-color:rgba(255,0,0,0.003978618478868157);\">every</span> <span style=\"background-color:rgba(255,0,0,0.000854477402754128);\">single</span> <span style=\"background-color:rgba(255,0,0,0.0015678243653383106);\">time</span> <span style=\"background-color:rgba(255,0,0,0.0010122043750016019);\">some</span> <span style=\"background-color:rgba(255,0,0,0.46324845403432846);\">idiot</span> <span style=\"background-color:rgba(255,0,0,0.010020986665040255);\">opens</span> <span style=\"background-color:rgba(255,0,0,0.00867874885443598);\">their</span> <span style=\"background-color:rgba(255,0,0,0.46324845403432846);\">idiot</span> mouth....fml!! #idiots #canttakethestupidanymore #gonnaloseit https://t.co/69va8szuvh"
      ],
      "text/plain": [
       "<IPython.core.display.HTML object>"
      ]
     },
     "metadata": {},
     "output_type": "display_data"
    },
    {
     "data": {
      "text/html": [
       "@gabybenavidess <span style=\"background-color:rgba(255,0,0,0.02232623752206564);\">omfg</span> stop....if <span style=\"background-color:rgba(255,0,0,0.0030714532476849854);\">they</span> <span style=\"background-color:rgba(255,0,0,0.019533010199666023);\">told</span> <span style=\"background-color:rgba(255,0,0,0.013410912360996008);\">me</span> <span style=\"background-color:rgba(255,0,0,0.008121225982904434);\">after</span> <span style=\"background-color:rgba(255,0,0,0.0053359579760581255);\">i</span> <span style=\"background-color:rgba(255,0,0,0.00324220018228516);\">would</span> <span style=\"background-color:rgba(255,0,0,0.0037930899998173118);\">be</span> <span style=\"background-color:rgba(255,0,0,0.01916180830448866);\">so</span> <span style=\"background-color:rgba(255,0,0,0.3088025748729706);\">pissed</span> <span style=\"background-color:rgba(255,0,0,0.06759150885045528);\">at</span> <span style=\"background-color:rgba(255,0,0,0.017835573526099324);\">the</span> <span style=\"background-color:rgba(255,0,0,0.009624705417081714);\">person</span> <span style=\"background-color:rgba(255,0,0,0.004121663223486394);\">and</span> <span style=\"background-color:rgba(255,0,0,0.005312695866450667);\">my</span> <span style=\"background-color:rgba(255,0,0,0.003508755180519074);\">now</span> <span style=\"background-color:rgba(255,0,0,0.20160533487796783);\">ugly</span> <span style=\"background-color:rgba(255,0,0,0.3835686296224594);\">ass</span> ex!!!!"
      ],
      "text/plain": [
       "<IPython.core.display.HTML object>"
      ]
     },
     "metadata": {},
     "output_type": "display_data"
    },
    {
     "data": {
      "text/html": [
       "rt @beanieminajj: <span style=\"background-color:rgba(255,0,0,0.2407856471836567);\">bitches</span> <span style=\"background-color:rgba(255,0,0,0.084358099848032);\">wanna</span> <span style=\"background-color:rgba(255,0,0,0.10299115441739559);\">beef</span> <span style=\"background-color:rgba(255,0,0,0.10369442403316498);\">so</span> <span style=\"background-color:rgba(255,0,0,0.3823302313685417);\">bad</span> <span style=\"background-color:rgba(255,0,0,0.0775294890627265);\">i</span> won't <span style=\"background-color:rgba(255,0,0,0.016427141381427646);\">do</span> <span style=\"background-color:rgba(255,0,0,0.015109929954633117);\">it</span>"
      ],
      "text/plain": [
       "<IPython.core.display.HTML object>"
      ]
     },
     "metadata": {},
     "output_type": "display_data"
    },
    {
     "data": {
      "text/html": [
       "rt @emilanya: <span style=\"background-color:rgba(255,0,0,0.08715697564184666);\">fuck</span> <span style=\"background-color:rgba(255,0,0,0.01254883361980319);\">this</span> <span style=\"background-color:rgba(255,0,0,0.3068224713206291);\">bitch</span> <span style=\"background-color:rgba(255,0,0,0.03493668278679252);\">i</span> <span style=\"background-color:rgba(255,0,0,0.5912481620907784);\">hate</span> <span style=\"background-color:rgba(255,0,0,0.13380743563175201);\">her</span> https://t.co/sl3qgfjf4r"
      ],
      "text/plain": [
       "<IPython.core.display.HTML object>"
      ]
     },
     "metadata": {},
     "output_type": "display_data"
    },
    {
     "data": {
      "text/html": [
       "rt @arkhamknighs: <span style=\"background-color:rgba(255,0,0,0.003690643934533);\">jasmine</span> sweetie, <span style=\"background-color:rgba(255,0,0,0.002262073539895937);\">i</span> <span style=\"background-color:rgba(255,0,0,0.00159040282596834);\">am</span> <span style=\"background-color:rgba(255,0,0,0.005771100404672325);\">so</span> <span style=\"background-color:rgba(255,0,0,0.026253382675349712);\">sorry</span> <span style=\"background-color:rgba(255,0,0,0.009189125848934054);\">a</span> <span style=\"background-color:rgba(255,0,0,0.26947878301143646);\">ugly</span> <span style=\"background-color:rgba(255,0,0,0.35644330084323883);\">ass</span> <span style=\"background-color:rgba(255,0,0,0.44942695647478104);\">bitch</span> <span style=\"background-color:rgba(255,0,0,0.028379340656101704);\">like</span> <span style=\"background-color:rgba(255,0,0,0.002661073813214898);\">this</span> <span style=\"background-color:rgba(255,0,0,0.0011724185605999082);\">would</span> <span style=\"background-color:rgba(255,0,0,0.002059398975688964);\">even</span> <span style=\"background-color:rgba(255,0,0,0.006111200782470405);\">say</span> <span style=\"background-color:rgba(255,0,0,0.003399366105441004);\">that</span> <span style=\"background-color:rgba(255,0,0,0.009067247156053782);\">oh</span> <span style=\"background-color:rgba(255,0,0,0.004673021903727204);\">my</span> <span style=\"background-color:rgba(255,0,0,0.03485457506030798);\">god</span> https://t.co/kzcjn1qt02"
      ],
      "text/plain": [
       "<IPython.core.display.HTML object>"
      ]
     },
     "metadata": {},
     "output_type": "display_data"
    },
    {
     "data": {
      "text/html": [
       "<span style=\"background-color:rgba(255,0,0,0.02208096906542778);\">and</span> they're <span style=\"background-color:rgba(255,0,0,0.01628149999305606);\">so</span> <span style=\"background-color:rgba(255,0,0,0.23813452571630478);\">fucking</span> rude!!! <span style=\"background-color:rgba(255,0,0,0.02208096906542778);\">and</span> racist!!! <span style=\"background-color:rgba(255,0,0,0.01172018819488585);\">get</span> <span style=\"background-color:rgba(255,0,0,0.003345137811265886);\">out</span> <span style=\"background-color:rgba(255,0,0,0.0017106087761931121);\">of</span> <span style=\"background-color:rgba(255,0,0,0.002579420106485486);\">my</span> face!!!"
      ],
      "text/plain": [
       "<IPython.core.display.HTML object>"
      ]
     },
     "metadata": {},
     "output_type": "display_data"
    },
    {
     "data": {
      "text/html": [
       "#index <span style=\"background-color:rgba(255,0,0,0.008557303226552904);\">of</span> <span style=\"background-color:rgba(255,0,0,0.01653764513321221);\">teenies</span> <span style=\"background-color:rgba(255,0,0,0.12168013490736485);\">negro</span> <span style=\"background-color:rgba(255,0,0,0.8400902897119522);\">fucked</span> <span style=\"background-color:rgba(255,0,0,0.04273348953574896);\">indian</span> <span style=\"background-color:rgba(255,0,0,0.035799865145236254);\">maid</span> https://t.co/x2teau24ag"
      ],
      "text/plain": [
       "<IPython.core.display.HTML object>"
      ]
     },
     "metadata": {},
     "output_type": "display_data"
    },
    {
     "data": {
      "text/html": [
       "<span style=\"background-color:rgba(255,0,0,0.0701325898990035);\">fat</span> <span style=\"background-color:rgba(255,0,0,0.021480193827301264);\">saggy</span> <span style=\"background-color:rgba(255,0,0,0.22683946415781975);\">ass</span> <span style=\"background-color:rgba(255,0,0,0.1175953820347786);\">tits</span> <span style=\"background-color:rgba(255,0,0,0.02733946079388261);\">hanging</span> <span style=\"background-color:rgba(255,0,0,0.0378664187155664);\">over</span> <span style=\"background-color:rgba(255,0,0,0.03195936791598797);\">her</span> <span style=\"background-color:rgba(255,0,0,0.4171065613627434);\">fucking</span> shirt. <span style=\"background-color:rgba(255,0,0,0.010095457546412945);\">i</span> <span style=\"background-color:rgba(255,0,0,0.020968029275536537);\">covered</span> <span style=\"background-color:rgba(255,0,0,0.0012861780123785138);\">kyliahs</span> <span style=\"background-color:rgba(255,0,0,0.010004875948652625);\">eyes</span> <span style=\"background-color:rgba(255,0,0,0.006061120075173676);\">and</span> <span style=\"background-color:rgba(255,0,0,0.029998691752552986);\">everything</span> &#128567;&#128567;&#128567;&#128567;"
      ],
      "text/plain": [
       "<IPython.core.display.HTML object>"
      ]
     },
     "metadata": {},
     "output_type": "display_data"
    },
    {
     "data": {
      "text/html": [
       "@realdonaldtrump, you're <span style=\"background-color:rgba(255,0,0,0.00418355775764212);\">going</span> <span style=\"background-color:rgba(255,0,0,0.02032988704741001);\">down</span> <span style=\"background-color:rgba(255,0,0,0.006122890044935048);\">you</span> misogynistic, <span style=\"background-color:rgba(255,0,0,0.0140513910446316);\">bloviating</span> <span style=\"background-color:rgba(255,0,0,0.0690895039588213);\">son</span> <span style=\"background-color:rgba(255,0,0,0.009384423028677702);\">of</span> <span style=\"background-color:rgba(255,0,0,0.009766577277332544);\">a</span> <span style=\"background-color:rgba(255,0,0,0.2170439250767231);\">fucking</span> bitch!!!!! #hewilldieinjail https://t.co/mbwccrbgik"
      ],
      "text/plain": [
       "<IPython.core.display.HTML object>"
      ]
     },
     "metadata": {},
     "output_type": "display_data"
    },
    {
     "data": {
      "text/html": [
       "@alexa_whitee i'd <span style=\"background-color:rgba(255,0,0,0.016104483511298895);\">never</span> <span style=\"background-color:rgba(255,0,0,0.007934768218547106);\">run</span> <span style=\"background-color:rgba(255,0,0,0.07104265969246626);\">away</span> <span style=\"background-color:rgba(255,0,0,0.023350988049060106);\">from</span> <span style=\"background-color:rgba(255,0,0,0.014931203331798315);\">you</span> <span style=\"background-color:rgba(255,0,0,0.014931203331798315);\">you</span> <span style=\"background-color:rgba(255,0,0,0.7338104397058487);\">fucking</span> <span style=\"background-color:rgba(255,0,0,0.11759116314351559);\">lettuce</span>"
      ],
      "text/plain": [
       "<IPython.core.display.HTML object>"
      ]
     },
     "metadata": {},
     "output_type": "display_data"
    },
    {
     "data": {
      "text/html": [
       "rt @_nothotallowed_: <span style=\"background-color:rgba(255,0,0,0.0009140387555817142);\">i</span> <span style=\"background-color:rgba(255,0,0,0.051817349158227444);\">hate</span> <span style=\"background-color:rgba(255,0,0,0.0034893210977315903);\">conceited</span> <span style=\"background-color:rgba(255,0,0,0.5203509703278542);\">ugly</span> <span style=\"background-color:rgba(255,0,0,0.2103906124830246);\">females</span> &#129318;&#127997;‍♂️&#128175;they <span style=\"background-color:rgba(255,0,0,0.007108853897079825);\">think</span> <span style=\"background-color:rgba(255,0,0,0.009161509806290269);\">they</span> <span style=\"background-color:rgba(255,0,0,0.0030309282010421157);\">the</span> <span style=\"background-color:rgba(255,0,0,0.06253155879676342);\">shit</span> <span style=\"background-color:rgba(255,0,0,0.011899091769009829);\">but</span> <span style=\"background-color:rgba(255,0,0,0.009161509806290269);\">they</span> <span style=\"background-color:rgba(255,0,0,0.022864029742777348);\">really</span> <span style=\"background-color:rgba(255,0,0,0.5203509703278542);\">ugly</span> <span style=\"background-color:rgba(255,0,0,0.016074617160484195);\">as</span> <span style=\"background-color:rgba(255,0,0,0.1358584687113762);\">fuck</span> &#128528;"
      ],
      "text/plain": [
       "<IPython.core.display.HTML object>"
      ]
     },
     "metadata": {},
     "output_type": "display_data"
    },
    {
     "data": {
      "text/html": [
       "@therealsoldier5 - <span style=\"background-color:rgba(255,0,0,0.004144001577515155);\">this</span> <span style=\"background-color:rgba(255,0,0,0.011331008281558752);\">world</span> <span style=\"background-color:rgba(255,0,0,0.02374086296185851);\">is</span> <span style=\"background-color:rgba(255,0,0,0.3426770865917206);\">crazy</span> &#128532; <span style=\"background-color:rgba(255,0,0,0.08778572082519531);\">all</span> <span style=\"background-color:rgba(255,0,0,0.013619379606097937);\">my</span> <span style=\"background-color:rgba(255,0,0,0.5312761664390564);\">nigga</span> <span style=\"background-color:rgba(255,0,0,0.041606975719332695);\">do</span> <span style=\"background-color:rgba(255,0,0,0.02374086296185851);\">is</span> <span style=\"background-color:rgba(255,0,0,0.00908180430997163);\">try</span> <span style=\"background-color:rgba(255,0,0,0.005350910359993577);\">to</span> <span style=\"background-color:rgba(255,0,0,0.004897634498775005);\">help</span> <span style=\"background-color:rgba(255,0,0,0.007143219118006527);\">the</span> kids, <span style=\"background-color:rgba(255,0,0,0.01985199749469757);\">keep</span> my… https://t.co/kblrhqosbe"
      ],
      "text/plain": [
       "<IPython.core.display.HTML object>"
      ]
     },
     "metadata": {},
     "output_type": "display_data"
    },
    {
     "data": {
      "text/html": [
       "@activision <span style=\"background-color:rgba(255,0,0,0.01447413582354784);\">you</span> <span style=\"background-color:rgba(255,0,0,0.0016537512419745326);\">guys</span> <span style=\"background-color:rgba(255,0,0,0.001774611446307972);\">are</span> <span style=\"background-color:rgba(255,0,0,0.049970587715506554);\">fucking</span> scum. <span style=\"background-color:rgba(255,0,0,0.02114826813340187);\">shoot</span> <span style=\"background-color:rgba(255,0,0,0.001537983916932717);\">your</span> <span style=\"background-color:rgba(255,0,0,0.02086771884933114);\">faggot</span> <span style=\"background-color:rgba(255,0,0,0.076194959692657);\">asses</span> <span style=\"background-color:rgba(255,0,0,0.00936039665248245);\">in</span> <span style=\"background-color:rgba(255,0,0,0.003410780045669526);\">the</span> <span style=\"background-color:rgba(255,0,0,0.04067014902830124);\">face</span> <span style=\"background-color:rgba(255,0,0,0.01447413582354784);\">you</span> <span style=\"background-color:rgba(255,0,0,0.11985211633145809);\">pathetic</span> fucks. <span style=\"background-color:rgba(255,0,0,0.11826092377305031);\">rip</span> mw3. <span style=\"background-color:rgba(255,0,0,0.2579236961901188);\">fuck</span> you!!!"
      ],
      "text/plain": [
       "<IPython.core.display.HTML object>"
      ]
     },
     "metadata": {},
     "output_type": "display_data"
    },
    {
     "data": {
      "text/html": [
       "rt @dpjsc08: <span style=\"background-color:rgba(255,0,0,0.003931840474251658);\">i</span> <span style=\"background-color:rgba(255,0,0,0.11430613696575165);\">fucking</span> <span style=\"background-color:rgba(255,0,0,1.0177423804998398);\">hate</span> <span style=\"background-color:rgba(255,0,0,0.06382519379258156);\">the</span> sleeper!!!!!!!!!!!!!!! https://t.co/w11rwrwkpm"
      ],
      "text/plain": [
       "<IPython.core.display.HTML object>"
      ]
     },
     "metadata": {},
     "output_type": "display_data"
    },
    {
     "data": {
      "text/html": [
       "rt @asiahh__: <span style=\"background-color:rgba(255,0,0,0.0015806265582796186);\">n</span> <span style=\"background-color:rgba(255,0,0,0.0007142791582737118);\">if</span> <span style=\"background-color:rgba(255,0,0,0.001663940929574892);\">a</span> <span style=\"background-color:rgba(255,0,0,0.08710329420864582);\">nigga</span> <span style=\"background-color:rgba(255,0,0,0.08368819020688534);\">leave</span> <span style=\"background-color:rgba(255,0,0,0.02059731399640441);\">me</span> <span style=\"background-color:rgba(255,0,0,0.007662206771783531);\">he</span> <span style=\"background-color:rgba(255,0,0,0.14144370332360268);\">fucking</span> <span style=\"background-color:rgba(255,0,0,0.8429433405399323);\">stupid</span>"
      ],
      "text/plain": [
       "<IPython.core.display.HTML object>"
      ]
     },
     "metadata": {},
     "output_type": "display_data"
    },
    {
     "data": {
      "text/html": [
       "<span style=\"background-color:rgba(255,0,0,0.023347679525613785);\">rosa</span> parks.. <span style=\"background-color:rgba(255,0,0,0.20206289365887642);\">annoying</span> <span style=\"background-color:rgba(255,0,0,0.8528637140989304);\">ass</span> school&#128530; https://t.co/ffi8hdaig5"
      ],
      "text/plain": [
       "<IPython.core.display.HTML object>"
      ]
     },
     "metadata": {},
     "output_type": "display_data"
    },
    {
     "data": {
      "text/html": [
       "rt @lesly_ellie: <span style=\"background-color:rgba(255,0,0,0.03975775092840195);\">y&#x27;all</span> <span style=\"background-color:rgba(255,0,0,0.017947827000170946);\">are</span> <span style=\"background-color:rgba(255,0,0,0.0030885098385624588);\">some</span> <span style=\"background-color:rgba(255,0,0,0.2168634720146656);\">disgusting</span> <span style=\"background-color:rgba(255,0,0,0.8392532914876938);\">ass</span> people. #btsinanaheim https://t.co/k9ybgydxzl"
      ],
      "text/plain": [
       "<IPython.core.display.HTML object>"
      ]
     },
     "metadata": {},
     "output_type": "display_data"
    },
    {
     "data": {
      "text/html": [
       "rt @randomvlds: <span style=\"background-color:rgba(255,0,0,0.00663414248265326);\">i</span> <span style=\"background-color:rgba(255,0,0,0.3760931268334389);\">hate</span> <span style=\"background-color:rgba(255,0,0,0.04057730548083782);\">this</span> <span style=\"background-color:rgba(255,0,0,0.5413223430514336);\">damn</span> <span style=\"background-color:rgba(255,0,0,0.017557243118062615);\">app</span> <span style=\"background-color:rgba(255,0,0,0.17682405188679695);\">bruh</span> &#128514;&#128514;&#128514; https://t.co/sc7nsf9cz0"
      ],
      "text/plain": [
       "<IPython.core.display.HTML object>"
      ]
     },
     "metadata": {},
     "output_type": "display_data"
    },
    {
     "data": {
      "text/html": [
       "<span style=\"background-color:rgba(255,0,0,0.003991845005657524);\">i</span> <span style=\"background-color:rgba(255,0,0,0.11605058796703815);\">fucking</span> <span style=\"background-color:rgba(255,0,0,1.033274382352829);\">hate</span> <span style=\"background-color:rgba(255,0,0,0.03740463871508837);\">you</span> <span style=\"background-color:rgba(255,0,0,0.004219139518681914);\">jdkdbsvsj</span> https://t.co/z9nfeynsng"
      ],
      "text/plain": [
       "<IPython.core.display.HTML object>"
      ]
     },
     "metadata": {},
     "output_type": "display_data"
    },
    {
     "data": {
      "text/html": [
       "<span style=\"background-color:rgba(255,0,0,0.08119835518300533);\">niggas</span> <span style=\"background-color:rgba(255,0,0,0.013836988946422935);\">be</span> <span style=\"background-color:rgba(255,0,0,0.0004029450792586431);\">sooooooo</span> <span style=\"background-color:rgba(255,0,0,0.07413825485855341);\">mad</span> <span style=\"background-color:rgba(255,0,0,0.018795637879520655);\">when</span> <span style=\"background-color:rgba(255,0,0,0.005528479814529419);\">you</span> <span style=\"background-color:rgba(255,0,0,0.08638293482363224);\">stop</span> <span style=\"background-color:rgba(255,0,0,0.738462433218956);\">fucking</span> <span style=\"background-color:rgba(255,0,0,0.016249697655439377);\">w</span> <span style=\"background-color:rgba(255,0,0,0.01183388871140778);\">them</span> <span style=\"background-color:rgba(255,0,0,0.012915990082547069);\">like</span> &#129315; <span style=\"background-color:rgba(255,0,0,0.004953428870067);\">let</span> <span style=\"background-color:rgba(255,0,0,0.0045857339864596725);\">that</span> <span style=\"background-color:rgba(255,0,0,0.09349112398922443);\">hurt</span> <span style=\"background-color:rgba(255,0,0,0.03087031887844205);\">go</span> <span style=\"background-color:rgba(255,0,0,0.007143398397602141);\">sus</span>"
      ],
      "text/plain": [
       "<IPython.core.display.HTML object>"
      ]
     },
     "metadata": {},
     "output_type": "display_data"
    },
    {
     "data": {
      "text/html": [
       "rt @maieaiyed: <span style=\"background-color:rgba(255,0,0,0.000629393762210384);\">it</span> <span style=\"background-color:rgba(255,0,0,0.00020272576875868253);\">costs</span> <span style=\"background-color:rgba(255,0,0,0.0005697477172361687);\">zero</span> <span style=\"background-color:rgba(255,0,0,0.00039737238694215193);\">dollars</span> <span style=\"background-color:rgba(255,0,0,0.0004472002183320001);\">to</span> <span style=\"background-color:rgba(255,0,0,0.0021240032219793648);\">not</span> <span style=\"background-color:rgba(255,0,0,0.0026305581559427083);\">be</span> <span style=\"background-color:rgba(255,0,0,0.00448026490630582);\">a</span> <span style=\"background-color:rgba(255,0,0,0.14367032796144485);\">fucking</span> <span style=\"background-color:rgba(255,0,0,1.0301302373409271);\">idiot</span>"
      ],
      "text/plain": [
       "<IPython.core.display.HTML object>"
      ]
     },
     "metadata": {},
     "output_type": "display_data"
    },
    {
     "data": {
      "text/html": [
       "rt @_blackstyles: <span style=\"background-color:rgba(255,0,0,0.0031845891498960555);\">harry</span> <span style=\"background-color:rgba(255,0,0,0.004062154330313206);\">is</span> <span style=\"background-color:rgba(255,0,0,0.010050226701423526);\">like</span> “you <span style=\"background-color:rgba(255,0,0,0.023735447321087122);\">deserve</span> <span style=\"background-color:rgba(255,0,0,0.01450688811019063);\">it</span> <span style=\"background-color:rgba(255,0,0,0.33215049654245377);\">bitch</span> <span style=\"background-color:rgba(255,0,0,0.04173471126705408);\">i</span> <span style=\"background-color:rgba(255,0,0,0.0033755789627321064);\">deal</span> <span style=\"background-color:rgba(255,0,0,0.00177353314938955);\">with</span> <span style=\"background-color:rgba(255,0,0,0.0020245030464138836);\">this</span> <span style=\"background-color:rgba(255,0,0,0.004123723483644426);\">every</span> <span style=\"background-color:rgba(255,0,0,0.0037320429692044854);\">day</span> <span style=\"background-color:rgba(255,0,0,0.0024125057097990066);\">and</span> <span style=\"background-color:rgba(255,0,0,0.006995265721343458);\">he</span> <span style=\"background-color:rgba(255,0,0,0.036568124778568745);\">enjoys</span> <span style=\"background-color:rgba(255,0,0,0.5666617304086685);\">annoying</span> <span style=\"background-color:rgba(255,0,0,0.08608176372945309);\">me</span> it's frustrating“ https://t.co/…"
      ],
      "text/plain": [
       "<IPython.core.display.HTML object>"
      ]
     },
     "metadata": {},
     "output_type": "display_data"
    },
    {
     "data": {
      "text/html": [
       "@whoscity <span style=\"background-color:rgba(255,0,0,0.019154543988406658);\">tyler</span> <span style=\"background-color:rgba(255,0,0,0.011097216047346592);\">i</span> <span style=\"background-color:rgba(255,0,0,0.002921005361713469);\">have</span> <span style=\"background-color:rgba(255,0,0,0.12205367907881737);\">fucking</span> <span style=\"background-color:rgba(255,0,0,0.027565488126128912);\">school</span> <span style=\"background-color:rgba(255,0,0,0.007226241286844015);\">you</span> <span style=\"background-color:rgba(255,0,0,0.02872485900297761);\">brain</span> <span style=\"background-color:rgba(255,0,0,0.040866630151867867);\">dead</span> <span style=\"background-color:rgba(255,0,0,0.8165125548839569);\">retard</span>"
      ],
      "text/plain": [
       "<IPython.core.display.HTML object>"
      ]
     },
     "metadata": {},
     "output_type": "display_data"
    },
    {
     "data": {
      "text/html": [
       "rt @m4shinobi7: <span style=\"background-color:rgba(255,0,0,0.00568155781365931);\">just</span> <span style=\"background-color:rgba(255,0,0,0.002828266588039696);\">let</span> <span style=\"background-color:rgba(255,0,0,0.004101048689335585);\">a</span> <span style=\"background-color:rgba(255,0,0,0.3159559890627861);\">ugly</span> <span style=\"background-color:rgba(255,0,0,0.8077523112297058);\">nigga</span> shine! &#128293;&#128293;&#128293; https://t.co/thqfrwoutd"
      ],
      "text/plain": [
       "<IPython.core.display.HTML object>"
      ]
     },
     "metadata": {},
     "output_type": "display_data"
    },
    {
     "data": {
      "text/html": [
       "rt @dswizzzlee: <span style=\"background-color:rgba(255,0,0,0.005698467721231282);\">when</span> i'm <span style=\"background-color:rgba(255,0,0,0.6638692319393158);\">sick</span> <span style=\"background-color:rgba(255,0,0,0.0059613271150738);\">my</span> <span style=\"background-color:rgba(255,0,0,0.04727494437247515);\">mom</span> <span style=\"background-color:rgba(255,0,0,0.010049691190943122);\">beats</span> <span style=\"background-color:rgba(255,0,0,0.0059613271150738);\">my</span> <span style=\"background-color:rgba(255,0,0,0.14385213144123554);\">ass</span> <span style=\"background-color:rgba(255,0,0,0.008973620715551078);\">for</span> <span style=\"background-color:rgba(255,0,0,0.041482229717075825);\">complaining</span> <span style=\"background-color:rgba(255,0,0,0.009261387749575078);\">and</span> <span style=\"background-color:rgba(255,0,0,0.012684727553278208);\">then</span> <span style=\"background-color:rgba(255,0,0,0.014163253363221884);\">makes</span> <span style=\"background-color:rgba(255,0,0,0.035531127359718084);\">me</span> <span style=\"background-color:rgba(255,0,0,0.024358094669878483);\">go</span> <span style=\"background-color:rgba(255,0,0,0.010389172239229083);\">to</span> <span style=\"background-color:rgba(255,0,0,0.014061349211260676);\">school</span> https://t.co/aon6vtsgkd"
      ],
      "text/plain": [
       "<IPython.core.display.HTML object>"
      ]
     },
     "metadata": {},
     "output_type": "display_data"
    },
    {
     "data": {
      "text/html": [
       "rt @poeticsnormani: <span style=\"background-color:rgba(255,0,0,0.007030637352727354);\">every</span> <span style=\"background-color:rgba(255,0,0,0.005679848254658282);\">time</span> <span style=\"background-color:rgba(255,0,0,0.004012246208731085);\">you</span> rt <span style=\"background-color:rgba(255,0,0,0.004747111524920911);\">this</span> you'll <span style=\"background-color:rgba(255,0,0,0.14011510647833347);\">piss</span> <span style=\"background-color:rgba(255,0,0,0.15725258737802505);\">off</span> <span style=\"background-color:rgba(255,0,0,0.01644213334657252);\">an</span> <span style=\"background-color:rgba(255,0,0,0.7715453207492828);\">ugly</span> <span style=\"background-color:rgba(255,0,0,0.03626621328294277);\">homophobe</span> ❤️&#128156;&#128155;&#128154;&#128153; https://t.co/qto2v8yhjd"
      ],
      "text/plain": [
       "<IPython.core.display.HTML object>"
      ]
     },
     "metadata": {},
     "output_type": "display_data"
    },
    {
     "data": {
      "text/html": [
       "rt @tkvsh: me: \"i <span style=\"background-color:rgba(255,0,0,0.08125921711325645);\">fucking</span> <span style=\"background-color:rgba(255,0,0,0.6936274468898773);\">hate</span> <span style=\"background-color:rgba(255,0,0,0.031078695319592953);\">men</span> <span style=\"background-color:rgba(255,0,0,0.008499179384671152);\">i</span> <span style=\"background-color:rgba(255,0,0,0.003425239701755345);\">hope</span> <span style=\"background-color:rgba(255,0,0,0.003654177999123931);\">they</span> <span style=\"background-color:rgba(255,0,0,0.005954981315881014);\">all</span> <span style=\"background-color:rgba(255,0,0,0.07457733619958162);\">die</span> <span style=\"background-color:rgba(255,0,0,0.09241234511137009);\">off</span> <span style=\"background-color:rgba(255,0,0,0.0291471928358078);\">in</span> <span style=\"background-color:rgba(255,0,0,0.022753013763576746);\">a</span> fire\" <span style=\"background-color:rgba(255,0,0,0.010324432514607906);\">also</span> <span style=\"background-color:rgba(255,0,0,0.01441607135348022);\">me</span> <span style=\"background-color:rgba(255,0,0,0.00830316508654505);\">when</span> <span style=\"background-color:rgba(255,0,0,0.008499179384671152);\">i</span> <span style=\"background-color:rgba(255,0,0,0.0036118144635111094);\">see</span> <span style=\"background-color:rgba(255,0,0,0.004292300436645746);\">my</span> man: https://t.co/ekddgblzk8"
      ],
      "text/plain": [
       "<IPython.core.display.HTML object>"
      ]
     },
     "metadata": {},
     "output_type": "display_data"
    },
    {
     "data": {
      "text/html": [
       "rt @spodgemeister: <span style=\"background-color:rgba(255,0,0,0.47436296939849854);\">nigga</span> <span style=\"background-color:rgba(255,0,0,0.11594470590353012);\">u</span> <span style=\"background-color:rgba(255,0,0,0.4276520013809204);\">crazy</span> https://t.co/pmfde98www"
      ],
      "text/plain": [
       "<IPython.core.display.HTML object>"
      ]
     },
     "metadata": {},
     "output_type": "display_data"
    },
    {
     "data": {
      "text/html": [
       "rt @lazysusannnn: <span style=\"background-color:rgba(255,0,0,0.1951068639755249);\">bye</span> <span style=\"background-color:rgba(255,0,0,0.1951068639755249);\">bye</span> <span style=\"background-color:rgba(255,0,0,0.00517274544108659);\">tent</span> <span style=\"background-color:rgba(255,0,0,0.001249262859346345);\">city</span> <span style=\"background-color:rgba(255,0,0,0.0007164745329646394);\">and</span> arpaio, <span style=\"background-color:rgba(255,0,0,0.004569585726130754);\">you</span> <span style=\"background-color:rgba(255,0,0,0.0025873485719785094);\">piece</span> <span style=\"background-color:rgba(255,0,0,0.0021578522864729166);\">of</span> <span style=\"background-color:rgba(255,0,0,0.13389311730861664);\">fucking</span> <span style=\"background-color:rgba(255,0,0,0.7493273168802261);\">trash</span>"
      ],
      "text/plain": [
       "<IPython.core.display.HTML object>"
      ]
     },
     "metadata": {},
     "output_type": "display_data"
    },
    {
     "data": {
      "text/html": [
       "@seanhannity @newtgingrich @ingrahamangle @loudobbs @austan_goolsbee @arifleischer <span style=\"background-color:rgba(255,0,0,0.26702655479311943);\">fuckin</span> <span style=\"background-color:rgba(255,0,0,0.6261087208986282);\">awful</span> lineup! <span style=\"background-color:rgba(255,0,0,0.00996111542917788);\">i</span> <span style=\"background-color:rgba(255,0,0,0.022117644548416138);\">refuse</span> <span style=\"background-color:rgba(255,0,0,0.008140651625581086);\">to</span> <span style=\"background-color:rgba(255,0,0,0.004802122130058706);\">watch</span> <span style=\"background-color:rgba(255,0,0,0.004958603531122208);\">this</span> garbage!!!"
      ],
      "text/plain": [
       "<IPython.core.display.HTML object>"
      ]
     },
     "metadata": {},
     "output_type": "display_data"
    },
    {
     "data": {
      "text/html": [
       "rt @yjtrash: <span style=\"background-color:rgba(255,0,0,0.01083550974726677);\">i</span> <span style=\"background-color:rgba(255,0,0,0.24607263505458832);\">hate</span> <span style=\"background-color:rgba(255,0,0,0.03517187898978591);\">when</span> <span style=\"background-color:rgba(255,0,0,0.020839041098952293);\">people</span> <span style=\"background-color:rgba(255,0,0,0.036115897819399834);\">say</span> i'm <span style=\"background-color:rgba(255,0,0,0.034318717662245035);\">probably</span> <span style=\"background-color:rgba(255,0,0,0.04403052385896444);\">going</span> <span style=\"background-color:rgba(255,0,0,0.017493400955572724);\">to</span> <span style=\"background-color:rgba(255,0,0,0.028870522510260344);\">miss</span> <span style=\"background-color:rgba(255,0,0,0.019332135561853647);\">school</span> <span style=\"background-color:rgba(255,0,0,0.01214362564496696);\">once</span> <span style=\"background-color:rgba(255,0,0,0.01083550974726677);\">i</span> <span style=\"background-color:rgba(255,0,0,0.009132322738878429);\">graduate</span> <span style=\"background-color:rgba(255,0,0,0.002876079233828932);\">ummmm</span> <span style=\"background-color:rgba(255,0,0,0.01083550974726677);\">i</span> <span style=\"background-color:rgba(255,0,0,0.39536330848932266);\">fucking</span> <span style=\"background-color:rgba(255,0,0,0.10895447805523872);\">doubt</span> <span style=\"background-color:rgba(255,0,0,0.04856415558606386);\">it</span>"
      ],
      "text/plain": [
       "<IPython.core.display.HTML object>"
      ]
     },
     "metadata": {},
     "output_type": "display_data"
    },
    {
     "data": {
      "text/html": [
       "<span style=\"background-color:rgba(255,0,0,0.0038758869050070643);\">i</span> <span style=\"background-color:rgba(255,0,0,0.11267946101725101);\">fucking</span> <span style=\"background-color:rgba(255,0,0,1.0032590478658676);\">hate</span> <span style=\"background-color:rgba(255,0,0,0.03631807863712311);\">you</span> howww!!! <span style=\"background-color:rgba(255,0,0,0.00689388660248369);\">what</span> <span style=\"background-color:rgba(255,0,0,0.008178888238035142);\">was</span> <span style=\"background-color:rgba(255,0,0,0.010091174626722932);\">the</span> <span style=\"background-color:rgba(255,0,0,0.0037799382698722184);\">deal</span> https://t.co/nsqcrq6cm9"
      ],
      "text/plain": [
       "<IPython.core.display.HTML object>"
      ]
     },
     "metadata": {},
     "output_type": "display_data"
    },
    {
     "data": {
      "text/html": [
       "rt @themichaeidoria: <span style=\"background-color:rgba(255,0,0,0.01156805781647563);\">i</span> <span style=\"background-color:rgba(255,0,0,0.046383137814700603);\">forgot</span> <span style=\"background-color:rgba(255,0,0,0.014056579675525427);\">how</span> <span style=\"background-color:rgba(255,0,0,0.19689584150910378);\">bad</span> <span style=\"background-color:rgba(255,0,0,0.028259847313165665);\">as</span> <span style=\"background-color:rgba(255,0,0,0.6412919610738754);\">fuck</span> <span style=\"background-color:rgba(255,0,0,0.06322342902421951);\">you</span> <span style=\"background-color:rgba(255,0,0,0.05673662293702364);\">are</span> https://t.co/e8xssextyb"
      ],
      "text/plain": [
       "<IPython.core.display.HTML object>"
      ]
     },
     "metadata": {},
     "output_type": "display_data"
    },
    {
     "data": {
      "text/html": [
       "<span style=\"background-color:rgba(255,0,0,0.013154585612937808);\">i</span> <span style=\"background-color:rgba(255,0,0,0.034009781666100025);\">hate</span> <span style=\"background-color:rgba(255,0,0,0.004801402101293206);\">it</span> <span style=\"background-color:rgba(255,0,0,0.0024676063912920654);\">when</span> <span style=\"background-color:rgba(255,0,0,0.0026304289349354804);\">a</span> <span style=\"background-color:rgba(255,0,0,0.29716169461607933);\">nigga</span> <span style=\"background-color:rgba(255,0,0,0.0202979170717299);\">tells</span> <span style=\"background-color:rgba(255,0,0,0.012629880802705884);\">me</span> <span style=\"background-color:rgba(255,0,0,0.013154585612937808);\">i</span> <span style=\"background-color:rgba(255,0,0,0.040889233350753784);\">remind</span> <span style=\"background-color:rgba(255,0,0,0.0199819914996624);\">him</span> <span style=\"background-color:rgba(255,0,0,0.001912223524414003);\">of</span> <span style=\"background-color:rgba(255,0,0,0.0026304289349354804);\">a</span> <span style=\"background-color:rgba(255,0,0,0.013827113434672356);\">girl</span> <span style=\"background-color:rgba(255,0,0,0.005540066049434245);\">he</span> <span style=\"background-color:rgba(255,0,0,0.001759754231898114);\">once</span> knew. <span style=\"background-color:rgba(255,0,0,0.29716169461607933);\">nigga</span> <span style=\"background-color:rgba(255,0,0,0.03414907259866595);\">u</span> <span style=\"background-color:rgba(255,0,0,0.040889233350753784);\">remind</span> <span style=\"background-color:rgba(255,0,0,0.012629880802705884);\">me</span> <span style=\"background-color:rgba(255,0,0,0.001912223524414003);\">of</span> <span style=\"background-color:rgba(255,0,0,0.0026304289349354804);\">a</span> <span style=\"background-color:rgba(255,0,0,0.12145259417593479);\">bitch</span> <span style=\"background-color:rgba(255,0,0,0.2504301816225052);\">ass</span> <span style=\"background-color:rgba(255,0,0,0.29716169461607933);\">nigga</span> <span style=\"background-color:rgba(255,0,0,0.013154585612937808);\">i</span> once… https://t.co/hbpl1nzfqs"
      ],
      "text/plain": [
       "<IPython.core.display.HTML object>"
      ]
     },
     "metadata": {},
     "output_type": "display_data"
    },
    {
     "data": {
      "text/html": [
       "@brandonh83 @paulspeento <span style=\"background-color:rgba(255,0,0,0.0038984950515441597);\">go</span> <span style=\"background-color:rgba(255,0,0,0.00178772141225636);\">watch</span> <span style=\"background-color:rgba(255,0,0,0.0006556874723173678);\">beauty</span> <span style=\"background-color:rgba(255,0,0,0.0005351397339836694);\">and</span> <span style=\"background-color:rgba(255,0,0,0.0015569539391435683);\">the</span> <span style=\"background-color:rgba(255,0,0,0.007018389296717942);\">beast</span> then. i'm <span style=\"background-color:rgba(255,0,0,0.016406940994784236);\">sure</span> <span style=\"background-color:rgba(255,0,0,0.019630789756774902);\">that</span> <span style=\"background-color:rgba(255,0,0,0.06204476114362478);\">suits</span> <span style=\"background-color:rgba(255,0,0,0.016139521030709147);\">your</span> <span style=\"background-color:rgba(255,0,0,0.026266674976795912);\">taste</span> <span style=\"background-color:rgba(255,0,0,0.006888170028105378);\">more</span> <span style=\"background-color:rgba(255,0,0,0.004965090774931014);\">you</span> <span style=\"background-color:rgba(255,0,0,0.21862413734197617);\">fucking</span> faggot."
      ],
      "text/plain": [
       "<IPython.core.display.HTML object>"
      ]
     },
     "metadata": {},
     "output_type": "display_data"
    },
    {
     "data": {
      "text/html": [
       "rt @tacarraaa: <span style=\"background-color:rgba(255,0,0,0.10301544331014156);\">hate</span> <span style=\"background-color:rgba(255,0,0,0.02210188889876008);\">a</span> <span style=\"background-color:rgba(255,0,0,0.4352264478802681);\">bitch</span> <span style=\"background-color:rgba(255,0,0,0.0166941003408283);\">that</span> <span style=\"background-color:rgba(255,0,0,0.004564135451801121);\">try</span> <span style=\"background-color:rgba(255,0,0,0.001718293788144365);\">to</span> <span style=\"background-color:rgba(255,0,0,0.005916422815062106);\">tell</span> <span style=\"background-color:rgba(255,0,0,0.008228555670939386);\">me</span> i'm <span style=\"background-color:rgba(255,0,0,0.29890745878219604);\">mad</span> <span style=\"background-color:rgba(255,0,0,0.027454132214188576);\">or</span> <span style=\"background-color:rgba(255,0,0,0.0819081999361515);\">gotta</span> <span style=\"background-color:rgba(255,0,0,0.11930317617952824);\">attitude</span> that's <span style=\"background-color:rgba(255,0,0,0.01790874288417399);\">aggravating</span> <span style=\"background-color:rgba(255,0,0,0.016642770497128367);\">at</span>"
      ],
      "text/plain": [
       "<IPython.core.display.HTML object>"
      ]
     },
     "metadata": {},
     "output_type": "display_data"
    },
    {
     "data": {
      "text/html": [
       "<span style=\"background-color:rgba(255,0,0,0.44703394174575806);\">fucking</span> <span style=\"background-color:rgba(255,0,0,0.01581386080943048);\">americunts</span> <span style=\"background-color:rgba(255,0,0,0.06166139617562294);\">trying</span> <span style=\"background-color:rgba(255,0,0,0.027032371144741774);\">to</span> <span style=\"background-color:rgba(255,0,0,0.02925738226622343);\">change</span> <span style=\"background-color:rgba(255,0,0,0.04219958558678627);\">the</span> <span style=\"background-color:rgba(255,0,0,0.13028676621615887);\">world</span> https://t.co/ampeg0qgtl"
      ],
      "text/plain": [
       "<IPython.core.display.HTML object>"
      ]
     },
     "metadata": {},
     "output_type": "display_data"
    },
    {
     "data": {
      "text/html": [
       "rt @davidkirklandjr: <span style=\"background-color:rgba(255,0,0,0.0004993150650989264);\">once</span> again, <span style=\"background-color:rgba(255,0,0,0.010982498060911894);\">maxine</span> <span style=\"background-color:rgba(255,0,0,0.0008949960465542972);\">shows</span> <span style=\"background-color:rgba(255,0,0,0.0028819634462706745);\">her</span> stupidity. <span style=\"background-color:rgba(255,0,0,0.009086495847441256);\">flynn</span> <span style=\"background-color:rgba(255,0,0,0.012963800691068172);\">did</span> <span style=\"background-color:rgba(255,0,0,0.016418995801359415);\">not</span> <span style=\"background-color:rgba(255,0,0,0.014933909988030791);\">ask</span> <span style=\"background-color:rgba(255,0,0,0.00313997152261436);\">for</span> #immunity. <span style=\"background-color:rgba(255,0,0,0.008195028640329838);\">just</span> <span style=\"background-color:rgba(255,0,0,0.009702385868877172);\">another</span> <span style=\"background-color:rgba(255,0,0,0.27925359085202217);\">lying</span> <span style=\"background-color:rgba(255,0,0,0.6973634660243988);\">ass</span> hag. https://t.co/otdc…"
      ],
      "text/plain": [
       "<IPython.core.display.HTML object>"
      ]
     },
     "metadata": {},
     "output_type": "display_data"
    },
    {
     "data": {
      "text/html": [
       "<span style=\"background-color:rgba(255,0,0,0.005046453443355858);\">you</span> <span style=\"background-color:rgba(255,0,0,0.004588037554640323);\">been</span> <span style=\"background-color:rgba(255,0,0,0.040663788095116615);\">waiting</span> <span style=\"background-color:rgba(255,0,0,0.01776102464646101);\">45</span> <span style=\"background-color:rgba(255,0,0,0.0042623019544407725);\">mins</span> <span style=\"background-color:rgba(255,0,0,0.0059767154743894935);\">go</span> <span style=\"background-color:rgba(255,0,0,0.0019099954806733876);\">get</span> <span style=\"background-color:rgba(255,0,0,0.014158085687085986);\">yo</span> <span style=\"background-color:rgba(255,0,0,0.3135710209608078);\">fucking</span> <span style=\"background-color:rgba(255,0,0,0.08410790003836155);\">pizza</span> <span style=\"background-color:rgba(255,0,0,0.6141157448291779);\">nigga</span> &#128514;&#128514;&#128514;&#128514; https://t.co/2yhpsapism"
      ],
      "text/plain": [
       "<IPython.core.display.HTML object>"
      ]
     },
     "metadata": {},
     "output_type": "display_data"
    },
    {
     "data": {
      "text/html": [
       "<span style=\"background-color:rgba(255,0,0,0.0019513537699822336);\">andrew</span> <span style=\"background-color:rgba(255,0,0,0.0035138873499818146);\">is</span> <span style=\"background-color:rgba(255,0,0,0.007572613540105522);\">a</span> <span style=\"background-color:rgba(255,0,0,0.12219653464853764);\">bad</span> <span style=\"background-color:rgba(255,0,0,0.09234352968633175);\">boy</span> <span style=\"background-color:rgba(255,0,0,0.009172685677185655);\">and</span> <span style=\"background-color:rgba(255,0,0,0.023623823653906584);\">needs</span> <span style=\"background-color:rgba(255,0,0,0.03183703636750579);\">his</span> <span style=\"background-color:rgba(255,0,0,0.6114713475108147);\">ass</span> <span style=\"background-color:rgba(255,0,0,0.23147156462073326);\">spanked</span> https://t.co/7znt3ywtgf"
      ],
      "text/plain": [
       "<IPython.core.display.HTML object>"
      ]
     },
     "metadata": {},
     "output_type": "display_data"
    },
    {
     "data": {
      "text/html": [
       "rt @thunders7ruck: <span style=\"background-color:rgba(255,0,0,0.0035630763159133494);\">we</span> <span style=\"background-color:rgba(255,0,0,0.004118361684959382);\">about</span> <span style=\"background-color:rgba(255,0,0,0.003315806097816676);\">to</span> <span style=\"background-color:rgba(255,0,0,0.09164751507341862);\">murder</span> <span style=\"background-color:rgba(255,0,0,0.011455584317445755);\">some</span> <span style=\"background-color:rgba(255,0,0,0.05400107707828283);\">mutha</span> <span style=\"background-color:rgba(255,0,0,0.5231275036931038);\">fucking</span> <span style=\"background-color:rgba(255,0,0,0.04382692743092775);\">saviors</span> <span style=\"background-color:rgba(255,0,0,0.030348720028996468);\">tonight</span> bitches! #thewalkingdeadfinale"
      ],
      "text/plain": [
       "<IPython.core.display.HTML object>"
      ]
     },
     "metadata": {},
     "output_type": "display_data"
    },
    {
     "data": {
      "text/html": [
       "rt @feihcsiimnot: <span style=\"background-color:rgba(255,0,0,0.011530377669259906);\">antifa</span> <span style=\"background-color:rgba(255,0,0,0.023713568225502968);\">are</span> <span style=\"background-color:rgba(255,0,0,0.06301850080490112);\">literal</span> <span style=\"background-color:rgba(255,0,0,0.9627688676118851);\">fucking</span> <span style=\"background-color:rgba(255,0,0,0.058307950384914875);\">autists</span> https://t.co/ay6tmbaq72"
      ],
      "text/plain": [
       "<IPython.core.display.HTML object>"
      ]
     },
     "metadata": {},
     "output_type": "display_data"
    },
    {
     "data": {
      "text/html": [
       "@klintcardinal <span style=\"background-color:rgba(255,0,0,0.1290765032172203);\">shut</span> <span style=\"background-color:rgba(255,0,0,0.012424488086253405);\">your</span> <span style=\"background-color:rgba(255,0,0,0.22080941125750542);\">dirty</span> <span style=\"background-color:rgba(255,0,0,0.5090658739209175);\">whore</span> <span style=\"background-color:rgba(255,0,0,0.2957998588681221);\">mouth</span> klint. <span style=\"background-color:rgba(255,0,0,0.002402508835075423);\">its</span> <span style=\"background-color:rgba(255,0,0,0.005865713465027511);\">a</span> lifestyle."
      ],
      "text/plain": [
       "<IPython.core.display.HTML object>"
      ]
     },
     "metadata": {},
     "output_type": "display_data"
    },
    {
     "data": {
      "text/html": [
       "&amp; it's <span style=\"background-color:rgba(255,0,0,0.044777137227356434);\">crazy</span> <span style=\"background-color:rgba(255,0,0,0.0051044701831415296);\">how</span> <span style=\"background-color:rgba(255,0,0,0.0053969729924574494);\">a</span> <span style=\"background-color:rgba(255,0,0,0.0005179629079066217);\">lot</span> <span style=\"background-color:rgba(255,0,0,0.000675113988108933);\">of</span> <span style=\"background-color:rgba(255,0,0,0.03801365150138736);\">females</span> <span style=\"background-color:rgba(255,0,0,0.02065966371446848);\">call</span> <span style=\"background-color:rgba(255,0,0,0.008567264303565025);\">they</span> \"boyfriend\" <span style=\"background-color:rgba(255,0,0,0.008567264303565025);\">they</span> \"daddy\" <span style=\"background-color:rgba(255,0,0,0.0059826101642102);\">when</span> <span style=\"background-color:rgba(255,0,0,0.004057480837218463);\">the</span> <span style=\"background-color:rgba(255,0,0,0.15146161429584026);\">nigga</span> <span style=\"background-color:rgba(255,0,0,0.15620170161128044);\">broke</span> &amp; <span style=\"background-color:rgba(255,0,0,0.05121066700667143);\">jobless</span> .. <span style=\"background-color:rgba(255,0,0,0.5232494324445724);\">bitch</span> that's <span style=\"background-color:rgba(255,0,0,0.0018040525901596993);\">deffffff</span> <span style=\"background-color:rgba(255,0,0,0.019215504871681333);\">yo</span> <span style=\"background-color:rgba(255,0,0,0.06364732049405575);\">son</span> &#128557;&#129318;&#127997;‍♀️"
      ],
      "text/plain": [
       "<IPython.core.display.HTML object>"
      ]
     },
     "metadata": {},
     "output_type": "display_data"
    },
    {
     "data": {
      "text/html": [
       "word. <span style=\"background-color:rgba(255,0,0,0.01136128674261272);\">every</span> <span style=\"background-color:rgba(255,0,0,0.40400099009275436);\">nigga</span> <span style=\"background-color:rgba(255,0,0,0.038361065089702606);\">do</span> <span style=\"background-color:rgba(255,0,0,0.010279371635988355);\">this</span> <span style=\"background-color:rgba(255,0,0,0.04330649506300688);\">man</span> <span style=\"background-color:rgba(255,0,0,0.12688339687883854);\">iz</span> <span style=\"background-color:rgba(255,0,0,0.48524416983127594);\">crazy</span> https://t.co/bsqqiewpsk"
      ],
      "text/plain": [
       "<IPython.core.display.HTML object>"
      ]
     },
     "metadata": {},
     "output_type": "display_data"
    },
    {
     "data": {
      "text/html": [
       "rt @lulmaryjane: <span style=\"background-color:rgba(255,0,0,0.003363309078849852);\">they</span> <span style=\"background-color:rgba(255,0,0,0.002843915717676282);\">need</span> <span style=\"background-color:rgba(255,0,0,0.0016753193631302565);\">to</span> <span style=\"background-color:rgba(255,0,0,0.007869912660680711);\">bomb</span> <span style=\"background-color:rgba(255,0,0,0.02035709097981453);\">yo</span> <span style=\"background-color:rgba(255,0,0,0.4806768149137497);\">ugly</span> <span style=\"background-color:rgba(255,0,0,0.6685974448919296);\">ass</span> https://t.co/1pkg3adrsm"
      ],
      "text/plain": [
       "<IPython.core.display.HTML object>"
      ]
     },
     "metadata": {},
     "output_type": "display_data"
    },
    {
     "data": {
      "text/html": [
       "@realdonaldtrump <span style=\"background-color:rgba(255,0,0,0.02840750850737095);\">you</span> <span style=\"background-color:rgba(255,0,0,0.07936880923807621);\">fucking</span> <span style=\"background-color:rgba(255,0,0,0.13786543160676956);\">hypocrite</span> <span style=\"background-color:rgba(255,0,0,0.008681236649863422);\">and</span> <span style=\"background-color:rgba(255,0,0,0.0005631889507640153);\">sell</span> <span style=\"background-color:rgba(255,0,0,0.0005811222945339978);\">out</span> <span style=\"background-color:rgba(255,0,0,0.02840750850737095);\">you</span> <span style=\"background-color:rgba(255,0,0,0.013230860931798816);\">cheated</span> <span style=\"background-color:rgba(255,0,0,0.00232289225095883);\">your</span> <span style=\"background-color:rgba(255,0,0,0.07936880923807621);\">fucking</span> <span style=\"background-color:rgba(255,0,0,0.045483005233109);\">voters</span> <span style=\"background-color:rgba(255,0,0,0.008681236649863422);\">and</span> <span style=\"background-color:rgba(255,0,0,0.08610893040895462);\">lied</span> <span style=\"background-color:rgba(255,0,0,0.014609687495976686);\">to</span> <span style=\"background-color:rgba(255,0,0,0.015690685249865055);\">their</span> face. <span style=\"background-color:rgba(255,0,0,0.5854804068803787);\">fuck</span> you! #syria #nowarwithsyria"
      ],
      "text/plain": [
       "<IPython.core.display.HTML object>"
      ]
     },
     "metadata": {},
     "output_type": "display_data"
    },
    {
     "data": {
      "text/html": [
       "<span style=\"background-color:rgba(255,0,0,0.0011693879787344486);\">here</span> everyone....now <span style=\"background-color:rgba(255,0,0,0.02097803633660078);\">russia</span> <span style=\"background-color:rgba(255,0,0,0.0233168201521039);\">is</span> <span style=\"background-color:rgba(255,0,0,0.03222406376153231);\">threatening</span> us!!! @realdonaldtrump <span style=\"background-color:rgba(255,0,0,0.013935272581875324);\">this</span> <span style=\"background-color:rgba(255,0,0,0.0233168201521039);\">is</span> <span style=\"background-color:rgba(255,0,0,0.31285621225833893);\">fucked</span> up! <span style=\"background-color:rgba(255,0,0,0.08013288490474224);\">he</span> <span style=\"background-color:rgba(255,0,0,0.11116004548966885);\">just</span> <span style=\"background-color:rgba(255,0,0,0.05594650749117136);\">put</span> <span style=\"background-color:rgba(255,0,0,0.03101069713011384);\">us</span> <span style=\"background-color:rgba(255,0,0,0.030149235390126705);\">all</span> <span style=\"background-color:rgba(255,0,0,0.03708729986101389);\">at</span> <span style=\"background-color:rgba(255,0,0,0.015676235780119896);\">risk</span> of… https://t.co/as528rjc0t"
      ],
      "text/plain": [
       "<IPython.core.display.HTML object>"
      ]
     },
     "metadata": {},
     "output_type": "display_data"
    },
    {
     "data": {
      "text/html": [
       "rt @280zay: #freetheguys <span style=\"background-color:rgba(255,0,0,0.008774689049459994);\">i</span> <span style=\"background-color:rgba(255,0,0,0.009296387434005737);\">be</span> <span style=\"background-color:rgba(255,0,0,0.3489360585808754);\">fucking</span> <span style=\"background-color:rgba(255,0,0,0.03960177768021822);\">these</span> <span style=\"background-color:rgba(255,0,0,0.411531999707222);\">niggas</span> <span style=\"background-color:rgba(255,0,0,0.2872597426176071);\">up</span> https://t.co/07pff2gw46"
      ],
      "text/plain": [
       "<IPython.core.display.HTML object>"
      ]
     },
     "metadata": {},
     "output_type": "display_data"
    },
    {
     "data": {
      "text/html": [
       "rt @coachrixk: <span style=\"background-color:rgba(255,0,0,0.013602449325844646);\">va</span> <span style=\"background-color:rgba(255,0,0,0.239933542907238);\">niggas</span> <span style=\"background-color:rgba(255,0,0,0.033522569574415684);\">got</span> <span style=\"background-color:rgba(255,0,0,0.014567775651812553);\">they</span> <span style=\"background-color:rgba(255,0,0,0.0014309160178527236);\">574s</span> <span style=\"background-color:rgba(255,0,0,0.005205427878536284);\">in</span> <span style=\"background-color:rgba(255,0,0,0.015633704606443644);\">a</span> <span style=\"background-color:rgba(255,0,0,0.03523073624819517);\">bunch</span> <span style=\"background-color:rgba(255,0,0,0.04067323636263609);\">after</span> <span style=\"background-color:rgba(255,0,0,0.08177398703992367);\">watching</span> <span style=\"background-color:rgba(255,0,0,0.03720654174685478);\">that</span> <span style=\"background-color:rgba(255,0,0,0.05251596216112375);\">rico</span> <span style=\"background-color:rgba(255,0,0,0.5011939257383347);\">nasty</span> <span style=\"background-color:rgba(255,0,0,0.04216595087200403);\">interview</span>"
      ],
      "text/plain": [
       "<IPython.core.display.HTML object>"
      ]
     },
     "metadata": {},
     "output_type": "display_data"
    },
    {
     "data": {
      "text/html": [
       "rt @exokmv: <span style=\"background-color:rgba(255,0,0,0.001182811611215584);\">i</span> <span style=\"background-color:rgba(255,0,0,0.02315696096047759);\">swear</span> <span style=\"background-color:rgba(255,0,0,0.007697155815549195);\">people</span> <span style=\"background-color:rgba(255,0,0,0.006083827465772629);\">are</span> <span style=\"background-color:rgba(255,0,0,0.018330097664147615);\">so</span> <span style=\"background-color:rgba(255,0,0,0.23742133751511574);\">fucking</span> <span style=\"background-color:rgba(255,0,0,0.5881288647651672);\">ignorant</span> <span style=\"background-color:rgba(255,0,0,0.020203713793307543);\">and</span> <span style=\"background-color:rgba(255,0,0,0.3029727004468441);\">annoying</span>"
      ],
      "text/plain": [
       "<IPython.core.display.HTML object>"
      ]
     },
     "metadata": {},
     "output_type": "display_data"
    },
    {
     "data": {
      "text/html": [
       "rt @carikahlo: \"i <span style=\"background-color:rgba(255,0,0,0.10857242159545422);\">fucking</span> <span style=\"background-color:rgba(255,0,0,0.9666914492845535);\">hate</span> <span style=\"background-color:rgba(255,0,0,0.08534424938261509);\">all</span> <span style=\"background-color:rgba(255,0,0,0.010216122027486563);\">of</span> them!\" https://t.co/yxgdxz1xvo"
      ],
      "text/plain": [
       "<IPython.core.display.HTML object>"
      ]
     },
     "metadata": {},
     "output_type": "display_data"
    },
    {
     "data": {
      "text/html": [
       "rt @bby_laana: <span style=\"background-color:rgba(255,0,0,0.004051846044603735);\">a</span> <span style=\"background-color:rgba(255,0,0,0.17864545807242393);\">nigga</span> <span style=\"background-color:rgba(255,0,0,0.02040103543549776);\">will</span> <span style=\"background-color:rgba(255,0,0,0.17496515065431595);\">suck</span> <span style=\"background-color:rgba(255,0,0,0.3570851683616638);\">tf</span> <span style=\"background-color:rgba(255,0,0,0.24258874356746674);\">outta</span> <span style=\"background-color:rgba(255,0,0,0.015683500096201897);\">u</span> <span style=\"background-color:rgba(255,0,0,0.007917348411865532);\">then</span> <span style=\"background-color:rgba(255,0,0,0.002217749133706093);\">try</span> <span style=\"background-color:rgba(255,0,0,0.0013458631292451173);\">to</span> <span style=\"background-color:rgba(255,0,0,0.0005845864143338986);\">get</span> <span style=\"background-color:rgba(255,0,0,0.07226364221423864);\">sick</span> <span style=\"background-color:rgba(255,0,0,0.037581108044832945);\">like</span> <span style=\"background-color:rgba(255,0,0,0.014278256567195058);\">they</span> wasn't <span style=\"background-color:rgba(255,0,0,0.009046468185260892);\">on</span> <span style=\"background-color:rgba(255,0,0,0.015683500096201897);\">u</span> &#128557;"
      ],
      "text/plain": [
       "<IPython.core.display.HTML object>"
      ]
     },
     "metadata": {},
     "output_type": "display_data"
    },
    {
     "data": {
      "text/html": [
       "rt @thrivingthin: <span style=\"background-color:rgba(255,0,0,0.0023981090635061264);\">i</span> <span style=\"background-color:rgba(255,0,0,0.06971762515604496);\">fucking</span> <span style=\"background-color:rgba(255,0,0,0.6207416951656342);\">hate</span> <span style=\"background-color:rgba(255,0,0,0.12981442734599113);\">myself</span> , <span style=\"background-color:rgba(255,0,0,0.33335722982883453);\">kill</span> <span style=\"background-color:rgba(255,0,0,0.05293956492096186);\">me</span> <span style=\"background-color:rgba(255,0,0,0.010421312181279063);\">please</span>"
      ],
      "text/plain": [
       "<IPython.core.display.HTML object>"
      ]
     },
     "metadata": {},
     "output_type": "display_data"
    },
    {
     "data": {
      "text/html": [
       "<span style=\"background-color:rgba(255,0,0,0.0012419110862538218);\">yolanda</span> <span style=\"background-color:rgba(255,0,0,0.002859618980437517);\">saldivar</span> <span style=\"background-color:rgba(255,0,0,0.005807248526252806);\">is</span> <span style=\"background-color:rgba(255,0,0,0.003067726793233305);\">an</span> <span style=\"background-color:rgba(255,0,0,0.0047890981659293175);\">example</span> <span style=\"background-color:rgba(255,0,0,0.0033254825393669307);\">of</span> <span style=\"background-color:rgba(255,0,0,0.017864526016637683);\">why</span> <span style=\"background-color:rgba(255,0,0,0.008049021707847714);\">you</span> <span style=\"background-color:rgba(255,0,0,0.022570963483303785);\">shouldnt</span> <span style=\"background-color:rgba(255,0,0,0.008174106478691101);\">give</span> <span style=\"background-color:rgba(255,0,0,0.42063724249601364);\">ugly</span> <span style=\"background-color:rgba(255,0,0,0.05218932405114174);\">people</span> <span style=\"background-color:rgba(255,0,0,0.02105617430061102);\">a</span> chance...fuckin <span style=\"background-color:rgba(255,0,0,0.5334759876132011);\">bitch</span> #ripselena"
      ],
      "text/plain": [
       "<IPython.core.display.HTML object>"
      ]
     },
     "metadata": {},
     "output_type": "display_data"
    },
    {
     "data": {
      "text/html": [
       "rt @tamiraaa_: <span style=\"background-color:rgba(255,0,0,0.1723797246813774);\">niggas</span> <span style=\"background-color:rgba(255,0,0,0.02937518060207367);\">be</span> <span style=\"background-color:rgba(255,0,0,0.05572188179939985);\">thinking</span> <span style=\"background-color:rgba(255,0,0,0.027409361209720373);\">they</span> <span style=\"background-color:rgba(255,0,0,0.017593010561540723);\">want</span> <span style=\"background-color:rgba(255,0,0,0.025808089412748814);\">me</span> <span style=\"background-color:rgba(255,0,0,0.075460453517735);\">so</span> <span style=\"background-color:rgba(255,0,0,0.4296664893627167);\">bad</span> <span style=\"background-color:rgba(255,0,0,0.05833728704601526);\">till</span> <span style=\"background-color:rgba(255,0,0,0.027409361209720373);\">they</span> <span style=\"background-color:rgba(255,0,0,0.004762356402352452);\">get</span> <span style=\"background-color:rgba(255,0,0,0.010774577967822552);\">a</span> <span style=\"background-color:rgba(255,0,0,0.026486048009246588);\">taste</span> <span style=\"background-color:rgba(255,0,0,0.01177438534796238);\">of</span> <span style=\"background-color:rgba(255,0,0,0.013681923737749457);\">this</span> <span style=\"background-color:rgba(255,0,0,0.13253440149128437);\">attitude</span> &#128514;"
      ],
      "text/plain": [
       "<IPython.core.display.HTML object>"
      ]
     },
     "metadata": {},
     "output_type": "display_data"
    },
    {
     "data": {
      "text/html": [
       "rt @saintlagerfeld: <span style=\"background-color:rgba(255,0,0,0.06713671609759331);\">niggas</span> <span style=\"background-color:rgba(255,0,0,0.009460077271796763);\">will</span> <span style=\"background-color:rgba(255,0,0,0.0012337272346485406);\">find</span> <span style=\"background-color:rgba(255,0,0,0.0004927708869217895);\">any</span> <span style=\"background-color:rgba(255,0,0,0.0017090333858504891);\">way</span> <span style=\"background-color:rgba(255,0,0,0.0020178768318146467);\">to</span> <span style=\"background-color:rgba(255,0,0,0.22989103570580482);\">hate</span> <span style=\"background-color:rgba(255,0,0,0.035271141678094864);\">on</span> nicki's pen. like... <span style=\"background-color:rgba(255,0,0,0.003457152342889458);\">my</span> nigga. she's <span style=\"background-color:rgba(255,0,0,0.004200644325464964);\">been</span> ill. <span style=\"background-color:rgba(255,0,0,0.05394676700234413);\">wake</span> <span style=\"background-color:rgba(255,0,0,0.018830890767276287);\">the</span> <span style=\"background-color:rgba(255,0,0,0.2822592854499817);\">fuck</span> up. https://t.co/jic5…"
      ],
      "text/plain": [
       "<IPython.core.display.HTML object>"
      ]
     },
     "metadata": {},
     "output_type": "display_data"
    },
    {
     "data": {
      "text/html": [
       "<span style=\"background-color:rgba(255,0,0,0.0023387011606246233);\">we</span> <span style=\"background-color:rgba(255,0,0,0.0057440303498879075);\">are</span> <span style=\"background-color:rgba(255,0,0,0.0065085256937891245);\">the</span> <span style=\"background-color:rgba(255,0,0,0.28159240260720253);\">fucking</span> <span style=\"background-color:rgba(255,0,0,0.4347207769751549);\">worst</span> <span style=\"background-color:rgba(255,0,0,0.29647713527083397);\">country</span> <span style=\"background-color:rgba(255,0,0,0.10791976936161518);\">going</span> https://t.co/xn6q0cwwha"
      ],
      "text/plain": [
       "<IPython.core.display.HTML object>"
      ]
     },
     "metadata": {},
     "output_type": "display_data"
    },
    {
     "data": {
      "text/html": [
       "rt @kaneens: \"it <span style=\"background-color:rgba(255,0,0,0.0011934235953958705);\">is</span> <span style=\"background-color:rgba(255,0,0,0.00925523228943348);\">said</span> <span style=\"background-color:rgba(255,0,0,0.005494309007190168);\">that</span> <span style=\"background-color:rgba(255,0,0,0.001023807271849364);\">francis</span> <span style=\"background-color:rgba(255,0,0,0.0017846592527348548);\">was</span> <span style=\"background-color:rgba(255,0,0,0.003460827865637839);\">a</span> <span style=\"background-color:rgba(255,0,0,0.00045125856559025124);\">frail</span> <span style=\"background-color:rgba(255,0,0,0.0013582372048404068);\">dwarf</span> <span style=\"background-color:rgba(255,0,0,0.0008376993355341256);\">with</span> <span style=\"background-color:rgba(255,0,0,0.0023207733465824276);\">undescended</span> testicles\" <span style=\"background-color:rgba(255,0,0,0.0062813295517116785);\">darnley</span> <span style=\"background-color:rgba(255,0,0,0.0049665942788124084);\">i</span> <span style=\"background-color:rgba(255,0,0,0.07835067808628082);\">fucking</span> <span style=\"background-color:rgba(255,0,0,0.4725707322359085);\">hate</span> you, <span style=\"background-color:rgba(255,0,0,0.1901763118803501);\">stupid</span> <span style=\"background-color:rgba(255,0,0,0.4163281247019768);\">bastard</span>"
      ],
      "text/plain": [
       "<IPython.core.display.HTML object>"
      ]
     },
     "metadata": {},
     "output_type": "display_data"
    },
    {
     "data": {
      "text/html": [
       "ain't <span style=\"background-color:rgba(255,0,0,0.013431058032438159);\">he</span> <span style=\"background-color:rgba(255,0,0,0.5273003876209259);\">fucking</span> <span style=\"background-color:rgba(255,0,0,0.09522524662315845);\">that</span> <span style=\"background-color:rgba(255,0,0,0.2636914886534214);\">tranny</span> <span style=\"background-color:rgba(255,0,0,0.117654362693429);\">mia</span> <span style=\"background-color:rgba(255,0,0,0.07443769369274378);\">isabelle</span> &#129300; https://t.co/pckkmel806"
      ],
      "text/plain": [
       "<IPython.core.display.HTML object>"
      ]
     },
     "metadata": {},
     "output_type": "display_data"
    },
    {
     "data": {
      "text/html": [
       "<span style=\"background-color:rgba(255,0,0,0.04760925192385912);\">now</span> <span style=\"background-color:rgba(255,0,0,0.005722931236959994);\">i</span> <span style=\"background-color:rgba(255,0,0,0.01428231131285429);\">feel</span> <span style=\"background-color:rgba(255,0,0,0.5303306877613068);\">sick</span> <span style=\"background-color:rgba(255,0,0,0.04760925192385912);\">now</span> <span style=\"background-color:rgba(255,0,0,0.0970335304737091);\">maddie</span> <span style=\"background-color:rgba(255,0,0,0.1764199323952198);\">gotta</span> <span style=\"background-color:rgba(255,0,0,0.0074521510396152735);\">get</span> <span style=\"background-color:rgba(255,0,0,0.015764866257086396);\">her</span> <span style=\"background-color:rgba(255,0,0,0.2619127370417118);\">ass</span> <span style=\"background-color:rgba(255,0,0,0.027222889475524426);\">beat</span> &#129314;"
      ],
      "text/plain": [
       "<IPython.core.display.HTML object>"
      ]
     },
     "metadata": {},
     "output_type": "display_data"
    },
    {
     "data": {
      "text/html": [
       "rt @fawfulfan: yes. <span style=\"background-color:rgba(255,0,0,0.031968874391168356);\">yes</span> <span style=\"background-color:rgba(255,0,0,0.053710644133388996);\">it</span> <span style=\"background-color:rgba(255,0,0,0.5274677276611328);\">fucking</span> is. it's <span style=\"background-color:rgba(255,0,0,0.09692268446087837);\">against</span> <span style=\"background-color:rgba(255,0,0,0.04350010305643082);\">federal</span> <span style=\"background-color:rgba(255,0,0,0.05782020278275013);\">ethics</span> laws. https://t.co/n4xzmk26ux"
      ],
      "text/plain": [
       "<IPython.core.display.HTML object>"
      ]
     },
     "metadata": {},
     "output_type": "display_data"
    },
    {
     "data": {
      "text/html": [
       "rt @therealschitty: <span style=\"background-color:rgba(255,0,0,0.0021113562979735434);\">and</span> you're <span style=\"background-color:rgba(255,0,0,0.017570002237334847);\">the</span> <span style=\"background-color:rgba(255,0,0,0.002793651365209371);\">one</span> <span style=\"background-color:rgba(255,0,0,0.35853907465934753);\">stupid</span> <span style=\"background-color:rgba(255,0,0,0.032138293609023094);\">as</span> <span style=\"background-color:rgba(255,0,0,0.5134785920381546);\">fuck</span> <span style=\"background-color:rgba(255,0,0,0.03186462912708521);\">for</span> <span style=\"background-color:rgba(255,0,0,0.03285642480477691);\">needing</span> <span style=\"background-color:rgba(255,0,0,0.032027948182076216);\">someone</span> <span style=\"background-color:rgba(255,0,0,0.009678323986008763);\">to</span> <span style=\"background-color:rgba(255,0,0,0.0077497848542407155);\">qualify</span> <span style=\"background-color:rgba(255,0,0,0.009300647652707994);\">their</span> <span style=\"background-color:rgba(255,0,0,0.01158897764980793);\">statement</span> <span style=\"background-color:rgba(255,0,0,0.005642101168632507);\">with</span> \"some\". <span style=\"background-color:rgba(255,0,0,0.005402102251537144);\">instead</span> <span style=\"background-color:rgba(255,0,0,0.003925708297174424);\">of</span> <span style=\"background-color:rgba(255,0,0,0.022017699666321278);\">letting</span> <span style=\"background-color:rgba(255,0,0,0.017570002237334847);\">the</span> sh…"
      ],
      "text/plain": [
       "<IPython.core.display.HTML object>"
      ]
     },
     "metadata": {},
     "output_type": "display_data"
    },
    {
     "data": {
      "text/html": [
       "<span style=\"background-color:rgba(255,0,0,0.003006488550454378);\">i</span> <span style=\"background-color:rgba(255,0,0,0.03938248846679926);\">hate</span> <span style=\"background-color:rgba(255,0,0,0.07312209345400333);\">thirsty</span> <span style=\"background-color:rgba(255,0,0,0.08340327069163322);\">crusty</span> <span style=\"background-color:rgba(255,0,0,0.1767738163471222);\">dumb</span> <span style=\"background-color:rgba(255,0,0,0.4787670820951462);\">ugly</span> nigga‼️ <span style=\"background-color:rgba(255,0,0,0.014653312973678112);\">dont</span> #shootyourshot <span style=\"background-color:rgba(255,0,0,0.0007259397534653544);\">if</span> <span style=\"background-color:rgba(255,0,0,0.0010884657967835665);\">you</span> <span style=\"background-color:rgba(255,0,0,0.0005256326403468847);\">a</span> <span style=\"background-color:rgba(255,0,0,0.019861089531332254);\">fuck</span> boy, <span style=\"background-color:rgba(255,0,0,0.003006488550454378);\">i</span> <span style=\"background-color:rgba(255,0,0,0.0011914022616110742);\">will</span> <span style=\"background-color:rgba(255,0,0,0.0032713610562495887);\">embarrass</span> you. <span style=\"background-color:rgba(255,0,0,0.0008034154598135501);\">no</span> <span style=\"background-color:rgba(255,0,0,0.005321488715708256);\">funeral</span> <span style=\"background-color:rgba(255,0,0,0.00026620942662702873);\">cost</span> &#128683;&#128683;&#128683;&#128683;&#128683;&#128683;"
      ],
      "text/plain": [
       "<IPython.core.display.HTML object>"
      ]
     },
     "metadata": {},
     "output_type": "display_data"
    },
    {
     "data": {
      "text/html": [
       "rt @blootrap: <span style=\"background-color:rgba(255,0,0,0.0008917543891584501);\">k</span> <span style=\"background-color:rgba(255,0,0,0.001167570662801154);\">netizens</span> <span style=\"background-color:rgba(255,0,0,0.0021202776406425983);\">are</span> <span style=\"background-color:rgba(255,0,0,0.010662038112059236);\">so</span> <span style=\"background-color:rgba(255,0,0,0.19468804821372032);\">fuckin</span> <span style=\"background-color:rgba(255,0,0,0.7810638844966888);\">annoying</span> <span style=\"background-color:rgba(255,0,0,0.020447114948183298);\">and</span> <span style=\"background-color:rgba(255,0,0,0.19577501341700554);\">dumb</span> https://t.co/7ephy9rlw8"
      ],
      "text/plain": [
       "<IPython.core.display.HTML object>"
      ]
     },
     "metadata": {},
     "output_type": "display_data"
    },
    {
     "data": {
      "text/html": [
       "rt @0shxn: can't <span style=\"background-color:rgba(255,0,0,0.1364911813288927);\">fuck</span> <span style=\"background-color:rgba(255,0,0,0.014928271993994713);\">with</span> <span style=\"background-color:rgba(255,0,0,0.01627958845347166);\">a</span> <span style=\"background-color:rgba(255,0,0,0.5912689864635468);\">nigga</span> <span style=\"background-color:rgba(255,0,0,0.09503674693405628);\">who</span> <span style=\"background-color:rgba(255,0,0,0.046378299593925476);\">is</span> <span style=\"background-color:rgba(255,0,0,0.013753015082329512);\">community</span> dick!!"
      ],
      "text/plain": [
       "<IPython.core.display.HTML object>"
      ]
     },
     "metadata": {},
     "output_type": "display_data"
    },
    {
     "data": {
      "text/html": [
       "@slikkric what's <span style=\"background-color:rgba(255,0,0,0.07460459601134062);\">crazy</span> <span style=\"background-color:rgba(255,0,0,0.027840936090797186);\">is</span> <span style=\"background-color:rgba(255,0,0,0.016595451161265373);\">she</span> <span style=\"background-color:rgba(255,0,0,0.10109520517289639);\">broke</span> <span style=\"background-color:rgba(255,0,0,0.15096456743776798);\">up</span> <span style=\"background-color:rgba(255,0,0,0.017732299165800214);\">with</span> <span style=\"background-color:rgba(255,0,0,0.061885579489171505);\">him</span> &#128557; <span style=\"background-color:rgba(255,0,0,0.6439201533794403);\">niggas</span> <span style=\"background-color:rgba(255,0,0,0.06631177850067616);\">be</span> <span style=\"background-color:rgba(255,0,0,0.03146839328110218);\">tweaking</span>"
      ],
      "text/plain": [
       "<IPython.core.display.HTML object>"
      ]
     },
     "metadata": {},
     "output_type": "display_data"
    },
    {
     "data": {
      "text/html": [
       "<span style=\"background-color:rgba(255,0,0,0.017873316537588835);\">y&#x27;all</span> <span style=\"background-color:rgba(255,0,0,0.11763309128582478);\">niggas</span> <span style=\"background-color:rgba(255,0,0,0.011117440881207585);\">be</span> <span style=\"background-color:rgba(255,0,0,0.039338706992566586);\">cheating</span> <span style=\"background-color:rgba(255,0,0,0.00460681359982118);\">on</span> <span style=\"background-color:rgba(255,0,0,0.027164060156792402);\">bad</span> <span style=\"background-color:rgba(255,0,0,0.15289632603526115);\">bitches</span> <span style=\"background-color:rgba(255,0,0,0.004727770574390888);\">for</span> <span style=\"background-color:rgba(255,0,0,0.0033293795422650874);\">a</span> <span style=\"background-color:rgba(255,0,0,0.01799274585209787);\">man</span> <span style=\"background-color:rgba(255,0,0,0.01576592680066824);\">looking</span> <span style=\"background-color:rgba(255,0,0,0.16603197902441025);\">ass</span> <span style=\"background-color:rgba(255,0,0,0.5659270286560059);\">bitch</span> &#129318;&#127998;‍♀️ <span style=\"background-color:rgba(255,0,0,0.02302453387528658);\">never</span> <span style=\"background-color:rgba(255,0,0,0.003086153883486986);\">fully</span> <span style=\"background-color:rgba(255,0,0,0.013624898856505752);\">understood</span> <span style=\"background-color:rgba(255,0,0,0.025105143431574106);\">why</span> . https://t.co/skv8kecisy"
      ],
      "text/plain": [
       "<IPython.core.display.HTML object>"
      ]
     },
     "metadata": {},
     "output_type": "display_data"
    },
    {
     "data": {
      "text/html": [
       "rt @lilpumpjetskiii: <span style=\"background-color:rgba(255,0,0,0.0006121699698269367);\">this</span> <span style=\"background-color:rgba(255,0,0,0.0009111701365327463);\">what</span> <span style=\"background-color:rgba(255,0,0,0.0063973956275731325);\">happens</span> <span style=\"background-color:rgba(255,0,0,0.0037371550570242107);\">when</span> <span style=\"background-color:rgba(255,0,0,0.12299553491175175);\">bitch</span> <span style=\"background-color:rgba(255,0,0,0.2540968172252178);\">ass</span> <span style=\"background-color:rgba(255,0,0,0.28487715870141983);\">niggas</span> <span style=\"background-color:rgba(255,0,0,0.5479525029659271);\">hate</span> <span style=\"background-color:rgba(255,0,0,0.01487814704887569);\">on</span> <span style=\"background-color:rgba(255,0,0,0.005283101927489042);\">lil</span> <span style=\"background-color:rgba(255,0,0,0.0005383405004977249);\">pump</span> https://t.co/6kpqv5uncx"
      ],
      "text/plain": [
       "<IPython.core.display.HTML object>"
      ]
     },
     "metadata": {},
     "output_type": "display_data"
    },
    {
     "data": {
      "text/html": [
       "<span style=\"background-color:rgba(255,0,0,0.07230422459542751);\">y&#x27;all</span> <span style=\"background-color:rgba(255,0,0,0.6159917637705803);\">nigga</span> <span style=\"background-color:rgba(255,0,0,0.41225701570510864);\">terrible</span> @ washington, <span style=\"background-color:rgba(255,0,0,0.013913081493228674);\">district</span> <span style=\"background-color:rgba(255,0,0,0.007254813681356609);\">of</span> <span style=\"background-color:rgba(255,0,0,0.004503658274188638);\">columbia</span> https://t.co/dwkmyjt2nj"
      ],
      "text/plain": [
       "<IPython.core.display.HTML object>"
      ]
     },
     "metadata": {},
     "output_type": "display_data"
    },
    {
     "data": {
      "text/html": [
       "<span style=\"background-color:rgba(255,0,0,0.3238791972398758);\">fucking</span> <span style=\"background-color:rgba(255,0,0,0.22627975791692734);\">vegans</span> man. should've <span style=\"background-color:rgba(255,0,0,0.04605150315910578);\">just</span> <span style=\"background-color:rgba(255,0,0,0.09334922768175602);\">ate</span> <span style=\"background-color:rgba(255,0,0,0.03609135514125228);\">it</span> https://t.co/gtyjzrs5g2"
      ],
      "text/plain": [
       "<IPython.core.display.HTML object>"
      ]
     },
     "metadata": {},
     "output_type": "display_data"
    },
    {
     "data": {
      "text/html": [
       "<span style=\"background-color:rgba(255,0,0,0.2425035648047924);\">hate</span> <span style=\"background-color:rgba(255,0,0,0.052028968930244446);\">a</span> <span style=\"background-color:rgba(255,0,0,0.19159791991114616);\">chick</span> <span style=\"background-color:rgba(255,0,0,0.02876104088500142);\">that</span> <span style=\"background-color:rgba(255,0,0,0.013209455646574497);\">want</span> <span style=\"background-color:rgba(255,0,0,0.015334025956690311);\">u</span> <span style=\"background-color:rgba(255,0,0,0.005249608657322824);\">to</span> <span style=\"background-color:rgba(255,0,0,0.007316975970752537);\">be</span> <span style=\"background-color:rgba(255,0,0,0.00033170559618156403);\">antisocial</span> <span style=\"background-color:rgba(255,0,0,0.003002469311468303);\">when</span> <span style=\"background-color:rgba(255,0,0,0.015334025956690311);\">u</span> <span style=\"background-color:rgba(255,0,0,0.010414292337372899);\">start</span> <span style=\"background-color:rgba(255,0,0,0.35311251878738403);\">fucking</span> <span style=\"background-color:rgba(255,0,0,0.03438848536461592);\">with</span> <span style=\"background-color:rgba(255,0,0,0.048145060427486897);\">her</span> <span style=\"background-color:rgba(255,0,0,0.04485172685235739);\">like</span> <span style=\"background-color:rgba(255,0,0,0.11490372940897942);\">foh</span>"
      ],
      "text/plain": [
       "<IPython.core.display.HTML object>"
      ]
     },
     "metadata": {},
     "output_type": "display_data"
    },
    {
     "data": {
      "text/html": [
       "rt @madireloaded: <span style=\"background-color:rgba(255,0,0,0.02751521999016404);\">a</span> <span style=\"background-color:rgba(255,0,0,0.14589973725378513);\">nigga</span> <span style=\"background-color:rgba(255,0,0,0.02751521999016404);\">a</span> <span style=\"background-color:rgba(255,0,0,0.01076437532901764);\">do</span> <span style=\"background-color:rgba(255,0,0,0.0030939027783460915);\">you</span> <span style=\"background-color:rgba(255,0,0,0.07445995230227709);\">dirty</span> <span style=\"background-color:rgba(255,0,0,0.005610203370451927);\">and</span> <span style=\"background-color:rgba(255,0,0,0.004972300957888365);\">be</span> <span style=\"background-color:rgba(255,0,0,0.2578679844737053);\">mad</span> <span style=\"background-color:rgba(255,0,0,0.06625655107200146);\">at</span> u&#128557;&#128557;&#128557;&#128557;wtf <span style=\"background-color:rgba(255,0,0,0.04871132783591747);\">i</span> <span style=\"background-color:rgba(255,0,0,0.01076437532901764);\">do</span> <span style=\"background-color:rgba(255,0,0,0.000917952784220688);\">2</span> <span style=\"background-color:rgba(255,0,0,0.0024711023434065282);\">u</span> bitch!"
      ],
      "text/plain": [
       "<IPython.core.display.HTML object>"
      ]
     },
     "metadata": {},
     "output_type": "display_data"
    },
    {
     "data": {
      "text/html": [
       "rt @auqeno: dark/brown <span style=\"background-color:rgba(255,0,0,0.004088306159246713);\">skin</span> <span style=\"background-color:rgba(255,0,0,0.003155992890242487);\">men</span> <span style=\"background-color:rgba(255,0,0,0.0016623781993985176);\">have</span> <span style=\"background-color:rgba(255,0,0,0.027445335872471333);\">ruined</span> <span style=\"background-color:rgba(255,0,0,0.01492088777013123);\">my</span> <span style=\"background-color:rgba(255,0,0,0.4129701852798462);\">fucking</span> <span style=\"background-color:rgba(255,0,0,0.055455914698541164);\">life</span> <span style=\"background-color:rgba(255,0,0,0.016427459195256233);\">and</span> i'm <span style=\"background-color:rgba(255,0,0,0.15809789299964905);\">not</span> recovered..."
      ],
      "text/plain": [
       "<IPython.core.display.HTML object>"
      ]
     },
     "metadata": {},
     "output_type": "display_data"
    },
    {
     "data": {
      "text/html": [
       "rt @lahflexico: <span style=\"background-color:rgba(255,0,0,0.002229549427283928);\">i</span> <span style=\"background-color:rgba(255,0,0,0.0021944289619568735);\">know</span> <span style=\"background-color:rgba(255,0,0,0.0012626615352928638);\">you</span> <span style=\"background-color:rgba(255,0,0,0.0010452269634697586);\">probally</span> <span style=\"background-color:rgba(255,0,0,0.0009063452307600528);\">use</span> <span style=\"background-color:rgba(255,0,0,0.0012335870997048914);\">to</span> <span style=\"background-color:rgba(255,0,0,0.0072188134072348475);\">nothing</span> <span style=\"background-color:rgba(255,0,0,0.23810060694813728);\">niggas</span> <span style=\"background-color:rgba(255,0,0,0.9120655804872513);\">fucking</span> <span style=\"background-color:rgba(255,0,0,0.03608769504353404);\">with</span> <span style=\"background-color:rgba(255,0,0,0.0179989798925817);\">ya</span>"
      ],
      "text/plain": [
       "<IPython.core.display.HTML object>"
      ]
     },
     "metadata": {},
     "output_type": "display_data"
    },
    {
     "data": {
      "text/html": [
       "rt @thedailyedge: <span style=\"background-color:rgba(255,0,0,0.011017012875527143);\">the</span> <span style=\"background-color:rgba(255,0,0,0.13919354416429996);\">fucking</span> <span style=\"background-color:rgba(255,0,0,0.15803322196006775);\">president</span> <span style=\"background-color:rgba(255,0,0,0.01637126668356359);\">of</span> <span style=\"background-color:rgba(255,0,0,0.011017012875527143);\">the</span> <span style=\"background-color:rgba(255,0,0,0.011933643836528063);\">united</span> <span style=\"background-color:rgba(255,0,0,0.13919354416429996);\">fucking</span> <span style=\"background-color:rgba(255,0,0,0.08025279268622398);\">states</span> <span style=\"background-color:rgba(255,0,0,0.02333702053874731);\">had</span> <span style=\"background-color:rgba(255,0,0,0.0093829573597759);\">to</span> <span style=\"background-color:rgba(255,0,0,0.002725662779994309);\">pay</span> $25 <span style=\"background-color:rgba(255,0,0,0.13919354416429996);\">fucking</span> <span style=\"background-color:rgba(255,0,0,0.001563290279591456);\">million</span> <span style=\"background-color:rgba(255,0,0,0.0006615554593736306);\">for</span> <span style=\"background-color:rgba(255,0,0,0.0010254102380713448);\">being</span> <span style=\"background-color:rgba(255,0,0,0.002652169787324965);\">a</span> <span style=\"background-color:rgba(255,0,0,0.13919354416429996);\">fucking</span> <span style=\"background-color:rgba(255,0,0,0.15140030533075333);\">scam</span> artist. https:…"
      ],
      "text/plain": [
       "<IPython.core.display.HTML object>"
      ]
     },
     "metadata": {},
     "output_type": "display_data"
    },
    {
     "data": {
      "text/html": [
       "<span style=\"background-color:rgba(255,0,0,0.0009755224891705438);\">i</span> don't <span style=\"background-color:rgba(255,0,0,0.000554343278054148);\">give</span> <span style=\"background-color:rgba(255,0,0,0.0012282755051273853);\">a</span> <span style=\"background-color:rgba(255,0,0,0.04491865634918213);\">fuck</span> <span style=\"background-color:rgba(255,0,0,0.007322822930291295);\">about</span> <span style=\"background-color:rgba(255,0,0,0.009846175089478493);\">none</span> <span style=\"background-color:rgba(255,0,0,0.0022371593513526022);\">of</span> <span style=\"background-color:rgba(255,0,0,0.026932419277727604);\">y&#x27;all</span> <span style=\"background-color:rgba(255,0,0,0.37114623934030533);\">ugly</span> <span style=\"background-color:rgba(255,0,0,0.40596049278974533);\">bitches</span> <span style=\"background-color:rgba(255,0,0,0.025376395788043737);\">at</span> <span style=\"background-color:rgba(255,0,0,0.008919340325519443);\">riverdale</span> <span style=\"background-color:rgba(255,0,0,0.08930317126214504);\">lmfao</span> <span style=\"background-color:rgba(255,0,0,0.0016945887182373554);\">get</span> <span style=\"background-color:rgba(255,0,0,0.04596829414367676);\">mad</span> <span style=\"background-color:rgba(255,0,0,0.18721088767051697);\">hoe</span>"
      ],
      "text/plain": [
       "<IPython.core.display.HTML object>"
      ]
     },
     "metadata": {},
     "output_type": "display_data"
    },
    {
     "data": {
      "text/html": [
       "rt @itsmegrizz: <span style=\"background-color:rgba(255,0,0,0.11855863034725189);\">bad</span> <span style=\"background-color:rgba(255,0,0,0.8395486325025558);\">bitches</span> don't <span style=\"background-color:rgba(255,0,0,0.012409135233610868);\">take</span> <span style=\"background-color:rgba(255,0,0,0.008250425453297794);\">days</span> <span style=\"background-color:rgba(255,0,0,0.04061490762978792);\">off</span> https://t.co/eazgi8knnh"
      ],
      "text/plain": [
       "<IPython.core.display.HTML object>"
      ]
     },
     "metadata": {},
     "output_type": "display_data"
    },
    {
     "data": {
      "text/html": [
       "rt @thekiddeezy: <span style=\"background-color:rgba(255,0,0,0.005569467903114855);\">ion</span> <span style=\"background-color:rgba(255,0,0,0.0008723859355086461);\">b</span> <span style=\"background-color:rgba(255,0,0,0.16153261065483093);\">mad</span> <span style=\"background-color:rgba(255,0,0,0.18137101083993912);\">wen</span> <span style=\"background-color:rgba(255,0,0,0.013994480250403285);\">a</span> <span style=\"background-color:rgba(255,0,0,0.23751730099320412);\">bitch</span> <span style=\"background-color:rgba(255,0,0,0.004918049671687186);\">get</span> <span style=\"background-color:rgba(255,0,0,0.004583814588841051);\">another</span> <span style=\"background-color:rgba(255,0,0,0.10419887490570545);\">nigga</span> <span style=\"background-color:rgba(255,0,0,0.008741110214032233);\">i</span> <span style=\"background-color:rgba(255,0,0,0.004829820827580988);\">be</span> <span style=\"background-color:rgba(255,0,0,0.16153261065483093);\">mad</span> <span style=\"background-color:rgba(255,0,0,0.18137101083993912);\">wen</span> <span style=\"background-color:rgba(255,0,0,0.030042764265090227);\">da</span> <span style=\"background-color:rgba(255,0,0,0.23751730099320412);\">bitch</span> <span style=\"background-color:rgba(255,0,0,0.010093367891386151);\">let</span> <span style=\"background-color:rgba(255,0,0,0.017560868291184306);\">him</span> <span style=\"background-color:rgba(255,0,0,0.003473292163107544);\">do</span> <span style=\"background-color:rgba(255,0,0,0.026253797113895416);\">wat</span> <span style=\"background-color:rgba(255,0,0,0.008741110214032233);\">i</span> do&#128514;&#129318;&#127998;‍♂️"
      ],
      "text/plain": [
       "<IPython.core.display.HTML object>"
      ]
     },
     "metadata": {},
     "output_type": "display_data"
    },
    {
     "data": {
      "text/html": [
       "@mendesxgal <span style=\"background-color:rgba(255,0,0,0.00577060563955456);\">change</span> <span style=\"background-color:rgba(255,0,0,0.018574746791273355);\">ur</span> <span style=\"background-color:rgba(255,0,0,0.4486751928925514);\">fucking</span> <span style=\"background-color:rgba(255,0,0,0.08486969396471977);\">name</span> <span style=\"background-color:rgba(255,0,0,0.014819797361269593);\">you</span> <span style=\"background-color:rgba(255,0,0,0.02175316447392106);\">almost</span> <span style=\"background-color:rgba(255,0,0,0.03533368930220604);\">gave</span> <span style=\"background-color:rgba(255,0,0,0.04353908821940422);\">me</span> <span style=\"background-color:rgba(255,0,0,0.03424227237701416);\">a</span> <span style=\"background-color:rgba(255,0,0,0.1129564456641674);\">heart</span> <span style=\"background-color:rgba(255,0,0,0.210752971470356);\">attack</span>"
      ],
      "text/plain": [
       "<IPython.core.display.HTML object>"
      ]
     },
     "metadata": {},
     "output_type": "display_data"
    },
    {
     "data": {
      "text/html": [
       "rt @callme_thrasher: <span style=\"background-color:rgba(255,0,0,0.0009374338696943596);\">cardi</span> b: <span style=\"background-color:rgba(255,0,0,0.00648553017526865);\">silly</span> <span style=\"background-color:rgba(255,0,0,0.0008424099360127002);\">muthafucka</span> <span style=\"background-color:rgba(255,0,0,0.0025785568868741393);\">who</span> <span style=\"background-color:rgba(255,0,0,0.023655160330235958);\">raised</span> you?! me: <span style=\"background-color:rgba(255,0,0,0.050305076874792576);\">a</span> <span style=\"background-color:rgba(255,0,0,0.2525355853140354);\">nigga</span> <span style=\"background-color:rgba(255,0,0,0.5813580378890038);\">wit</span> <span style=\"background-color:rgba(255,0,0,0.050305076874792576);\">a</span> <span style=\"background-color:rgba(255,0,0,0.27201229706406593);\">pussy</span> <span style=\"background-color:rgba(255,0,0,0.010662224376574159);\">how</span> disgraceful. https://t.co/oaw45pkjjk"
      ],
      "text/plain": [
       "<IPython.core.display.HTML object>"
      ]
     },
     "metadata": {},
     "output_type": "display_data"
    },
    {
     "data": {
      "text/html": [
       "rt @karlaacosta22: <span style=\"background-color:rgba(255,0,0,0.0554821640253067);\">niggas</span> <span style=\"background-color:rgba(255,0,0,0.009454700048081577);\">be</span> <span style=\"background-color:rgba(255,0,0,0.36591287702322006);\">mad</span> <span style=\"background-color:rgba(255,0,0,0.02507483819499612);\">when</span> <span style=\"background-color:rgba(255,0,0,0.004945297259837389);\">you</span> <span style=\"background-color:rgba(255,0,0,0.029021704103797674);\">remind</span> <span style=\"background-color:rgba(255,0,0,0.01954055856913328);\">them</span> <span style=\"background-color:rgba(255,0,0,0.010066910181194544);\">they</span> <span style=\"background-color:rgba(255,0,0,0.008350983844138682);\">got</span> <span style=\"background-color:rgba(255,0,0,0.009812794160097837);\">a</span> girl&#128557; <span style=\"background-color:rgba(255,0,0,0.2580309845507145);\">nigga</span> <span style=\"background-color:rgba(255,0,0,0.014119151746854186);\">u</span> <span style=\"background-color:rgba(255,0,0,0.36591287702322006);\">mad</span> <span style=\"background-color:rgba(255,0,0,0.05153555888682604);\">at</span> <span style=\"background-color:rgba(255,0,0,0.022392559330910444);\">me</span> <span style=\"background-color:rgba(255,0,0,0.014119151746854186);\">u</span> <span style=\"background-color:rgba(255,0,0,0.008380989311262965);\">in</span> <span style=\"background-color:rgba(255,0,0,0.009812794160097837);\">a</span> relationship?"
      ],
      "text/plain": [
       "<IPython.core.display.HTML object>"
      ]
     },
     "metadata": {},
     "output_type": "display_data"
    },
    {
     "data": {
      "text/html": [
       "rt @ciao_bella90210: <span style=\"background-color:rgba(255,0,0,0.00648154120426625);\">if</span> <span style=\"background-color:rgba(255,0,0,0.03776558442041278);\">yo</span> <span style=\"background-color:rgba(255,0,0,0.7394339144229889);\">nigga</span> <span style=\"background-color:rgba(255,0,0,0.06802569143474102);\">using</span> <span style=\"background-color:rgba(255,0,0,0.010060929926112294);\">your</span> <span style=\"background-color:rgba(255,0,0,0.009284333791583776);\">account</span> <span style=\"background-color:rgba(255,0,0,0.015090437373146415);\">he</span> <span style=\"background-color:rgba(255,0,0,0.0070902646984905005);\">vibing</span> wrong! https://t.co/1ayi3pacv9"
      ],
      "text/plain": [
       "<IPython.core.display.HTML object>"
      ]
     },
     "metadata": {},
     "output_type": "display_data"
    },
    {
     "data": {
      "text/html": [
       "rt @classicdadmoves: \"hello, 911? <span style=\"background-color:rgba(255,0,0,0.005895052454434335);\">my</span> <span style=\"background-color:rgba(255,0,0,0.02412243513390422);\">son</span> <span style=\"background-color:rgba(255,0,0,0.004672013747040182);\">is</span> <span style=\"background-color:rgba(255,0,0,0.007768570794723928);\">a</span> <span style=\"background-color:rgba(255,0,0,0.2811344899237156);\">fucking</span> nerd\" *mouths <span style=\"background-color:rgba(255,0,0,0.006946399807929993);\">to</span> son* \"bitch\" \"dad <span style=\"background-color:rgba(255,0,0,0.017587876645848155);\">all</span> <span style=\"background-color:rgba(255,0,0,0.009221641230396926);\">i</span> <span style=\"background-color:rgba(255,0,0,0.012956690043210983);\">did</span> <span style=\"background-color:rgba(255,0,0,0.011971964268013835);\">was</span> <span style=\"background-color:rgba(255,0,0,0.0024456391111016273);\">study</span> <span style=\"background-color:rgba(255,0,0,0.002854276681318879);\">for</span> <span style=\"background-color:rgba(255,0,0,0.005895052454434335);\">my</span> <span style=\"background-color:rgba(255,0,0,0.024990644305944443);\">math</span> test\""
      ],
      "text/plain": [
       "<IPython.core.display.HTML object>"
      ]
     },
     "metadata": {},
     "output_type": "display_data"
    },
    {
     "data": {
      "text/html": [
       "rt @jazlynmari_: <span style=\"background-color:rgba(255,0,0,0.06036767736077309);\">i</span> <span style=\"background-color:rgba(255,0,0,0.009984162170439959);\">just</span> can't <span style=\"background-color:rgba(255,0,0,0.005481418338604271);\">be</span> <span style=\"background-color:rgba(255,0,0,0.004633246571756899);\">no</span> <span style=\"background-color:rgba(255,0,0,0.2789100632071495);\">nigga</span> <span style=\"background-color:rgba(255,0,0,0.11278441175818443);\">rebound</span> <span style=\"background-color:rgba(255,0,0,0.017136314418166876);\">or</span> <span style=\"background-color:rgba(255,0,0,0.014917204389348626);\">side</span> <span style=\"background-color:rgba(255,0,0,0.48609834164381027);\">bitch</span> i'm sorry!"
      ],
      "text/plain": [
       "<IPython.core.display.HTML object>"
      ]
     },
     "metadata": {},
     "output_type": "display_data"
    },
    {
     "data": {
      "text/html": [
       "<span style=\"background-color:rgba(255,0,0,0.0001009749757940881);\">two</span> <span style=\"background-color:rgba(255,0,0,0.0002309721639903728);\">things</span> <span style=\"background-color:rgba(255,0,0,0.0003533063136273995);\">that</span> <span style=\"background-color:rgba(255,0,0,0.0007502170046791434);\">i</span> <span style=\"background-color:rgba(255,0,0,0.0024116324493661523);\">just</span> can't respect. <span style=\"background-color:rgba(255,0,0,0.0034583869273774326);\">a</span> <span style=\"background-color:rgba(255,0,0,0.05044130142778158);\">fuck</span> <span style=\"background-color:rgba(255,0,0,0.22142387926578522);\">nigga</span> <span style=\"background-color:rgba(255,0,0,0.005950810154899955);\">and</span> <span style=\"background-color:rgba(255,0,0,0.0034583869273774326);\">a</span> <span style=\"background-color:rgba(255,0,0,0.12689839117228985);\">lying</span> <span style=\"background-color:rgba(255,0,0,0.32953210175037384);\">ass</span> bitch!!!"
      ],
      "text/plain": [
       "<IPython.core.display.HTML object>"
      ]
     },
     "metadata": {},
     "output_type": "display_data"
    },
    {
     "data": {
      "text/html": [
       "rt @the_ironsheik: <span style=\"background-color:rgba(255,0,0,0.002394921757513657);\">hulk</span> <span style=\"background-color:rgba(255,0,0,0.00017683907572063617);\">hogan</span> <span style=\"background-color:rgba(255,0,0,0.0018603050557430834);\">is</span> <span style=\"background-color:rgba(255,0,0,0.015136790461838245);\">not</span> <span style=\"background-color:rgba(255,0,0,0.028819614090025425);\">a</span> jabroni...... <span style=\"background-color:rgba(255,0,0,0.04107194021344185);\">april</span> <span style=\"background-color:rgba(255,0,0,0.11045146733522415);\">fools</span> <span style=\"background-color:rgba(255,0,0,0.03411550307646394);\">day</span> <span style=\"background-color:rgba(255,0,0,0.015201332280412316);\">you</span> <span style=\"background-color:rgba(255,0,0,0.5002240464091301);\">fucking</span> <span style=\"background-color:rgba(255,0,0,0.20772699266672134);\">jabroni</span>"
      ],
      "text/plain": [
       "<IPython.core.display.HTML object>"
      ]
     },
     "metadata": {},
     "output_type": "display_data"
    },
    {
     "data": {
      "text/html": [
       "<span style=\"background-color:rgba(255,0,0,0.0009406502067577094);\">ask</span> <span style=\"background-color:rgba(255,0,0,0.006563679780811071);\">i</span> <span style=\"background-color:rgba(255,0,0,0.006347156595438719);\">lost</span> <span style=\"background-color:rgba(255,0,0,0.002826050913427025);\">the</span> <span style=\"background-color:rgba(255,0,0,0.004189477185718715);\">debate</span> <span style=\"background-color:rgba(255,0,0,0.011878046207129955);\">so</span> i'm <span style=\"background-color:rgba(255,0,0,0.00853455567266792);\">going</span> <span style=\"background-color:rgba(255,0,0,0.003032787935808301);\">to</span> <span style=\"background-color:rgba(255,0,0,0.01084162387996912);\">insult</span> <span style=\"background-color:rgba(255,0,0,0.0037181400693953037);\">you</span> <span style=\"background-color:rgba(255,0,0,0.0021912438387516886);\">now</span> <span style=\"background-color:rgba(255,0,0,0.008333195000886917);\">cause</span> <span style=\"background-color:rgba(255,0,0,0.006563679780811071);\">i</span> <span style=\"background-color:rgba(255,0,0,0.0016662752022966743);\">have</span> <span style=\"background-color:rgba(255,0,0,0.0013053268776275218);\">no</span> <span style=\"background-color:rgba(255,0,0,0.0010757886775536463);\">other</span> <span style=\"background-color:rgba(255,0,0,0.0012973076081834733);\">comes</span> backs. <span style=\"background-color:rgba(255,0,0,0.014254379784688354);\">typical</span> <span style=\"background-color:rgba(255,0,0,0.2934831380844116);\">bitch</span> <span style=\"background-color:rgba(255,0,0,0.4197193682193756);\">ass</span> <span style=\"background-color:rgba(255,0,0,0.411619134247303);\">nigga</span> on… https://t.co/rlve7yc1ry"
      ],
      "text/plain": [
       "<IPython.core.display.HTML object>"
      ]
     },
     "metadata": {},
     "output_type": "display_data"
    },
    {
     "data": {
      "text/html": [
       "<span style=\"background-color:rgba(255,0,0,0.0015592723502777517);\">rihanna</span> <span style=\"background-color:rgba(255,0,0,0.0023248489014804363);\">is</span> <span style=\"background-color:rgba(255,0,0,0.009039902943186462);\">just</span> <span style=\"background-color:rgba(255,0,0,0.01623568474315107);\">forever</span> <span style=\"background-color:rgba(255,0,0,0.032152633648365736);\">so</span> <span style=\"background-color:rgba(255,0,0,0.3588280454277992);\">damn</span> <span style=\"background-color:rgba(255,0,0,0.4648934677243233);\">bad</span> <span style=\"background-color:rgba(255,0,0,0.3087168373167515);\">bro</span> &#128557; https://t.co/m0f4homz1q"
      ],
      "text/plain": [
       "<IPython.core.display.HTML object>"
      ]
     },
     "metadata": {},
     "output_type": "display_data"
    },
    {
     "data": {
      "text/html": [
       "rt @tvemike: <span style=\"background-color:rgba(255,0,0,0.0012511375825852156);\">you</span> <span style=\"background-color:rgba(255,0,0,0.001373552076984197);\">got</span> <span style=\"background-color:rgba(255,0,0,0.002386752312304452);\">me</span> <span style=\"background-color:rgba(255,0,0,0.02132687484845519);\">fucked</span> <span style=\"background-color:rgba(255,0,0,0.025111003778874874);\">up</span> <span style=\"background-color:rgba(255,0,0,0.0027319311629980803);\">if</span> <span style=\"background-color:rgba(255,0,0,0.0012511375825852156);\">you</span> <span style=\"background-color:rgba(255,0,0,0.00309983006445691);\">think</span> i'm <span style=\"background-color:rgba(255,0,0,0.005560434656217694);\">about</span> <span style=\"background-color:rgba(255,0,0,0.015671170549467206);\">to</span> <span style=\"background-color:rgba(255,0,0,0.003989192482549697);\">lose</span> <span style=\"background-color:rgba(255,0,0,0.00559659325517714);\">my</span> <span style=\"background-color:rgba(255,0,0,0.24662237614393234);\">bitch</span> <span style=\"background-color:rgba(255,0,0,0.015671170549467206);\">to</span> <span style=\"background-color:rgba(255,0,0,0.011709793470799923);\">a</span> <span style=\"background-color:rgba(255,0,0,0.3102269768714905);\">nigga</span> <span style=\"background-color:rgba(255,0,0,0.09872296825051308);\">named</span> <span style=\"background-color:rgba(255,0,0,0.04772115498781204);\">gunther</span> bruh. https://t.co/yhzr5wyasr"
      ],
      "text/plain": [
       "<IPython.core.display.HTML object>"
      ]
     },
     "metadata": {},
     "output_type": "display_data"
    },
    {
     "data": {
      "text/html": [
       "@realangelogomez <span style=\"background-color:rgba(255,0,0,0.0010722476145019755);\">and</span> <span style=\"background-color:rgba(255,0,0,0.000614814562140964);\">here</span> <span style=\"background-color:rgba(255,0,0,0.0014990403724368662);\">i</span> <span style=\"background-color:rgba(255,0,0,0.004755779809784144);\">thought</span> <span style=\"background-color:rgba(255,0,0,0.011992257786914706);\">danald</span> <span style=\"background-color:rgba(255,0,0,0.0053059839410707355);\">tramp</span> <span style=\"background-color:rgba(255,0,0,0.008225070196203887);\">was</span> <span style=\"background-color:rgba(255,0,0,0.015548755181953311);\">a</span> <span style=\"background-color:rgba(255,0,0,1.0281313210725784);\">idiot</span>"
      ],
      "text/plain": [
       "<IPython.core.display.HTML object>"
      ]
     },
     "metadata": {},
     "output_type": "display_data"
    },
    {
     "data": {
      "text/html": [
       "rt @angelhazeashley: <span style=\"background-color:rgba(255,0,0,0.002820594236254692);\">my</span> <span style=\"background-color:rgba(255,0,0,0.008927484741434455);\">bestfriend</span> <span style=\"background-color:rgba(255,0,0,0.018291848246008158);\">so</span> <span style=\"background-color:rgba(255,0,0,0.11577550321817398);\">crazy</span> man, i'm <span style=\"background-color:rgba(255,0,0,0.02412639558315277);\">not</span> <span style=\"background-color:rgba(255,0,0,0.03863782389089465);\">her</span> <span style=\"background-color:rgba(255,0,0,0.5621070042252541);\">nigga</span> <span style=\"background-color:rgba(255,0,0,0.04412380512803793);\">but</span> <span style=\"background-color:rgba(255,0,0,0.02178480615839362);\">she</span> <span style=\"background-color:rgba(255,0,0,0.013337094569578767);\">treat</span> <span style=\"background-color:rgba(255,0,0,0.02304679248481989);\">me</span> <span style=\"background-color:rgba(255,0,0,0.02862465800717473);\">like</span> <span style=\"background-color:rgba(255,0,0,0.017633530078455806);\">i</span> <span style=\"background-color:rgba(255,0,0,0.0158658716827631);\">am</span> <span style=\"background-color:rgba(255,0,0,0.11936081573367119);\">omg</span>"
      ],
      "text/plain": [
       "<IPython.core.display.HTML object>"
      ]
     },
     "metadata": {},
     "output_type": "display_data"
    },
    {
     "data": {
      "text/html": [
       "rt @theslumpgod: <span style=\"background-color:rgba(255,0,0,0.0017061186372302473);\">i</span> <span style=\"background-color:rgba(255,0,0,0.001106787531170994);\">sampled</span> <span style=\"background-color:rgba(255,0,0,0.0005895206777495332);\">jaws</span> <span style=\"background-color:rgba(255,0,0,0.0012807297753170133);\">pull</span> <span style=\"background-color:rgba(255,0,0,0.005897757946513593);\">up</span> <span style=\"background-color:rgba(255,0,0,0.018586176447570324);\">with</span> <span style=\"background-color:rgba(255,0,0,0.0013678631512448192);\">the</span> <span style=\"background-color:rgba(255,0,0,0.000304256500385236);\">pistol</span> <span style=\"background-color:rgba(255,0,0,0.00013190024219511542);\">make</span> <span style=\"background-color:rgba(255,0,0,0.008317988249473274);\">a</span> <span style=\"background-color:rgba(255,0,0,0.05549160297960043);\">nigga</span> <span style=\"background-color:rgba(255,0,0,0.06131638307124376);\">look</span> <span style=\"background-color:rgba(255,0,0,0.05979565437883139);\">so</span> <span style=\"background-color:rgba(255,0,0,0.05852197762578726);\">dam</span> <span style=\"background-color:rgba(255,0,0,0.5223293974995613);\">sick</span> <span style=\"background-color:rgba(255,0,0,0.07789993658661842);\">like</span> <span style=\"background-color:rgba(255,0,0,0.019113977905362844);\">he</span> <span style=\"background-color:rgba(255,0,0,0.007715920219197869);\">seen</span> <span style=\"background-color:rgba(255,0,0,0.008317988249473274);\">a</span> <span style=\"background-color:rgba(255,0,0,0.330214723944664);\">bitch</span> <span style=\"background-color:rgba(255,0,0,0.018586176447570324);\">with</span> <span style=\"background-color:rgba(255,0,0,0.0007512741285609081);\">3</span> <span style=\"background-color:rgba(255,0,0,0.0007407509838230908);\">titts</span> https://t.co/64yc…"
      ],
      "text/plain": [
       "<IPython.core.display.HTML object>"
      ]
     },
     "metadata": {},
     "output_type": "display_data"
    },
    {
     "data": {
      "text/html": [
       "i'm <span style=\"background-color:rgba(255,0,0,0.020897521171718836);\">gonna</span> <span style=\"background-color:rgba(255,0,0,0.006456304108723998);\">start</span> <span style=\"background-color:rgba(255,0,0,0.061843376606702805);\">fucking</span> <span style=\"background-color:rgba(255,0,0,0.5927485227584839);\">hell</span> <span style=\"background-color:rgba(255,0,0,0.07100321352481842);\">in</span> <span style=\"background-color:rgba(255,0,0,0.015024669701233506);\">this</span> <span style=\"background-color:rgba(255,0,0,0.061843376606702805);\">fucking</span> <span style=\"background-color:rgba(255,0,0,0.07437827065587044);\">house</span> <span style=\"background-color:rgba(255,0,0,0.00834990933071822);\">if</span> <span style=\"background-color:rgba(255,0,0,0.00721409625839442);\">i</span> don't <span style=\"background-color:rgba(255,0,0,0.0007192682824097574);\">find</span> <span style=\"background-color:rgba(255,0,0,0.001385055365972221);\">my</span> <span style=\"background-color:rgba(255,0,0,0.061843376606702805);\">fucking</span> <span style=\"background-color:rgba(255,0,0,0.0012819516996387392);\">books</span>"
      ],
      "text/plain": [
       "<IPython.core.display.HTML object>"
      ]
     },
     "metadata": {},
     "output_type": "display_data"
    },
    {
     "data": {
      "text/html": [
       ".@realdonaldtrump <span style=\"background-color:rgba(255,0,0,0.01151438569650054);\">hey</span> @realdonaldtrump <span style=\"background-color:rgba(255,0,0,0.02613555872812867);\">tell</span> <span style=\"background-color:rgba(255,0,0,0.026331378612667322);\">all</span> <span style=\"background-color:rgba(255,0,0,0.012515466660261154);\">of</span> <span style=\"background-color:rgba(255,0,0,0.010071302531287074);\">your</span> <span style=\"background-color:rgba(255,0,0,0.11087432503700256);\">globalist</span> <span style=\"background-color:rgba(255,0,0,0.03763813292607665);\">buddies</span> <span style=\"background-color:rgba(255,0,0,0.01480853883549571);\">to</span> <span style=\"background-color:rgba(255,0,0,0.004640645638573915);\">get</span> <span style=\"background-color:rgba(255,0,0,0.014058821834623814);\">their</span> <span style=\"background-color:rgba(255,0,0,0.6432560831308365);\">fucking</span> <span style=\"background-color:rgba(255,0,0,0.13814687728881836);\">affairs</span> <span style=\"background-color:rgba(255,0,0,0.06768614053726196);\">in</span> order. w… https://t.co/lq8nmqvybj"
      ],
      "text/plain": [
       "<IPython.core.display.HTML object>"
      ]
     },
     "metadata": {},
     "output_type": "display_data"
    },
    {
     "data": {
      "text/html": [
       "rt @giolololol: <span style=\"background-color:rgba(255,0,0,0.00194878492038697);\">taylor</span> swift: <span style=\"background-color:rgba(255,0,0,0.0028788045165129006);\">cause</span> <span style=\"background-color:rgba(255,0,0,0.003011615772265941);\">baby</span> <span style=\"background-color:rgba(255,0,0,0.0012213969603180885);\">now</span> <span style=\"background-color:rgba(255,0,0,0.0010104846296599135);\">we</span> <span style=\"background-color:rgba(255,0,0,0.0017278041923418641);\">got</span> <span style=\"background-color:rgba(255,0,0,0.02223665127530694);\">bad</span> <span style=\"background-color:rgba(255,0,0,0.017152539221569896);\">blood</span> me: <span style=\"background-color:rgba(255,0,0,0.10798132978379726);\">shut</span> <span style=\"background-color:rgba(255,0,0,0.05431993864476681);\">yo</span> <span style=\"background-color:rgba(255,0,0,0.3964759409427643);\">bitch</span> <span style=\"background-color:rgba(255,0,0,0.46973004937171936);\">ass</span> <span style=\"background-color:rgba(255,0,0,0.12162480503320694);\">up</span> https://t.co/echfat8prl"
      ],
      "text/plain": [
       "<IPython.core.display.HTML object>"
      ]
     },
     "metadata": {},
     "output_type": "display_data"
    },
    {
     "data": {
      "text/html": [
       "<span style=\"background-color:rgba(255,0,0,0.000611833602306433);\">20</span> <span style=\"background-color:rgba(255,0,0,0.001063441377482377);\">minutes</span> <span style=\"background-color:rgba(255,0,0,0.0013914906594436616);\">on</span> <span style=\"background-color:rgba(255,0,0,0.0026461869128979743);\">the</span> <span style=\"background-color:rgba(255,0,0,0.009651146829128265);\">phone</span> <span style=\"background-color:rgba(255,0,0,0.00431047665188089);\">with</span> <span style=\"background-color:rgba(255,0,0,0.027440842241048813);\">office</span> <span style=\"background-color:rgba(255,0,0,0.0005630866144201718);\">365</span> <span style=\"background-color:rgba(255,0,0,0.0012057065760018304);\">support</span> <span style=\"background-color:rgba(255,0,0,0.004399679892230779);\">in</span> <span style=\"background-color:rgba(255,0,0,0.003282148973084986);\">india</span> <span style=\"background-color:rgba(255,0,0,0.005813881289213896);\">to</span> <span style=\"background-color:rgba(255,0,0,0.0035799588658846915);\">get</span> <span style=\"background-color:rgba(255,0,0,0.004055824829265475);\">an</span> <span style=\"background-color:rgba(255,0,0,0.008915560902096331);\">account</span> unlocked. <span style=\"background-color:rgba(255,0,0,0.003626694669947028);\">now</span> they're <span style=\"background-color:rgba(255,0,0,0.008097520330920815);\">escalating</span> it. it's <span style=\"background-color:rgba(255,0,0,0.01145124901086092);\">one</span> <span style=\"background-color:rgba(255,0,0,0.6670818477869034);\">fucking</span> checkbox."
      ],
      "text/plain": [
       "<IPython.core.display.HTML object>"
      ]
     },
     "metadata": {},
     "output_type": "display_data"
    },
    {
     "data": {
      "text/html": [
       "rt @e__god: <span style=\"background-color:rgba(255,0,0,0.014394077006727457);\">i</span> don't <span style=\"background-color:rgba(255,0,0,0.007135633495636284);\">want</span> <span style=\"background-color:rgba(255,0,0,0.007841455517336726);\">a</span> <span style=\"background-color:rgba(255,0,0,0.2881387621164322);\">nigga</span> <span style=\"background-color:rgba(255,0,0,0.03508063266053796);\">that</span> <span style=\"background-color:rgba(255,0,0,0.020045866258442402);\">gets</span> <span style=\"background-color:rgba(255,0,0,0.3956001251935959);\">mad</span> <span style=\"background-color:rgba(255,0,0,0.003136649902444333);\">and</span> block/ignore <span style=\"background-color:rgba(255,0,0,0.03631642088294029);\">me</span> <span style=\"background-color:rgba(255,0,0,0.014394077006727457);\">i</span> <span style=\"background-color:rgba(255,0,0,0.007135633495636284);\">want</span> <span style=\"background-color:rgba(255,0,0,0.007841455517336726);\">a</span> <span style=\"background-color:rgba(255,0,0,0.2881387621164322);\">nigga</span> <span style=\"background-color:rgba(255,0,0,0.03508063266053796);\">that</span> <span style=\"background-color:rgba(255,0,0,0.015105261700227857);\">know</span> <span style=\"background-color:rgba(255,0,0,0.0045399455120787024);\">how</span> <span style=\"background-color:rgba(255,0,0,0.0028332349029369652);\">to</span> <span style=\"background-color:rgba(255,0,0,0.00589755130931735);\">communicate</span> <span style=\"background-color:rgba(255,0,0,0.003136649902444333);\">and</span> <span style=\"background-color:rgba(255,0,0,0.001208980829687789);\">express</span> <span style=\"background-color:rgba(255,0,0,0.023901762906461954);\">himself</span>"
      ],
      "text/plain": [
       "<IPython.core.display.HTML object>"
      ]
     },
     "metadata": {},
     "output_type": "display_data"
    },
    {
     "data": {
      "text/html": [
       "<span style=\"background-color:rgba(255,0,0,0.0027950014919042587);\">i</span> <span style=\"background-color:rgba(255,0,0,0.002466738224029541);\">will</span> <span style=\"background-color:rgba(255,0,0,0.003818575933109969);\">never</span> <span style=\"background-color:rgba(255,0,0,0.006831403588876128);\">in</span> <span style=\"background-color:rgba(255,0,0,0.00761551724281162);\">my</span> <span style=\"background-color:rgba(255,0,0,0.005607111961580813);\">life</span> <span style=\"background-color:rgba(255,0,0,0.0018875658861361444);\">step</span> <span style=\"background-color:rgba(255,0,0,0.015014694072306156);\">foot</span> <span style=\"background-color:rgba(255,0,0,0.030913876835256815);\">into</span> <span style=\"background-color:rgba(255,0,0,0.00815664418041706);\">an</span> <span style=\"background-color:rgba(255,0,0,0.037976696621626616);\">arab</span> <span style=\"background-color:rgba(255,0,0,0.019891068805009127);\">state</span> <span style=\"background-color:rgba(255,0,0,0.006690581212751567);\">other</span> <span style=\"background-color:rgba(255,0,0,0.0022808581707067788);\">than</span> yemen. <span style=\"background-color:rgba(255,0,0,0.011289744870737195);\">the</span> <span style=\"background-color:rgba(255,0,0,0.02342989668250084);\">rest</span> <span style=\"background-color:rgba(255,0,0,0.010502631776034832);\">of</span> <span style=\"background-color:rgba(255,0,0,0.026022724341601133);\">them</span> <span style=\"background-color:rgba(255,0,0,0.03316754940897226);\">are</span> <span style=\"background-color:rgba(255,0,0,0.008693148847669363);\">such</span> <span style=\"background-color:rgba(255,0,0,0.3718981146812439);\">fucking</span> <span style=\"background-color:rgba(255,0,0,0.3266160562634468);\">inhuman</span> <span style=\"background-color:rgba(255,0,0,0.20924726501107216);\">pigs</span>"
      ],
      "text/plain": [
       "<IPython.core.display.HTML object>"
      ]
     },
     "metadata": {},
     "output_type": "display_data"
    },
    {
     "data": {
      "text/html": [
       "<span style=\"background-color:rgba(255,0,0,0.022550555877387524);\">omg</span> <span style=\"background-color:rgba(255,0,0,0.00745442055631429);\">i</span> <span style=\"background-color:rgba(255,0,0,0.12081287801265717);\">fucking</span> <span style=\"background-color:rgba(255,0,0,0.7793565839529037);\">hate</span> <span style=\"background-color:rgba(255,0,0,0.012144127395004034);\">wilfred</span> <span style=\"background-color:rgba(255,0,0,0.00471993931569159);\">this</span> <span style=\"background-color:rgba(255,0,0,0.12081287801265717);\">fucking</span> <span style=\"background-color:rgba(255,0,0,0.0501595763489604);\">dog</span> <span style=\"background-color:rgba(255,0,0,0.056105004623532295);\">man</span> <span style=\"background-color:rgba(255,0,0,0.048795402981340885);\">lmfaooooo</span>"
      ],
      "text/plain": [
       "<IPython.core.display.HTML object>"
      ]
     },
     "metadata": {},
     "output_type": "display_data"
    },
    {
     "data": {
      "text/html": [
       "<span style=\"background-color:rgba(255,0,0,0.0020761703490279615);\">i</span> mean...give <span style=\"background-color:rgba(255,0,0,0.0036509628989733756);\">the</span> <span style=\"background-color:rgba(255,0,0,0.030103984754532576);\">cop</span> <span style=\"background-color:rgba(255,0,0,0.02006637630984187);\">a</span> <span style=\"background-color:rgba(255,0,0,0.39989765733480453);\">fucking</span> <span style=\"background-color:rgba(255,0,0,0.29636573046445847);\">pepsi</span> <span style=\"background-color:rgba(255,0,0,0.02438471419736743);\">and</span> <span style=\"background-color:rgba(255,0,0,0.008004152332432568);\">you</span> won't <span style=\"background-color:rgba(255,0,0,0.0015038379933685064);\">get</span> shot! <span style=\"background-color:rgba(255,0,0,0.013747948687523603);\">racism</span> over! terrible."
      ],
      "text/plain": [
       "<IPython.core.display.HTML object>"
      ]
     },
     "metadata": {},
     "output_type": "display_data"
    },
    {
     "data": {
      "text/html": [
       "#tbt <span style=\"background-color:rgba(255,0,0,0.002636786666698754);\">2013</span> <span style=\"background-color:rgba(255,0,0,0.003670274163596332);\">i</span> <span style=\"background-color:rgba(255,0,0,0.013302438892424107);\">fucced</span> <span style=\"background-color:rgba(255,0,0,0.013473994331434369);\">this</span> <span style=\"background-color:rgba(255,0,0,0.4383927583694458);\">nigga</span> <span style=\"background-color:rgba(255,0,0,0.036549922078847885);\">life</span> <span style=\"background-color:rgba(255,0,0,0.0941065326333046);\">up</span> <span style=\"background-color:rgba(255,0,0,0.11185508221387863);\">so</span> <span style=\"background-color:rgba(255,0,0,0.36891642957925797);\">bad</span> <span style=\"background-color:rgba(255,0,0,0.0793012697249651);\">he</span> <span style=\"background-color:rgba(255,0,0,0.022375555709004402);\">been</span> <span style=\"background-color:rgba(255,0,0,0.01434257603250444);\">sellin</span> <span style=\"background-color:rgba(255,0,0,0.0033379587694071233);\">insents</span> <span style=\"background-color:rgba(255,0,0,0.009913035901263356);\">at</span> 7/11 <span style=\"background-color:rgba(255,0,0,0.0015295282355509698);\">every</span> <span style=\"background-color:rgba(255,0,0,0.0019812848768197);\">since</span> #facts… https://t.co/hg38cdqu7p"
      ],
      "text/plain": [
       "<IPython.core.display.HTML object>"
      ]
     },
     "metadata": {},
     "output_type": "display_data"
    },
    {
     "data": {
      "text/html": [
       "<span style=\"background-color:rgba(255,0,0,0.001012557841022499);\">if</span> <span style=\"background-color:rgba(255,0,0,0.007094302563928068);\">i</span> <span style=\"background-color:rgba(255,0,0,0.0009966820653062314);\">have</span> <span style=\"background-color:rgba(255,0,0,0.0009299082012148574);\">to</span> <span style=\"background-color:rgba(255,0,0,0.0021000018750783056);\">hear</span> <span style=\"background-color:rgba(255,0,0,0.006407088949345052);\">the</span> <span style=\"background-color:rgba(255,0,0,0.0033900627749972045);\">words</span> \"integrity <span style=\"background-color:rgba(255,0,0,0.0032902855309657753);\">of</span> <span style=\"background-color:rgba(255,0,0,0.006407088949345052);\">the</span> <span style=\"background-color:rgba(255,0,0,0.0037079074536450207);\">scoring</span> area\" <span style=\"background-color:rgba(255,0,0,0.007094302563928068);\">i</span> <span style=\"background-color:rgba(255,0,0,0.0067166698863729835);\">will</span> <span style=\"background-color:rgba(255,0,0,0.2716570533812046);\">fucking</span> <span style=\"background-color:rgba(255,0,0,0.7228181511163712);\">murder</span> <span style=\"background-color:rgba(255,0,0,0.13866785913705826);\">pierre</span>"
      ],
      "text/plain": [
       "<IPython.core.display.HTML object>"
      ]
     },
     "metadata": {},
     "output_type": "display_data"
    },
    {
     "data": {
      "text/html": [
       "\"nigga <span style=\"background-color:rgba(255,0,0,0.09423432871699333);\">nigga</span> <span style=\"background-color:rgba(255,0,0,0.07905429229140282);\">bitch</span> <span style=\"background-color:rgba(255,0,0,0.09423432871699333);\">nigga</span> nigga, <span style=\"background-color:rgba(255,0,0,0.09423432871699333);\">nigga</span> <span style=\"background-color:rgba(255,0,0,0.027120131999254227);\">fried</span> <span style=\"background-color:rgba(255,0,0,0.014833330642431974);\">chicken</span> <span style=\"background-color:rgba(255,0,0,0.09423432871699333);\">nigga</span> <span style=\"background-color:rgba(255,0,0,0.005414658808149397);\">watermelon</span> nigga, <span style=\"background-color:rgba(255,0,0,0.07905429229140282);\">bitch</span> nigga\" - <span style=\"background-color:rgba(255,0,0,0.009488904615864158);\">mahatma</span> <span style=\"background-color:rgba(255,0,0,0.0026280441670678556);\">ghandi</span>"
      ],
      "text/plain": [
       "<IPython.core.display.HTML object>"
      ]
     },
     "metadata": {},
     "output_type": "display_data"
    },
    {
     "data": {
      "text/html": [
       "@serial_jesus it's awful, i'm <span style=\"background-color:rgba(255,0,0,0.013017629971727729);\">in</span> &#127468;&#127463; <span style=\"background-color:rgba(255,0,0,0.0049228459829464555);\">and</span> <span style=\"background-color:rgba(255,0,0,0.004836359003093094);\">no</span> <span style=\"background-color:rgba(255,0,0,0.003144890069961548);\">news</span> <span style=\"background-color:rgba(255,0,0,0.004149238229729235);\">station</span> <span style=\"background-color:rgba(255,0,0,0.0011072163033531979);\">here</span> <span style=\"background-color:rgba(255,0,0,0.0024447482428513467);\">is</span> <span style=\"background-color:rgba(255,0,0,0.00390745815820992);\">covering</span> it! it's <span style=\"background-color:rgba(255,0,0,0.01563651254400611);\">their</span> <span style=\"background-color:rgba(255,0,0,0.01970873912796378);\">job</span> <span style=\"background-color:rgba(255,0,0,0.008337651961483061);\">to</span> <span style=\"background-color:rgba(255,0,0,0.006733316695317626);\">cover</span> <span style=\"background-color:rgba(255,0,0,0.003144890069961548);\">news</span> <span style=\"background-color:rgba(255,0,0,0.008644225890748203);\">regardless</span> ffs. <span style=\"background-color:rgba(255,0,0,0.1505780778825283);\">fucking</span> bastards."
      ],
      "text/plain": [
       "<IPython.core.display.HTML object>"
      ]
     },
     "metadata": {},
     "output_type": "display_data"
    },
    {
     "data": {
      "text/html": [
       "<span style=\"background-color:rgba(255,0,0,0.010424444917589426);\">the</span> <span style=\"background-color:rgba(255,0,0,0.10459780693054199);\">chicken</span> <span style=\"background-color:rgba(255,0,0,0.12014356441795826);\">noddle</span> <span style=\"background-color:rgba(255,0,0,0.0733793992549181);\">soup</span> <span style=\"background-color:rgba(255,0,0,0.016030579572543502);\">dance</span> <span style=\"background-color:rgba(255,0,0,0.0010507046681595966);\">hobi</span> <span style=\"background-color:rgba(255,0,0,0.004180097603239119);\">is</span> <span style=\"background-color:rgba(255,0,0,0.010104462271556258);\">that</span> <span style=\"background-color:rgba(255,0,0,0.6518279016017914);\">nigga</span> https://t.co/jkaalq5jbz"
      ],
      "text/plain": [
       "<IPython.core.display.HTML object>"
      ]
     },
     "metadata": {},
     "output_type": "display_data"
    },
    {
     "data": {
      "text/html": [
       "rt @mrmarktwayne: &lt;--- <span style=\"background-color:rgba(255,0,0,0.009012907394208014);\">undercover</span> <span style=\"background-color:rgba(255,0,0,0.006917383871041238);\">researcher</span> <span style=\"background-color:rgba(255,0,0,0.011728067183867097);\">taking</span> <span style=\"background-color:rgba(255,0,0,0.01761237275786698);\">the</span> <span style=\"background-color:rgba(255,0,0,0.005039440002292395);\">pulse</span> <span style=\"background-color:rgba(255,0,0,0.005697613232769072);\">of</span> <span style=\"background-color:rgba(255,0,0,0.018861048156395555);\">society</span> <span style=\"background-color:rgba(255,0,0,0.03442289773374796);\">through</span> twitter. <span style=\"background-color:rgba(255,0,0,0.007788671646267176);\">working</span> <span style=\"background-color:rgba(255,0,0,0.001358182926196605);\">project</span> title: we're <span style=\"background-color:rgba(255,0,0,0.7126577943563461);\">fucked</span>"
      ],
      "text/plain": [
       "<IPython.core.display.HTML object>"
      ]
     },
     "metadata": {},
     "output_type": "display_data"
    },
    {
     "data": {
      "text/html": [
       "<span style=\"background-color:rgba(255,0,0,0.0007927405385999009);\">one</span> <span style=\"background-color:rgba(255,0,0,0.026457232888787985);\">day</span> <span style=\"background-color:rgba(255,0,0,0.0016241376579273492);\">you</span> <span style=\"background-color:rgba(255,0,0,0.11914245784282684);\">gone</span> <span style=\"background-color:rgba(255,0,0,0.0052359228720888495);\">catch</span> <span style=\"background-color:rgba(255,0,0,0.009172449936158955);\">me</span> <span style=\"background-color:rgba(255,0,0,0.03120768116787076);\">on</span> <span style=\"background-color:rgba(255,0,0,0.007675669621676207);\">a</span> <span style=\"background-color:rgba(255,0,0,0.1237621158361435);\">bad</span> <span style=\"background-color:rgba(255,0,0,0.026457232888787985);\">day</span> <span style=\"background-color:rgba(255,0,0,0.008663376793265343);\">and</span> i'm <span style=\"background-color:rgba(255,0,0,0.11914245784282684);\">gone</span> <span style=\"background-color:rgba(255,0,0,0.04776109475642443);\">go</span> <span style=\"background-color:rgba(255,0,0,0.12413978576660156);\">off</span> <span style=\"background-color:rgba(255,0,0,0.03120768116787076);\">on</span> <span style=\"background-color:rgba(255,0,0,0.06260619033128023);\">yo</span> <span style=\"background-color:rgba(255,0,0,0.5152104794979095);\">ass</span> &#128522;&#128522;&#128522;"
      ],
      "text/plain": [
       "<IPython.core.display.HTML object>"
      ]
     },
     "metadata": {},
     "output_type": "display_data"
    },
    {
     "data": {
      "text/html": [
       "rt @boosk__: <span style=\"background-color:rgba(255,0,0,0.0014549899788107723);\">i</span> <span style=\"background-color:rgba(255,0,0,0.0824841670691967);\">hate</span> liars. <span style=\"background-color:rgba(255,0,0,0.13494525104761124);\">y&#x27;all</span> <span style=\"background-color:rgba(255,0,0,0.012860818533226848);\">can</span> <span style=\"background-color:rgba(255,0,0,0.04804092459380627);\">rot</span> <span style=\"background-color:rgba(255,0,0,0.013965129619464278);\">in</span> <span style=\"background-color:rgba(255,0,0,0.19409049302339554);\">fucking</span> hell."
      ],
      "text/plain": [
       "<IPython.core.display.HTML object>"
      ]
     },
     "metadata": {},
     "output_type": "display_data"
    },
    {
     "data": {
      "text/html": [
       "rt @staraptorite: <span style=\"background-color:rgba(255,0,0,0.003070640959776938);\">oh</span> <span style=\"background-color:rgba(255,0,0,0.010374656412750483);\">yeah</span> <span style=\"background-color:rgba(255,0,0,0.022955730091780424);\">so</span> <span style=\"background-color:rgba(255,0,0,0.004164663259871304);\">i</span> <span style=\"background-color:rgba(255,0,0,0.016290819039568305);\">fought</span> <span style=\"background-color:rgba(255,0,0,0.010050407145172358);\">mara</span> <span style=\"background-color:rgba(255,0,0,0.0017514904902782291);\">and</span> <span style=\"background-color:rgba(255,0,0,0.003965466748923063);\">it</span> <span style=\"background-color:rgba(255,0,0,0.008402434177696705);\">dealt</span> <span style=\"background-color:rgba(255,0,0,0.0008684072963660583);\">69</span> <span style=\"background-color:rgba(255,0,0,0.00254422688158229);\">damage</span> <span style=\"background-color:rgba(255,0,0,0.0017514904902782291);\">and</span> <span style=\"background-color:rgba(255,0,0,0.004164663259871304);\">i</span> <span style=\"background-color:rgba(255,0,0,0.12434486299753189);\">fucking</span> <span style=\"background-color:rgba(255,0,0,0.9555765986442566);\">hate</span> <span style=\"background-color:rgba(255,0,0,0.042700688354671);\">life</span>"
      ],
      "text/plain": [
       "<IPython.core.display.HTML object>"
      ]
     },
     "metadata": {},
     "output_type": "display_data"
    },
    {
     "data": {
      "text/html": [
       "rt @uberfactsniggas: <span style=\"background-color:rgba(255,0,0,0.30420297756791115);\">niggas</span> <span style=\"background-color:rgba(255,0,0,0.06386428605765104);\">who</span> <span style=\"background-color:rgba(255,0,0,0.09379636496305466);\">sip</span> <span style=\"background-color:rgba(255,0,0,0.03694482147693634);\">lean</span> <span style=\"background-color:rgba(255,0,0,0.029502015095204115);\">are</span> <span style=\"background-color:rgba(255,0,0,0.004640576080419123);\">guaranteed</span> <span style=\"background-color:rgba(255,0,0,0.0034250650787726045);\">to</span> <span style=\"background-color:rgba(255,0,0,0.006791774067096412);\">never</span> <span style=\"background-color:rgba(255,0,0,0.002817654749378562);\">get</span> <span style=\"background-color:rgba(255,0,0,0.010256079258397222);\">a</span> cold."
      ],
      "text/plain": [
       "<IPython.core.display.HTML object>"
      ]
     },
     "metadata": {},
     "output_type": "display_data"
    },
    {
     "data": {
      "text/html": [
       "<span style=\"background-color:rgba(255,0,0,0.0005569123095483519);\">this</span> <span style=\"background-color:rgba(255,0,0,0.0011912563786609098);\">is</span> <span style=\"background-color:rgba(255,0,0,0.00837920408230275);\">so</span> annoying. <span style=\"background-color:rgba(255,0,0,0.06389019545167685);\">why</span> <span style=\"background-color:rgba(255,0,0,0.196925587952137);\">shit</span> <span style=\"background-color:rgba(255,0,0,0.024454426020383835);\">always</span> <span style=\"background-color:rgba(255,0,0,0.047373101115226746);\">gotta</span> <span style=\"background-color:rgba(255,0,0,0.009152215206995606);\">be</span> <span style=\"background-color:rgba(255,0,0,0.00667218875605613);\">a</span> competition? <span style=\"background-color:rgba(255,0,0,0.0022637950314674526);\">every</span> <span style=\"background-color:rgba(255,0,0,0.0016707112081348896);\">race</span> <span style=\"background-color:rgba(255,0,0,0.0025826547062024474);\">got</span> <span style=\"background-color:rgba(255,0,0,0.0007805022323736921);\">some</span> <span style=\"background-color:rgba(255,0,0,0.01358388108201325);\">bad</span> <span style=\"background-color:rgba(255,0,0,0.22736528888344765);\">ass</span> <span style=\"background-color:rgba(255,0,0,0.16400327906012535);\">females</span> <span style=\"background-color:rgba(255,0,0,0.0053339090663939714);\">and</span> <span style=\"background-color:rgba(255,0,0,0.15378233045339584);\">ugly</span> <span style=\"background-color:rgba(255,0,0,0.22736528888344765);\">ass</span> femal… https://t.co/aruyzan2zx"
      ],
      "text/plain": [
       "<IPython.core.display.HTML object>"
      ]
     },
     "metadata": {},
     "output_type": "display_data"
    },
    {
     "data": {
      "text/html": [
       "rt @williamturton: <span style=\"background-color:rgba(255,0,0,0.0006651174044236541);\">these</span> <span style=\"background-color:rgba(255,0,0,0.0010910570563282818);\">people</span> <span style=\"background-color:rgba(255,0,0,0.002062590647256002);\">are</span> <span style=\"background-color:rgba(255,0,0,0.010087566915899515);\">so</span> <span style=\"background-color:rgba(255,0,0,0.180495735257864);\">fucking</span> stupid!!!!!! https://t.co/mgx2dzzccq"
      ],
      "text/plain": [
       "<IPython.core.display.HTML object>"
      ]
     },
     "metadata": {},
     "output_type": "display_data"
    },
    {
     "data": {
      "text/html": [
       "rt @therealqua815: <span style=\"background-color:rgba(255,0,0,0.013506487011909485);\">why</span> <span style=\"background-color:rgba(255,0,0,0.24126315489411354);\">niggas</span> <span style=\"background-color:rgba(255,0,0,0.053407163359224796);\">think</span> <span style=\"background-color:rgba(255,0,0,0.5347515270113945);\">fucking</span> <span style=\"background-color:rgba(255,0,0,0.033202264457941055);\">these</span> <span style=\"background-color:rgba(255,0,0,0.23813191801309586);\">hoes</span> <span style=\"background-color:rgba(255,0,0,0.03699249587953091);\">is</span> <span style=\"background-color:rgba(255,0,0,0.007025005761533976);\">an</span> <span style=\"background-color:rgba(255,0,0,0.01913244603201747);\">accomplishment</span>"
      ],
      "text/plain": [
       "<IPython.core.display.HTML object>"
      ]
     },
     "metadata": {},
     "output_type": "display_data"
    },
    {
     "data": {
      "text/html": [
       "<span style=\"background-color:rgba(255,0,0,0.38677122443914413);\">idiot</span> <span style=\"background-color:rgba(255,0,0,0.022945257369428873);\">wind</span> <span style=\"background-color:rgba(255,0,0,0.0330199021846056);\">blowing</span> <span style=\"background-color:rgba(255,0,0,0.009326996514573693);\">every</span> <span style=\"background-color:rgba(255,0,0,0.0038299147854559124);\">time</span> <span style=\"background-color:rgba(255,0,0,0.010531572625041008);\">you</span> <span style=\"background-color:rgba(255,0,0,0.0012685889669228345);\">move</span> <span style=\"background-color:rgba(255,0,0,0.0010871863196371123);\">your</span> teeth. you’re <span style=\"background-color:rgba(255,0,0,0.004441726778168231);\">an</span> idiot, babe. it’s <span style=\"background-color:rgba(255,0,0,0.013911344576627016);\">a</span> <span style=\"background-color:rgba(255,0,0,0.030250302515923977);\">wonder</span> <span style=\"background-color:rgba(255,0,0,0.020129408221691847);\">that</span> <span style=\"background-color:rgba(255,0,0,0.010531572625041008);\">you</span> <span style=\"background-color:rgba(255,0,0,0.02889625495299697);\">still</span> <span style=\"background-color:rgba(255,0,0,0.01982394140213728);\">know</span> <span style=\"background-color:rgba(255,0,0,0.007058533956296742);\">how</span> <span style=\"background-color:rgba(255,0,0,0.0045738485641777515);\">to</span> <span style=\"background-color:rgba(255,0,0,0.027494181413203478);\">breathe</span>"
      ],
      "text/plain": [
       "<IPython.core.display.HTML object>"
      ]
     },
     "metadata": {},
     "output_type": "display_data"
    },
    {
     "data": {
      "text/html": [
       "rt @virats_cupcake: <span style=\"background-color:rgba(255,0,0,0.04146371968090534);\">rohitians</span> <span style=\"background-color:rgba(255,0,0,0.007513545569963753);\">get</span> <span style=\"background-color:rgba(255,0,0,0.02198131289333105);\">rid</span> <span style=\"background-color:rgba(255,0,0,0.007475932943634689);\">of</span> <span style=\"background-color:rgba(255,0,0,0.03773319534957409);\">thinking</span> small!!! <span style=\"background-color:rgba(255,0,0,0.0025434134295210242);\">no</span> <span style=\"background-color:rgba(255,0,0,0.0011135023669339716);\">one</span> <span style=\"background-color:rgba(255,0,0,0.005683997296728194);\">is</span> <span style=\"background-color:rgba(255,0,0,0.01714239246211946);\">giving</span> <span style=\"background-color:rgba(255,0,0,0.027479806449264288);\">a</span> <span style=\"background-color:rgba(255,0,0,0.8463513851165771);\">damn</span> <span style=\"background-color:rgba(255,0,0,0.1189796905964613);\">about</span> you!!!"
      ],
      "text/plain": [
       "<IPython.core.display.HTML object>"
      ]
     },
     "metadata": {},
     "output_type": "display_data"
    },
    {
     "data": {
      "text/html": [
       "rt @mulamakinmillz: <span style=\"background-color:rgba(255,0,0,0.4449525848031044);\">niggas</span> <span style=\"background-color:rgba(255,0,0,0.17059899866580963);\">wanna</span> <span style=\"background-color:rgba(255,0,0,0.0405007554218173);\">be</span> <span style=\"background-color:rgba(255,0,0,0.00668175402097404);\">orlando</span> <span style=\"background-color:rgba(255,0,0,0.005872399779036641);\">brown</span> <span style=\"background-color:rgba(255,0,0,0.030029939953237772);\">so</span> <span style=\"background-color:rgba(255,0,0,0.26425203308463097);\">bad</span> . https://t.co/81jxuauhvn"
      ],
      "text/plain": [
       "<IPython.core.display.HTML object>"
      ]
     },
     "metadata": {},
     "output_type": "display_data"
    },
    {
     "data": {
      "text/html": [
       "<span style=\"background-color:rgba(255,0,0,0.019554097671061754);\">ew</span> <span style=\"background-color:rgba(255,0,0,0.002437196089886129);\">why</span> <span style=\"background-color:rgba(255,0,0,0.0701221264898777);\">tf</span> <span style=\"background-color:rgba(255,0,0,0.01259698998183012);\">is</span> <span style=\"background-color:rgba(255,0,0,0.00019977365809609182);\">uriah</span> <span style=\"background-color:rgba(255,0,0,0.0007467177783837542);\">justus</span> <span style=\"background-color:rgba(255,0,0,0.07627635728567839);\">ugly</span> <span style=\"background-color:rgba(255,0,0,0.40982212871313095);\">racist</span> <span style=\"background-color:rgba(255,0,0,0.5959218367934227);\">ass</span> <span style=\"background-color:rgba(255,0,0,0.02864380832761526);\">in</span> <span style=\"background-color:rgba(255,0,0,0.002113430673489347);\">13</span> <span style=\"background-color:rgba(255,0,0,0.0010861626651603729);\">reasons</span> <span style=\"background-color:rgba(255,0,0,0.002437196089886129);\">why</span>"
      ],
      "text/plain": [
       "<IPython.core.display.HTML object>"
      ]
     },
     "metadata": {},
     "output_type": "display_data"
    },
    {
     "data": {
      "text/html": [
       "rt @moonllghthemmo: <span style=\"background-color:rgba(255,0,0,0.004730377986561507);\">i</span> <span style=\"background-color:rgba(255,0,0,0.1735774241387844);\">hate</span> hemingway. <span style=\"background-color:rgba(255,0,0,0.004730377986561507);\">i</span> <span style=\"background-color:rgba(255,0,0,0.1735774241387844);\">hate</span> <span style=\"background-color:rgba(255,0,0,0.1113745104521513);\">him</span> <span style=\"background-color:rgba(255,0,0,0.010428070090711117);\">and</span> <span style=\"background-color:rgba(255,0,0,0.01754564349539578);\">his</span> <span style=\"background-color:rgba(255,0,0,0.010450081899762154);\">words</span> <span style=\"background-color:rgba(255,0,0,0.010482323123142123);\">that</span> <span style=\"background-color:rgba(255,0,0,0.010818842565640807);\">suckerpunch</span> <span style=\"background-color:rgba(255,0,0,0.03733026096597314);\">me</span> <span style=\"background-color:rgba(255,0,0,0.03267807886004448);\">in</span> <span style=\"background-color:rgba(255,0,0,0.02182967495173216);\">the</span> <span style=\"background-color:rgba(255,0,0,0.06388829555362463);\">heart</span> <span style=\"background-color:rgba(255,0,0,0.03660462563857436);\">every</span> <span style=\"background-color:rgba(255,0,0,0.48333048820495605);\">damn</span> time. https://t.co/gxpoksob53"
      ],
      "text/plain": [
       "<IPython.core.display.HTML object>"
      ]
     },
     "metadata": {},
     "output_type": "display_data"
    },
    {
     "data": {
      "text/html": [
       "rt @lorenacassie: <span style=\"background-color:rgba(255,0,0,0.003272906760685146);\">i</span> <span style=\"background-color:rgba(255,0,0,0.00032856554753379896);\">have</span> <span style=\"background-color:rgba(255,0,0,0.0005264372521196492);\">the</span> <span style=\"background-color:rgba(255,0,0,0.001257569674635306);\">biggest</span> <span style=\"background-color:rgba(255,0,0,0.006258660578168929);\">heart</span> <span style=\"background-color:rgba(255,0,0,0.0021497726265806705);\">you</span> <span style=\"background-color:rgba(255,0,0,0.002115778625011444);\">can</span> <span style=\"background-color:rgba(255,0,0,0.001742120657581836);\">do</span> <span style=\"background-color:rgba(255,0,0,0.0029117471422068775);\">me</span> <span style=\"background-color:rgba(255,0,0,0.008897008374333382);\">so</span> <span style=\"background-color:rgba(255,0,0,0.12506996281445026);\">damn</span> <span style=\"background-color:rgba(255,0,0,0.3344655781984329);\">dirty</span> &amp; i'll <span style=\"background-color:rgba(255,0,0,0.006948491791263223);\">still</span> <span style=\"background-color:rgba(255,0,0,0.00432031141826883);\">be</span> there. <span style=\"background-color:rgba(255,0,0,0.003272906760685146);\">i</span> <span style=\"background-color:rgba(255,0,0,0.07967930287122726);\">fucking</span> <span style=\"background-color:rgba(255,0,0,0.5833811685442924);\">hate</span> it."
      ],
      "text/plain": [
       "<IPython.core.display.HTML object>"
      ]
     },
     "metadata": {},
     "output_type": "display_data"
    },
    {
     "data": {
      "text/html": [
       "<span style=\"background-color:rgba(255,0,0,0.11710253544151783);\">fucking</span> walters!!!!!!!! <span style=\"background-color:rgba(255,0,0,0.0019085661915596575);\">we</span> <span style=\"background-color:rgba(255,0,0,0.006062879110686481);\">should</span> <span style=\"background-color:rgba(255,0,0,0.0031392290838994086);\">have</span> <span style=\"background-color:rgba(255,0,0,0.003389962366782129);\">had</span> <span style=\"background-color:rgba(255,0,0,0.008980302955023944);\">a</span> <span style=\"background-color:rgba(255,0,0,0.039251879788935184);\">penalty</span> <span style=\"background-color:rgba(255,0,0,0.5762661993503571);\">fuck</span> off!!!!!!"
      ],
      "text/plain": [
       "<IPython.core.display.HTML object>"
      ]
     },
     "metadata": {},
     "output_type": "display_data"
    },
    {
     "data": {
      "text/html": [
       "<span style=\"background-color:rgba(255,0,0,0.017877096543088555);\">yo</span> <span style=\"background-color:rgba(255,0,0,0.28188006952404976);\">nigga</span> <span style=\"background-color:rgba(255,0,0,0.030049635097384453);\">talk</span> <span style=\"background-color:rgba(255,0,0,0.00420390599174425);\">to</span> <span style=\"background-color:rgba(255,0,0,0.01186563284136355);\">you</span> <span style=\"background-color:rgba(255,0,0,0.04916267469525337);\">crazy</span> <span style=\"background-color:rgba(255,0,0,0.049623032100498676);\">cause</span> <span style=\"background-color:rgba(255,0,0,0.01186563284136355);\">you</span> <span style=\"background-color:rgba(255,0,0,0.02733095781877637);\">living</span> <span style=\"background-color:rgba(255,0,0,0.03929426893591881);\">like</span> <span style=\"background-color:rgba(255,0,0,0.01186563284136355);\">you</span> <span style=\"background-color:rgba(255,0,0,0.008309089462272823);\">need</span> <span style=\"background-color:rgba(255,0,0,0.01809869660064578);\">his</span> <span style=\"background-color:rgba(255,0,0,0.5474704131484032);\">ass</span>"
      ],
      "text/plain": [
       "<IPython.core.display.HTML object>"
      ]
     },
     "metadata": {},
     "output_type": "display_data"
    },
    {
     "data": {
      "text/html": [
       "rt @chinksmcgee: <span style=\"background-color:rgba(255,0,0,0.0020492942712735385);\">i</span> <span style=\"background-color:rgba(255,0,0,0.11617559939622879);\">hate</span> <span style=\"background-color:rgba(255,0,0,0.014186840271577239);\">being</span> <span style=\"background-color:rgba(255,0,0,0.004734280228149146);\">on</span> <span style=\"background-color:rgba(255,0,0,0.00348107423633337);\">the</span> <span style=\"background-color:rgba(255,0,0,0.02524936804547906);\">bus</span> <span style=\"background-color:rgba(255,0,0,0.0058570835972204804);\">with</span> <span style=\"background-color:rgba(255,0,0,0.0038717224379070103);\">no</span> <span style=\"background-color:rgba(255,0,0,0.0033882580464705825);\">headphones</span> <span style=\"background-color:rgba(255,0,0,0.0014205070328898728);\">and</span> <span style=\"background-color:rgba(255,0,0,0.023439889773726463);\">nappy</span> <span style=\"background-color:rgba(255,0,0,0.25309188291430473);\">ass</span> <span style=\"background-color:rgba(255,0,0,0.10030887089669704);\">niggas</span> <span style=\"background-color:rgba(255,0,0,0.027323942631483078);\">be</span> <span style=\"background-color:rgba(255,0,0,0.05088989157229662);\">brushing</span> <span style=\"background-color:rgba(255,0,0,0.019112498266622424);\">their</span> <span style=\"background-color:rgba(255,0,0,0.009376154630444944);\">hair</span> <span style=\"background-color:rgba(255,0,0,0.042346841655671597);\">tryna</span> <span style=\"background-color:rgba(255,0,0,0.002184783370466903);\">get</span> waves. <span style=\"background-color:rgba(255,0,0,0.0018673618615139276);\">sounds</span> <span style=\"background-color:rgba(255,0,0,0.005021581309847534);\">like</span> niggas…"
      ],
      "text/plain": [
       "<IPython.core.display.HTML object>"
      ]
     },
     "metadata": {},
     "output_type": "display_data"
    },
    {
     "data": {
      "text/html": [
       "rt @baby_susan182: don't <span style=\"background-color:rgba(255,0,0,0.16654465347528458);\">fucking</span> <span style=\"background-color:rgba(255,0,0,0.18867013975977898);\">look</span> <span style=\"background-color:rgba(255,0,0,0.07291567977517843);\">at</span> <span style=\"background-color:rgba(255,0,0,0.02185752848163247);\">me</span> <span style=\"background-color:rgba(255,0,0,0.050314473919570446);\">unless</span> <span style=\"background-color:rgba(255,0,0,0.01588365761563182);\">you</span> <span style=\"background-color:rgba(255,0,0,0.0138036475982517);\">want</span> <span style=\"background-color:rgba(255,0,0,0.02185752848163247);\">me</span> <span style=\"background-color:rgba(255,0,0,0.007620234973728657);\">to</span> <span style=\"background-color:rgba(255,0,0,0.020062350668013096);\">end</span> <span style=\"background-color:rgba(255,0,0,0.008763548685237765);\">your</span> <span style=\"background-color:rgba(255,0,0,0.43134506791830063);\">pathetic</span> life."
      ],
      "text/plain": [
       "<IPython.core.display.HTML object>"
      ]
     },
     "metadata": {},
     "output_type": "display_data"
    },
    {
     "data": {
      "text/html": [
       "rt @stripperpoie: <span style=\"background-color:rgba(255,0,0,0.0006908006616868079);\">if</span> <span style=\"background-color:rgba(255,0,0,0.0005218547812546603);\">your</span> <span style=\"background-color:rgba(255,0,0,0.0483569735661149);\">nigga</span> <span style=\"background-color:rgba(255,0,0,0.012276486959308386);\">is</span> <span style=\"background-color:rgba(255,0,0,0.06420844234526157);\">cheating</span> <span style=\"background-color:rgba(255,0,0,0.007938695489428937);\">on</span> <span style=\"background-color:rgba(255,0,0,0.0020726995717268437);\">you</span> <span style=\"background-color:rgba(255,0,0,0.0010390627721790224);\">and</span> <span style=\"background-color:rgba(255,0,0,0.0020726995717268437);\">you</span> <span style=\"background-color:rgba(255,0,0,0.00036793979234062135);\">check</span> <span style=\"background-color:rgba(255,0,0,0.000624903550487943);\">the</span> <span style=\"background-color:rgba(255,0,0,0.7478040456771851);\">bitch</span> <span style=\"background-color:rgba(255,0,0,0.019928808324038982);\">before</span> <span style=\"background-color:rgba(255,0,0,0.0020726995717268437);\">you</span> <span style=\"background-color:rgba(255,0,0,0.00036793979234062135);\">check</span> <span style=\"background-color:rgba(255,0,0,0.0020663862233050168);\">yo</span> <span style=\"background-color:rgba(255,0,0,0.0483569735661149);\">nigga</span> <span style=\"background-color:rgba(255,0,0,0.0020726995717268437);\">you</span> <span style=\"background-color:rgba(255,0,0,0.002631540410220623);\">a</span> <span style=\"background-color:rgba(255,0,0,0.16026562079787254);\">stupid</span> bitch, <span style=\"background-color:rgba(255,0,0,0.031621167436242104);\">she</span> don't <span style=\"background-color:rgba(255,0,0,0.008641643216833472);\">owe</span> you…"
      ],
      "text/plain": [
       "<IPython.core.display.HTML object>"
      ]
     },
     "metadata": {},
     "output_type": "display_data"
    },
    {
     "data": {
      "text/html": [
       "rt @onlyashlywould: <span style=\"background-color:rgba(255,0,0,0.0006029130963725038);\">if</span> <span style=\"background-color:rgba(255,0,0,0.00351295544533059);\">yo</span> <span style=\"background-color:rgba(255,0,0,0.006366558955051005);\">bestfriend</span> <span style=\"background-color:rgba(255,0,0,0.0035159377148374915);\">dont</span> call/act <span style=\"background-color:rgba(255,0,0,0.008428857545368373);\">like</span> <span style=\"background-color:rgba(255,0,0,0.00821561028715223);\">ur</span> <span style=\"background-color:rgba(255,0,0,0.012978393351659179);\">girlfriend</span> <span style=\"background-color:rgba(255,0,0,0.0031789991771802306);\">when</span> <span style=\"background-color:rgba(255,0,0,0.002128645428456366);\">she</span> <span style=\"background-color:rgba(255,0,0,0.001138979714596644);\">see</span> <span style=\"background-color:rgba(255,0,0,0.0023226426856126636);\">a</span> <span style=\"background-color:rgba(255,0,0,0.22134289145469666);\">ugly</span> <span style=\"background-color:rgba(255,0,0,0.6186618655920029);\">nigga</span> <span style=\"background-color:rgba(255,0,0,0.22267727181315422);\">trynna</span> <span style=\"background-color:rgba(255,0,0,0.019091437570750713);\">yike</span> <span style=\"background-color:rgba(255,0,0,0.000911526003619656);\">w</span> <span style=\"background-color:rgba(255,0,0,0.0012601820344571024);\">u</span> <span style=\"background-color:rgba(255,0,0,0.00171165622305125);\">at</span> <span style=\"background-color:rgba(255,0,0,0.0023226426856126636);\">a</span> <span style=\"background-color:rgba(255,0,0,0.010749476496130228);\">party</span> <span style=\"background-color:rgba(255,0,0,0.005376056651584804);\">they</span> <span style=\"background-color:rgba(255,0,0,0.06167211104184389);\">aint</span> <span style=\"background-color:rgba(255,0,0,0.005102091818116605);\">your</span> b…"
      ],
      "text/plain": [
       "<IPython.core.display.HTML object>"
      ]
     },
     "metadata": {},
     "output_type": "display_data"
    },
    {
     "data": {
      "text/html": [
       "<span style=\"background-color:rgba(255,0,0,0.013587902067229152);\">every</span> <span style=\"background-color:rgba(255,0,0,0.006625101086683571);\">door</span> <span style=\"background-color:rgba(255,0,0,0.04190076608210802);\">in</span> <span style=\"background-color:rgba(255,0,0,0.0036372579052112997);\">this</span> <span style=\"background-color:rgba(255,0,0,0.04581967834383249);\">god</span> <span style=\"background-color:rgba(255,0,0,0.44540416449308395);\">damn</span> <span style=\"background-color:rgba(255,0,0,0.016794457333162427);\">building</span> <span style=\"background-color:rgba(255,0,0,0.011076434748247266);\">sounds</span> <span style=\"background-color:rgba(255,0,0,0.015943448524922132);\">like</span> <span style=\"background-color:rgba(255,0,0,0.011856619967147708);\">a</span> <span style=\"background-color:rgba(255,0,0,0.027656701859086752);\">dog</span> <span style=\"background-color:rgba(255,0,0,0.06115024443715811);\">squealing</span> <span style=\"background-color:rgba(255,0,0,0.04190076608210802);\">in</span> <span style=\"background-color:rgba(255,0,0,0.04754117224365473);\">pain</span> <span style=\"background-color:rgba(255,0,0,0.02597705228254199);\">when</span> <span style=\"background-color:rgba(255,0,0,0.03772248746827245);\">it</span> <span style=\"background-color:rgba(255,0,0,0.009160010959021747);\">closes</span> <span style=\"background-color:rgba(255,0,0,0.004866427916567773);\">and</span> <span style=\"background-color:rgba(255,0,0,0.03772248746827245);\">it</span> <span style=\"background-color:rgba(255,0,0,0.018096109852194786);\">gets</span> <span style=\"background-color:rgba(255,0,0,0.02099511679261923);\">me</span> <span style=\"background-color:rgba(255,0,0,0.013587902067229152);\">every</span> <span style=\"background-color:rgba(255,0,0,0.00659119279589504);\">time</span> <span style=\"background-color:rgba(255,0,0,0.007240568520501256);\">i</span> <span style=\"background-color:rgba(255,0,0,0.297359898686409);\">hate</span> <span style=\"background-color:rgba(255,0,0,0.03772248746827245);\">it</span>"
      ],
      "text/plain": [
       "<IPython.core.display.HTML object>"
      ]
     },
     "metadata": {},
     "output_type": "display_data"
    },
    {
     "data": {
      "text/html": [
       "@equalluv4all <span style=\"background-color:rgba(255,0,0,0.011273386189714074);\">burn</span> <span style=\"background-color:rgba(255,0,0,0.00739453942514956);\">in</span> hell. don't <span style=\"background-color:rgba(255,0,0,0.017697819275781512);\">lump</span> <span style=\"background-color:rgba(255,0,0,0.00792807200923562);\">us</span> <span style=\"background-color:rgba(255,0,0,0.03555694129317999);\">fags</span> <span style=\"background-color:rgba(255,0,0,0.006691710441373289);\">and</span> <span style=\"background-color:rgba(255,0,0,0.0020985581795684993);\">dykes</span> <span style=\"background-color:rgba(255,0,0,0.00739453942514956);\">in</span> <span style=\"background-color:rgba(255,0,0,0.007010480621829629);\">with</span> <span style=\"background-color:rgba(255,0,0,0.005509606562554836);\">your</span> <span style=\"background-color:rgba(255,0,0,0.004519736394286156);\">revolting</span> <span style=\"background-color:rgba(255,0,0,0.01933507272042334);\">child</span> fucking."
      ],
      "text/plain": [
       "<IPython.core.display.HTML object>"
      ]
     },
     "metadata": {},
     "output_type": "display_data"
    },
    {
     "data": {
      "text/html": [
       "rt @rissia__bad: <span style=\"background-color:rgba(255,0,0,0.026271555107086897);\">bitches</span> <span style=\"background-color:rgba(255,0,0,0.0016035059525165707);\">be</span> <span style=\"background-color:rgba(255,0,0,0.009282015962526202);\">so</span> <span style=\"background-color:rgba(255,0,0,0.2716990187764168);\">mad</span> &#128580; &amp; <span style=\"background-color:rgba(255,0,0,0.2944148890674114);\">hating</span> <span style=\"background-color:rgba(255,0,0,0.018747607246041298);\">on</span> <span style=\"background-color:rgba(255,0,0,0.0015677156625315547);\">here</span> <span style=\"background-color:rgba(255,0,0,0.039997994899749756);\">i</span> <span style=\"background-color:rgba(255,0,0,0.0016035059525165707);\">be</span> <span style=\"background-color:rgba(255,0,0,0.009282015962526202);\">so</span> <span style=\"background-color:rgba(255,0,0,0.2716990187764168);\">mad</span> <span style=\"background-color:rgba(255,0,0,0.039997994899749756);\">i</span> can't <span style=\"background-color:rgba(255,0,0,0.030735861510038376);\">slap</span> <span style=\"background-color:rgba(255,0,0,0.07308762986212969);\">y&#x27;all</span> <span style=\"background-color:rgba(255,0,0,0.2228892222046852);\">ass</span>"
      ],
      "text/plain": [
       "<IPython.core.display.HTML object>"
      ]
     },
     "metadata": {},
     "output_type": "display_data"
    },
    {
     "data": {
      "text/html": [
       "rt @vilmamurillox3: <span style=\"background-color:rgba(255,0,0,0.038892116863280535);\">i</span> <span style=\"background-color:rgba(255,0,0,0.0010854759602807462);\">have</span> <span style=\"background-color:rgba(255,0,0,0.005999630084261298);\">really</span> <span style=\"background-color:rgba(255,0,0,0.058392672799527645);\">bad</span> <span style=\"background-color:rgba(255,0,0,0.01604930846951902);\">trust</span> issuess, <span style=\"background-color:rgba(255,0,0,0.106093380600214);\">damn</span> <span style=\"background-color:rgba(255,0,0,0.038892116863280535);\">i</span> <span style=\"background-color:rgba(255,0,0,0.8574867248535156);\">hate</span> <span style=\"background-color:rgba(255,0,0,0.0810518953949213);\">it</span>"
      ],
      "text/plain": [
       "<IPython.core.display.HTML object>"
      ]
     },
     "metadata": {},
     "output_type": "display_data"
    },
    {
     "data": {
      "text/html": [
       "rt @muvajosie: <span style=\"background-color:rgba(255,0,0,0.001230700290761888);\">i</span> <span style=\"background-color:rgba(255,0,0,0.06976906675845385);\">hate</span> <span style=\"background-color:rgba(255,0,0,0.009972295956686139);\">when</span> <span style=\"background-color:rgba(255,0,0,0.00605160603299737);\">a</span> <span style=\"background-color:rgba(255,0,0,0.16576262190937996);\">nigga</span> who's <span style=\"background-color:rgba(255,0,0,0.009009207715280354);\">not</span> <span style=\"background-color:rgba(255,0,0,0.01957512693479657);\">yo</span> <span style=\"background-color:rgba(255,0,0,0.16576262190937996);\">nigga</span> <span style=\"background-color:rgba(255,0,0,0.0072371348505839705);\">try</span> <span style=\"background-color:rgba(255,0,0,0.0013067525287624449);\">to</span> <span style=\"background-color:rgba(255,0,0,0.0004545756019069813);\">press</span> <span style=\"background-color:rgba(255,0,0,0.0004530346632236615);\">you</span> <span style=\"background-color:rgba(255,0,0,0.0006963376654312015);\">about</span> <span style=\"background-color:rgba(255,0,0,0.002394472248852253);\">another</span> <span style=\"background-color:rgba(255,0,0,0.16576262190937996);\">nigga</span> <span style=\"background-color:rgba(255,0,0,0.03006654093042016);\">like</span> <span style=\"background-color:rgba(255,0,0,0.008738879696466029);\">he</span> <span style=\"background-color:rgba(255,0,0,0.01957512693479657);\">yo</span> <span style=\"background-color:rgba(255,0,0,0.16576262190937996);\">nigga</span> ✋&#127997;like <span style=\"background-color:rgba(255,0,0,0.16576262190937996);\">nigga</span> <span style=\"background-color:rgba(255,0,0,0.16464322805404663);\">stop</span> it. &#128580;"
      ],
      "text/plain": [
       "<IPython.core.display.HTML object>"
      ]
     },
     "metadata": {},
     "output_type": "display_data"
    },
    {
     "data": {
      "text/html": [
       "rt @hotgaltee: <span style=\"background-color:rgba(255,0,0,0.009365497971884906);\">i</span> <span style=\"background-color:rgba(255,0,0,0.043087867088615894);\">hate</span> <span style=\"background-color:rgba(255,0,0,0.013258435064926744);\">seeing</span> <span style=\"background-color:rgba(255,0,0,0.009439046843908727);\">girls</span> <span style=\"background-color:rgba(255,0,0,0.003924393968190998);\">upset</span> <span style=\"background-color:rgba(255,0,0,0.0015176674060057849);\">about</span> <span style=\"background-color:rgba(255,0,0,0.011063979472965002);\">a</span> <span style=\"background-color:rgba(255,0,0,0.21262094378471375);\">nigga</span> <span style=\"background-color:rgba(255,0,0,0.0334855099208653);\">cause</span> <span style=\"background-color:rgba(255,0,0,0.009365497971884906);\">i</span> <span style=\"background-color:rgba(255,0,0,0.003761113330256194);\">know</span> <span style=\"background-color:rgba(255,0,0,0.0022574707691092044);\">that</span> <span style=\"background-color:rgba(255,0,0,0.03264403436332941);\">hurting</span> <span style=\"background-color:rgba(255,0,0,0.038424411322921515);\">feeling</span> <span style=\"background-color:rgba(255,0,0,0.01177069847472012);\">but</span> <span style=\"background-color:rgba(255,0,0,0.011063979472965002);\">a</span> <span style=\"background-color:rgba(255,0,0,0.21262094378471375);\">nigga</span> <span style=\"background-color:rgba(255,0,0,0.13657202012836933);\">gone</span> <span style=\"background-color:rgba(255,0,0,0.020322087220847607);\">be</span> <span style=\"background-color:rgba(255,0,0,0.011063979472965002);\">a</span> <span style=\"background-color:rgba(255,0,0,0.21262094378471375);\">nigga</span> , <span style=\"background-color:rgba(255,0,0,0.20577764138579369);\">god</span> don't sleep..pic…"
      ],
      "text/plain": [
       "<IPython.core.display.HTML object>"
      ]
     },
     "metadata": {},
     "output_type": "display_data"
    },
    {
     "data": {
      "text/html": [
       "rt @tsm560: <span style=\"background-color:rgba(255,0,0,0.009248871356248856);\">i</span> <span style=\"background-color:rgba(255,0,0,0.1038226205855608);\">hate</span> <span style=\"background-color:rgba(255,0,0,0.01483967062085867);\">when</span> <span style=\"background-color:rgba(255,0,0,0.01204388216137886);\">someone</span> <span style=\"background-color:rgba(255,0,0,0.0101339106913656);\">gets</span> <span style=\"background-color:rgba(255,0,0,0.01987993950024247);\">all</span> <span style=\"background-color:rgba(255,0,0,0.04948815330862999);\">up</span> <span style=\"background-color:rgba(255,0,0,0.018227819819003344);\">in</span> <span style=\"background-color:rgba(255,0,0,0.009533723932690918);\">my</span> <span style=\"background-color:rgba(255,0,0,0.0025787402410060167);\">grill</span> <span style=\"background-color:rgba(255,0,0,0.000810892743174918);\">and</span> <span style=\"background-color:rgba(255,0,0,0.0017432862659916282);\">they</span> <span style=\"background-color:rgba(255,0,0,0.019983653910458088);\">remind</span> <span style=\"background-color:rgba(255,0,0,0.017164332093670964);\">me</span> <span style=\"background-color:rgba(255,0,0,0.009248871356248856);\">i</span> <span style=\"background-color:rgba(255,0,0,0.0037297792732715607);\">now</span> <span style=\"background-color:rgba(255,0,0,0.009967529913410544);\">say</span> <span style=\"background-color:rgba(255,0,0,0.30058106407523155);\">stupid</span> <span style=\"background-color:rgba(255,0,0,0.4933660849928856);\">shit</span> <span style=\"background-color:rgba(255,0,0,0.07996647618710995);\">like</span> \"all <span style=\"background-color:rgba(255,0,0,0.04948815330862999);\">up</span> <span style=\"background-color:rgba(255,0,0,0.018227819819003344);\">in</span> <span style=\"background-color:rgba(255,0,0,0.009533723932690918);\">my</span> grill.\""
      ],
      "text/plain": [
       "<IPython.core.display.HTML object>"
      ]
     },
     "metadata": {},
     "output_type": "display_data"
    },
    {
     "data": {
      "text/html": [
       "rt @waysthingswork: <span style=\"background-color:rgba(255,0,0,0.003779515391215682);\">i</span> <span style=\"background-color:rgba(255,0,0,0.10987775400280952);\">fucking</span> <span style=\"background-color:rgba(255,0,0,0.978313684463501);\">hate</span> <span style=\"background-color:rgba(255,0,0,0.08875722996890545);\">people</span> &#128514;&#128514; https://t.co/qz5gihmcqf"
      ],
      "text/plain": [
       "<IPython.core.display.HTML object>"
      ]
     },
     "metadata": {},
     "output_type": "display_data"
    },
    {
     "data": {
      "text/html": [
       "<span style=\"background-color:rgba(255,0,0,0.33972591161727905);\">everybody</span> ain't loyal, <span style=\"background-color:rgba(255,0,0,0.33972591161727905);\">everybody</span> ain't street, <span style=\"background-color:rgba(255,0,0,0.33972591161727905);\">everybody</span> ain't <span style=\"background-color:rgba(255,0,0,0.003025874902959913);\">you</span> <span style=\"background-color:rgba(255,0,0,0.0064351403852924705);\">my</span> nigga, <span style=\"background-color:rgba(255,0,0,0.33972591161727905);\">everybody</span> ain't me. <span style=\"background-color:rgba(255,0,0,0.003995031293015927);\">if</span> <span style=\"background-color:rgba(255,0,0,0.003025874902959913);\">you</span> <span style=\"background-color:rgba(255,0,0,0.00903215550351888);\">real</span> <span style=\"background-color:rgba(255,0,0,0.011498710373416543);\">then</span> <span style=\"background-color:rgba(255,0,0,0.0164667796343565);\">i</span> <span style=\"background-color:rgba(255,0,0,0.015296153724193573);\">can</span> <span style=\"background-color:rgba(255,0,0,0.008270543185062706);\">see</span> <span style=\"background-color:rgba(255,0,0,0.011606533080339432);\">it</span> &#128293; &#128293; &#128293;"
      ],
      "text/plain": [
       "<IPython.core.display.HTML object>"
      ]
     },
     "metadata": {},
     "output_type": "display_data"
    },
    {
     "data": {
      "text/html": [
       "@realdonaldtrump <span style=\"background-color:rgba(255,0,0,0.00044027128751622513);\">you</span> <span style=\"background-color:rgba(255,0,0,0.00016445943401777185);\">signed</span> <span style=\"background-color:rgba(255,0,0,0.002875225036405027);\">a</span> <span style=\"background-color:rgba(255,0,0,0.0005109099947731011);\">bill</span> <span style=\"background-color:rgba(255,0,0,0.0009569422400090843);\">allowing</span> <span style=\"background-color:rgba(255,0,0,0.005235597491264343);\">the</span> <span style=\"background-color:rgba(255,0,0,0.019098181510344148);\">mentally</span> <span style=\"background-color:rgba(255,0,0,0.024211378768086433);\">ill</span> <span style=\"background-color:rgba(255,0,0,0.004288996278773993);\">to</span> <span style=\"background-color:rgba(255,0,0,0.0007770339288981631);\">buy</span> <span style=\"background-color:rgba(255,0,0,0.00043957363232038915);\">guns</span> ??? you're <span style=\"background-color:rgba(255,0,0,0.002875225036405027);\">a</span> <span style=\"background-color:rgba(255,0,0,0.10019811801612377);\">fucking</span> asshole. <span style=\"background-color:rgba(255,0,0,0.020440297666937113);\">your</span> <span style=\"background-color:rgba(255,0,0,0.005235597491264343);\">the</span> <span style=\"background-color:rgba(255,0,0,0.0010979263606714085);\">nra&#x27;a</span> <span style=\"background-color:rgba(255,0,0,0.05312399007380009);\">bitch</span>"
      ],
      "text/plain": [
       "<IPython.core.display.HTML object>"
      ]
     },
     "metadata": {},
     "output_type": "display_data"
    },
    {
     "data": {
      "text/html": [
       "rt @_yungshard: <span style=\"background-color:rgba(255,0,0,0.0025561160873621702);\">tomorrow</span> <span style=\"background-color:rgba(255,0,0,0.00588316295761615);\">is</span> <span style=\"background-color:rgba(255,0,0,0.2828901447355747);\">fucking</span> <span style=\"background-color:rgba(255,0,0,0.03096309257671237);\">april</span> <span style=\"background-color:rgba(255,0,0,0.0437042536213994);\">yes</span> <span style=\"background-color:rgba(255,0,0,0.7347181439399719);\">nigga</span>"
      ],
      "text/plain": [
       "<IPython.core.display.HTML object>"
      ]
     },
     "metadata": {},
     "output_type": "display_data"
    },
    {
     "data": {
      "text/html": [
       "<span style=\"background-color:rgba(255,0,0,0.0036003952845931053);\">where</span> <span style=\"background-color:rgba(255,0,0,0.0030337844509631395);\">were</span> <span style=\"background-color:rgba(255,0,0,0.004893431323580444);\">arya</span> <span style=\"background-color:rgba(255,0,0,0.002522178110666573);\">and</span> <span style=\"background-color:rgba(255,0,0,0.0006973156996537);\">sansa</span> <span style=\"background-color:rgba(255,0,0,0.003942445036955178);\">i</span> <span style=\"background-color:rgba(255,0,0,0.0862546730786562);\">fucking</span> <span style=\"background-color:rgba(255,0,0,0.2225654199719429);\">hate</span> d&amp;d <span style=\"background-color:rgba(255,0,0,0.002522178110666573);\">and</span> <span style=\"background-color:rgba(255,0,0,0.003942445036955178);\">i</span> <span style=\"background-color:rgba(255,0,0,0.2225654199719429);\">hate</span> <span style=\"background-color:rgba(255,0,0,0.02403152408078313);\">this</span> <span style=\"background-color:rgba(255,0,0,0.001978697837330401);\">mfing</span> <span style=\"background-color:rgba(255,0,0,0.0019418587908148766);\">show</span>"
      ],
      "text/plain": [
       "<IPython.core.display.HTML object>"
      ]
     },
     "metadata": {},
     "output_type": "display_data"
    },
    {
     "data": {
      "text/html": [
       "rt @_triplephone: <span style=\"background-color:rgba(255,0,0,0.011611738009378314);\">i</span> <span style=\"background-color:rgba(255,0,0,0.10080885142087936);\">fucking</span> <span style=\"background-color:rgba(255,0,0,0.8975671976804733);\">hate</span> <span style=\"background-color:rgba(255,0,0,0.04676938522607088);\">2k</span> <span style=\"background-color:rgba(255,0,0,0.02478951122611761);\">because</span> <span style=\"background-color:rgba(255,0,0,0.011611738009378314);\">i</span> <span style=\"background-color:rgba(255,0,0,0.10506969876587391);\">suck</span>"
      ],
      "text/plain": [
       "<IPython.core.display.HTML object>"
      ]
     },
     "metadata": {},
     "output_type": "display_data"
    },
    {
     "data": {
      "text/html": [
       "rt @2charmss: <span style=\"background-color:rgba(255,0,0,0.026067241560667753);\">y&#x27;all</span> <span style=\"background-color:rgba(255,0,0,0.018031003419309855);\">still</span> <span style=\"background-color:rgba(255,0,0,0.04448786377906799);\">calling</span> <span style=\"background-color:rgba(255,0,0,0.004815049760509282);\">women</span> <span style=\"background-color:rgba(255,0,0,0.03141302615404129);\">nappy</span> <span style=\"background-color:rgba(255,0,0,0.00799710862338543);\">headed</span> <span style=\"background-color:rgba(255,0,0,0.006678403005935252);\">in</span> 2016? <span style=\"background-color:rgba(255,0,0,0.0006148104148451239);\">you</span> <span style=\"background-color:rgba(255,0,0,0.004331554227974266);\">dog</span> <span style=\"background-color:rgba(255,0,0,0.05747197661548853);\">face</span> <span style=\"background-color:rgba(255,0,0,0.37298262119293213);\">bitches</span> <span style=\"background-color:rgba(255,0,0,0.18120300024747849);\">gotta</span> <span style=\"background-color:rgba(255,0,0,0.002799341455101967);\">grow</span> up. that's <span style=\"background-color:rgba(255,0,0,0.018243218073621392);\">why</span> <span style=\"background-color:rgba(255,0,0,0.006413787486962974);\">your</span> <span style=\"background-color:rgba(255,0,0,0.010153301991522312);\">kids</span> <span style=\"background-color:rgba(255,0,0,0.37956971675157547);\">ugly</span> <span style=\"background-color:rgba(255,0,0,0.014052432961761951);\">and</span> can't cou…"
      ],
      "text/plain": [
       "<IPython.core.display.HTML object>"
      ]
     },
     "metadata": {},
     "output_type": "display_data"
    },
    {
     "data": {
      "text/html": [
       "@bigbuzzum <span style=\"background-color:rgba(255,0,0,0.007126161362975836);\">why</span> <span style=\"background-color:rgba(255,0,0,0.008465146529488266);\">are</span> <span style=\"background-color:rgba(255,0,0,0.009519558516331017);\">people</span> <span style=\"background-color:rgba(255,0,0,0.010256095556542277);\">in</span> @pittsburghpg <span style=\"background-color:rgba(255,0,0,0.04421197343617678);\">so</span> <span style=\"background-color:rgba(255,0,0,0.6135452538728714);\">fucking</span> fat&#128569; <span style=\"background-color:rgba(255,0,0,0.05938057787716389);\">guess</span> <span style=\"background-color:rgba(255,0,0,0.036431532353162766);\">donuts</span> <span style=\"background-color:rgba(255,0,0,0.006035707774572074);\">match</span> <span style=\"background-color:rgba(255,0,0,0.006203525699675083);\">well</span> <span style=\"background-color:rgba(255,0,0,0.004230213526170701);\">with</span> <span style=\"background-color:rgba(255,0,0,0.028248263988643885);\">shitty</span> coffee?"
      ],
      "text/plain": [
       "<IPython.core.display.HTML object>"
      ]
     },
     "metadata": {},
     "output_type": "display_data"
    },
    {
     "data": {
      "text/html": [
       "rt @_dudeimvida: <span style=\"background-color:rgba(255,0,0,0.014236775459721684);\">donald</span> <span style=\"background-color:rgba(255,0,0,0.018314268672838807);\">trump</span> <span style=\"background-color:rgba(255,0,0,0.03182079177349806);\">gone</span> <span style=\"background-color:rgba(255,0,0,0.0032009012647904456);\">have</span> <span style=\"background-color:rgba(255,0,0,0.002205450873589143);\">us</span> <span style=\"background-color:rgba(255,0,0,0.002541112480685115);\">in</span> <span style=\"background-color:rgba(255,0,0,0.0032530975295230746);\">wwiii</span> &#129318;&#127997;‍♀️ <span style=\"background-color:rgba(255,0,0,0.004202549462206662);\">he</span> <span style=\"background-color:rgba(255,0,0,0.06711707916110754);\">so</span> <span style=\"background-color:rgba(255,0,0,0.24659940972924232);\">fucking</span> <span style=\"background-color:rgba(255,0,0,0.5674954503774643);\">ignorant</span> man. <span style=\"background-color:rgba(255,0,0,0.06711707916110754);\">so</span> <span style=\"background-color:rgba(255,0,0,0.07827990688383579);\">narcissistic</span>"
      ],
      "text/plain": [
       "<IPython.core.display.HTML object>"
      ]
     },
     "metadata": {},
     "output_type": "display_data"
    },
    {
     "data": {
      "text/html": [
       "rt @supahot_shopper: <span style=\"background-color:rgba(255,0,0,0.01882586511783302);\">cheating</span> <span style=\"background-color:rgba(255,0,0,0.007957140915095806);\">is</span> <span style=\"background-color:rgba(255,0,0,0.1634872518479824);\">fucking</span> <span style=\"background-color:rgba(255,0,0,0.01254333765245974);\">another</span> <span style=\"background-color:rgba(255,0,0,0.1634199544787407);\">nigga</span> <span style=\"background-color:rgba(255,0,0,0.013998836511746049);\">if</span> <span style=\"background-color:rgba(255,0,0,0.005740933702327311);\">that</span> <span style=\"background-color:rgba(255,0,0,0.21739734336733818);\">bitch</span> ain't <span style=\"background-color:rgba(255,0,0,0.045666517689824104);\">fucked</span> <span style=\"background-color:rgba(255,0,0,0.01254333765245974);\">another</span> <span style=\"background-color:rgba(255,0,0,0.1634199544787407);\">nigga</span> <span style=\"background-color:rgba(255,0,0,0.011014312040060759);\">on</span> <span style=\"background-color:rgba(255,0,0,0.007457479950971901);\">u</span> <span style=\"background-color:rgba(255,0,0,0.0037525908555835485);\">she</span> <span style=\"background-color:rgba(255,0,0,0.050657112151384354);\">aint</span> <span style=\"background-color:rgba(255,0,0,0.0235322886146605);\">cheat</span> &#129300;&#128530;..."
      ],
      "text/plain": [
       "<IPython.core.display.HTML object>"
      ]
     },
     "metadata": {},
     "output_type": "display_data"
    },
    {
     "data": {
      "text/html": [
       "<span style=\"background-color:rgba(255,0,0,0.001465693349018693);\">and</span> <span style=\"background-color:rgba(255,0,0,0.0035950294113717973);\">i</span> <span style=\"background-color:rgba(255,0,0,0.008399408543482423);\">wish</span> <span style=\"background-color:rgba(255,0,0,0.010524967219680548);\">a</span> <span style=\"background-color:rgba(255,0,0,0.39371293038129807);\">nigga</span> <span style=\"background-color:rgba(255,0,0,0.0943422969430685);\">stay</span> <span style=\"background-color:rgba(255,0,0,0.30137425288558006);\">tf</span> <span style=\"background-color:rgba(255,0,0,0.12775213457643986);\">off</span> <span style=\"background-color:rgba(255,0,0,0.01850002445280552);\">my</span> <span style=\"background-color:rgba(255,0,0,0.20807502791285515);\">fucking</span> twitter, <span style=\"background-color:rgba(255,0,0,0.019363838946446776);\">worrying</span> <span style=\"background-color:rgba(255,0,0,0.005949364276602864);\">about</span> <span style=\"background-color:rgba(255,0,0,0.00594038050621748);\">what</span> <span style=\"background-color:rgba(255,0,0,0.00037349269405240193);\">impost</span> &#128129;&#127997;"
      ],
      "text/plain": [
       "<IPython.core.display.HTML object>"
      ]
     },
     "metadata": {},
     "output_type": "display_data"
    },
    {
     "data": {
      "text/html": [
       "rt @adammichaeljr: <span style=\"background-color:rgba(255,0,0,0.010595343774184585);\">must</span> <span style=\"background-color:rgba(255,0,0,0.01538244541734457);\">be</span> <span style=\"background-color:rgba(255,0,0,0.0032079589436762035);\">2</span> rt @weavuschrist: <span style=\"background-color:rgba(255,0,0,0.0026341108605265617);\">skepta</span> <span style=\"background-color:rgba(255,0,0,0.08777408860623837);\">cold</span> <span style=\"background-color:rgba(255,0,0,0.017249027732759714);\">as</span> <span style=\"background-color:rgba(255,0,0,0.7443995773792267);\">hell</span>"
      ],
      "text/plain": [
       "<IPython.core.display.HTML object>"
      ]
     },
     "metadata": {},
     "output_type": "display_data"
    },
    {
     "data": {
      "text/html": [
       "<span style=\"background-color:rgba(255,0,0,0.00245541799813509);\">i</span> <span style=\"background-color:rgba(255,0,0,0.13919896446168423);\">hate</span> <span style=\"background-color:rgba(255,0,0,0.03971939440816641);\">someone</span> <span style=\"background-color:rgba(255,0,0,0.01600256306119263);\">who</span> <span style=\"background-color:rgba(255,0,0,0.06724901963025331);\">lie</span> <span style=\"background-color:rgba(255,0,0,0.025109625421464443);\">all</span> <span style=\"background-color:rgba(255,0,0,0.010840428294613957);\">the</span> <span style=\"background-color:rgba(255,0,0,0.26696905493736267);\">damn</span> time! <span style=\"background-color:rgba(255,0,0,0.0338859879411757);\">like</span> <span style=\"background-color:rgba(255,0,0,0.5337841436266899);\">bitch</span> &#128530;"
      ],
      "text/plain": [
       "<IPython.core.display.HTML object>"
      ]
     },
     "metadata": {},
     "output_type": "display_data"
    },
    {
     "data": {
      "text/html": [
       "<span style=\"background-color:rgba(255,0,0,0.002596694976091385);\">i</span> <span style=\"background-color:rgba(255,0,0,0.0019972391601186246);\">hope</span> <span style=\"background-color:rgba(255,0,0,0.006764860008843243);\">you</span> <span style=\"background-color:rgba(255,0,0,0.0005651010360452347);\">get</span> <span style=\"background-color:rgba(255,0,0,0.000564791371289175);\">an</span> <span style=\"background-color:rgba(255,0,0,0.005632847314700484);\">heart</span> <span style=\"background-color:rgba(255,0,0,0.02139865653589368);\">attack</span> <span style=\"background-color:rgba(255,0,0,0.006764860008843243);\">you</span> <span style=\"background-color:rgba(255,0,0,0.3428749740123749);\">stupid</span> <span style=\"background-color:rgba(255,0,0,0.7796649634838104);\">fuck</span> https://t.co/6zf7tvg3fu"
      ],
      "text/plain": [
       "<IPython.core.display.HTML object>"
      ]
     },
     "metadata": {},
     "output_type": "display_data"
    },
    {
     "data": {
      "text/html": [
       "rt @jasumatipatel: <span style=\"background-color:rgba(255,0,0,0.003543140192050487);\">a</span> <span style=\"background-color:rgba(255,0,0,0.02830458339303732);\">fat</span> <span style=\"background-color:rgba(255,0,0,0.004050804127473384);\">and</span> <span style=\"background-color:rgba(255,0,0,0.2543030120432377);\">ugly</span> <span style=\"background-color:rgba(255,0,0,0.8642654865980148);\">bitch</span> #dolasen &gt; <span style=\"background-color:rgba(255,0,0,0.04962150938808918);\">ai</span> <span style=\"background-color:rgba(255,0,0,0.0032069251756183803);\">flight</span> <span style=\"background-color:rgba(255,0,0,0.0011005714623024687);\">delayed</span> <span style=\"background-color:rgba(255,0,0,0.002093864168273285);\">after</span> <span style=\"background-color:rgba(255,0,0,0.0012198137847008184);\">tmc</span> <span style=\"background-color:rgba(255,0,0,0.00023263670300366357);\">mp</span> <span style=\"background-color:rgba(255,0,0,0.00023017624698695727);\">argues</span> <span style=\"background-color:rgba(255,0,0,0.005461581167764962);\">over</span> <span style=\"background-color:rgba(255,0,0,0.0017619661230128258);\">seating</span> <span style=\"background-color:rgba(255,0,0,0.0030874097137711942);\">arrangement</span> https://t.co/dxjtoemz0v…"
      ],
      "text/plain": [
       "<IPython.core.display.HTML object>"
      ]
     },
     "metadata": {},
     "output_type": "display_data"
    },
    {
     "data": {
      "text/html": [
       "<span style=\"background-color:rgba(255,0,0,0.021643247455358505);\">i</span> <span style=\"background-color:rgba(255,0,0,0.003366786113474518);\">dreamed</span> <span style=\"background-color:rgba(255,0,0,0.0018198664474766701);\">about</span> @dualipa <span style=\"background-color:rgba(255,0,0,0.02114689676091075);\">omg</span> <span style=\"background-color:rgba(255,0,0,0.021643247455358505);\">i</span> <span style=\"background-color:rgba(255,0,0,0.005075333174318075);\">was</span> <span style=\"background-color:rgba(255,0,0,0.008807498379610479);\">front</span> <span style=\"background-color:rgba(255,0,0,0.0027631313423626125);\">row</span> <span style=\"background-color:rgba(255,0,0,0.004996687639504671);\">and</span> <span style=\"background-color:rgba(255,0,0,0.002192821993958205);\">she</span> <span style=\"background-color:rgba(255,0,0,0.014796929899603128);\">grabbed</span> <span style=\"background-color:rgba(255,0,0,0.008502393611706793);\">my</span> <span style=\"background-color:rgba(255,0,0,0.004895466263405979);\">hand</span> <span style=\"background-color:rgba(255,0,0,0.004996687639504671);\">and</span> <span style=\"background-color:rgba(255,0,0,0.013032141141593456);\">sang</span> <span style=\"background-color:rgba(255,0,0,0.004882938228547573);\">to</span> <span style=\"background-color:rgba(255,0,0,0.009681392693892121);\">me</span> <span style=\"background-color:rgba(255,0,0,0.005629556835629046);\">but</span> <span style=\"background-color:rgba(255,0,0,0.021643247455358505);\">i</span> <span style=\"background-color:rgba(255,0,0,0.008957551326602697);\">got</span> <span style=\"background-color:rgba(255,0,0,0.02768212929368019);\">shy</span> <span style=\"background-color:rgba(255,0,0,0.004996687639504671);\">and</span> <span style=\"background-color:rgba(255,0,0,0.021643247455358505);\">i</span> <span style=\"background-color:rgba(255,0,0,0.04475865978747606);\">told</span> <span style=\"background-color:rgba(255,0,0,0.09735611267387867);\">her</span> <span style=\"background-color:rgba(255,0,0,0.021643247455358505);\">i</span> <span style=\"background-color:rgba(255,0,0,0.2099982462823391);\">hated</span> <span style=\"background-color:rgba(255,0,0,0.09735611267387867);\">her</span> <span style=\"background-color:rgba(255,0,0,0.5761869996786118);\">wtf</span>"
      ],
      "text/plain": [
       "<IPython.core.display.HTML object>"
      ]
     },
     "metadata": {},
     "output_type": "display_data"
    },
    {
     "data": {
      "text/html": [
       "rt @wwichaei: @shadesof666 <span style=\"background-color:rgba(255,0,0,0.0004900613203062676);\">sia</span> , <span style=\"background-color:rgba(255,0,0,0.0006769508036086336);\">gnash</span> , <span style=\"background-color:rgba(255,0,0,0.000857669729157351);\">selena</span> <span style=\"background-color:rgba(255,0,0,0.0003704495611600578);\">gomez</span> , <span style=\"background-color:rgba(255,0,0,0.0017580903659109026);\">ariana</span> , <span style=\"background-color:rgba(255,0,0,0.0012078776489943266);\">halsey</span> <span style=\"background-color:rgba(255,0,0,0.0007882303179940209);\">i</span> <span style=\"background-color:rgba(255,0,0,0.0008969454211182892);\">am</span> <span style=\"background-color:rgba(255,0,0,0.004503748787101358);\">so</span> <span style=\"background-color:rgba(255,0,0,0.02519562840461731);\">sorry</span> <span style=\"background-color:rgba(255,0,0,0.00660696707200259);\">that</span> <span style=\"background-color:rgba(255,0,0,0.006380492122843862);\">a</span> <span style=\"background-color:rgba(255,0,0,0.30796272680163383);\">ugly</span> <span style=\"background-color:rgba(255,0,0,0.775645300745964);\">bitch</span> <span style=\"background-color:rgba(255,0,0,0.0589854596182704);\">like</span> <span style=\"background-color:rgba(255,0,0,0.005518579273484647);\">this</span> <span style=\"background-color:rgba(255,0,0,0.0022464810172095895);\">would</span> <span style=\"background-color:rgba(255,0,0,0.003585162339732051);\">even</span> <span style=\"background-color:rgba(255,0,0,0.009769228054210544);\">say</span> something…"
      ],
      "text/plain": [
       "<IPython.core.display.HTML object>"
      ]
     },
     "metadata": {},
     "output_type": "display_data"
    },
    {
     "data": {
      "text/html": [
       "rt @handsomeassh0le: <span style=\"background-color:rgba(255,0,0,0.15775633975863457);\">bitches</span> <span style=\"background-color:rgba(255,0,0,0.013784447219222784);\">out</span> <span style=\"background-color:rgba(255,0,0,0.0023400776262860745);\">here</span> <span style=\"background-color:rgba(255,0,0,0.08858582004904747);\">fucking</span> <span style=\"background-color:rgba(255,0,0,0.02704230137169361);\">a</span> <span style=\"background-color:rgba(255,0,0,0.5241242796182632);\">nigga</span> <span style=\"background-color:rgba(255,0,0,0.190274678170681);\">cause</span> <span style=\"background-color:rgba(255,0,0,0.047076079063117504);\">they</span> <span style=\"background-color:rgba(255,0,0,0.026199412532150745);\">both</span> <span style=\"background-color:rgba(255,0,0,0.09031420573592186);\">drank</span> <span style=\"background-color:rgba(255,0,0,0.008430840098299086);\">henny</span> &#128514;&#128514;"
      ],
      "text/plain": [
       "<IPython.core.display.HTML object>"
      ]
     },
     "metadata": {},
     "output_type": "display_data"
    },
    {
     "data": {
      "text/html": [
       "rt @arizonatiana: <span style=\"background-color:rgba(255,0,0,0.0011075158545281738);\">i</span> <span style=\"background-color:rgba(255,0,0,0.06278567016124725);\">hate</span> <span style=\"background-color:rgba(255,0,0,0.23367831483483315);\">ugly</span> <span style=\"background-color:rgba(255,0,0,0.4046245291829109);\">bitches</span> <span style=\"background-color:rgba(255,0,0,0.017452319152653217);\">who</span> <span style=\"background-color:rgba(255,0,0,0.000822214424260892);\">play</span> <span style=\"background-color:rgba(255,0,0,0.0018627470126375556);\">around</span> <span style=\"background-color:rgba(255,0,0,0.000744921708246693);\">and</span> <span style=\"background-color:rgba(255,0,0,0.0036850490141659975);\">say</span> \"eww\" <span style=\"background-color:rgba(255,0,0,0.00147339902468957);\">the</span> <span style=\"background-color:rgba(255,0,0,0.001501161023043096);\">only</span> <span style=\"background-color:rgba(255,0,0,6.946782832528697e-05);\">ewww</span> <span style=\"background-color:rgba(255,0,0,0.0012089246592950076);\">thing</span> <span style=\"background-color:rgba(255,0,0,0.003547219093888998);\">is</span> <span style=\"background-color:rgba(255,0,0,0.0031833871616981924);\">you</span> <span style=\"background-color:rgba(255,0,0,0.23367831483483315);\">ugly</span> &#128514;"
      ],
      "text/plain": [
       "<IPython.core.display.HTML object>"
      ]
     },
     "metadata": {},
     "output_type": "display_data"
    },
    {
     "data": {
      "text/html": [
       "rt @chief_poole: i'm <span style=\"background-color:rgba(255,0,0,0.006352023920044303);\">still</span> <span style=\"background-color:rgba(255,0,0,0.00657442316878587);\">a</span> <span style=\"background-color:rgba(255,0,0,0.011135137174278498);\">lil</span> <span style=\"background-color:rgba(255,0,0,0.18190860748291016);\">mad</span> <span style=\"background-color:rgba(255,0,0,0.02922277431935072);\">at</span> <span style=\"background-color:rgba(255,0,0,0.005720226909033954);\">this</span> <span style=\"background-color:rgba(255,0,0,0.1769023761153221);\">racist</span> <span style=\"background-color:rgba(255,0,0,0.7689794152975082);\">hoe</span> https://t.co/ccfozypjm0"
      ],
      "text/plain": [
       "<IPython.core.display.HTML object>"
      ]
     },
     "metadata": {},
     "output_type": "display_data"
    },
    {
     "data": {
      "text/html": [
       "<span style=\"background-color:rgba(255,0,0,0.010210899636149406);\">a</span> <span style=\"background-color:rgba(255,0,0,0.06687663961201906);\">kid</span> <span style=\"background-color:rgba(255,0,0,0.15799229964613914);\">at</span> 13? <span style=\"background-color:rgba(255,0,0,0.040186201222240925);\">so</span> <span style=\"background-color:rgba(255,0,0,0.6763875484466553);\">fucking</span> <span style=\"background-color:rgba(255,0,0,0.15799229964613914);\">at</span> 12.. <span style=\"background-color:rgba(255,0,0,0.059823449701070786);\">jesus</span> <span style=\"background-color:rgba(255,0,0,0.03908618353307247);\">is</span> <span style=\"background-color:rgba(255,0,0,0.02863788278773427);\">needed</span> here. https://t.co/vvzv8ada0c"
      ],
      "text/plain": [
       "<IPython.core.display.HTML object>"
      ]
     },
     "metadata": {},
     "output_type": "display_data"
    },
    {
     "data": {
      "text/html": [
       "<span style=\"background-color:rgba(255,0,0,0.004786021891050041);\">if</span> <span style=\"background-color:rgba(255,0,0,0.025770824868232012);\">niggaz</span> ain't <span style=\"background-color:rgba(255,0,0,0.46641774475574493);\">fucking</span> <span style=\"background-color:rgba(255,0,0,0.04057636950165033);\">with</span> @troyave <span style=\"background-color:rgba(255,0,0,0.025695832446217537);\">i</span> ain't <span style=\"background-color:rgba(255,0,0,0.46641774475574493);\">fucking</span> <span style=\"background-color:rgba(255,0,0,0.04057636950165033);\">with</span> them! #powder&#128175;"
      ],
      "text/plain": [
       "<IPython.core.display.HTML object>"
      ]
     },
     "metadata": {},
     "output_type": "display_data"
    },
    {
     "data": {
      "text/html": [
       "<span style=\"background-color:rgba(255,0,0,0.005593531532213092);\">you</span> <span style=\"background-color:rgba(255,0,0,0.0031547993421554565);\">have</span> <span style=\"background-color:rgba(255,0,0,0.007617291994392872);\">always</span> <span style=\"background-color:rgba(255,0,0,0.007825777865946293);\">been</span> <span style=\"background-color:rgba(255,0,0,0.0059756997507065535);\">an</span> <span style=\"background-color:rgba(255,0,0,0.8938975632190704);\">idiot</span> &#129315; https://t.co/jqoqfah7xe"
      ],
      "text/plain": [
       "<IPython.core.display.HTML object>"
      ]
     },
     "metadata": {},
     "output_type": "display_data"
    },
    {
     "data": {
      "text/html": [
       "rt @thebreykeys: <span style=\"background-color:rgba(255,0,0,0.0005330524800228886);\">crossfitters</span> <span style=\"background-color:rgba(255,0,0,0.00035146844311384484);\">vs</span> <span style=\"background-color:rgba(255,0,0,0.004054842283949256);\">vegans</span> <span style=\"background-color:rgba(255,0,0,0.004172938643023372);\">in</span> <span style=\"background-color:rgba(255,0,0,0.001708406925899908);\">an</span> <span style=\"background-color:rgba(255,0,0,0.1096766535192728);\">annoying</span> <span style=\"background-color:rgba(255,0,0,0.5176759511232376);\">nigga</span> <span style=\"background-color:rgba(255,0,0,0.544467531144619);\">death</span> <span style=\"background-color:rgba(255,0,0,0.02821670612320304);\">match</span>"
      ],
      "text/plain": [
       "<IPython.core.display.HTML object>"
      ]
     },
     "metadata": {},
     "output_type": "display_data"
    },
    {
     "data": {
      "text/html": [
       "rt @humble_slim: \"a <span style=\"background-color:rgba(255,0,0,0.41960977017879486);\">nigga</span> <span style=\"background-color:rgba(255,0,0,0.1467612385749817);\">just</span> <span style=\"background-color:rgba(255,0,0,0.2592852711677551);\">tired</span> lawd....my bad\" https://t.co/ljjrutrew0"
      ],
      "text/plain": [
       "<IPython.core.display.HTML object>"
      ]
     },
     "metadata": {},
     "output_type": "display_data"
    },
    {
     "data": {
      "text/html": [
       "<span style=\"background-color:rgba(255,0,0,0.4369088262319565);\">nasty</span> <span style=\"background-color:rgba(255,0,0,0.20284730941057205);\">stockings</span> <span style=\"background-color:rgba(255,0,0,0.15788516029715538);\">lesbians</span> <span style=\"background-color:rgba(255,0,0,0.02161659998819232);\">go</span> <span style=\"background-color:rgba(255,0,0,0.06382748018950224);\">down</span> https://t.co/zk5dchxjcs"
      ],
      "text/plain": [
       "<IPython.core.display.HTML object>"
      ]
     },
     "metadata": {},
     "output_type": "display_data"
    },
    {
     "data": {
      "text/html": [
       "rt @sheahoellf: <span style=\"background-color:rgba(255,0,0,0.0034127221442759037);\">she</span> <span style=\"background-color:rgba(255,0,0,0.00592778145801276);\">a</span> <span style=\"background-color:rgba(255,0,0,0.3062433935701847);\">hoe</span> <span style=\"background-color:rgba(255,0,0,0.0204131449572742);\">if</span> <span style=\"background-color:rgba(255,0,0,0.019986380357295275);\">her</span> <span style=\"background-color:rgba(255,0,0,0.008505857549607754);\">and</span> <span style=\"background-color:rgba(255,0,0,0.019986380357295275);\">her</span> <span style=\"background-color:rgba(255,0,0,0.007033012225292623);\">friends</span> <span style=\"background-color:rgba(255,0,0,0.008888369193300605);\">rap</span> <span style=\"background-color:rgba(255,0,0,0.01044832170009613);\">this</span> <span style=\"background-color:rgba(255,0,0,0.05583471618592739);\">bad</span> <span style=\"background-color:rgba(255,0,0,0.008505857549607754);\">and</span> <span style=\"background-color:rgba(255,0,0,0.015103721525520086);\">are</span> <span style=\"background-color:rgba(255,0,0,0.01044832170009613);\">this</span> <span style=\"background-color:rgba(255,0,0,0.6108486652374268);\">stupid</span> https://t.co/hom8t5zzb7"
      ],
      "text/plain": [
       "<IPython.core.display.HTML object>"
      ]
     },
     "metadata": {},
     "output_type": "display_data"
    },
    {
     "data": {
      "text/html": [
       "<span style=\"background-color:rgba(255,0,0,0.0006334158388199285);\">get</span> <span style=\"background-color:rgba(255,0,0,0.012615021551027894);\">you</span> <span style=\"background-color:rgba(255,0,0,0.001987352006835863);\">a</span> <span style=\"background-color:rgba(255,0,0,0.13180379755795002);\">nigga</span> who's <span style=\"background-color:rgba(255,0,0,0.001658682303968817);\">gona</span> <span style=\"background-color:rgba(255,0,0,0.017750130500644445);\">gas</span> <span style=\"background-color:rgba(255,0,0,0.012615021551027894);\">you</span> <span style=\"background-color:rgba(255,0,0,0.014116106322035193);\">the</span> <span style=\"background-color:rgba(255,0,0,0.3501208871603012);\">fuck</span> <span style=\"background-color:rgba(255,0,0,0.35903166979551315);\">up</span> <span style=\"background-color:rgba(255,0,0,0.09983610361814499);\">even</span> <span style=\"background-color:rgba(255,0,0,0.029511323664337397);\">on</span> <span style=\"background-color:rgba(255,0,0,0.02562206471338868);\">ya</span> <span style=\"background-color:rgba(255,0,0,0.1045895554125309);\">worst</span> <span style=\"background-color:rgba(255,0,0,0.020504198037087917);\">days</span>"
      ],
      "text/plain": [
       "<IPython.core.display.HTML object>"
      ]
     },
     "metadata": {},
     "output_type": "display_data"
    },
    {
     "data": {
      "text/html": [
       "<span style=\"background-color:rgba(255,0,0,0.012546014040708542);\">i</span> <span style=\"background-color:rgba(255,0,0,0.025040721520781517);\">lost</span> <span style=\"background-color:rgba(255,0,0,0.011675246059894562);\">it</span> <span style=\"background-color:rgba(255,0,0,0.010667686583474278);\">when</span> <span style=\"background-color:rgba(255,0,0,0.012546014040708542);\">i</span> <span style=\"background-color:rgba(255,0,0,0.008042114786803722);\">seen</span> <span style=\"background-color:rgba(255,0,0,0.007857710006646812);\">the</span> <span style=\"background-color:rgba(255,0,0,0.2075345814228058);\">dirty</span> <span style=\"background-color:rgba(255,0,0,0.9148551523685455);\">nigga</span> <span style=\"background-color:rgba(255,0,0,0.015264428220689297);\">pro</span> <span style=\"background-color:rgba(255,0,0,0.0038775213761255145);\">club</span> <span style=\"background-color:rgba(255,0,0,0.0005490731564350426);\">boxer</span> <span style=\"background-color:rgba(255,0,0,5.62289005756611e-05);\">briefs</span>"
      ],
      "text/plain": [
       "<IPython.core.display.HTML object>"
      ]
     },
     "metadata": {},
     "output_type": "display_data"
    },
    {
     "data": {
      "text/html": [
       "<span style=\"background-color:rgba(255,0,0,1.0953011724268436e-05);\">kittie</span> <span style=\"background-color:rgba(255,0,0,9.242511623597238e-05);\">sweety</span> <span style=\"background-color:rgba(255,0,0,0.0018977056606672704);\">im</span> <span style=\"background-color:rgba(255,0,0,0.007219823310151696);\">so</span> <span style=\"background-color:rgba(255,0,0,0.030993502587080002);\">sorry</span> <span style=\"background-color:rgba(255,0,0,0.0014986295718699694);\">that</span> <span style=\"background-color:rgba(255,0,0,0.005982904112897813);\">a</span> <span style=\"background-color:rgba(255,0,0,0.25583459064364433);\">ugly</span> <span style=\"background-color:rgba(255,0,0,0.37311356514692307);\">ass</span> <span style=\"background-color:rgba(255,0,0,0.47116704285144806);\">bitch</span> <span style=\"background-color:rgba(255,0,0,0.029340097680687904);\">like</span> <span style=\"background-color:rgba(255,0,0,0.002679011377040297);\">this</span> <span style=\"background-color:rgba(255,0,0,0.0011505790462251753);\">would</span> <span style=\"background-color:rgba(255,0,0,0.001978118234546855);\">even</span> <span style=\"background-color:rgba(255,0,0,0.0016253945068456233);\">do</span> <span style=\"background-color:rgba(255,0,0,0.0014986295718699694);\">that</span> <span style=\"background-color:rgba(255,0,0,0.005474610952660441);\">oh</span> <span style=\"background-color:rgba(255,0,0,0.0032943947007879615);\">my</span> <span style=\"background-color:rgba(255,0,0,0.02739103278145194);\">god</span> https://t.co/mihjknkkjx"
      ],
      "text/plain": [
       "<IPython.core.display.HTML object>"
      ]
     },
     "metadata": {},
     "output_type": "display_data"
    },
    {
     "data": {
      "text/html": [
       "<span style=\"background-color:rgba(255,0,0,0.006359238177537918);\">im</span> <span style=\"background-color:rgba(255,0,0,0.08414619602262974);\">fucking</span> <span style=\"background-color:rgba(255,0,0,0.050073349848389626);\">saying</span> <span style=\"background-color:rgba(255,0,0,0.004112881142646074);\">smhh</span> <span style=\"background-color:rgba(255,0,0,0.10302288457751274);\">ungrateful</span> <span style=\"background-color:rgba(255,0,0,0.4395749792456627);\">ass</span> niggas. https://t.co/9kgcvbsisb"
      ],
      "text/plain": [
       "<IPython.core.display.HTML object>"
      ]
     },
     "metadata": {},
     "output_type": "display_data"
    },
    {
     "data": {
      "text/html": [
       "<span style=\"background-color:rgba(255,0,0,0.0019350640650372952);\">okayyyy</span> <span style=\"background-color:rgba(255,0,0,0.0020848953863605857);\">nowwwwww</span> <span style=\"background-color:rgba(255,0,0,0.01815304160118103);\">im</span> <span style=\"background-color:rgba(255,0,0,0.33772800117731094);\">mad</span> <span style=\"background-color:rgba(255,0,0,0.7831411063671112);\">nigga</span> <span style=\"background-color:rgba(255,0,0,0.02082163468003273);\">lmfaoooooo</span> <span style=\"background-color:rgba(255,0,0,0.0663298973813653);\">ew</span> https://t.co/gtocqdv20h"
      ],
      "text/plain": [
       "<IPython.core.display.HTML object>"
      ]
     },
     "metadata": {},
     "output_type": "display_data"
    },
    {
     "data": {
      "text/html": [
       "rt @josezarate620: <span style=\"background-color:rgba(255,0,0,0.0032203449518419802);\">hello</span> twitter. <span style=\"background-color:rgba(255,0,0,0.00461484509287402);\">u</span> <span style=\"background-color:rgba(255,0,0,0.3505129739642143);\">ugly</span> <span style=\"background-color:rgba(255,0,0,0.018945863703265786);\">as</span> <span style=\"background-color:rgba(255,0,0,0.5588526651263237);\">hell</span> tonight."
      ],
      "text/plain": [
       "<IPython.core.display.HTML object>"
      ]
     },
     "metadata": {},
     "output_type": "display_data"
    },
    {
     "data": {
      "text/html": [
       "rt @tbyzara: <span style=\"background-color:rgba(255,0,0,0.0019327308109495789);\">my</span> <span style=\"background-color:rgba(255,0,0,0.0034945239895023406);\">sister</span> <span style=\"background-color:rgba(255,0,0,0.003887101775035262);\">is</span> <span style=\"background-color:rgba(255,0,0,0.021750314626842737);\">so</span> <span style=\"background-color:rgba(255,0,0,0.6747972220182419);\">disgusting</span> <span style=\"background-color:rgba(255,0,0,0.08898092433810234);\">i</span> <span style=\"background-color:rgba(255,0,0,0.017388842534273863);\">hope</span> <span style=\"background-color:rgba(255,0,0,0.01013606321066618);\">she</span> <span style=\"background-color:rgba(255,0,0,0.21844085305929184);\">fucking</span> <span style=\"background-color:rgba(255,0,0,0.14240494929254055);\">dies</span>"
      ],
      "text/plain": [
       "<IPython.core.display.HTML object>"
      ]
     },
     "metadata": {},
     "output_type": "display_data"
    },
    {
     "data": {
      "text/html": [
       "rt @y0b0yj0hn: <span style=\"background-color:rgba(255,0,0,0.0036178407026454806);\">dodgeball</span> <span style=\"background-color:rgba(255,0,0,0.002494406362529844);\">team</span> <span style=\"background-color:rgba(255,0,0,0.010416783625259995);\">tonight</span> <span style=\"background-color:rgba(255,0,0,0.012368150055408478);\">is</span> <span style=\"background-color:rgba(255,0,0,0.016505017410963774);\">about</span> <span style=\"background-color:rgba(255,0,0,0.012875060783699155);\">to</span> <span style=\"background-color:rgba(255,0,0,0.023376524914056063);\">be</span> <span style=\"background-color:rgba(255,0,0,0.9248636662960052);\">fucking</span> op.. &#128563; <span style=\"background-color:rgba(255,0,0,0.028183816466480494);\">duncan</span> falls, <span style=\"background-color:rgba(255,0,0,0.0039392540929839015);\">see</span> <span style=\"background-color:rgba(255,0,0,0.004239715926814824);\">you</span> tonight! &#128520; @newlex73 @aspicer33 @claybillion @wil…"
      ],
      "text/plain": [
       "<IPython.core.display.HTML object>"
      ]
     },
     "metadata": {},
     "output_type": "display_data"
    },
    {
     "data": {
      "text/html": [
       "rt @lilbossgbetadoe: <span style=\"background-color:rgba(255,0,0,0.0008374857134185731);\">these</span> <span style=\"background-color:rgba(255,0,0,0.010802430333569646);\">bad</span> <span style=\"background-color:rgba(255,0,0,0.08618742227554321);\">bitches</span> <span style=\"background-color:rgba(255,0,0,0.00897117133717984);\">always</span> <span style=\"background-color:rgba(255,0,0,0.001382778282277286);\">b</span> <span style=\"background-color:rgba(255,0,0,0.033768792636692524);\">wit</span> <span style=\"background-color:rgba(255,0,0,0.050904168747365475);\">sum</span> <span style=\"background-color:rgba(255,0,0,0.14003240503370762);\">lame</span> <span style=\"background-color:rgba(255,0,0,0.29099298641085625);\">bum</span> <span style=\"background-color:rgba(255,0,0,0.3269699588418007);\">ass</span> <span style=\"background-color:rgba(255,0,0,0.2745439112186432);\">niggas</span> &#128514;"
      ],
      "text/plain": [
       "<IPython.core.display.HTML object>"
      ]
     },
     "metadata": {},
     "output_type": "display_data"
    },
    {
     "data": {
      "text/html": [
       "@tseslamshady <span style=\"background-color:rgba(255,0,0,0.021261898800730705);\">i</span> <span style=\"background-color:rgba(255,0,0,0.004702528822235763);\">got</span> <span style=\"background-color:rgba(255,0,0,0.009201632346957922);\">rid</span> <span style=\"background-color:rgba(255,0,0,0.003157695464324206);\">of</span> <span style=\"background-color:rgba(255,0,0,0.002638253499753773);\">mine</span> <span style=\"background-color:rgba(255,0,0,0.011045467108488083);\">because</span> <span style=\"background-color:rgba(255,0,0,0.023054422345012426);\">his</span> iv's <span style=\"background-color:rgba(255,0,0,0.014196413103491068);\">was</span> <span style=\"background-color:rgba(255,0,0,0.22253187373280525);\">bad</span> (he <span style=\"background-color:rgba(255,0,0,0.016377760330215096);\">has</span> <span style=\"background-color:rgba(255,0,0,0.27322616428136826);\">awful</span> <span style=\"background-color:rgba(255,0,0,0.3183932974934578);\">shitty</span> speed) <span style=\"background-color:rgba(255,0,0,0.021261898800730705);\">i</span> can't <span style=\"background-color:rgba(255,0,0,0.020051661413162947);\">tell</span> <span style=\"background-color:rgba(255,0,0,0.015676604816690087);\">what</span> <span style=\"background-color:rgba(255,0,0,0.0067531096283346415);\">your</span> iv's <span style=\"background-color:rgba(255,0,0,0.012995169963687658);\">are</span> :eyes:"
      ],
      "text/plain": [
       "<IPython.core.display.HTML object>"
      ]
     },
     "metadata": {},
     "output_type": "display_data"
    },
    {
     "data": {
      "text/html": [
       "@makeitsnowondem @logophobe um...sadie <span style=\"background-color:rgba(255,0,0,0.01064967829734087);\">is</span> <span style=\"background-color:rgba(255,0,0,0.007733373204246163);\">a</span> <span style=\"background-color:rgba(255,0,0,0.15760120004415512);\">fucking</span> idiot. https://t.co/tmdquusgrz"
      ],
      "text/plain": [
       "<IPython.core.display.HTML object>"
      ]
     },
     "metadata": {},
     "output_type": "display_data"
    },
    {
     "data": {
      "text/html": [
       "rt @htxdejay: <span style=\"background-color:rgba(255,0,0,0.00413888570619747);\">go</span> <span style=\"background-color:rgba(255,0,0,0.0019297530525363982);\">ahead</span> &amp; <span style=\"background-color:rgba(255,0,0,0.08857360109686852);\">fuck</span> <span style=\"background-color:rgba(255,0,0,0.014150906354188919);\">these</span> <span style=\"background-color:rgba(255,0,0,0.12941586785018444);\">nasty</span> <span style=\"background-color:rgba(255,0,0,0.35989150404930115);\">hoes</span> <span style=\"background-color:rgba(255,0,0,0.004563065594993532);\">if</span> <span style=\"background-color:rgba(255,0,0,0.00281521090073511);\">you</span> <span style=\"background-color:rgba(255,0,0,0.002877430524677038);\">want</span> <span style=\"background-color:rgba(255,0,0,0.008890357566997409);\">too</span> &#128542;. <span style=\"background-color:rgba(255,0,0,0.22890543565154076);\">niggas</span> <span style=\"background-color:rgba(255,0,0,0.0936832744628191);\">just</span> don't <span style=\"background-color:rgba(255,0,0,0.00952430535107851);\">care</span> <span style=\"background-color:rgba(255,0,0,0.004563065594993532);\">if</span> <span style=\"background-color:rgba(255,0,0,0.0084246217738837);\">they</span> <span style=\"background-color:rgba(255,0,0,0.0028288026805967093);\">get</span> <span style=\"background-color:rgba(255,0,0,0.00831102195661515);\">their</span> <span style=\"background-color:rgba(255,0,0,0.0011003550025634468);\">candlestick</span> <span style=\"background-color:rgba(255,0,0,0.02759109018370509);\">lit</span> <span style=\"background-color:rgba(255,0,0,0.1386182475835085);\">huh</span> ? &#129335;&#127998;‍♂️&#128128;&#128514;"
      ],
      "text/plain": [
       "<IPython.core.display.HTML object>"
      ]
     },
     "metadata": {},
     "output_type": "display_data"
    },
    {
     "data": {
      "text/html": [
       "rt @oghoanina: @iamakademiks @xxxtentacion <span style=\"background-color:rgba(255,0,0,0.011683477787300944);\">man</span> <span style=\"background-color:rgba(255,0,0,0.003940131573472172);\">this</span> <span style=\"background-color:rgba(255,0,0,0.11246125213801861);\">nigga</span> annoying, <span style=\"background-color:rgba(255,0,0,0.46032529324293137);\">stop</span> <span style=\"background-color:rgba(255,0,0,0.036497656255960464);\">postin</span> <span style=\"background-color:rgba(255,0,0,0.0550935510545969);\">him</span>"
      ],
      "text/plain": [
       "<IPython.core.display.HTML object>"
      ]
     },
     "metadata": {},
     "output_type": "display_data"
    },
    {
     "data": {
      "text/html": [
       "rt @hxrtlesss: <span style=\"background-color:rgba(255,0,0,0.0007658237154828385);\">you</span> <span style=\"background-color:rgba(255,0,0,0.0714820297434926);\">ugly</span> <span style=\"background-color:rgba(255,0,0,0.2459588274359703);\">af</span> <span style=\"background-color:rgba(255,0,0,0.45905783772468567);\">nigga</span> <span style=\"background-color:rgba(255,0,0,0.3346994146704674);\">shut</span> <span style=\"background-color:rgba(255,0,0,0.1060074009001255);\">up</span> https://t.co/ydtzkyq0wt"
      ],
      "text/plain": [
       "<IPython.core.display.HTML object>"
      ]
     },
     "metadata": {},
     "output_type": "display_data"
    },
    {
     "data": {
      "text/html": [
       "@filthyfrank <span style=\"background-color:rgba(255,0,0,0.007027339888736606);\">this</span> <span style=\"background-color:rgba(255,0,0,0.01439544721506536);\">is</span> <span style=\"background-color:rgba(255,0,0,0.009466863120906055);\">why</span> <span style=\"background-color:rgba(255,0,0,0.006266682175919414);\">my</span> <span style=\"background-color:rgba(255,0,0,0.01926886150613427);\">country</span> <span style=\"background-color:rgba(255,0,0,0.01439544721506536);\">is</span> hated, <span style=\"background-color:rgba(255,0,0,0.09549216367304325);\">not</span> <span style=\"background-color:rgba(255,0,0,0.048468648456037045);\">because</span> <span style=\"background-color:rgba(255,0,0,0.030677467584609985);\">the</span> <span style=\"background-color:rgba(255,0,0,0.48423372209072113);\">fucking</span> holocaust, <span style=\"background-color:rgba(255,0,0,0.06356847938150167);\">just</span> <span style=\"background-color:rgba(255,0,0,0.048468648456037045);\">because</span> <span style=\"background-color:rgba(255,0,0,0.009862059960141778);\">of</span> this."
      ],
      "text/plain": [
       "<IPython.core.display.HTML object>"
      ]
     },
     "metadata": {},
     "output_type": "display_data"
    },
    {
     "data": {
      "text/html": [
       "rt @judysounds_: <span style=\"background-color:rgba(255,0,0,0.006818787660449743);\">i</span> <span style=\"background-color:rgba(255,0,0,0.008550304337404668);\">wait</span> <span style=\"background-color:rgba(255,0,0,0.009680028888396919);\">patiently</span> <span style=\"background-color:rgba(255,0,0,0.0034160944051109254);\">to</span> <span style=\"background-color:rgba(255,0,0,0.002652712573762983);\">see</span> <span style=\"background-color:rgba(255,0,0,0.004591118195094168);\">my</span> <span style=\"background-color:rgba(255,0,0,0.017226991476491094);\">lover</span> <span style=\"background-color:rgba(255,0,0,0.20204998552799225);\">kill</span> <span style=\"background-color:rgba(255,0,0,0.013356327544897795);\">some</span> <span style=\"background-color:rgba(255,0,0,0.11818109080195427);\">bad</span> <span style=\"background-color:rgba(255,0,0,0.7387057691812515);\">bitches</span> &#128580;&#128553;&#128536;❤️ @chandlerriggs"
      ],
      "text/plain": [
       "<IPython.core.display.HTML object>"
      ]
     },
     "metadata": {},
     "output_type": "display_data"
    },
    {
     "data": {
      "text/html": [
       "@mamabear_ty @_briaplease @2syllable_erin <span style=\"background-color:rgba(255,0,0,0.32995544373989105);\">bitch</span> <span style=\"background-color:rgba(255,0,0,0.0168463378213346);\">you</span> don't <span style=\"background-color:rgba(255,0,0,0.012074874248355627);\">even</span> <span style=\"background-color:rgba(255,0,0,0.005505832377821207);\">have</span> <span style=\"background-color:rgba(255,0,0,0.013360569719225168);\">a</span> <span style=\"background-color:rgba(255,0,0,0.08381625637412071);\">hairline</span> it's <span style=\"background-color:rgba(255,0,0,0.026400627102702856);\">been</span> <span style=\"background-color:rgba(255,0,0,0.047910045832395554);\">all</span> <span style=\"background-color:rgba(255,0,0,0.447562113404274);\">bad</span> <span style=\"background-color:rgba(255,0,0,0.0448050070554018);\">for</span> <span style=\"background-color:rgba(255,0,0,0.0168463378213346);\">you</span>"
      ],
      "text/plain": [
       "<IPython.core.display.HTML object>"
      ]
     },
     "metadata": {},
     "output_type": "display_data"
    },
    {
     "data": {
      "text/html": [
       "rt @gentsrules: \"nobody <span style=\"background-color:rgba(255,0,0,0.003516643773764372);\">helps</span> <span style=\"background-color:rgba(255,0,0,0.013828235678374767);\">me</span> <span style=\"background-color:rgba(255,0,0,0.01915239030495286);\">in</span> <span style=\"background-color:rgba(255,0,0,0.01684697694145143);\">this</span> <span style=\"background-color:rgba(255,0,0,0.6137450411915779);\">fucking</span> house\" https://t.co/5lvadzbnrh"
      ],
      "text/plain": [
       "<IPython.core.display.HTML object>"
      ]
     },
     "metadata": {},
     "output_type": "display_data"
    },
    {
     "data": {
      "text/html": [
       "rt @vaguelyfunnydan: <span style=\"background-color:rgba(255,0,0,0.014470454771071672);\">gotta</span> <span style=\"background-color:rgba(255,0,0,0.0030728138517588377);\">give</span> <span style=\"background-color:rgba(255,0,0,0.012499132426455617);\">trump</span> <span style=\"background-color:rgba(255,0,0,0.002373034512856975);\">credit</span> <span style=\"background-color:rgba(255,0,0,0.0012487855565268546);\">for</span> thoroughness. he's <span style=\"background-color:rgba(255,0,0,0.10066459886729717);\">literally</span> <span style=\"background-color:rgba(255,0,0,0.1237607840448618);\">trying</span> <span style=\"background-color:rgba(255,0,0,0.02512491773813963);\">to</span> <span style=\"background-color:rgba(255,0,0,0.014049999881535769);\">do</span> <span style=\"background-color:rgba(255,0,0,0.013730592327192426);\">all</span> <span style=\"background-color:rgba(255,0,0,0.005691897822543979);\">of</span> <span style=\"background-color:rgba(255,0,0,0.008036436047405005);\">the</span> <span style=\"background-color:rgba(255,0,0,0.16125496476888657);\">awful</span> things. <span style=\"background-color:rgba(255,0,0,0.06569895893335342);\">like</span> <span style=\"background-color:rgba(255,0,0,0.036965799517929554);\">every</span> <span style=\"background-color:rgba(255,0,0,0.5114781484007835);\">fucking</span> one…"
      ],
      "text/plain": [
       "<IPython.core.display.HTML object>"
      ]
     },
     "metadata": {},
     "output_type": "display_data"
    },
    {
     "data": {
      "text/html": [
       "..are, <span style=\"background-color:rgba(255,0,0,0.010585825657472014);\">if</span> <span style=\"background-color:rgba(255,0,0,0.00941899954341352);\">you</span> aren't <span style=\"background-color:rgba(255,0,0,0.005813165917061269);\">black</span> don't <span style=\"background-color:rgba(255,0,0,0.43540075421333313);\">fucking</span> <span style=\"background-color:rgba(255,0,0,0.22589344531297684);\">say</span> <span style=\"background-color:rgba(255,0,0,0.05822438281029463);\">the</span> <span style=\"background-color:rgba(255,0,0,0.06362442392855883);\">n</span> word!!!"
      ],
      "text/plain": [
       "<IPython.core.display.HTML object>"
      ]
     },
     "metadata": {},
     "output_type": "display_data"
    },
    {
     "data": {
      "text/html": [
       "<span style=\"background-color:rgba(255,0,0,0.009176142630167305);\">me</span> <span style=\"background-color:rgba(255,0,0,0.018123131012544036);\">watching</span> <span style=\"background-color:rgba(255,0,0,0.005412347381934524);\">these</span> <span style=\"background-color:rgba(255,0,0,0.07726764772087336);\">nasty</span> <span style=\"background-color:rgba(255,0,0,0.313512459397316);\">bitches</span> <span style=\"background-color:rgba(255,0,0,0.015373635105788708);\">on</span> #lhhatl <span style=\"background-color:rgba(255,0,0,0.04633061122149229);\">brag</span> <span style=\"background-color:rgba(255,0,0,0.009563667699694633);\">about</span> <span style=\"background-color:rgba(255,0,0,0.22737938910722733);\">fucking</span> <span style=\"background-color:rgba(255,0,0,0.3524598479270935);\">married</span> <span style=\"background-color:rgba(255,0,0,0.03626362653449178);\">men</span> <span style=\"background-color:rgba(255,0,0,0.001117995780077763);\">including</span> <span style=\"background-color:rgba(255,0,0,0.002971327630802989);\">they</span> <span style=\"background-color:rgba(255,0,0,0.015875193057581782);\">boss</span> husband. https://t.co/bfho5m8gdj"
      ],
      "text/plain": [
       "<IPython.core.display.HTML object>"
      ]
     },
     "metadata": {},
     "output_type": "display_data"
    },
    {
     "data": {
      "text/html": [
       "@jkayla_bailey2 @lyrikkal <span style=\"background-color:rgba(255,0,0,0.3635823726654053);\">bitch</span> don't <span style=\"background-color:rgba(255,0,0,0.003959106106776744);\">try</span> <span style=\"background-color:rgba(255,0,0,0.0026119910762645304);\">to</span> <span style=\"background-color:rgba(255,0,0,0.02836097264662385);\">argue</span> <span style=\"background-color:rgba(255,0,0,0.012857416877523065);\">with</span> <span style=\"background-color:rgba(255,0,0,0.02963138511404395);\">me</span> &#128557;&#128557;&#128405;&#127998; <span style=\"background-color:rgba(255,0,0,0.01179917249828577);\">smd</span> <span style=\"background-color:rgba(255,0,0,0.6011355295777321);\">ugly</span>"
      ],
      "text/plain": [
       "<IPython.core.display.HTML object>"
      ]
     },
     "metadata": {},
     "output_type": "display_data"
    },
    {
     "data": {
      "text/html": [
       "<span style=\"background-color:rgba(255,0,0,0.021189493127167225);\">i</span> <span style=\"background-color:rgba(255,0,0,0.09145604446530342);\">fucking</span> <span style=\"background-color:rgba(255,0,0,0.8142931014299393);\">hate</span> <span style=\"background-color:rgba(255,0,0,0.07387650664895773);\">people</span> <span style=\"background-color:rgba(255,0,0,0.021189493127167225);\">i</span> <span style=\"background-color:rgba(255,0,0,0.17668334767222404);\">swear</span> https://t.co/qfdpepsehv"
      ],
      "text/plain": [
       "<IPython.core.display.HTML object>"
      ]
     },
     "metadata": {},
     "output_type": "display_data"
    },
    {
     "data": {
      "text/html": [
       "<span style=\"background-color:rgba(255,0,0,0.0028118654154241085);\">stamp</span> <span style=\"background-color:rgba(255,0,0,0.001871744607342407);\">if</span> <span style=\"background-color:rgba(255,0,0,0.003666816628538072);\">my</span> <span style=\"background-color:rgba(255,0,0,0.20352203398942947);\">nigga</span> <span style=\"background-color:rgba(255,0,0,0.03228481858968735);\">want</span> <span style=\"background-color:rgba(255,0,0,0.025890397373586893);\">me</span> <span style=\"background-color:rgba(255,0,0,0.007235489320009947);\">to</span> <span style=\"background-color:rgba(255,0,0,0.010216693626716733);\">be</span> <span style=\"background-color:rgba(255,0,0,0.26379749178886414);\">nasty</span> <span style=\"background-color:rgba(255,0,0,0.0685204891487956);\">all</span> <span style=\"background-color:rgba(255,0,0,0.04198270384222269);\">he</span> <span style=\"background-color:rgba(255,0,0,0.2571984753012657);\">gotta</span> <span style=\"background-color:rgba(255,0,0,0.05757827311754227);\">do</span> <span style=\"background-color:rgba(255,0,0,0.050841071642935276);\">is</span> <span style=\"background-color:rgba(255,0,0,0.01365478034131229);\">play</span> <span style=\"background-color:rgba(255,0,0,0.006584689253941178);\">some</span> <span style=\"background-color:rgba(255,0,0,0.001562063698656857);\">partynextdoor</span> &amp; it's <span style=\"background-color:rgba(255,0,0,0.052714068442583084);\">a</span> <span style=\"background-color:rgba(255,0,0,0.010818910086527467);\">wrap</span> &#128527;"
      ],
      "text/plain": [
       "<IPython.core.display.HTML object>"
      ]
     },
     "metadata": {},
     "output_type": "display_data"
    },
    {
     "data": {
      "text/html": [
       "rt @lasagnadelreyy: <span style=\"background-color:rgba(255,0,0,0.008413749164901674);\">my</span> <span style=\"background-color:rgba(255,0,0,0.05616908427327871);\">boyfriend</span> <span style=\"background-color:rgba(255,0,0,0.025366356130689383);\">is</span> <span style=\"background-color:rgba(255,0,0,0.008773967274464667);\">an</span> <span style=\"background-color:rgba(255,0,0,0.8798258751630783);\">idiot</span> https://t.co/ncdi7jcgog"
      ],
      "text/plain": [
       "<IPython.core.display.HTML object>"
      ]
     },
     "metadata": {},
     "output_type": "display_data"
    },
    {
     "data": {
      "text/html": [
       "<span style=\"background-color:rgba(255,0,0,0.018783266423270106);\">kodak</span> - <span style=\"background-color:rgba(255,0,0,0.015945396153256297);\">side</span> <span style=\"background-color:rgba(255,0,0,0.49987461417913437);\">nigga</span> ....the <span style=\"background-color:rgba(255,0,0,0.04474204033613205);\">anthem</span> <span style=\"background-color:rgba(255,0,0,0.01285883248783648);\">for</span> <span style=\"background-color:rgba(255,0,0,0.22248541936278343);\">crazy</span> <span style=\"background-color:rgba(255,0,0,0.16679776832461357);\">niggaz</span> &#128514;"
      ],
      "text/plain": [
       "<IPython.core.display.HTML object>"
      ]
     },
     "metadata": {},
     "output_type": "display_data"
    },
    {
     "data": {
      "text/html": [
       "<span style=\"background-color:rgba(255,0,0,0.004426703380886465);\">i</span> <span style=\"background-color:rgba(255,0,0,0.011853196192532778);\">cannot</span> <span style=\"background-color:rgba(255,0,0,0.03673653118312359);\">believe</span> <span style=\"background-color:rgba(255,0,0,0.023566954769194126);\">that</span> <span style=\"background-color:rgba(255,0,0,0.603085346519947);\">fucking</span> <span style=\"background-color:rgba(255,0,0,0.3484664484858513);\">giraffe</span> <span style=\"background-color:rgba(255,0,0,0.11198450811207294);\">still</span> hasn't <span style=\"background-color:rgba(255,0,0,0.005879652453586459);\">had</span> <span style=\"background-color:rgba(255,0,0,0.007634429493919015);\">the</span> baby."
      ],
      "text/plain": [
       "<IPython.core.display.HTML object>"
      ]
     },
     "metadata": {},
     "output_type": "display_data"
    },
    {
     "data": {
      "text/html": [
       "<span style=\"background-color:rgba(255,0,0,0.003924701013602316);\">i</span> <span style=\"background-color:rgba(255,0,0,0.22249342873692513);\">hate</span> <span style=\"background-color:rgba(255,0,0,0.03180163446813822);\">when</span> <span style=\"background-color:rgba(255,0,0,0.01929856021888554);\">a</span> <span style=\"background-color:rgba(255,0,0,0.48934876918792725);\">nigga</span> <span style=\"background-color:rgba(255,0,0,0.053532146848738194);\">be</span> <span style=\"background-color:rgba(255,0,0,0.1583021692931652);\">tryna</span> <span style=\"background-color:rgba(255,0,0,0.059274425730109215);\">underhand</span> flirt..,, <span style=\"background-color:rgba(255,0,0,0.0117949687410146);\">like</span> <span style=\"background-color:rgba(255,0,0,0.016821466851979494);\">boy</span> <span style=\"background-color:rgba(255,0,0,0.1157577894628048);\">bye</span>"
      ],
      "text/plain": [
       "<IPython.core.display.HTML object>"
      ]
     },
     "metadata": {},
     "output_type": "display_data"
    },
    {
     "data": {
      "text/html": [
       "rt @rosiemudie: <span style=\"background-color:rgba(255,0,0,0.0045464743743650615);\">a</span> <span style=\"background-color:rgba(255,0,0,0.3427417203783989);\">hate</span> <span style=\"background-color:rgba(255,0,0,0.0029821673524565995);\">lassies</span> <span style=\"background-color:rgba(255,0,0,0.0064182066125795245);\">that</span> <span style=\"background-color:rgba(255,0,0,0.01864559482783079);\">think</span> they're <span style=\"background-color:rgba(255,0,0,0.022711253259330988);\">intimidating</span> <span style=\"background-color:rgba(255,0,0,0.3225547820329666);\">fuck</span> <span style=\"background-color:rgba(255,0,0,0.22674178704619408);\">off</span> <span style=\"background-color:rgba(255,0,0,0.16437750309705734);\">creep</span>"
      ],
      "text/plain": [
       "<IPython.core.display.HTML object>"
      ]
     },
     "metadata": {},
     "output_type": "display_data"
    },
    {
     "data": {
      "text/html": [
       "<span style=\"background-color:rgba(255,0,0,0.0011235266720177606);\">not</span> <span style=\"background-color:rgba(255,0,0,0.0007133274630177766);\">only</span> <span style=\"background-color:rgba(255,0,0,0.0018526970234233886);\">is</span> <span style=\"background-color:rgba(255,0,0,0.0020017939095851034);\">this</span> <span style=\"background-color:rgba(255,0,0,0.020138544496148825);\">terrible</span> <span style=\"background-color:rgba(255,0,0,0.0045811786549165845);\">and</span> <span style=\"background-color:rgba(255,0,0,0.005956403911113739);\">all</span> <span style=\"background-color:rgba(255,0,0,0.02468980848789215);\">over</span> <span style=\"background-color:rgba(255,0,0,0.008535839151591063);\">the</span> place...i <span style=\"background-color:rgba(255,0,0,0.2775190770626068);\">hate</span> <span style=\"background-color:rgba(255,0,0,0.0639765290543437);\">his</span> <span style=\"background-color:rgba(255,0,0,0.40737830102443695);\">fucking</span> <span style=\"background-color:rgba(255,0,0,0.025207300204783678);\">makeup</span> <span style=\"background-color:rgba(255,0,0,0.01104360562749207);\">so</span> <span style=\"background-color:rgba(255,0,0,0.0033185843494720757);\">much</span> it's <span style=\"background-color:rgba(255,0,0,0.01104360562749207);\">so</span> <span style=\"background-color:rgba(255,0,0,0.3179021179676056);\">ugly</span> https://t.co/3bysrqacpy"
      ],
      "text/plain": [
       "<IPython.core.display.HTML object>"
      ]
     },
     "metadata": {},
     "output_type": "display_data"
    },
    {
     "data": {
      "text/html": [
       "<span style=\"background-color:rgba(255,0,0,0.0026465029804967344);\">my</span> <span style=\"background-color:rgba(255,0,0,0.003953259147237986);\">dad</span> <span style=\"background-color:rgba(255,0,0,0.007771584787406027);\">got</span> <span style=\"background-color:rgba(255,0,0,0.08259790949523449);\">stupid</span> <span style=\"background-color:rgba(255,0,0,0.4212398827075958);\">mad</span> <span style=\"background-color:rgba(255,0,0,0.021227532997727394);\">yesterday</span> <span style=\"background-color:rgba(255,0,0,0.0067122012842446566);\">that</span> <span style=\"background-color:rgba(255,0,0,0.007346029742620885);\">he</span> <span style=\"background-color:rgba(255,0,0,0.008211644017137587);\">went</span> <span style=\"background-color:rgba(255,0,0,0.004125518316868693);\">to</span> <span style=\"background-color:rgba(255,0,0,0.0026465029804967344);\">my</span> <span style=\"background-color:rgba(255,0,0,0.01707848277874291);\">room</span> <span style=\"background-color:rgba(255,0,0,0.007771584787406027);\">got</span> <span style=\"background-color:rgba(255,0,0,0.00609177746810019);\">all</span> <span style=\"background-color:rgba(255,0,0,0.0026465029804967344);\">my</span> <span style=\"background-color:rgba(255,0,0,0.005271897534839809);\">clothes</span> <span style=\"background-color:rgba(255,0,0,0.0014381506480276585);\">and</span> <span style=\"background-color:rgba(255,0,0,0.0026465029804967344);\">my</span> <span style=\"background-color:rgba(255,0,0,0.001727503549773246);\">makeup</span> <span style=\"background-color:rgba(255,0,0,0.008889451855793595);\">threw</span> <span style=\"background-color:rgba(255,0,0,0.006316773360595107);\">them</span> <span style=\"background-color:rgba(255,0,0,0.003089133242610842);\">outside</span> <span style=\"background-color:rgba(255,0,0,0.0026465029804967344);\">my</span> door. <span style=\"background-color:rgba(255,0,0,0.006488035432994366);\">i</span> <span style=\"background-color:rgba(255,0,0,0.25077013298869133);\">hate</span> <span style=\"background-color:rgba(255,0,0,0.16548018902540207);\">him</span> <span style=\"background-color:rgba(255,0,0,0.13031041249632835);\">so</span> much."
      ],
      "text/plain": [
       "<IPython.core.display.HTML object>"
      ]
     },
     "metadata": {},
     "output_type": "display_data"
    },
    {
     "data": {
      "text/html": [
       "<span style=\"background-color:rgba(255,0,0,0.0018831895431503654);\">but</span> <span style=\"background-color:rgba(255,0,0,0.00411102402722463);\">i</span> <span style=\"background-color:rgba(255,0,0,0.03419157583266497);\">told</span> <span style=\"background-color:rgba(255,0,0,0.0397054897621274);\">her</span> <span style=\"background-color:rgba(255,0,0,0.019436738220974803);\">baby</span> don't <span style=\"background-color:rgba(255,0,0,0.00119260250357911);\">use</span> <span style=\"background-color:rgba(255,0,0,0.0034171860897913575);\">me</span> <span style=\"background-color:rgba(255,0,0,0.0016685154696460813);\">if</span> <span style=\"background-color:rgba(255,0,0,0.0015807322051841766);\">you</span> <span style=\"background-color:rgba(255,0,0,0.02356426790356636);\">tryna</span> <span style=\"background-color:rgba(255,0,0,0.0020330751431174576);\">make</span> <span style=\"background-color:rgba(255,0,0,0.006218396010808647);\">ur</span> <span style=\"background-color:rgba(255,0,0,0.173232052475214);\">nigga</span> <span style=\"background-color:rgba(255,0,0,0.8438418805599213);\">mad</span> &#129300;"
      ],
      "text/plain": [
       "<IPython.core.display.HTML object>"
      ]
     },
     "metadata": {},
     "output_type": "display_data"
    },
    {
     "data": {
      "text/html": [
       "<span style=\"background-color:rgba(255,0,0,0.0020484458946157247);\">these</span> <span style=\"background-color:rgba(255,0,0,0.058539025485515594);\">niggas</span> <span style=\"background-color:rgba(255,0,0,0.018526169005781412);\">at</span> <span style=\"background-color:rgba(255,0,0,0.03609660314396024);\">ma</span> <span style=\"background-color:rgba(255,0,0,0.008625202463008463);\">be</span> <span style=\"background-color:rgba(255,0,0,0.017847419949248433);\">trying</span> <span style=\"background-color:rgba(255,0,0,0.006077916477806866);\">to</span> <span style=\"background-color:rgba(255,0,0,0.004182466946076602);\">show</span> <span style=\"background-color:rgba(255,0,0,0.002411490277154371);\">off</span> <span style=\"background-color:rgba(255,0,0,0.006728016305714846);\">they</span> <span style=\"background-color:rgba(255,0,0,0.0019897520542144775);\">polo</span> <span style=\"background-color:rgba(255,0,0,0.00013100050637149252);\">boxers</span> <span style=\"background-color:rgba(255,0,0,0.002411490277154371);\">off</span> <span style=\"background-color:rgba(255,0,0,0.012783329002559185);\">so</span> <span style=\"background-color:rgba(255,0,0,0.10455498471856117);\">bad</span> &#128514; <span style=\"background-color:rgba(255,0,0,0.016920588677749038);\">we</span> <span style=\"background-color:rgba(255,0,0,0.00528034579474479);\">see</span> <span style=\"background-color:rgba(255,0,0,0.006728016305714846);\">they</span> <span style=\"background-color:rgba(255,0,0,0.011335744056850672);\">in</span> <span style=\"background-color:rgba(255,0,0,0.046106656081974506);\">yo</span> <span style=\"background-color:rgba(255,0,0,0.4809856042265892);\">ass</span> bro&#128128;"
      ],
      "text/plain": [
       "<IPython.core.display.HTML object>"
      ]
     },
     "metadata": {},
     "output_type": "display_data"
    },
    {
     "data": {
      "text/html": [
       "rt @mobuckets_: <span style=\"background-color:rgba(255,0,0,0.15561005100607872);\">holy</span> <span style=\"background-color:rgba(255,0,0,0.8931276947259903);\">shit</span> <span style=\"background-color:rgba(255,0,0,0.012055477127432823);\">kobetards</span> <span style=\"background-color:rgba(255,0,0,0.02123587764799595);\">are</span> #pathetic!"
      ],
      "text/plain": [
       "<IPython.core.display.HTML object>"
      ]
     },
     "metadata": {},
     "output_type": "display_data"
    },
    {
     "data": {
      "text/html": [
       "rt @poonslyr: <span style=\"background-color:rgba(255,0,0,0.0011772145080612972);\">how</span> <span style=\"background-color:rgba(255,0,0,0.0014952567289583385);\">do</span> <span style=\"background-color:rgba(255,0,0,0.05114933010190725);\">niggas</span> <span style=\"background-color:rgba(255,0,0,0.018679428612813354);\">drink</span> <span style=\"background-color:rgba(255,0,0,0.0037955923471599817);\">beer</span> <span style=\"background-color:rgba(255,0,0,0.022644444834440947);\">bro</span> <span style=\"background-color:rgba(255,0,0,0.005939343245700002);\">that</span> <span style=\"background-color:rgba(255,0,0,0.08741454221308231);\">shit</span> <span style=\"background-color:rgba(255,0,0,0.03196196863427758);\">is</span> <span style=\"background-color:rgba(255,0,0,0.8798163384199142);\">disgusting</span>"
      ],
      "text/plain": [
       "<IPython.core.display.HTML object>"
      ]
     },
     "metadata": {},
     "output_type": "display_data"
    },
    {
     "data": {
      "text/html": [
       "rt @curvables: <span style=\"background-color:rgba(255,0,0,0.3320644050836563);\">ugly</span> <span style=\"background-color:rgba(255,0,0,0.7574700564146042);\">niggas</span> <span style=\"background-color:rgba(255,0,0,0.04538733046501875);\">be</span> <span style=\"background-color:rgba(255,0,0,0.02985199447721243);\">like</span> http://t.co/xcslpodqsh"
      ],
      "text/plain": [
       "<IPython.core.display.HTML object>"
      ]
     },
     "metadata": {},
     "output_type": "display_data"
    },
    {
     "data": {
      "text/html": [
       "rt @zimmerman44: .@hillaryclinton you're <span style=\"background-color:rgba(255,0,0,0.0025665119756013155);\">one</span> <span style=\"background-color:rgba(255,0,0,0.07838466204702854);\">crazy</span> <span style=\"background-color:rgba(255,0,0,0.9846135973930359);\">bitch</span>"
      ],
      "text/plain": [
       "<IPython.core.display.HTML object>"
      ]
     },
     "metadata": {},
     "output_type": "display_data"
    },
    {
     "data": {
      "text/html": [
       "@chrisldnl @tulsigabbard @realdonaldtrump you're <span style=\"background-color:rgba(255,0,0,0.2815575711429119);\">fucking</span> <span style=\"background-color:rgba(255,0,0,0.8142681419849396);\">insane</span> <span style=\"background-color:rgba(255,0,0,0.037518334574997425);\">if</span> <span style=\"background-color:rgba(255,0,0,0.009478430729359388);\">you</span> <span style=\"background-color:rgba(255,0,0,0.01592524698935449);\">think</span> <span style=\"background-color:rgba(255,0,0,0.0031839602161198854);\">any</span> <span style=\"background-color:rgba(255,0,0,0.004060200008098036);\">of</span> @potus \"web security\" measures… https://t.co/g7bfu1p1vu"
      ],
      "text/plain": [
       "<IPython.core.display.HTML object>"
      ]
     },
     "metadata": {},
     "output_type": "display_data"
    },
    {
     "data": {
      "text/html": [
       "<span style=\"background-color:rgba(255,0,0,0.30487073585391045);\">nasty</span> <span style=\"background-color:rgba(255,0,0,0.1466289721429348);\">brunette</span> <span style=\"background-color:rgba(255,0,0,0.5501686781644821);\">bitches</span> <span style=\"background-color:rgba(255,0,0,0.008866540156304836);\">get</span> <span style=\"background-color:rgba(255,0,0,0.0008033298217924312);\">pounded</span> <span style=\"background-color:rgba(255,0,0,0.004369350208435208);\">hard</span> https://t.co/xmptp3uu2i"
      ],
      "text/plain": [
       "<IPython.core.display.HTML object>"
      ]
     },
     "metadata": {},
     "output_type": "display_data"
    },
    {
     "data": {
      "text/html": [
       "rt @kforkist: <span style=\"background-color:rgba(255,0,0,0.0009987869998440146);\">if</span> <span style=\"background-color:rgba(255,0,0,0.0033200575853697956);\">you</span> <span style=\"background-color:rgba(255,0,0,0.0006512279651360586);\">have</span> <span style=\"background-color:rgba(255,0,0,0.007070322171784937);\">my</span> <span style=\"background-color:rgba(255,0,0,0.0006953759293537587);\">ip</span> <span style=\"background-color:rgba(255,0,0,0.000735735084163025);\">and</span> <span style=\"background-color:rgba(255,0,0,0.004723142774309963);\">say</span> <span style=\"background-color:rgba(255,0,0,0.004571854951791465);\">that</span> <span style=\"background-color:rgba(255,0,0,0.0033200575853697956);\">you</span> <span style=\"background-color:rgba(255,0,0,0.0041634400258772075);\">will</span> <span style=\"background-color:rgba(255,0,0,0.005896971561014652);\">ddos</span> <span style=\"background-color:rgba(255,0,0,0.014644252369180322);\">me</span> <span style=\"background-color:rgba(255,0,0,0.030293201562017202);\">why</span> <span style=\"background-color:rgba(255,0,0,0.036244934890419245);\">not</span> <span style=\"background-color:rgba(255,0,0,0.01518566976301372);\">do</span> it. <span style=\"background-color:rgba(255,0,0,0.27524011209607124);\">fucking</span> <span style=\"background-color:rgba(255,0,0,0.7119831442832947);\">pussy</span> <span style=\"background-color:rgba(255,0,0,0.06085596513003111);\">who</span> <span style=\"background-color:rgba(255,0,0,0.00809763849247247);\">types</span> <span style=\"background-color:rgba(255,0,0,0.005672488478012383);\">a</span> <span style=\"background-color:rgba(255,0,0,0.00517924374435097);\">random</span> <span style=\"background-color:rgba(255,0,0,0.002053188654826954);\">numbers</span> <span style=\"background-color:rgba(255,0,0,0.000735735084163025);\">and</span> <span style=\"background-color:rgba(255,0,0,0.001161831823992543);\">claimed</span> <span style=\"background-color:rgba(255,0,0,0.001918166526593268);\">it</span> <span style=\"background-color:rgba(255,0,0,0.004564066766761243);\">was</span> my…"
      ],
      "text/plain": [
       "<IPython.core.display.HTML object>"
      ]
     },
     "metadata": {},
     "output_type": "display_data"
    },
    {
     "data": {
      "text/html": [
       "rt @kurtschlichter: <span style=\"background-color:rgba(255,0,0,0.12335139326751232);\">fucking</span> bastards. https://t.co/2yoy4ymith"
      ],
      "text/plain": [
       "<IPython.core.display.HTML object>"
      ]
     },
     "metadata": {},
     "output_type": "display_data"
    },
    {
     "data": {
      "text/html": [
       "rt @whyyoupetty: <span style=\"background-color:rgba(255,0,0,0.017710926476866007);\">she</span> <span style=\"background-color:rgba(255,0,0,0.0008352156146429479);\">talk</span> <span style=\"background-color:rgba(255,0,0,0.009694586042314768);\">crazy</span> <span style=\"background-color:rgba(255,0,0,0.0012940826127305627);\">to</span> everybody, ain't <span style=\"background-color:rgba(255,0,0,0.0008690845425007865);\">got</span> <span style=\"background-color:rgba(255,0,0,0.0004672805152949877);\">no</span> respect. <span style=\"background-color:rgba(255,0,0,0.017710926476866007);\">she</span> <span style=\"background-color:rgba(255,0,0,0.10544296354055405);\">hate</span> <span style=\"background-color:rgba(255,0,0,0.5365739390254021);\">bitch</span> niggas, <span style=\"background-color:rgba(255,0,0,0.017710926476866007);\">she</span> <span style=\"background-color:rgba(255,0,0,0.007865744992159307);\">like</span> <span style=\"background-color:rgba(255,0,0,0.0012940826127305627);\">to</span> <span style=\"background-color:rgba(255,0,0,0.010413965210318565);\">spit</span> <span style=\"background-color:rgba(255,0,0,0.002034389035543427);\">on</span> niggas."
      ],
      "text/plain": [
       "<IPython.core.display.HTML object>"
      ]
     },
     "metadata": {},
     "output_type": "display_data"
    },
    {
     "data": {
      "text/html": [
       "&#128514;&#128514;&#128514; <span style=\"background-color:rgba(255,0,0,0.04949051421135664);\">im</span> <span style=\"background-color:rgba(255,0,0,0.02972977003082633);\">always</span> <span style=\"background-color:rgba(255,0,0,0.06370066199451685);\">cutting</span> <span style=\"background-color:rgba(255,0,0,0.0650764349848032);\">her</span> off.... &#128553; can't <span style=\"background-color:rgba(255,0,0,0.01912372768856585);\">take</span> <span style=\"background-color:rgba(255,0,0,0.013917903415858746);\">this</span> <span style=\"background-color:rgba(255,0,0,0.5423750728368759);\">nigga</span> <span style=\"background-color:rgba(255,0,0,0.050252354703843594);\">no</span> where. #shotsfired #phuketbound… https://t.co/ndlk9ayzj7"
      ],
      "text/plain": [
       "<IPython.core.display.HTML object>"
      ]
     },
     "metadata": {},
     "output_type": "display_data"
    },
    {
     "data": {
      "text/html": [
       "rt @shawtydownunder: <span style=\"background-color:rgba(255,0,0,0.0006901476444909349);\">if</span> <span style=\"background-color:rgba(255,0,0,0.0005213614713284187);\">your</span> <span style=\"background-color:rgba(255,0,0,0.0483112595975399);\">nigga</span> <span style=\"background-color:rgba(255,0,0,0.012264881515875459);\">is</span> <span style=\"background-color:rgba(255,0,0,0.06414774339646101);\">cheating</span> <span style=\"background-color:rgba(255,0,0,0.007931191357783973);\">on</span> <span style=\"background-color:rgba(255,0,0,0.003235936164855957);\">you</span> <span style=\"background-color:rgba(255,0,0,0.0010380805906606838);\">and</span> <span style=\"background-color:rgba(255,0,0,0.003235936164855957);\">you</span> <span style=\"background-color:rgba(255,0,0,0.0003675920015666634);\">check</span> <span style=\"background-color:rgba(255,0,0,0.0006243128154892474);\">the</span> <span style=\"background-color:rgba(255,0,0,0.7470972090959549);\">bitch</span> <span style=\"background-color:rgba(255,0,0,0.019909969996660948);\">before</span> <span style=\"background-color:rgba(255,0,0,0.003235936164855957);\">you</span> <span style=\"background-color:rgba(255,0,0,0.0003675920015666634);\">check</span> <span style=\"background-color:rgba(255,0,0,0.002064432919723913);\">yo</span> <span style=\"background-color:rgba(255,0,0,0.0483112595975399);\">nigga</span> <span style=\"background-color:rgba(255,0,0,0.003235936164855957);\">you</span> <span style=\"background-color:rgba(255,0,0,0.002629052905831486);\">a</span> <span style=\"background-color:rgba(255,0,0,0.1601141132414341);\">stupid</span> bitch, <span style=\"background-color:rgba(255,0,0,0.03159127663820982);\">she</span> don't <span style=\"background-color:rgba(255,0,0,0.008633474353700876);\">owe</span> y…"
      ],
      "text/plain": [
       "<IPython.core.display.HTML object>"
      ]
     },
     "metadata": {},
     "output_type": "display_data"
    },
    {
     "data": {
      "text/html": [
       "<span style=\"background-color:rgba(255,0,0,0.28844572603702545);\">hate</span> <span style=\"background-color:rgba(255,0,0,0.11731269769370556);\">watching</span> <span style=\"background-color:rgba(255,0,0,0.045518092811107635);\">guys</span> <span style=\"background-color:rgba(255,0,0,0.0030459140543825924);\">play</span> <span style=\"background-color:rgba(255,0,0,0.011416259221732616);\">the</span> <span style=\"background-color:rgba(255,0,0,0.40468450635671616);\">damn</span> <span style=\"background-color:rgba(255,0,0,0.0132791290525347);\">game</span> <span style=\"background-color:rgba(255,0,0,0.013967477716505527);\">all</span> <span style=\"background-color:rgba(255,0,0,0.011416259221732616);\">the</span> <span style=\"background-color:rgba(255,0,0,0.40468450635671616);\">damn</span> <span style=\"background-color:rgba(255,0,0,0.06700954865664244);\">time</span> &#128528;"
      ],
      "text/plain": [
       "<IPython.core.display.HTML object>"
      ]
     },
     "metadata": {},
     "output_type": "display_data"
    },
    {
     "data": {
      "text/html": [
       "<span style=\"background-color:rgba(255,0,0,0.001565103157190606);\">the</span> <span style=\"background-color:rgba(255,0,0,0.002467031590640545);\">dedication</span> <span style=\"background-color:rgba(255,0,0,0.0010128619760507718);\">some</span> <span style=\"background-color:rgba(255,0,0,0.0010427454981254414);\">of</span> <span style=\"background-color:rgba(255,0,0,0.15052945353090763);\">y&#x27;all</span> have. <span style=\"background-color:rgba(255,0,0,0.004367255896795541);\">i</span> <span style=\"background-color:rgba(255,0,0,0.005713781574741006);\">truly</span> <span style=\"background-color:rgba(255,0,0,0.012199294287711382);\">feel</span> <span style=\"background-color:rgba(255,0,0,0.005176220438443124);\">second</span> <span style=\"background-color:rgba(255,0,0,0.005600492586381733);\">hand</span> embarrassment. <span style=\"background-color:rgba(255,0,0,0.03078738460317254);\">wish</span> <span style=\"background-color:rgba(255,0,0,0.15052945353090763);\">y&#x27;all</span> weren't <span style=\"background-color:rgba(255,0,0,0.5056024715304375);\">ugly</span> <span style=\"background-color:rgba(255,0,0,0.01928244368173182);\">as</span> <span style=\"background-color:rgba(255,0,0,0.31396549195051193);\">hell</span> https://t.co/m1gnalagki"
      ],
      "text/plain": [
       "<IPython.core.display.HTML object>"
      ]
     },
     "metadata": {},
     "output_type": "display_data"
    },
    {
     "data": {
      "text/html": [
       "rt @amipinke: <span style=\"background-color:rgba(255,0,0,0.0100110680796206);\">i</span> <span style=\"background-color:rgba(255,0,0,0.03331748303025961);\">really</span> don't <span style=\"background-color:rgba(255,0,0,0.014563006116077304);\">be</span> <span style=\"background-color:rgba(255,0,0,0.5356119573116302);\">fucking</span> <span style=\"background-color:rgba(255,0,0,0.053956275805830956);\">with</span> <span style=\"background-color:rgba(255,0,0,0.019788690842688084);\">these</span> <span style=\"background-color:rgba(255,0,0,0.39110489189624786);\">niggas</span>"
      ],
      "text/plain": [
       "<IPython.core.display.HTML object>"
      ]
     },
     "metadata": {},
     "output_type": "display_data"
    },
    {
     "data": {
      "text/html": [
       "rt @thealmightyso_: <span style=\"background-color:rgba(255,0,0,0.3109936788678169);\">niggas</span> <span style=\"background-color:rgba(255,0,0,0.05299634765833616);\">be</span> <span style=\"background-color:rgba(255,0,0,0.0075529300374910235);\">geeked</span> <span style=\"background-color:rgba(255,0,0,0.03200346138328314);\">like</span> <span style=\"background-color:rgba(255,0,0,0.03443464636802673);\">i</span> <span style=\"background-color:rgba(255,0,0,0.32685019075870514);\">fucked</span> <span style=\"background-color:rgba(255,0,0,0.15761548653244972);\">em</span> <span style=\"background-color:rgba(255,0,0,0.019487306708469987);\">or</span> <span style=\"background-color:rgba(255,0,0,0.12637432664632797);\">sum</span>"
      ],
      "text/plain": [
       "<IPython.core.display.HTML object>"
      ]
     },
     "metadata": {},
     "output_type": "display_data"
    },
    {
     "data": {
      "text/html": [
       "rt @ooh_behave: <span style=\"background-color:rgba(255,0,0,0.027643926441669464);\">dude</span> <span style=\"background-color:rgba(255,0,0,0.014611058868467808);\">just</span> <span style=\"background-color:rgba(255,0,0,0.01127449912019074);\">won</span> <span style=\"background-color:rgba(255,0,0,0.01682167872786522);\">a</span> hypixel, <span style=\"background-color:rgba(255,0,0,0.010385087225586176);\">too</span> <span style=\"background-color:rgba(255,0,0,0.02823919989168644);\">bad</span> <span style=\"background-color:rgba(255,0,0,0.021421173587441444);\">i</span> <span style=\"background-color:rgba(255,0,0,0.007478538318537176);\">got</span> <span style=\"background-color:rgba(255,0,0,0.05437238607555628);\">called</span> <span style=\"background-color:rgba(255,0,0,0.01682167872786522);\">a</span> <span style=\"background-color:rgba(255,0,0,0.13528896495699883);\">nigger</span> <span style=\"background-color:rgba(255,0,0,0.5560222640633583);\">cunt</span> <span style=\"background-color:rgba(255,0,0,0.22162104025483131);\">fag</span> :/ <span style=\"background-color:rgba(255,0,0,0.0074248161399737);\">feels</span> <span style=\"background-color:rgba(255,0,0,0.02823919989168644);\">bad</span> <span style=\"background-color:rgba(255,0,0,0.02465212717652321);\">man</span> ://"
      ],
      "text/plain": [
       "<IPython.core.display.HTML object>"
      ]
     },
     "metadata": {},
     "output_type": "display_data"
    },
    {
     "data": {
      "text/html": [
       "@pattlcake <span style=\"background-color:rgba(255,0,0,0.026078098453581333);\">like</span> there's <span style=\"background-color:rgba(255,0,0,0.013824189081788063);\">even</span> <span style=\"background-color:rgba(255,0,0,0.003466014750301838);\">one</span> <span style=\"background-color:rgba(255,0,0,0.009793748613446951);\">in</span> <span style=\"background-color:rgba(255,0,0,0.013077703770250082);\">my</span> <span style=\"background-color:rgba(255,0,0,0.014248971128836274);\">school</span> <span style=\"background-color:rgba(255,0,0,0.0071134441532194614);\">and</span> <span style=\"background-color:rgba(255,0,0,0.01897805603221059);\">he</span> <span style=\"background-color:rgba(255,0,0,0.7739283889532089);\">fucking</span> <span style=\"background-color:rgba(255,0,0,0.2702132984995842);\">treats</span> <span style=\"background-color:rgba(255,0,0,0.0222571543417871);\">women</span> <span style=\"background-color:rgba(255,0,0,0.026078098453581333);\">like</span> <span style=\"background-color:rgba(255,0,0,0.005304490914568305);\">objects</span>"
      ],
      "text/plain": [
       "<IPython.core.display.HTML object>"
      ]
     },
     "metadata": {},
     "output_type": "display_data"
    },
    {
     "data": {
      "text/html": [
       "rt @freindtrey: @skinnysnubbull <span style=\"background-color:rgba(255,0,0,0.0018258630007039756);\">japans</span> <span style=\"background-color:rgba(255,0,0,0.005495478981174529);\">flag</span> <span style=\"background-color:rgba(255,0,0,0.011867160210385919);\">is</span> <span style=\"background-color:rgba(255,0,0,0.022934447042644024);\">a</span> <span style=\"background-color:rgba(255,0,0,0.7381675392389297);\">fucking</span> <span style=\"background-color:rgba(255,0,0,0.35483941435813904);\">period</span>"
      ],
      "text/plain": [
       "<IPython.core.display.HTML object>"
      ]
     },
     "metadata": {},
     "output_type": "display_data"
    },
    {
     "data": {
      "text/html": [
       "rt @nikaillwife: <span style=\"background-color:rgba(255,0,0,0.047440933994948864);\">hate</span> <span style=\"background-color:rgba(255,0,0,0.010178418597206473);\">a</span> <span style=\"background-color:rgba(255,0,0,0.20043160766363144);\">bitch</span> <span style=\"background-color:rgba(255,0,0,0.37861358374357224);\">nigga</span> <span style=\"background-color:rgba(255,0,0,0.37861358374357224);\">nigga</span> <span style=\"background-color:rgba(255,0,0,0.06029314827173948);\">man</span> <span style=\"background-color:rgba(255,0,0,0.03309356980025768);\">up</span> <span style=\"background-color:rgba(255,0,0,0.0702053727582097);\">cry</span> <span style=\"background-color:rgba(255,0,0,0.009128761594183743);\">baby</span> <span style=\"background-color:rgba(255,0,0,0.04943362437188625);\">ass</span>"
      ],
      "text/plain": [
       "<IPython.core.display.HTML object>"
      ]
     },
     "metadata": {},
     "output_type": "display_data"
    },
    {
     "data": {
      "text/html": [
       "<span style=\"background-color:rgba(255,0,0,0.12064481154084206);\">niggas</span> <span style=\"background-color:rgba(255,0,0,0.031982678920030594);\">is</span> <span style=\"background-color:rgba(255,0,0,0.7093711197376251);\">annoying</span> &#128514; <span style=\"background-color:rgba(255,0,0,0.06537425797432661);\">my</span> <span style=\"background-color:rgba(255,0,0,0.15989797189831734);\">shorty</span> <span style=\"background-color:rgba(255,0,0,0.020028233993798494);\">on</span> <span style=\"background-color:rgba(255,0,0,0.03249802393838763);\">lock</span> don't <span style=\"background-color:rgba(255,0,0,0.002279107866343111);\">try</span> &#128483; <span style=\"background-color:rgba(255,0,0,0.014373146696016192);\">wasting</span> <span style=\"background-color:rgba(255,0,0,0.004168335581198335);\">your</span> <span style=\"background-color:rgba(255,0,0,0.004689939960371703);\">time</span>"
      ],
      "text/plain": [
       "<IPython.core.display.HTML object>"
      ]
     },
     "metadata": {},
     "output_type": "display_data"
    },
    {
     "data": {
      "text/html": [
       "rt @htxse: <span style=\"background-color:rgba(255,0,0,0.0016976517508737743);\">if</span> <span style=\"background-color:rgba(255,0,0,0.005033554043620825);\">you</span> ain't <span style=\"background-color:rgba(255,0,0,0.003934328560717404);\">my</span> <span style=\"background-color:rgba(255,0,0,0.1385587640106678);\">nigga</span> <span style=\"background-color:rgba(255,0,0,0.019599818624556065);\">then</span> <span style=\"background-color:rgba(255,0,0,0.005033554043620825);\">you</span> <span style=\"background-color:rgba(255,0,0,0.28485214337706566);\">stupid</span> <span style=\"background-color:rgba(255,0,0,0.6915269792079926);\">lame</span> <span style=\"background-color:rgba(255,0,0,0.026692647952586412);\">to</span> <span style=\"background-color:rgba(255,0,0,0.018685448449105024);\">me</span> &#129335;&#127996;‍♀️ https://t.co/eynzb2z5kq"
      ],
      "text/plain": [
       "<IPython.core.display.HTML object>"
      ]
     },
     "metadata": {},
     "output_type": "display_data"
    },
    {
     "data": {
      "text/html": [
       "<span style=\"background-color:rgba(255,0,0,0.00238637876464054);\">some</span> <span style=\"background-color:rgba(255,0,0,0.2741393819451332);\">ugly</span> <span style=\"background-color:rgba(255,0,0,0.8344021439552307);\">bitches</span> <span style=\"background-color:rgba(255,0,0,0.03475863952189684);\">on</span> <span style=\"background-color:rgba(255,0,0,0.008745759841986);\">tonights</span> <span style=\"background-color:rgba(255,0,0,0.0033422675915062428);\">show</span> #comedinewithme"
      ],
      "text/plain": [
       "<IPython.core.display.HTML object>"
      ]
     },
     "metadata": {},
     "output_type": "display_data"
    },
    {
     "data": {
      "text/html": [
       "<span style=\"background-color:rgba(255,0,0,0.0018701536464504898);\">oh</span> <span style=\"background-color:rgba(255,0,0,0.00769179780036211);\">look</span> that's <span style=\"background-color:rgba(255,0,0,0.005524613079614937);\">another</span> <span style=\"background-color:rgba(255,0,0,0.021465171594172716);\">reason</span> <span style=\"background-color:rgba(255,0,0,0.005166190676391125);\">to</span> <span style=\"background-color:rgba(255,0,0,0.11102292686700821);\">fucking</span> <span style=\"background-color:rgba(255,0,0,0.7048753648996353);\">hate</span> <span style=\"background-color:rgba(255,0,0,0.03639336675405502);\">my</span> shit-ass <span style=\"background-color:rgba(255,0,0,0.0024390415637753904);\">group</span>"
      ],
      "text/plain": [
       "<IPython.core.display.HTML object>"
      ]
     },
     "metadata": {},
     "output_type": "display_data"
    },
    {
     "data": {
      "text/html": [
       "rt @roxysowlaty: <span style=\"background-color:rgba(255,0,0,0.012840208364650607);\">trump</span> <span style=\"background-color:rgba(255,0,0,0.0159733765758574);\">is</span> <span style=\"background-color:rgba(255,0,0,0.02703089965507388);\">a</span> gemini!!!!!!!! <span style=\"background-color:rgba(255,0,0,0.02703089965507388);\">a</span> <span style=\"background-color:rgba(255,0,0,0.004060844366904348);\">june</span> <span style=\"background-color:rgba(255,0,0,0.1564006693661213);\">fucking</span> gemini!!!!! <span style=\"background-color:rgba(255,0,0,0.015652929432690144);\">i</span> <span style=\"background-color:rgba(255,0,0,0.0694563053548336);\">knew</span> <span style=\"background-color:rgba(255,0,0,0.038248596247285604);\">he</span> <span style=\"background-color:rgba(255,0,0,0.035603009164333344);\">was</span> <span style=\"background-color:rgba(255,0,0,0.6059857830405235);\">nuts</span>"
      ],
      "text/plain": [
       "<IPython.core.display.HTML object>"
      ]
     },
     "metadata": {},
     "output_type": "display_data"
    },
    {
     "data": {
      "text/html": [
       "<span style=\"background-color:rgba(255,0,0,0.001223483996000141);\">instead</span> <span style=\"background-color:rgba(255,0,0,0.000672123787808232);\">of</span> <span style=\"background-color:rgba(255,0,0,0.025929666589945555);\">a</span> <span style=\"background-color:rgba(255,0,0,0.03865136066451669);\">girl</span> <span style=\"background-color:rgba(255,0,0,0.0037423460162244737);\">taking</span> <span style=\"background-color:rgba(255,0,0,0.0027457359828986228);\">it</span> <span style=\"background-color:rgba(255,0,0,0.0043919772724621);\">in</span> <span style=\"background-color:rgba(255,0,0,0.004821649054065347);\">the</span> ass.. <span style=\"background-color:rgba(255,0,0,0.025929666589945555);\">a</span> <span style=\"background-color:rgba(255,0,0,0.2543179877102375);\">nigga</span> <span style=\"background-color:rgba(255,0,0,0.04781907889991999);\">is</span> , <span style=\"background-color:rgba(255,0,0,0.025929666589945555);\">a</span> <span style=\"background-color:rgba(255,0,0,0.03865136066451669);\">girl</span> <span style=\"background-color:rgba(255,0,0,0.19665416330099106);\">fucking</span> <span style=\"background-color:rgba(255,0,0,0.025929666589945555);\">a</span> <span style=\"background-color:rgba(255,0,0,0.2543179877102375);\">nigga</span> <span style=\"background-color:rgba(255,0,0,0.07005107589066029);\">basically</span> https://t.co/0tbdkjkkm0"
      ],
      "text/plain": [
       "<IPython.core.display.HTML object>"
      ]
     },
     "metadata": {},
     "output_type": "display_data"
    },
    {
     "data": {
      "text/html": [
       "@littyluciano you're <span style=\"background-color:rgba(255,0,0,0.16624141484498978);\">evil</span> <span style=\"background-color:rgba(255,0,0,0.8314596116542816);\">ass</span> <span style=\"background-color:rgba(255,0,0,0.13189299032092094);\">just</span> <span style=\"background-color:rgba(255,0,0,0.013488889671862125);\">out</span> <span style=\"background-color:rgba(255,0,0,0.0021822583221364766);\">here</span> <span style=\"background-color:rgba(255,0,0,0.00199208632693626);\">being</span> <span style=\"background-color:rgba(255,0,0,0.004281463043298572);\">missed</span> <span style=\"background-color:rgba(255,0,0,0.003589168773032725);\">or</span> whatever.. <span style=\"background-color:rgba(255,0,0,0.008049457101151347);\">lololol</span> &#129335;&#127997;‍♀️"
      ],
      "text/plain": [
       "<IPython.core.display.HTML object>"
      ]
     },
     "metadata": {},
     "output_type": "display_data"
    },
    {
     "data": {
      "text/html": [
       "rt @rnbieb: <span style=\"background-color:rgba(255,0,0,0.5152148380875587);\">bitch</span> <span style=\"background-color:rgba(255,0,0,0.03274802351370454);\">you</span> <span style=\"background-color:rgba(255,0,0,0.02865426940843463);\">are</span> <span style=\"background-color:rgba(255,0,0,0.06985235493630171);\">trinna</span> <span style=\"background-color:rgba(255,0,0,0.015897166449576616);\">catch</span> <span style=\"background-color:rgba(255,0,0,0.008699307800270617);\">these</span> <span style=\"background-color:rgba(255,0,0,0.29157156124711037);\">fucking</span> <span style=\"background-color:rgba(255,0,0,0.11474323458969593);\">hands</span> https://t.co/at0g3ejp63"
      ],
      "text/plain": [
       "<IPython.core.display.HTML object>"
      ]
     },
     "metadata": {},
     "output_type": "display_data"
    },
    {
     "data": {
      "text/html": [
       "rt @_murko: &#128514;them <span style=\"background-color:rgba(255,0,0,0.0019739243725780398);\">crumbs</span> <span style=\"background-color:rgba(255,0,0,0.00281377142528072);\">not</span> <span style=\"background-color:rgba(255,0,0,0.008141310536302626);\">gone</span> <span style=\"background-color:rgba(255,0,0,0.00174837710801512);\">give</span> <span style=\"background-color:rgba(255,0,0,0.0002640901584527455);\">you</span> <span style=\"background-color:rgba(255,0,0,0.0008159100252669305);\">the</span> <span style=\"background-color:rgba(255,0,0,0.0001717768464004621);\">results</span> <span style=\"background-color:rgba(255,0,0,0.0002640901584527455);\">you</span> <span style=\"background-color:rgba(255,0,0,0.0005650871025864035);\">want</span> <span style=\"background-color:rgba(255,0,0,0.000772291750763543);\">my</span> baby. <span style=\"background-color:rgba(255,0,0,0.003933595435228199);\">so</span> <span style=\"background-color:rgba(255,0,0,0.03642565803602338);\">stop</span> <span style=\"background-color:rgba(255,0,0,0.007624065037816763);\">getting</span> <span style=\"background-color:rgba(255,0,0,0.32952889800071716);\">sick</span> <span style=\"background-color:rgba(255,0,0,0.061293416656553745);\">over</span> <span style=\"background-color:rgba(255,0,0,0.32952889800071716);\">sick</span> <span style=\"background-color:rgba(255,0,0,0.3832993283867836);\">ass</span> niggas."
      ],
      "text/plain": [
       "<IPython.core.display.HTML object>"
      ]
     },
     "metadata": {},
     "output_type": "display_data"
    },
    {
     "data": {
      "text/html": [
       "@reesonabledoubt @karyewest yup. <span style=\"background-color:rgba(255,0,0,0.010091823060065508);\">i</span> <span style=\"background-color:rgba(255,0,0,0.13433022424578667);\">hated</span> <span style=\"background-color:rgba(255,0,0,0.02779408125206828);\">the</span> <span style=\"background-color:rgba(255,0,0,0.01650942023843527);\">way</span> <span style=\"background-color:rgba(255,0,0,0.013737328117713332);\">it</span> ended. <span style=\"background-color:rgba(255,0,0,0.5699917674064636);\">fuckin</span> <span style=\"background-color:rgba(255,0,0,0.353504903614521);\">tease</span>"
      ],
      "text/plain": [
       "<IPython.core.display.HTML object>"
      ]
     },
     "metadata": {},
     "output_type": "display_data"
    },
    {
     "data": {
      "text/html": [
       "<span style=\"background-color:rgba(255,0,0,0.01284178695641458);\">my</span> <span style=\"background-color:rgba(255,0,0,0.02313527511432767);\">mom</span> <span style=\"background-color:rgba(255,0,0,0.02934196963906288);\">got</span> <span style=\"background-color:rgba(255,0,0,0.046717142686247826);\">me</span> <span style=\"background-color:rgba(255,0,0,0.012296634959056973);\">lifting</span> <span style=\"background-color:rgba(255,0,0,0.025148391723632812);\">stuff</span> <span style=\"background-color:rgba(255,0,0,0.03500351682305336);\">at</span> <span style=\"background-color:rgba(255,0,0,0.023175308015197515);\">this</span> time, <span style=\"background-color:rgba(255,0,0,0.02934196963906288);\">got</span> <span style=\"background-color:rgba(255,0,0,0.046717142686247826);\">me</span> <span style=\"background-color:rgba(255,0,0,0.3546168655157089);\">fucked</span> <span style=\"background-color:rgba(255,0,0,0.37657879292964935);\">up</span> &#128589;&#127995;"
      ],
      "text/plain": [
       "<IPython.core.display.HTML object>"
      ]
     },
     "metadata": {},
     "output_type": "display_data"
    },
    {
     "data": {
      "text/html": [
       "<span style=\"background-color:rgba(255,0,0,0.0365097145549953);\">niggas</span> <span style=\"background-color:rgba(255,0,0,0.009261157247237861);\">keep</span> <span style=\"background-color:rgba(255,0,0,0.0119816476944834);\">talking</span> <span style=\"background-color:rgba(255,0,0,0.003282843390479684);\">about</span> <span style=\"background-color:rgba(255,0,0,0.0010908648982876912);\">women</span> <span style=\"background-color:rgba(255,0,0,0.006741847028024495);\">wearing</span> <span style=\"background-color:rgba(255,0,0,0.006721671670675278);\">weave</span> <span style=\"background-color:rgba(255,0,0,0.0023371873248834163);\">but</span> <span style=\"background-color:rgba(255,0,0,0.0030315335607156157);\">be</span> <span style=\"background-color:rgba(255,0,0,0.16937052831053734);\">sick</span> <span style=\"background-color:rgba(255,0,0,0.02622248139232397);\">when</span> <span style=\"background-color:rgba(255,0,0,0.04005837719887495);\">a</span> <span style=\"background-color:rgba(255,0,0,0.4326168820261955);\">bitch</span> <span style=\"background-color:rgba(255,0,0,0.217033289372921);\">up</span> <span style=\"background-color:rgba(255,0,0,0.04005837719887495);\">a</span> <span style=\"background-color:rgba(255,0,0,0.09535950608551502);\">fro</span> <span style=\"background-color:rgba(255,0,0,0.01251808600500226);\">on</span> <span style=\"background-color:rgba(255,0,0,0.006412863149307668);\">they</span> ass. &#128557;"
      ],
      "text/plain": [
       "<IPython.core.display.HTML object>"
      ]
     },
     "metadata": {},
     "output_type": "display_data"
    },
    {
     "data": {
      "text/html": [
       "<span style=\"background-color:rgba(255,0,0,0.004103248647879809);\">i</span> <span style=\"background-color:rgba(255,0,0,0.0040386131149716675);\">know</span> <span style=\"background-color:rgba(255,0,0,0.10930017568171024);\">niggas</span> <span style=\"background-color:rgba(255,0,0,0.04269525408744812);\">not</span> <span style=\"background-color:rgba(255,0,0,0.07849154062569141);\">waiting</span> <span style=\"background-color:rgba(255,0,0,0.007960166549310088);\">for</span> <span style=\"background-color:rgba(255,0,0,0.020703771151602268);\">consent</span> <span style=\"background-color:rgba(255,0,0,0.12927058152854443);\">cuz</span> <span style=\"background-color:rgba(255,0,0,0.03764141816645861);\">they</span> can't <span style=\"background-color:rgba(255,0,0,0.0020726666843984276);\">find</span> <span style=\"background-color:rgba(255,0,0,0.014072867343202233);\">the</span> <span style=\"background-color:rgba(255,0,0,0.043893870897591114);\">clit</span> that's <span style=\"background-color:rgba(255,0,0,0.03480341052636504);\">like</span> <span style=\"background-color:rgba(255,0,0,0.03284471808001399);\">a</span> <span style=\"background-color:rgba(255,0,0,0.01306635094806552);\">doorbell</span> <span style=\"background-color:rgba(255,0,0,0.012159041361883283);\">to</span> <span style=\"background-color:rgba(255,0,0,0.004340222803875804);\">get</span> <span style=\"background-color:rgba(255,0,0,0.010630714241415262);\">in</span> <span style=\"background-color:rgba(255,0,0,0.014072867343202233);\">the</span> <span style=\"background-color:rgba(255,0,0,0.3473353758454323);\">pussy</span> <span style=\"background-color:rgba(255,0,0,0.15551039949059486);\">door</span> &#128682;"
      ],
      "text/plain": [
       "<IPython.core.display.HTML object>"
      ]
     },
     "metadata": {},
     "output_type": "display_data"
    },
    {
     "data": {
      "text/html": [
       "<span style=\"background-color:rgba(255,0,0,0.004024085937999189);\">i</span> <span style=\"background-color:rgba(255,0,0,0.0122782401740551);\">accidentally</span> (not kidding) <span style=\"background-color:rgba(255,0,0,0.14445376582443714);\">punched</span> <span style=\"background-color:rgba(255,0,0,0.032806035596877337);\">a</span> <span style=\"background-color:rgba(255,0,0,0.16280127689242363);\">wall</span> <span style=\"background-color:rgba(255,0,0,0.024984900373965502);\">yesterday</span> <span style=\"background-color:rgba(255,0,0,0.007150582387112081);\">and</span> <span style=\"background-color:rgba(255,0,0,0.00896672427188605);\">my</span> <span style=\"background-color:rgba(255,0,0,0.2558683790266514);\">fucking</span> <span style=\"background-color:rgba(255,0,0,0.012230284046381712);\">knuckles</span> <span style=\"background-color:rgba(255,0,0,0.02187880454584956);\">are</span> <span style=\"background-color:rgba(255,0,0,0.19161393865942955);\">killing</span> <span style=\"background-color:rgba(255,0,0,0.10330420918762684);\">me</span>"
      ],
      "text/plain": [
       "<IPython.core.display.HTML object>"
      ]
     },
     "metadata": {},
     "output_type": "display_data"
    },
    {
     "data": {
      "text/html": [
       "@theyeunghuman @sonnydigital @killermike <span style=\"background-color:rgba(255,0,0,0.32709643244743347);\">fucking</span> <span style=\"background-color:rgba(255,0,0,0.6845258176326752);\">die</span>"
      ],
      "text/plain": [
       "<IPython.core.display.HTML object>"
      ]
     },
     "metadata": {},
     "output_type": "display_data"
    },
    {
     "data": {
      "text/html": [
       "<span style=\"background-color:rgba(255,0,0,0.11589569970965385);\">y&#x27;all</span> <span style=\"background-color:rgba(255,0,0,0.022614600602537394);\">broke</span> <span style=\"background-color:rgba(255,0,0,0.11589569970965385);\">y&#x27;all</span> <span style=\"background-color:rgba(255,0,0,0.19967705011367798);\">mad</span> <span style=\"background-color:rgba(255,0,0,0.11589569970965385);\">y&#x27;all</span> <span style=\"background-color:rgba(255,0,0,0.2828584238886833);\">miserable</span> &amp; unhappy... &amp; <span style=\"background-color:rgba(255,0,0,0.4060482233762741);\">bitch</span> <span style=\"background-color:rgba(255,0,0,0.020141545683145523);\">i</span> can't <span style=\"background-color:rgba(255,0,0,0.0029930350137874484);\">sit</span> <span style=\"background-color:rgba(255,0,0,0.0016969839634839445);\">on</span> <span style=\"background-color:rgba(255,0,0,0.0017564144218340516);\">that</span> <span style=\"background-color:rgba(255,0,0,0.0070823077112436295);\">bench</span> w/ <span style=\"background-color:rgba(255,0,0,0.0018995993013959378);\">ya</span> &#128405;&#127998;"
      ],
      "text/plain": [
       "<IPython.core.display.HTML object>"
      ]
     },
     "metadata": {},
     "output_type": "display_data"
    },
    {
     "data": {
      "text/html": [
       "@antbob_drums <span style=\"background-color:rgba(255,0,0,0.017221671296283603);\">seriously</span> <span style=\"background-color:rgba(255,0,0,0.008063148125074804);\">what</span> <span style=\"background-color:rgba(255,0,0,0.005101526039652526);\">the</span> <span style=\"background-color:rgba(255,0,0,0.10697152465581894);\">fuck</span> <span style=\"background-color:rgba(255,0,0,0.05307075101882219);\">drug</span> <span style=\"background-color:rgba(255,0,0,0.013928371481597424);\">were</span> <span style=\"background-color:rgba(255,0,0,0.008964448352344334);\">they</span> <span style=\"background-color:rgba(255,0,0,0.0024674279848113656);\">and</span> <span style=\"background-color:rgba(255,0,0,0.0044100487139075994);\">kendal</span> <span style=\"background-color:rgba(255,0,0,0.0024674279848113656);\">and</span> <span style=\"background-color:rgba(255,0,0,0.005925916484557092);\">all</span> <span style=\"background-color:rgba(255,0,0,0.006068813963793218);\">that</span> <span style=\"background-color:rgba(255,0,0,0.014575874665752053);\">did</span> <span style=\"background-color:rgba(255,0,0,0.01032221014611423);\">it</span> on????? <span style=\"background-color:rgba(255,0,0,0.10656231082975864);\">holy</span> hell!!!!"
      ],
      "text/plain": [
       "<IPython.core.display.HTML object>"
      ]
     },
     "metadata": {},
     "output_type": "display_data"
    },
    {
     "data": {
      "text/html": [
       "rt @dodgydagger: @jagexash <span style=\"background-color:rgba(255,0,0,0.0003940522583434358);\">now</span> <span style=\"background-color:rgba(255,0,0,0.006075468845665455);\">i</span> <span style=\"background-color:rgba(255,0,0,0.0007232405187096447);\">know</span> <span style=\"background-color:rgba(255,0,0,0.0009240207145921886);\">what</span> <span style=\"background-color:rgba(255,0,0,0.006075468845665455);\">i</span> <span style=\"background-color:rgba(255,0,0,0.007398953312076628);\">said</span> <span style=\"background-color:rgba(255,0,0,0.0074247445445507765);\">is</span> <span style=\"background-color:rgba(255,0,0,0.06674973759800196);\">bad</span> <span style=\"background-color:rgba(255,0,0,0.00760401482693851);\">and</span> <span style=\"background-color:rgba(255,0,0,0.010715696262195706);\">probs</span> <span style=\"background-color:rgba(255,0,0,0.017736635636538267);\">deserves</span> <span style=\"background-color:rgba(255,0,0,0.012007210170850158);\">a</span> <span style=\"background-color:rgba(255,0,0,0.007310374639928341);\">ban</span> <span style=\"background-color:rgba(255,0,0,0.0022915979207027704);\">by</span> <span style=\"background-color:rgba(255,0,0,0.005130058852955699);\">itself</span> <span style=\"background-color:rgba(255,0,0,0.006075468845665455);\">i</span> <span style=\"background-color:rgba(255,0,0,0.020299549214541912);\">hold</span> <span style=\"background-color:rgba(255,0,0,0.007096748449839652);\">my</span> <span style=\"background-color:rgba(255,0,0,0.0032277320860885084);\">hand</span> <span style=\"background-color:rgba(255,0,0,0.01711691962555051);\">up</span> <span style=\"background-color:rgba(255,0,0,0.005940411938354373);\">but</span> <span style=\"background-color:rgba(255,0,0,0.004317699640523642);\">this</span> <span style=\"background-color:rgba(255,0,0,0.18728012219071388);\">racist</span> <span style=\"background-color:rgba(255,0,0,0.8334065973758698);\">cunt</span> prevoced…"
      ],
      "text/plain": [
       "<IPython.core.display.HTML object>"
      ]
     },
     "metadata": {},
     "output_type": "display_data"
    },
    {
     "data": {
      "text/html": [
       "<span style=\"background-color:rgba(255,0,0,0.018677402986213565);\">yes</span> <span style=\"background-color:rgba(255,0,0,0.10084138251841068);\">maggie</span> <span style=\"background-color:rgba(255,0,0,0.01396638574078679);\">fuxk</span> <span style=\"background-color:rgba(255,0,0,0.019500028574839234);\">their</span> <span style=\"background-color:rgba(255,0,0,0.33054132014513016);\">shit</span> <span style=\"background-color:rgba(255,0,0,0.42249593883752823);\">up</span> <span style=\"background-color:rgba(255,0,0,0.07352641317993402);\">my</span> <span style=\"background-color:rgba(255,0,0,0.058352043852210045);\">queen</span> <span style=\"background-color:rgba(255,0,0,0.015750698512420058);\">do</span> ! <span style=\"background-color:rgba(255,0,0,0.009806398302316666);\">it</span> ! <span style=\"background-color:rgba(255,0,0,0.005086662131361663);\">for</span> ! <span style=\"background-color:rgba(255,0,0,0.04696092568337917);\">glenn</span> !!!!"
      ],
      "text/plain": [
       "<IPython.core.display.HTML object>"
      ]
     },
     "metadata": {},
     "output_type": "display_data"
    },
    {
     "data": {
      "text/html": [
       "rt @willie_locc: <span style=\"background-color:rgba(255,0,0,0.03053732682019472);\">idc</span> <span style=\"background-color:rgba(255,0,0,0.010974066099151969);\">what</span> <span style=\"background-color:rgba(255,0,0,0.016218539094552398);\">anybody</span> <span style=\"background-color:rgba(255,0,0,0.025123758241534233);\">say</span> <span style=\"background-color:rgba(255,0,0,0.008360099163837731);\">this</span> <span style=\"background-color:rgba(255,0,0,0.23565936833620071);\">nigga</span> <span style=\"background-color:rgba(255,0,0,0.04165093880146742);\">chief</span> <span style=\"background-color:rgba(255,0,0,0.09224784560501575);\">keef</span> <span style=\"background-color:rgba(255,0,0,0.016754382522776723);\">been</span> <span style=\"background-color:rgba(255,0,0,0.02255928236991167);\">going</span> <span style=\"background-color:rgba(255,0,0,0.2207198552787304);\">crazy</span> <span style=\"background-color:rgba(255,0,0,0.34787971526384354);\">y&#x27;all</span> <span style=\"background-color:rgba(255,0,0,0.11423338204622269);\">sleep</span>"
      ],
      "text/plain": [
       "<IPython.core.display.HTML object>"
      ]
     },
     "metadata": {},
     "output_type": "display_data"
    },
    {
     "data": {
      "text/html": [
       "rt @zaniyahsmomm: don't <span style=\"background-color:rgba(255,0,0,0.015511884121224284);\">you</span> <span style=\"background-color:rgba(255,0,0,0.10015827603638172);\">hate</span> <span style=\"background-color:rgba(255,0,0,0.01819082535803318);\">when</span> <span style=\"background-color:rgba(255,0,0,0.015511884121224284);\">you</span> <span style=\"background-color:rgba(255,0,0,0.011364356614649296);\">tell</span> <span style=\"background-color:rgba(255,0,0,0.008450841414742172);\">yourself</span> <span style=\"background-color:rgba(255,0,0,0.015511884121224284);\">you</span> <span style=\"background-color:rgba(255,0,0,0.009399304399266839);\">not</span> <span style=\"background-color:rgba(255,0,0,0.24070963263511658);\">fuckin</span> <span style=\"background-color:rgba(255,0,0,0.019077571341767907);\">with</span> <span style=\"background-color:rgba(255,0,0,0.014740816550329328);\">a</span> <span style=\"background-color:rgba(255,0,0,0.39105959236621857);\">nigga</span> <span style=\"background-color:rgba(255,0,0,0.16831554472446442);\">anymore</span> &amp; <span style=\"background-color:rgba(255,0,0,0.015511884121224284);\">you</span> <span style=\"background-color:rgba(255,0,0,0.03619631752371788);\">wake</span> up... <span style=\"background-color:rgba(255,0,0,0.028739424888044596);\">he</span> <span style=\"background-color:rgba(255,0,0,0.024776295758783817);\">in</span> <span style=\"background-color:rgba(255,0,0,0.008651151438243687);\">your</span> <span style=\"background-color:rgba(255,0,0,0.02387702465057373);\">bed</span> &#128514;&#129318;&#127998;‍♀️"
      ],
      "text/plain": [
       "<IPython.core.display.HTML object>"
      ]
     },
     "metadata": {},
     "output_type": "display_data"
    },
    {
     "data": {
      "text/html": [
       "rt @xjahwise_: <span style=\"background-color:rgba(255,0,0,0.005567583139054477);\">these</span> <span style=\"background-color:rgba(255,0,0,0.16366388648748398);\">bitches</span> <span style=\"background-color:rgba(255,0,0,0.12480294331908226);\">so</span> <span style=\"background-color:rgba(255,0,0,0.7799823582172394);\">dirty</span> <span style=\"background-color:rgba(255,0,0,0.04037423990666866);\">out</span> <span style=\"background-color:rgba(255,0,0,0.005123081500642002);\">here</span> <span style=\"background-color:rgba(255,0,0,0.01136345905251801);\">like</span> &#128514;&#128514;&#128514;&#128514;"
      ],
      "text/plain": [
       "<IPython.core.display.HTML object>"
      ]
     },
     "metadata": {},
     "output_type": "display_data"
    },
    {
     "data": {
      "text/html": [
       "<span style=\"background-color:rgba(255,0,0,0.007639495888724923);\">im</span> <span style=\"background-color:rgba(255,0,0,0.0036008594906888902);\">irked</span> !! <span style=\"background-color:rgba(255,0,0,0.01849166350439191);\">like</span> <span style=\"background-color:rgba(255,0,0,0.0036542589077726007);\">i</span> <span style=\"background-color:rgba(255,0,0,0.1478341966867447);\">hate</span> <span style=\"background-color:rgba(255,0,0,0.02686274703592062);\">bullshitterss</span> <span style=\"background-color:rgba(255,0,0,0.01849166350439191);\">like</span> <span style=\"background-color:rgba(255,0,0,0.19293639808893204);\">wtf</span> <span style=\"background-color:rgba(255,0,0,0.6794797629117966);\">bitch</span> <span style=\"background-color:rgba(255,0,0,0.0732208602130413);\">tell</span> <span style=\"background-color:rgba(255,0,0,0.017203902825713158);\">me</span> <span style=\"background-color:rgba(255,0,0,0.005199587321840227);\">what</span> <span style=\"background-color:rgba(255,0,0,0.0032279291190207005);\">it</span> <span style=\"background-color:rgba(255,0,0,0.005965402815490961);\">is</span> <span style=\"background-color:rgba(255,0,0,0.0035729643423110247);\">from</span> <span style=\"background-color:rgba(255,0,0,0.005175594124011695);\">the</span> <span style=\"background-color:rgba(255,0,0,0.016910037957131863);\">jumppp</span>"
      ],
      "text/plain": [
       "<IPython.core.display.HTML object>"
      ]
     },
     "metadata": {},
     "output_type": "display_data"
    },
    {
     "data": {
      "text/html": [
       "rt @unangelicc: <span style=\"background-color:rgba(255,0,0,0.003854134411085397);\">me</span> @ myself: i'm <span style=\"background-color:rgba(255,0,0,0.021750533487647772);\">really</span> <span style=\"background-color:rgba(255,0,0,0.4893316328525543);\">sick</span> <span style=\"background-color:rgba(255,0,0,0.029218511190265417);\">of</span> <span style=\"background-color:rgba(255,0,0,0.011975114466622472);\">this</span> <span style=\"background-color:rgba(255,0,0,0.4032328352332115);\">bitch</span> <span style=\"background-color:rgba(255,0,0,0.03983611240983009);\">when</span> <span style=\"background-color:rgba(255,0,0,0.011859864462167025);\">will</span> <span style=\"background-color:rgba(255,0,0,0.010847982484847307);\">she</span> <span style=\"background-color:rgba(255,0,0,0.12937884777784348);\">die</span>"
      ],
      "text/plain": [
       "<IPython.core.display.HTML object>"
      ]
     },
     "metadata": {},
     "output_type": "display_data"
    },
    {
     "data": {
      "text/html": [
       "<span style=\"background-color:rgba(255,0,0,0.008405180997215211);\">when</span> <span style=\"background-color:rgba(255,0,0,0.014160999562591314);\">you</span> <span style=\"background-color:rgba(255,0,0,0.25787366554141045);\">fucking</span> <span style=\"background-color:rgba(255,0,0,0.038817268796265125);\">on</span> <span style=\"background-color:rgba(255,0,0,0.018917530542239547);\">that</span> nigga, <span style=\"background-color:rgba(255,0,0,0.05525573156774044);\">hope</span> <span style=\"background-color:rgba(255,0,0,0.014160999562591314);\">you</span> <span style=\"background-color:rgba(255,0,0,0.05039197392761707);\">thinking</span> <span style=\"background-color:rgba(255,0,0,0.022780343424528837);\">about</span> me..."
      ],
      "text/plain": [
       "<IPython.core.display.HTML object>"
      ]
     },
     "metadata": {},
     "output_type": "display_data"
    },
    {
     "data": {
      "text/html": [
       "rt @youngnubi: <span style=\"background-color:rgba(255,0,0,0.003243568353354931);\">i</span> <span style=\"background-color:rgba(255,0,0,0.007093793246895075);\">feel</span> <span style=\"background-color:rgba(255,0,0,0.061947195790708065);\">bad</span> <span style=\"background-color:rgba(255,0,0,0.006440278375521302);\">for</span> <span style=\"background-color:rgba(255,0,0,0.00112428970169276);\">any</span> <span style=\"background-color:rgba(255,0,0,0.11441088281571865);\">bitch</span> <span style=\"background-color:rgba(255,0,0,0.018966594943776727);\">that</span> doesn't <span style=\"background-color:rgba(255,0,0,0.04328584764152765);\">realize</span> <span style=\"background-color:rgba(255,0,0,0.024404660798609257);\">when</span> <span style=\"background-color:rgba(255,0,0,0.02642466453835368);\">a</span> <span style=\"background-color:rgba(255,0,0,0.7429101318120956);\">nigga</span> <span style=\"background-color:rgba(255,0,0,0.07103439420461655);\">using</span> her."
      ],
      "text/plain": [
       "<IPython.core.display.HTML object>"
      ]
     },
     "metadata": {},
     "output_type": "display_data"
    },
    {
     "data": {
      "text/html": [
       "rt @notkamara: <span style=\"background-color:rgba(255,0,0,0.01354431384243071);\">i</span> <span style=\"background-color:rgba(255,0,0,0.003195130848325789);\">was</span> <span style=\"background-color:rgba(255,0,0,0.019995926413685083);\">so</span> <span style=\"background-color:rgba(255,0,0,0.23816945031285286);\">shocked</span> <span style=\"background-color:rgba(255,0,0,0.05513644777238369);\">when</span> <span style=\"background-color:rgba(255,0,0,0.01354431384243071);\">i</span> <span style=\"background-color:rgba(255,0,0,0.018574894638732076);\">saw</span> <span style=\"background-color:rgba(255,0,0,0.009955877903848886);\">my</span> <span style=\"background-color:rgba(255,0,0,0.026827636174857616);\">selfies</span> <span style=\"background-color:rgba(255,0,0,0.01497663906775415);\">in</span> <span style=\"background-color:rgba(255,0,0,0.011030270252376795);\">that</span> <span style=\"background-color:rgba(255,0,0,0.3412804380059242);\">nigga</span> phone. i'm <span style=\"background-color:rgba(255,0,0,0.014390997821465135);\">like</span> \"wtf <span style=\"background-color:rgba(255,0,0,0.055633457377552986);\">where</span> <span style=\"background-color:rgba(255,0,0,0.03324907273054123);\">did</span> <span style=\"background-color:rgba(255,0,0,0.008005197742022574);\">you</span> <span style=\"background-color:rgba(255,0,0,0.0015802361303940415);\">get</span> these?\" <span style=\"background-color:rgba(255,0,0,0.0031613846658729017);\">he</span> <span style=\"background-color:rgba(255,0,0,0.027508444618433714);\">said</span> \"facebook\""
      ],
      "text/plain": [
       "<IPython.core.display.HTML object>"
      ]
     },
     "metadata": {},
     "output_type": "display_data"
    },
    {
     "data": {
      "text/html": [
       "rt @chrissanson5: #$oindependent$ongwriter <span style=\"background-color:rgba(255,0,0,0.012913731625303626);\">just</span> <span style=\"background-color:rgba(255,0,0,0.011463196715340018);\">finished</span> <span style=\"background-color:rgba(255,0,0,0.00563103414606303);\">my</span> <span style=\"background-color:rgba(255,0,0,0.0017720583127811551);\">2nd</span> <span style=\"background-color:rgba(255,0,0,0.002216152352048084);\">song</span> <span style=\"background-color:rgba(255,0,0,0.0032863134401850402);\">on</span> <span style=\"background-color:rgba(255,0,0,0.00563103414606303);\">my</span> <span style=\"background-color:rgba(255,0,0,0.0028323943843133748);\">6th</span> <span style=\"background-color:rgba(255,0,0,0.03040950046852231);\">album</span> <span style=\"background-color:rgba(255,0,0,0.010351402452215552);\">yes</span> <span style=\"background-color:rgba(255,0,0,0.01422878704033792);\">the</span> <span style=\"background-color:rgba(255,0,0,0.0028323943843133748);\">6th</span> <span style=\"background-color:rgba(255,0,0,0.1701074279844761);\">fucking</span> <span style=\"background-color:rgba(255,0,0,0.03040950046852231);\">album</span> \" <span style=\"background-color:rgba(255,0,0,0.02747808350250125);\">another</span> <span style=\"background-color:rgba(255,0,0,0.6273195147514343);\">nigga</span> <span style=\"background-color:rgba(255,0,0,0.152153167873621);\">like</span> me…"
      ],
      "text/plain": [
       "<IPython.core.display.HTML object>"
      ]
     },
     "metadata": {},
     "output_type": "display_data"
    },
    {
     "data": {
      "text/html": [
       "@ibrayus <span style=\"background-color:rgba(255,0,0,0.002129308122675866);\">you</span> <span style=\"background-color:rgba(255,0,0,0.0006603596557397395);\">make</span> <span style=\"background-color:rgba(255,0,0,0.01154728583060205);\">islam</span> <span style=\"background-color:rgba(255,0,0,0.07042888086289167);\">look</span> bad. <span style=\"background-color:rgba(255,0,0,0.013033886207267642);\">get</span> <span style=\"background-color:rgba(255,0,0,0.00850447395350784);\">the</span> <span style=\"background-color:rgba(255,0,0,0.20813371986150742);\">fuck</span> <span style=\"background-color:rgba(255,0,0,0.3669308125972748);\">outta</span> <span style=\"background-color:rgba(255,0,0,0.0115273951087147);\">here</span> <span style=\"background-color:rgba(255,0,0,0.13890969567000866);\">bruh</span>"
      ],
      "text/plain": [
       "<IPython.core.display.HTML object>"
      ]
     },
     "metadata": {},
     "output_type": "display_data"
    },
    {
     "data": {
      "text/html": [
       "<span style=\"background-color:rgba(255,0,0,0.0031052588019520044);\">this</span> <span style=\"background-color:rgba(255,0,0,0.012731623137369752);\">why</span> <span style=\"background-color:rgba(255,0,0,0.012324877316132188);\">i</span> <span style=\"background-color:rgba(255,0,0,0.5393514037132263);\">hate</span> <span style=\"background-color:rgba(255,0,0,0.06448737811297178);\">my</span> <span style=\"background-color:rgba(255,0,0,0.025618860963732004);\">baby</span> <span style=\"background-color:rgba(255,0,0,0.02183267381042242);\">car</span> <span style=\"background-color:rgba(255,0,0,0.00978870433755219);\">seat</span> <span style=\"background-color:rgba(255,0,0,0.004252885119058192);\">being</span> <span style=\"background-color:rgba(255,0,0,0.005958652473054826);\">in</span> <span style=\"background-color:rgba(255,0,0,0.01539163407869637);\">someone</span> <span style=\"background-color:rgba(255,0,0,0.05855403374880552);\">else</span> car! <span style=\"background-color:rgba(255,0,0,0.10885377414524555);\">ugh</span> <span style=\"background-color:rgba(255,0,0,0.19008511677384377);\">pissing</span> <span style=\"background-color:rgba(255,0,0,0.04517730791121721);\">me</span> off!!!!"
      ],
      "text/plain": [
       "<IPython.core.display.HTML object>"
      ]
     },
     "metadata": {},
     "output_type": "display_data"
    },
    {
     "data": {
      "text/html": [
       "<span style=\"background-color:rgba(255,0,0,0.0024551892420277);\">watching</span> acw's <span style=\"background-color:rgba(255,0,0,0.017661218298599124);\">tag</span> <span style=\"background-color:rgba(255,0,0,0.0003181621650583111);\">team</span> gauntlet... @musclybabies <span style=\"background-color:rgba(255,0,0,0.00018991255274158902);\">can</span> <span style=\"background-color:rgba(255,0,0,0.00030537099519278854);\">you</span> <span style=\"background-color:rgba(255,0,0,0.0012328212324064225);\">identify</span> <span style=\"background-color:rgba(255,0,0,0.006741464021615684);\">a</span> <span style=\"background-color:rgba(255,0,0,0.0015941128367558122);\">move</span> <span style=\"background-color:rgba(255,0,0,0.0012734040501527488);\">from</span> <span style=\"background-color:rgba(255,0,0,0.0021328238653950393);\">the</span> <span style=\"background-color:rgba(255,0,0,0.19285103306174278);\">ugly</span> ducklings? <span style=\"background-color:rgba(255,0,0,0.005762677756138146);\">it</span> resembled, \"a <span style=\"background-color:rgba(255,0,0,0.27527447789907455);\">sick</span> <span style=\"background-color:rgba(255,0,0,0.7085924595594406);\">fucking</span> <span style=\"background-color:rgba(255,0,0,0.017661218298599124);\">tag</span> move\"?"
      ],
      "text/plain": [
       "<IPython.core.display.HTML object>"
      ]
     },
     "metadata": {},
     "output_type": "display_data"
    },
    {
     "data": {
      "text/html": [
       "rt @jukkahalava: @hsw501 <span style=\"background-color:rgba(255,0,0,0.015004628803581);\">i</span> <span style=\"background-color:rgba(255,0,0,0.11671348474919796);\">swear</span> <span style=\"background-color:rgba(255,0,0,0.010525998659431934);\">you</span> <span style=\"background-color:rgba(255,0,0,0.009779700776562095);\">were</span> <span style=\"background-color:rgba(255,0,0,0.014766748063266277);\">a</span> <span style=\"background-color:rgba(255,0,0,0.136424470692873);\">guy</span> <span style=\"background-color:rgba(255,0,0,0.03184044500812888);\">days</span> <span style=\"background-color:rgba(255,0,0,0.018911275546997786);\">ago</span> <span style=\"background-color:rgba(255,0,0,0.015004628803581);\">i</span> <span style=\"background-color:rgba(255,0,0,0.021843190770596266);\">guess</span> <span style=\"background-color:rgba(255,0,0,0.010525998659431934);\">you</span> <span style=\"background-color:rgba(255,0,0,0.015631148125976324);\">transformed</span> <span style=\"background-color:rgba(255,0,0,0.3113117441534996);\">fucking</span> <span style=\"background-color:rgba(255,0,0,0.006132472190074623);\">transgarden</span> <span style=\"background-color:rgba(255,0,0,0.3905605897307396);\">bitch</span>"
      ],
      "text/plain": [
       "<IPython.core.display.HTML object>"
      ]
     },
     "metadata": {},
     "output_type": "display_data"
    },
    {
     "data": {
      "text/html": [
       "@carcin0fuck &lt; <span style=\"background-color:rgba(255,0,0,0.00044190808694111183);\">being</span> <span style=\"background-color:rgba(255,0,0,0.00023893941033747979);\">an</span> <span style=\"background-color:rgba(255,0,0,0.01389741082675755);\">angry</span> <span style=\"background-color:rgba(255,0,0,0.11945622973144054);\">fucking</span> <span style=\"background-color:rgba(255,0,0,0.7259012013673782);\">asshole</span> <span style=\"background-color:rgba(255,0,0,0.042419182136654854);\">is</span> <span style=\"background-color:rgba(255,0,0,0.004306265036575496);\">how</span> <span style=\"background-color:rgba(255,0,0,0.001462595973862335);\">you</span> are. <span style=\"background-color:rgba(255,0,0,0.0019992952002212405);\">it</span> <span style=\"background-color:rgba(255,0,0,0.0015052189701236784);\">may</span> <span style=\"background-color:rgba(255,0,0,0.00575370853766799);\">not</span> <span style=\"background-color:rgba(255,0,0,0.005599329015240073);\">be</span> <span style=\"background-color:rgba(255,0,0,0.005116525571793318);\">the</span> /best/ <span style=\"background-color:rgba(255,0,0,0.001803299819584936);\">way</span> <span style=\"background-color:rgba(255,0,0,0.023679658770561218);\">of</span> <span style=\"background-color:rgba(255,0,0,0.009089659433811903);\">dealing</span> <span style=\"background-color:rgba(255,0,0,0.0032922715763561428);\">with</span> emotions, <span style=\"background-color:rgba(255,0,0,0.0025378126883879304);\">but</span> <span style=\"background-color:rgba(255,0,0,0.0024840293917804956);\">its</span> <span style=\"background-color:rgba(255,0,0,0.01826826366595924);\">a</span> <span style=\"background-color:rgba(255,0,0,0.21817103028297424);\">hell</span> <span style=\"background-color:rgba(255,0,0,0.023679658770561218);\">of</span> <span style=\"background-color:rgba(255,0,0,0.01826826366595924);\">a</span> &gt;"
      ],
      "text/plain": [
       "<IPython.core.display.HTML object>"
      ]
     },
     "metadata": {},
     "output_type": "display_data"
    },
    {
     "data": {
      "text/html": [
       "rt @causticbob: <span style=\"background-color:rgba(255,0,0,0.001999670348595828);\">what</span> <span style=\"background-color:rgba(255,0,0,0.03154803300276399);\">do</span> <span style=\"background-color:rgba(255,0,0,0.0021732549066655338);\">you</span> <span style=\"background-color:rgba(255,0,0,0.0029044138500466943);\">call</span> <span style=\"background-color:rgba(255,0,0,0.010374687844887376);\">a</span> <span style=\"background-color:rgba(255,0,0,0.0014610361540690064);\">chav</span> <span style=\"background-color:rgba(255,0,0,0.003161319182254374);\">in</span> <span style=\"background-color:rgba(255,0,0,0.010374687844887376);\">a</span> suit? <span style=\"background-color:rgba(255,0,0,0.010374687844887376);\">a</span> <span style=\"background-color:rgba(255,0,0,0.23647092282772064);\">fucking</span> cunt... don't <span style=\"background-color:rgba(255,0,0,0.002050510229310021);\">let</span> <span style=\"background-color:rgba(255,0,0,0.0018001043645199388);\">the</span> <span style=\"background-color:rgba(255,0,0,0.00397583149606362);\">suit</span> <span style=\"background-color:rgba(255,0,0,0.00700246193446219);\">fool</span> you."
      ],
      "text/plain": [
       "<IPython.core.display.HTML object>"
      ]
     },
     "metadata": {},
     "output_type": "display_data"
    },
    {
     "data": {
      "text/html": [
       "rt @omgitsianbruce: isn't <span style=\"background-color:rgba(255,0,0,0.0024514857796020806);\">that</span> <span style=\"background-color:rgba(255,0,0,0.004376647702883929);\">a</span> <span style=\"background-color:rgba(255,0,0,0.06211067549884319);\">fucked</span> <span style=\"background-color:rgba(255,0,0,0.06388301029801369);\">up</span> <span style=\"background-color:rgba(255,0,0,0.03195900237187743);\">point</span> <span style=\"background-color:rgba(255,0,0,0.006137670716270804);\">of</span> reference? \"just <span style=\"background-color:rgba(255,0,0,0.004269265045877546);\">have</span> <span style=\"background-color:rgba(255,0,0,0.0032851213472895324);\">faith</span> <span style=\"background-color:rgba(255,0,0,0.005399045767262578);\">in</span> god, <span style=\"background-color:rgba(255,0,0,0.03700038185343146);\">he</span> <span style=\"background-color:rgba(255,0,0,0.04078383557498455);\">is</span> somewhere!!!\" nigga, where?"
      ],
      "text/plain": [
       "<IPython.core.display.HTML object>"
      ]
     },
     "metadata": {},
     "output_type": "display_data"
    },
    {
     "data": {
      "text/html": [
       "<span style=\"background-color:rgba(255,0,0,0.007366177742369473);\">really</span> <span style=\"background-color:rgba(255,0,0,0.26287009939551353);\">hate</span> <span style=\"background-color:rgba(255,0,0,0.0225071981549263);\">on</span> <span style=\"background-color:rgba(255,0,0,0.12888284400105476);\">dick</span> <span style=\"background-color:rgba(255,0,0,0.30132440850138664);\">ass</span> <span style=\"background-color:rgba(255,0,0,0.023500260431319475);\">people</span> <span style=\"background-color:rgba(255,0,0,0.012965358328074217);\">like</span> <span style=\"background-color:rgba(255,0,0,0.0014381308574229479);\">gtf</span> <span style=\"background-color:rgba(255,0,0,0.11673253029584885);\">bitch</span> <span style=\"background-color:rgba(255,0,0,0.328172966837883);\">bye</span> . <span style=\"background-color:rgba(255,0,0,0.008240044116973877);\">ughhhh</span> &#128530;"
      ],
      "text/plain": [
       "<IPython.core.display.HTML object>"
      ]
     },
     "metadata": {},
     "output_type": "display_data"
    },
    {
     "data": {
      "text/html": [
       "rt @toriasiana: <span style=\"background-color:rgba(255,0,0,0.008371256990358233);\">i</span> <span style=\"background-color:rgba(255,0,0,0.00581981148570776);\">need</span> <span style=\"background-color:rgba(255,0,0,0.005838726065121591);\">my</span> <span style=\"background-color:rgba(255,0,0,0.22880226373672485);\">nigga</span> <span style=\"background-color:rgba(255,0,0,0.15553873032331467);\">so</span> <span style=\"background-color:rgba(255,0,0,0.0370280328206718);\">stitch</span> <span style=\"background-color:rgba(255,0,0,0.05513293668627739);\">lip</span> <span style=\"background-color:rgba(255,0,0,0.1799255609512329);\">mfs</span> <span style=\"background-color:rgba(255,0,0,0.006559632020071149);\">get</span> <span style=\"background-color:rgba(255,0,0,0.2666914649307728);\">mad</span> <span style=\"background-color:rgba(255,0,0,0.04628623370081186);\">they</span> can't <span style=\"background-color:rgba(255,0,0,0.13738819397985935);\">kno</span> <span style=\"background-color:rgba(255,0,0,0.008259795722551644);\">our</span> <span style=\"background-color:rgba(255,0,0,0.0025210148305632174);\">business</span> &#128514;"
      ],
      "text/plain": [
       "<IPython.core.display.HTML object>"
      ]
     },
     "metadata": {},
     "output_type": "display_data"
    },
    {
     "data": {
      "text/html": [
       "rt @suzannestahl1: <span style=\"background-color:rgba(255,0,0,0.0014725890650879592);\">yurtle</span> <span style=\"background-color:rgba(255,0,0,0.004090718866791576);\">the</span> <span style=\"background-color:rgba(255,0,0,0.01952758990228176);\">turtle</span> <span style=\"background-color:rgba(255,0,0,0.043646576814353466);\">needs</span> <span style=\"background-color:rgba(255,0,0,0.012902814196422696);\">to</span> <span style=\"background-color:rgba(255,0,0,0.015434283996000886);\">be</span> <span style=\"background-color:rgba(255,0,0,0.08940832689404488);\">slapped</span> <span style=\"background-color:rgba(255,0,0,0.017368538537994027);\">with</span> <span style=\"background-color:rgba(255,0,0,0.023064811248332262);\">a</span> <span style=\"background-color:rgba(255,0,0,0.7635391503572464);\">fucking</span> chair..many times! https://t.co/jhejmajjsh"
      ],
      "text/plain": [
       "<IPython.core.display.HTML object>"
      ]
     },
     "metadata": {},
     "output_type": "display_data"
    },
    {
     "data": {
      "text/html": [
       "<span style=\"background-color:rgba(255,0,0,0.006853467784821987);\">a</span> <span style=\"background-color:rgba(255,0,0,0.0021672343427781016);\">real</span> <span style=\"background-color:rgba(255,0,0,0.6230830773711205);\">nigga</span> <span style=\"background-color:rgba(255,0,0,0.13429643586277962);\">gone</span> <span style=\"background-color:rgba(255,0,0,0.0037152768345549703);\">be</span> <span style=\"background-color:rgba(255,0,0,0.035476996563374996);\">blunt</span> <span style=\"background-color:rgba(255,0,0,0.002370513684581965);\">from</span> <span style=\"background-color:rgba(255,0,0,0.001484428794356063);\">the</span> <span style=\"background-color:rgba(255,0,0,0.0014592801744583994);\">jump</span> <span style=\"background-color:rgba(255,0,0,0.0035985279828310013);\">and</span> <span style=\"background-color:rgba(255,0,0,0.0035395193845033646);\">tell</span> <span style=\"background-color:rgba(255,0,0,0.001780928869266063);\">you</span> <span style=\"background-color:rgba(255,0,0,0.002425022976240143);\">what</span> <span style=\"background-color:rgba(255,0,0,0.0033963736495934427);\">it</span> <span style=\"background-color:rgba(255,0,0,0.005631554522551596);\">is</span> <span style=\"background-color:rgba(255,0,0,0.0035985279828310013);\">and</span> <span style=\"background-color:rgba(255,0,0,0.003988727112300694);\">let</span> <span style=\"background-color:rgba(255,0,0,0.001780928869266063);\">you</span> <span style=\"background-color:rgba(255,0,0,0.003411670622881502);\">decide</span> <span style=\"background-color:rgba(255,0,0,0.00209374469704926);\">if</span> <span style=\"background-color:rgba(255,0,0,0.001780928869266063);\">you</span> <span style=\"background-color:rgba(255,0,0,0.006254812469705939);\">wanna</span> <span style=\"background-color:rgba(255,0,0,0.0037152768345549703);\">be</span> <span style=\"background-color:rgba(255,0,0,0.004947885754518211);\">apart</span> <span style=\"background-color:rgba(255,0,0,0.0023341638734564185);\">of</span> <span style=\"background-color:rgba(255,0,0,0.0033963736495934427);\">it</span> . <span style=\"background-color:rgba(255,0,0,0.006853467784821987);\">a</span> <span style=\"background-color:rgba(255,0,0,0.1474405825138092);\">lame</span> <span style=\"background-color:rgba(255,0,0,0.6230830773711205);\">nigga</span> <span style=\"background-color:rgba(255,0,0,0.13429643586277962);\">gone</span> <span style=\"background-color:rgba(255,0,0,0.11319776065647602);\">lie</span> &#128204;&#128483;‼️"
      ],
      "text/plain": [
       "<IPython.core.display.HTML object>"
      ]
     },
     "metadata": {},
     "output_type": "display_data"
    },
    {
     "data": {
      "text/html": [
       "@thesuntv @thesun <span style=\"background-color:rgba(255,0,0,0.0006586239760508761);\">some</span> <span style=\"background-color:rgba(255,0,0,0.0004915490717394277);\">women</span> <span style=\"background-color:rgba(255,0,0,0.000677113130223006);\">need</span> <span style=\"background-color:rgba(255,0,0,0.000540199143870268);\">to</span> <span style=\"background-color:rgba(255,0,0,0.0002017967199208215);\">grow</span> <span style=\"background-color:rgba(255,0,0,0.0004427682142704725);\">the</span> <span style=\"background-color:rgba(255,0,0,0.039785709232091904);\">hell</span> up. it's <span style=\"background-color:rgba(255,0,0,0.05728693213313818);\">so</span> pathetic."
      ],
      "text/plain": [
       "<IPython.core.display.HTML object>"
      ]
     },
     "metadata": {},
     "output_type": "display_data"
    },
    {
     "data": {
      "text/html": [
       "<span style=\"background-color:rgba(255,0,0,0.0013418430171441287);\">i</span> <span style=\"background-color:rgba(255,0,0,0.004465740348678082);\">really</span> <span style=\"background-color:rgba(255,0,0,0.15498110093176365);\">hate</span> <span style=\"background-color:rgba(255,0,0,0.23988677188754082);\">tf</span> <span style=\"background-color:rgba(255,0,0,0.009325015707872808);\">out</span> <span style=\"background-color:rgba(255,0,0,0.0019306872854940593);\">of</span> camo, <span style=\"background-color:rgba(255,0,0,0.0007648182509001344);\">that</span> <span style=\"background-color:rgba(255,0,0,0.024711480364203453);\">shit</span> <span style=\"background-color:rgba(255,0,0,0.011619195574894547);\">is</span> <span style=\"background-color:rgba(255,0,0,0.033726447727531195);\">so</span> <span style=\"background-color:rgba(255,0,0,0.7023321092128754);\">ugly</span>"
      ],
      "text/plain": [
       "<IPython.core.display.HTML object>"
      ]
     },
     "metadata": {},
     "output_type": "display_data"
    },
    {
     "data": {
      "text/html": [
       "rt @coiorbook: <span style=\"background-color:rgba(255,0,0,0.0011142915900563821);\">this</span> <span style=\"background-color:rgba(255,0,0,0.06714242044836283);\">bitch</span> <span style=\"background-color:rgba(255,0,0,0.00521698675584048);\">sat</span> <span style=\"background-color:rgba(255,0,0,0.002607662172522396);\">in</span> <span style=\"background-color:rgba(255,0,0,0.0032672847737558186);\">a</span> <span style=\"background-color:rgba(255,0,0,0.005184217588976026);\">cage</span> <span style=\"background-color:rgba(255,0,0,0.000296659618470585);\">and</span> <span style=\"background-color:rgba(255,0,0,0.004942774539813399);\">repeated</span> \"stupid hoe\" <span style=\"background-color:rgba(255,0,0,0.014171847142279148);\">for</span> <span style=\"background-color:rgba(255,0,0,0.0004972785245627165);\">4</span> <span style=\"background-color:rgba(255,0,0,0.0004649174297810532);\">minutes</span> <span style=\"background-color:rgba(255,0,0,0.000296659618470585);\">and</span> <span style=\"background-color:rgba(255,0,0,0.0008061343396548182);\">she</span> <span style=\"background-color:rgba(255,0,0,0.0005488582246471196);\">has</span> <span style=\"background-color:rgba(255,0,0,0.0015930237714201212);\">the</span> <span style=\"background-color:rgba(255,0,0,0.020088658202439547);\">nerve</span> <span style=\"background-color:rgba(255,0,0,0.00655442476272583);\">to</span> <span style=\"background-color:rgba(255,0,0,0.012166573433205485);\">call</span> someone's <span style=\"background-color:rgba(255,0,0,0.008768083644099534);\">bars</span> <span style=\"background-color:rgba(255,0,0,0.13757369481027126);\">dumb</span> https://t…"
      ],
      "text/plain": [
       "<IPython.core.display.HTML object>"
      ]
     },
     "metadata": {},
     "output_type": "display_data"
    },
    {
     "data": {
      "text/html": [
       "@ansaraabbasi <span style=\"background-color:rgba(255,0,0,0.12997904792428017);\">fuck</span> <span style=\"background-color:rgba(255,0,0,0.11833731085062027);\">off</span> <span style=\"background-color:rgba(255,0,0,0.013965852558612823);\">you</span> <span style=\"background-color:rgba(255,0,0,0.5393748730421066);\">stupid</span> <span style=\"background-color:rgba(255,0,0,0.3161304071545601);\">pedophile</span> <span style=\"background-color:rgba(255,0,0,0.0027941359439864755);\">worshiping</span> untouchable. <span style=\"background-color:rgba(255,0,0,0.0009016315016197041);\">india</span> <span style=\"background-color:rgba(255,0,0,0.0013525939721148461);\">for</span> hindus. <span style=\"background-color:rgba(255,0,0,0.0025562039809301496);\">muzzies</span> <span style=\"background-color:rgba(255,0,0,0.021354795899242163);\">gtfo</span>"
      ],
      "text/plain": [
       "<IPython.core.display.HTML object>"
      ]
     },
     "metadata": {},
     "output_type": "display_data"
    },
    {
     "data": {
      "text/html": [
       "rt @mjstarlover: non-black <span style=\"background-color:rgba(255,0,0,0.0003203829692211002);\">poc</span> <span style=\"background-color:rgba(255,0,0,0.0006933376425877213);\">are</span> <span style=\"background-color:rgba(255,0,0,0.0170883780810982);\">so</span> <span style=\"background-color:rgba(255,0,0,0.15652431175112724);\">fucking</span> racist. <span style=\"background-color:rgba(255,0,0,0.01732860109768808);\">this</span> <span style=\"background-color:rgba(255,0,0,0.006814642692916095);\">is</span> <span style=\"background-color:rgba(255,0,0,0.0170883780810982);\">so</span> <span style=\"background-color:rgba(255,0,0,0.15652431175112724);\">fucking</span> disgusting. https://t.co/uip2zgyrgr"
      ],
      "text/plain": [
       "<IPython.core.display.HTML object>"
      ]
     },
     "metadata": {},
     "output_type": "display_data"
    },
    {
     "data": {
      "text/html": [
       "@haleyalexandra4 <span style=\"background-color:rgba(255,0,0,0.001366690848954022);\">but</span> <span style=\"background-color:rgba(255,0,0,0.11008026078343391);\">bitch</span> i'm <span style=\"background-color:rgba(255,0,0,0.005373528110794723);\">standing</span> <span style=\"background-color:rgba(255,0,0,0.0026043399702757597);\">to</span> <span style=\"background-color:rgba(255,0,0,0.00912245421204716);\">tell</span> <span style=\"background-color:rgba(255,0,0,0.003351497871335596);\">you</span> <span style=\"background-color:rgba(255,0,0,0.004450542910490185);\">that</span> <span style=\"background-color:rgba(255,0,0,0.003351497871335596);\">you</span> <span style=\"background-color:rgba(255,0,0,0.007901398348622024);\">are</span> <span style=\"background-color:rgba(255,0,0,0.20462559536099434);\">ass</span> <span style=\"background-color:rgba(255,0,0,0.5777834728360176);\">fucking</span> backwards."
      ],
      "text/plain": [
       "<IPython.core.display.HTML object>"
      ]
     },
     "metadata": {},
     "output_type": "display_data"
    },
    {
     "data": {
      "text/html": [
       "<span style=\"background-color:rgba(255,0,0,0.0031325328745879233);\">you</span> <span style=\"background-color:rgba(255,0,0,0.0017667750944383442);\">have</span> <span style=\"background-color:rgba(255,0,0,0.0018065805488731712);\">to</span> <span style=\"background-color:rgba(255,0,0,0.005022542318329215);\">lick</span> <span style=\"background-color:rgba(255,0,0,0.00930915295612067);\">my</span> <span style=\"background-color:rgba(255,0,0,0.006130376132205129);\">balls</span> mharti! what?! <span style=\"background-color:rgba(255,0,0,0.00930915295612067);\">my</span> chapped, <span style=\"background-color:rgba(255,0,0,0.11786485090851784);\">bloody</span> <span style=\"background-color:rgba(255,0,0,0.3591398149728775);\">testicles</span> mharti! i-i don't- i-i'm confused..."
      ],
      "text/plain": [
       "<IPython.core.display.HTML object>"
      ]
     },
     "metadata": {},
     "output_type": "display_data"
    },
    {
     "data": {
      "text/html": [
       "rt @frqnttraveler: <span style=\"background-color:rgba(255,0,0,0.104053420946002);\">stupid</span> <span style=\"background-color:rgba(255,0,0,0.3558717295527458);\">fucking</span> @gop <span style=\"background-color:rgba(255,0,0,0.5728766322135925);\">ignorant</span> <span style=\"background-color:rgba(255,0,0,0.01604002551175654);\">and</span> <span style=\"background-color:rgba(255,0,0,0.15481296926736832);\">worthless</span> https://t.co/7s2jsfmfnw"
      ],
      "text/plain": [
       "<IPython.core.display.HTML object>"
      ]
     },
     "metadata": {},
     "output_type": "display_data"
    },
    {
     "data": {
      "text/html": [
       "rt @wjsnful: rt <span style=\"background-color:rgba(255,0,0,0.0003806043605436571);\">if</span> <span style=\"background-color:rgba(255,0,0,0.0003536871008691378);\">you</span> <span style=\"background-color:rgba(255,0,0,0.00024816121367621236);\">have</span> <span style=\"background-color:rgba(255,0,0,0.00033848195016616955);\">been</span> <span style=\"background-color:rgba(255,0,0,0.012210324639454484);\">called</span> <span style=\"background-color:rgba(255,0,0,0.27733247727155685);\">ugly</span> <span style=\"background-color:rgba(255,0,0,0.09024922735989094);\">fat</span> <span style=\"background-color:rgba(255,0,0,0.1354484260082245);\">worthless</span> <span style=\"background-color:rgba(255,0,0,0.2434050291776657);\">cunt</span> <span style=\"background-color:rgba(255,0,0,0.3083979897201061);\">bitch</span> <span style=\"background-color:rgba(255,0,0,0.07458074484020472);\">fag</span> <span style=\"background-color:rgba(255,0,0,0.04506063647568226);\">slut</span> <span style=\"background-color:rgba(255,0,0,0.0033126043854281306);\">a</span> <span style=\"background-color:rgba(255,0,0,3.4389220218145056e-05);\">igot7</span> <span style=\"background-color:rgba(255,0,0,0.0012430852802935988);\">brat</span> <span style=\"background-color:rgba(255,0,0,0.011371960863471031);\">whore</span> <span style=\"background-color:rgba(255,0,0,0.030314424075186253);\">emo</span> <span style=\"background-color:rgba(255,0,0,0.007964076357893646);\">freak</span> <span style=\"background-color:rgba(255,0,0,0.00018478667698218487);\">lezbo</span> <span style=\"background-color:rgba(255,0,0,0.0013466084783431143);\">nerd</span> <span style=\"background-color:rgba(255,0,0,0.0005622348180622794);\">monster</span> etc.."
      ],
      "text/plain": [
       "<IPython.core.display.HTML object>"
      ]
     },
     "metadata": {},
     "output_type": "display_data"
    },
    {
     "data": {
      "text/html": [
       "rt @__octavia: &#128483; <span style=\"background-color:rgba(255,0,0,0.09652125649154186);\">stop</span> <span style=\"background-color:rgba(255,0,0,0.8783649653196335);\">fucking</span> <span style=\"background-color:rgba(255,0,0,0.046563935466110706);\">with</span> <span style=\"background-color:rgba(255,0,0,0.01225086860358715);\">these</span> <span style=\"background-color:rgba(255,0,0,0.0014403021486941725);\">raggedy</span> <span style=\"background-color:rgba(255,0,0,0.10702052153646946);\">ass</span> <span style=\"background-color:rgba(255,0,0,0.0181638915091753);\">niggasssssss</span>"
      ],
      "text/plain": [
       "<IPython.core.display.HTML object>"
      ]
     },
     "metadata": {},
     "output_type": "display_data"
    },
    {
     "data": {
      "text/html": [
       "<span style=\"background-color:rgba(255,0,0,0.030324601102620363);\">stop</span> <span style=\"background-color:rgba(255,0,0,0.035842121578752995);\">thinking</span> <span style=\"background-color:rgba(255,0,0,0.009912034729495645);\">they</span> <span style=\"background-color:rgba(255,0,0,0.002889334864448756);\">have</span> <span style=\"background-color:rgba(255,0,0,0.0018032145453616977);\">to</span> <span style=\"background-color:rgba(255,0,0,0.006408465560525656);\">prove</span> <span style=\"background-color:rgba(255,0,0,0.009912034729495645);\">they</span> <span style=\"background-color:rgba(255,0,0,0.007108153076842427);\">self</span> <span style=\"background-color:rgba(255,0,0,0.008528712205588818);\">when</span> <span style=\"background-color:rgba(255,0,0,0.009912034729495645);\">they</span> <span style=\"background-color:rgba(255,0,0,0.29736731201410294);\">fucking</span> <span style=\"background-color:rgba(255,0,0,0.025670533068478107);\">with</span> <span style=\"background-color:rgba(255,0,0,0.018549502128735185);\">a</span> <span style=\"background-color:rgba(255,0,0,0.006201722426339984);\">community</span> <span style=\"background-color:rgba(255,0,0,0.14884283766150475);\">ass</span> <span style=\"background-color:rgba(255,0,0,0.5373722314834595);\">nigga</span> <span style=\"background-color:rgba(255,0,0,0.051741874776780605);\">issa</span> <span style=\"background-color:rgba(255,0,0,0.01920342561788857);\">shooter</span>"
      ],
      "text/plain": [
       "<IPython.core.display.HTML object>"
      ]
     },
     "metadata": {},
     "output_type": "display_data"
    },
    {
     "data": {
      "text/html": [
       "@nagamonkai @rustleft @basedryuko @____negi_____ <span style=\"background-color:rgba(255,0,0,0.011991704814136028);\">wouldnt</span> <span style=\"background-color:rgba(255,0,0,0.0027223650249652565);\">have</span> <span style=\"background-color:rgba(255,0,0,0.009965610224753618);\">replied</span> <span style=\"background-color:rgba(255,0,0,0.008159237913787365);\">what</span> <span style=\"background-color:rgba(255,0,0,0.004029176488984376);\">if</span> <span style=\"background-color:rgba(255,0,0,0.00739190902095288);\">i</span> did. <span style=\"background-color:rgba(255,0,0,0.3479459509253502);\">fucking</span> nigger."
      ],
      "text/plain": [
       "<IPython.core.display.HTML object>"
      ]
     },
     "metadata": {},
     "output_type": "display_data"
    },
    {
     "data": {
      "text/html": [
       "rt @hoskas: <span style=\"background-color:rgba(255,0,0,0.001857953320723027);\">this</span> <span style=\"background-color:rgba(255,0,0,0.003974232240580022);\">is</span> <span style=\"background-color:rgba(255,0,0,0.007030200795270503);\">what</span> <span style=\"background-color:rgba(255,0,0,0.0053231645142659545);\">you</span> <span style=\"background-color:rgba(255,0,0,0.058500650338828564);\">voted</span> <span style=\"background-color:rgba(255,0,0,0.007307718624360859);\">for</span> <span style=\"background-color:rgba(255,0,0,0.0053231645142659545);\">you</span> <span style=\"background-color:rgba(255,0,0,0.1537812314927578);\">fucking</span> moron. <span style=\"background-color:rgba(255,0,0,0.1733640395104885);\">why</span> <span style=\"background-color:rgba(255,0,0,0.024073224049061537);\">do</span> <span style=\"background-color:rgba(255,0,0,0.0053231645142659545);\">you</span> <span style=\"background-color:rgba(255,0,0,0.008660549065098166);\">think</span> <span style=\"background-color:rgba(255,0,0,0.011815748875960708);\">gibraltar</span> <span style=\"background-color:rgba(255,0,0,0.058500650338828564);\">voted</span> 98% remain? https://t.co/nmdg0dq1fi"
      ],
      "text/plain": [
       "<IPython.core.display.HTML object>"
      ]
     },
     "metadata": {},
     "output_type": "display_data"
    },
    {
     "data": {
      "text/html": [
       "<span style=\"background-color:rgba(255,0,0,0.01734142191708088);\">god</span> <span style=\"background-color:rgba(255,0,0,0.009028136846609414);\">i</span> <span style=\"background-color:rgba(255,0,0,0.13953338377177715);\">fucking</span> <span style=\"background-color:rgba(255,0,0,0.8654186129570007);\">hate</span> <span style=\"background-color:rgba(255,0,0,0.07670498918741941);\">meeting</span> <span style=\"background-color:rgba(255,0,0,0.026732070837169886);\">people</span> <span style=\"background-color:rgba(255,0,0,0.015406857710331678);\">who</span> can't <span style=\"background-color:rgba(255,0,0,0.025434542912989855);\">joke</span> <span style=\"background-color:rgba(255,0,0,0.02528346609324217);\">around</span>"
      ],
      "text/plain": [
       "<IPython.core.display.HTML object>"
      ]
     },
     "metadata": {},
     "output_type": "display_data"
    },
    {
     "data": {
      "text/html": [
       "@anwen he's <span style=\"background-color:rgba(255,0,0,0.011463005794212222);\">correct</span> <span style=\"background-color:rgba(255,0,0,0.008449651068076491);\">the</span> <span style=\"background-color:rgba(255,0,0,0.0008951546624302864);\">events</span> happened, <span style=\"background-color:rgba(255,0,0,0.0037106391391716897);\">but</span> <span style=\"background-color:rgba(255,0,0,0.003535904979798943);\">to</span> <span style=\"background-color:rgba(255,0,0,0.010139283258467913);\">call</span> <span style=\"background-color:rgba(255,0,0,0.00812762591522187);\">it</span> *zionism* <span style=\"background-color:rgba(255,0,0,0.01197013072669506);\">is</span> <span style=\"background-color:rgba(255,0,0,0.020656429696828127);\">a</span> <span style=\"background-color:rgba(255,0,0,0.11470957659184933);\">deeply</span> <span style=\"background-color:rgba(255,0,0,0.11470957659184933);\">deeply</span> <span style=\"background-color:rgba(255,0,0,0.40181469172239304);\">fucked</span> <span style=\"background-color:rgba(255,0,0,0.2125520445406437);\">up</span> <span style=\"background-color:rgba(255,0,0,0.19825145602226257);\">offensive</span> <span style=\"background-color:rgba(255,0,0,0.031091358978301287);\">misrep</span> <span style=\"background-color:rgba(255,0,0,0.008736479794606566);\">of</span> hitler's motivation."
      ],
      "text/plain": [
       "<IPython.core.display.HTML object>"
      ]
     },
     "metadata": {},
     "output_type": "display_data"
    },
    {
     "data": {
      "text/html": [
       "rt @seoyounghons: <span style=\"background-color:rgba(255,0,0,0.002160671283490956);\">baekhyun</span> <span style=\"background-color:rgba(255,0,0,0.00605855428148061);\">sweetie</span> <span style=\"background-color:rgba(255,0,0,0.007426621741615236);\">i</span> <span style=\"background-color:rgba(255,0,0,0.004483245720621198);\">am</span> <span style=\"background-color:rgba(255,0,0,0.00584362365771085);\">so</span> sorry. <span style=\"background-color:rgba(255,0,0,0.007426621741615236);\">i</span> <span style=\"background-color:rgba(255,0,0,0.004483245720621198);\">am</span> <span style=\"background-color:rgba(255,0,0,0.022268781904131174);\">sorry</span> <span style=\"background-color:rgba(255,0,0,0.0035562340053729713);\">that</span> <span style=\"background-color:rgba(255,0,0,0.0054480950348079205);\">a</span> <span style=\"background-color:rgba(255,0,0,0.23993128910660744);\">ugly</span> <span style=\"background-color:rgba(255,0,0,0.3567548096179962);\">ass</span> <span style=\"background-color:rgba(255,0,0,0.4512554407119751);\">bitch</span> <span style=\"background-color:rgba(255,0,0,0.028394749388098717);\">like</span> <span style=\"background-color:rgba(255,0,0,0.0035562340053729713);\">that</span> <span style=\"background-color:rgba(255,0,0,0.0015451833314727992);\">would</span> <span style=\"background-color:rgba(255,0,0,0.0025400551385246217);\">even</span> <span style=\"background-color:rgba(255,0,0,0.0068887724773958325);\">say</span> <span style=\"background-color:rgba(255,0,0,0.0035562340053729713);\">that</span> <span style=\"background-color:rgba(255,0,0,0.008846237324178219);\">oh</span> <span style=\"background-color:rgba(255,0,0,0.004372969560790807);\">my</span> <span style=\"background-color:rgba(255,0,0,0.03127639414742589);\">god</span>"
      ],
      "text/plain": [
       "<IPython.core.display.HTML object>"
      ]
     },
     "metadata": {},
     "output_type": "display_data"
    },
    {
     "data": {
      "text/html": [
       "@washingtonpost <span style=\"background-color:rgba(255,0,0,0.0004327848364482634);\">good</span> god, <span style=\"background-color:rgba(255,0,0,0.009818637045100331);\">did</span> <span style=\"background-color:rgba(255,0,0,0.010509556159377098);\">someone</span> <span style=\"background-color:rgba(255,0,0,0.005800899234600365);\">stick</span> <span style=\"background-color:rgba(255,0,0,0.00701289507560432);\">his</span> <span style=\"background-color:rgba(255,0,0,0.043763662688434124);\">silly</span> <span style=\"background-color:rgba(255,0,0,0.28147879987955093);\">ass</span> <span style=\"background-color:rgba(255,0,0,0.01549375127069652);\">hand</span> <span style=\"background-color:rgba(255,0,0,0.006677100318484008);\">in</span> <span style=\"background-color:rgba(255,0,0,0.015941335586830974);\">a</span> <span style=\"background-color:rgba(255,0,0,0.0013700836279895157);\">light</span> socket, <span style=\"background-color:rgba(255,0,0,0.026024538092315197);\">he</span> <span style=\"background-color:rgba(255,0,0,0.010455170413479209);\">looks</span> <span style=\"background-color:rgba(255,0,0,0.018175317673012614);\">completely</span> stupid. <span style=\"background-color:rgba(255,0,0,0.11242198757827282);\">oh</span> yeah, he's <span style=\"background-color:rgba(255,0,0,0.015941335586830974);\">a</span> democrat!"
      ],
      "text/plain": [
       "<IPython.core.display.HTML object>"
      ]
     },
     "metadata": {},
     "output_type": "display_data"
    },
    {
     "data": {
      "text/html": [
       "rt @zomdadon: <span style=\"background-color:rgba(255,0,0,0.0033955450635403395);\">i</span> <span style=\"background-color:rgba(255,0,0,0.03890575608238578);\">fucked</span> <span style=\"background-color:rgba(255,0,0,0.007351477397605777);\">that</span> <span style=\"background-color:rgba(255,0,0,0.15540876425802708);\">nigga</span> <span style=\"background-color:rgba(255,0,0,0.6570727378129959);\">bitch</span> <span style=\"background-color:rgba(255,0,0,0.13550982810556889);\">so</span> <span style=\"background-color:rgba(255,0,0,0.031203886028379202);\">he</span> <span style=\"background-color:rgba(255,0,0,0.023939330130815506);\">a</span> <span style=\"background-color:rgba(255,0,0,0.011722644558176398);\">madder</span> <span style=\"background-color:rgba(255,0,0,0.10007927194237709);\">guy</span>"
      ],
      "text/plain": [
       "<IPython.core.display.HTML object>"
      ]
     },
     "metadata": {},
     "output_type": "display_data"
    },
    {
     "data": {
      "text/html": [
       "rt @nhissyahchat: <span style=\"background-color:rgba(255,0,0,0.017490749014541507);\">you</span> <span style=\"background-color:rgba(255,0,0,0.005195081466808915);\">got</span> <span style=\"background-color:rgba(255,0,0,0.009027232299558818);\">me</span> <span style=\"background-color:rgba(255,0,0,0.08066302165389061);\">fucked</span> <span style=\"background-color:rgba(255,0,0,0.09497544728219509);\">up</span> <span style=\"background-color:rgba(255,0,0,0.010332776000723243);\">if</span> <span style=\"background-color:rgba(255,0,0,0.017490749014541507);\">you</span> <span style=\"background-color:rgba(255,0,0,0.011724252253770828);\">think</span> i'm <span style=\"background-color:rgba(255,0,0,0.021030812058597803);\">about</span> <span style=\"background-color:rgba(255,0,0,0.010091618169099092);\">to</span> <span style=\"background-color:rgba(255,0,0,0.04608942195773125);\">beg</span> <span style=\"background-color:rgba(255,0,0,0.017490749014541507);\">you</span> <span style=\"background-color:rgba(255,0,0,0.010091618169099092);\">to</span> <span style=\"background-color:rgba(255,0,0,0.016576951602473855);\">be</span> <span style=\"background-color:rgba(255,0,0,0.03130559343844652);\">in</span> <span style=\"background-color:rgba(255,0,0,0.03415393643081188);\">my</span> life!!!!!!! <span style=\"background-color:rgba(255,0,0,0.1778365857899189);\">hasta</span> <span style=\"background-color:rgba(255,0,0,0.003545096842572093);\">luego</span> bitch!!!"
      ],
      "text/plain": [
       "<IPython.core.display.HTML object>"
      ]
     },
     "metadata": {},
     "output_type": "display_data"
    },
    {
     "data": {
      "text/html": [
       "rt @_odeis_: <span style=\"background-color:rgba(255,0,0,0.017633113311603665);\">the</span> <span style=\"background-color:rgba(255,0,0,0.5704839155077934);\">fuck</span> <span style=\"background-color:rgba(255,0,0,0.20333247259259224);\">is</span> <span style=\"background-color:rgba(255,0,0,0.17324022948741913);\">a</span> caucasian!!! https://t.co/m9nwdmc92g"
      ],
      "text/plain": [
       "<IPython.core.display.HTML object>"
      ]
     },
     "metadata": {},
     "output_type": "display_data"
    },
    {
     "data": {
      "text/html": [
       "rt @lormingo: <span style=\"background-color:rgba(255,0,0,0.0010003858187701553);\">fuckniggas</span> <span style=\"background-color:rgba(255,0,0,0.003985765506513417);\">n</span> <span style=\"background-color:rgba(255,0,0,0.047321273013949394);\">broke</span> <span style=\"background-color:rgba(255,0,0,0.34534089267253876);\">dirty</span> <span style=\"background-color:rgba(255,0,0,0.6840094178915024);\">hoes</span> <span style=\"background-color:rgba(255,0,0,0.0467902235686779);\">who</span> <span style=\"background-color:rgba(255,0,0,0.022233235649764538);\">gossip</span> <span style=\"background-color:rgba(255,0,0,0.03970963880419731);\">deserve</span> <span style=\"background-color:rgba(255,0,0,0.011205238988623023);\">the</span> <span style=\"background-color:rgba(255,0,0,0.0019146321574226022);\">electric</span> <span style=\"background-color:rgba(255,0,0,0.0027336343191564083);\">chair</span>"
      ],
      "text/plain": [
       "<IPython.core.display.HTML object>"
      ]
     },
     "metadata": {},
     "output_type": "display_data"
    },
    {
     "data": {
      "text/html": [
       "@lordcullen_ue i'm <span style=\"background-color:rgba(255,0,0,0.036918697878718376);\">going</span> <span style=\"background-color:rgba(255,0,0,0.01711795455776155);\">to</span> <span style=\"background-color:rgba(255,0,0,0.6450898945331573);\">fucking</span> <span style=\"background-color:rgba(255,0,0,0.2688916213810444);\">punch</span> <span style=\"background-color:rgba(255,0,0,0.022780271247029305);\">you</span> <span style=\"background-color:rgba(255,0,0,0.013231589691713452);\">when</span> i'm <span style=\"background-color:rgba(255,0,0,0.01564555917866528);\">out</span>"
      ],
      "text/plain": [
       "<IPython.core.display.HTML object>"
      ]
     },
     "metadata": {},
     "output_type": "display_data"
    },
    {
     "data": {
      "text/html": [
       "<span style=\"background-color:rgba(255,0,0,0.003076285938732326);\">i</span> <span style=\"background-color:rgba(255,0,0,0.08943352848291397);\">fucking</span> <span style=\"background-color:rgba(255,0,0,0.7962852716445923);\">hate</span> <span style=\"background-color:rgba(255,0,0,0.24422062560915947);\">humans</span> <span style=\"background-color:rgba(255,0,0,0.0551106920465827);\">sometimes</span> https://t.co/sup2qpry5f"
      ],
      "text/plain": [
       "<IPython.core.display.HTML object>"
      ]
     },
     "metadata": {},
     "output_type": "display_data"
    },
    {
     "data": {
      "text/html": [
       "<span style=\"background-color:rgba(255,0,0,0.05598333664238453);\">i</span> <span style=\"background-color:rgba(255,0,0,0.38900867104530334);\">hate</span> <span style=\"background-color:rgba(255,0,0,0.04750398453325033);\">being</span> <span style=\"background-color:rgba(255,0,0,0.015115671558305621);\">home</span> <span style=\"background-color:rgba(255,0,0,0.09261979721486568);\">alone</span> <span style=\"background-color:rgba(255,0,0,0.1184295117855072);\">bc</span> <span style=\"background-color:rgba(255,0,0,0.05598333664238453);\">i</span> <span style=\"background-color:rgba(255,0,0,0.012252526357769966);\">have</span> <span style=\"background-color:rgba(255,0,0,0.007317212293855846);\">to</span> <span style=\"background-color:rgba(255,0,0,0.011628977954387665);\">go</span> <span style=\"background-color:rgba(255,0,0,0.009012853261083364);\">out</span> <span style=\"background-color:rgba(255,0,0,0.005059302202425897);\">by</span> <span style=\"background-color:rgba(255,0,0,0.00805068586487323);\">my</span> <span style=\"background-color:rgba(255,0,0,0.30542368069291115);\">damn</span> <span style=\"background-color:rgba(255,0,0,0.05326090380549431);\">self</span>"
      ],
      "text/plain": [
       "<IPython.core.display.HTML object>"
      ]
     },
     "metadata": {},
     "output_type": "display_data"
    },
    {
     "data": {
      "text/html": [
       "rt @imwilliamsbitch: <span style=\"background-color:rgba(255,0,0,0.0028587572160176933);\">when</span> <span style=\"background-color:rgba(255,0,0,0.008309684344567358);\">her</span> <span style=\"background-color:rgba(255,0,0,0.3970784321427345);\">nigga</span> <span style=\"background-color:rgba(255,0,0,0.050192843191325665);\">wanna</span> <span style=\"background-color:rgba(255,0,0,0.013365719933062792);\">hit</span> <span style=\"background-color:rgba(255,0,0,0.046135587617754936);\">cuz</span> <span style=\"background-color:rgba(255,0,0,0.005875697825103998);\">you</span> <span style=\"background-color:rgba(255,0,0,0.05075301043689251);\">fucked</span> <span style=\"background-color:rgba(255,0,0,0.019099218770861626);\">his</span> <span style=\"background-color:rgba(255,0,0,0.3515661135315895);\">hoe</span> <span style=\"background-color:rgba(255,0,0,0.029806054662913084);\">but</span> <span style=\"background-color:rgba(255,0,0,0.014979427214711905);\">that</span> <span style=\"background-color:rgba(255,0,0,0.3970784321427345);\">nigga</span> 5ft. https://t.co/7q2rte4e86"
      ],
      "text/plain": [
       "<IPython.core.display.HTML object>"
      ]
     },
     "metadata": {},
     "output_type": "display_data"
    },
    {
     "data": {
      "text/html": [
       "<span style=\"background-color:rgba(255,0,0,0.017042160034179688);\">who</span> <span style=\"background-color:rgba(255,0,0,0.019990531727671623);\">sent</span> <span style=\"background-color:rgba(255,0,0,0.004526252450887114);\">thay</span> <span style=\"background-color:rgba(255,0,0,0.3869178891181946);\">fucking</span> <span style=\"background-color:rgba(255,0,0,0.4240555688738823);\">anon</span> <span style=\"background-color:rgba(255,0,0,0.03776286030188203);\">pelase</span> i'm <span style=\"background-color:rgba(255,0,0,0.01196204568259418);\">laughingsohard</span>"
      ],
      "text/plain": [
       "<IPython.core.display.HTML object>"
      ]
     },
     "metadata": {},
     "output_type": "display_data"
    },
    {
     "data": {
      "text/html": [
       "@glennhurst12 @stratomasterguy @njtraindelays @nadianboone @cnj08540 @wisco <span style=\"background-color:rgba(255,0,0,0.004367970104794949);\">me</span> <span style=\"background-color:rgba(255,0,0,0.00798455614130944);\">too</span> ! <span style=\"background-color:rgba(255,0,0,0.17101990059018135);\">damn</span> he's <span style=\"background-color:rgba(255,0,0,0.8757975697517395);\">stupid</span> <span style=\"background-color:rgba(255,0,0,0.04923338070511818);\">and</span> <span style=\"background-color:rgba(255,0,0,0.03552112029865384);\">people</span> lo… https://t.co/5gvumcn0da"
      ],
      "text/plain": [
       "<IPython.core.display.HTML object>"
      ]
     },
     "metadata": {},
     "output_type": "display_data"
    },
    {
     "data": {
      "text/html": [
       "rt @fiirtationship: <span style=\"background-color:rgba(255,0,0,0.0026681507006287575);\">i</span> <span style=\"background-color:rgba(255,0,0,0.1512588933110237);\">hate</span> <span style=\"background-color:rgba(255,0,0,0.02161987591534853);\">when</span> <span style=\"background-color:rgba(255,0,0,0.018651888240128756);\">ppl</span> <span style=\"background-color:rgba(255,0,0,0.024315451737493277);\">say</span> \"who <span style=\"background-color:rgba(255,0,0,0.11065997183322906);\">hurt</span> you\" <span style=\"background-color:rgba(255,0,0,0.01977605978026986);\">like</span> <span style=\"background-color:rgba(255,0,0,0.4214596748352051);\">bitch</span> <span style=\"background-color:rgba(255,0,0,0.3180449455976486);\">everybody</span> <span style=\"background-color:rgba(255,0,0,0.08377710357308388);\">why</span>"
      ],
      "text/plain": [
       "<IPython.core.display.HTML object>"
      ]
     },
     "metadata": {},
     "output_type": "display_data"
    },
    {
     "data": {
      "text/html": [
       "<span style=\"background-color:rgba(255,0,0,0.0024287829000968486);\">i</span> <span style=\"background-color:rgba(255,0,0,0.004341304302215576);\">wish</span> <span style=\"background-color:rgba(255,0,0,0.00803958741016686);\">girls</span> <span style=\"background-color:rgba(255,0,0,0.013766580959782004);\">realized</span> it's <span style=\"background-color:rgba(255,0,0,0.015634684823453426);\">not</span> cool/cute <span style=\"background-color:rgba(255,0,0,0.00518747023306787);\">to</span> <span style=\"background-color:rgba(255,0,0,0.004430834378581494);\">blast</span> <span style=\"background-color:rgba(255,0,0,0.005109072080813348);\">their</span> <span style=\"background-color:rgba(255,0,0,0.26910511776804924);\">stupid</span> <span style=\"background-color:rgba(255,0,0,0.7701106369495392);\">ass</span> <span style=\"background-color:rgba(255,0,0,0.05370483733713627);\">drama</span> <span style=\"background-color:rgba(255,0,0,0.010383714688941836);\">all</span> <span style=\"background-color:rgba(255,0,0,0.02640295773744583);\">over</span> twitter&#129335;&#127996;‍♀️"
      ],
      "text/plain": [
       "<IPython.core.display.HTML object>"
      ]
     },
     "metadata": {},
     "output_type": "display_data"
    },
    {
     "data": {
      "text/html": [
       "rt @wityolo_okinass: <span style=\"background-color:rgba(255,0,0,0.0011054033529944718);\">i</span> <span style=\"background-color:rgba(255,0,0,0.0007684913725825027);\">need</span> <span style=\"background-color:rgba(255,0,0,0.0001069955305865733);\">kirk</span> <span style=\"background-color:rgba(255,0,0,0.00024270011635962874);\">to</span> <span style=\"background-color:rgba(255,0,0,0.0002967331420222763);\">pick</span> <span style=\"background-color:rgba(255,0,0,0.008116982644423842);\">a</span> struggle...it's <span style=\"background-color:rgba(255,0,0,0.008116982644423842);\">a</span> <span style=\"background-color:rgba(255,0,0,0.014479128876700997);\">blessing</span> <span style=\"background-color:rgba(255,0,0,0.011150019709020853);\">he</span> <span style=\"background-color:rgba(255,0,0,0.015477663837373257);\">even</span> <span style=\"background-color:rgba(255,0,0,0.13343444094061852);\">caught</span> rasheeda...can't <span style=\"background-color:rgba(255,0,0,0.005155402468517423);\">be</span> <span style=\"background-color:rgba(255,0,0,0.24433940649032593);\">ugly</span> <span style=\"background-color:rgba(255,0,0,0.01077687251381576);\">and</span> <span style=\"background-color:rgba(255,0,0,0.008116982644423842);\">a</span> <span style=\"background-color:rgba(255,0,0,0.13676799833774567);\">fuck</span> nigga. #lhhatl"
      ],
      "text/plain": [
       "<IPython.core.display.HTML object>"
      ]
     },
     "metadata": {},
     "output_type": "display_data"
    },
    {
     "data": {
      "text/html": [
       "ain't <span style=\"background-color:rgba(255,0,0,0.0015674158930778503);\">nothin&#x27;</span> <span style=\"background-color:rgba(255,0,0,0.00383720820536837);\">but</span> <span style=\"background-color:rgba(255,0,0,0.015401910059154034);\">a</span> <span style=\"background-color:rgba(255,0,0,0.15534942038357258);\">medicnal</span> <span style=\"background-color:rgba(255,0,0,0.10895415209233761);\">baby</span> &#127925;&#127925; <span style=\"background-color:rgba(255,0,0,0.010846994118764997);\">two</span> <span style=\"background-color:rgba(255,0,0,0.022182068787515163);\">locked</span> <span style=\"background-color:rgba(255,0,0,0.007039574556984007);\">out</span> <span style=\"background-color:rgba(255,0,0,0.2036888524889946);\">niggas</span> <span style=\"background-color:rgba(255,0,0,0.15199954621493816);\">so</span> we're <span style=\"background-color:rgba(255,0,0,0.3633192926645279);\">crazy</span> &#127925;&#127925;"
      ],
      "text/plain": [
       "<IPython.core.display.HTML object>"
      ]
     },
     "metadata": {},
     "output_type": "display_data"
    }
   ],
   "source": [
    "max_alpha = 0.8 \n",
    "for idx in ha[:1000]:\n",
    "#     print(y_dist[idx])\n",
    "    text = data[idx].lower()\n",
    "    cleaned_text = data_joined[idx].split()\n",
    "    weights = att_weights[idx][:len(cleaned_text)]\n",
    "    weight_dict = {}\n",
    "    for i in range(len(cleaned_text)):\n",
    "        weight_dict[cleaned_text[i]] = weights[i]\n",
    "    highlighted_text = []\n",
    "    for i, word in enumerate(text.split()):\n",
    "        if word in weight_dict:\n",
    "            weight = weight_dict[word]\n",
    "            highlighted_text.append('<span style=\"background-color:rgba(255,0,0,' + str(weight / max_alpha) + ');\">' + html_escape(word) + '</span>')\n",
    "        else:\n",
    "            highlighted_text.append(word)\n",
    "    highlighted_text = ' '.join(highlighted_text)\n",
    "    display(HTML(highlighted_text))"
   ]
  },
  {
   "cell_type": "code",
   "execution_count": null,
   "metadata": {},
   "outputs": [],
   "source": []
  },
  {
   "cell_type": "markdown",
   "metadata": {},
   "source": [
    "1. require general knowledge between hateful/normal"
   ]
  },
  {
   "cell_type": "code",
   "execution_count": null,
   "metadata": {},
   "outputs": [],
   "source": []
  }
 ],
 "metadata": {
  "kernelspec": {
   "display_name": "Python 2",
   "language": "python",
   "name": "python2"
  },
  "language_info": {
   "codemirror_mode": {
    "name": "ipython",
    "version": 3
   },
   "file_extension": ".py",
   "mimetype": "text/x-python",
   "name": "python",
   "nbconvert_exporter": "python",
   "pygments_lexer": "ipython3",
   "version": "3.6.1"
  }
 },
 "nbformat": 4,
 "nbformat_minor": 1
}
