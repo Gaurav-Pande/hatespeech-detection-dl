{
 "cells": [
  {
   "cell_type": "code",
   "execution_count": 300,
   "metadata": {
    "pycharm": {
     "is_executing": true
    }
   },
   "outputs": [],
   "source": [
    "import pandas as pd\n",
    "from utils import read_file, clean_twitter, stem\n",
    "from sklearn.feature_extraction.text import TfidfVectorizer, CountVectorizer\n",
    "import numpy as np\n",
    "import spacy\n",
    "import matplotlib.pyplot as plt\n",
    "from scipy import stats\n",
    "from sklearn.preprocessing import MinMaxScaler"
   ]
  },
  {
   "cell_type": "code",
   "execution_count": 301,
   "metadata": {
    "pycharm": {
     "is_executing": true
    }
   },
   "outputs": [],
   "source": [
    "pd.set_option('display.max_colwidth', None)\n",
    "pd.set_option('display.max_rows', 100)"
   ]
  },
  {
   "cell_type": "code",
   "execution_count": 302,
   "metadata": {
    "pycharm": {
     "is_executing": true
    }
   },
   "outputs": [],
   "source": [
    "nlp = spacy.load('en_core_web_sm')\n",
    "def get_nouns(sentence):\n",
    "    doc = nlp(sentence)\n",
    "    sentence = \" \".join(\n",
    "        [token.lemma_ if token.pos_ in ['NOUN', 'PROPN'] else ''\n",
    "         for token in doc])\n",
    "    return sentence"
   ]
  },
  {
   "cell_type": "code",
   "execution_count": 303,
   "metadata": {
    "pycharm": {
     "is_executing": true
    }
   },
   "outputs": [],
   "source": [
    "with open('stopwords.txt', 'r') as f:\n",
    "    lines = f.readlines()\n",
    "stopwords = [w.strip() for w in lines]"
   ]
  },
  {
   "cell_type": "code",
   "execution_count": 304,
   "metadata": {
    "pycharm": {
     "is_executing": true
    }
   },
   "outputs": [],
   "source": [
    "data, y = read_file('../hatespeech/', True)"
   ]
  },
  {
   "cell_type": "code",
   "execution_count": 305,
   "metadata": {
    "pycharm": {
     "is_executing": true
    }
   },
   "outputs": [],
   "source": [
    "df = pd.DataFrame(columns=['text', 'label'])\n",
    "df['text'] = data\n",
    "df['label'] = y"
   ]
  },
  {
   "cell_type": "code",
   "execution_count": 306,
   "metadata": {
    "pycharm": {
     "is_executing": true
    }
   },
   "outputs": [],
   "source": [
    "df['processed'] = df['text'].apply(lambda x: clean_twitter(x))"
   ]
  },
  {
   "cell_type": "code",
   "execution_count": 307,
   "metadata": {
    "pycharm": {
     "is_executing": true
    }
   },
   "outputs": [],
   "source": [
    "count_vectorizer = CountVectorizer(input='content',\n",
    "                                   analyzer='word',\n",
    "                                   strip_accents='ascii',\n",
    "                                   ngram_range=(1,1),\n",
    "                                   stop_words=stopwords)"
   ]
  },
  {
   "cell_type": "code",
   "execution_count": 308,
   "metadata": {
    "pycharm": {
     "is_executing": true
    }
   },
   "outputs": [],
   "source": [
    "count = count_vectorizer.fit_transform(df['processed'])\n",
    "features = np.array(count_vectorizer.get_feature_names())\n",
    "freq = count.copy()\n",
    "count[count > 0] = 1"
   ]
  },
  {
   "cell_type": "code",
   "execution_count": 342,
   "metadata": {
    "pycharm": {
     "is_executing": true
    }
   },
   "outputs": [],
   "source": [
    "label=3\n",
    "class_docs = count[df[df.label == label].index.to_numpy()]\n",
    "rel_doc_freq = np.array(class_docs.sum(axis=0)/class_docs.shape[0])[0]\n",
    "avg_freq = np.array(freq[df[df.label == label].index.to_numpy()].sum(axis=0)/class_docs.shape[0])[0]"
   ]
  },
  {
   "cell_type": "code",
   "execution_count": 356,
   "metadata": {},
   "outputs": [
    {
     "data": {
      "text/plain": [
       "<2545x66764 sparse matrix of type '<class 'numpy.int64'>'\n",
       "\twith 18200 stored elements in Compressed Sparse Row format>"
      ]
     },
     "execution_count": 356,
     "metadata": {},
     "output_type": "execute_result"
    }
   ],
   "source": [
    "class_docs"
   ]
  },
  {
   "cell_type": "code",
   "execution_count": 343,
   "metadata": {
    "pycharm": {
     "is_executing": true
    }
   },
   "outputs": [],
   "source": [
    "rankingdf = pd.DataFrame(columns=['word', 'rel_doc_freq'])\n",
    "rankingdf['word'] = features\n",
    "rankingdf['rel_doc_freq'] = rel_doc_freq\n",
    "rankingdf['avg_freq'] = avg_freq\n",
    "rankingdf['idf'] = np.log(np.array(count.shape[0]/count.sum(axis=0))[0])"
   ]
  },
  {
   "cell_type": "code",
   "execution_count": 344,
   "metadata": {
    "pycharm": {
     "is_executing": true
    }
   },
   "outputs": [],
   "source": [
    "scaler = MinMaxScaler()\n",
    "scaler.fit(rankingdf[['rel_doc_freq', 'idf', 'avg_freq']])\n",
    "rankingdf[['rel_doc_freq','idf', 'avg_freq']] = scaler.transform(rankingdf[['rel_doc_freq', 'idf', 'avg_freq']])\n",
    "rankingdf['comb'] = np.cbrt(rankingdf['rel_doc_freq'] * rankingdf['idf'] * rankingdf['avg_freq'])"
   ]
  },
  {
   "cell_type": "code",
   "execution_count": 362,
   "metadata": {
    "pycharm": {
     "is_executing": true
    }
   },
   "outputs": [
    {
     "data": {
      "text/plain": [
       "['hate',\n",
       " 'nigga',\n",
       " 'niggas',\n",
       " 'idiot',\n",
       " 'ass',\n",
       " 'trump',\n",
       " 'bitch',\n",
       " 'stupid',\n",
       " 'people',\n",
       " 'idiots']"
      ]
     },
     "execution_count": 362,
     "metadata": {},
     "output_type": "execute_result"
    }
   ],
   "source": [
    "rankingdf.sort_values(by=['comb'], ascending=False).head(10)['word'].tolist()"
   ]
  },
  {
   "cell_type": "code",
   "execution_count": 337,
   "metadata": {
    "pycharm": {
     "is_executing": true
    }
   },
   "outputs": [
    {
     "ename": "SyntaxError",
     "evalue": "invalid syntax (<ipython-input-337-29b3745188a7>, line 1)",
     "output_type": "error",
     "traceback": [
      "\u001b[0;36m  File \u001b[0;32m\"<ipython-input-337-29b3745188a7>\"\u001b[0;36m, line \u001b[0;32m1\u001b[0m\n\u001b[0;31m    0:love,people,time,day,life,thanks,happy,please,person,help\u001b[0m\n\u001b[0m          ^\u001b[0m\n\u001b[0;31mSyntaxError\u001b[0m\u001b[0;31m:\u001b[0m invalid syntax\n"
     ]
    }
   ],
   "source": [
    "0:love,people,time,day,life,thanks,happy,please,person,help,world,hope,news,game,night\n",
    "1:free,video,join,check,win,click,live,available,download,enter,visit,online,fucked,chance,follow\n",
    "2:fucked,ass,bitch,bad,shit,hate,stupid,idiot,ugly,bitches,pussy,dick,nasty,annoying,sex,fuckin\n",
    "3:hate,nigga,idiot,ass,trump,syria,crazy,racist,disgusting,kill,muslims,evil,islam,isis,white"
   ]
  },
  {
   "cell_type": "code",
   "execution_count": 355,
   "metadata": {},
   "outputs": [
    {
     "name": "stdout",
     "output_type": "stream",
     "text": [
      "[23420, 31397, 26065, 66204, 11960, 22420, 62207, 36851, 11517, 61405, 20898, 23420, 72592, 15995, 23791, 2889, 56201, 74150, 46883, 48466, 5668, 83411, 56181, 82055, 63879, 60391, 82452, 15756, 29628, 35583, 10624, 34582, 75741, 45996, 29862, 77215, 2969, 82178, 3398, 50155, 61800, 68003, 44276, 20217, 23521, 36298, 28290, 46845, 36735, 37836, 75740, 28138, 32137, 13025, 2850, 70801, 29591, 497, 13759, 20010, 61633, 3398, 25871, 62888, 16828, 5470, 8991, 71111, 25349, 54352, 47366, 9113, 31397, 51553, 9466, 60278, 1077, 12810, 38591, 23429, 17828, 40780, 45299, 59438, 32311, 39957, 33036, 33199, 57758, 14024, 66243, 55642, 3752, 77170, 67442, 25189, 56177, 16882, 55041, 9593, 8208, 41255, 30144, 37469, 49736, 2711, 16595, 43701, 52547, 44704, 63496, 50657, 66097, 15479, 61482, 76153, 65681, 2804, 8208, 8751, 74019, 36068, 59372, 31687, 79322, 72592, 73566, 21785, 57903, 68591, 19102, 32580, 9248, 17848, 53338, 50004, 73997, 62477, 55999, 3937, 32535, 68798, 1053, 66870, 33618, 61239, 14441, 37603, 81130, 14186, 81172, 44285, 73326, 47678, 20217, 26487, 63512, 38519, 71196, 20522, 51853, 36748, 40654, 53561, 70512, 55642, 16237, 74880, 60391, 17527, 7914, 79584, 6875, 60278, 53338, 47906, 62197, 45899, 28778, 62904, 11397, 4869, 77953, 1848, 75345, 77940, 49330, 40404, 49055, 54717, 28860, 46149, 82128, 31310, 51560, 29180, 15123, 18273, 81499, 71572, 13315, 66522, 4115, 51484, 80854, 6995, 15479, 23907, 8852, 59201, 33496, 6883, 60656, 47678, 44663, 57575, 74423, 48806, 80089, 80089, 14633, 39939, 33946, 41159, 54972, 37603, 2371, 83407, 8365, 68239, 67655, 77953, 37453, 53257, 45880, 75740, 75374, 27235, 40850, 15717, 45990, 35876, 42453, 50137, 25252, 39417, 53393, 7955, 47736, 65064, 51250, 70483, 46883, 79905, 46180, 76816, 57722, 77718, 33036, 45193, 8877, 5322, 3705, 50501, 40404, 47808, 50137, 29217, 51484, 37546, 59689, 62207, 23310, 28804, 55540, 30548, 18767, 27140, 47366, 52575, 562, 80024, 25959, 74975, 1321, 21320, 11614, 27510, 11372, 51393, 55997, 3956, 40936, 50875, 51907, 64093, 27262, 2958, 17527, 49704, 4115, 17848, 82521, 2488, 32590, 72618, 23429, 25959, 57181, 29437, 58802, 30297, 46256, 76158, 27597, 51958, 47585, 46120, 59161, 21798, 63321, 53542, 36009, 29628, 17674, 28946, 34726, 23907, 44159, 7913, 65694, 80558, 32209, 7914, 82039, 7805, 59597, 82128, 79776, 59558, 63082, 76271, 8852, 34726, 81738, 2464, 71507, 63577, 13872, 70678, 61544, 62760, 83319, 51853, 40261, 1601, 35157, 23448, 23137, 63737, 4018, 65898, 59204, 57810, 7327, 24590, 57437, 57435, 50884, 47021, 28534, 52036, 25210, 12923, 25306, 70218, 52226, 40293, 26526, 74280, 73995, 23008, 75386, 56620, 35465, 24004, 7071, 5668, 25804, 3297, 16215, 14645, 2380, 72093, 19179, 66364, 5123, 10054, 56475, 52226, 5102, 22403, 66522, 55075, 63392, 6803, 26847, 36009, 41780, 47152, 47021, 74627, 62143, 30144, 18174, 75003, 72569, 9249, 497, 46725, 53920, 69268, 79375, 68060, 78904, 81372, 81966, 21952, 69616, 54728, 60212, 13721, 36068, 80199, 17980, 58356, 31422, 76153, 37274, 35489, 78591, 57639, 33512, 62014, 65305, 19102, 67287, 41972, 77070, 6022, 4178, 8365, 36450, 47475, 36071, 55041, 42453, 7771, 8854, 45464, 71507, 44925, 24951, 74077, 61713, 30548, 62742, 3469, 67496, 66132, 33199, 7443, 3062, 83433, 28128, 71752, 19294, 74813, 43650, 54272, 55804, 18695, 7539, 44672, 51992, 52334, 3063, 46725, 71977, 55659, 35164, 79664, 58802, 33454, 22344, 13759, 72731, 17489, 10054, 18563]\n"
     ]
    }
   ],
   "source": [
    "print(np.random.choice(np.where(y == 3)[0], 500).tolist())"
   ]
  },
  {
   "cell_type": "code",
   "execution_count": null,
   "metadata": {},
   "outputs": [],
   "source": []
  }
 ],
 "metadata": {
  "kernelspec": {
   "display_name": "Python 2",
   "language": "python",
   "name": "python2"
  },
  "language_info": {
   "codemirror_mode": {
    "name": "ipython",
    "version": 3
   },
   "file_extension": ".py",
   "mimetype": "text/x-python",
   "name": "python",
   "nbconvert_exporter": "python",
   "pygments_lexer": "ipython3",
   "version": "3.6.1"
  }
 },
 "nbformat": 4,
 "nbformat_minor": 1
}
