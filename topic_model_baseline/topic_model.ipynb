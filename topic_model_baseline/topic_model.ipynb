{
 "cells": [
  {
   "cell_type": "code",
   "execution_count": null,
   "metadata": {},
   "outputs": [],
   "source": [
    "import pickle\n",
    "from os import path\n",
    "\n",
    "import numpy as np\n",
    "from sklearn.feature_extraction.text import CountVectorizer\n",
    "from sklearn.metrics import classification_report\n",
    "\n",
    "from utils import read_file, preprocess, stem\n",
    "\n",
    "from lda import guidedlda"
   ]
  },
  {
   "cell_type": "code",
   "execution_count": null,
   "metadata": {},
   "outputs": [],
   "source": [
    "# Load processed data: raw -> cleaning -> stemming\n",
    "processed_datafile = 'processed.pkl'\n",
    "if path.exists(processed_datafile):\n",
    "    with open(processed_datafile, 'rb') as f:\n",
    "        data, y = pickle.load(f)\n",
    "else:\n",
    "    data, y = read_file('../hatespeech', True)\n",
    "    data = [preprocess(text) for text in data]\n",
    "    with open('processed.pkl', 'wb') as f:\n",
    "        pickle.dump((data, y), f)"
   ]
  },
  {
   "cell_type": "code",
   "execution_count": null,
   "metadata": {},
   "outputs": [],
   "source": [
    "# get count features\n",
    "count_vectorizer = CountVectorizer(input='content', encoding='ascii',\n",
    "                                   decode_error='ignore',\n",
    "                                   strip_accents='ascii',\n",
    "                                   stop_words='english', min_df=2)\n",
    "count_weights = count_vectorizer.fit_transform(data)\n",
    "vocabulary = count_vectorizer.vocabulary_\n",
    "word2id = dict((v, idx) for idx, v in enumerate(vocabulary))\n",
    "\n",
    "#Convert dataset to Document Term Matrix\n",
    "TermCountsDoc = count_vectorizer.fit_transform(data)   \n",
    "Terms = np.array(count_vectorizer.vocabulary_.keys())"
   ]
  },
  {
   "cell_type": "code",
   "execution_count": null,
   "metadata": {},
   "outputs": [],
   "source": [
    "#keywords with which to guide the LDA\n",
    "keywords = [ ['time', 'love', 'good', 'great', 'happy'], \n",
    "           ['new', 'free', 'video', 'check', 'win'], \n",
    "           ['fucked', 'bitch', 'pussy', 'ass', 'ugly'], \n",
    "           ['hate', 'racist', 'muslims', 'retarded', 'isis'] ]\n",
    "\n",
    "\n",
    "class_label = 0\n",
    "keyword_indices = {}\n",
    "for i in keywords:\n",
    "    keyword_indices[class_label] = [stem(w) for w in i]\n",
    "    class_label += 1"
   ]
  },
  {
   "cell_type": "code",
   "execution_count": null,
   "metadata": {},
   "outputs": [],
   "source": [
    "#initialize model\n",
    "model = guidedlda.GuidedLDA(n_topics=4, n_iter=50, random_state=7, refresh=20)"
   ]
  },
  {
   "cell_type": "code",
   "execution_count": null,
   "metadata": {},
   "outputs": [],
   "source": [
    "seed_topics = {}\n",
    "for t_id, st in enumerate(keywords):\n",
    "    for word in st:\n",
    "        seed_topics[word2id[word]] = t_id"
   ]
  },
  {
   "cell_type": "code",
   "execution_count": null,
   "metadata": {},
   "outputs": [],
   "source": [
    "#guided lda\n",
    "model.fit(TermCountsDoc, seed_topics=seed_topics, seed_confidence=0.2)\n",
    "\n",
    "#normal lda\n",
    "# model.fit(TermCountsDoc)"
   ]
  },
  {
   "cell_type": "code",
   "execution_count": null,
   "metadata": {},
   "outputs": [],
   "source": [
    "#document topic probability distributions\n",
    "doc_topic = model.transform(TermCountsDoc)"
   ]
  },
  {
   "cell_type": "code",
   "execution_count": null,
   "metadata": {},
   "outputs": [],
   "source": [
    "#assign label with max probability\n",
    "y_pred = np.argmax(doc_topic, axis=1)"
   ]
  },
  {
   "cell_type": "code",
   "execution_count": null,
   "metadata": {},
   "outputs": [],
   "source": [
    "# print classification report\n",
    "print(classification_report(y, y_pred))"
   ]
  }
 ],
 "metadata": {
  "kernelspec": {
   "display_name": "Python 3",
   "language": "python",
   "name": "python3"
  },
  "language_info": {
   "codemirror_mode": {
    "name": "ipython",
    "version": 3
   },
   "file_extension": ".py",
   "mimetype": "text/x-python",
   "name": "python",
   "nbconvert_exporter": "python",
   "pygments_lexer": "ipython3",
   "version": "3.7.3"
  }
 },
 "nbformat": 4,
 "nbformat_minor": 2
}
