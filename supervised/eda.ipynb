{
 "cells": [
  {
   "cell_type": "code",
   "execution_count": 1,
   "metadata": {
    "pycharm": {
     "is_executing": false
    }
   },
   "outputs": [],
   "source": [
    "import pandas as pd\n",
    "import re\n",
    "import spacy\n",
    "import pickle\n",
    "import numpy as np\n",
    "from tqdm import tqdm\n",
    "import matplotlib.pyplot as plt\n",
    "import seaborn as sns\n",
    "from utils import read_file, preprocess, clean_twitter\n",
    "from sklearn.feature_extraction.text import CountVectorizer, TfidfVectorizer\n",
    "from sklearn.model_selection import train_test_split, cross_val_score\n",
    "from sklearn.multiclass import OneVsOneClassifier\n",
    "from sklearn import svm\n",
    "from sklearn.metrics import classification_report\n",
    "from sklearn.ensemble import RandomForestClassifier\n",
    "from sklearn.linear_model import LogisticRegression"
   ]
  },
  {
   "cell_type": "code",
   "execution_count": 2,
   "metadata": {
    "pycharm": {
     "is_executing": false
    }
   },
   "outputs": [],
   "source": [
    "pd.set_option('display.max_colwidth', None)\n",
    "pd.set_option('display.max_rows', 100)"
   ]
  },
  {
   "cell_type": "code",
   "execution_count": 3,
   "metadata": {
    "pycharm": {
     "is_executing": false
    }
   },
   "outputs": [],
   "source": [
    "tqdm.pandas()\n",
    "nlp = spacy.load('en_core_web_sm')"
   ]
  },
  {
   "cell_type": "code",
   "execution_count": 4,
   "metadata": {
    "pycharm": {
     "is_executing": true
    }
   },
   "outputs": [],
   "source": [
    "data, y = read_file('../hatespeech/', with_evaluation=True)"
   ]
  },
  {
   "cell_type": "code",
   "execution_count": 30,
   "metadata": {},
   "outputs": [
    {
     "name": "stdout",
     "output_type": "stream",
     "text": [
      "[48058, 15984, 27078, 9262, 10476, 59194, 11050, 8435, 71826, 42311, 74295, 80900, 50234, 34184, 11280, 3825, 8975, 20993, 64318, 78886, 58129, 58212, 70035, 37040, 28668, 60542, 72269, 50377, 11597, 78921, 47837, 68116, 57939, 14923, 45110, 31936, 64267, 7332, 14810, 27164, 4257, 22539, 17607, 64409, 34879, 7803, 14844, 39743, 4227, 17651, 22747, 62115, 34778, 19213, 75582, 35104, 66251, 55730, 49229, 64050, 62430, 30138, 54800, 52014, 424, 34602, 60449, 72086, 75604, 1138, 29506, 41801, 18458, 45909, 33471, 7796, 51094, 70716, 19936, 34304, 8337, 70614, 5661, 37509, 22731, 81222, 65062, 9793, 61653, 68646, 22308, 10509, 49897, 46742, 46728, 1136, 31604, 61232, 51818, 38044]\n",
      "[5787, 71208, 42154, 6477, 74586, 75785, 72997, 16029, 34300, 1462, 31607, 29264, 35590, 26044, 38740, 54612, 67290, 43532, 39088, 29207, 32810, 32104, 55244, 13683, 35070, 38862, 20115, 13236, 50451, 77892, 59420, 70823, 64874, 1382, 33864, 14408, 34493, 48738, 57317, 35534, 23131, 61594, 39044, 32028, 47879, 48451, 1329, 31261, 62203, 22603, 67322, 43685, 3171, 9049, 1482, 64027, 18125, 22195, 35887, 70050, 17387, 64796, 30218, 62579, 17861, 53660, 46820, 31354, 70852, 44059, 13063, 28058, 37261, 68762, 10943, 26783, 60096, 51081, 44973, 57571, 74371, 36219, 67170, 15866, 51319, 5538, 80461, 3338, 51276, 58947, 56498, 68770, 32777, 1587, 54662, 8461, 41757, 46706, 25438, 43937]\n",
      "[29114, 48399, 63152, 45053, 51798, 83272, 66480, 79703, 64390, 9808, 42436, 42770, 4615, 42083, 70907, 47200, 21179, 50746, 34322, 8280, 51321, 57227, 27622, 73723, 49394, 47029, 38707, 66681, 71351, 15329, 17103, 13047, 31131, 68531, 71070, 37481, 28144, 68999, 47563, 53175, 60960, 7095, 38485, 25607, 33237, 41259, 23338, 76875, 56485, 30068, 11511, 62798, 16417, 58012, 51347, 66484, 77201, 15220, 27737, 8526, 61844, 72247, 597, 32675, 48605, 32602, 73206, 25623, 17694, 28686, 18015, 16662, 47803, 24581, 75431, 19421, 77311, 48480, 73529, 1338, 59096, 7884, 25227, 43802, 40169, 28068, 77436, 35933, 81854, 58717, 43294, 65440, 12725, 19708, 10635, 67105, 71982, 44228, 61210, 30545]\n",
      "[39106, 49959, 7914, 10681, 68609, 80558, 4823, 52200, 2016, 25349, 3419, 5301, 38530, 78682, 5572, 50119, 44997, 66931, 76373, 71420, 55659, 10348, 39917, 49621, 36450, 8487, 74609, 67419, 47630, 72681, 45899, 43785, 40470, 67668, 71373, 81544, 36851, 23144, 30274, 28946, 41819, 45464, 7805, 24590, 8169, 67093, 80768, 33951, 61981, 63843, 52336, 50974, 16871, 61799, 54989, 25132, 76271, 14954, 45335, 5734, 1838, 13142, 4115, 35310, 4866, 23420, 41972, 2728, 1507, 7227, 68381, 65879, 11397, 67274, 57178, 6019, 67250, 82979, 72492, 50155, 77448, 39504, 29217, 44527, 7342, 24951, 70839, 50123, 43877, 65844, 52806, 562, 33324, 44159, 2205, 59597, 72093, 63879, 68214, 63650]\n"
     ]
    }
   ],
   "source": [
    "print(np.random.choice(np.where(y==0)[0], 100, replace=False).tolist())\n",
    "print(np.random.choice(np.where(y==1)[0], 100, replace=False).tolist())\n",
    "print(np.random.choice(np.where(y==2)[0], 100, replace=False).tolist())\n",
    "print(np.random.choice(np.where(y==3)[0], 100, replace=False).tolist())"
   ]
  },
  {
   "cell_type": "code",
   "execution_count": null,
   "metadata": {
    "pycharm": {
     "is_executing": true
    }
   },
   "outputs": [],
   "source": [
    "data = [preprocess(text) for text in data]"
   ]
  },
  {
   "cell_type": "code",
   "execution_count": null,
   "metadata": {
    "pycharm": {
     "is_executing": true
    }
   },
   "outputs": [],
   "source": [
    "x_train, x_test, y_train, y_test = train_test_split(data, y, test_size=0.2)"
   ]
  },
  {
   "cell_type": "code",
   "execution_count": null,
   "metadata": {
    "pycharm": {
     "is_executing": true
    }
   },
   "outputs": [],
   "source": [
    "vectorizer = CountVectorizer(input='content',\n",
    "                             analyzer='word',\n",
    "                             strip_accents='ascii',\n",
    "                             ngram_range=(1,1),\n",
    "                             stop_words='english',\n",
    "                             min_df=2)\n",
    "x = vectorizer.fit_transform(x_train)\n",
    "classifier = OneVsOneClassifier(svm.LinearSVC(class_weight='balanced', C=0.1, max_iter=2000), n_jobs=-1)\n",
    "classifier.fit(x, y_train)\n",
    "y_pred = classifier.predict(x)\n",
    "print(classification_report(y_train, y_pred))\n",
    "print(\"---------------Test metrics------------------------\")\n",
    "x = vectorizer.transform(x_test)\n",
    "y_pred = classifier.predict(x)\n",
    "print(classification_report(y_test, y_pred))"
   ]
  },
  {
   "cell_type": "code",
   "execution_count": null,
   "metadata": {
    "pycharm": {
     "is_executing": true
    }
   },
   "outputs": [],
   "source": [
    "# features = np.array(vectorizer.get_feature_names())\n",
    "# features[np.argsort(classifier.estimators_[0].coef_[0])[::-1][:50]]"
   ]
  },
  {
   "cell_type": "code",
   "execution_count": null,
   "metadata": {
    "pycharm": {
     "is_executing": true
    }
   },
   "outputs": [],
   "source": [
    "vectorizer = TfidfVectorizer(input='content',\n",
    "                             analyzer='word',\n",
    "                             strip_accents='ascii',\n",
    "                             ngram_range=(1,1),\n",
    "                             stop_words='english',\n",
    "                             min_df=2)\n",
    "x = vectorizer.fit_transform(x_train)\n",
    "classifier = OneVsOneClassifier(svm.LinearSVC(class_weight='balanced', C=0.1, max_iter=2000), n_jobs=-1)\n",
    "classifier.fit(x, y_train)\n",
    "y_pred = classifier.predict(x)\n",
    "print(classification_report(y_train, y_pred))\n",
    "print(\"---------------Test metrics------------------------\")\n",
    "x = vectorizer.transform(x_test)\n",
    "y_pred = classifier.predict(x)\n",
    "print(classification_report(y_test, y_pred))"
   ]
  },
  {
   "cell_type": "code",
   "execution_count": null,
   "metadata": {
    "pycharm": {
     "is_executing": true
    }
   },
   "outputs": [],
   "source": [
    "vectorizer = CountVectorizer(input='content',\n",
    "                             analyzer='word',\n",
    "                             strip_accents='ascii',\n",
    "                             ngram_range=(1,1),\n",
    "                             stop_words='english',\n",
    "                             min_df=2)\n",
    "x = vectorizer.fit_transform(x_train)\n",
    "classifier = OneVsOneClassifier(LogisticRegression(class_weight='balanced', C=0.1, max_iter=2000), n_jobs=-1)\n",
    "classifier.fit(x, y_train)\n",
    "y_pred = classifier.predict(x)\n",
    "print(classification_report(y_train, y_pred))\n",
    "print(\"---------------Test metrics------------------------\")\n",
    "x = vectorizer.transform(x_test)\n",
    "y_pred = classifier.predict(x)\n",
    "print(classification_report(y_test, y_pred))"
   ]
  },
  {
   "cell_type": "code",
   "execution_count": null,
   "metadata": {
    "pycharm": {
     "is_executing": true
    }
   },
   "outputs": [],
   "source": [
    "vectorizer = TfidfVectorizer(input='content',\n",
    "                             analyzer='word',\n",
    "                             strip_accents='ascii',\n",
    "                             ngram_range=(1,1),\n",
    "                             stop_words='english',\n",
    "                             min_df=2)\n",
    "x = vectorizer.fit_transform(x_train)\n",
    "classifier = OneVsOneClassifier(LogisticRegression(class_weight='balanced', C=0.1, max_iter=2000), n_jobs=-1)\n",
    "classifier.fit(x, y_train)\n",
    "y_pred = classifier.predict(x)\n",
    "print(classification_report(y_train, y_pred))\n",
    "print(\"---------------Test metrics------------------------\")\n",
    "x = vectorizer.transform(x_test)\n",
    "y_pred = classifier.predict(x)\n",
    "print(classification_report(y_test, y_pred))"
   ]
  },
  {
   "cell_type": "code",
   "execution_count": null,
   "metadata": {
    "pycharm": {
     "is_executing": true
    }
   },
   "outputs": [],
   "source": [
    "vectorizer = CountVectorizer(input='content',\n",
    "                             analyzer='word',\n",
    "                             strip_accents='ascii',\n",
    "                             ngram_range=(1,1),\n",
    "                             stop_words='english',\n",
    "                             min_df=2)\n",
    "x = vectorizer.fit_transform(x_train)\n",
    "classifier = RandomForestClassifier(n_estimators = 100, criterion = 'gini', random_state = 42)\n",
    "classifier.fit(x, y_train)\n",
    "y_pred = classifier.predict(x)\n",
    "print(classification_report(y_train, y_pred))\n",
    "print(\"---------------Test metrics------------------------\")\n",
    "x = vectorizer.transform(x_test)\n",
    "y_pred = classifier.predict(x)\n",
    "print(classification_report(y_test, y_pred))"
   ]
  },
  {
   "cell_type": "code",
   "execution_count": null,
   "metadata": {
    "pycharm": {
     "is_executing": true
    }
   },
   "outputs": [],
   "source": [
    "features = np.array(vectorizer.get_feature_names())\n",
    "features[np.argsort(classifier.feature_importances_)[::-1]][:50]"
   ]
  },
  {
   "cell_type": "code",
   "execution_count": null,
   "metadata": {
    "pycharm": {
     "is_executing": true
    }
   },
   "outputs": [],
   "source": [
    "data, y = read_file('../hatespeech/', with_evaluation=True)\n",
    "data = [clean_twitter(text) for text in data]\n",
    "df = pd.DataFrame(columns=['text', 'label'])\n",
    "df['text'] = data\n",
    "df['label'] = y"
   ]
  },
  {
   "cell_type": "code",
   "execution_count": null,
   "metadata": {
    "pycharm": {
     "is_executing": true
    }
   },
   "outputs": [],
   "source": [
    "df.to_pickle('~/df.pkl')"
   ]
  },
  {
   "cell_type": "code",
   "execution_count": null,
   "metadata": {
    "pycharm": {
     "is_executing": true
    }
   },
   "outputs": [],
   "source": [
    "df_abusive = df[df['label'] == 'abusive']"
   ]
  },
  {
   "cell_type": "code",
   "execution_count": null,
   "metadata": {
    "pycharm": {
     "is_executing": true
    }
   },
   "outputs": [],
   "source": [
    "df_abusive['cleaned'] = df_abusive['text'].apply(lambda x : clean(x))\n",
    "df_abusive['lemmatized'] = df_abusive['cleaned'].apply(lambda x: lemmatize(x))"
   ]
  },
  {
   "cell_type": "code",
   "execution_count": null,
   "metadata": {
    "pycharm": {
     "is_executing": true
    }
   },
   "outputs": [],
   "source": [
    "bow_vectorizer = CountVectorizer(input='content',\n",
    "                                 analyzer='word',\n",
    "                                 strip_accents='ascii',\n",
    "                                 ngram_range=(2,5),\n",
    "                                 stop_words='english',\n",
    "                                 min_df=10)\n",
    "X = bow_vectorizer.fit_transform(df_abusive['lemmatized'])"
   ]
  },
  {
   "cell_type": "code",
   "execution_count": null,
   "metadata": {
    "pycharm": {
     "is_executing": true
    }
   },
   "outputs": [],
   "source": [
    "feature_names = np.array(bow_vectorizer.get_feature_names())\n",
    "feature_names[np.argsort(np.array(X.sum(axis=0))[0])[::-1]][:50].tolist()"
   ]
  },
  {
   "cell_type": "code",
   "execution_count": null,
   "metadata": {
    "pycharm": {
     "is_executing": true
    }
   },
   "outputs": [],
   "source": [
    "tfidf_vectorizer = TfidfVectorizer(input='content',\n",
    "                                   analyzer='word',\n",
    "                                   strip_accents='ascii',\n",
    "                                   ngram_range=(1,3),\n",
    "                                   min_df=5,\n",
    "                                   stop_words='english',\n",
    "                                   use_idf = True)"
   ]
  },
  {
   "cell_type": "code",
   "execution_count": null,
   "metadata": {
    "pycharm": {
     "is_executing": true
    }
   },
   "outputs": [],
   "source": [
    "trainX = tfidf_vectorizer.fit_transform(train_df['lemmatized'])\n",
    "testX = tfidf_vectorizer.transform(test_df['lemmatized'])"
   ]
  },
  {
   "cell_type": "code",
   "execution_count": null,
   "metadata": {
    "pycharm": {
     "is_executing": true
    }
   },
   "outputs": [],
   "source": [
    "features = tfidf_vectorizer.get_feature_names()\n",
    "len(features)"
   ]
  },
  {
   "cell_type": "code",
   "execution_count": null,
   "metadata": {
    "pycharm": {
     "is_executing": true
    }
   },
   "outputs": [],
   "source": [
    "rf_classifier = RandomForestClassifier(n_estimators = 100, criterion = 'gini', random_state = 42) #entropy\n",
    "rf_classifier.fit(trainX, trainY)"
   ]
  },
  {
   "cell_type": "code",
   "execution_count": null,
   "metadata": {
    "pycharm": {
     "is_executing": true
    }
   },
   "outputs": [],
   "source": [
    "predY = rf_classifier.predict(trainX)\n",
    "print(classification_report(trainY, predY))"
   ]
  },
  {
   "cell_type": "code",
   "execution_count": null,
   "metadata": {
    "pycharm": {
     "is_executing": true
    }
   },
   "outputs": [],
   "source": [
    "predY = rf_classifier.predict(testX)\n",
    "print(classification_report(testY, predY))"
   ]
  },
  {
   "cell_type": "code",
   "execution_count": null,
   "metadata": {
    "pycharm": {
     "is_executing": true
    }
   },
   "outputs": [],
   "source": [
    "rf_imps = rf_classifier.feature_importances_\n",
    "sort_ind = np.argsort(rf_imps)\n",
    "top_n = sort_ind[::-1][:100]\n",
    "sorted_imps = rf_imps[top_n]\n",
    "top_feats = np.array(features)[top_n]\n",
    "\n",
    "plt.figure(figsize=(6, 30))\n",
    "plt.xlabel('Relative Importance', fontsize=20)\n",
    "plt.ylabel('Feature', fontsize=20)\n",
    "sns.barplot(y = top_feats, x = sorted_imps)\n",
    "plt.tick_params(labelsize=20)\n",
    "plt.show()"
   ]
  },
  {
   "cell_type": "code",
   "execution_count": null,
   "metadata": {
    "pycharm": {
     "is_executing": true
    }
   },
   "outputs": [],
   "source": [
    "np.array(features)[top_n]"
   ]
  },
  {
   "cell_type": "code",
   "execution_count": null,
   "metadata": {
    "pycharm": {
     "is_executing": true
    }
   },
   "outputs": [],
   "source": [
    "lr_classifier = OneVsOneClassifier(LogisticRegression(class_weight='balanced', C=1, max_iter=7000), n_jobs=-1)\n",
    "lr_classifier.fit(trainX, trainY)"
   ]
  },
  {
   "cell_type": "code",
   "execution_count": null,
   "metadata": {
    "pycharm": {
     "is_executing": true
    }
   },
   "outputs": [],
   "source": [
    "predY = lr_classifier.predict(trainX)\n",
    "print(classification_report(trainY, predY))"
   ]
  },
  {
   "cell_type": "code",
   "execution_count": null,
   "metadata": {
    "pycharm": {
     "is_executing": true
    }
   },
   "outputs": [],
   "source": [
    "predY = lr_classifier.predict(testX)\n",
    "print(classification_report(testY, predY))"
   ]
  }
 ],
 "metadata": {
  "kernelspec": {
   "display_name": "Python 2",
   "language": "python",
   "name": "python2"
  },
  "language_info": {
   "codemirror_mode": {
    "name": "ipython",
    "version": 3
   },
   "file_extension": ".py",
   "mimetype": "text/x-python",
   "name": "python",
   "nbconvert_exporter": "python",
   "pygments_lexer": "ipython3",
   "version": "3.6.1"
  }
 },
 "nbformat": 4,
 "nbformat_minor": 1
}
